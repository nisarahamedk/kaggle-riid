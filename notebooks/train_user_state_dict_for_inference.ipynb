{
  "nbformat": 4,
  "nbformat_minor": 0,
  "metadata": {
    "colab": {
      "name": "riid_tfrecords.ipynb",
      "provenance": [],
      "authorship_tag": "ABX9TyOPQfz274TOgQLN9g42543Z",
      "include_colab_link": true
    },
    "kernelspec": {
      "name": "python3",
      "display_name": "Python 3"
    }
  },
  "cells": [
    {
      "cell_type": "markdown",
      "metadata": {
        "id": "view-in-github",
        "colab_type": "text"
      },
      "source": [
        "<a href=\"https://colab.research.google.com/github/nisarahamedk/kaggle-riid/blob/master/notebooks/train_user_state_dict_for_inference.ipynb\" target=\"_parent\"><img src=\"https://colab.research.google.com/assets/colab-badge.svg\" alt=\"Open In Colab\"/></a>"
      ]
    },
    {
      "cell_type": "code",
      "metadata": {
        "id": "9lORpE-PmPUD"
      },
      "source": [
        "%%capture\n",
        "!pip install gcsfs\n",
        "!pip install kaggle\n",
        "!pip install datatable"
      ],
      "execution_count": 1,
      "outputs": []
    },
    {
      "cell_type": "code",
      "metadata": {
        "colab": {
          "base_uri": "https://localhost:8080/"
        },
        "id": "rGqAnzw7CPVM",
        "outputId": "ad685d7c-8f94-4465-b61e-b56ef6b9418a"
      },
      "source": [
        "from google.colab import drive\n",
        "drive.mount(\"/content/drive\")"
      ],
      "execution_count": 2,
      "outputs": [
        {
          "output_type": "stream",
          "text": [
            "Drive already mounted at /content/drive; to attempt to forcibly remount, call drive.mount(\"/content/drive\", force_remount=True).\n"
          ],
          "name": "stdout"
        }
      ]
    },
    {
      "cell_type": "code",
      "metadata": {
        "id": "eYjY_QlTCSVh"
      },
      "source": [
        "# Copy Kaggle API key\n",
        "!mkdir -p ~/.kaggle && cp /content/drive/My\\ Drive/Projects/Kaggle/api_key/kaggle.json ~/.kaggle/"
      ],
      "execution_count": 3,
      "outputs": []
    },
    {
      "cell_type": "code",
      "metadata": {
        "colab": {
          "base_uri": "https://localhost:8080/"
        },
        "id": "HkFf3M7oCo7U",
        "outputId": "fc6b506a-b749-432a-bd73-0f231f6bb4f8"
      },
      "source": [
        "!kaggle datasets download -d rohanrao/riiid-train-data-multiple-formats"
      ],
      "execution_count": 4,
      "outputs": [
        {
          "output_type": "stream",
          "text": [
            "riiid-train-data-multiple-formats.zip: Skipping, found more recently modified local copy (use --force to force download)\n"
          ],
          "name": "stdout"
        }
      ]
    },
    {
      "cell_type": "code",
      "metadata": {
        "id": "DyLaiKdiFtk7"
      },
      "source": [
        "!unzip riiid-train-data-multiple-formats"
      ],
      "execution_count": null,
      "outputs": []
    },
    {
      "cell_type": "code",
      "metadata": {
        "id": "b_yN4Cx2mTLs"
      },
      "source": [
        "import pickle\n",
        "import math\n",
        "\n",
        "import gcsfs\n",
        "import pandas as pd\n",
        "import numpy as np\n",
        "from tqdm import tqdm, trange\n",
        "import tensorflow as tf\n",
        "from datatable import dt, f, by, count\n",
        "\n",
        "\n",
        "np.random.seed(42)\n",
        "tf.random.set_seed(42)"
      ],
      "execution_count": 1,
      "outputs": []
    },
    {
      "cell_type": "code",
      "metadata": {
        "id": "1JABSd0TI6Ow"
      },
      "source": [
        "table = dt.fread(\"riiid_train.jay\")"
      ],
      "execution_count": 2,
      "outputs": []
    },
    {
      "cell_type": "code",
      "metadata": {
        "colab": {
          "base_uri": "https://localhost:8080/",
          "height": 912
        },
        "id": "boWtiNE8JbII",
        "outputId": "fb237b33-4524-458f-d74d-790d2de0385b"
      },
      "source": [
        "table"
      ],
      "execution_count": 3,
      "outputs": [
        {
          "output_type": "stream",
          "text": [
            "          |    row_id  timestamp     user_id  content_id  content_type_id  task_container_id  user_answer  answered_…  …\n",
            "--------- + ---------  ---------  ----------  ----------  ---------------  -----------------  -----------  ----------   \n",
            "        0 |         0          0         115        5692                0                  1            3           1  …\n",
            "        1 |         1      56943         115        5716                0                  2            2           1  …\n",
            "        2 |         2     118363         115         128                0                  0            0           1  …\n",
            "        3 |         3     131167         115        7860                0                  3            0           1  …\n",
            "        4 |         4     137965         115        7922                0                  4            1           1  …\n",
            "        5 |         5     157063         115         156                0                  5            2           1  …\n",
            "        6 |         6     176092         115          51                0                  6            0           1  …\n",
            "        7 |         7     194190         115          50                0                  7            3           1  …\n",
            "        8 |         8     212463         115        7896                0                  8            2           1  …\n",
            "        9 |         9     230983         115        7863                0                  9            0           1  …\n",
            "       10 |        10     255381         115         152                0                 10            2           0  …\n",
            "       11 |        11     280033         115         104                0                 11            1           0  …\n",
            "       12 |        12     302994         115         108                0                 12            1           0  …\n",
            "       13 |        13     328686         115        7900                0                 13            0           1  …\n",
            "       14 |        14     352686         115        7901                0                 14            1           1  …\n",
            "        … |         …          …           …           …                …                  …            …           …  …\n",
            "101230327 | 101230327  428564420  2147482888        3586                0                 22            0           1  …\n",
            "101230328 | 101230328  428585000  2147482888        6341                0                 23            3           1  …\n",
            "101230329 | 101230329  428613475  2147482888        4212                0                 24            3           1  …\n",
            "101230330 | 101230330  428649406  2147482888        6343                0                 25            1           0  …\n",
            "101230331 | 101230331  428692118  2147482888        7995                0                 26            3           1  …\n",
            "\n",
            "[101230332 rows x 10 columns]\n"
          ],
          "name": "stdout"
        },
        {
          "output_type": "execute_result",
          "data": {
            "text/html": [
              "<div class='datatable'>\n",
              "  <table class='frame'>\n",
              "  <thead>\n",
              "    <tr class='colnames'><td class='row_index'></td><th>row_id</th><th>timestamp</th><th>user_id</th><th>content_id</th><th>content_type_id</th><th>task_container_id</th><th>user_answer</th><th>answered_correctly</th><th>prior_question_elapsed_time</th><th>prior_question_had_explanation</th></tr>\n",
              "    <tr class='coltypes'><td class='row_index'></td><td class='int' title='int32'>&#x25AA;&#x25AA;&#x25AA;&#x25AA;</td><td class='int' title='int64'>&#x25AA;&#x25AA;&#x25AA;&#x25AA;&#x25AA;&#x25AA;&#x25AA;&#x25AA;</td><td class='int' title='int32'>&#x25AA;&#x25AA;&#x25AA;&#x25AA;</td><td class='int' title='int32'>&#x25AA;&#x25AA;&#x25AA;&#x25AA;</td><td class='bool' title='bool8'>&#x25AA;</td><td class='int' title='int32'>&#x25AA;&#x25AA;&#x25AA;&#x25AA;</td><td class='int' title='int32'>&#x25AA;&#x25AA;&#x25AA;&#x25AA;</td><td class='int' title='int32'>&#x25AA;&#x25AA;&#x25AA;&#x25AA;</td><td class='float' title='float64'>&#x25AA;&#x25AA;&#x25AA;&#x25AA;&#x25AA;&#x25AA;&#x25AA;&#x25AA;</td><td class='bool' title='bool8'>&#x25AA;</td></tr>\n",
              "  </thead>\n",
              "  <tbody>\n",
              "    <tr><td class='row_index'>0</td><td>0</td><td>0</td><td>115</td><td>5692</td><td>0</td><td>1</td><td>3</td><td>1</td><td><span class=na>NA</span></td><td><span class=na>NA</span></td></tr>\n",
              "    <tr><td class='row_index'>1</td><td>1</td><td>56943</td><td>115</td><td>5716</td><td>0</td><td>2</td><td>2</td><td>1</td><td>37000</td><td>0</td></tr>\n",
              "    <tr><td class='row_index'>2</td><td>2</td><td>118363</td><td>115</td><td>128</td><td>0</td><td>0</td><td>0</td><td>1</td><td>55000</td><td>0</td></tr>\n",
              "    <tr><td class='row_index'>3</td><td>3</td><td>131167</td><td>115</td><td>7860</td><td>0</td><td>3</td><td>0</td><td>1</td><td>19000</td><td>0</td></tr>\n",
              "    <tr><td class='row_index'>4</td><td>4</td><td>137965</td><td>115</td><td>7922</td><td>0</td><td>4</td><td>1</td><td>1</td><td>11000</td><td>0</td></tr>\n",
              "    <tr><td class='row_index'>5</td><td>5</td><td>157063</td><td>115</td><td>156</td><td>0</td><td>5</td><td>2</td><td>1</td><td>5000</td><td>0</td></tr>\n",
              "    <tr><td class='row_index'>6</td><td>6</td><td>176092</td><td>115</td><td>51</td><td>0</td><td>6</td><td>0</td><td>1</td><td>17000</td><td>0</td></tr>\n",
              "    <tr><td class='row_index'>7</td><td>7</td><td>194190</td><td>115</td><td>50</td><td>0</td><td>7</td><td>3</td><td>1</td><td>17000</td><td>0</td></tr>\n",
              "    <tr><td class='row_index'>8</td><td>8</td><td>212463</td><td>115</td><td>7896</td><td>0</td><td>8</td><td>2</td><td>1</td><td>16000</td><td>0</td></tr>\n",
              "    <tr><td class='row_index'>9</td><td>9</td><td>230983</td><td>115</td><td>7863</td><td>0</td><td>9</td><td>0</td><td>1</td><td>16000</td><td>0</td></tr>\n",
              "    <tr><td class='row_index'>10</td><td>10</td><td>255381</td><td>115</td><td>152</td><td>0</td><td>10</td><td>2</td><td>0</td><td>17000</td><td>0</td></tr>\n",
              "    <tr><td class='row_index'>11</td><td>11</td><td>280033</td><td>115</td><td>104</td><td>0</td><td>11</td><td>1</td><td>0</td><td>22000</td><td>0</td></tr>\n",
              "    <tr><td class='row_index'>12</td><td>12</td><td>302994</td><td>115</td><td>108</td><td>0</td><td>12</td><td>1</td><td>0</td><td>23000</td><td>0</td></tr>\n",
              "    <tr><td class='row_index'>13</td><td>13</td><td>328686</td><td>115</td><td>7900</td><td>0</td><td>13</td><td>0</td><td>1</td><td>21000</td><td>0</td></tr>\n",
              "    <tr><td class='row_index'>14</td><td>14</td><td>352686</td><td>115</td><td>7901</td><td>0</td><td>14</td><td>1</td><td>1</td><td>24000</td><td>0</td></tr>\n",
              "    <tr><td class='row_index'>&#x22EE;</td><td class='hellipsis'>&#x22EE;</td><td class='hellipsis'>&#x22EE;</td><td class='hellipsis'>&#x22EE;</td><td class='hellipsis'>&#x22EE;</td><td class='hellipsis'>&#x22EE;</td><td class='hellipsis'>&#x22EE;</td><td class='hellipsis'>&#x22EE;</td><td class='hellipsis'>&#x22EE;</td><td class='hellipsis'>&#x22EE;</td><td class='hellipsis'>&#x22EE;</td></tr>\n",
              "    <tr><td class='row_index'>101,230,327</td><td>101230327</td><td>428564420</td><td>2147482888</td><td>3586</td><td>0</td><td>22</td><td>0</td><td>1</td><td>18000</td><td>1</td></tr>\n",
              "    <tr><td class='row_index'>101,230,328</td><td>101230328</td><td>428585000</td><td>2147482888</td><td>6341</td><td>0</td><td>23</td><td>3</td><td>1</td><td>14000</td><td>1</td></tr>\n",
              "    <tr><td class='row_index'>101,230,329</td><td>101230329</td><td>428613475</td><td>2147482888</td><td>4212</td><td>0</td><td>24</td><td>3</td><td>1</td><td>14000</td><td>1</td></tr>\n",
              "    <tr><td class='row_index'>101,230,330</td><td>101230330</td><td>428649406</td><td>2147482888</td><td>6343</td><td>0</td><td>25</td><td>1</td><td>0</td><td>22000</td><td>1</td></tr>\n",
              "    <tr><td class='row_index'>101,230,331</td><td>101230331</td><td>428692118</td><td>2147482888</td><td>7995</td><td>0</td><td>26</td><td>3</td><td>1</td><td>29000</td><td>1</td></tr>\n",
              "  </tbody>\n",
              "  </table>\n",
              "  <div class='footer'>\n",
              "    <div class='frame_dimensions'>101,230,332 rows &times; 10 columns</div>\n",
              "  </div>\n",
              "</div>\n"
            ],
            "text/plain": [
              ""
            ]
          },
          "metadata": {
            "tags": []
          },
          "execution_count": 3
        }
      ]
    },
    {
      "cell_type": "code",
      "metadata": {
        "id": "w0xRSqEhuU_B"
      },
      "source": [
        "user_table = table[-127:, :, by(\"user_id\")] # last 127 rows of all the user ids"
      ],
      "execution_count": 4,
      "outputs": []
    },
    {
      "cell_type": "code",
      "metadata": {
        "id": "GyfN3-7zujXS",
        "outputId": "67513961-bc49-44e7-8181-ae78173c04d7",
        "colab": {
          "base_uri": "https://localhost:8080/",
          "height": 912
        }
      },
      "source": [
        "user_table"
      ],
      "execution_count": 5,
      "outputs": [
        {
          "output_type": "stream",
          "text": [
            "         |    user_id     row_id  timestamp  content_id  content_type_id  task_container_id  user_answer  answered_c…  …\n",
            "-------- + ----------  ---------  ---------  ----------  ---------------  -----------------  -----------  -----------   \n",
            "       0 |        115          0          0        5692                0                  1            3            1  …\n",
            "       1 |        115          1      56943        5716                0                  2            2            1  …\n",
            "       2 |        115          2     118363         128                0                  0            0            1  …\n",
            "       3 |        115          3     131167        7860                0                  3            0            1  …\n",
            "       4 |        115          4     137965        7922                0                  4            1            1  …\n",
            "       5 |        115          5     157063         156                0                  5            2            1  …\n",
            "       6 |        115          6     176092          51                0                  6            0            1  …\n",
            "       7 |        115          7     194190          50                0                  7            3            1  …\n",
            "       8 |        115          8     212463        7896                0                  8            2            1  …\n",
            "       9 |        115          9     230983        7863                0                  9            0            1  …\n",
            "      10 |        115         10     255381         152                0                 10            2            0  …\n",
            "      11 |        115         11     280033         104                0                 11            1            0  …\n",
            "      12 |        115         12     302994         108                0                 12            1            0  …\n",
            "      13 |        115         13     328686        7900                0                 13            0            1  …\n",
            "      14 |        115         14     352686        7901                0                 14            1            1  …\n",
            "       … |          …          …          …           …                …                  …            …            …  …\n",
            "25301563 | 2147482888  101230327  428564420        3586                0                 22            0            1  …\n",
            "25301564 | 2147482888  101230328  428585000        6341                0                 23            3            1  …\n",
            "25301565 | 2147482888  101230329  428613475        4212                0                 24            3            1  …\n",
            "25301566 | 2147482888  101230330  428649406        6343                0                 25            1            0  …\n",
            "25301567 | 2147482888  101230331  428692118        7995                0                 26            3            1  …\n",
            "\n",
            "[25301568 rows x 10 columns]\n"
          ],
          "name": "stdout"
        },
        {
          "output_type": "execute_result",
          "data": {
            "text/html": [
              "<div class='datatable'>\n",
              "  <table class='frame'>\n",
              "  <thead>\n",
              "    <tr class='colnames'><td class='row_index'></td><th>user_id</th><th>row_id</th><th>timestamp</th><th>content_id</th><th>content_type_id</th><th>task_container_id</th><th>user_answer</th><th>answered_correctly</th><th>prior_question_elapsed_time</th><th>prior_question_had_explanation</th></tr>\n",
              "    <tr class='coltypes'><td class='row_index'></td><td class='int' title='int32'>&#x25AA;&#x25AA;&#x25AA;&#x25AA;</td><td class='int' title='int32'>&#x25AA;&#x25AA;&#x25AA;&#x25AA;</td><td class='int' title='int64'>&#x25AA;&#x25AA;&#x25AA;&#x25AA;&#x25AA;&#x25AA;&#x25AA;&#x25AA;</td><td class='int' title='int32'>&#x25AA;&#x25AA;&#x25AA;&#x25AA;</td><td class='bool' title='bool8'>&#x25AA;</td><td class='int' title='int32'>&#x25AA;&#x25AA;&#x25AA;&#x25AA;</td><td class='int' title='int32'>&#x25AA;&#x25AA;&#x25AA;&#x25AA;</td><td class='int' title='int32'>&#x25AA;&#x25AA;&#x25AA;&#x25AA;</td><td class='float' title='float64'>&#x25AA;&#x25AA;&#x25AA;&#x25AA;&#x25AA;&#x25AA;&#x25AA;&#x25AA;</td><td class='bool' title='bool8'>&#x25AA;</td></tr>\n",
              "  </thead>\n",
              "  <tbody>\n",
              "    <tr><td class='row_index'>0</td><td>115</td><td>0</td><td>0</td><td>5692</td><td>0</td><td>1</td><td>3</td><td>1</td><td><span class=na>NA</span></td><td><span class=na>NA</span></td></tr>\n",
              "    <tr><td class='row_index'>1</td><td>115</td><td>1</td><td>56943</td><td>5716</td><td>0</td><td>2</td><td>2</td><td>1</td><td>37000</td><td>0</td></tr>\n",
              "    <tr><td class='row_index'>2</td><td>115</td><td>2</td><td>118363</td><td>128</td><td>0</td><td>0</td><td>0</td><td>1</td><td>55000</td><td>0</td></tr>\n",
              "    <tr><td class='row_index'>3</td><td>115</td><td>3</td><td>131167</td><td>7860</td><td>0</td><td>3</td><td>0</td><td>1</td><td>19000</td><td>0</td></tr>\n",
              "    <tr><td class='row_index'>4</td><td>115</td><td>4</td><td>137965</td><td>7922</td><td>0</td><td>4</td><td>1</td><td>1</td><td>11000</td><td>0</td></tr>\n",
              "    <tr><td class='row_index'>5</td><td>115</td><td>5</td><td>157063</td><td>156</td><td>0</td><td>5</td><td>2</td><td>1</td><td>5000</td><td>0</td></tr>\n",
              "    <tr><td class='row_index'>6</td><td>115</td><td>6</td><td>176092</td><td>51</td><td>0</td><td>6</td><td>0</td><td>1</td><td>17000</td><td>0</td></tr>\n",
              "    <tr><td class='row_index'>7</td><td>115</td><td>7</td><td>194190</td><td>50</td><td>0</td><td>7</td><td>3</td><td>1</td><td>17000</td><td>0</td></tr>\n",
              "    <tr><td class='row_index'>8</td><td>115</td><td>8</td><td>212463</td><td>7896</td><td>0</td><td>8</td><td>2</td><td>1</td><td>16000</td><td>0</td></tr>\n",
              "    <tr><td class='row_index'>9</td><td>115</td><td>9</td><td>230983</td><td>7863</td><td>0</td><td>9</td><td>0</td><td>1</td><td>16000</td><td>0</td></tr>\n",
              "    <tr><td class='row_index'>10</td><td>115</td><td>10</td><td>255381</td><td>152</td><td>0</td><td>10</td><td>2</td><td>0</td><td>17000</td><td>0</td></tr>\n",
              "    <tr><td class='row_index'>11</td><td>115</td><td>11</td><td>280033</td><td>104</td><td>0</td><td>11</td><td>1</td><td>0</td><td>22000</td><td>0</td></tr>\n",
              "    <tr><td class='row_index'>12</td><td>115</td><td>12</td><td>302994</td><td>108</td><td>0</td><td>12</td><td>1</td><td>0</td><td>23000</td><td>0</td></tr>\n",
              "    <tr><td class='row_index'>13</td><td>115</td><td>13</td><td>328686</td><td>7900</td><td>0</td><td>13</td><td>0</td><td>1</td><td>21000</td><td>0</td></tr>\n",
              "    <tr><td class='row_index'>14</td><td>115</td><td>14</td><td>352686</td><td>7901</td><td>0</td><td>14</td><td>1</td><td>1</td><td>24000</td><td>0</td></tr>\n",
              "    <tr><td class='row_index'>&#x22EE;</td><td class='hellipsis'>&#x22EE;</td><td class='hellipsis'>&#x22EE;</td><td class='hellipsis'>&#x22EE;</td><td class='hellipsis'>&#x22EE;</td><td class='hellipsis'>&#x22EE;</td><td class='hellipsis'>&#x22EE;</td><td class='hellipsis'>&#x22EE;</td><td class='hellipsis'>&#x22EE;</td><td class='hellipsis'>&#x22EE;</td><td class='hellipsis'>&#x22EE;</td></tr>\n",
              "    <tr><td class='row_index'>25,301,563</td><td>2147482888</td><td>101230327</td><td>428564420</td><td>3586</td><td>0</td><td>22</td><td>0</td><td>1</td><td>18000</td><td>1</td></tr>\n",
              "    <tr><td class='row_index'>25,301,564</td><td>2147482888</td><td>101230328</td><td>428585000</td><td>6341</td><td>0</td><td>23</td><td>3</td><td>1</td><td>14000</td><td>1</td></tr>\n",
              "    <tr><td class='row_index'>25,301,565</td><td>2147482888</td><td>101230329</td><td>428613475</td><td>4212</td><td>0</td><td>24</td><td>3</td><td>1</td><td>14000</td><td>1</td></tr>\n",
              "    <tr><td class='row_index'>25,301,566</td><td>2147482888</td><td>101230330</td><td>428649406</td><td>6343</td><td>0</td><td>25</td><td>1</td><td>0</td><td>22000</td><td>1</td></tr>\n",
              "    <tr><td class='row_index'>25,301,567</td><td>2147482888</td><td>101230331</td><td>428692118</td><td>7995</td><td>0</td><td>26</td><td>3</td><td>1</td><td>29000</td><td>1</td></tr>\n",
              "  </tbody>\n",
              "  </table>\n",
              "  <div class='footer'>\n",
              "    <div class='frame_dimensions'>25,301,568 rows &times; 10 columns</div>\n",
              "  </div>\n",
              "</div>\n"
            ],
            "text/plain": [
              ""
            ]
          },
          "metadata": {
            "tags": []
          },
          "execution_count": 5
        }
      ]
    },
    {
      "cell_type": "code",
      "metadata": {
        "id": "pLMp-Q_7pe5J"
      },
      "source": [
        "dtypes_train = {\r\n",
        "    'row_id': 'int64',\r\n",
        "    'timestamp': 'int64',\r\n",
        "    'user_id': 'int32',\r\n",
        "    'content_id': 'int16',\r\n",
        "    'content_type_id': 'int8',\r\n",
        "    'task_container_id': 'int16',\r\n",
        "    'user_answer': 'int8',\r\n",
        "    'answered_correctly': 'int8',\r\n",
        "    'prior_question_elapsed_time': 'float32',\r\n",
        "    'prior_question_had_explanation': 'boolean'\r\n",
        "    }\r\n",
        "\r\n",
        "dtypes_questions = {\r\n",
        "    \"question_id\": \"\",\r\n",
        "    \"bundle_id\": \"\",\r\n",
        "    \"correct_answer\": \"\",\r\n",
        "    \"part\": \"int16\",\r\n",
        "    \"tags\": \"\",\r\n",
        "}\r\n",
        "\r\n",
        "dtypes_lectures = {\r\n",
        "    \"lecture_id\": \"\",\r\n",
        "    \"part\": \"\",\r\n",
        "    \"tag\": \"\",\r\n",
        "    \"type_of\": \"\",\r\n",
        "}"
      ],
      "execution_count": 6,
      "outputs": []
    },
    {
      "cell_type": "code",
      "metadata": {
        "colab": {
          "base_uri": "https://localhost:8080/",
          "height": 197
        },
        "id": "XYfhG8TD7WcO",
        "outputId": "a3667d71-3b7a-4c84-df27-aa11798c5f24"
      },
      "source": [
        "# convert to pandas DF required cols\n",
        "train_df = user_table[f.content_type_id==0, [f.user_id, f.content_id, f.task_container_id, f.prior_question_elapsed_time, f.answered_correctly]].to_pandas()\n",
        "train_df.head()"
      ],
      "execution_count": 7,
      "outputs": [
        {
          "output_type": "execute_result",
          "data": {
            "text/html": [
              "<div>\n",
              "<style scoped>\n",
              "    .dataframe tbody tr th:only-of-type {\n",
              "        vertical-align: middle;\n",
              "    }\n",
              "\n",
              "    .dataframe tbody tr th {\n",
              "        vertical-align: top;\n",
              "    }\n",
              "\n",
              "    .dataframe thead th {\n",
              "        text-align: right;\n",
              "    }\n",
              "</style>\n",
              "<table border=\"1\" class=\"dataframe\">\n",
              "  <thead>\n",
              "    <tr style=\"text-align: right;\">\n",
              "      <th></th>\n",
              "      <th>user_id</th>\n",
              "      <th>content_id</th>\n",
              "      <th>task_container_id</th>\n",
              "      <th>prior_question_elapsed_time</th>\n",
              "      <th>answered_correctly</th>\n",
              "    </tr>\n",
              "  </thead>\n",
              "  <tbody>\n",
              "    <tr>\n",
              "      <th>0</th>\n",
              "      <td>115</td>\n",
              "      <td>5692</td>\n",
              "      <td>1</td>\n",
              "      <td>NaN</td>\n",
              "      <td>1</td>\n",
              "    </tr>\n",
              "    <tr>\n",
              "      <th>1</th>\n",
              "      <td>115</td>\n",
              "      <td>5716</td>\n",
              "      <td>2</td>\n",
              "      <td>37000.0</td>\n",
              "      <td>1</td>\n",
              "    </tr>\n",
              "    <tr>\n",
              "      <th>2</th>\n",
              "      <td>115</td>\n",
              "      <td>128</td>\n",
              "      <td>0</td>\n",
              "      <td>55000.0</td>\n",
              "      <td>1</td>\n",
              "    </tr>\n",
              "    <tr>\n",
              "      <th>3</th>\n",
              "      <td>115</td>\n",
              "      <td>7860</td>\n",
              "      <td>3</td>\n",
              "      <td>19000.0</td>\n",
              "      <td>1</td>\n",
              "    </tr>\n",
              "    <tr>\n",
              "      <th>4</th>\n",
              "      <td>115</td>\n",
              "      <td>7922</td>\n",
              "      <td>4</td>\n",
              "      <td>11000.0</td>\n",
              "      <td>1</td>\n",
              "    </tr>\n",
              "  </tbody>\n",
              "</table>\n",
              "</div>"
            ],
            "text/plain": [
              "   user_id  content_id  ...  prior_question_elapsed_time  answered_correctly\n",
              "0      115        5692  ...                          NaN                   1\n",
              "1      115        5716  ...                      37000.0                   1\n",
              "2      115         128  ...                      55000.0                   1\n",
              "3      115        7860  ...                      19000.0                   1\n",
              "4      115        7922  ...                      11000.0                   1\n",
              "\n",
              "[5 rows x 5 columns]"
            ]
          },
          "metadata": {
            "tags": []
          },
          "execution_count": 7
        }
      ]
    },
    {
      "cell_type": "code",
      "metadata": {
        "colab": {
          "base_uri": "https://localhost:8080/",
          "height": 227
        },
        "id": "6NKlVKzxg5pz",
        "outputId": "8b1450b3-ea2a-4fc5-8300-2a740f8ae154"
      },
      "source": [
        "DATA_PATH = 'gs://kds-7cd35ed419a621f754ec32f0c3616d2e9282a698c5eeaabc814bd7f6'\n",
        "questions_df = pd.read_csv(DATA_PATH + \"/questions.csv\", usecols=[0,3], index_col=\"question_id\")\n",
        "questions_df.head()"
      ],
      "execution_count": 8,
      "outputs": [
        {
          "output_type": "execute_result",
          "data": {
            "text/html": [
              "<div>\n",
              "<style scoped>\n",
              "    .dataframe tbody tr th:only-of-type {\n",
              "        vertical-align: middle;\n",
              "    }\n",
              "\n",
              "    .dataframe tbody tr th {\n",
              "        vertical-align: top;\n",
              "    }\n",
              "\n",
              "    .dataframe thead th {\n",
              "        text-align: right;\n",
              "    }\n",
              "</style>\n",
              "<table border=\"1\" class=\"dataframe\">\n",
              "  <thead>\n",
              "    <tr style=\"text-align: right;\">\n",
              "      <th></th>\n",
              "      <th>part</th>\n",
              "    </tr>\n",
              "    <tr>\n",
              "      <th>question_id</th>\n",
              "      <th></th>\n",
              "    </tr>\n",
              "  </thead>\n",
              "  <tbody>\n",
              "    <tr>\n",
              "      <th>0</th>\n",
              "      <td>1</td>\n",
              "    </tr>\n",
              "    <tr>\n",
              "      <th>1</th>\n",
              "      <td>1</td>\n",
              "    </tr>\n",
              "    <tr>\n",
              "      <th>2</th>\n",
              "      <td>1</td>\n",
              "    </tr>\n",
              "    <tr>\n",
              "      <th>3</th>\n",
              "      <td>1</td>\n",
              "    </tr>\n",
              "    <tr>\n",
              "      <th>4</th>\n",
              "      <td>1</td>\n",
              "    </tr>\n",
              "  </tbody>\n",
              "</table>\n",
              "</div>"
            ],
            "text/plain": [
              "             part\n",
              "question_id      \n",
              "0               1\n",
              "1               1\n",
              "2               1\n",
              "3               1\n",
              "4               1"
            ]
          },
          "metadata": {
            "tags": []
          },
          "execution_count": 8
        }
      ]
    },
    {
      "cell_type": "code",
      "metadata": {
        "id": "4KCnuUL98uGO"
      },
      "source": [
        "# join question for feaures\r\n",
        "train_df = train_df.join(questions_df, on=\"content_id\")"
      ],
      "execution_count": 9,
      "outputs": []
    },
    {
      "cell_type": "code",
      "metadata": {
        "id": "HCg8ZmSCUKxw"
      },
      "source": [
        "# 0 used for padding so increment all indicator cols\n",
        "indicator_cols = [\"content_id\", \"task_container_id\", \"part\", \"answered_correctly\"]\n",
        "for c in indicator_cols:\n",
        "    train_df[c] = train_df[c] + 1"
      ],
      "execution_count": 10,
      "outputs": []
    },
    {
      "cell_type": "code",
      "metadata": {
        "id": "D-mt96ePQIrK"
      },
      "source": [
        "# fillna and convert milliseconds to minutes.\r\n",
        "train_df['prior_question_elapsed_time'] = train_df[\"prior_question_elapsed_time\"].fillna(0).astype(np.float32) / 60000"
      ],
      "execution_count": 11,
      "outputs": []
    },
    {
      "cell_type": "code",
      "metadata": {
        "colab": {
          "base_uri": "https://localhost:8080/",
          "height": 197
        },
        "id": "j47BLle2rFbn",
        "outputId": "29a745b0-9bf6-41f8-f50d-706bcd3a4ba5"
      },
      "source": [
        "train_df = train_df[[\"user_id\", \"content_id\",\"task_container_id\",\"prior_question_elapsed_time\", \"part\", \"answered_correctly\"]].copy()\r\n",
        "train_df.head()"
      ],
      "execution_count": 12,
      "outputs": [
        {
          "output_type": "execute_result",
          "data": {
            "text/html": [
              "<div>\n",
              "<style scoped>\n",
              "    .dataframe tbody tr th:only-of-type {\n",
              "        vertical-align: middle;\n",
              "    }\n",
              "\n",
              "    .dataframe tbody tr th {\n",
              "        vertical-align: top;\n",
              "    }\n",
              "\n",
              "    .dataframe thead th {\n",
              "        text-align: right;\n",
              "    }\n",
              "</style>\n",
              "<table border=\"1\" class=\"dataframe\">\n",
              "  <thead>\n",
              "    <tr style=\"text-align: right;\">\n",
              "      <th></th>\n",
              "      <th>user_id</th>\n",
              "      <th>content_id</th>\n",
              "      <th>task_container_id</th>\n",
              "      <th>prior_question_elapsed_time</th>\n",
              "      <th>part</th>\n",
              "      <th>answered_correctly</th>\n",
              "    </tr>\n",
              "  </thead>\n",
              "  <tbody>\n",
              "    <tr>\n",
              "      <th>0</th>\n",
              "      <td>115</td>\n",
              "      <td>5693</td>\n",
              "      <td>2</td>\n",
              "      <td>0.000000</td>\n",
              "      <td>6</td>\n",
              "      <td>2</td>\n",
              "    </tr>\n",
              "    <tr>\n",
              "      <th>1</th>\n",
              "      <td>115</td>\n",
              "      <td>5717</td>\n",
              "      <td>3</td>\n",
              "      <td>0.616667</td>\n",
              "      <td>6</td>\n",
              "      <td>2</td>\n",
              "    </tr>\n",
              "    <tr>\n",
              "      <th>2</th>\n",
              "      <td>115</td>\n",
              "      <td>129</td>\n",
              "      <td>1</td>\n",
              "      <td>0.916667</td>\n",
              "      <td>2</td>\n",
              "      <td>2</td>\n",
              "    </tr>\n",
              "    <tr>\n",
              "      <th>3</th>\n",
              "      <td>115</td>\n",
              "      <td>7861</td>\n",
              "      <td>4</td>\n",
              "      <td>0.316667</td>\n",
              "      <td>2</td>\n",
              "      <td>2</td>\n",
              "    </tr>\n",
              "    <tr>\n",
              "      <th>4</th>\n",
              "      <td>115</td>\n",
              "      <td>7923</td>\n",
              "      <td>5</td>\n",
              "      <td>0.183333</td>\n",
              "      <td>2</td>\n",
              "      <td>2</td>\n",
              "    </tr>\n",
              "  </tbody>\n",
              "</table>\n",
              "</div>"
            ],
            "text/plain": [
              "   user_id  content_id  ...  part  answered_correctly\n",
              "0      115        5693  ...     6                   2\n",
              "1      115        5717  ...     6                   2\n",
              "2      115         129  ...     2                   2\n",
              "3      115        7861  ...     2                   2\n",
              "4      115        7923  ...     2                   2\n",
              "\n",
              "[5 rows x 6 columns]"
            ]
          },
          "metadata": {
            "tags": []
          },
          "execution_count": 12
        }
      ]
    },
    {
      "cell_type": "code",
      "metadata": {
        "id": "eIm1pG-0riwS"
      },
      "source": [
        "user_groups = train_df.groupby(\"user_id\").apply(\r\n",
        "                lambda row: row.values[:, 1:] # exclude user_id\r\n",
        "            )"
      ],
      "execution_count": 13,
      "outputs": []
    },
    {
      "cell_type": "code",
      "metadata": {
        "colab": {
          "base_uri": "https://localhost:8080/"
        },
        "id": "lQMdfVE4sqqb",
        "outputId": "c81fb012-7a22-472a-c999-4253d7066f99"
      },
      "source": [
        "user_groups.head()"
      ],
      "execution_count": 14,
      "outputs": [
        {
          "output_type": "execute_result",
          "data": {
            "text/plain": [
              "user_id\n",
              "115     [[5693.0, 2.0, 0.0, 6.0, 2.0], [5717.0, 3.0, 0...\n",
              "124     [[7901.0, 1.0, 0.0, 2.0, 2.0], [7877.0, 2.0, 0...\n",
              "2746    [[5274.0, 1.0, 0.0, 6.0, 1.0], [759.0, 2.0, 0....\n",
              "5382    [[3945.0, 2.0, 0.4000000059604645, 6.0, 1.0], ...\n",
              "8623    [[3916.0, 1.0, 0.0, 6.0, 2.0], [4751.0, 2.0, 0...\n",
              "dtype: object"
            ]
          },
          "metadata": {
            "tags": []
          },
          "execution_count": 14
        }
      ]
    },
    {
      "cell_type": "code",
      "metadata": {
        "id": "HqWgp5_swYXn"
      },
      "source": [
        "user_groups_dict = user_groups.to_dict()"
      ],
      "execution_count": 15,
      "outputs": []
    },
    {
      "cell_type": "code",
      "metadata": {
        "id": "tKINq06PwkD1",
        "outputId": "5f521a78-e2ab-4fdb-a960-e3e6b5416cdc",
        "colab": {
          "base_uri": "https://localhost:8080/"
        }
      },
      "source": [
        "max_seq_len, c = 0, 0\r\n",
        "for k, v in user_groups_dict.items():\r\n",
        "  if v.shape[0] == 127:\r\n",
        "    c += 1\r\n",
        "  max_seq_len = max(max_seq_len, v.shape[0])\r\n",
        "\r\n",
        "max_seq_len, c"
      ],
      "execution_count": 16,
      "outputs": [
        {
          "output_type": "execute_result",
          "data": {
            "text/plain": [
              "(127, 30349)"
            ]
          },
          "metadata": {
            "tags": []
          },
          "execution_count": 16
        }
      ]
    },
    {
      "cell_type": "code",
      "metadata": {
        "id": "Hv5i1DIEx8MV",
        "outputId": "3947333b-e3ef-44a0-a8a6-96fca3126fbc",
        "colab": {
          "base_uri": "https://localhost:8080/"
        }
      },
      "source": [
        "import pickle\r\n",
        "!mkdir data\r\n",
        "with open(\"data/state_dict.pkl\", \"wb\") as f:\r\n",
        "  pickle.dump(user_groups_dict, f)"
      ],
      "execution_count": 18,
      "outputs": [
        {
          "output_type": "stream",
          "text": [
            "mkdir: cannot create directory ‘data’: File exists\n"
          ],
          "name": "stdout"
        }
      ]
    },
    {
      "cell_type": "code",
      "metadata": {
        "id": "oC5XV-mHztwe",
        "outputId": "367fef0c-2c4b-4eda-d3a0-b878c65bd58f",
        "colab": {
          "base_uri": "https://localhost:8080/"
        }
      },
      "source": [
        "\r\n",
        "state_dict = {}\r\n",
        "\r\n",
        "with open(\"data/state_dict.pkl\", \"rb\") as f:\r\n",
        "  state_dict = pickle.load(f)\r\n",
        "\r\n",
        "state_dict[115].shape"
      ],
      "execution_count": 20,
      "outputs": [
        {
          "output_type": "execute_result",
          "data": {
            "text/plain": [
              "(46, 5)"
            ]
          },
          "metadata": {
            "tags": []
          },
          "execution_count": 20
        }
      ]
    },
    {
      "cell_type": "markdown",
      "metadata": {
        "id": "0uHMmU6x0CaT"
      },
      "source": [
        "#### Upload to Kaggle"
      ]
    },
    {
      "cell_type": "code",
      "metadata": {
        "id": "4Fyd0upt0jCt",
        "outputId": "d044dea3-6791-4960-f9ae-4e2455383f16",
        "colab": {
          "base_uri": "https://localhost:8080/"
        }
      },
      "source": [
        "!kaggle datasets init -p data/"
      ],
      "execution_count": 21,
      "outputs": [
        {
          "output_type": "stream",
          "text": [
            "Data package template written to: data/dataset-metadata.json\n"
          ],
          "name": "stdout"
        }
      ]
    },
    {
      "cell_type": "code",
      "metadata": {
        "id": "KWhB_Gvi0jdc"
      },
      "source": [
        "\r\n",
        "# id and title only alphanumeric and \"-\"\r\n",
        "meta = \"\"\"\r\n",
        "{\r\n",
        "  \"licenses\": [\r\n",
        "    {\r\n",
        "      \"name\": \"CC0-1.0\"\r\n",
        "    }\r\n",
        "  ], \r\n",
        "  \"id\": \"nisarahamedk/riid-state-dict-0-1\",\r\n",
        "  \"title\": \"riid-state-dict-0-1\"\r\n",
        "}\r\n",
        "\"\"\"\r\n",
        "with open(\"data/dataset-metadata.json\", \"w\") as f:\r\n",
        "  f.write(meta)"
      ],
      "execution_count": 22,
      "outputs": []
    },
    {
      "cell_type": "code",
      "metadata": {
        "id": "ctk8HZZ20vKc",
        "outputId": "c121c330-1956-4488-9fa3-17a7192851df",
        "colab": {
          "base_uri": "https://localhost:8080/"
        }
      },
      "source": [
        "# create\r\n",
        "!kaggle datasets create -p data/ --dir-mode tar -u"
      ],
      "execution_count": 23,
      "outputs": [
        {
          "output_type": "stream",
          "text": [
            "Starting upload for file state_dict.pkl\n",
            "Warning: Looks like you're using an outdated API Version, please consider updating (server 1.5.10 / client 1.5.4)\n",
            "100% 974M/974M [00:14<00:00, 70.9MB/s]\n",
            "Upload successful: state_dict.pkl (974MB)\n",
            "Your public Dataset is being created. Please check progress at https://www.kaggle.com/nisarahamedk/riid-state-dict-0-1\n"
          ],
          "name": "stdout"
        }
      ]
    },
    {
      "cell_type": "code",
      "metadata": {
        "id": "l7KQXHtq0yjt"
      },
      "source": [
        ""
      ],
      "execution_count": null,
      "outputs": []
    }
  ]
}