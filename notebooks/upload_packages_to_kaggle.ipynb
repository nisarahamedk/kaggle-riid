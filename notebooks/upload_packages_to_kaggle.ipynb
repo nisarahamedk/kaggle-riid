{
 "cells": [
  {
   "cell_type": "markdown",
   "metadata": {},
   "source": [
    "### Upload packages to kaggle\n",
    "\n",
    "\n",
    "DO THIS FROM A KAGGLE KERNEL ITSELF. BECAUSE THE PACKAGE DOWNLOADED NEEDS TO MATCH THE PYTHON INTERPRETER OF THE ENV"
   ]
  },
  {
   "cell_type": "code",
   "execution_count": 1,
   "metadata": {},
   "outputs": [],
   "source": [
    "!mkdir packages"
   ]
  },
  {
   "cell_type": "markdown",
   "metadata": {},
   "source": [
    "#### Download the wheels to a folder"
   ]
  },
  {
   "cell_type": "code",
   "execution_count": 2,
   "metadata": {},
   "outputs": [
    {
     "name": "stdout",
     "output_type": "stream",
     "text": [
      "Collecting sparse\n",
      "  Using cached sparse-0.11.2-py2.py3-none-any.whl (73 kB)\n",
      "  Saved ./sparse-0.11.2-py2.py3-none-any.whl\n",
      "Collecting scipy>=0.19\n",
      "  Downloading scipy-1.6.0-cp38-cp38-manylinux1_x86_64.whl (27.2 MB)\n",
      "\u001b[K     |████████████████████████████████| 27.2 MB 10.8 MB/s eta 0:00:01\n",
      "\u001b[?25h  Saved ./scipy-1.6.0-cp38-cp38-manylinux1_x86_64.whl\n",
      "Collecting numba>=0.49\n",
      "  Using cached numba-0.52.0-cp38-cp38-manylinux2014_x86_64.whl (3.2 MB)\n",
      "  Saved ./numba-0.52.0-cp38-cp38-manylinux2014_x86_64.whl\n",
      "Collecting numpy\n",
      "  Using cached numpy-1.19.4-cp38-cp38-manylinux2010_x86_64.whl (14.5 MB)\n",
      "  Saved ./numpy-1.19.4-cp38-cp38-manylinux2010_x86_64.whl\n",
      "Collecting llvmlite<0.36,>=0.35.0\n",
      "  Using cached llvmlite-0.35.0-cp38-cp38-manylinux2010_x86_64.whl (25.3 MB)\n",
      "  Saved ./llvmlite-0.35.0-cp38-cp38-manylinux2010_x86_64.whl\n",
      "Collecting setuptools\n",
      "  Downloading setuptools-51.1.1-py3-none-any.whl (2.0 MB)\n",
      "\u001b[K     |████████████████████████████████| 2.0 MB 92.4 MB/s eta 0:00:01\n",
      "\u001b[?25h  Saved ./setuptools-51.1.1-py3-none-any.whl\n",
      "Successfully downloaded sparse scipy numba numpy llvmlite setuptools\n"
     ]
    }
   ],
   "source": [
    "!cd packages && pip download sparse"
   ]
  },
  {
   "cell_type": "code",
   "execution_count": 3,
   "metadata": {},
   "outputs": [
    {
     "name": "stdout",
     "output_type": "stream",
     "text": [
      "llvmlite-0.35.0-cp38-cp38-manylinux2010_x86_64.whl\r\n",
      "numba-0.52.0-cp38-cp38-manylinux2014_x86_64.whl\r\n",
      "numpy-1.19.4-cp38-cp38-manylinux2010_x86_64.whl\r\n",
      "scipy-1.6.0-cp38-cp38-manylinux1_x86_64.whl\r\n",
      "setuptools-51.1.1-py3-none-any.whl\r\n",
      "sparse-0.11.2-py2.py3-none-any.whl\r\n"
     ]
    }
   ],
   "source": [
    "!cd packages && ls"
   ]
  },
  {
   "cell_type": "markdown",
   "metadata": {},
   "source": [
    "#### Upload to kaggle"
   ]
  },
  {
   "cell_type": "markdown",
   "metadata": {},
   "source": [
    "Ofcourse the keys need to be setup"
   ]
  },
  {
   "cell_type": "code",
   "execution_count": 4,
   "metadata": {},
   "outputs": [
    {
     "name": "stdout",
     "output_type": "stream",
     "text": [
      "Data package template written to: packages/dataset-metadata.json\r\n"
     ]
    }
   ],
   "source": [
    "!kaggle datasets init -p packages/"
   ]
  },
  {
   "cell_type": "code",
   "execution_count": 9,
   "metadata": {},
   "outputs": [],
   "source": [
    "\n",
    "# id and title only alphanumeric and \"-\"\n",
    "meta = \"\"\"\n",
    "{\n",
    "  \"licenses\": [\n",
    "    {\n",
    "      \"name\": \"CC0-1.0\"\n",
    "    }\n",
    "  ], \n",
    "  \"id\": \"nisarahamedk/sparse-package-0\",\n",
    "  \"title\": \"sparse-package-0\"\n",
    "}\n",
    "\"\"\"\n",
    "with open(\"packages/dataset-metadata.json\", \"w\") as f:\n",
    "  f.write(meta)"
   ]
  },
  {
   "cell_type": "code",
   "execution_count": 10,
   "metadata": {},
   "outputs": [
    {
     "name": "stdout",
     "output_type": "stream",
     "text": [
      "Starting upload for file numpy-1.19.4-cp38-cp38-manylinux2010_x86_64.whl\n",
      "100%|██████████████████████████████████████| 13.9M/13.9M [00:07<00:00, 2.04MB/s]\n",
      "Upload successful: numpy-1.19.4-cp38-cp38-manylinux2010_x86_64.whl (14MB)\n",
      "Starting upload for file llvmlite-0.35.0-cp38-cp38-manylinux2010_x86_64.whl\n",
      "100%|██████████████████████████████████████| 24.1M/24.1M [00:11<00:00, 2.14MB/s]\n",
      "Upload successful: llvmlite-0.35.0-cp38-cp38-manylinux2010_x86_64.whl (24MB)\n",
      "Starting upload for file setuptools-51.1.1-py3-none-any.whl\n",
      "100%|███████████████████████████████████████| 1.89M/1.89M [00:14<00:00, 132kB/s]\n",
      "Upload successful: setuptools-51.1.1-py3-none-any.whl (2MB)\n",
      "Starting upload for file sparse-0.11.2-py2.py3-none-any.whl\n",
      "100%|██████████████████████████████████████| 71.9k/71.9k [00:07<00:00, 9.22kB/s]\n",
      "Upload successful: sparse-0.11.2-py2.py3-none-any.whl (72KB)\n",
      "Starting upload for file scipy-1.6.0-cp38-cp38-manylinux1_x86_64.whl\n",
      "100%|██████████████████████████████████████| 26.0M/26.0M [00:07<00:00, 3.49MB/s]\n",
      "Upload successful: scipy-1.6.0-cp38-cp38-manylinux1_x86_64.whl (26MB)\n",
      "Starting upload for file numba-0.52.0-cp38-cp38-manylinux2014_x86_64.whl\n",
      "100%|███████████████████████████████████████| 3.03M/3.03M [00:11<00:00, 280kB/s]\n",
      "Upload successful: numba-0.52.0-cp38-cp38-manylinux2014_x86_64.whl (3MB)\n",
      "Your public Dataset is being created. Please check progress at https://www.kaggle.com/nisarahamedk/sparse-package-0\n"
     ]
    }
   ],
   "source": [
    "# create\n",
    "!kaggle datasets create -p packages/ --dir-mode tar -u"
   ]
  },
  {
   "cell_type": "markdown",
   "metadata": {},
   "source": [
    "#### Now in the kaggle notebook.\n",
    "\n",
    "Install using \"pip install <.whl>\" in the reverse order we downloaded"
   ]
  },
  {
   "cell_type": "markdown",
   "metadata": {},
   "source": [
    "Reference: https://www.kaggle.com/c/severstal-steel-defect-detection/discussion/113195"
   ]
  },
  {
   "cell_type": "code",
   "execution_count": null,
   "metadata": {},
   "outputs": [],
   "source": []
  }
 ],
 "metadata": {
  "kernelspec": {
   "display_name": "Python 3",
   "language": "python",
   "name": "python3"
  },
  "language_info": {
   "codemirror_mode": {
    "name": "ipython",
    "version": 3
   },
   "file_extension": ".py",
   "mimetype": "text/x-python",
   "name": "python",
   "nbconvert_exporter": "python",
   "pygments_lexer": "ipython3",
   "version": "3.8.5"
  }
 },
 "nbformat": 4,
 "nbformat_minor": 4
}
