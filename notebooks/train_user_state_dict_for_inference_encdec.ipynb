{
 "cells": [
  {
   "cell_type": "markdown",
   "metadata": {
    "colab_type": "text",
    "id": "view-in-github"
   },
   "source": [
    "<a href=\"https://colab.research.google.com/github/nisarahamedk/kaggle-riid/blob/master/notebooks/train_user_state_dict_for_inference_encdec.ipynb\" target=\"_parent\"><img src=\"https://colab.research.google.com/assets/colab-badge.svg\" alt=\"Open In Colab\"/></a>"
   ]
  },
  {
   "cell_type": "code",
   "execution_count": 1,
   "metadata": {
    "id": "9lORpE-PmPUD"
   },
   "outputs": [],
   "source": [
    "%%capture\n",
    "!pip install gcsfs\n",
    "!pip install kaggle\n",
    "!pip install datatable\n",
    "# !pip install -U modin[all] # -U for upgrade in case you have an older version\n",
    "!pip install --upgrade pandas==1.1.5\n",
    "!pip install --upgrade numpy==1.19.4\n",
    "!pip install tensorflow==2.4.0\n",
    "!pip install sparse"
   ]
  },
  {
   "cell_type": "code",
   "execution_count": 2,
   "metadata": {},
   "outputs": [],
   "source": [
    "! mkdir ~/.kaggle\n",
    "! touch ~/.kaggle/kaggle.json\n",
    "! echo '{\"username\":\"nisarahamedk\",\"key\":\"a4c9157c35890c5e59947d2263e3b518\"}' > ~/.kaggle/kaggle.json\n",
    "! chmod 600 ~/.kaggle/kaggle.json"
   ]
  },
  {
   "cell_type": "code",
   "execution_count": 3,
   "metadata": {
    "colab": {
     "base_uri": "https://localhost:8080/"
    },
    "id": "HkFf3M7oCo7U",
    "outputId": "d5d0e6c3-ecc6-4050-c4e1-914ed332fbcb"
   },
   "outputs": [
    {
     "name": "stdout",
     "output_type": "stream",
     "text": [
      "Downloading riiid-train-data-multiple-formats.zip to /home/nisarkavungal_gmx_com/kaggle-riid/notebooks\n",
      "100%|█████████████████████████████████████▉| 4.16G/4.17G [02:25<00:00, 43.3MB/s]\n",
      "100%|██████████████████████████████████████| 4.17G/4.17G [02:25<00:00, 30.7MB/s]\n"
     ]
    }
   ],
   "source": [
    "!kaggle datasets download -d rohanrao/riiid-train-data-multiple-formats"
   ]
  },
  {
   "cell_type": "code",
   "execution_count": 5,
   "metadata": {
    "colab": {
     "base_uri": "https://localhost:8080/"
    },
    "id": "DyLaiKdiFtk7",
    "outputId": "b92a177e-1a7f-44d2-e818-e67bf6572797"
   },
   "outputs": [
    {
     "name": "stdout",
     "output_type": "stream",
     "text": [
      "Archive:  riiid-train-data-multiple-formats.zip\n",
      "  inflating: riiid_train.feather     \n",
      "  inflating: riiid_train.h5          \n",
      "  inflating: riiid_train.jay         \n",
      "  inflating: riiid_train.parquet     \n",
      "  inflating: riiid_train.pkl.gzip    \n"
     ]
    }
   ],
   "source": [
    "!unzip riiid-train-data-multiple-formats"
   ]
  },
  {
   "cell_type": "code",
   "execution_count": 1,
   "metadata": {
    "id": "b_yN4Cx2mTLs"
   },
   "outputs": [
    {
     "data": {
      "text/html": [
       "<style type='text/css'>\n",
       ".datatable table.frame { margin-bottom: 0; }\n",
       ".datatable table.frame thead { border-bottom: none; }\n",
       ".datatable table.frame tr.coltypes td {  color: #FFFFFF;  line-height: 6px;  padding: 0 0.5em;}\n",
       ".datatable .bool    { background: #DDDD99; }\n",
       ".datatable .object  { background: #565656; }\n",
       ".datatable .int     { background: #5D9E5D; }\n",
       ".datatable .float   { background: #4040CC; }\n",
       ".datatable .str     { background: #CC4040; }\n",
       ".datatable .row_index {  background: var(--jp-border-color3);  border-right: 1px solid var(--jp-border-color0);  color: var(--jp-ui-font-color3);  font-size: 9px;}\n",
       ".datatable .frame tr.coltypes .row_index {  background: var(--jp-border-color0);}\n",
       ".datatable th:nth-child(2) { padding-left: 12px; }\n",
       ".datatable .hellipsis {  color: var(--jp-cell-editor-border-color);}\n",
       ".datatable .vellipsis {  background: var(--jp-layout-color0);  color: var(--jp-cell-editor-border-color);}\n",
       ".datatable .na {  color: var(--jp-cell-editor-border-color);  font-size: 80%;}\n",
       ".datatable .footer { font-size: 9px; }\n",
       ".datatable .frame_dimensions {  background: var(--jp-border-color3);  border-top: 1px solid var(--jp-border-color0);  color: var(--jp-ui-font-color3);  display: inline-block;  opacity: 0.6;  padding: 1px 10px 1px 5px;}\n",
       "</style>\n"
      ],
      "text/plain": [
       "<IPython.core.display.HTML object>"
      ]
     },
     "metadata": {},
     "output_type": "display_data"
    }
   ],
   "source": [
    "import pickle\n",
    "import math\n",
    "\n",
    "import gcsfs\n",
    "import pandas as pd\n",
    "import numpy as np\n",
    "from tqdm import tqdm, trange\n",
    "from datatable import dt, f, by, count\n",
    "import tensorflow as tf\n",
    "import sparse\n",
    "\n",
    "\n",
    "np.random.seed(42)"
   ]
  },
  {
   "cell_type": "code",
   "execution_count": 2,
   "metadata": {
    "id": "P6tW4NNrC-xD"
   },
   "outputs": [],
   "source": [
    "SEQ_LEN = 512"
   ]
  },
  {
   "cell_type": "code",
   "execution_count": 3,
   "metadata": {
    "id": "1JABSd0TI6Ow"
   },
   "outputs": [],
   "source": [
    "table = dt.fread(\"riiid_train.jay\")"
   ]
  },
  {
   "cell_type": "code",
   "execution_count": 4,
   "metadata": {
    "colab": {
     "base_uri": "https://localhost:8080/",
     "height": 508
    },
    "id": "boWtiNE8JbII",
    "outputId": "fd76e46a-359b-4f68-c0ef-cfdd1b340356",
    "scrolled": true
   },
   "outputs": [
    {
     "data": {
      "text/html": [
       "<div class='datatable'>\n",
       "  <table class='frame'>\n",
       "  <thead>\n",
       "    <tr class='colnames'><td class='row_index'></td><th>row_id</th><th>timestamp</th><th>user_id</th><th>content_id</th><th>content_type_id</th><th>task_container_id</th><th>user_answer</th><th>answered_correctly</th><th>prior_question_elapsed_time</th><th>prior_question_had_explanation</th></tr>\n",
       "    <tr class='coltypes'><td class='row_index'></td><td class='int' title='int32'>&#x25AA;&#x25AA;&#x25AA;&#x25AA;</td><td class='int' title='int64'>&#x25AA;&#x25AA;&#x25AA;&#x25AA;&#x25AA;&#x25AA;&#x25AA;&#x25AA;</td><td class='int' title='int32'>&#x25AA;&#x25AA;&#x25AA;&#x25AA;</td><td class='int' title='int32'>&#x25AA;&#x25AA;&#x25AA;&#x25AA;</td><td class='bool' title='bool8'>&#x25AA;</td><td class='int' title='int32'>&#x25AA;&#x25AA;&#x25AA;&#x25AA;</td><td class='int' title='int32'>&#x25AA;&#x25AA;&#x25AA;&#x25AA;</td><td class='int' title='int32'>&#x25AA;&#x25AA;&#x25AA;&#x25AA;</td><td class='float' title='float64'>&#x25AA;&#x25AA;&#x25AA;&#x25AA;&#x25AA;&#x25AA;&#x25AA;&#x25AA;</td><td class='bool' title='bool8'>&#x25AA;</td></tr>\n",
       "  </thead>\n",
       "  <tbody>\n",
       "    <tr><td class='row_index'>0</td><td>0</td><td>0</td><td>115</td><td>5692</td><td>0</td><td>1</td><td>3</td><td>1</td><td><span class=na>NA</span></td><td><span class=na>NA</span></td></tr>\n",
       "    <tr><td class='row_index'>1</td><td>1</td><td>56943</td><td>115</td><td>5716</td><td>0</td><td>2</td><td>2</td><td>1</td><td>37000</td><td>0</td></tr>\n",
       "    <tr><td class='row_index'>2</td><td>2</td><td>118363</td><td>115</td><td>128</td><td>0</td><td>0</td><td>0</td><td>1</td><td>55000</td><td>0</td></tr>\n",
       "    <tr><td class='row_index'>3</td><td>3</td><td>131167</td><td>115</td><td>7860</td><td>0</td><td>3</td><td>0</td><td>1</td><td>19000</td><td>0</td></tr>\n",
       "    <tr><td class='row_index'>4</td><td>4</td><td>137965</td><td>115</td><td>7922</td><td>0</td><td>4</td><td>1</td><td>1</td><td>11000</td><td>0</td></tr>\n",
       "    <tr><td class='row_index'>5</td><td>5</td><td>157063</td><td>115</td><td>156</td><td>0</td><td>5</td><td>2</td><td>1</td><td>5000</td><td>0</td></tr>\n",
       "    <tr><td class='row_index'>6</td><td>6</td><td>176092</td><td>115</td><td>51</td><td>0</td><td>6</td><td>0</td><td>1</td><td>17000</td><td>0</td></tr>\n",
       "    <tr><td class='row_index'>7</td><td>7</td><td>194190</td><td>115</td><td>50</td><td>0</td><td>7</td><td>3</td><td>1</td><td>17000</td><td>0</td></tr>\n",
       "    <tr><td class='row_index'>8</td><td>8</td><td>212463</td><td>115</td><td>7896</td><td>0</td><td>8</td><td>2</td><td>1</td><td>16000</td><td>0</td></tr>\n",
       "    <tr><td class='row_index'>9</td><td>9</td><td>230983</td><td>115</td><td>7863</td><td>0</td><td>9</td><td>0</td><td>1</td><td>16000</td><td>0</td></tr>\n",
       "  </tbody>\n",
       "  </table>\n",
       "  <div class='footer'>\n",
       "    <div class='frame_dimensions'>10 rows &times; 10 columns</div>\n",
       "  </div>\n",
       "</div>\n"
      ],
      "text/plain": [
       "<Frame#7f6cb5e95810 10x10>"
      ]
     },
     "execution_count": 4,
     "metadata": {},
     "output_type": "execute_result"
    }
   ],
   "source": [
    "table = table[f.content_type_id==0, :] # removing lectures\n",
    "table.head()"
   ]
  },
  {
   "cell_type": "markdown",
   "metadata": {},
   "source": [
    "max values for determining the corret data type to use"
   ]
  },
  {
   "cell_type": "code",
   "execution_count": 5,
   "metadata": {},
   "outputs": [],
   "source": [
    "max_dict = table[:, [dt.max(f.timestamp), dt.max(f.prior_question_elapsed_time), dt.max(f.user_id), dt.max(f.content_id), dt.max(f.task_container_id)]].to_dict()"
   ]
  },
  {
   "cell_type": "code",
   "execution_count": 6,
   "metadata": {},
   "outputs": [
    {
     "data": {
      "text/plain": [
       "{'timestamp': [87425772049],\n",
       " 'prior_question_elapsed_time': [300000.0],\n",
       " 'user_id': [2147482888],\n",
       " 'content_id': [13522],\n",
       " 'task_container_id': [9999]}"
      ]
     },
     "execution_count": 6,
     "metadata": {},
     "output_type": "execute_result"
    }
   ],
   "source": [
    "max_dict"
   ]
  },
  {
   "cell_type": "code",
   "execution_count": 5,
   "metadata": {
    "id": "w0xRSqEhuU_B"
   },
   "outputs": [],
   "source": [
    "user_table = table[-(SEQ_LEN-1):, :, by(\"user_id\")] # last SEQ_LEN-1 rows of all the user ids, this is the history we need at inference time"
   ]
  },
  {
   "cell_type": "code",
   "execution_count": 6,
   "metadata": {
    "colab": {
     "base_uri": "https://localhost:8080/",
     "height": 508
    },
    "id": "GyfN3-7zujXS",
    "outputId": "e8e17167-96c4-45f3-dea1-fc922f4ad581"
   },
   "outputs": [
    {
     "data": {
      "text/html": [
       "<div class='datatable'>\n",
       "  <table class='frame'>\n",
       "  <thead>\n",
       "    <tr class='colnames'><td class='row_index'></td><th>user_id</th><th>row_id</th><th>timestamp</th><th>content_id</th><th>content_type_id</th><th>task_container_id</th><th>user_answer</th><th>answered_correctly</th><th>prior_question_elapsed_time</th><th>prior_question_had_explanation</th></tr>\n",
       "    <tr class='coltypes'><td class='row_index'></td><td class='int' title='int32'>&#x25AA;&#x25AA;&#x25AA;&#x25AA;</td><td class='int' title='int32'>&#x25AA;&#x25AA;&#x25AA;&#x25AA;</td><td class='int' title='int64'>&#x25AA;&#x25AA;&#x25AA;&#x25AA;&#x25AA;&#x25AA;&#x25AA;&#x25AA;</td><td class='int' title='int32'>&#x25AA;&#x25AA;&#x25AA;&#x25AA;</td><td class='bool' title='bool8'>&#x25AA;</td><td class='int' title='int32'>&#x25AA;&#x25AA;&#x25AA;&#x25AA;</td><td class='int' title='int32'>&#x25AA;&#x25AA;&#x25AA;&#x25AA;</td><td class='int' title='int32'>&#x25AA;&#x25AA;&#x25AA;&#x25AA;</td><td class='float' title='float64'>&#x25AA;&#x25AA;&#x25AA;&#x25AA;&#x25AA;&#x25AA;&#x25AA;&#x25AA;</td><td class='bool' title='bool8'>&#x25AA;</td></tr>\n",
       "  </thead>\n",
       "  <tbody>\n",
       "    <tr><td class='row_index'>0</td><td>115</td><td>0</td><td>0</td><td>5692</td><td>0</td><td>1</td><td>3</td><td>1</td><td><span class=na>NA</span></td><td><span class=na>NA</span></td></tr>\n",
       "    <tr><td class='row_index'>1</td><td>115</td><td>1</td><td>56943</td><td>5716</td><td>0</td><td>2</td><td>2</td><td>1</td><td>37000</td><td>0</td></tr>\n",
       "    <tr><td class='row_index'>2</td><td>115</td><td>2</td><td>118363</td><td>128</td><td>0</td><td>0</td><td>0</td><td>1</td><td>55000</td><td>0</td></tr>\n",
       "    <tr><td class='row_index'>3</td><td>115</td><td>3</td><td>131167</td><td>7860</td><td>0</td><td>3</td><td>0</td><td>1</td><td>19000</td><td>0</td></tr>\n",
       "    <tr><td class='row_index'>4</td><td>115</td><td>4</td><td>137965</td><td>7922</td><td>0</td><td>4</td><td>1</td><td>1</td><td>11000</td><td>0</td></tr>\n",
       "    <tr><td class='row_index'>5</td><td>115</td><td>5</td><td>157063</td><td>156</td><td>0</td><td>5</td><td>2</td><td>1</td><td>5000</td><td>0</td></tr>\n",
       "    <tr><td class='row_index'>6</td><td>115</td><td>6</td><td>176092</td><td>51</td><td>0</td><td>6</td><td>0</td><td>1</td><td>17000</td><td>0</td></tr>\n",
       "    <tr><td class='row_index'>7</td><td>115</td><td>7</td><td>194190</td><td>50</td><td>0</td><td>7</td><td>3</td><td>1</td><td>17000</td><td>0</td></tr>\n",
       "    <tr><td class='row_index'>8</td><td>115</td><td>8</td><td>212463</td><td>7896</td><td>0</td><td>8</td><td>2</td><td>1</td><td>16000</td><td>0</td></tr>\n",
       "    <tr><td class='row_index'>9</td><td>115</td><td>9</td><td>230983</td><td>7863</td><td>0</td><td>9</td><td>0</td><td>1</td><td>16000</td><td>0</td></tr>\n",
       "  </tbody>\n",
       "  </table>\n",
       "  <div class='footer'>\n",
       "    <div class='frame_dimensions'>10 rows &times; 10 columns</div>\n",
       "  </div>\n",
       "</div>\n"
      ],
      "text/plain": [
       "<Frame#7f6cb5e95cc0 10x10>"
      ]
     },
     "execution_count": 6,
     "metadata": {},
     "output_type": "execute_result"
    }
   ],
   "source": [
    "user_table.head()"
   ]
  },
  {
   "cell_type": "code",
   "execution_count": 7,
   "metadata": {
    "id": "pLMp-Q_7pe5J"
   },
   "outputs": [],
   "source": [
    "\n",
    "dtypes_train = {\n",
    "    'row_id': 'int64',\n",
    "    'timestamp': 'int64',\n",
    "    'user_id': 'int32',\n",
    "    'content_id': 'int16',\n",
    "    'content_type_id': 'int8',\n",
    "    'task_container_id': 'int16',\n",
    "    'user_answer': 'int8',\n",
    "    'answered_correctly': 'int8',\n",
    "    'prior_question_elapsed_time': 'float32',\n",
    "    'prior_question_had_explanation': 'int8'\n",
    "    }\n",
    "\n",
    "dtypes_questions = {\n",
    "    \"question_id\": \"\",\n",
    "    \"bundle_id\": \"\",\n",
    "    \"correct_answer\": \"\",\n",
    "    \"part\": \"int16\",\n",
    "    \"tags\": \"\",\n",
    "}\n",
    "\n",
    "dtypes_lectures = {\n",
    "    \"lecture_id\": \"\",\n",
    "    \"part\": \"\",\n",
    "    \"tag\": \"\",\n",
    "    \"type_of\": \"\",\n",
    "}"
   ]
  },
  {
   "cell_type": "code",
   "execution_count": 8,
   "metadata": {
    "colab": {
     "base_uri": "https://localhost:8080/",
     "height": 197
    },
    "id": "XYfhG8TD7WcO",
    "outputId": "777b1e30-b070-41b2-8d38-d03ba1d3782c"
   },
   "outputs": [
    {
     "data": {
      "text/html": [
       "<div>\n",
       "<style scoped>\n",
       "    .dataframe tbody tr th:only-of-type {\n",
       "        vertical-align: middle;\n",
       "    }\n",
       "\n",
       "    .dataframe tbody tr th {\n",
       "        vertical-align: top;\n",
       "    }\n",
       "\n",
       "    .dataframe thead th {\n",
       "        text-align: right;\n",
       "    }\n",
       "</style>\n",
       "<table border=\"1\" class=\"dataframe\">\n",
       "  <thead>\n",
       "    <tr style=\"text-align: right;\">\n",
       "      <th></th>\n",
       "      <th>timestamp</th>\n",
       "      <th>user_id</th>\n",
       "      <th>content_id</th>\n",
       "      <th>task_container_id</th>\n",
       "      <th>prior_question_elapsed_time</th>\n",
       "      <th>prior_question_had_explanation</th>\n",
       "      <th>answered_correctly</th>\n",
       "    </tr>\n",
       "  </thead>\n",
       "  <tbody>\n",
       "    <tr>\n",
       "      <th>0</th>\n",
       "      <td>0</td>\n",
       "      <td>115</td>\n",
       "      <td>5692</td>\n",
       "      <td>1</td>\n",
       "      <td>NaN</td>\n",
       "      <td>NaN</td>\n",
       "      <td>1</td>\n",
       "    </tr>\n",
       "    <tr>\n",
       "      <th>1</th>\n",
       "      <td>56943</td>\n",
       "      <td>115</td>\n",
       "      <td>5716</td>\n",
       "      <td>2</td>\n",
       "      <td>37000.0</td>\n",
       "      <td>False</td>\n",
       "      <td>1</td>\n",
       "    </tr>\n",
       "    <tr>\n",
       "      <th>2</th>\n",
       "      <td>118363</td>\n",
       "      <td>115</td>\n",
       "      <td>128</td>\n",
       "      <td>0</td>\n",
       "      <td>55000.0</td>\n",
       "      <td>False</td>\n",
       "      <td>1</td>\n",
       "    </tr>\n",
       "    <tr>\n",
       "      <th>3</th>\n",
       "      <td>131167</td>\n",
       "      <td>115</td>\n",
       "      <td>7860</td>\n",
       "      <td>3</td>\n",
       "      <td>19000.0</td>\n",
       "      <td>False</td>\n",
       "      <td>1</td>\n",
       "    </tr>\n",
       "    <tr>\n",
       "      <th>4</th>\n",
       "      <td>137965</td>\n",
       "      <td>115</td>\n",
       "      <td>7922</td>\n",
       "      <td>4</td>\n",
       "      <td>11000.0</td>\n",
       "      <td>False</td>\n",
       "      <td>1</td>\n",
       "    </tr>\n",
       "  </tbody>\n",
       "</table>\n",
       "</div>"
      ],
      "text/plain": [
       "   timestamp  user_id  content_id  task_container_id  \\\n",
       "0          0      115        5692                  1   \n",
       "1      56943      115        5716                  2   \n",
       "2     118363      115         128                  0   \n",
       "3     131167      115        7860                  3   \n",
       "4     137965      115        7922                  4   \n",
       "\n",
       "   prior_question_elapsed_time prior_question_had_explanation  \\\n",
       "0                          NaN                            NaN   \n",
       "1                      37000.0                          False   \n",
       "2                      55000.0                          False   \n",
       "3                      19000.0                          False   \n",
       "4                      11000.0                          False   \n",
       "\n",
       "   answered_correctly  \n",
       "0                   1  \n",
       "1                   1  \n",
       "2                   1  \n",
       "3                   1  \n",
       "4                   1  "
      ]
     },
     "execution_count": 8,
     "metadata": {},
     "output_type": "execute_result"
    }
   ],
   "source": [
    "# convert to pandas DF required cols\n",
    "train_df = user_table[\n",
    "                      f.content_type_id==0, \n",
    "                      [\n",
    "                       f.timestamp, \n",
    "                       f.user_id, \n",
    "                       f.content_id, \n",
    "                       f.task_container_id, \n",
    "                       f.prior_question_elapsed_time, \n",
    "                       f.prior_question_had_explanation,\n",
    "                       f.answered_correctly\n",
    "                       ]\n",
    "                      ].to_pandas()\n",
    "train_df.head()"
   ]
  },
  {
   "cell_type": "code",
   "execution_count": 9,
   "metadata": {
    "id": "rDpSjg-WJsCA"
   },
   "outputs": [],
   "source": [
    "del table\n",
    "del user_table"
   ]
  },
  {
   "cell_type": "code",
   "execution_count": 10,
   "metadata": {
    "colab": {
     "base_uri": "https://localhost:8080/",
     "height": 227
    },
    "id": "6NKlVKzxg5pz",
    "outputId": "737aeba3-b0cb-4192-b835-35ec5600b2fa"
   },
   "outputs": [
    {
     "data": {
      "text/html": [
       "<div>\n",
       "<style scoped>\n",
       "    .dataframe tbody tr th:only-of-type {\n",
       "        vertical-align: middle;\n",
       "    }\n",
       "\n",
       "    .dataframe tbody tr th {\n",
       "        vertical-align: top;\n",
       "    }\n",
       "\n",
       "    .dataframe thead th {\n",
       "        text-align: right;\n",
       "    }\n",
       "</style>\n",
       "<table border=\"1\" class=\"dataframe\">\n",
       "  <thead>\n",
       "    <tr style=\"text-align: right;\">\n",
       "      <th></th>\n",
       "      <th>bundle_id</th>\n",
       "      <th>correct_answer</th>\n",
       "      <th>part</th>\n",
       "      <th>tags</th>\n",
       "    </tr>\n",
       "    <tr>\n",
       "      <th>question_id</th>\n",
       "      <th></th>\n",
       "      <th></th>\n",
       "      <th></th>\n",
       "      <th></th>\n",
       "    </tr>\n",
       "  </thead>\n",
       "  <tbody>\n",
       "    <tr>\n",
       "      <th>0</th>\n",
       "      <td>0</td>\n",
       "      <td>0</td>\n",
       "      <td>1</td>\n",
       "      <td>51 131 162 38</td>\n",
       "    </tr>\n",
       "    <tr>\n",
       "      <th>1</th>\n",
       "      <td>1</td>\n",
       "      <td>1</td>\n",
       "      <td>1</td>\n",
       "      <td>131 36 81</td>\n",
       "    </tr>\n",
       "    <tr>\n",
       "      <th>2</th>\n",
       "      <td>2</td>\n",
       "      <td>0</td>\n",
       "      <td>1</td>\n",
       "      <td>131 101 162 92</td>\n",
       "    </tr>\n",
       "    <tr>\n",
       "      <th>3</th>\n",
       "      <td>3</td>\n",
       "      <td>0</td>\n",
       "      <td>1</td>\n",
       "      <td>131 149 162 29</td>\n",
       "    </tr>\n",
       "    <tr>\n",
       "      <th>4</th>\n",
       "      <td>4</td>\n",
       "      <td>3</td>\n",
       "      <td>1</td>\n",
       "      <td>131 5 162 38</td>\n",
       "    </tr>\n",
       "  </tbody>\n",
       "</table>\n",
       "</div>"
      ],
      "text/plain": [
       "             bundle_id  correct_answer  part            tags\n",
       "question_id                                                 \n",
       "0                    0               0     1   51 131 162 38\n",
       "1                    1               1     1       131 36 81\n",
       "2                    2               0     1  131 101 162 92\n",
       "3                    3               0     1  131 149 162 29\n",
       "4                    4               3     1    131 5 162 38"
      ]
     },
     "execution_count": 10,
     "metadata": {},
     "output_type": "execute_result"
    }
   ],
   "source": [
    "\n",
    "DATA_PATH = 'gs://kds-e7d6db6554e83e3f4182aa828879e31bf5c122e568c9ee97ab5d891f'\n",
    "questions_df = pd.read_csv(DATA_PATH + \"/questions.csv\", index_col=\"question_id\")\n",
    "questions_df.fillna(\"-1\", inplace=True) # tags Nan filled with -1\n",
    "questions_df.head()"
   ]
  },
  {
   "cell_type": "code",
   "execution_count": 11,
   "metadata": {
    "id": "4KCnuUL98uGO"
   },
   "outputs": [],
   "source": [
    "# join question for feaures\n",
    "train_df = train_df.join(questions_df, on=\"content_id\")"
   ]
  },
  {
   "cell_type": "code",
   "execution_count": 12,
   "metadata": {
    "colab": {
     "base_uri": "https://localhost:8080/",
     "height": 317
    },
    "id": "HCg8ZmSCUKxw",
    "outputId": "9898cbbf-942f-497c-f8da-5c73060e101c"
   },
   "outputs": [
    {
     "data": {
      "text/html": [
       "<div>\n",
       "<style scoped>\n",
       "    .dataframe tbody tr th:only-of-type {\n",
       "        vertical-align: middle;\n",
       "    }\n",
       "\n",
       "    .dataframe tbody tr th {\n",
       "        vertical-align: top;\n",
       "    }\n",
       "\n",
       "    .dataframe thead th {\n",
       "        text-align: right;\n",
       "    }\n",
       "</style>\n",
       "<table border=\"1\" class=\"dataframe\">\n",
       "  <thead>\n",
       "    <tr style=\"text-align: right;\">\n",
       "      <th></th>\n",
       "      <th>timestamp</th>\n",
       "      <th>user_id</th>\n",
       "      <th>content_id</th>\n",
       "      <th>task_container_id</th>\n",
       "      <th>prior_question_elapsed_time</th>\n",
       "      <th>prior_question_had_explanation</th>\n",
       "      <th>answered_correctly</th>\n",
       "      <th>bundle_id</th>\n",
       "      <th>correct_answer</th>\n",
       "      <th>part</th>\n",
       "      <th>tags</th>\n",
       "    </tr>\n",
       "  </thead>\n",
       "  <tbody>\n",
       "    <tr>\n",
       "      <th>0</th>\n",
       "      <td>0</td>\n",
       "      <td>115</td>\n",
       "      <td>5695</td>\n",
       "      <td>4</td>\n",
       "      <td>NaN</td>\n",
       "      <td>NaN</td>\n",
       "      <td>4</td>\n",
       "      <td>5692</td>\n",
       "      <td>3</td>\n",
       "      <td>8</td>\n",
       "      <td>151</td>\n",
       "    </tr>\n",
       "    <tr>\n",
       "      <th>1</th>\n",
       "      <td>56943</td>\n",
       "      <td>115</td>\n",
       "      <td>5719</td>\n",
       "      <td>5</td>\n",
       "      <td>37000.0</td>\n",
       "      <td>3</td>\n",
       "      <td>4</td>\n",
       "      <td>5716</td>\n",
       "      <td>2</td>\n",
       "      <td>8</td>\n",
       "      <td>168</td>\n",
       "    </tr>\n",
       "    <tr>\n",
       "      <th>2</th>\n",
       "      <td>118363</td>\n",
       "      <td>115</td>\n",
       "      <td>131</td>\n",
       "      <td>3</td>\n",
       "      <td>55000.0</td>\n",
       "      <td>3</td>\n",
       "      <td>4</td>\n",
       "      <td>128</td>\n",
       "      <td>0</td>\n",
       "      <td>4</td>\n",
       "      <td>131 149 92</td>\n",
       "    </tr>\n",
       "    <tr>\n",
       "      <th>3</th>\n",
       "      <td>131167</td>\n",
       "      <td>115</td>\n",
       "      <td>7863</td>\n",
       "      <td>6</td>\n",
       "      <td>19000.0</td>\n",
       "      <td>3</td>\n",
       "      <td>4</td>\n",
       "      <td>7860</td>\n",
       "      <td>0</td>\n",
       "      <td>4</td>\n",
       "      <td>131 104 81</td>\n",
       "    </tr>\n",
       "    <tr>\n",
       "      <th>4</th>\n",
       "      <td>137965</td>\n",
       "      <td>115</td>\n",
       "      <td>7925</td>\n",
       "      <td>7</td>\n",
       "      <td>11000.0</td>\n",
       "      <td>3</td>\n",
       "      <td>4</td>\n",
       "      <td>7922</td>\n",
       "      <td>1</td>\n",
       "      <td>4</td>\n",
       "      <td>131 149 92</td>\n",
       "    </tr>\n",
       "  </tbody>\n",
       "</table>\n",
       "</div>"
      ],
      "text/plain": [
       "   timestamp  user_id  content_id  task_container_id  \\\n",
       "0          0      115        5695                  4   \n",
       "1      56943      115        5719                  5   \n",
       "2     118363      115         131                  3   \n",
       "3     131167      115        7863                  6   \n",
       "4     137965      115        7925                  7   \n",
       "\n",
       "   prior_question_elapsed_time prior_question_had_explanation  \\\n",
       "0                          NaN                            NaN   \n",
       "1                      37000.0                              3   \n",
       "2                      55000.0                              3   \n",
       "3                      19000.0                              3   \n",
       "4                      11000.0                              3   \n",
       "\n",
       "   answered_correctly  bundle_id  correct_answer  part        tags  \n",
       "0                   4       5692               3     8         151  \n",
       "1                   4       5716               2     8         168  \n",
       "2                   4        128               0     4  131 149 92  \n",
       "3                   4       7860               0     4  131 104 81  \n",
       "4                   4       7922               1     4  131 149 92  "
      ]
     },
     "execution_count": 12,
     "metadata": {},
     "output_type": "execute_result"
    }
   ],
   "source": [
    "# 0, 1, 2 are special tokens, so increment 3\n",
    "indicator_cols = [\"content_id\", \"task_container_id\", \"part\", \"answered_correctly\", \"prior_question_had_explanation\"]\n",
    "for c in indicator_cols:\n",
    "  train_df[c] = train_df[c] + 3\n",
    "train_df.head()"
   ]
  },
  {
   "cell_type": "code",
   "execution_count": 13,
   "metadata": {
    "id": "_ZIvvPAWIynz"
   },
   "outputs": [],
   "source": [
    "# same treatment for the tags\n",
    "train_df[\"tags\"] = train_df[\"tags\"].apply(lambda row: \" \".join([str(int(x)+3) for x in row.split(\" \")]))"
   ]
  },
  {
   "cell_type": "code",
   "execution_count": 14,
   "metadata": {},
   "outputs": [],
   "source": [
    "train_df = train_df[[\"user_id\", \"timestamp\", \"content_id\", \"task_container_id\", \"prior_question_elapsed_time\", \"prior_question_had_explanation\", \"part\", \"answered_correctly\", \"tags\"]]"
   ]
  },
  {
   "cell_type": "code",
   "execution_count": 15,
   "metadata": {
    "colab": {
     "base_uri": "https://localhost:8080/",
     "height": 317
    },
    "id": "8FqJsCgWI9ij",
    "outputId": "fc3db48e-aa9d-4878-8611-e9836f58d001"
   },
   "outputs": [
    {
     "data": {
      "text/html": [
       "<div>\n",
       "<style scoped>\n",
       "    .dataframe tbody tr th:only-of-type {\n",
       "        vertical-align: middle;\n",
       "    }\n",
       "\n",
       "    .dataframe tbody tr th {\n",
       "        vertical-align: top;\n",
       "    }\n",
       "\n",
       "    .dataframe thead th {\n",
       "        text-align: right;\n",
       "    }\n",
       "</style>\n",
       "<table border=\"1\" class=\"dataframe\">\n",
       "  <thead>\n",
       "    <tr style=\"text-align: right;\">\n",
       "      <th></th>\n",
       "      <th>user_id</th>\n",
       "      <th>timestamp</th>\n",
       "      <th>content_id</th>\n",
       "      <th>task_container_id</th>\n",
       "      <th>prior_question_elapsed_time</th>\n",
       "      <th>prior_question_had_explanation</th>\n",
       "      <th>part</th>\n",
       "      <th>answered_correctly</th>\n",
       "      <th>tags</th>\n",
       "    </tr>\n",
       "  </thead>\n",
       "  <tbody>\n",
       "    <tr>\n",
       "      <th>0</th>\n",
       "      <td>115</td>\n",
       "      <td>0</td>\n",
       "      <td>5695</td>\n",
       "      <td>4</td>\n",
       "      <td>NaN</td>\n",
       "      <td>NaN</td>\n",
       "      <td>8</td>\n",
       "      <td>4</td>\n",
       "      <td>154</td>\n",
       "    </tr>\n",
       "    <tr>\n",
       "      <th>1</th>\n",
       "      <td>115</td>\n",
       "      <td>56943</td>\n",
       "      <td>5719</td>\n",
       "      <td>5</td>\n",
       "      <td>37000.0</td>\n",
       "      <td>3</td>\n",
       "      <td>8</td>\n",
       "      <td>4</td>\n",
       "      <td>171</td>\n",
       "    </tr>\n",
       "    <tr>\n",
       "      <th>2</th>\n",
       "      <td>115</td>\n",
       "      <td>118363</td>\n",
       "      <td>131</td>\n",
       "      <td>3</td>\n",
       "      <td>55000.0</td>\n",
       "      <td>3</td>\n",
       "      <td>4</td>\n",
       "      <td>4</td>\n",
       "      <td>134 152 95</td>\n",
       "    </tr>\n",
       "    <tr>\n",
       "      <th>3</th>\n",
       "      <td>115</td>\n",
       "      <td>131167</td>\n",
       "      <td>7863</td>\n",
       "      <td>6</td>\n",
       "      <td>19000.0</td>\n",
       "      <td>3</td>\n",
       "      <td>4</td>\n",
       "      <td>4</td>\n",
       "      <td>134 107 84</td>\n",
       "    </tr>\n",
       "    <tr>\n",
       "      <th>4</th>\n",
       "      <td>115</td>\n",
       "      <td>137965</td>\n",
       "      <td>7925</td>\n",
       "      <td>7</td>\n",
       "      <td>11000.0</td>\n",
       "      <td>3</td>\n",
       "      <td>4</td>\n",
       "      <td>4</td>\n",
       "      <td>134 152 95</td>\n",
       "    </tr>\n",
       "  </tbody>\n",
       "</table>\n",
       "</div>"
      ],
      "text/plain": [
       "   user_id  timestamp  content_id  task_container_id  \\\n",
       "0      115          0        5695                  4   \n",
       "1      115      56943        5719                  5   \n",
       "2      115     118363         131                  3   \n",
       "3      115     131167        7863                  6   \n",
       "4      115     137965        7925                  7   \n",
       "\n",
       "   prior_question_elapsed_time prior_question_had_explanation  part  \\\n",
       "0                          NaN                            NaN     8   \n",
       "1                      37000.0                              3     8   \n",
       "2                      55000.0                              3     4   \n",
       "3                      19000.0                              3     4   \n",
       "4                      11000.0                              3     4   \n",
       "\n",
       "   answered_correctly        tags  \n",
       "0                   4         154  \n",
       "1                   4         171  \n",
       "2                   4  134 152 95  \n",
       "3                   4  134 107 84  \n",
       "4                   4  134 152 95  "
      ]
     },
     "execution_count": 15,
     "metadata": {},
     "output_type": "execute_result"
    }
   ],
   "source": [
    "train_df.head()"
   ]
  },
  {
   "cell_type": "code",
   "execution_count": 16,
   "metadata": {
    "colab": {
     "base_uri": "https://localhost:8080/"
    },
    "id": "9PfZymmqJVDX",
    "outputId": "3e312d42-18f7-4e29-eb22-a9312de51dd1"
   },
   "outputs": [
    {
     "data": {
      "text/plain": [
       "76"
      ]
     },
     "execution_count": 16,
     "metadata": {},
     "output_type": "execute_result"
    }
   ],
   "source": [
    "import gc\n",
    "gc.collect()"
   ]
  },
  {
   "cell_type": "markdown",
   "metadata": {},
   "source": [
    "Store the processed csv"
   ]
  },
  {
   "cell_type": "code",
   "execution_count": 23,
   "metadata": {
    "id": "wxptUmU9J_Au"
   },
   "outputs": [],
   "source": [
    "train_df.to_csv(\"train_df.csv\")"
   ]
  },
  {
   "cell_type": "code",
   "execution_count": 7,
   "metadata": {
    "id": "Gw7A3z33NHZZ"
   },
   "outputs": [],
   "source": [
    "train_df = pd.read_csv(\"train_df.csv\")"
   ]
  },
  {
   "cell_type": "markdown",
   "metadata": {},
   "source": [
    "### Group by User"
   ]
  },
  {
   "cell_type": "code",
   "execution_count": 17,
   "metadata": {
    "id": "eIm1pG-0riwS"
   },
   "outputs": [],
   "source": [
    "user_groups = train_df.groupby(\"user_id\")"
   ]
  },
  {
   "cell_type": "code",
   "execution_count": 18,
   "metadata": {
    "scrolled": true
   },
   "outputs": [
    {
     "data": {
      "text/html": [
       "<div>\n",
       "<style scoped>\n",
       "    .dataframe tbody tr th:only-of-type {\n",
       "        vertical-align: middle;\n",
       "    }\n",
       "\n",
       "    .dataframe tbody tr th {\n",
       "        vertical-align: top;\n",
       "    }\n",
       "\n",
       "    .dataframe thead th {\n",
       "        text-align: right;\n",
       "    }\n",
       "</style>\n",
       "<table border=\"1\" class=\"dataframe\">\n",
       "  <thead>\n",
       "    <tr style=\"text-align: right;\">\n",
       "      <th></th>\n",
       "      <th>user_id</th>\n",
       "      <th>timestamp</th>\n",
       "      <th>content_id</th>\n",
       "      <th>task_container_id</th>\n",
       "      <th>prior_question_elapsed_time</th>\n",
       "      <th>prior_question_had_explanation</th>\n",
       "      <th>part</th>\n",
       "      <th>answered_correctly</th>\n",
       "      <th>tags</th>\n",
       "    </tr>\n",
       "  </thead>\n",
       "  <tbody>\n",
       "    <tr>\n",
       "      <th>0</th>\n",
       "      <td>115</td>\n",
       "      <td>0</td>\n",
       "      <td>5695</td>\n",
       "      <td>4</td>\n",
       "      <td>NaN</td>\n",
       "      <td>NaN</td>\n",
       "      <td>8</td>\n",
       "      <td>4</td>\n",
       "      <td>154</td>\n",
       "    </tr>\n",
       "    <tr>\n",
       "      <th>1</th>\n",
       "      <td>115</td>\n",
       "      <td>56943</td>\n",
       "      <td>5719</td>\n",
       "      <td>5</td>\n",
       "      <td>37000.0</td>\n",
       "      <td>3</td>\n",
       "      <td>8</td>\n",
       "      <td>4</td>\n",
       "      <td>171</td>\n",
       "    </tr>\n",
       "    <tr>\n",
       "      <th>2</th>\n",
       "      <td>115</td>\n",
       "      <td>118363</td>\n",
       "      <td>131</td>\n",
       "      <td>3</td>\n",
       "      <td>55000.0</td>\n",
       "      <td>3</td>\n",
       "      <td>4</td>\n",
       "      <td>4</td>\n",
       "      <td>134 152 95</td>\n",
       "    </tr>\n",
       "    <tr>\n",
       "      <th>3</th>\n",
       "      <td>115</td>\n",
       "      <td>131167</td>\n",
       "      <td>7863</td>\n",
       "      <td>6</td>\n",
       "      <td>19000.0</td>\n",
       "      <td>3</td>\n",
       "      <td>4</td>\n",
       "      <td>4</td>\n",
       "      <td>134 107 84</td>\n",
       "    </tr>\n",
       "    <tr>\n",
       "      <th>4</th>\n",
       "      <td>115</td>\n",
       "      <td>137965</td>\n",
       "      <td>7925</td>\n",
       "      <td>7</td>\n",
       "      <td>11000.0</td>\n",
       "      <td>3</td>\n",
       "      <td>4</td>\n",
       "      <td>4</td>\n",
       "      <td>134 152 95</td>\n",
       "    </tr>\n",
       "    <tr>\n",
       "      <th>...</th>\n",
       "      <td>...</td>\n",
       "      <td>...</td>\n",
       "      <td>...</td>\n",
       "      <td>...</td>\n",
       "      <td>...</td>\n",
       "      <td>...</td>\n",
       "      <td>...</td>\n",
       "      <td>...</td>\n",
       "      <td>...</td>\n",
       "    </tr>\n",
       "    <tr>\n",
       "      <th>50842984</th>\n",
       "      <td>2147482888</td>\n",
       "      <td>0</td>\n",
       "      <td>6150</td>\n",
       "      <td>3</td>\n",
       "      <td>NaN</td>\n",
       "      <td>NaN</td>\n",
       "      <td>8</td>\n",
       "      <td>4</td>\n",
       "      <td>119</td>\n",
       "    </tr>\n",
       "    <tr>\n",
       "      <th>50842985</th>\n",
       "      <td>2147482888</td>\n",
       "      <td>21320</td>\n",
       "      <td>4795</td>\n",
       "      <td>4</td>\n",
       "      <td>15000.0</td>\n",
       "      <td>3</td>\n",
       "      <td>8</td>\n",
       "      <td>4</td>\n",
       "      <td>82</td>\n",
       "    </tr>\n",
       "    <tr>\n",
       "      <th>50842986</th>\n",
       "      <td>2147482888</td>\n",
       "      <td>44458</td>\n",
       "      <td>5741</td>\n",
       "      <td>5</td>\n",
       "      <td>18000.0</td>\n",
       "      <td>3</td>\n",
       "      <td>8</td>\n",
       "      <td>4</td>\n",
       "      <td>11</td>\n",
       "    </tr>\n",
       "    <tr>\n",
       "      <th>50842987</th>\n",
       "      <td>2147482888</td>\n",
       "      <td>68053</td>\n",
       "      <td>6105</td>\n",
       "      <td>6</td>\n",
       "      <td>21000.0</td>\n",
       "      <td>3</td>\n",
       "      <td>8</td>\n",
       "      <td>3</td>\n",
       "      <td>136</td>\n",
       "    </tr>\n",
       "    <tr>\n",
       "      <th>50842988</th>\n",
       "      <td>2147482888</td>\n",
       "      <td>86736</td>\n",
       "      <td>4751</td>\n",
       "      <td>7</td>\n",
       "      <td>21000.0</td>\n",
       "      <td>3</td>\n",
       "      <td>8</td>\n",
       "      <td>4</td>\n",
       "      <td>17</td>\n",
       "    </tr>\n",
       "  </tbody>\n",
       "</table>\n",
       "<p>1967602 rows × 9 columns</p>\n",
       "</div>"
      ],
      "text/plain": [
       "             user_id  timestamp  content_id  task_container_id  \\\n",
       "0                115          0        5695                  4   \n",
       "1                115      56943        5719                  5   \n",
       "2                115     118363         131                  3   \n",
       "3                115     131167        7863                  6   \n",
       "4                115     137965        7925                  7   \n",
       "...              ...        ...         ...                ...   \n",
       "50842984  2147482888          0        6150                  3   \n",
       "50842985  2147482888      21320        4795                  4   \n",
       "50842986  2147482888      44458        5741                  5   \n",
       "50842987  2147482888      68053        6105                  6   \n",
       "50842988  2147482888      86736        4751                  7   \n",
       "\n",
       "          prior_question_elapsed_time prior_question_had_explanation  part  \\\n",
       "0                                 NaN                            NaN     8   \n",
       "1                             37000.0                              3     8   \n",
       "2                             55000.0                              3     4   \n",
       "3                             19000.0                              3     4   \n",
       "4                             11000.0                              3     4   \n",
       "...                               ...                            ...   ...   \n",
       "50842984                          NaN                            NaN     8   \n",
       "50842985                      15000.0                              3     8   \n",
       "50842986                      18000.0                              3     8   \n",
       "50842987                      21000.0                              3     8   \n",
       "50842988                      21000.0                              3     8   \n",
       "\n",
       "          answered_correctly        tags  \n",
       "0                          4         154  \n",
       "1                          4         171  \n",
       "2                          4  134 152 95  \n",
       "3                          4  134 107 84  \n",
       "4                          4  134 152 95  \n",
       "...                      ...         ...  \n",
       "50842984                   4         119  \n",
       "50842985                   4          82  \n",
       "50842986                   4          11  \n",
       "50842987                   3         136  \n",
       "50842988                   4          17  \n",
       "\n",
       "[1967602 rows x 9 columns]"
      ]
     },
     "execution_count": 18,
     "metadata": {},
     "output_type": "execute_result"
    }
   ],
   "source": [
    "user_groups.head()"
   ]
  },
  {
   "cell_type": "markdown",
   "metadata": {},
   "source": [
    "### Creating Sparse arrays with \"sparse\" package"
   ]
  },
  {
   "cell_type": "markdown",
   "metadata": {},
   "source": [
    "- Diffferent array is created based on the data type for the most efficient memory footprint.\n",
    "- All are converted to sparse multidimensional arrays using the \"sparse\" package"
   ]
  },
  {
   "cell_type": "code",
   "execution_count": 85,
   "metadata": {},
   "outputs": [],
   "source": [
    "def preprocess2(rows):\n",
    "    \"\"\"\n",
    "    'row_id': 'int64',\n",
    "    'timestamp': 'int64',\n",
    "    'user_id': 'int32',\n",
    "    'content_id': 'int16',\n",
    "    'content_type_id': 'int8',\n",
    "    'task_container_id': 'int16',\n",
    "    'user_answer': 'int8',\n",
    "    'answered_correctly': 'int8',\n",
    "    'prior_question_elapsed_time': 'float32',\n",
    "    'prior_question_had_explanation': 'int8'\n",
    "    \"\"\"\n",
    "    int64_feat = rows[\"timestamp\"].values.astype(np.int64)\n",
    "    int32_feat = rows[\"prior_question_elapsed_time\"].values.astype(np.int32)\n",
    "    int16_feat = np.stack([\n",
    "        rows[\"content_id\"].values.astype(np.int16), \n",
    "        rows[\"task_container_id\"].values.astype(np.int16), \n",
    "    ])\n",
    "    int8_feat = np.stack([\n",
    "        rows[\"prior_question_had_explanation\"].fillna(-1).values.astype(np.int8),\n",
    "        rows[\"part\"].values.astype(np.int8),\n",
    "        rows[\"answered_correctly\"].values.astype(np.int8)\n",
    "    ])\n",
    "    \n",
    "    return int64_feat, int32_feat, int16_feat, int8_feat\n",
    "    "
   ]
  },
  {
   "cell_type": "code",
   "execution_count": 86,
   "metadata": {},
   "outputs": [],
   "source": [
    "ug, udf = next(iter(user_groups))"
   ]
  },
  {
   "cell_type": "code",
   "execution_count": 87,
   "metadata": {},
   "outputs": [],
   "source": [
    "out1 = preprocess2(udf)"
   ]
  },
  {
   "cell_type": "code",
   "execution_count": 88,
   "metadata": {},
   "outputs": [
    {
     "data": {
      "text/plain": [
       "874"
      ]
     },
     "execution_count": 88,
     "metadata": {},
     "output_type": "execute_result"
    }
   ],
   "source": [
    "sum([out1[i].nbytes for i in range(4)])"
   ]
  },
  {
   "cell_type": "code",
   "execution_count": 89,
   "metadata": {},
   "outputs": [],
   "source": [
    "out_sparse = sparse.COO.from_numpy(out1[0])"
   ]
  },
  {
   "cell_type": "code",
   "execution_count": 90,
   "metadata": {
    "scrolled": true
   },
   "outputs": [
    {
     "data": {
      "text/html": [
       "<table><tbody><tr><th style=\"text-align: left\">Format</th><td style=\"text-align: left\">coo</td></tr><tr><th style=\"text-align: left\">Data Type</th><td style=\"text-align: left\">int64</td></tr><tr><th style=\"text-align: left\">Shape</th><td style=\"text-align: left\">(46,)</td></tr><tr><th style=\"text-align: left\">nnz</th><td style=\"text-align: left\">45</td></tr><tr><th style=\"text-align: left\">Density</th><td style=\"text-align: left\">0.9782608695652174</td></tr><tr><th style=\"text-align: left\">Read-only</th><td style=\"text-align: left\">True</td></tr><tr><th style=\"text-align: left\">Size</th><td style=\"text-align: left\">720</td></tr><tr><th style=\"text-align: left\">Storage ratio</th><td style=\"text-align: left\">2.0</td></tr></tbody></table>"
      ],
      "text/plain": [
       "<COO: shape=(46,), dtype=int64, nnz=45, fill_value=0>"
      ]
     },
     "execution_count": 90,
     "metadata": {},
     "output_type": "execute_result"
    }
   ],
   "source": [
    "out_sparse"
   ]
  },
  {
   "cell_type": "markdown",
   "metadata": {},
   "source": [
    "Split each features into its most efficient data type"
   ]
  },
  {
   "cell_type": "code",
   "execution_count": 91,
   "metadata": {},
   "outputs": [],
   "source": [
    "user_groups_arr = user_groups.apply(preprocess2)"
   ]
  },
  {
   "cell_type": "code",
   "execution_count": 92,
   "metadata": {},
   "outputs": [
    {
     "data": {
      "text/plain": [
       "array([        0,     56943,    118363,    131167,    137965,    157063,\n",
       "          176092,    194190,    212463,    230983,    255381,    280033,\n",
       "          302994,    328686,    352686,    376162,    398020,    418008,\n",
       "          437272,    468511,    490100,    510583,    534187,    557677,\n",
       "          575289,    597863,    621464,    645415,    670520,    692971,\n",
       "          710402,    732421,   1219624,   1252621,   1284094,   1320874,\n",
       "         1359412,   1415188,   1468285, 667861680, 667971812, 667971812,\n",
       "       667971812, 668090043, 668090043, 668090043])"
      ]
     },
     "execution_count": 92,
     "metadata": {},
     "output_type": "execute_result"
    }
   ],
   "source": [
    "user_groups_arr.values[0][0]"
   ]
  },
  {
   "cell_type": "code",
   "execution_count": 93,
   "metadata": {},
   "outputs": [],
   "source": [
    "# del train_df\n",
    "# del user_groups"
   ]
  },
  {
   "cell_type": "code",
   "execution_count": 94,
   "metadata": {},
   "outputs": [
    {
     "data": {
      "text/plain": [
       "36120"
      ]
     },
     "execution_count": 94,
     "metadata": {},
     "output_type": "execute_result"
    }
   ],
   "source": [
    "import gc\n",
    "gc.collect()"
   ]
  },
  {
   "cell_type": "code",
   "execution_count": 95,
   "metadata": {},
   "outputs": [
    {
     "data": {
      "text/plain": [
       "6.298496"
      ]
     },
     "execution_count": 95,
     "metadata": {},
     "output_type": "execute_result"
    }
   ],
   "source": [
    "user_groups_arr.memory_usage()/1e6"
   ]
  },
  {
   "cell_type": "code",
   "execution_count": 96,
   "metadata": {},
   "outputs": [],
   "source": [
    "int64_features = np.stack([np.pad(user_groups_arr.values[i][0], ((int(511-user_groups_arr.values[i][0].shape[0]), 0)), \"constant\") for i in range(len(user_groups_arr.values))])"
   ]
  },
  {
   "cell_type": "code",
   "execution_count": 97,
   "metadata": {},
   "outputs": [
    {
     "data": {
      "text/plain": [
       "(393656, 511)"
      ]
     },
     "execution_count": 97,
     "metadata": {},
     "output_type": "execute_result"
    }
   ],
   "source": [
    "int64_features.shape"
   ]
  },
  {
   "cell_type": "code",
   "execution_count": 98,
   "metadata": {},
   "outputs": [],
   "source": [
    "int64_sparse = sparse.COO.from_numpy(int64_features)"
   ]
  },
  {
   "cell_type": "code",
   "execution_count": 102,
   "metadata": {},
   "outputs": [
    {
     "data": {
      "text/plain": [
       "1211775624"
      ]
     },
     "execution_count": 102,
     "metadata": {},
     "output_type": "execute_result"
    }
   ],
   "source": [
    "int64_sparse.nbytes"
   ]
  },
  {
   "cell_type": "code",
   "execution_count": 100,
   "metadata": {},
   "outputs": [],
   "source": [
    "sparse.save_npz(\"data/int64_feat.npz\", int64_sparse)"
   ]
  },
  {
   "cell_type": "code",
   "execution_count": 104,
   "metadata": {},
   "outputs": [],
   "source": [
    "del int64_features\n",
    "del int64_sparse"
   ]
  },
  {
   "cell_type": "code",
   "execution_count": 105,
   "metadata": {},
   "outputs": [],
   "source": [
    "int32_features = np.stack([np.pad(user_groups_arr.values[i][1], ((int(511-user_groups_arr.values[i][1].shape[0]), 0)), \"constant\") for i in range(len(user_groups_arr.values))])"
   ]
  },
  {
   "cell_type": "code",
   "execution_count": 106,
   "metadata": {},
   "outputs": [
    {
     "data": {
      "text/plain": [
       "(393656, 511)"
      ]
     },
     "execution_count": 106,
     "metadata": {},
     "output_type": "execute_result"
    }
   ],
   "source": [
    "int32_features.shape"
   ]
  },
  {
   "cell_type": "code",
   "execution_count": 107,
   "metadata": {},
   "outputs": [],
   "source": [
    "int32_sparse = sparse.COO.from_numpy(int32_features)"
   ]
  },
  {
   "cell_type": "code",
   "execution_count": 108,
   "metadata": {},
   "outputs": [],
   "source": [
    "sparse.save_npz(\"data/int32_feat.npz\", int32_sparse)"
   ]
  },
  {
   "cell_type": "code",
   "execution_count": 109,
   "metadata": {},
   "outputs": [],
   "source": [
    "del int32_features\n",
    "del int32_sparse"
   ]
  },
  {
   "cell_type": "code",
   "execution_count": 110,
   "metadata": {},
   "outputs": [],
   "source": [
    "int16_features = np.stack([np.pad(user_groups_arr.values[i][2], ((0, 0), (int(511-user_groups_arr.values[i][2].shape[1]), 0)), \"constant\") for i in range(len(user_groups_arr.values))])"
   ]
  },
  {
   "cell_type": "code",
   "execution_count": 111,
   "metadata": {},
   "outputs": [
    {
     "data": {
      "text/plain": [
       "(393656, 511, 2)"
      ]
     },
     "execution_count": 111,
     "metadata": {},
     "output_type": "execute_result"
    }
   ],
   "source": [
    "int16_features = np.transpose(int16_features, (0, 2, 1))\n",
    "int16_features.shape"
   ]
  },
  {
   "cell_type": "code",
   "execution_count": 112,
   "metadata": {},
   "outputs": [],
   "source": [
    "int16_sparse = sparse.COO.from_numpy(int16_features)"
   ]
  },
  {
   "cell_type": "code",
   "execution_count": 113,
   "metadata": {},
   "outputs": [],
   "source": [
    "sparse.save_npz(\"data/int16_feat.npz\", int16_sparse)"
   ]
  },
  {
   "cell_type": "code",
   "execution_count": 114,
   "metadata": {},
   "outputs": [],
   "source": [
    "int8_features = np.stack([np.pad(user_groups_arr.values[i][3], ((0, 0), (int(511-user_groups_arr.values[i][3].shape[1]), 0)), \"constant\") for i in range(len(user_groups_arr.values))])"
   ]
  },
  {
   "cell_type": "code",
   "execution_count": 115,
   "metadata": {},
   "outputs": [
    {
     "data": {
      "text/plain": [
       "(393656, 511, 3)"
      ]
     },
     "execution_count": 115,
     "metadata": {},
     "output_type": "execute_result"
    }
   ],
   "source": [
    "int8_features = np.transpose(int8_features, (0, 2, 1))\n",
    "int8_features.shape"
   ]
  },
  {
   "cell_type": "code",
   "execution_count": 116,
   "metadata": {},
   "outputs": [],
   "source": [
    "int8_sparse = sparse.COO.from_numpy(int8_features)"
   ]
  },
  {
   "cell_type": "code",
   "execution_count": 117,
   "metadata": {},
   "outputs": [],
   "source": [
    "sparse.save_npz(\"data/int8_feat.npz\", int8_sparse)"
   ]
  },
  {
   "cell_type": "code",
   "execution_count": 118,
   "metadata": {},
   "outputs": [],
   "source": [
    "user_index = {user_id: idx for idx, user_id in enumerate(user_groups_arr.index)}\n",
    "# user_index"
   ]
  },
  {
   "cell_type": "code",
   "execution_count": 119,
   "metadata": {},
   "outputs": [
    {
     "data": {
      "text/plain": [
       "393656"
      ]
     },
     "execution_count": 119,
     "metadata": {},
     "output_type": "execute_result"
    }
   ],
   "source": [
    "len(user_index)"
   ]
  },
  {
   "cell_type": "code",
   "execution_count": 120,
   "metadata": {},
   "outputs": [],
   "source": [
    "with open(\"data/user_index.pkl\", \"wb\") as f:\n",
    "  pickle.dump(user_index, f)"
   ]
  },
  {
   "cell_type": "markdown",
   "metadata": {},
   "source": [
    "#### tags"
   ]
  },
  {
   "cell_type": "code",
   "execution_count": 19,
   "metadata": {},
   "outputs": [],
   "source": [
    "def preprocess3(rows):\n",
    "    \n",
    "    tags = rows[\"tags\"].values\n",
    "    \n",
    "    tags = tf.strings.to_number(tf.strings.split(tags), out_type=tf.int32) # will produce a ragged tensor with tags for each q\n",
    "    # ragged tensor of tags [[2], [3, 4]] is converted to one hot like [[0,0,1..], [[0,0,0,1,..], [0,0,0,0,1...]]]\n",
    "    # then sumed along axis 1, so for each question there will be 1 for all the tags associated with it.\n",
    "    tags = tf.reduce_sum(tf.one_hot(tags, depth=190), axis=1) # shape [seq_len, 190]\n",
    "    tags = tags.numpy().astype(np.uint8)\n",
    "    \n",
    "    return tags"
   ]
  },
  {
   "cell_type": "code",
   "execution_count": 22,
   "metadata": {},
   "outputs": [],
   "source": [
    "out1 = preprocess3(udf)"
   ]
  },
  {
   "cell_type": "code",
   "execution_count": 23,
   "metadata": {},
   "outputs": [
    {
     "data": {
      "text/plain": [
       "(46, 190)"
      ]
     },
     "execution_count": 23,
     "metadata": {},
     "output_type": "execute_result"
    }
   ],
   "source": [
    "out1.shape"
   ]
  },
  {
   "cell_type": "code",
   "execution_count": 58,
   "metadata": {},
   "outputs": [
    {
     "data": {
      "text/plain": [
       "8740"
      ]
     },
     "execution_count": 58,
     "metadata": {},
     "output_type": "execute_result"
    }
   ],
   "source": [
    "out1.nbytes"
   ]
  },
  {
   "cell_type": "code",
   "execution_count": 59,
   "metadata": {},
   "outputs": [
    {
     "data": {
      "text/plain": [
       "2499"
      ]
     },
     "execution_count": 59,
     "metadata": {},
     "output_type": "execute_result"
    }
   ],
   "source": [
    "sparse.COO.from_numpy(out1).nbytes"
   ]
  },
  {
   "cell_type": "code",
   "execution_count": 26,
   "metadata": {},
   "outputs": [],
   "source": [
    "user_groups_arr_tags = user_groups.apply(preprocess3)"
   ]
  },
  {
   "cell_type": "code",
   "execution_count": 27,
   "metadata": {},
   "outputs": [
    {
     "data": {
      "text/plain": [
       "6298496"
      ]
     },
     "execution_count": 27,
     "metadata": {},
     "output_type": "execute_result"
    }
   ],
   "source": [
    "user_groups_arr_tags.memory_usage()"
   ]
  },
  {
   "cell_type": "code",
   "execution_count": 38,
   "metadata": {},
   "outputs": [],
   "source": [
    "import sparse"
   ]
  },
  {
   "cell_type": "code",
   "execution_count": 60,
   "metadata": {},
   "outputs": [
    {
     "data": {
      "text/plain": [
       "(19, 190)"
      ]
     },
     "execution_count": 60,
     "metadata": {},
     "output_type": "execute_result"
    }
   ],
   "source": [
    "user_groups_arr_tags.values[2].shape"
   ]
  },
  {
   "cell_type": "code",
   "execution_count": 62,
   "metadata": {
    "scrolled": true
   },
   "outputs": [
    {
     "data": {
      "text/plain": [
       "array([[1, 1, 1, ..., 1, 1, 1],\n",
       "       [1, 1, 1, ..., 1, 1, 1],\n",
       "       [1, 1, 1, ..., 1, 1, 1],\n",
       "       ...,\n",
       "       [0, 0, 0, ..., 0, 0, 0],\n",
       "       [0, 0, 0, ..., 0, 0, 0],\n",
       "       [0, 0, 0, ..., 0, 0, 0]], dtype=uint8)"
      ]
     },
     "execution_count": 62,
     "metadata": {},
     "output_type": "execute_result"
    }
   ],
   "source": [
    "np.pad(user_groups_arr_tags.values[0], ((4, 0), (0, 0)), \"constant\", constant_values=1)"
   ]
  },
  {
   "cell_type": "markdown",
   "metadata": {},
   "source": [
    "The below cell leads to memory error.\n",
    "\n",
    "- use sparse stack on sparse arrays.\n",
    "- sparse.from_numpy() to create the individual sparse arrays from padded np array."
   ]
  },
  {
   "cell_type": "code",
   "execution_count": 70,
   "metadata": {
    "scrolled": true
   },
   "outputs": [],
   "source": [
    "tags_np = user_groups_arr_tags.values\n",
    "tags_features = sparse.stack([\n",
    "    sparse.COO.from_numpy(np.pad(tags_np[i], ((int(511-tags_np[i].shape[0]), 0), (0, 0)), \"constant\")) for i in range(len(tags_np))\n",
    "])"
   ]
  },
  {
   "cell_type": "code",
   "execution_count": 80,
   "metadata": {},
   "outputs": [
    {
     "data": {
      "text/plain": [
       "(393656, 511, 190)"
      ]
     },
     "execution_count": 80,
     "metadata": {},
     "output_type": "execute_result"
    }
   ],
   "source": [
    "tags_features.shape"
   ]
  },
  {
   "cell_type": "code",
   "execution_count": 81,
   "metadata": {},
   "outputs": [],
   "source": [
    "sparse.save_npz(\"data/tags_feat.npz\", tags_features)"
   ]
  },
  {
   "cell_type": "markdown",
   "metadata": {
    "id": "0uHMmU6x0CaT"
   },
   "source": [
    "#### Upload to Kaggle"
   ]
  },
  {
   "cell_type": "code",
   "execution_count": 121,
   "metadata": {
    "colab": {
     "base_uri": "https://localhost:8080/"
    },
    "id": "4Fyd0upt0jCt",
    "outputId": "d044dea3-6791-4960-f9ae-4e2455383f16"
   },
   "outputs": [
    {
     "name": "stdout",
     "output_type": "stream",
     "text": [
      "Data package template written to: data/dataset-metadata.json\r\n"
     ]
    }
   ],
   "source": [
    "!kaggle datasets init -p data/"
   ]
  },
  {
   "cell_type": "code",
   "execution_count": 122,
   "metadata": {
    "id": "KWhB_Gvi0jdc"
   },
   "outputs": [],
   "source": [
    "\n",
    "# id and title only alphanumeric and \"-\"\n",
    "meta = \"\"\"\n",
    "{\n",
    "  \"licenses\": [\n",
    "    {\n",
    "      \"name\": \"CC0-1.0\"\n",
    "    }\n",
    "  ], \n",
    "  \"id\": \"nisarahamedk/riid-state-dict-512-0-7\",\n",
    "  \"title\": \"riid-state-dict-512-0-7\"\n",
    "}\n",
    "\"\"\"\n",
    "with open(\"data/dataset-metadata.json\", \"w\") as f:\n",
    "  f.write(meta)"
   ]
  },
  {
   "cell_type": "code",
   "execution_count": 123,
   "metadata": {
    "colab": {
     "base_uri": "https://localhost:8080/"
    },
    "id": "ctk8HZZ20vKc",
    "outputId": "c121c330-1956-4488-9fa3-17a7192851df",
    "scrolled": true
   },
   "outputs": [
    {
     "name": "stdout",
     "output_type": "stream",
     "text": [
      "Starting upload for file int32_feat.npz\n",
      "100%|██████████████████████████████████████| 55.3M/55.3M [00:10<00:00, 5.43MB/s]\n",
      "Upload successful: int32_feat.npz (55MB)\n",
      "Starting upload for file int16_feat.npz\n",
      "100%|████████████████████████████████████████| 154M/154M [00:26<00:00, 6.13MB/s]\n",
      "Upload successful: int16_feat.npz (154MB)\n",
      "Starting upload for file .ipynb_checkpoints.tar\n",
      "100%|████████████████████████████████████████| 10.0k/10.0k [00:12<00:00, 841B/s]\n",
      "Upload successful: .ipynb_checkpoints.tar (10KB)\n",
      "Starting upload for file int64_feat.npz\n",
      "100%|████████████████████████████████████████| 151M/151M [00:23<00:00, 6.70MB/s]\n",
      "Upload successful: int64_feat.npz (151MB)\n",
      "Starting upload for file int8_feat.npz\n",
      "100%|██████████████████████████████████████| 39.2M/39.2M [00:13<00:00, 3.13MB/s]\n",
      "Upload successful: int8_feat.npz (39MB)\n",
      "Starting upload for file user_index.pkl\n",
      "100%|███████████████████████████████████████| 3.63M/3.63M [00:06<00:00, 560kB/s]\n",
      "Upload successful: user_index.pkl (4MB)\n",
      "Starting upload for file tags_feat.npz\n",
      "100%|████████████████████████████████████████| 153M/153M [00:27<00:00, 5.86MB/s]\n",
      "Upload successful: tags_feat.npz (153MB)\n",
      "Your public Dataset is being created. Please check progress at https://www.kaggle.com/nisarahamedk/riid-state-dict-512-0-7\n"
     ]
    }
   ],
   "source": [
    "# create\n",
    "!kaggle datasets create -p data/ --dir-mode tar -u"
   ]
  },
  {
   "cell_type": "markdown",
   "metadata": {},
   "source": [
    "### Zarr arrays"
   ]
  },
  {
   "cell_type": "code",
   "execution_count": 124,
   "metadata": {
    "scrolled": true
   },
   "outputs": [
    {
     "name": "stdout",
     "output_type": "stream",
     "text": [
      "Collecting zarr\n",
      "  Downloading zarr-2.6.1-py3-none-any.whl (132 kB)\n",
      "\u001b[K     |████████████████████████████████| 132 kB 20.4 MB/s eta 0:00:01\n",
      "\u001b[?25hCollecting asciitree\n",
      "  Downloading asciitree-0.3.3.tar.gz (4.0 kB)\n",
      "Requirement already satisfied: numpy>=1.7 in /home/nisarkavungal_gmx_com/miniconda3/lib/python3.8/site-packages (from zarr) (1.19.4)\n",
      "Collecting fasteners\n",
      "  Downloading fasteners-0.16-py2.py3-none-any.whl (28 kB)\n",
      "Collecting numcodecs>=0.6.4\n",
      "  Downloading numcodecs-0.7.2-cp38-cp38-manylinux2010_x86_64.whl (6.0 MB)\n",
      "\u001b[K     |████████████████████████████████| 6.0 MB 13.8 MB/s eta 0:00:01\n",
      "\u001b[?25hRequirement already satisfied: six in /home/nisarkavungal_gmx_com/miniconda3/lib/python3.8/site-packages (from fasteners->zarr) (1.15.0)\n",
      "Building wheels for collected packages: asciitree\n",
      "  Building wheel for asciitree (setup.py) ... \u001b[?25ldone\n",
      "\u001b[?25h  Created wheel for asciitree: filename=asciitree-0.3.3-py3-none-any.whl size=5035 sha256=1fa8db18ebb33da484717bbf6f9a191a0215021f2fc5569f528219408f3d0bd2\n",
      "  Stored in directory: /home/nisarkavungal_gmx_com/.cache/pip/wheels/a3/d7/75/19cd0d2a893cad4bb0b2b16dd572ad2916d19c0d5ee9612511\n",
      "Successfully built asciitree\n",
      "Installing collected packages: asciitree, fasteners, numcodecs, zarr\n",
      "Successfully installed asciitree-0.3.3 fasteners-0.16 numcodecs-0.7.2 zarr-2.6.1\n"
     ]
    }
   ],
   "source": [
    "!pip install zarr"
   ]
  },
  {
   "cell_type": "code",
   "execution_count": 142,
   "metadata": {},
   "outputs": [],
   "source": [
    "import zarr\n",
    "import numcodecs"
   ]
  },
  {
   "cell_type": "code",
   "execution_count": 152,
   "metadata": {},
   "outputs": [],
   "source": [
    "states = zarr.zeros((393656, 511, 9), dtype=object, object_codec=numcodecs.Pickle())"
   ]
  },
  {
   "cell_type": "code",
   "execution_count": 136,
   "metadata": {},
   "outputs": [],
   "source": [
    "ug, udf = next(iter(user_groups))"
   ]
  },
  {
   "cell_type": "code",
   "execution_count": 153,
   "metadata": {},
   "outputs": [
    {
     "data": {
      "text/plain": [
       "(46, 9)"
      ]
     },
     "execution_count": 153,
     "metadata": {},
     "output_type": "execute_result"
    }
   ],
   "source": [
    "udf.values.shape"
   ]
  },
  {
   "cell_type": "code",
   "execution_count": 154,
   "metadata": {},
   "outputs": [],
   "source": [
    "states[0, -46:, :] = udf.values"
   ]
  },
  {
   "cell_type": "code",
   "execution_count": 157,
   "metadata": {},
   "outputs": [
    {
     "data": {
      "text/plain": [
       "array([[115, 0, 5695, 4, nan, nan, 8, 4, '154'],\n",
       "       [115, 56943, 5719, 5, 37000.0, 3, 8, 4, '171'],\n",
       "       [115, 118363, 131, 3, 55000.0, 3, 4, 4, '134 152 95'],\n",
       "       [115, 131167, 7863, 6, 19000.0, 3, 4, 4, '134 107 84'],\n",
       "       [115, 137965, 7925, 7, 11000.0, 3, 4, 4, '134 152 95']],\n",
       "      dtype=object)"
      ]
     },
     "execution_count": 157,
     "metadata": {},
     "output_type": "execute_result"
    }
   ],
   "source": [
    "states[0, -46:, :][:5]"
   ]
  },
  {
   "cell_type": "code",
   "execution_count": null,
   "metadata": {},
   "outputs": [],
   "source": [
    "for i, (ug, udf) in enumerate(user_groups):\n",
    "    states[i, -len(udf):, :] = udf.values"
   ]
  },
  {
   "cell_type": "code",
   "execution_count": null,
   "metadata": {},
   "outputs": [],
   "source": [
    "states"
   ]
  },
  {
   "cell_type": "markdown",
   "metadata": {},
   "source": [
    "#### Old"
   ]
  },
  {
   "cell_type": "code",
   "execution_count": null,
   "metadata": {},
   "outputs": [],
   "source": []
  },
  {
   "cell_type": "code",
   "execution_count": 21,
   "metadata": {},
   "outputs": [],
   "source": [
    "def preprocess(rows):\n",
    "#     reg_features = np.stack([\n",
    "#         rows[\"timestamp\"].values.astype(dtypes_train[\"timestamp\"]),\n",
    "#         rows[\"content_id\"].values.astype(dtypes_train[\"content_id\"]), \n",
    "#         rows[\"task_container_id\"].values.astype(dtypes_train[\"task_container_id\"]), \n",
    "#         rows[\"prior_question_elapsed_time\"].shift(-1, fill_value=-1).values.astype(dtypes_train[\"prior_question_elapsed_time\"]), # last question for the user doesnt have elapsed time. fill with -1\n",
    "#         rows[\"prior_question_had_explanation\"].shift(-1, fill_value=2).values.astype(dtypes_train[\"prior_question_had_explanation\"]), # last question for the user doesnt have \"had_explanation\". fill with 2\n",
    "#         rows[\"part\"].values.astype(dtypes_questions[\"part\"]),\n",
    "#         rows[\"answered_correctly\"].values.astype(dtypes_train[\"answered_correctly\"])\n",
    "#     ], axis=1)\n",
    "    \n",
    "#     tags = rows[\"tags\"].values\n",
    "    \n",
    "#     tags = tf.strings.to_number(tf.strings.split(tags), out_type=tf.int32) # will produce a ragged tensor with tags for each q\n",
    "#     # ragged tensor of tags [[2], [3, 4]] is converted to one hot like [[0,0,1..], [[0,0,0,1,..], [0,0,0,0,1...]]]\n",
    "#     # then sumed along axis 1, so for each question there will be 1 for all the tags associated with it.\n",
    "#     tags = tf.reduce_sum(tf.one_hot(tags, depth=190), axis=1) # shape [seq_len, 190]\n",
    "#     tags = tags.numpy()\n",
    "    \n",
    "#     features = np.concatenate([reg_features, tags], axis=1)\n",
    "    \n",
    "#     out = np.zeros((features.shape[0]+1, features.shape[1])) # place to fill start token\n",
    "#     out[1:, :] = features\n",
    "#     out[0, :reg_features.shape[1]] = 1 # START TOKEN for the regular features\n",
    "#     out[0, 8] = 1 # 8th position 1 indicating the one hot encoding of \"1\" as the start token for tags.\n",
    "    \n",
    "    return rows.values"
   ]
  },
  {
   "cell_type": "code",
   "execution_count": 25,
   "metadata": {},
   "outputs": [],
   "source": [
    "from scipy import sparse"
   ]
  },
  {
   "cell_type": "code",
   "execution_count": 26,
   "metadata": {},
   "outputs": [],
   "source": [
    "def preprocess1(rows):\n",
    "    reg_features = np.stack([\n",
    "        rows[\"timestamp\"].values.astype(dtypes_train[\"timestamp\"]),\n",
    "        rows[\"content_id\"].values.astype(dtypes_train[\"content_id\"]), \n",
    "        rows[\"task_container_id\"].values.astype(dtypes_train[\"task_container_id\"]), \n",
    "        rows[\"prior_question_elapsed_time\"].values.astype(dtypes_train[\"prior_question_elapsed_time\"]), # last question for the user doesnt have elapsed time. fill with -1\n",
    "        rows[\"prior_question_had_explanation\"].fillna(-1).values.astype(dtypes_train[\"prior_question_had_explanation\"]), # last question for the user doesnt have \"had_explanation\". fill with 2\n",
    "        rows[\"part\"].values.astype(dtypes_questions[\"part\"]),\n",
    "        rows[\"answered_correctly\"].values.astype(dtypes_train[\"answered_correctly\"])\n",
    "    ], axis=1)\n",
    "    \n",
    "    tags = rows[\"tags\"].values\n",
    "    \n",
    "    tags = tf.strings.to_number(tf.strings.split(tags), out_type=tf.int32) # will produce a ragged tensor with tags for each q\n",
    "    # ragged tensor of tags [[2], [3, 4]] is converted to one hot like [[0,0,1..], [[0,0,0,1,..], [0,0,0,0,1...]]]\n",
    "    # then sumed along axis 1, so for each question there will be 1 for all the tags associated with it.\n",
    "    tags = tf.reduce_sum(tf.one_hot(tags, depth=190), axis=1) # shape [seq_len, 190]\n",
    "    tags = tags.numpy().astype(np.int8)\n",
    "    \n",
    "    tags_sparse = sparse.coo_matrix(tags)\n",
    "    \n",
    "    return (reg_features, tags_sparse)"
   ]
  },
  {
   "cell_type": "code",
   "execution_count": 66,
   "metadata": {},
   "outputs": [],
   "source": [
    "ug_stacked = np.stack([np.pad(user_groups_arr.values[i][0], ((int(511-user_groups_arr.values[i][0].shape[0]), 0), (0, 0)), \"constant\") for i in range(len(user_groups_arr.values))])"
   ]
  },
  {
   "cell_type": "code",
   "execution_count": 69,
   "metadata": {},
   "outputs": [],
   "source": [
    "np.save(\"data/state_np_stacked\", ug_stacked)"
   ]
  },
  {
   "cell_type": "code",
   "execution_count": null,
   "metadata": {},
   "outputs": [],
   "source": [
    "ug_stacked_ragged = tf.ragged.constant([user_groups_arr.values[i][0] for i in range(len(user_groups_arr.values))])"
   ]
  },
  {
   "cell_type": "code",
   "execution_count": 33,
   "metadata": {
    "colab": {
     "base_uri": "https://localhost:8080/"
    },
    "id": "lQMdfVE4sqqb",
    "outputId": "760bd566-f544-4900-8f3f-aedcda07f888"
   },
   "outputs": [],
   "source": [
    "user_groups_arr = user_groups.groupby(\"user_id\").apply(lambda row: row.values)"
   ]
  },
  {
   "cell_type": "code",
   "execution_count": 43,
   "metadata": {
    "scrolled": false
   },
   "outputs": [],
   "source": [
    "np.save(\"data/state_np1.py\", user_groups_arr.values)"
   ]
  },
  {
   "cell_type": "code",
   "execution_count": 36,
   "metadata": {},
   "outputs": [
    {
     "data": {
      "text/plain": [
       "393656"
      ]
     },
     "execution_count": 36,
     "metadata": {},
     "output_type": "execute_result"
    }
   ],
   "source": [
    "len(user_groups_arr.index)"
   ]
  },
  {
   "cell_type": "code",
   "execution_count": 38,
   "metadata": {},
   "outputs": [
    {
     "data": {
      "text/plain": [
       "16.784256"
      ]
     },
     "execution_count": 38,
     "metadata": {},
     "output_type": "execute_result"
    }
   ],
   "source": [
    "user_groups_arr.memory_usage()/1e6"
   ]
  },
  {
   "cell_type": "code",
   "execution_count": 35,
   "metadata": {},
   "outputs": [
    {
     "data": {
      "text/plain": [
       "(46, 9)"
      ]
     },
     "execution_count": 35,
     "metadata": {},
     "output_type": "execute_result"
    }
   ],
   "source": [
    "user_groups_arr[115].shape"
   ]
  },
  {
   "cell_type": "code",
   "execution_count": 59,
   "metadata": {},
   "outputs": [
    {
     "name": "stdout",
     "output_type": "stream",
     "text": [
      "mkdir: cannot create directory ‘data’: File exists\r\n"
     ]
    }
   ],
   "source": [
    "!mkdir data\n",
    "with open(\"data/state_dict_series.pkl\", \"wb\") as f:\n",
    "  pickle.dump(user_groups_arr, f)"
   ]
  },
  {
   "cell_type": "code",
   "execution_count": 63,
   "metadata": {},
   "outputs": [
    {
     "name": "stdout",
     "output_type": "stream",
     "text": [
      "Collecting tables\n",
      "  Downloading tables-3.6.1-cp38-cp38-manylinux1_x86_64.whl (4.3 MB)\n",
      "\u001b[K     |████████████████████████████████| 4.3 MB 13.4 MB/s eta 0:00:01\n",
      "\u001b[?25hCollecting numexpr>=2.6.2\n",
      "  Downloading numexpr-2.7.2-cp38-cp38-manylinux2010_x86_64.whl (472 kB)\n",
      "\u001b[K     |████████████████████████████████| 472 kB 91.9 MB/s eta 0:00:01\n",
      "\u001b[?25hRequirement already satisfied: numpy>=1.9.3 in /home/nisarkavungal_gmx_com/miniconda3/lib/python3.8/site-packages (from tables) (1.19.4)\n",
      "Installing collected packages: numexpr, tables\n",
      "Successfully installed numexpr-2.7.2 tables-3.6.1\n",
      "Note: you may need to restart the kernel to use updated packages.\n"
     ]
    }
   ],
   "source": [
    "pip install tables"
   ]
  },
  {
   "cell_type": "code",
   "execution_count": 64,
   "metadata": {
    "scrolled": false
   },
   "outputs": [
    {
     "name": "stderr",
     "output_type": "stream",
     "text": [
      "/home/nisarkavungal_gmx_com/miniconda3/lib/python3.8/site-packages/pandas/core/generic.py:2434: PerformanceWarning: \n",
      "your performance may suffer as PyTables will pickle object types that it cannot\n",
      "map directly to c-types [inferred_type->mixed,key->values] [items->None]\n",
      "\n",
      "  pytables.to_hdf(\n"
     ]
    }
   ],
   "source": [
    "user_groups_arr.to_hdf(\"data/states_series.h5\", key=\"states\")"
   ]
  },
  {
   "cell_type": "code",
   "execution_count": 2,
   "metadata": {},
   "outputs": [],
   "source": [
    "user_groups_arr = pd.read_hdf(\"data/states_series.h5\", \"states\")"
   ]
  },
  {
   "cell_type": "code",
   "execution_count": 3,
   "metadata": {},
   "outputs": [
    {
     "data": {
      "text/plain": [
       "user_id\n",
       "115     [[115, 0, 5695, 4, nan, nan, 8, 4, 154], [115,...\n",
       "124     [[124, 0, 7903, 3, nan, nan, 4, 4, 134 96 84],...\n",
       "2746    [[2746, 0, 5276, 3, nan, nan, 8, 3, 48], [2746...\n",
       "5382    [[5382, 0, 5003, 3, nan, nan, 8, 4, 29], [5382...\n",
       "8623    [[8623, 0, 3918, 3, nan, nan, 8, 4, 99], [8623...\n",
       "dtype: object"
      ]
     },
     "execution_count": 3,
     "metadata": {},
     "output_type": "execute_result"
    }
   ],
   "source": [
    "user_groups_arr.head()"
   ]
  },
  {
   "cell_type": "code",
   "execution_count": 65,
   "metadata": {},
   "outputs": [],
   "source": [
    "user_groups_df = user_groups_arr.to_frame()"
   ]
  },
  {
   "cell_type": "code",
   "execution_count": 75,
   "metadata": {},
   "outputs": [
    {
     "data": {
      "text/html": [
       "<div>\n",
       "<style scoped>\n",
       "    .dataframe tbody tr th:only-of-type {\n",
       "        vertical-align: middle;\n",
       "    }\n",
       "\n",
       "    .dataframe tbody tr th {\n",
       "        vertical-align: top;\n",
       "    }\n",
       "\n",
       "    .dataframe thead th {\n",
       "        text-align: right;\n",
       "    }\n",
       "</style>\n",
       "<table border=\"1\" class=\"dataframe\">\n",
       "  <thead>\n",
       "    <tr style=\"text-align: right;\">\n",
       "      <th></th>\n",
       "      <th>0</th>\n",
       "    </tr>\n",
       "    <tr>\n",
       "      <th>user_id</th>\n",
       "      <th></th>\n",
       "    </tr>\n",
       "  </thead>\n",
       "  <tbody>\n",
       "    <tr>\n",
       "      <th>115</th>\n",
       "      <td>[[115, 0, 5695, 4, nan, nan, 8, 4, 154], [115,...</td>\n",
       "    </tr>\n",
       "    <tr>\n",
       "      <th>124</th>\n",
       "      <td>[[124, 0, 7903, 3, nan, nan, 4, 4, 134 96 84],...</td>\n",
       "    </tr>\n",
       "    <tr>\n",
       "      <th>2746</th>\n",
       "      <td>[[2746, 0, 5276, 3, nan, nan, 8, 3, 48], [2746...</td>\n",
       "    </tr>\n",
       "    <tr>\n",
       "      <th>5382</th>\n",
       "      <td>[[5382, 0, 5003, 3, nan, nan, 8, 4, 29], [5382...</td>\n",
       "    </tr>\n",
       "    <tr>\n",
       "      <th>8623</th>\n",
       "      <td>[[8623, 0, 3918, 3, nan, nan, 8, 4, 99], [8623...</td>\n",
       "    </tr>\n",
       "  </tbody>\n",
       "</table>\n",
       "</div>"
      ],
      "text/plain": [
       "                                                         0\n",
       "user_id                                                   \n",
       "115      [[115, 0, 5695, 4, nan, nan, 8, 4, 154], [115,...\n",
       "124      [[124, 0, 7903, 3, nan, nan, 4, 4, 134 96 84],...\n",
       "2746     [[2746, 0, 5276, 3, nan, nan, 8, 3, 48], [2746...\n",
       "5382     [[5382, 0, 5003, 3, nan, nan, 8, 4, 29], [5382...\n",
       "8623     [[8623, 0, 3918, 3, nan, nan, 8, 4, 99], [8623..."
      ]
     },
     "execution_count": 75,
     "metadata": {},
     "output_type": "execute_result"
    }
   ],
   "source": [
    "user_groups_df.head()"
   ]
  },
  {
   "cell_type": "code",
   "execution_count": 82,
   "metadata": {},
   "outputs": [],
   "source": [
    "user_groups_df = user_groups_df.rename(columns={0: \"state\"}).reset_index()"
   ]
  },
  {
   "cell_type": "code",
   "execution_count": 7,
   "metadata": {},
   "outputs": [],
   "source": [
    "# user_groups_df.to_feather(\"data/states_df.feather\")"
   ]
  },
  {
   "cell_type": "code",
   "execution_count": 50,
   "metadata": {
    "id": "HqWgp5_swYXn"
   },
   "outputs": [],
   "source": [
    "user_groups_dict = user_groups_arr.to_dict()"
   ]
  },
  {
   "cell_type": "code",
   "execution_count": 26,
   "metadata": {},
   "outputs": [],
   "source": [
    "# user_groups_dict"
   ]
  },
  {
   "cell_type": "code",
   "execution_count": 52,
   "metadata": {
    "colab": {
     "base_uri": "https://localhost:8080/"
    },
    "id": "tKINq06PwkD1",
    "outputId": "5f521a78-e2ab-4fdb-a960-e3e6b5416cdc"
   },
   "outputs": [
    {
     "data": {
      "text/plain": [
       "(511, 43558)"
      ]
     },
     "execution_count": 52,
     "metadata": {},
     "output_type": "execute_result"
    }
   ],
   "source": [
    "max_seq_len, c = 0, 0\n",
    "for k, v in user_groups_dict.items():\n",
    "  if v.shape[0] == 511:\n",
    "    c += 1\n",
    "  max_seq_len = max(max_seq_len, v.shape[0])\n",
    "\n",
    "max_seq_len, c"
   ]
  },
  {
   "cell_type": "code",
   "execution_count": 53,
   "metadata": {
    "colab": {
     "base_uri": "https://localhost:8080/"
    },
    "id": "Hv5i1DIEx8MV",
    "outputId": "3947333b-e3ef-44a0-a8a6-96fca3126fbc"
   },
   "outputs": [
    {
     "name": "stdout",
     "output_type": "stream",
     "text": [
      "mkdir: cannot create directory ‘data’: File exists\r\n"
     ]
    }
   ],
   "source": [
    "import pickle\n",
    "!mkdir data\n",
    "with open(\"data/state_dict.pkl\", \"wb\") as f:\n",
    "  pickle.dump(user_groups_dict, f)"
   ]
  },
  {
   "cell_type": "code",
   "execution_count": 54,
   "metadata": {
    "colab": {
     "base_uri": "https://localhost:8080/"
    },
    "id": "oC5XV-mHztwe",
    "outputId": "367fef0c-2c4b-4eda-d3a0-b878c65bd58f"
   },
   "outputs": [
    {
     "data": {
      "text/plain": [
       "(46, 9)"
      ]
     },
     "execution_count": 54,
     "metadata": {},
     "output_type": "execute_result"
    }
   ],
   "source": [
    "\n",
    "state_dict = {}\n",
    "\n",
    "with open(\"data/state_dict.pkl\", \"rb\") as f:\n",
    "  state_dict = pickle.load(f)\n",
    "\n",
    "state_dict[115].shape"
   ]
  },
  {
   "cell_type": "code",
   "execution_count": 8,
   "metadata": {
    "id": "l7KQXHtq0yjt"
   },
   "outputs": [
    {
     "data": {
      "text/plain": [
       "user_id\n",
       "115     [[115, 0, 5695, 4, nan, nan, 8, 4, 154], [115,...\n",
       "124     [[124, 0, 7903, 3, nan, nan, 4, 4, 134 96 84],...\n",
       "2746    [[2746, 0, 5276, 3, nan, nan, 8, 3, 48], [2746...\n",
       "5382    [[5382, 0, 5003, 3, nan, nan, 8, 4, 29], [5382...\n",
       "8623    [[8623, 0, 3918, 3, nan, nan, 8, 4, 99], [8623...\n",
       "dtype: object"
      ]
     },
     "execution_count": 8,
     "metadata": {},
     "output_type": "execute_result"
    }
   ],
   "source": [
    "user_groups_arr.head()"
   ]
  },
  {
   "cell_type": "code",
   "execution_count": 40,
   "metadata": {},
   "outputs": [
    {
     "data": {
      "text/plain": [
       "16.784256"
      ]
     },
     "execution_count": 40,
     "metadata": {},
     "output_type": "execute_result"
    }
   ],
   "source": [
    "user_groups_arr.memory_usage()/1e6"
   ]
  },
  {
   "cell_type": "code",
   "execution_count": 39,
   "metadata": {},
   "outputs": [
    {
     "data": {
      "text/plain": [
       "array([[115, 0, 5695, 4, nan, nan, 8, 4, '154'],\n",
       "       [115, 56943, 5719, 5, 37000.0, 3, 8, 4, '171'],\n",
       "       [115, 118363, 131, 3, 55000.0, 3, 4, 4, '134 152 95'],\n",
       "       [115, 131167, 7863, 6, 19000.0, 3, 4, 4, '134 107 84'],\n",
       "       [115, 137965, 7925, 7, 11000.0, 3, 4, 4, '134 152 95'],\n",
       "       [115, 157063, 159, 8, 5000.0, 3, 4, 4, '134 104 165 41'],\n",
       "       [115, 176092, 54, 9, 17000.0, 3, 4, 4, '134 190 84'],\n",
       "       [115, 194190, 53, 10, 17000.0, 3, 4, 4, '134 104 41'],\n",
       "       [115, 212463, 7899, 11, 16000.0, 3, 4, 4, '134 107 165 84'],\n",
       "       [115, 230983, 7866, 12, 16000.0, 3, 4, 4, '134 71 95'],\n",
       "       [115, 255381, 155, 13, 17000.0, 3, 4, 3, '134 8 165 84'],\n",
       "       [115, 280033, 107, 14, 22000.0, 3, 4, 3, '134 96 165 84'],\n",
       "       [115, 302994, 111, 15, 23000.0, 3, 4, 3, '134 107 95'],\n",
       "       [115, 328686, 7903, 16, 21000.0, 3, 4, 4, '134 96 84'],\n",
       "       [115, 352686, 7904, 17, 24000.0, 3, 4, 4, '134 133 95'],\n",
       "       [115, 376162, 7974, 18, 22000.0, 3, 4, 4, '134 96 95'],\n",
       "       [115, 398020, 28, 19, 21000.0, 3, 4, 4, '12 13 84'],\n",
       "       [115, 418008, 186, 20, 20000.0, 3, 4, 3, '64 113 165 32'],\n",
       "       [115, 437272, 7929, 21, 18000.0, 3, 4, 4, '12 13 95'],\n",
       "       [115, 468511, 7930, 22, 17000.0, 3, 4, 4, '13 181 32'],\n",
       "       [115, 490100, 7, 23, 29000.0, 3, 4, 3, '134 8 165 41'],\n",
       "       [115, 510583, 7987, 24, 20000.0, 3, 4, 3, '134 107 84'],\n",
       "       [115, 534187, 48, 25, 19000.0, 3, 4, 3, '13 167 165 84'],\n",
       "       [115, 557677, 188, 26, 21000.0, 3, 4, 3, '134 114 84'],\n",
       "       [115, 575289, 58, 27, 22000.0, 3, 4, 4, '134 39 165 84'],\n",
       "       [115, 597863, 7879, 28, 16000.0, 3, 4, 4, '13 97 95'],\n",
       "       [115, 621464, 9, 29, 20000.0, 3, 4, 4, '13 97 165 95'],\n",
       "       [115, 645415, 175, 30, 22000.0, 3, 4, 4, '13 167 84'],\n",
       "       [115, 670520, 7901, 31, 22000.0, 3, 4, 4, '134 102 32'],\n",
       "       [115, 692971, 178, 32, 23000.0, 3, 4, 3, '12 13 95'],\n",
       "       [115, 710402, 103, 33, 20000.0, 3, 4, 4, '134 8 84'],\n",
       "       [115, 732421, 7862, 34, 15000.0, 3, 4, 3, '134 8 95'],\n",
       "       [115, 1219624, 60, 35, 20000.0, 3, 4, 4, '134 96 165 32'],\n",
       "       [115, 1252621, 7951, 36, 20000.0, 4, 4, 4, '134 190 32'],\n",
       "       [115, 1284094, 154, 37, 22000.0, 4, 4, 4, '134 96 165 95'],\n",
       "       [115, 1320874, 170, 38, 19000.0, 4, 4, 4, '134 133 165 41'],\n",
       "       [115, 1359412, 7900, 39, 17000.0, 4, 4, 3, '64 113 165 95'],\n",
       "       [115, 1415188, 7885, 40, 20000.0, 4, 4, 4, '54 134 105'],\n",
       "       [115, 1468285, 7965, 41, 17000.0, 4, 4, 4, '54 134 95'],\n",
       "       [115, 667861680, 1281, 42, 21000.0, 3, 5, 4, '146 143 84 32'],\n",
       "       [115, 667971812, 2068, 43, 17000.0, 3, 6, 4, '139 165 95 32'],\n",
       "       [115, 667971812, 2067, 43, 17000.0, 3, 6, 4, '160 95 32'],\n",
       "       [115, 667971812, 2066, 43, 17000.0, 3, 6, 3, '139 95 32'],\n",
       "       [115, 668090043, 3366, 44, 14333.0, 3, 7, 3, '77 106 32'],\n",
       "       [115, 668090043, 3368, 44, 14333.0, 3, 7, 3, '139 106 32'],\n",
       "       [115, 668090043, 3367, 44, 14333.0, 3, 7, 4, '139 106 32']],\n",
       "      dtype=object)"
      ]
     },
     "execution_count": 39,
     "metadata": {},
     "output_type": "execute_result"
    }
   ],
   "source": [
    "user_groups_arr[115]"
   ]
  },
  {
   "cell_type": "code",
   "execution_count": 22,
   "metadata": {},
   "outputs": [],
   "source": [
    "from scipy import sparse"
   ]
  },
  {
   "cell_type": "code",
   "execution_count": 34,
   "metadata": {},
   "outputs": [],
   "source": [
    "user_groups_arr1 = user_groups_arr.apply(lambda row: sparse.coo_matrix(row[:, :8].astype(np.float32)))"
   ]
  },
  {
   "cell_type": "code",
   "execution_count": 41,
   "metadata": {},
   "outputs": [],
   "source": [
    "user_groups_arr2 = user_groups_arr.apply(lambda row: row[:, 8])"
   ]
  },
  {
   "cell_type": "code",
   "execution_count": 43,
   "metadata": {
    "scrolled": true
   },
   "outputs": [
    {
     "data": {
      "text/plain": [
       "array(['154', '171', '134 152 95', '134 107 84', '134 152 95',\n",
       "       '134 104 165 41', '134 190 84', '134 104 41', '134 107 165 84',\n",
       "       '134 71 95', '134 8 165 84', '134 96 165 84', '134 107 95',\n",
       "       '134 96 84', '134 133 95', '134 96 95', '12 13 84',\n",
       "       '64 113 165 32', '12 13 95', '13 181 32', '134 8 165 41',\n",
       "       '134 107 84', '13 167 165 84', '134 114 84', '134 39 165 84',\n",
       "       '13 97 95', '13 97 165 95', '13 167 84', '134 102 32', '12 13 95',\n",
       "       '134 8 84', '134 8 95', '134 96 165 32', '134 190 32',\n",
       "       '134 96 165 95', '134 133 165 41', '64 113 165 95', '54 134 105',\n",
       "       '54 134 95', '146 143 84 32', '139 165 95 32', '160 95 32',\n",
       "       '139 95 32', '77 106 32', '139 106 32', '139 106 32'], dtype=object)"
      ]
     },
     "execution_count": 43,
     "metadata": {},
     "output_type": "execute_result"
    }
   ],
   "source": [
    "user_groups_arr2[115]"
   ]
  },
  {
   "cell_type": "code",
   "execution_count": 46,
   "metadata": {},
   "outputs": [],
   "source": [
    "with open(\"data/state_feat1.pkl\", \"wb\") as f: # 4.96 GB\n",
    "  pickle.dump(user_groups_arr1.to_dict(), f)"
   ]
  },
  {
   "cell_type": "code",
   "execution_count": 44,
   "metadata": {},
   "outputs": [
    {
     "name": "stderr",
     "output_type": "stream",
     "text": [
      "/home/nisarkavungal_gmx_com/miniconda3/lib/python3.8/site-packages/pandas/core/generic.py:2434: PerformanceWarning: \n",
      "your performance may suffer as PyTables will pickle object types that it cannot\n",
      "map directly to c-types [inferred_type->mixed,key->values] [items->None]\n",
      "\n",
      "  pytables.to_hdf(\n"
     ]
    },
    {
     "ename": "OverflowError",
     "evalue": "value too large to convert to int",
     "output_type": "error",
     "traceback": [
      "\u001b[0;31m---------------------------------------------------------------------------\u001b[0m",
      "\u001b[0;31mOverflowError\u001b[0m                             Traceback (most recent call last)",
      "\u001b[0;32m<ipython-input-44-57116b16e9a2>\u001b[0m in \u001b[0;36m<module>\u001b[0;34m\u001b[0m\n\u001b[0;32m----> 1\u001b[0;31m \u001b[0muser_groups_arr1\u001b[0m\u001b[0;34m.\u001b[0m\u001b[0mto_hdf\u001b[0m\u001b[0;34m(\u001b[0m\u001b[0;34m\"data/state_feat1.h5\"\u001b[0m\u001b[0;34m,\u001b[0m \u001b[0mkey\u001b[0m\u001b[0;34m=\u001b[0m\u001b[0;34m\"states1\"\u001b[0m\u001b[0;34m)\u001b[0m\u001b[0;34m\u001b[0m\u001b[0;34m\u001b[0m\u001b[0m\n\u001b[0m\u001b[1;32m      2\u001b[0m \u001b[0muser_groups_arr2\u001b[0m\u001b[0;34m.\u001b[0m\u001b[0mto_hdf\u001b[0m\u001b[0;34m(\u001b[0m\u001b[0;34m\"data/state_feat2.h5\"\u001b[0m\u001b[0;34m,\u001b[0m \u001b[0mkey\u001b[0m\u001b[0;34m=\u001b[0m\u001b[0;34m\"states2\"\u001b[0m\u001b[0;34m)\u001b[0m\u001b[0;34m\u001b[0m\u001b[0;34m\u001b[0m\u001b[0m\n",
      "\u001b[0;32m~/miniconda3/lib/python3.8/site-packages/pandas/core/generic.py\u001b[0m in \u001b[0;36mto_hdf\u001b[0;34m(self, path_or_buf, key, mode, complevel, complib, append, format, index, min_itemsize, nan_rep, dropna, data_columns, errors, encoding)\u001b[0m\n\u001b[1;32m   2432\u001b[0m         \u001b[0;32mfrom\u001b[0m \u001b[0mpandas\u001b[0m\u001b[0;34m.\u001b[0m\u001b[0mio\u001b[0m \u001b[0;32mimport\u001b[0m \u001b[0mpytables\u001b[0m\u001b[0;34m\u001b[0m\u001b[0;34m\u001b[0m\u001b[0m\n\u001b[1;32m   2433\u001b[0m \u001b[0;34m\u001b[0m\u001b[0m\n\u001b[0;32m-> 2434\u001b[0;31m         pytables.to_hdf(\n\u001b[0m\u001b[1;32m   2435\u001b[0m             \u001b[0mpath_or_buf\u001b[0m\u001b[0;34m,\u001b[0m\u001b[0;34m\u001b[0m\u001b[0;34m\u001b[0m\u001b[0m\n\u001b[1;32m   2436\u001b[0m             \u001b[0mkey\u001b[0m\u001b[0;34m,\u001b[0m\u001b[0;34m\u001b[0m\u001b[0;34m\u001b[0m\u001b[0m\n",
      "\u001b[0;32m~/miniconda3/lib/python3.8/site-packages/pandas/io/pytables.py\u001b[0m in \u001b[0;36mto_hdf\u001b[0;34m(path_or_buf, key, value, mode, complevel, complib, append, format, index, min_itemsize, nan_rep, dropna, data_columns, errors, encoding)\u001b[0m\n\u001b[1;32m    268\u001b[0m             \u001b[0mpath_or_buf\u001b[0m\u001b[0;34m,\u001b[0m \u001b[0mmode\u001b[0m\u001b[0;34m=\u001b[0m\u001b[0mmode\u001b[0m\u001b[0;34m,\u001b[0m \u001b[0mcomplevel\u001b[0m\u001b[0;34m=\u001b[0m\u001b[0mcomplevel\u001b[0m\u001b[0;34m,\u001b[0m \u001b[0mcomplib\u001b[0m\u001b[0;34m=\u001b[0m\u001b[0mcomplib\u001b[0m\u001b[0;34m\u001b[0m\u001b[0;34m\u001b[0m\u001b[0m\n\u001b[1;32m    269\u001b[0m         ) as store:\n\u001b[0;32m--> 270\u001b[0;31m             \u001b[0mf\u001b[0m\u001b[0;34m(\u001b[0m\u001b[0mstore\u001b[0m\u001b[0;34m)\u001b[0m\u001b[0;34m\u001b[0m\u001b[0;34m\u001b[0m\u001b[0m\n\u001b[0m\u001b[1;32m    271\u001b[0m     \u001b[0;32melse\u001b[0m\u001b[0;34m:\u001b[0m\u001b[0;34m\u001b[0m\u001b[0;34m\u001b[0m\u001b[0m\n\u001b[1;32m    272\u001b[0m         \u001b[0mf\u001b[0m\u001b[0;34m(\u001b[0m\u001b[0mpath_or_buf\u001b[0m\u001b[0;34m)\u001b[0m\u001b[0;34m\u001b[0m\u001b[0;34m\u001b[0m\u001b[0m\n",
      "\u001b[0;32m~/miniconda3/lib/python3.8/site-packages/pandas/io/pytables.py\u001b[0m in \u001b[0;36m<lambda>\u001b[0;34m(store)\u001b[0m\n\u001b[1;32m    251\u001b[0m     \u001b[0;32melse\u001b[0m\u001b[0;34m:\u001b[0m\u001b[0;34m\u001b[0m\u001b[0;34m\u001b[0m\u001b[0m\n\u001b[1;32m    252\u001b[0m         \u001b[0;31m# NB: dropna is not passed to `put`\u001b[0m\u001b[0;34m\u001b[0m\u001b[0;34m\u001b[0m\u001b[0;34m\u001b[0m\u001b[0m\n\u001b[0;32m--> 253\u001b[0;31m         f = lambda store: store.put(\n\u001b[0m\u001b[1;32m    254\u001b[0m             \u001b[0mkey\u001b[0m\u001b[0;34m,\u001b[0m\u001b[0;34m\u001b[0m\u001b[0;34m\u001b[0m\u001b[0m\n\u001b[1;32m    255\u001b[0m             \u001b[0mvalue\u001b[0m\u001b[0;34m,\u001b[0m\u001b[0;34m\u001b[0m\u001b[0;34m\u001b[0m\u001b[0m\n",
      "\u001b[0;32m~/miniconda3/lib/python3.8/site-packages/pandas/io/pytables.py\u001b[0m in \u001b[0;36mput\u001b[0;34m(self, key, value, format, index, append, complib, complevel, min_itemsize, nan_rep, data_columns, encoding, errors, track_times)\u001b[0m\n\u001b[1;32m   1114\u001b[0m             \u001b[0mformat\u001b[0m \u001b[0;34m=\u001b[0m \u001b[0mget_option\u001b[0m\u001b[0;34m(\u001b[0m\u001b[0;34m\"io.hdf.default_format\"\u001b[0m\u001b[0;34m)\u001b[0m \u001b[0;32mor\u001b[0m \u001b[0;34m\"fixed\"\u001b[0m\u001b[0;34m\u001b[0m\u001b[0;34m\u001b[0m\u001b[0m\n\u001b[1;32m   1115\u001b[0m         \u001b[0mformat\u001b[0m \u001b[0;34m=\u001b[0m \u001b[0mself\u001b[0m\u001b[0;34m.\u001b[0m\u001b[0m_validate_format\u001b[0m\u001b[0;34m(\u001b[0m\u001b[0mformat\u001b[0m\u001b[0;34m)\u001b[0m\u001b[0;34m\u001b[0m\u001b[0;34m\u001b[0m\u001b[0m\n\u001b[0;32m-> 1116\u001b[0;31m         self._write_to_group(\n\u001b[0m\u001b[1;32m   1117\u001b[0m             \u001b[0mkey\u001b[0m\u001b[0;34m,\u001b[0m\u001b[0;34m\u001b[0m\u001b[0;34m\u001b[0m\u001b[0m\n\u001b[1;32m   1118\u001b[0m             \u001b[0mvalue\u001b[0m\u001b[0;34m,\u001b[0m\u001b[0;34m\u001b[0m\u001b[0;34m\u001b[0m\u001b[0m\n",
      "\u001b[0;32m~/miniconda3/lib/python3.8/site-packages/pandas/io/pytables.py\u001b[0m in \u001b[0;36m_write_to_group\u001b[0;34m(self, key, value, format, axes, index, append, complib, complevel, fletcher32, min_itemsize, chunksize, expectedrows, dropna, nan_rep, data_columns, encoding, errors, track_times)\u001b[0m\n\u001b[1;32m   1786\u001b[0m \u001b[0;34m\u001b[0m\u001b[0m\n\u001b[1;32m   1787\u001b[0m         \u001b[0;31m# write the object\u001b[0m\u001b[0;34m\u001b[0m\u001b[0;34m\u001b[0m\u001b[0;34m\u001b[0m\u001b[0m\n\u001b[0;32m-> 1788\u001b[0;31m         s.write(\n\u001b[0m\u001b[1;32m   1789\u001b[0m             \u001b[0mobj\u001b[0m\u001b[0;34m=\u001b[0m\u001b[0mvalue\u001b[0m\u001b[0;34m,\u001b[0m\u001b[0;34m\u001b[0m\u001b[0;34m\u001b[0m\u001b[0m\n\u001b[1;32m   1790\u001b[0m             \u001b[0maxes\u001b[0m\u001b[0;34m=\u001b[0m\u001b[0maxes\u001b[0m\u001b[0;34m,\u001b[0m\u001b[0;34m\u001b[0m\u001b[0;34m\u001b[0m\u001b[0m\n",
      "\u001b[0;32m~/miniconda3/lib/python3.8/site-packages/pandas/io/pytables.py\u001b[0m in \u001b[0;36mwrite\u001b[0;34m(self, obj, **kwargs)\u001b[0m\n\u001b[1;32m   3099\u001b[0m         \u001b[0msuper\u001b[0m\u001b[0;34m(\u001b[0m\u001b[0;34m)\u001b[0m\u001b[0;34m.\u001b[0m\u001b[0mwrite\u001b[0m\u001b[0;34m(\u001b[0m\u001b[0mobj\u001b[0m\u001b[0;34m,\u001b[0m \u001b[0;34m**\u001b[0m\u001b[0mkwargs\u001b[0m\u001b[0;34m)\u001b[0m\u001b[0;34m\u001b[0m\u001b[0;34m\u001b[0m\u001b[0m\n\u001b[1;32m   3100\u001b[0m         \u001b[0mself\u001b[0m\u001b[0;34m.\u001b[0m\u001b[0mwrite_index\u001b[0m\u001b[0;34m(\u001b[0m\u001b[0;34m\"index\"\u001b[0m\u001b[0;34m,\u001b[0m \u001b[0mobj\u001b[0m\u001b[0;34m.\u001b[0m\u001b[0mindex\u001b[0m\u001b[0;34m)\u001b[0m\u001b[0;34m\u001b[0m\u001b[0;34m\u001b[0m\u001b[0m\n\u001b[0;32m-> 3101\u001b[0;31m         \u001b[0mself\u001b[0m\u001b[0;34m.\u001b[0m\u001b[0mwrite_array\u001b[0m\u001b[0;34m(\u001b[0m\u001b[0;34m\"values\"\u001b[0m\u001b[0;34m,\u001b[0m \u001b[0mobj\u001b[0m\u001b[0;34m.\u001b[0m\u001b[0mvalues\u001b[0m\u001b[0;34m)\u001b[0m\u001b[0;34m\u001b[0m\u001b[0;34m\u001b[0m\u001b[0m\n\u001b[0m\u001b[1;32m   3102\u001b[0m         \u001b[0mself\u001b[0m\u001b[0;34m.\u001b[0m\u001b[0mattrs\u001b[0m\u001b[0;34m.\u001b[0m\u001b[0mname\u001b[0m \u001b[0;34m=\u001b[0m \u001b[0mobj\u001b[0m\u001b[0;34m.\u001b[0m\u001b[0mname\u001b[0m\u001b[0;34m\u001b[0m\u001b[0;34m\u001b[0m\u001b[0m\n\u001b[1;32m   3103\u001b[0m \u001b[0;34m\u001b[0m\u001b[0m\n",
      "\u001b[0;32m~/miniconda3/lib/python3.8/site-packages/pandas/io/pytables.py\u001b[0m in \u001b[0;36mwrite_array\u001b[0;34m(self, key, value, items)\u001b[0m\n\u001b[1;32m   3047\u001b[0m \u001b[0;34m\u001b[0m\u001b[0m\n\u001b[1;32m   3048\u001b[0m             \u001b[0mvlarr\u001b[0m \u001b[0;34m=\u001b[0m \u001b[0mself\u001b[0m\u001b[0;34m.\u001b[0m\u001b[0m_handle\u001b[0m\u001b[0;34m.\u001b[0m\u001b[0mcreate_vlarray\u001b[0m\u001b[0;34m(\u001b[0m\u001b[0mself\u001b[0m\u001b[0;34m.\u001b[0m\u001b[0mgroup\u001b[0m\u001b[0;34m,\u001b[0m \u001b[0mkey\u001b[0m\u001b[0;34m,\u001b[0m \u001b[0m_tables\u001b[0m\u001b[0;34m(\u001b[0m\u001b[0;34m)\u001b[0m\u001b[0;34m.\u001b[0m\u001b[0mObjectAtom\u001b[0m\u001b[0;34m(\u001b[0m\u001b[0;34m)\u001b[0m\u001b[0;34m)\u001b[0m\u001b[0;34m\u001b[0m\u001b[0;34m\u001b[0m\u001b[0m\n\u001b[0;32m-> 3049\u001b[0;31m             \u001b[0mvlarr\u001b[0m\u001b[0;34m.\u001b[0m\u001b[0mappend\u001b[0m\u001b[0;34m(\u001b[0m\u001b[0mvalue\u001b[0m\u001b[0;34m)\u001b[0m\u001b[0;34m\u001b[0m\u001b[0;34m\u001b[0m\u001b[0m\n\u001b[0m\u001b[1;32m   3050\u001b[0m \u001b[0;34m\u001b[0m\u001b[0m\n\u001b[1;32m   3051\u001b[0m         \u001b[0;32melif\u001b[0m \u001b[0mempty_array\u001b[0m\u001b[0;34m:\u001b[0m\u001b[0;34m\u001b[0m\u001b[0;34m\u001b[0m\u001b[0m\n",
      "\u001b[0;32m~/miniconda3/lib/python3.8/site-packages/tables/vlarray.py\u001b[0m in \u001b[0;36mappend\u001b[0;34m(self, sequence)\u001b[0m\n\u001b[1;32m    541\u001b[0m             \u001b[0mnparr\u001b[0m \u001b[0;34m=\u001b[0m \u001b[0;32mNone\u001b[0m\u001b[0;34m\u001b[0m\u001b[0;34m\u001b[0m\u001b[0m\n\u001b[1;32m    542\u001b[0m \u001b[0;34m\u001b[0m\u001b[0m\n\u001b[0;32m--> 543\u001b[0;31m         \u001b[0mself\u001b[0m\u001b[0;34m.\u001b[0m\u001b[0m_append\u001b[0m\u001b[0;34m(\u001b[0m\u001b[0mnparr\u001b[0m\u001b[0;34m,\u001b[0m \u001b[0mnobjects\u001b[0m\u001b[0;34m)\u001b[0m\u001b[0;34m\u001b[0m\u001b[0;34m\u001b[0m\u001b[0m\n\u001b[0m\u001b[1;32m    544\u001b[0m         \u001b[0mself\u001b[0m\u001b[0;34m.\u001b[0m\u001b[0mnrows\u001b[0m \u001b[0;34m+=\u001b[0m \u001b[0;36m1\u001b[0m\u001b[0;34m\u001b[0m\u001b[0;34m\u001b[0m\u001b[0m\n\u001b[1;32m    545\u001b[0m \u001b[0;34m\u001b[0m\u001b[0m\n",
      "\u001b[0;32mtables/hdf5extension.pyx\u001b[0m in \u001b[0;36mtables.hdf5extension.VLArray._append\u001b[0;34m()\u001b[0m\n",
      "\u001b[0;31mOverflowError\u001b[0m: value too large to convert to int"
     ]
    }
   ],
   "source": [
    "user_groups_arr1.to_hdf(\"data/state_feat1.h5\", key=\"states1\")\n",
    "user_groups_arr2.to_hdf(\"data/state_feat2.h5\", key=\"states2\")"
   ]
  },
  {
   "cell_type": "code",
   "execution_count": 40,
   "metadata": {},
   "outputs": [
    {
     "data": {
      "text/plain": [
       "array([[ True,  True,  True,  True, False, False,  True,  True],\n",
       "       [ True,  True,  True,  True,  True,  True,  True,  True],\n",
       "       [ True,  True,  True,  True,  True,  True,  True,  True],\n",
       "       [ True,  True,  True,  True,  True,  True,  True,  True],\n",
       "       [ True,  True,  True,  True,  True,  True,  True,  True],\n",
       "       [ True,  True,  True,  True,  True,  True,  True,  True],\n",
       "       [ True,  True,  True,  True,  True,  True,  True,  True],\n",
       "       [ True,  True,  True,  True,  True,  True,  True,  True],\n",
       "       [ True,  True,  True,  True,  True,  True,  True,  True],\n",
       "       [ True,  True,  True,  True,  True,  True,  True,  True],\n",
       "       [ True,  True,  True,  True,  True,  True,  True,  True],\n",
       "       [ True,  True,  True,  True,  True,  True,  True,  True],\n",
       "       [ True,  True,  True,  True,  True,  True,  True,  True],\n",
       "       [ True,  True,  True,  True,  True,  True,  True,  True],\n",
       "       [ True,  True,  True,  True,  True,  True,  True,  True],\n",
       "       [ True,  True,  True,  True,  True,  True,  True,  True],\n",
       "       [ True,  True,  True,  True,  True,  True,  True,  True],\n",
       "       [ True,  True,  True,  True,  True,  True,  True,  True],\n",
       "       [ True,  True,  True,  True,  True,  True,  True,  True],\n",
       "       [ True,  True,  True,  True,  True,  True,  True,  True],\n",
       "       [ True,  True,  True,  True,  True,  True,  True,  True],\n",
       "       [ True,  True,  True,  True,  True,  True,  True,  True],\n",
       "       [ True,  True,  True,  True,  True,  True,  True,  True],\n",
       "       [ True,  True,  True,  True,  True,  True,  True,  True],\n",
       "       [ True,  True,  True,  True,  True,  True,  True,  True],\n",
       "       [ True,  True,  True,  True,  True,  True,  True,  True],\n",
       "       [ True,  True,  True,  True,  True,  True,  True,  True],\n",
       "       [ True,  True,  True,  True,  True,  True,  True,  True],\n",
       "       [ True,  True,  True,  True,  True,  True,  True,  True],\n",
       "       [ True,  True,  True,  True,  True,  True,  True,  True],\n",
       "       [ True,  True,  True,  True,  True,  True,  True,  True],\n",
       "       [ True,  True,  True,  True,  True,  True,  True,  True],\n",
       "       [ True,  True,  True,  True,  True,  True,  True,  True],\n",
       "       [ True,  True,  True,  True,  True,  True,  True,  True],\n",
       "       [ True,  True,  True,  True,  True,  True,  True,  True],\n",
       "       [ True,  True,  True,  True,  True,  True,  True,  True],\n",
       "       [ True,  True,  True,  True,  True,  True,  True,  True],\n",
       "       [ True,  True,  True,  True,  True,  True,  True,  True],\n",
       "       [ True,  True,  True,  True,  True,  True,  True,  True],\n",
       "       [ True,  True,  True,  True,  True,  True,  True,  True],\n",
       "       [ True,  True,  True,  True,  True,  True,  True,  True],\n",
       "       [ True,  True,  True,  True,  True,  True,  True,  True],\n",
       "       [ True,  True,  True,  True,  True,  True,  True,  True],\n",
       "       [ True,  True,  True,  True,  True,  True,  True,  True],\n",
       "       [ True,  True,  True,  True,  True,  True,  True,  True],\n",
       "       [ True,  True,  True,  True,  True,  True,  True,  True]])"
      ]
     },
     "execution_count": 40,
     "metadata": {},
     "output_type": "execute_result"
    }
   ],
   "source": [
    "user_groups_arr1[115].toarray() == user_groups_arr[115][:, :8].astype(np.float32)"
   ]
  },
  {
   "cell_type": "code",
   "execution_count": 32,
   "metadata": {},
   "outputs": [],
   "source": [
    "s = sparse.coo_matrix(user_groups_arr[115][:, :7].astype(np.float32))"
   ]
  },
  {
   "cell_type": "code",
   "execution_count": 33,
   "metadata": {},
   "outputs": [
    {
     "data": {
      "text/plain": [
       "array([[1.1500000e+02, 0.0000000e+00, 5.6950000e+03, 4.0000000e+00,\n",
       "                  nan,           nan, 8.0000000e+00],\n",
       "       [1.1500000e+02, 5.6943000e+04, 5.7190000e+03, 5.0000000e+00,\n",
       "        3.7000000e+04, 3.0000000e+00, 8.0000000e+00],\n",
       "       [1.1500000e+02, 1.1836300e+05, 1.3100000e+02, 3.0000000e+00,\n",
       "        5.5000000e+04, 3.0000000e+00, 4.0000000e+00],\n",
       "       [1.1500000e+02, 1.3116700e+05, 7.8630000e+03, 6.0000000e+00,\n",
       "        1.9000000e+04, 3.0000000e+00, 4.0000000e+00],\n",
       "       [1.1500000e+02, 1.3796500e+05, 7.9250000e+03, 7.0000000e+00,\n",
       "        1.1000000e+04, 3.0000000e+00, 4.0000000e+00],\n",
       "       [1.1500000e+02, 1.5706300e+05, 1.5900000e+02, 8.0000000e+00,\n",
       "        5.0000000e+03, 3.0000000e+00, 4.0000000e+00],\n",
       "       [1.1500000e+02, 1.7609200e+05, 5.4000000e+01, 9.0000000e+00,\n",
       "        1.7000000e+04, 3.0000000e+00, 4.0000000e+00],\n",
       "       [1.1500000e+02, 1.9419000e+05, 5.3000000e+01, 1.0000000e+01,\n",
       "        1.7000000e+04, 3.0000000e+00, 4.0000000e+00],\n",
       "       [1.1500000e+02, 2.1246300e+05, 7.8990000e+03, 1.1000000e+01,\n",
       "        1.6000000e+04, 3.0000000e+00, 4.0000000e+00],\n",
       "       [1.1500000e+02, 2.3098300e+05, 7.8660000e+03, 1.2000000e+01,\n",
       "        1.6000000e+04, 3.0000000e+00, 4.0000000e+00],\n",
       "       [1.1500000e+02, 2.5538100e+05, 1.5500000e+02, 1.3000000e+01,\n",
       "        1.7000000e+04, 3.0000000e+00, 4.0000000e+00],\n",
       "       [1.1500000e+02, 2.8003300e+05, 1.0700000e+02, 1.4000000e+01,\n",
       "        2.2000000e+04, 3.0000000e+00, 4.0000000e+00],\n",
       "       [1.1500000e+02, 3.0299400e+05, 1.1100000e+02, 1.5000000e+01,\n",
       "        2.3000000e+04, 3.0000000e+00, 4.0000000e+00],\n",
       "       [1.1500000e+02, 3.2868600e+05, 7.9030000e+03, 1.6000000e+01,\n",
       "        2.1000000e+04, 3.0000000e+00, 4.0000000e+00],\n",
       "       [1.1500000e+02, 3.5268600e+05, 7.9040000e+03, 1.7000000e+01,\n",
       "        2.4000000e+04, 3.0000000e+00, 4.0000000e+00],\n",
       "       [1.1500000e+02, 3.7616200e+05, 7.9740000e+03, 1.8000000e+01,\n",
       "        2.2000000e+04, 3.0000000e+00, 4.0000000e+00],\n",
       "       [1.1500000e+02, 3.9802000e+05, 2.8000000e+01, 1.9000000e+01,\n",
       "        2.1000000e+04, 3.0000000e+00, 4.0000000e+00],\n",
       "       [1.1500000e+02, 4.1800800e+05, 1.8600000e+02, 2.0000000e+01,\n",
       "        2.0000000e+04, 3.0000000e+00, 4.0000000e+00],\n",
       "       [1.1500000e+02, 4.3727200e+05, 7.9290000e+03, 2.1000000e+01,\n",
       "        1.8000000e+04, 3.0000000e+00, 4.0000000e+00],\n",
       "       [1.1500000e+02, 4.6851100e+05, 7.9300000e+03, 2.2000000e+01,\n",
       "        1.7000000e+04, 3.0000000e+00, 4.0000000e+00],\n",
       "       [1.1500000e+02, 4.9010000e+05, 7.0000000e+00, 2.3000000e+01,\n",
       "        2.9000000e+04, 3.0000000e+00, 4.0000000e+00],\n",
       "       [1.1500000e+02, 5.1058300e+05, 7.9870000e+03, 2.4000000e+01,\n",
       "        2.0000000e+04, 3.0000000e+00, 4.0000000e+00],\n",
       "       [1.1500000e+02, 5.3418700e+05, 4.8000000e+01, 2.5000000e+01,\n",
       "        1.9000000e+04, 3.0000000e+00, 4.0000000e+00],\n",
       "       [1.1500000e+02, 5.5767700e+05, 1.8800000e+02, 2.6000000e+01,\n",
       "        2.1000000e+04, 3.0000000e+00, 4.0000000e+00],\n",
       "       [1.1500000e+02, 5.7528900e+05, 5.8000000e+01, 2.7000000e+01,\n",
       "        2.2000000e+04, 3.0000000e+00, 4.0000000e+00],\n",
       "       [1.1500000e+02, 5.9786300e+05, 7.8790000e+03, 2.8000000e+01,\n",
       "        1.6000000e+04, 3.0000000e+00, 4.0000000e+00],\n",
       "       [1.1500000e+02, 6.2146400e+05, 9.0000000e+00, 2.9000000e+01,\n",
       "        2.0000000e+04, 3.0000000e+00, 4.0000000e+00],\n",
       "       [1.1500000e+02, 6.4541500e+05, 1.7500000e+02, 3.0000000e+01,\n",
       "        2.2000000e+04, 3.0000000e+00, 4.0000000e+00],\n",
       "       [1.1500000e+02, 6.7052000e+05, 7.9010000e+03, 3.1000000e+01,\n",
       "        2.2000000e+04, 3.0000000e+00, 4.0000000e+00],\n",
       "       [1.1500000e+02, 6.9297100e+05, 1.7800000e+02, 3.2000000e+01,\n",
       "        2.3000000e+04, 3.0000000e+00, 4.0000000e+00],\n",
       "       [1.1500000e+02, 7.1040200e+05, 1.0300000e+02, 3.3000000e+01,\n",
       "        2.0000000e+04, 3.0000000e+00, 4.0000000e+00],\n",
       "       [1.1500000e+02, 7.3242100e+05, 7.8620000e+03, 3.4000000e+01,\n",
       "        1.5000000e+04, 3.0000000e+00, 4.0000000e+00],\n",
       "       [1.1500000e+02, 1.2196240e+06, 6.0000000e+01, 3.5000000e+01,\n",
       "        2.0000000e+04, 3.0000000e+00, 4.0000000e+00],\n",
       "       [1.1500000e+02, 1.2526210e+06, 7.9510000e+03, 3.6000000e+01,\n",
       "        2.0000000e+04, 4.0000000e+00, 4.0000000e+00],\n",
       "       [1.1500000e+02, 1.2840940e+06, 1.5400000e+02, 3.7000000e+01,\n",
       "        2.2000000e+04, 4.0000000e+00, 4.0000000e+00],\n",
       "       [1.1500000e+02, 1.3208740e+06, 1.7000000e+02, 3.8000000e+01,\n",
       "        1.9000000e+04, 4.0000000e+00, 4.0000000e+00],\n",
       "       [1.1500000e+02, 1.3594120e+06, 7.9000000e+03, 3.9000000e+01,\n",
       "        1.7000000e+04, 4.0000000e+00, 4.0000000e+00],\n",
       "       [1.1500000e+02, 1.4151880e+06, 7.8850000e+03, 4.0000000e+01,\n",
       "        2.0000000e+04, 4.0000000e+00, 4.0000000e+00],\n",
       "       [1.1500000e+02, 1.4682850e+06, 7.9650000e+03, 4.1000000e+01,\n",
       "        1.7000000e+04, 4.0000000e+00, 4.0000000e+00],\n",
       "       [1.1500000e+02, 6.6786170e+08, 1.2810000e+03, 4.2000000e+01,\n",
       "        2.1000000e+04, 3.0000000e+00, 5.0000000e+00],\n",
       "       [1.1500000e+02, 6.6797184e+08, 2.0680000e+03, 4.3000000e+01,\n",
       "        1.7000000e+04, 3.0000000e+00, 6.0000000e+00],\n",
       "       [1.1500000e+02, 6.6797184e+08, 2.0670000e+03, 4.3000000e+01,\n",
       "        1.7000000e+04, 3.0000000e+00, 6.0000000e+00],\n",
       "       [1.1500000e+02, 6.6797184e+08, 2.0660000e+03, 4.3000000e+01,\n",
       "        1.7000000e+04, 3.0000000e+00, 6.0000000e+00],\n",
       "       [1.1500000e+02, 6.6809005e+08, 3.3660000e+03, 4.4000000e+01,\n",
       "        1.4333000e+04, 3.0000000e+00, 7.0000000e+00],\n",
       "       [1.1500000e+02, 6.6809005e+08, 3.3680000e+03, 4.4000000e+01,\n",
       "        1.4333000e+04, 3.0000000e+00, 7.0000000e+00],\n",
       "       [1.1500000e+02, 6.6809005e+08, 3.3670000e+03, 4.4000000e+01,\n",
       "        1.4333000e+04, 3.0000000e+00, 7.0000000e+00]], dtype=float32)"
      ]
     },
     "execution_count": 33,
     "metadata": {},
     "output_type": "execute_result"
    }
   ],
   "source": [
    "s.toarray()"
   ]
  },
  {
   "cell_type": "code",
   "execution_count": 19,
   "metadata": {},
   "outputs": [
    {
     "name": "stdout",
     "output_type": "stream",
     "text": [
      "Collecting scipy\n",
      "  Downloading scipy-1.5.4-cp38-cp38-manylinux1_x86_64.whl (25.8 MB)\n",
      "\u001b[K     |████████████████████████████████| 25.8 MB 4.2 MB/s eta 0:00:01\n",
      "\u001b[?25hRequirement already satisfied: numpy>=1.14.5 in /home/nisarkavungal_gmx_com/miniconda3/lib/python3.8/site-packages (from scipy) (1.19.4)\n",
      "Installing collected packages: scipy\n",
      "Successfully installed scipy-1.5.4\n"
     ]
    }
   ],
   "source": [
    "!pip install scipy"
   ]
  },
  {
   "cell_type": "code",
   "execution_count": null,
   "metadata": {},
   "outputs": [],
   "source": []
  }
 ],
 "metadata": {
  "colab": {
   "authorship_tag": "ABX9TyOIEQkF3TTWiepYXvsycpc0",
   "include_colab_link": true,
   "name": "riid_tfrecords.ipynb",
   "provenance": [],
   "toc_visible": true
  },
  "kernelspec": {
   "display_name": "Python 3",
   "language": "python",
   "name": "python3"
  },
  "language_info": {
   "codemirror_mode": {
    "name": "ipython",
    "version": 3
   },
   "file_extension": ".py",
   "mimetype": "text/x-python",
   "name": "python",
   "nbconvert_exporter": "python",
   "pygments_lexer": "ipython3",
   "version": "3.8.5"
  }
 },
 "nbformat": 4,
 "nbformat_minor": 1
}
