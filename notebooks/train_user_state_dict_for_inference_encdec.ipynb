{
  "nbformat": 4,
  "nbformat_minor": 0,
  "metadata": {
    "colab": {
      "name": "riid_tfrecords.ipynb",
      "provenance": [],
      "toc_visible": true,
      "authorship_tag": "ABX9TyOIEQkF3TTWiepYXvsycpc0",
      "include_colab_link": true
    },
    "kernelspec": {
      "name": "python3",
      "display_name": "Python 3"
    }
  },
  "cells": [
    {
      "cell_type": "markdown",
      "metadata": {
        "id": "view-in-github",
        "colab_type": "text"
      },
      "source": [
        "<a href=\"https://colab.research.google.com/github/nisarahamedk/kaggle-riid/blob/master/notebooks/train_user_state_dict_for_inference_encdec.ipynb\" target=\"_parent\"><img src=\"https://colab.research.google.com/assets/colab-badge.svg\" alt=\"Open In Colab\"/></a>"
      ]
    },
    {
      "cell_type": "code",
      "metadata": {
        "id": "9lORpE-PmPUD"
      },
      "source": [
        "%%capture\n",
        "!pip install gcsfs\n",
        "!pip install kaggle\n",
        "!pip install datatable\n",
        "!pip install -U modin[all] # -U for upgrade in case you have an older version"
      ],
      "execution_count": 1,
      "outputs": []
    },
    {
      "cell_type": "code",
      "metadata": {
        "colab": {
          "base_uri": "https://localhost:8080/"
        },
        "id": "rGqAnzw7CPVM",
        "outputId": "2b00c91a-0608-4e49-9b75-5270ab3603b7"
      },
      "source": [
        "from google.colab import drive\n",
        "drive.mount(\"/content/drive\")"
      ],
      "execution_count": 2,
      "outputs": [
        {
          "output_type": "stream",
          "text": [
            "Mounted at /content/drive\n"
          ],
          "name": "stdout"
        }
      ]
    },
    {
      "cell_type": "code",
      "metadata": {
        "id": "eYjY_QlTCSVh"
      },
      "source": [
        "# Copy Kaggle API key\n",
        "!mkdir -p ~/.kaggle && cp /content/drive/My\\ Drive/Projects/Kaggle/api_key/kaggle.json ~/.kaggle/"
      ],
      "execution_count": 3,
      "outputs": []
    },
    {
      "cell_type": "code",
      "metadata": {
        "colab": {
          "base_uri": "https://localhost:8080/"
        },
        "id": "HkFf3M7oCo7U",
        "outputId": "d5d0e6c3-ecc6-4050-c4e1-914ed332fbcb"
      },
      "source": [
        "!kaggle datasets download -d rohanrao/riiid-train-data-multiple-formats"
      ],
      "execution_count": 4,
      "outputs": [
        {
          "output_type": "stream",
          "text": [
            "Downloading riiid-train-data-multiple-formats.zip to /content\n",
            "100% 4.16G/4.17G [02:10<00:00, 29.1MB/s]\n",
            "100% 4.17G/4.17G [02:10<00:00, 34.3MB/s]\n"
          ],
          "name": "stdout"
        }
      ]
    },
    {
      "cell_type": "code",
      "metadata": {
        "id": "DyLaiKdiFtk7",
        "outputId": "b92a177e-1a7f-44d2-e818-e67bf6572797",
        "colab": {
          "base_uri": "https://localhost:8080/"
        }
      },
      "source": [
        "!unzip riiid-train-data-multiple-formats"
      ],
      "execution_count": 5,
      "outputs": [
        {
          "output_type": "stream",
          "text": [
            "Archive:  riiid-train-data-multiple-formats.zip\n",
            "  inflating: riiid_train.feather     \n",
            "  inflating: riiid_train.h5          \n",
            "  inflating: riiid_train.jay         \n",
            "  inflating: riiid_train.parquet     \n",
            "  inflating: riiid_train.pkl.gzip    \n"
          ],
          "name": "stdout"
        }
      ]
    },
    {
      "cell_type": "code",
      "metadata": {
        "id": "b_yN4Cx2mTLs"
      },
      "source": [
        "import pickle\n",
        "import math\n",
        "\n",
        "import gcsfs\n",
        "import modin.pandas as pd\n",
        "import numpy as np\n",
        "from tqdm import tqdm, trange\n",
        "import tensorflow as tf\n",
        "from datatable import dt, f, by, count\n",
        "\n",
        "\n",
        "np.random.seed(42)\n",
        "tf.random.set_seed(42)"
      ],
      "execution_count": 2,
      "outputs": []
    },
    {
      "cell_type": "code",
      "metadata": {
        "id": "P6tW4NNrC-xD"
      },
      "source": [
        "SEQ_LEN = 512"
      ],
      "execution_count": 7,
      "outputs": []
    },
    {
      "cell_type": "code",
      "metadata": {
        "id": "1JABSd0TI6Ow"
      },
      "source": [
        "table = dt.fread(\"riiid_train.jay\")"
      ],
      "execution_count": 8,
      "outputs": []
    },
    {
      "cell_type": "code",
      "metadata": {
        "colab": {
          "base_uri": "https://localhost:8080/",
          "height": 508
        },
        "id": "boWtiNE8JbII",
        "outputId": "fd76e46a-359b-4f68-c0ef-cfdd1b340356"
      },
      "source": [
        "table = table[f.content_type_id==0, :]\r\n",
        "table.head()"
      ],
      "execution_count": 10,
      "outputs": [
        {
          "output_type": "stream",
          "text": [
            "   | row_id  timestamp  user_id  content_id  content_type_id  task_container_id  user_answer  answered_correctly    pr…  …\n",
            "-- + ------  ---------  -------  ----------  ---------------  -----------------  -----------  ------------------  -----   \n",
            " 0 |      0          0      115        5692                0                  1            3                   1     NA  …\n",
            " 1 |      1      56943      115        5716                0                  2            2                   1  37000  …\n",
            " 2 |      2     118363      115         128                0                  0            0                   1  55000  …\n",
            " 3 |      3     131167      115        7860                0                  3            0                   1  19000  …\n",
            " 4 |      4     137965      115        7922                0                  4            1                   1  11000  …\n",
            " 5 |      5     157063      115         156                0                  5            2                   1   5000  …\n",
            " 6 |      6     176092      115          51                0                  6            0                   1  17000  …\n",
            " 7 |      7     194190      115          50                0                  7            3                   1  17000  …\n",
            " 8 |      8     212463      115        7896                0                  8            2                   1  16000  …\n",
            " 9 |      9     230983      115        7863                0                  9            0                   1  16000  …\n",
            "\n",
            "[10 rows x 10 columns]\n"
          ],
          "name": "stdout"
        },
        {
          "output_type": "execute_result",
          "data": {
            "text/html": [
              "<div class='datatable'>\n",
              "  <table class='frame'>\n",
              "  <thead>\n",
              "    <tr class='colnames'><td class='row_index'></td><th>row_id</th><th>timestamp</th><th>user_id</th><th>content_id</th><th>content_type_id</th><th>task_container_id</th><th>user_answer</th><th>answered_correctly</th><th>prior_question_elapsed_time</th><th>prior_question_had_explanation</th></tr>\n",
              "    <tr class='coltypes'><td class='row_index'></td><td class='int' title='int32'>&#x25AA;&#x25AA;&#x25AA;&#x25AA;</td><td class='int' title='int64'>&#x25AA;&#x25AA;&#x25AA;&#x25AA;&#x25AA;&#x25AA;&#x25AA;&#x25AA;</td><td class='int' title='int32'>&#x25AA;&#x25AA;&#x25AA;&#x25AA;</td><td class='int' title='int32'>&#x25AA;&#x25AA;&#x25AA;&#x25AA;</td><td class='bool' title='bool8'>&#x25AA;</td><td class='int' title='int32'>&#x25AA;&#x25AA;&#x25AA;&#x25AA;</td><td class='int' title='int32'>&#x25AA;&#x25AA;&#x25AA;&#x25AA;</td><td class='int' title='int32'>&#x25AA;&#x25AA;&#x25AA;&#x25AA;</td><td class='float' title='float64'>&#x25AA;&#x25AA;&#x25AA;&#x25AA;&#x25AA;&#x25AA;&#x25AA;&#x25AA;</td><td class='bool' title='bool8'>&#x25AA;</td></tr>\n",
              "  </thead>\n",
              "  <tbody>\n",
              "    <tr><td class='row_index'>0</td><td>0</td><td>0</td><td>115</td><td>5692</td><td>0</td><td>1</td><td>3</td><td>1</td><td><span class=na>NA</span></td><td><span class=na>NA</span></td></tr>\n",
              "    <tr><td class='row_index'>1</td><td>1</td><td>56943</td><td>115</td><td>5716</td><td>0</td><td>2</td><td>2</td><td>1</td><td>37000</td><td>0</td></tr>\n",
              "    <tr><td class='row_index'>2</td><td>2</td><td>118363</td><td>115</td><td>128</td><td>0</td><td>0</td><td>0</td><td>1</td><td>55000</td><td>0</td></tr>\n",
              "    <tr><td class='row_index'>3</td><td>3</td><td>131167</td><td>115</td><td>7860</td><td>0</td><td>3</td><td>0</td><td>1</td><td>19000</td><td>0</td></tr>\n",
              "    <tr><td class='row_index'>4</td><td>4</td><td>137965</td><td>115</td><td>7922</td><td>0</td><td>4</td><td>1</td><td>1</td><td>11000</td><td>0</td></tr>\n",
              "    <tr><td class='row_index'>5</td><td>5</td><td>157063</td><td>115</td><td>156</td><td>0</td><td>5</td><td>2</td><td>1</td><td>5000</td><td>0</td></tr>\n",
              "    <tr><td class='row_index'>6</td><td>6</td><td>176092</td><td>115</td><td>51</td><td>0</td><td>6</td><td>0</td><td>1</td><td>17000</td><td>0</td></tr>\n",
              "    <tr><td class='row_index'>7</td><td>7</td><td>194190</td><td>115</td><td>50</td><td>0</td><td>7</td><td>3</td><td>1</td><td>17000</td><td>0</td></tr>\n",
              "    <tr><td class='row_index'>8</td><td>8</td><td>212463</td><td>115</td><td>7896</td><td>0</td><td>8</td><td>2</td><td>1</td><td>16000</td><td>0</td></tr>\n",
              "    <tr><td class='row_index'>9</td><td>9</td><td>230983</td><td>115</td><td>7863</td><td>0</td><td>9</td><td>0</td><td>1</td><td>16000</td><td>0</td></tr>\n",
              "  </tbody>\n",
              "  </table>\n",
              "  <div class='footer'>\n",
              "    <div class='frame_dimensions'>10 rows &times; 10 columns</div>\n",
              "  </div>\n",
              "</div>\n"
            ],
            "text/plain": [
              ""
            ]
          },
          "metadata": {
            "tags": []
          },
          "execution_count": 10
        }
      ]
    },
    {
      "cell_type": "code",
      "metadata": {
        "id": "w0xRSqEhuU_B"
      },
      "source": [
        "user_table = table[-(SEQ_LEN-1):, :, by(\"user_id\")] # last SEQ_LEN-1 rows of all the user ids, this is the history we need at inference time"
      ],
      "execution_count": 11,
      "outputs": []
    },
    {
      "cell_type": "code",
      "metadata": {
        "id": "GyfN3-7zujXS",
        "colab": {
          "base_uri": "https://localhost:8080/",
          "height": 508
        },
        "outputId": "e8e17167-96c4-45f3-dea1-fc922f4ad581"
      },
      "source": [
        "user_table.head()"
      ],
      "execution_count": 13,
      "outputs": [
        {
          "output_type": "stream",
          "text": [
            "   | user_id  row_id  timestamp  content_id  content_type_id  task_container_id  user_answer  answered_correctly    pr…  …\n",
            "-- + -------  ------  ---------  ----------  ---------------  -----------------  -----------  ------------------  -----   \n",
            " 0 |     115       0          0        5692                0                  1            3                   1     NA  …\n",
            " 1 |     115       1      56943        5716                0                  2            2                   1  37000  …\n",
            " 2 |     115       2     118363         128                0                  0            0                   1  55000  …\n",
            " 3 |     115       3     131167        7860                0                  3            0                   1  19000  …\n",
            " 4 |     115       4     137965        7922                0                  4            1                   1  11000  …\n",
            " 5 |     115       5     157063         156                0                  5            2                   1   5000  …\n",
            " 6 |     115       6     176092          51                0                  6            0                   1  17000  …\n",
            " 7 |     115       7     194190          50                0                  7            3                   1  17000  …\n",
            " 8 |     115       8     212463        7896                0                  8            2                   1  16000  …\n",
            " 9 |     115       9     230983        7863                0                  9            0                   1  16000  …\n",
            "\n",
            "[10 rows x 10 columns]\n"
          ],
          "name": "stdout"
        },
        {
          "output_type": "execute_result",
          "data": {
            "text/html": [
              "<div class='datatable'>\n",
              "  <table class='frame'>\n",
              "  <thead>\n",
              "    <tr class='colnames'><td class='row_index'></td><th>user_id</th><th>row_id</th><th>timestamp</th><th>content_id</th><th>content_type_id</th><th>task_container_id</th><th>user_answer</th><th>answered_correctly</th><th>prior_question_elapsed_time</th><th>prior_question_had_explanation</th></tr>\n",
              "    <tr class='coltypes'><td class='row_index'></td><td class='int' title='int32'>&#x25AA;&#x25AA;&#x25AA;&#x25AA;</td><td class='int' title='int32'>&#x25AA;&#x25AA;&#x25AA;&#x25AA;</td><td class='int' title='int64'>&#x25AA;&#x25AA;&#x25AA;&#x25AA;&#x25AA;&#x25AA;&#x25AA;&#x25AA;</td><td class='int' title='int32'>&#x25AA;&#x25AA;&#x25AA;&#x25AA;</td><td class='bool' title='bool8'>&#x25AA;</td><td class='int' title='int32'>&#x25AA;&#x25AA;&#x25AA;&#x25AA;</td><td class='int' title='int32'>&#x25AA;&#x25AA;&#x25AA;&#x25AA;</td><td class='int' title='int32'>&#x25AA;&#x25AA;&#x25AA;&#x25AA;</td><td class='float' title='float64'>&#x25AA;&#x25AA;&#x25AA;&#x25AA;&#x25AA;&#x25AA;&#x25AA;&#x25AA;</td><td class='bool' title='bool8'>&#x25AA;</td></tr>\n",
              "  </thead>\n",
              "  <tbody>\n",
              "    <tr><td class='row_index'>0</td><td>115</td><td>0</td><td>0</td><td>5692</td><td>0</td><td>1</td><td>3</td><td>1</td><td><span class=na>NA</span></td><td><span class=na>NA</span></td></tr>\n",
              "    <tr><td class='row_index'>1</td><td>115</td><td>1</td><td>56943</td><td>5716</td><td>0</td><td>2</td><td>2</td><td>1</td><td>37000</td><td>0</td></tr>\n",
              "    <tr><td class='row_index'>2</td><td>115</td><td>2</td><td>118363</td><td>128</td><td>0</td><td>0</td><td>0</td><td>1</td><td>55000</td><td>0</td></tr>\n",
              "    <tr><td class='row_index'>3</td><td>115</td><td>3</td><td>131167</td><td>7860</td><td>0</td><td>3</td><td>0</td><td>1</td><td>19000</td><td>0</td></tr>\n",
              "    <tr><td class='row_index'>4</td><td>115</td><td>4</td><td>137965</td><td>7922</td><td>0</td><td>4</td><td>1</td><td>1</td><td>11000</td><td>0</td></tr>\n",
              "    <tr><td class='row_index'>5</td><td>115</td><td>5</td><td>157063</td><td>156</td><td>0</td><td>5</td><td>2</td><td>1</td><td>5000</td><td>0</td></tr>\n",
              "    <tr><td class='row_index'>6</td><td>115</td><td>6</td><td>176092</td><td>51</td><td>0</td><td>6</td><td>0</td><td>1</td><td>17000</td><td>0</td></tr>\n",
              "    <tr><td class='row_index'>7</td><td>115</td><td>7</td><td>194190</td><td>50</td><td>0</td><td>7</td><td>3</td><td>1</td><td>17000</td><td>0</td></tr>\n",
              "    <tr><td class='row_index'>8</td><td>115</td><td>8</td><td>212463</td><td>7896</td><td>0</td><td>8</td><td>2</td><td>1</td><td>16000</td><td>0</td></tr>\n",
              "    <tr><td class='row_index'>9</td><td>115</td><td>9</td><td>230983</td><td>7863</td><td>0</td><td>9</td><td>0</td><td>1</td><td>16000</td><td>0</td></tr>\n",
              "  </tbody>\n",
              "  </table>\n",
              "  <div class='footer'>\n",
              "    <div class='frame_dimensions'>10 rows &times; 10 columns</div>\n",
              "  </div>\n",
              "</div>\n"
            ],
            "text/plain": [
              ""
            ]
          },
          "metadata": {
            "tags": []
          },
          "execution_count": 13
        }
      ]
    },
    {
      "cell_type": "code",
      "metadata": {
        "id": "pLMp-Q_7pe5J"
      },
      "source": [
        "\r\n",
        "dtypes_train = {\r\n",
        "    'row_id': 'int64',\r\n",
        "    'timestamp': 'int64',\r\n",
        "    'user_id': 'int32',\r\n",
        "    'content_id': 'int16',\r\n",
        "    'content_type_id': 'int8',\r\n",
        "    'task_container_id': 'int16',\r\n",
        "    'user_answer': 'int8',\r\n",
        "    'answered_correctly': 'int8',\r\n",
        "    'prior_question_elapsed_time': 'float32',\r\n",
        "    'prior_question_had_explanation': 'int8'\r\n",
        "    }\r\n",
        "\r\n",
        "dtypes_questions = {\r\n",
        "    \"question_id\": \"\",\r\n",
        "    \"bundle_id\": \"\",\r\n",
        "    \"correct_answer\": \"\",\r\n",
        "    \"part\": \"int16\",\r\n",
        "    \"tags\": \"\",\r\n",
        "}\r\n",
        "\r\n",
        "dtypes_lectures = {\r\n",
        "    \"lecture_id\": \"\",\r\n",
        "    \"part\": \"\",\r\n",
        "    \"tag\": \"\",\r\n",
        "    \"type_of\": \"\",\r\n",
        "}"
      ],
      "execution_count": 4,
      "outputs": []
    },
    {
      "cell_type": "code",
      "metadata": {
        "colab": {
          "base_uri": "https://localhost:8080/",
          "height": 197
        },
        "id": "XYfhG8TD7WcO",
        "outputId": "777b1e30-b070-41b2-8d38-d03ba1d3782c"
      },
      "source": [
        "# convert to pandas DF required cols\n",
        "train_df = user_table[\n",
        "                      f.content_type_id==0, \n",
        "                      [\n",
        "                       f.timestamp, \n",
        "                       f.user_id, \n",
        "                       f.content_id, \n",
        "                       f.task_container_id, \n",
        "                       f.prior_question_elapsed_time, \n",
        "                       f.prior_question_had_explanation,\n",
        "                       f.answered_correctly\n",
        "                       ]\n",
        "                      ].to_pandas()\n",
        "train_df.head()"
      ],
      "execution_count": 15,
      "outputs": [
        {
          "output_type": "execute_result",
          "data": {
            "text/html": [
              "<div>\n",
              "<style scoped>\n",
              "    .dataframe tbody tr th:only-of-type {\n",
              "        vertical-align: middle;\n",
              "    }\n",
              "\n",
              "    .dataframe tbody tr th {\n",
              "        vertical-align: top;\n",
              "    }\n",
              "\n",
              "    .dataframe thead th {\n",
              "        text-align: right;\n",
              "    }\n",
              "</style>\n",
              "<table border=\"1\" class=\"dataframe\">\n",
              "  <thead>\n",
              "    <tr style=\"text-align: right;\">\n",
              "      <th></th>\n",
              "      <th>timestamp</th>\n",
              "      <th>user_id</th>\n",
              "      <th>content_id</th>\n",
              "      <th>task_container_id</th>\n",
              "      <th>prior_question_elapsed_time</th>\n",
              "      <th>prior_question_had_explanation</th>\n",
              "      <th>answered_correctly</th>\n",
              "    </tr>\n",
              "  </thead>\n",
              "  <tbody>\n",
              "    <tr>\n",
              "      <th>0</th>\n",
              "      <td>0</td>\n",
              "      <td>115</td>\n",
              "      <td>5692</td>\n",
              "      <td>1</td>\n",
              "      <td>NaN</td>\n",
              "      <td>NaN</td>\n",
              "      <td>1</td>\n",
              "    </tr>\n",
              "    <tr>\n",
              "      <th>1</th>\n",
              "      <td>56943</td>\n",
              "      <td>115</td>\n",
              "      <td>5716</td>\n",
              "      <td>2</td>\n",
              "      <td>37000.0</td>\n",
              "      <td>False</td>\n",
              "      <td>1</td>\n",
              "    </tr>\n",
              "    <tr>\n",
              "      <th>2</th>\n",
              "      <td>118363</td>\n",
              "      <td>115</td>\n",
              "      <td>128</td>\n",
              "      <td>0</td>\n",
              "      <td>55000.0</td>\n",
              "      <td>False</td>\n",
              "      <td>1</td>\n",
              "    </tr>\n",
              "    <tr>\n",
              "      <th>3</th>\n",
              "      <td>131167</td>\n",
              "      <td>115</td>\n",
              "      <td>7860</td>\n",
              "      <td>3</td>\n",
              "      <td>19000.0</td>\n",
              "      <td>False</td>\n",
              "      <td>1</td>\n",
              "    </tr>\n",
              "    <tr>\n",
              "      <th>4</th>\n",
              "      <td>137965</td>\n",
              "      <td>115</td>\n",
              "      <td>7922</td>\n",
              "      <td>4</td>\n",
              "      <td>11000.0</td>\n",
              "      <td>False</td>\n",
              "      <td>1</td>\n",
              "    </tr>\n",
              "  </tbody>\n",
              "</table>\n",
              "</div>"
            ],
            "text/plain": [
              "   timestamp  user_id  ...  prior_question_had_explanation  answered_correctly\n",
              "0          0      115  ...                             NaN                   1\n",
              "1      56943      115  ...                           False                   1\n",
              "2     118363      115  ...                           False                   1\n",
              "3     131167      115  ...                           False                   1\n",
              "4     137965      115  ...                           False                   1\n",
              "\n",
              "[5 rows x 7 columns]"
            ]
          },
          "metadata": {
            "tags": []
          },
          "execution_count": 15
        }
      ]
    },
    {
      "cell_type": "code",
      "metadata": {
        "id": "rDpSjg-WJsCA"
      },
      "source": [
        "del table\r\n",
        "del user_table"
      ],
      "execution_count": 22,
      "outputs": []
    },
    {
      "cell_type": "code",
      "metadata": {
        "colab": {
          "base_uri": "https://localhost:8080/",
          "height": 227
        },
        "id": "6NKlVKzxg5pz",
        "outputId": "737aeba3-b0cb-4192-b835-35ec5600b2fa"
      },
      "source": [
        "\n",
        "DATA_PATH = 'gs://kds-e7d6db6554e83e3f4182aa828879e31bf5c122e568c9ee97ab5d891f'\n",
        "questions_df = pd.read_csv(DATA_PATH + \"/questions.csv\", index_col=\"question_id\")\n",
        "questions_df.fillna(\"-1\", inplace=True) # tags Nan filled with -1\n",
        "questions_df.head()"
      ],
      "execution_count": 16,
      "outputs": [
        {
          "output_type": "execute_result",
          "data": {
            "text/html": [
              "<div>\n",
              "<style scoped>\n",
              "    .dataframe tbody tr th:only-of-type {\n",
              "        vertical-align: middle;\n",
              "    }\n",
              "\n",
              "    .dataframe tbody tr th {\n",
              "        vertical-align: top;\n",
              "    }\n",
              "\n",
              "    .dataframe thead th {\n",
              "        text-align: right;\n",
              "    }\n",
              "</style>\n",
              "<table border=\"1\" class=\"dataframe\">\n",
              "  <thead>\n",
              "    <tr style=\"text-align: right;\">\n",
              "      <th></th>\n",
              "      <th>bundle_id</th>\n",
              "      <th>correct_answer</th>\n",
              "      <th>part</th>\n",
              "      <th>tags</th>\n",
              "    </tr>\n",
              "    <tr>\n",
              "      <th>question_id</th>\n",
              "      <th></th>\n",
              "      <th></th>\n",
              "      <th></th>\n",
              "      <th></th>\n",
              "    </tr>\n",
              "  </thead>\n",
              "  <tbody>\n",
              "    <tr>\n",
              "      <th>0</th>\n",
              "      <td>0</td>\n",
              "      <td>0</td>\n",
              "      <td>1</td>\n",
              "      <td>51 131 162 38</td>\n",
              "    </tr>\n",
              "    <tr>\n",
              "      <th>1</th>\n",
              "      <td>1</td>\n",
              "      <td>1</td>\n",
              "      <td>1</td>\n",
              "      <td>131 36 81</td>\n",
              "    </tr>\n",
              "    <tr>\n",
              "      <th>2</th>\n",
              "      <td>2</td>\n",
              "      <td>0</td>\n",
              "      <td>1</td>\n",
              "      <td>131 101 162 92</td>\n",
              "    </tr>\n",
              "    <tr>\n",
              "      <th>3</th>\n",
              "      <td>3</td>\n",
              "      <td>0</td>\n",
              "      <td>1</td>\n",
              "      <td>131 149 162 29</td>\n",
              "    </tr>\n",
              "    <tr>\n",
              "      <th>4</th>\n",
              "      <td>4</td>\n",
              "      <td>3</td>\n",
              "      <td>1</td>\n",
              "      <td>131 5 162 38</td>\n",
              "    </tr>\n",
              "  </tbody>\n",
              "</table>\n",
              "</div>"
            ],
            "text/plain": [
              "             bundle_id  correct_answer  part            tags\n",
              "question_id                                                 \n",
              "0                    0               0     1   51 131 162 38\n",
              "1                    1               1     1       131 36 81\n",
              "2                    2               0     1  131 101 162 92\n",
              "3                    3               0     1  131 149 162 29\n",
              "4                    4               3     1    131 5 162 38"
            ]
          },
          "metadata": {
            "tags": []
          },
          "execution_count": 16
        }
      ]
    },
    {
      "cell_type": "code",
      "metadata": {
        "id": "4KCnuUL98uGO"
      },
      "source": [
        "# join question for feaures\r\n",
        "train_df = train_df.join(questions_df, on=\"content_id\")"
      ],
      "execution_count": 17,
      "outputs": []
    },
    {
      "cell_type": "code",
      "metadata": {
        "id": "HCg8ZmSCUKxw",
        "outputId": "9898cbbf-942f-497c-f8da-5c73060e101c",
        "colab": {
          "base_uri": "https://localhost:8080/",
          "height": 317
        }
      },
      "source": [
        "# 0, 1, 2 are special tokens, so increment 3\n",
        "indicator_cols = [\"content_id\", \"task_container_id\", \"part\", \"answered_correctly\", \"prior_question_had_explanation\"]\n",
        "for c in indicator_cols:\n",
        "  train_df[c] = train_df[c] + 3\n",
        "train_df.head()"
      ],
      "execution_count": 18,
      "outputs": [
        {
          "output_type": "execute_result",
          "data": {
            "text/html": [
              "<div>\n",
              "<style scoped>\n",
              "    .dataframe tbody tr th:only-of-type {\n",
              "        vertical-align: middle;\n",
              "    }\n",
              "\n",
              "    .dataframe tbody tr th {\n",
              "        vertical-align: top;\n",
              "    }\n",
              "\n",
              "    .dataframe thead th {\n",
              "        text-align: right;\n",
              "    }\n",
              "</style>\n",
              "<table border=\"1\" class=\"dataframe\">\n",
              "  <thead>\n",
              "    <tr style=\"text-align: right;\">\n",
              "      <th></th>\n",
              "      <th>timestamp</th>\n",
              "      <th>user_id</th>\n",
              "      <th>content_id</th>\n",
              "      <th>task_container_id</th>\n",
              "      <th>prior_question_elapsed_time</th>\n",
              "      <th>prior_question_had_explanation</th>\n",
              "      <th>answered_correctly</th>\n",
              "      <th>bundle_id</th>\n",
              "      <th>correct_answer</th>\n",
              "      <th>part</th>\n",
              "      <th>tags</th>\n",
              "    </tr>\n",
              "  </thead>\n",
              "  <tbody>\n",
              "    <tr>\n",
              "      <th>0</th>\n",
              "      <td>0</td>\n",
              "      <td>115</td>\n",
              "      <td>5695</td>\n",
              "      <td>4</td>\n",
              "      <td>NaN</td>\n",
              "      <td>NaN</td>\n",
              "      <td>4</td>\n",
              "      <td>5692</td>\n",
              "      <td>3</td>\n",
              "      <td>8</td>\n",
              "      <td>151</td>\n",
              "    </tr>\n",
              "    <tr>\n",
              "      <th>1</th>\n",
              "      <td>56943</td>\n",
              "      <td>115</td>\n",
              "      <td>5719</td>\n",
              "      <td>5</td>\n",
              "      <td>37000.0</td>\n",
              "      <td>3</td>\n",
              "      <td>4</td>\n",
              "      <td>5716</td>\n",
              "      <td>2</td>\n",
              "      <td>8</td>\n",
              "      <td>168</td>\n",
              "    </tr>\n",
              "    <tr>\n",
              "      <th>2</th>\n",
              "      <td>118363</td>\n",
              "      <td>115</td>\n",
              "      <td>131</td>\n",
              "      <td>3</td>\n",
              "      <td>55000.0</td>\n",
              "      <td>3</td>\n",
              "      <td>4</td>\n",
              "      <td>128</td>\n",
              "      <td>0</td>\n",
              "      <td>4</td>\n",
              "      <td>131 149 92</td>\n",
              "    </tr>\n",
              "    <tr>\n",
              "      <th>3</th>\n",
              "      <td>131167</td>\n",
              "      <td>115</td>\n",
              "      <td>7863</td>\n",
              "      <td>6</td>\n",
              "      <td>19000.0</td>\n",
              "      <td>3</td>\n",
              "      <td>4</td>\n",
              "      <td>7860</td>\n",
              "      <td>0</td>\n",
              "      <td>4</td>\n",
              "      <td>131 104 81</td>\n",
              "    </tr>\n",
              "    <tr>\n",
              "      <th>4</th>\n",
              "      <td>137965</td>\n",
              "      <td>115</td>\n",
              "      <td>7925</td>\n",
              "      <td>7</td>\n",
              "      <td>11000.0</td>\n",
              "      <td>3</td>\n",
              "      <td>4</td>\n",
              "      <td>7922</td>\n",
              "      <td>1</td>\n",
              "      <td>4</td>\n",
              "      <td>131 149 92</td>\n",
              "    </tr>\n",
              "  </tbody>\n",
              "</table>\n",
              "</div>"
            ],
            "text/plain": [
              "   timestamp  user_id  content_id  ...  correct_answer  part        tags\n",
              "0          0      115        5695  ...               3     8         151\n",
              "1      56943      115        5719  ...               2     8         168\n",
              "2     118363      115         131  ...               0     4  131 149 92\n",
              "3     131167      115        7863  ...               0     4  131 104 81\n",
              "4     137965      115        7925  ...               1     4  131 149 92\n",
              "\n",
              "[5 rows x 11 columns]"
            ]
          },
          "metadata": {
            "tags": []
          },
          "execution_count": 18
        }
      ]
    },
    {
      "cell_type": "code",
      "metadata": {
        "id": "_ZIvvPAWIynz"
      },
      "source": [
        "# same treatment for the tags\r\n",
        "train_df[\"tags\"] = train_df[\"tags\"].apply(lambda row: \" \".join([str(int(x)+3) for x in row.split(\" \")]))"
      ],
      "execution_count": 19,
      "outputs": []
    },
    {
      "cell_type": "code",
      "metadata": {
        "id": "8FqJsCgWI9ij",
        "outputId": "fc3db48e-aa9d-4878-8611-e9836f58d001",
        "colab": {
          "base_uri": "https://localhost:8080/",
          "height": 317
        }
      },
      "source": [
        "train_df.head()"
      ],
      "execution_count": 20,
      "outputs": [
        {
          "output_type": "execute_result",
          "data": {
            "text/html": [
              "<div>\n",
              "<style scoped>\n",
              "    .dataframe tbody tr th:only-of-type {\n",
              "        vertical-align: middle;\n",
              "    }\n",
              "\n",
              "    .dataframe tbody tr th {\n",
              "        vertical-align: top;\n",
              "    }\n",
              "\n",
              "    .dataframe thead th {\n",
              "        text-align: right;\n",
              "    }\n",
              "</style>\n",
              "<table border=\"1\" class=\"dataframe\">\n",
              "  <thead>\n",
              "    <tr style=\"text-align: right;\">\n",
              "      <th></th>\n",
              "      <th>timestamp</th>\n",
              "      <th>user_id</th>\n",
              "      <th>content_id</th>\n",
              "      <th>task_container_id</th>\n",
              "      <th>prior_question_elapsed_time</th>\n",
              "      <th>prior_question_had_explanation</th>\n",
              "      <th>answered_correctly</th>\n",
              "      <th>bundle_id</th>\n",
              "      <th>correct_answer</th>\n",
              "      <th>part</th>\n",
              "      <th>tags</th>\n",
              "    </tr>\n",
              "  </thead>\n",
              "  <tbody>\n",
              "    <tr>\n",
              "      <th>0</th>\n",
              "      <td>0</td>\n",
              "      <td>115</td>\n",
              "      <td>5695</td>\n",
              "      <td>4</td>\n",
              "      <td>NaN</td>\n",
              "      <td>NaN</td>\n",
              "      <td>4</td>\n",
              "      <td>5692</td>\n",
              "      <td>3</td>\n",
              "      <td>8</td>\n",
              "      <td>154</td>\n",
              "    </tr>\n",
              "    <tr>\n",
              "      <th>1</th>\n",
              "      <td>56943</td>\n",
              "      <td>115</td>\n",
              "      <td>5719</td>\n",
              "      <td>5</td>\n",
              "      <td>37000.0</td>\n",
              "      <td>3</td>\n",
              "      <td>4</td>\n",
              "      <td>5716</td>\n",
              "      <td>2</td>\n",
              "      <td>8</td>\n",
              "      <td>171</td>\n",
              "    </tr>\n",
              "    <tr>\n",
              "      <th>2</th>\n",
              "      <td>118363</td>\n",
              "      <td>115</td>\n",
              "      <td>131</td>\n",
              "      <td>3</td>\n",
              "      <td>55000.0</td>\n",
              "      <td>3</td>\n",
              "      <td>4</td>\n",
              "      <td>128</td>\n",
              "      <td>0</td>\n",
              "      <td>4</td>\n",
              "      <td>134 152 95</td>\n",
              "    </tr>\n",
              "    <tr>\n",
              "      <th>3</th>\n",
              "      <td>131167</td>\n",
              "      <td>115</td>\n",
              "      <td>7863</td>\n",
              "      <td>6</td>\n",
              "      <td>19000.0</td>\n",
              "      <td>3</td>\n",
              "      <td>4</td>\n",
              "      <td>7860</td>\n",
              "      <td>0</td>\n",
              "      <td>4</td>\n",
              "      <td>134 107 84</td>\n",
              "    </tr>\n",
              "    <tr>\n",
              "      <th>4</th>\n",
              "      <td>137965</td>\n",
              "      <td>115</td>\n",
              "      <td>7925</td>\n",
              "      <td>7</td>\n",
              "      <td>11000.0</td>\n",
              "      <td>3</td>\n",
              "      <td>4</td>\n",
              "      <td>7922</td>\n",
              "      <td>1</td>\n",
              "      <td>4</td>\n",
              "      <td>134 152 95</td>\n",
              "    </tr>\n",
              "  </tbody>\n",
              "</table>\n",
              "</div>"
            ],
            "text/plain": [
              "   timestamp  user_id  content_id  ...  correct_answer  part        tags\n",
              "0          0      115        5695  ...               3     8         154\n",
              "1      56943      115        5719  ...               2     8         171\n",
              "2     118363      115         131  ...               0     4  134 152 95\n",
              "3     131167      115        7863  ...               0     4  134 107 84\n",
              "4     137965      115        7925  ...               1     4  134 152 95\n",
              "\n",
              "[5 rows x 11 columns]"
            ]
          },
          "metadata": {
            "tags": []
          },
          "execution_count": 20
        }
      ]
    },
    {
      "cell_type": "code",
      "metadata": {
        "id": "9PfZymmqJVDX",
        "outputId": "3e312d42-18f7-4e29-eb22-a9312de51dd1",
        "colab": {
          "base_uri": "https://localhost:8080/"
        }
      },
      "source": [
        "import gc\r\n",
        "gc.collect()"
      ],
      "execution_count": 24,
      "outputs": [
        {
          "output_type": "execute_result",
          "data": {
            "text/plain": [
              "227"
            ]
          },
          "metadata": {
            "tags": []
          },
          "execution_count": 24
        }
      ]
    },
    {
      "cell_type": "code",
      "metadata": {
        "id": "y66J1nvtSCt0",
        "outputId": "3498de30-d1e9-4310-d8b7-929055f1490c",
        "colab": {
          "base_uri": "https://localhost:8080/",
          "height": 115
        }
      },
      "source": [
        "from dask.distributed import Client, progress\r\n",
        "client = Client(n_workers=2, threads_per_worker=8, memory_limit='4GB')\r\n",
        "client"
      ],
      "execution_count": 5,
      "outputs": [
        {
          "output_type": "execute_result",
          "data": {
            "text/html": [
              "<table style=\"border: 2px solid white;\">\n",
              "<tr>\n",
              "<td style=\"vertical-align: top; border: 0px solid white\">\n",
              "<h3 style=\"text-align: left;\">Client</h3>\n",
              "<ul style=\"text-align: left; list-style: none; margin: 0; padding: 0;\">\n",
              "  <li><b>Scheduler: </b>tcp://127.0.0.1:38469</li>\n",
              "  <li><b>Dashboard: </b><a href='http://127.0.0.1:8787/status' target='_blank'>http://127.0.0.1:8787/status</a></li>\n",
              "</ul>\n",
              "</td>\n",
              "<td style=\"vertical-align: top; border: 0px solid white\">\n",
              "<h3 style=\"text-align: left;\">Cluster</h3>\n",
              "<ul style=\"text-align: left; list-style:none; margin: 0; padding: 0;\">\n",
              "  <li><b>Workers: </b>2</li>\n",
              "  <li><b>Cores: </b>16</li>\n",
              "  <li><b>Memory: </b>8.00 GB</li>\n",
              "</ul>\n",
              "</td>\n",
              "</tr>\n",
              "</table>"
            ],
            "text/plain": [
              "<Client: 'tcp://127.0.0.1:38469' processes=2 threads=16, memory=8.00 GB>"
            ]
          },
          "metadata": {
            "tags": []
          },
          "execution_count": 5
        }
      ]
    },
    {
      "cell_type": "code",
      "metadata": {
        "id": "BxAMSxpZSYT3"
      },
      "source": [
        "import dask\r\n",
        "import dask.dataframe as dd"
      ],
      "execution_count": 6,
      "outputs": []
    },
    {
      "cell_type": "code",
      "metadata": {
        "id": "wxptUmU9J_Au"
      },
      "source": [
        "train_df.to_csv(\"train_df.csv\")"
      ],
      "execution_count": 23,
      "outputs": []
    },
    {
      "cell_type": "code",
      "metadata": {
        "id": "Gw7A3z33NHZZ"
      },
      "source": [
        "train_df = dd.read_csv(\"train_df.csv\")"
      ],
      "execution_count": 7,
      "outputs": []
    },
    {
      "cell_type": "code",
      "metadata": {
        "id": "eIm1pG-0riwS"
      },
      "source": [
        "user_groups = train_df.groupby(\"user_id\")"
      ],
      "execution_count": 8,
      "outputs": []
    },
    {
      "cell_type": "code",
      "metadata": {
        "colab": {
          "base_uri": "https://localhost:8080/"
        },
        "id": "lQMdfVE4sqqb",
        "outputId": "760bd566-f544-4900-8f3f-aedcda07f888"
      },
      "source": [
        "user_groups_arr = user_groups.apply(\r\n",
        "  lambda rows: (\r\n",
        "      rows[\"timestamp\"].values.astype(dtypes_train[\"timestamp\"]),\r\n",
        "      rows[\"content_id\"].values.astype(dtypes_train[\"content_id\"]), \r\n",
        "      rows[\"task_container_id\"].values.astype(dtypes_train[\"task_container_id\"]), \r\n",
        "      rows[\"prior_question_elapsed_time\"].shift(-1, fill_value=-1).values.astype(dtypes_train[\"prior_question_elapsed_time\"]), # last question for the user doesnt have elapsed time. fill with -1\r\n",
        "      rows[\"prior_question_had_explanation\"].shift(-1, fill_value=2).values.astype(dtypes_train[\"prior_question_had_explanation\"]), # last question for the user doesnt have \"had_explanation\". fill with 2\r\n",
        "      rows[\"part\"].values.astype(dtypes_questions[\"part\"]),\r\n",
        "      rows[\"tags\"].values,\r\n",
        "      rows[\"answered_correctly\"].values.astype(dtypes_train[\"answered_correctly\"]),\r\n",
        "      ), meta=object\r\n",
        "  ).compute()"
      ],
      "execution_count": null,
      "outputs": [
        {
          "output_type": "stream",
          "text": [
            "distributed.nanny - WARNING - Worker exceeded 95% memory budget. Restarting\n",
            "distributed.nanny - WARNING - Restarting worker\n"
          ],
          "name": "stderr"
        }
      ]
    },
    {
      "cell_type": "code",
      "metadata": {
        "id": "HqWgp5_swYXn"
      },
      "source": [
        "user_groups_dict = user_groups.to_dict()"
      ],
      "execution_count": null,
      "outputs": []
    },
    {
      "cell_type": "code",
      "metadata": {
        "id": "tKINq06PwkD1",
        "colab": {
          "base_uri": "https://localhost:8080/"
        },
        "outputId": "5f521a78-e2ab-4fdb-a960-e3e6b5416cdc"
      },
      "source": [
        "max_seq_len, c = 0, 0\r\n",
        "for k, v in user_groups_dict.items():\r\n",
        "  if v.shape[0] == 127:\r\n",
        "    c += 1\r\n",
        "  max_seq_len = max(max_seq_len, v.shape[0])\r\n",
        "\r\n",
        "max_seq_len, c"
      ],
      "execution_count": null,
      "outputs": [
        {
          "output_type": "execute_result",
          "data": {
            "text/plain": [
              "(127, 30349)"
            ]
          },
          "metadata": {
            "tags": []
          },
          "execution_count": 16
        }
      ]
    },
    {
      "cell_type": "code",
      "metadata": {
        "id": "Hv5i1DIEx8MV",
        "colab": {
          "base_uri": "https://localhost:8080/"
        },
        "outputId": "3947333b-e3ef-44a0-a8a6-96fca3126fbc"
      },
      "source": [
        "import pickle\r\n",
        "!mkdir data\r\n",
        "with open(\"data/state_dict.pkl\", \"wb\") as f:\r\n",
        "  pickle.dump(user_groups_dict, f)"
      ],
      "execution_count": null,
      "outputs": [
        {
          "output_type": "stream",
          "text": [
            "mkdir: cannot create directory ‘data’: File exists\n"
          ],
          "name": "stdout"
        }
      ]
    },
    {
      "cell_type": "code",
      "metadata": {
        "id": "oC5XV-mHztwe",
        "colab": {
          "base_uri": "https://localhost:8080/"
        },
        "outputId": "367fef0c-2c4b-4eda-d3a0-b878c65bd58f"
      },
      "source": [
        "\r\n",
        "state_dict = {}\r\n",
        "\r\n",
        "with open(\"data/state_dict.pkl\", \"rb\") as f:\r\n",
        "  state_dict = pickle.load(f)\r\n",
        "\r\n",
        "state_dict[115].shape"
      ],
      "execution_count": null,
      "outputs": [
        {
          "output_type": "execute_result",
          "data": {
            "text/plain": [
              "(46, 5)"
            ]
          },
          "metadata": {
            "tags": []
          },
          "execution_count": 20
        }
      ]
    },
    {
      "cell_type": "markdown",
      "metadata": {
        "id": "0uHMmU6x0CaT"
      },
      "source": [
        "#### Upload to Kaggle"
      ]
    },
    {
      "cell_type": "code",
      "metadata": {
        "id": "4Fyd0upt0jCt",
        "colab": {
          "base_uri": "https://localhost:8080/"
        },
        "outputId": "d044dea3-6791-4960-f9ae-4e2455383f16"
      },
      "source": [
        "!kaggle datasets init -p data/"
      ],
      "execution_count": null,
      "outputs": [
        {
          "output_type": "stream",
          "text": [
            "Data package template written to: data/dataset-metadata.json\n"
          ],
          "name": "stdout"
        }
      ]
    },
    {
      "cell_type": "code",
      "metadata": {
        "id": "KWhB_Gvi0jdc"
      },
      "source": [
        "\r\n",
        "# id and title only alphanumeric and \"-\"\r\n",
        "meta = \"\"\"\r\n",
        "{\r\n",
        "  \"licenses\": [\r\n",
        "    {\r\n",
        "      \"name\": \"CC0-1.0\"\r\n",
        "    }\r\n",
        "  ], \r\n",
        "  \"id\": \"nisarahamedk/riid-state-dict-0-1\",\r\n",
        "  \"title\": \"riid-state-dict-0-1\"\r\n",
        "}\r\n",
        "\"\"\"\r\n",
        "with open(\"data/dataset-metadata.json\", \"w\") as f:\r\n",
        "  f.write(meta)"
      ],
      "execution_count": null,
      "outputs": []
    },
    {
      "cell_type": "code",
      "metadata": {
        "id": "ctk8HZZ20vKc",
        "colab": {
          "base_uri": "https://localhost:8080/"
        },
        "outputId": "c121c330-1956-4488-9fa3-17a7192851df"
      },
      "source": [
        "# create\r\n",
        "!kaggle datasets create -p data/ --dir-mode tar -u"
      ],
      "execution_count": null,
      "outputs": [
        {
          "output_type": "stream",
          "text": [
            "Starting upload for file state_dict.pkl\n",
            "Warning: Looks like you're using an outdated API Version, please consider updating (server 1.5.10 / client 1.5.4)\n",
            "100% 974M/974M [00:14<00:00, 70.9MB/s]\n",
            "Upload successful: state_dict.pkl (974MB)\n",
            "Your public Dataset is being created. Please check progress at https://www.kaggle.com/nisarahamedk/riid-state-dict-0-1\n"
          ],
          "name": "stdout"
        }
      ]
    },
    {
      "cell_type": "code",
      "metadata": {
        "id": "l7KQXHtq0yjt"
      },
      "source": [
        ""
      ],
      "execution_count": null,
      "outputs": []
    }
  ]
}