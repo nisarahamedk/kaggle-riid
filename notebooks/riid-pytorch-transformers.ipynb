{
  "nbformat": 4,
  "nbformat_minor": 0,
  "metadata": {
    "kernelspec": {
      "name": "python3",
      "display_name": "Python 3",
      "language": "python"
    },
    "language_info": {
      "name": "python",
      "version": "3.7.6",
      "mimetype": "text/x-python",
      "codemirror_mode": {
        "name": "ipython",
        "version": 3
      },
      "pygments_lexer": "ipython3",
      "nbconvert_exporter": "python",
      "file_extension": ".py"
    },
    "colab": {
      "name": "riid-pytorch-transformers.ipynb",
      "provenance": []
    },
    "accelerator": "GPU"
  },
  "cells": [
    {
      "cell_type": "code",
      "metadata": {
        "id": "666nJ1-WWJLh"
      },
      "source": [
        "%%capture\n",
        "!pip install gcsfs"
      ],
      "execution_count": 182,
      "outputs": []
    },
    {
      "cell_type": "code",
      "metadata": {
        "trusted": true,
        "id": "18rL3yRXV5BA"
      },
      "source": [
        "import math\n",
        "\n",
        "import gcsfs\n",
        "import pandas as pd\n",
        "import numpy as np\n",
        "import torch\n",
        "import torch.nn as nn\n",
        "import torch.nn.functional as F\n",
        "from torch.utils.data import IterableDataset, DataLoader\n",
        "from tqdm import tqdm, trange"
      ],
      "execution_count": 183,
      "outputs": []
    },
    {
      "cell_type": "markdown",
      "metadata": {
        "id": "epiDJGV6V5BA"
      },
      "source": [
        "### Read the dataset"
      ]
    },
    {
      "cell_type": "code",
      "metadata": {
        "trusted": true,
        "id": "LunXwcomV5BB"
      },
      "source": [
        "# DATA_PATH = \"/kaggle/input/riiid-test-answer-prediction/\"\n",
        "DATA_PATH = \"gs://kds-e80dfc3d272252bbf34c627d756f891826dab0c19f30ec0fc3ac1979\""
      ],
      "execution_count": 184,
      "outputs": []
    },
    {
      "cell_type": "code",
      "metadata": {
        "_uuid": "d629ff2d2480ee46fbb7e2d37f6b5fab8052498a",
        "_cell_guid": "79c7e3d0-c299-4dcb-8224-4455121ee9b0",
        "trusted": true,
        "id": "bI0E1uWRV5BB"
      },
      "source": [
        "dtypes_train = {\n",
        "    'row_id': 'int64',\n",
        "    'timestamp': 'int64',\n",
        "    'user_id': 'int32',\n",
        "    'content_id': 'int16',\n",
        "    'content_type_id': 'int8',\n",
        "    'task_container_id': 'int16',\n",
        "    'user_answer': 'int8',\n",
        "    'answered_correctly': 'int8',\n",
        "    'prior_question_elapsed_time': 'float32',\n",
        "    'prior_question_had_explanation': 'boolean'\n",
        "    }\n",
        "\n",
        "dtypes_questions = {\n",
        "    \"question_id\": \"\",\n",
        "    \"bundle_id\": \"\",\n",
        "    \"correct_answer\": \"\",\n",
        "    \"part\": \"\",\n",
        "    \"tags\": \"\",\n",
        "}\n",
        "\n",
        "dtypes_lectures = {\n",
        "    \"lecture_id\": \"\",\n",
        "    \"part\": \"\",\n",
        "    \"tag\": \"\",\n",
        "    \"type_of\": \"\",\n",
        "}"
      ],
      "execution_count": 185,
      "outputs": []
    },
    {
      "cell_type": "code",
      "metadata": {
        "trusted": true,
        "colab": {
          "base_uri": "https://localhost:8080/",
          "height": 222
        },
        "id": "EEOz3k6DV5BB",
        "outputId": "da699cd0-e05f-4f83-bb42-1ede84a5d94e"
      },
      "source": [
        "train_df = pd.read_csv(DATA_PATH + \"/train.csv\", dtype=dtypes_train, nrows=1e6)\n",
        "train_df.head()"
      ],
      "execution_count": 186,
      "outputs": [
        {
          "output_type": "execute_result",
          "data": {
            "text/html": [
              "<div>\n",
              "<style scoped>\n",
              "    .dataframe tbody tr th:only-of-type {\n",
              "        vertical-align: middle;\n",
              "    }\n",
              "\n",
              "    .dataframe tbody tr th {\n",
              "        vertical-align: top;\n",
              "    }\n",
              "\n",
              "    .dataframe thead th {\n",
              "        text-align: right;\n",
              "    }\n",
              "</style>\n",
              "<table border=\"1\" class=\"dataframe\">\n",
              "  <thead>\n",
              "    <tr style=\"text-align: right;\">\n",
              "      <th></th>\n",
              "      <th>row_id</th>\n",
              "      <th>timestamp</th>\n",
              "      <th>user_id</th>\n",
              "      <th>content_id</th>\n",
              "      <th>content_type_id</th>\n",
              "      <th>task_container_id</th>\n",
              "      <th>user_answer</th>\n",
              "      <th>answered_correctly</th>\n",
              "      <th>prior_question_elapsed_time</th>\n",
              "      <th>prior_question_had_explanation</th>\n",
              "    </tr>\n",
              "  </thead>\n",
              "  <tbody>\n",
              "    <tr>\n",
              "      <th>0</th>\n",
              "      <td>0</td>\n",
              "      <td>0</td>\n",
              "      <td>115</td>\n",
              "      <td>5692</td>\n",
              "      <td>0</td>\n",
              "      <td>1</td>\n",
              "      <td>3</td>\n",
              "      <td>1</td>\n",
              "      <td>NaN</td>\n",
              "      <td>&lt;NA&gt;</td>\n",
              "    </tr>\n",
              "    <tr>\n",
              "      <th>1</th>\n",
              "      <td>1</td>\n",
              "      <td>56943</td>\n",
              "      <td>115</td>\n",
              "      <td>5716</td>\n",
              "      <td>0</td>\n",
              "      <td>2</td>\n",
              "      <td>2</td>\n",
              "      <td>1</td>\n",
              "      <td>37000.0</td>\n",
              "      <td>False</td>\n",
              "    </tr>\n",
              "    <tr>\n",
              "      <th>2</th>\n",
              "      <td>2</td>\n",
              "      <td>118363</td>\n",
              "      <td>115</td>\n",
              "      <td>128</td>\n",
              "      <td>0</td>\n",
              "      <td>0</td>\n",
              "      <td>0</td>\n",
              "      <td>1</td>\n",
              "      <td>55000.0</td>\n",
              "      <td>False</td>\n",
              "    </tr>\n",
              "    <tr>\n",
              "      <th>3</th>\n",
              "      <td>3</td>\n",
              "      <td>131167</td>\n",
              "      <td>115</td>\n",
              "      <td>7860</td>\n",
              "      <td>0</td>\n",
              "      <td>3</td>\n",
              "      <td>0</td>\n",
              "      <td>1</td>\n",
              "      <td>19000.0</td>\n",
              "      <td>False</td>\n",
              "    </tr>\n",
              "    <tr>\n",
              "      <th>4</th>\n",
              "      <td>4</td>\n",
              "      <td>137965</td>\n",
              "      <td>115</td>\n",
              "      <td>7922</td>\n",
              "      <td>0</td>\n",
              "      <td>4</td>\n",
              "      <td>1</td>\n",
              "      <td>1</td>\n",
              "      <td>11000.0</td>\n",
              "      <td>False</td>\n",
              "    </tr>\n",
              "  </tbody>\n",
              "</table>\n",
              "</div>"
            ],
            "text/plain": [
              "   row_id  ...  prior_question_had_explanation\n",
              "0       0  ...                            <NA>\n",
              "1       1  ...                           False\n",
              "2       2  ...                           False\n",
              "3       3  ...                           False\n",
              "4       4  ...                           False\n",
              "\n",
              "[5 rows x 10 columns]"
            ]
          },
          "metadata": {
            "tags": []
          },
          "execution_count": 186
        }
      ]
    },
    {
      "cell_type": "code",
      "metadata": {
        "trusted": true,
        "colab": {
          "base_uri": "https://localhost:8080/",
          "height": 202
        },
        "id": "DyfGayw_V5BC",
        "outputId": "3b218265-0e73-40e5-9bdb-b2dcc793c85e"
      },
      "source": [
        "questions_df = pd.read_csv(DATA_PATH + \"/questions.csv\")\n",
        "questions_df.head()"
      ],
      "execution_count": 187,
      "outputs": [
        {
          "output_type": "execute_result",
          "data": {
            "text/html": [
              "<div>\n",
              "<style scoped>\n",
              "    .dataframe tbody tr th:only-of-type {\n",
              "        vertical-align: middle;\n",
              "    }\n",
              "\n",
              "    .dataframe tbody tr th {\n",
              "        vertical-align: top;\n",
              "    }\n",
              "\n",
              "    .dataframe thead th {\n",
              "        text-align: right;\n",
              "    }\n",
              "</style>\n",
              "<table border=\"1\" class=\"dataframe\">\n",
              "  <thead>\n",
              "    <tr style=\"text-align: right;\">\n",
              "      <th></th>\n",
              "      <th>question_id</th>\n",
              "      <th>bundle_id</th>\n",
              "      <th>correct_answer</th>\n",
              "      <th>part</th>\n",
              "      <th>tags</th>\n",
              "    </tr>\n",
              "  </thead>\n",
              "  <tbody>\n",
              "    <tr>\n",
              "      <th>0</th>\n",
              "      <td>0</td>\n",
              "      <td>0</td>\n",
              "      <td>0</td>\n",
              "      <td>1</td>\n",
              "      <td>51 131 162 38</td>\n",
              "    </tr>\n",
              "    <tr>\n",
              "      <th>1</th>\n",
              "      <td>1</td>\n",
              "      <td>1</td>\n",
              "      <td>1</td>\n",
              "      <td>1</td>\n",
              "      <td>131 36 81</td>\n",
              "    </tr>\n",
              "    <tr>\n",
              "      <th>2</th>\n",
              "      <td>2</td>\n",
              "      <td>2</td>\n",
              "      <td>0</td>\n",
              "      <td>1</td>\n",
              "      <td>131 101 162 92</td>\n",
              "    </tr>\n",
              "    <tr>\n",
              "      <th>3</th>\n",
              "      <td>3</td>\n",
              "      <td>3</td>\n",
              "      <td>0</td>\n",
              "      <td>1</td>\n",
              "      <td>131 149 162 29</td>\n",
              "    </tr>\n",
              "    <tr>\n",
              "      <th>4</th>\n",
              "      <td>4</td>\n",
              "      <td>4</td>\n",
              "      <td>3</td>\n",
              "      <td>1</td>\n",
              "      <td>131 5 162 38</td>\n",
              "    </tr>\n",
              "  </tbody>\n",
              "</table>\n",
              "</div>"
            ],
            "text/plain": [
              "   question_id  bundle_id  correct_answer  part            tags\n",
              "0            0          0               0     1   51 131 162 38\n",
              "1            1          1               1     1       131 36 81\n",
              "2            2          2               0     1  131 101 162 92\n",
              "3            3          3               0     1  131 149 162 29\n",
              "4            4          4               3     1    131 5 162 38"
            ]
          },
          "metadata": {
            "tags": []
          },
          "execution_count": 187
        }
      ]
    },
    {
      "cell_type": "code",
      "metadata": {
        "trusted": true,
        "colab": {
          "base_uri": "https://localhost:8080/",
          "height": 202
        },
        "id": "oRPol9iZV5BD",
        "outputId": "80ccf1fe-97df-4644-846a-03f2177ec64e"
      },
      "source": [
        "lectures_df = pd.read_csv(DATA_PATH + \"/lectures.csv\")\n",
        "lectures_df.head()"
      ],
      "execution_count": 188,
      "outputs": [
        {
          "output_type": "execute_result",
          "data": {
            "text/html": [
              "<div>\n",
              "<style scoped>\n",
              "    .dataframe tbody tr th:only-of-type {\n",
              "        vertical-align: middle;\n",
              "    }\n",
              "\n",
              "    .dataframe tbody tr th {\n",
              "        vertical-align: top;\n",
              "    }\n",
              "\n",
              "    .dataframe thead th {\n",
              "        text-align: right;\n",
              "    }\n",
              "</style>\n",
              "<table border=\"1\" class=\"dataframe\">\n",
              "  <thead>\n",
              "    <tr style=\"text-align: right;\">\n",
              "      <th></th>\n",
              "      <th>lecture_id</th>\n",
              "      <th>tag</th>\n",
              "      <th>part</th>\n",
              "      <th>type_of</th>\n",
              "    </tr>\n",
              "  </thead>\n",
              "  <tbody>\n",
              "    <tr>\n",
              "      <th>0</th>\n",
              "      <td>89</td>\n",
              "      <td>159</td>\n",
              "      <td>5</td>\n",
              "      <td>concept</td>\n",
              "    </tr>\n",
              "    <tr>\n",
              "      <th>1</th>\n",
              "      <td>100</td>\n",
              "      <td>70</td>\n",
              "      <td>1</td>\n",
              "      <td>concept</td>\n",
              "    </tr>\n",
              "    <tr>\n",
              "      <th>2</th>\n",
              "      <td>185</td>\n",
              "      <td>45</td>\n",
              "      <td>6</td>\n",
              "      <td>concept</td>\n",
              "    </tr>\n",
              "    <tr>\n",
              "      <th>3</th>\n",
              "      <td>192</td>\n",
              "      <td>79</td>\n",
              "      <td>5</td>\n",
              "      <td>solving question</td>\n",
              "    </tr>\n",
              "    <tr>\n",
              "      <th>4</th>\n",
              "      <td>317</td>\n",
              "      <td>156</td>\n",
              "      <td>5</td>\n",
              "      <td>solving question</td>\n",
              "    </tr>\n",
              "  </tbody>\n",
              "</table>\n",
              "</div>"
            ],
            "text/plain": [
              "   lecture_id  tag  part           type_of\n",
              "0          89  159     5           concept\n",
              "1         100   70     1           concept\n",
              "2         185   45     6           concept\n",
              "3         192   79     5  solving question\n",
              "4         317  156     5  solving question"
            ]
          },
          "metadata": {
            "tags": []
          },
          "execution_count": 188
        }
      ]
    },
    {
      "cell_type": "code",
      "metadata": {
        "trusted": true,
        "id": "33-V3ekrV5BD"
      },
      "source": [
        "# removing lecture rows.\n",
        "train_df = train_df[train_df.answered_correctly != -1]"
      ],
      "execution_count": 189,
      "outputs": []
    },
    {
      "cell_type": "code",
      "metadata": {
        "trusted": true,
        "colab": {
          "base_uri": "https://localhost:8080/",
          "height": 326
        },
        "id": "eXZ6uVXmV5BD",
        "outputId": "52ac7a78-cefd-4fba-c0f7-ee22695c586c"
      },
      "source": [
        "train_df = train_df.join(questions_df, on=\"content_id\")\n",
        "train_df.head()"
      ],
      "execution_count": 190,
      "outputs": [
        {
          "output_type": "execute_result",
          "data": {
            "text/html": [
              "<div>\n",
              "<style scoped>\n",
              "    .dataframe tbody tr th:only-of-type {\n",
              "        vertical-align: middle;\n",
              "    }\n",
              "\n",
              "    .dataframe tbody tr th {\n",
              "        vertical-align: top;\n",
              "    }\n",
              "\n",
              "    .dataframe thead th {\n",
              "        text-align: right;\n",
              "    }\n",
              "</style>\n",
              "<table border=\"1\" class=\"dataframe\">\n",
              "  <thead>\n",
              "    <tr style=\"text-align: right;\">\n",
              "      <th></th>\n",
              "      <th>row_id</th>\n",
              "      <th>timestamp</th>\n",
              "      <th>user_id</th>\n",
              "      <th>content_id</th>\n",
              "      <th>content_type_id</th>\n",
              "      <th>task_container_id</th>\n",
              "      <th>user_answer</th>\n",
              "      <th>answered_correctly</th>\n",
              "      <th>prior_question_elapsed_time</th>\n",
              "      <th>prior_question_had_explanation</th>\n",
              "      <th>question_id</th>\n",
              "      <th>bundle_id</th>\n",
              "      <th>correct_answer</th>\n",
              "      <th>part</th>\n",
              "      <th>tags</th>\n",
              "    </tr>\n",
              "  </thead>\n",
              "  <tbody>\n",
              "    <tr>\n",
              "      <th>0</th>\n",
              "      <td>0</td>\n",
              "      <td>0</td>\n",
              "      <td>115</td>\n",
              "      <td>5692</td>\n",
              "      <td>0</td>\n",
              "      <td>1</td>\n",
              "      <td>3</td>\n",
              "      <td>1</td>\n",
              "      <td>NaN</td>\n",
              "      <td>&lt;NA&gt;</td>\n",
              "      <td>5692</td>\n",
              "      <td>5692</td>\n",
              "      <td>3</td>\n",
              "      <td>5</td>\n",
              "      <td>151</td>\n",
              "    </tr>\n",
              "    <tr>\n",
              "      <th>1</th>\n",
              "      <td>1</td>\n",
              "      <td>56943</td>\n",
              "      <td>115</td>\n",
              "      <td>5716</td>\n",
              "      <td>0</td>\n",
              "      <td>2</td>\n",
              "      <td>2</td>\n",
              "      <td>1</td>\n",
              "      <td>37000.0</td>\n",
              "      <td>False</td>\n",
              "      <td>5716</td>\n",
              "      <td>5716</td>\n",
              "      <td>2</td>\n",
              "      <td>5</td>\n",
              "      <td>168</td>\n",
              "    </tr>\n",
              "    <tr>\n",
              "      <th>2</th>\n",
              "      <td>2</td>\n",
              "      <td>118363</td>\n",
              "      <td>115</td>\n",
              "      <td>128</td>\n",
              "      <td>0</td>\n",
              "      <td>0</td>\n",
              "      <td>0</td>\n",
              "      <td>1</td>\n",
              "      <td>55000.0</td>\n",
              "      <td>False</td>\n",
              "      <td>128</td>\n",
              "      <td>128</td>\n",
              "      <td>0</td>\n",
              "      <td>1</td>\n",
              "      <td>131 149 92</td>\n",
              "    </tr>\n",
              "    <tr>\n",
              "      <th>3</th>\n",
              "      <td>3</td>\n",
              "      <td>131167</td>\n",
              "      <td>115</td>\n",
              "      <td>7860</td>\n",
              "      <td>0</td>\n",
              "      <td>3</td>\n",
              "      <td>0</td>\n",
              "      <td>1</td>\n",
              "      <td>19000.0</td>\n",
              "      <td>False</td>\n",
              "      <td>7860</td>\n",
              "      <td>7860</td>\n",
              "      <td>0</td>\n",
              "      <td>1</td>\n",
              "      <td>131 104 81</td>\n",
              "    </tr>\n",
              "    <tr>\n",
              "      <th>4</th>\n",
              "      <td>4</td>\n",
              "      <td>137965</td>\n",
              "      <td>115</td>\n",
              "      <td>7922</td>\n",
              "      <td>0</td>\n",
              "      <td>4</td>\n",
              "      <td>1</td>\n",
              "      <td>1</td>\n",
              "      <td>11000.0</td>\n",
              "      <td>False</td>\n",
              "      <td>7922</td>\n",
              "      <td>7922</td>\n",
              "      <td>1</td>\n",
              "      <td>1</td>\n",
              "      <td>131 149 92</td>\n",
              "    </tr>\n",
              "  </tbody>\n",
              "</table>\n",
              "</div>"
            ],
            "text/plain": [
              "   row_id  timestamp  user_id  ...  correct_answer  part        tags\n",
              "0       0          0      115  ...               3     5         151\n",
              "1       1      56943      115  ...               2     5         168\n",
              "2       2     118363      115  ...               0     1  131 149 92\n",
              "3       3     131167      115  ...               0     1  131 104 81\n",
              "4       4     137965      115  ...               1     1  131 149 92\n",
              "\n",
              "[5 rows x 15 columns]"
            ]
          },
          "metadata": {
            "tags": []
          },
          "execution_count": 190
        }
      ]
    },
    {
      "cell_type": "code",
      "metadata": {
        "trusted": true,
        "colab": {
          "base_uri": "https://localhost:8080/",
          "height": 202
        },
        "id": "hBAI5pHMV5BD",
        "outputId": "776aa35d-0714-4276-ec35-2167b04b2cfd"
      },
      "source": [
        "drop_cols = [\n",
        "             \"row_id\", \n",
        "             \"timestamp\", \n",
        "             \"content_type_id\", \n",
        "             \"user_answer\", \n",
        "             \"prior_question_had_explanation\", \n",
        "             \"question_id\", \n",
        "             \"bundle_id\", \n",
        "             \"correct_answer\", \n",
        "             \"tags\"\n",
        "             ]\n",
        "train_df = train_df.drop(drop_cols, axis=1)\n",
        "train_df.head()"
      ],
      "execution_count": 191,
      "outputs": [
        {
          "output_type": "execute_result",
          "data": {
            "text/html": [
              "<div>\n",
              "<style scoped>\n",
              "    .dataframe tbody tr th:only-of-type {\n",
              "        vertical-align: middle;\n",
              "    }\n",
              "\n",
              "    .dataframe tbody tr th {\n",
              "        vertical-align: top;\n",
              "    }\n",
              "\n",
              "    .dataframe thead th {\n",
              "        text-align: right;\n",
              "    }\n",
              "</style>\n",
              "<table border=\"1\" class=\"dataframe\">\n",
              "  <thead>\n",
              "    <tr style=\"text-align: right;\">\n",
              "      <th></th>\n",
              "      <th>user_id</th>\n",
              "      <th>content_id</th>\n",
              "      <th>task_container_id</th>\n",
              "      <th>answered_correctly</th>\n",
              "      <th>prior_question_elapsed_time</th>\n",
              "      <th>part</th>\n",
              "    </tr>\n",
              "  </thead>\n",
              "  <tbody>\n",
              "    <tr>\n",
              "      <th>0</th>\n",
              "      <td>115</td>\n",
              "      <td>5692</td>\n",
              "      <td>1</td>\n",
              "      <td>1</td>\n",
              "      <td>NaN</td>\n",
              "      <td>5</td>\n",
              "    </tr>\n",
              "    <tr>\n",
              "      <th>1</th>\n",
              "      <td>115</td>\n",
              "      <td>5716</td>\n",
              "      <td>2</td>\n",
              "      <td>1</td>\n",
              "      <td>37000.0</td>\n",
              "      <td>5</td>\n",
              "    </tr>\n",
              "    <tr>\n",
              "      <th>2</th>\n",
              "      <td>115</td>\n",
              "      <td>128</td>\n",
              "      <td>0</td>\n",
              "      <td>1</td>\n",
              "      <td>55000.0</td>\n",
              "      <td>1</td>\n",
              "    </tr>\n",
              "    <tr>\n",
              "      <th>3</th>\n",
              "      <td>115</td>\n",
              "      <td>7860</td>\n",
              "      <td>3</td>\n",
              "      <td>1</td>\n",
              "      <td>19000.0</td>\n",
              "      <td>1</td>\n",
              "    </tr>\n",
              "    <tr>\n",
              "      <th>4</th>\n",
              "      <td>115</td>\n",
              "      <td>7922</td>\n",
              "      <td>4</td>\n",
              "      <td>1</td>\n",
              "      <td>11000.0</td>\n",
              "      <td>1</td>\n",
              "    </tr>\n",
              "  </tbody>\n",
              "</table>\n",
              "</div>"
            ],
            "text/plain": [
              "   user_id  content_id  ...  prior_question_elapsed_time  part\n",
              "0      115        5692  ...                          NaN     5\n",
              "1      115        5716  ...                      37000.0     5\n",
              "2      115         128  ...                      55000.0     1\n",
              "3      115        7860  ...                      19000.0     1\n",
              "4      115        7922  ...                      11000.0     1\n",
              "\n",
              "[5 rows x 6 columns]"
            ]
          },
          "metadata": {
            "tags": []
          },
          "execution_count": 191
        }
      ]
    },
    {
      "cell_type": "code",
      "metadata": {
        "trusted": true,
        "colab": {
          "base_uri": "https://localhost:8080/",
          "height": 202
        },
        "id": "4-DBlD76V5BD",
        "outputId": "89a419d5-e803-4e44-cdef-2920beb3c02b"
      },
      "source": [
        "# 0 is used for padding, so increment 1\n",
        "indicator_cols = [\"content_id\", \"task_container_id\", \"part\"]\n",
        "for c in indicator_cols:\n",
        "  train_df[c] = train_df[c] + 1\n",
        "train_df.head()"
      ],
      "execution_count": 192,
      "outputs": [
        {
          "output_type": "execute_result",
          "data": {
            "text/html": [
              "<div>\n",
              "<style scoped>\n",
              "    .dataframe tbody tr th:only-of-type {\n",
              "        vertical-align: middle;\n",
              "    }\n",
              "\n",
              "    .dataframe tbody tr th {\n",
              "        vertical-align: top;\n",
              "    }\n",
              "\n",
              "    .dataframe thead th {\n",
              "        text-align: right;\n",
              "    }\n",
              "</style>\n",
              "<table border=\"1\" class=\"dataframe\">\n",
              "  <thead>\n",
              "    <tr style=\"text-align: right;\">\n",
              "      <th></th>\n",
              "      <th>user_id</th>\n",
              "      <th>content_id</th>\n",
              "      <th>task_container_id</th>\n",
              "      <th>answered_correctly</th>\n",
              "      <th>prior_question_elapsed_time</th>\n",
              "      <th>part</th>\n",
              "    </tr>\n",
              "  </thead>\n",
              "  <tbody>\n",
              "    <tr>\n",
              "      <th>0</th>\n",
              "      <td>115</td>\n",
              "      <td>5693</td>\n",
              "      <td>2</td>\n",
              "      <td>1</td>\n",
              "      <td>NaN</td>\n",
              "      <td>6</td>\n",
              "    </tr>\n",
              "    <tr>\n",
              "      <th>1</th>\n",
              "      <td>115</td>\n",
              "      <td>5717</td>\n",
              "      <td>3</td>\n",
              "      <td>1</td>\n",
              "      <td>37000.0</td>\n",
              "      <td>6</td>\n",
              "    </tr>\n",
              "    <tr>\n",
              "      <th>2</th>\n",
              "      <td>115</td>\n",
              "      <td>129</td>\n",
              "      <td>1</td>\n",
              "      <td>1</td>\n",
              "      <td>55000.0</td>\n",
              "      <td>2</td>\n",
              "    </tr>\n",
              "    <tr>\n",
              "      <th>3</th>\n",
              "      <td>115</td>\n",
              "      <td>7861</td>\n",
              "      <td>4</td>\n",
              "      <td>1</td>\n",
              "      <td>19000.0</td>\n",
              "      <td>2</td>\n",
              "    </tr>\n",
              "    <tr>\n",
              "      <th>4</th>\n",
              "      <td>115</td>\n",
              "      <td>7923</td>\n",
              "      <td>5</td>\n",
              "      <td>1</td>\n",
              "      <td>11000.0</td>\n",
              "      <td>2</td>\n",
              "    </tr>\n",
              "  </tbody>\n",
              "</table>\n",
              "</div>"
            ],
            "text/plain": [
              "   user_id  content_id  ...  prior_question_elapsed_time  part\n",
              "0      115        5693  ...                          NaN     6\n",
              "1      115        5717  ...                      37000.0     6\n",
              "2      115         129  ...                      55000.0     2\n",
              "3      115        7861  ...                      19000.0     2\n",
              "4      115        7923  ...                      11000.0     2\n",
              "\n",
              "[5 rows x 6 columns]"
            ]
          },
          "metadata": {
            "tags": []
          },
          "execution_count": 192
        }
      ]
    },
    {
      "cell_type": "code",
      "metadata": {
        "trusted": true,
        "colab": {
          "base_uri": "https://localhost:8080/",
          "height": 202
        },
        "id": "j2nEsBzAV5BD",
        "outputId": "0ea850b5-b74e-4ff6-e4db-462830fc1203"
      },
      "source": [
        "# convert milliseconds to minutes.\n",
        "train_df['prior_question_elapsed_time'] = train_df[\"prior_question_elapsed_time\"].fillna(0).astype(np.float32) / 60000\n",
        "train_df.head()"
      ],
      "execution_count": 193,
      "outputs": [
        {
          "output_type": "execute_result",
          "data": {
            "text/html": [
              "<div>\n",
              "<style scoped>\n",
              "    .dataframe tbody tr th:only-of-type {\n",
              "        vertical-align: middle;\n",
              "    }\n",
              "\n",
              "    .dataframe tbody tr th {\n",
              "        vertical-align: top;\n",
              "    }\n",
              "\n",
              "    .dataframe thead th {\n",
              "        text-align: right;\n",
              "    }\n",
              "</style>\n",
              "<table border=\"1\" class=\"dataframe\">\n",
              "  <thead>\n",
              "    <tr style=\"text-align: right;\">\n",
              "      <th></th>\n",
              "      <th>user_id</th>\n",
              "      <th>content_id</th>\n",
              "      <th>task_container_id</th>\n",
              "      <th>answered_correctly</th>\n",
              "      <th>prior_question_elapsed_time</th>\n",
              "      <th>part</th>\n",
              "    </tr>\n",
              "  </thead>\n",
              "  <tbody>\n",
              "    <tr>\n",
              "      <th>0</th>\n",
              "      <td>115</td>\n",
              "      <td>5693</td>\n",
              "      <td>2</td>\n",
              "      <td>1</td>\n",
              "      <td>0.000000</td>\n",
              "      <td>6</td>\n",
              "    </tr>\n",
              "    <tr>\n",
              "      <th>1</th>\n",
              "      <td>115</td>\n",
              "      <td>5717</td>\n",
              "      <td>3</td>\n",
              "      <td>1</td>\n",
              "      <td>0.616667</td>\n",
              "      <td>6</td>\n",
              "    </tr>\n",
              "    <tr>\n",
              "      <th>2</th>\n",
              "      <td>115</td>\n",
              "      <td>129</td>\n",
              "      <td>1</td>\n",
              "      <td>1</td>\n",
              "      <td>0.916667</td>\n",
              "      <td>2</td>\n",
              "    </tr>\n",
              "    <tr>\n",
              "      <th>3</th>\n",
              "      <td>115</td>\n",
              "      <td>7861</td>\n",
              "      <td>4</td>\n",
              "      <td>1</td>\n",
              "      <td>0.316667</td>\n",
              "      <td>2</td>\n",
              "    </tr>\n",
              "    <tr>\n",
              "      <th>4</th>\n",
              "      <td>115</td>\n",
              "      <td>7923</td>\n",
              "      <td>5</td>\n",
              "      <td>1</td>\n",
              "      <td>0.183333</td>\n",
              "      <td>2</td>\n",
              "    </tr>\n",
              "  </tbody>\n",
              "</table>\n",
              "</div>"
            ],
            "text/plain": [
              "   user_id  content_id  ...  prior_question_elapsed_time  part\n",
              "0      115        5693  ...                     0.000000     6\n",
              "1      115        5717  ...                     0.616667     6\n",
              "2      115         129  ...                     0.916667     2\n",
              "3      115        7861  ...                     0.316667     2\n",
              "4      115        7923  ...                     0.183333     2\n",
              "\n",
              "[5 rows x 6 columns]"
            ]
          },
          "metadata": {
            "tags": []
          },
          "execution_count": 193
        }
      ]
    },
    {
      "cell_type": "code",
      "metadata": {
        "trusted": true,
        "colab": {
          "base_uri": "https://localhost:8080/"
        },
        "id": "gAu_YF9mV5BD",
        "outputId": "0dc7e82a-f2a1-4205-cfa9-d53f53beabe0"
      },
      "source": [
        "user_groups = train_df.groupby(\"user_id\")\n",
        "len(user_groups)"
      ],
      "execution_count": 194,
      "outputs": [
        {
          "output_type": "execute_result",
          "data": {
            "text/plain": [
              "3824"
            ]
          },
          "metadata": {
            "tags": []
          },
          "execution_count": 194
        }
      ]
    },
    {
      "cell_type": "markdown",
      "metadata": {
        "id": "7tMw6HjyV5BE"
      },
      "source": [
        "### Pytorch Iterable Dataset"
      ]
    },
    {
      "cell_type": "code",
      "metadata": {
        "trusted": true,
        "id": "7iklS-skV5BE"
      },
      "source": [
        "# just some stuff I ctrl C ctrl V from StackOverflow (with little changes)\n",
        "# [1,2,3,4] --- w = 2 --[[1,2], [2,3], [3,4]] but 2D to 3D\n",
        "def rolling_window(a, w):\n",
        "    s0, s1 = a.strides\n",
        "    m, n = a.shape\n",
        "    return np.lib.stride_tricks.as_strided(\n",
        "        a, \n",
        "        shape=(m-w+1, w, n), \n",
        "        strides=(s0, s0, s1)\n",
        "    )\n",
        "\n",
        "def make_timeseries(x, window_length):\n",
        "  \"\"\"\n",
        "  x - shape (seq_len, features)\n",
        "  \"\"\"\n",
        "  # pad a lot of 0s before so when we create windows, we will have appropriate padding.\n",
        "  x = np.pad(x, ((window_length-1, 0), (0, 0)), constant_values=0) # add padding to the first dimension\n",
        "  \n",
        "  # roll windows \n",
        "  x = rolling_window(x, window_length) # shape will become - (seq_len, window_length, features)\n",
        "\n",
        "  return x\n",
        "\n",
        "def add_features_to_user_df(user_df):\n",
        "\n",
        "  # shifted answered_correctly, SOS 3\n",
        "  user_df[\"answered_correctly\"] = user_df[\"answered_correctly\"].shift(fill_value=2) + 1\n",
        "\n",
        "  return user_df\n",
        "\n",
        "class RiidDataset(IterableDataset):\n",
        "  def __init__(self, user_groups, window_length=128, batch_size=32, n_batches=None):\n",
        "    super().__init__()\n",
        "    self.user_groups = user_groups\n",
        "    self.window_length = window_length\n",
        "    self.batch_size = batch_size\n",
        "    self.__len = None\n",
        "    self.n_batches = n_batches\n",
        "    if n_batches:\n",
        "      self.__len = n_batches\n",
        "\n",
        "  def __len__(self):\n",
        "    if not self.__len:\n",
        "      b = 0\n",
        "      for xb, yb in self:\n",
        "        b += 1\n",
        "      self.__len = b\n",
        "    return self.__len \n",
        "\n",
        "  def __iter__(self):\n",
        "    b = 0\n",
        "    for user_id, user_df in self.user_groups:\n",
        "      user_df = user_df.drop(columns=\"user_id\")\n",
        "      y = user_df[\"answered_correctly\"].to_numpy().copy()\n",
        "      x = add_features_to_user_df(user_df)\n",
        "\n",
        "      x = make_timeseries(x, self.window_length)\n",
        "      x = np.transpose(x, (1, 0, 2)) # reshape to [seq_length, bs, features]\n",
        "      # y = make_timeseries(np.expand_dims(y, axis=1), self.window_length)\n",
        "      for i in range(0, x.shape[1], self.batch_size):\n",
        "          start, end = i, i+self.batch_size\n",
        "          if end > x.shape[1]: # ignoring last incomplete batches, this ignores users with interaction < batchsize, FIX THIS\n",
        "                continue\n",
        "          if self.n_batches and b == self.n_batches:\n",
        "            raise StopIteration\n",
        "          yield x[:, start:end, :], y[start:end]\n",
        "          b += 1"
      ],
      "execution_count": 195,
      "outputs": []
    },
    {
      "cell_type": "code",
      "metadata": {
        "trusted": true,
        "id": "obfjDLOvV5BE"
      },
      "source": [
        "riid_ds = RiidDataset(user_groups, window_length=2, batch_size=128, n_batches=None)"
      ],
      "execution_count": 196,
      "outputs": []
    },
    {
      "cell_type": "code",
      "metadata": {
        "trusted": true,
        "colab": {
          "base_uri": "https://localhost:8080/"
        },
        "id": "4HGtRYSpV5BE",
        "outputId": "cf832e37-8dc6-4df1-b556-30d546677c53"
      },
      "source": [
        "train_dl = DataLoader(riid_ds)\n",
        "x, y = next(iter(train_dl))\n",
        "x.shape, y.shape, x.dtype, y.dtype"
      ],
      "execution_count": 197,
      "outputs": [
        {
          "output_type": "execute_result",
          "data": {
            "text/plain": [
              "(torch.Size([1, 2, 128, 5]), torch.Size([1, 128]), torch.float64, torch.int8)"
            ]
          },
          "metadata": {
            "tags": []
          },
          "execution_count": 197
        }
      ]
    },
    {
      "cell_type": "code",
      "metadata": {
        "id": "StH8mmtZfw8j",
        "colab": {
          "base_uri": "https://localhost:8080/"
        },
        "outputId": "f81f4f94-bca2-41a7-eb44-f049430e5f20"
      },
      "source": [
        "y"
      ],
      "execution_count": 198,
      "outputs": [
        {
          "output_type": "execute_result",
          "data": {
            "text/plain": [
              "tensor([[0, 1, 0, 1, 1, 0, 1, 0, 1, 0, 0, 1, 0, 1, 1, 0, 1, 0, 0, 0, 0, 1, 1, 1,\n",
              "         0, 1, 1, 1, 1, 1, 0, 1, 1, 0, 1, 1, 0, 1, 0, 0, 1, 0, 0, 0, 1, 0, 1, 1,\n",
              "         1, 1, 0, 1, 0, 0, 0, 0, 0, 1, 0, 0, 0, 0, 0, 1, 0, 0, 1, 0, 0, 0, 0, 0,\n",
              "         1, 1, 0, 1, 1, 0, 1, 1, 0, 1, 1, 1, 0, 1, 1, 1, 0, 1, 1, 0, 0, 1, 1, 1,\n",
              "         1, 1, 1, 1, 0, 0, 1, 1, 1, 1, 1, 0, 1, 1, 1, 1, 1, 0, 1, 0, 1, 0, 1, 1,\n",
              "         1, 1, 1, 0, 0, 0, 0, 0]], dtype=torch.int8)"
            ]
          },
          "metadata": {
            "tags": []
          },
          "execution_count": 198
        }
      ]
    },
    {
      "cell_type": "code",
      "metadata": {
        "colab": {
          "base_uri": "https://localhost:8080/"
        },
        "id": "iMf4uEkLa5_D",
        "outputId": "b1e9b32c-27a0-417e-b58e-a0d6d6fccc64"
      },
      "source": [
        "len(train_dl)"
      ],
      "execution_count": 199,
      "outputs": [
        {
          "output_type": "execute_result",
          "data": {
            "text/plain": [
              "6311"
            ]
          },
          "metadata": {
            "tags": []
          },
          "execution_count": 199
        }
      ]
    },
    {
      "cell_type": "code",
      "metadata": {
        "trusted": true,
        "colab": {
          "base_uri": "https://localhost:8080/"
        },
        "id": "O0jBSXrKV5BE",
        "outputId": "b7ab1b44-bf20-4db3-f40a-189bb800aec8"
      },
      "source": [
        "batches = 0\n",
        "max_batch_size = 0\n",
        "max_seq_len = 0\n",
        "for xb, yb in train_dl:\n",
        "    max_batch_size = max(max_batch_size, xb.size(2))\n",
        "    max_seq_len = max(max_seq_len, xb.size(1))\n",
        "    batches += 1\n",
        "    \n",
        "max_batch_size, max_seq_len, batches"
      ],
      "execution_count": 200,
      "outputs": [
        {
          "output_type": "execute_result",
          "data": {
            "text/plain": [
              "(128, 2, 6311)"
            ]
          },
          "metadata": {
            "tags": []
          },
          "execution_count": 200
        }
      ]
    },
    {
      "cell_type": "markdown",
      "metadata": {
        "id": "eoN04M3zxpyW"
      },
      "source": [
        "##### Padding mask"
      ]
    },
    {
      "cell_type": "code",
      "metadata": {
        "colab": {
          "base_uri": "https://localhost:8080/"
        },
        "id": "kmjVawe-xtDp",
        "outputId": "2e9208a9-6f25-47af-ffdd-853a46dd14a4"
      },
      "source": [
        "pad_mask = torch.all(torch.eq(x.squeeze(0), 0), dim=-1).T\n",
        "pad_mask.shape"
      ],
      "execution_count": 201,
      "outputs": [
        {
          "output_type": "execute_result",
          "data": {
            "text/plain": [
              "torch.Size([128, 2])"
            ]
          },
          "metadata": {
            "tags": []
          },
          "execution_count": 201
        }
      ]
    },
    {
      "cell_type": "markdown",
      "metadata": {
        "id": "P2AU37Y8V5BE"
      },
      "source": [
        "### Transformer Sequence Classifier."
      ]
    },
    {
      "cell_type": "markdown",
      "metadata": {
        "id": "KExRqzLASL7Z"
      },
      "source": [
        "Positional Encoding"
      ]
    },
    {
      "cell_type": "code",
      "metadata": {
        "id": "p5x0-pN4SPab"
      },
      "source": [
        "class PositionalEncoding(nn.Module):\n",
        "\n",
        "    def __init__(self, d_model, dropout=0.1, max_len=5000):\n",
        "        super(PositionalEncoding, self).__init__()\n",
        "        self.dropout = nn.Dropout(p=dropout)\n",
        "\n",
        "        pe = torch.zeros(max_len, d_model)\n",
        "        position = torch.arange(0, max_len, dtype=torch.float).unsqueeze(1)\n",
        "        div_term = torch.exp(torch.arange(0, d_model, 2).float() * (-math.log(10000.0) / d_model))\n",
        "        pe[:, 0::2] = torch.sin(position * div_term)\n",
        "        pe[:, 1::2] = torch.cos(position * div_term)\n",
        "        pe = pe.unsqueeze(0).transpose(0, 1)\n",
        "        self.register_buffer('pe', pe)\n",
        "\n",
        "    def forward(self, x):\n",
        "        x = x + self.pe[:x.size(0), :]\n",
        "        return self.dropout(x)"
      ],
      "execution_count": 202,
      "outputs": []
    },
    {
      "cell_type": "code",
      "metadata": {
        "trusted": true,
        "id": "6fMdaxtaV5BE"
      },
      "source": [
        "class TransformerClassifier(nn.Module):\n",
        "    \n",
        "    def __init__(self, n_tokens_dict, d_model=512, n_heads=8, hidden_dim=1024, n_layers=1, dropout=0):\n",
        "        \n",
        "        super().__init__()\n",
        "        self.d_model = d_model\n",
        "        \n",
        "        # Transformer encoder blocks\n",
        "        encoder_layer = nn.TransformerEncoderLayer(d_model, n_heads, hidden_dim, dropout)\n",
        "        self.transformer_encoder = nn.TransformerEncoder(encoder_layer, n_layers)\n",
        "        \n",
        "        # Input embeddings for content_id, task_container_id, answered_correctly, prior_question_elapsed_time, part\n",
        "        self.content_id_emb = nn.Embedding(n_tokens_dict[\"content_id\"], d_model)\n",
        "        self.task_container_id_emb = nn.Embedding(n_tokens_dict[\"task_container_id\"], d_model)\n",
        "        self.answered_correctly_emb = nn.Embedding(n_tokens_dict[\"answered_correctly\"], d_model)\n",
        "        self.part_emb = nn.Embedding(n_tokens_dict[\"part\"], d_model)\n",
        "        self.prior_question_elapsed_time_emb = nn.Linear(1, d_model, bias=False)\n",
        "        # Positional Encoding\n",
        "        self.pos_enc = PositionalEncoding(d_model=d_model, dropout=dropout)\n",
        "\n",
        "        self.out = nn.Linear(d_model, 1)\n",
        "        \n",
        "    def forward(self, x):\n",
        "        \n",
        "        x = x.squeeze(0) # TODO: take care of this in data loader, extra batch dim incase of IterableDataset [seq_len, bs, d_model]\n",
        "\n",
        "        # padding mask\n",
        "        src_key_padding_mask =  torch.all(torch.eq(x.squeeze(0), 0), dim=-1).T # shape [bs, seq_len]\n",
        "        \n",
        "        # input embedding\n",
        "        content_id_emb = self.content_id_emb(x[..., 0].long())\n",
        "        task_container_id_emb = self.task_container_id_emb(x[..., 1].long())\n",
        "        answered_correctly_emb = self.answered_correctly_emb(x[..., 2].long())\n",
        "        part_emb = self.part_emb(x[..., 4].long())\n",
        "        # prior_question_elapsed_time_emb = self.prior_question_elapsed_time_emb(x[..., 3].unsqueeze(-1).float())\n",
        "        \n",
        "        # shape [seq_len, bs, d_model]\n",
        "        input_emb = (content_id_emb \n",
        "                     + task_container_id_emb\n",
        "                     + answered_correctly_emb\n",
        "                     + part_emb\n",
        "                     # + prior_question_elapsed_time_emb\n",
        "                     )\n",
        "        input_emb = input_emb * math.sqrt(self.d_model) # needed?\n",
        "\n",
        "        input_emb = self.pos_enc(input_emb) # position encoding\n",
        "        \n",
        "        # transformer blocks\n",
        "        z = self.transformer_encoder(input_emb, src_key_padding_mask=src_key_padding_mask) # shape [seq_len, bs, d_model]\n",
        "        \n",
        "        # global average pooling over the sequence length dimension\n",
        "        x = z.mean(dim=0) # shape [bs, d_model]\n",
        "        \n",
        "        # output layer\n",
        "        out = self.out(x) # shape [bs, 1]\n",
        "        \n",
        "        return torch.sigmoid(out)\n",
        "        \n"
      ],
      "execution_count": 203,
      "outputs": []
    },
    {
      "cell_type": "code",
      "metadata": {
        "trusted": true,
        "colab": {
          "base_uri": "https://localhost:8080/"
        },
        "id": "r9JDMerWV5BE",
        "outputId": "65b4a6b4-43da-4c5e-8017-ed5362327e65"
      },
      "source": [
        "n_tokens_dict = {\n",
        "    \"content_id\": max(train_df[\"content_id\"]) + 1,\n",
        "    \"task_container_id\": max(train_df[\"task_container_id\"]) + 1,\n",
        "    \"answered_correctly\": 4, # 0-padding, 1-incorrect, 2-correct, 3-fill value\n",
        "    \"part\": max(train_df[\"part\"]) + 1\n",
        "}\n",
        "\n",
        "n_tokens_dict"
      ],
      "execution_count": 204,
      "outputs": [
        {
          "output_type": "execute_result",
          "data": {
            "text/plain": [
              "{'answered_correctly': 4,\n",
              " 'content_id': 13524,\n",
              " 'part': 9,\n",
              " 'task_container_id': 7741}"
            ]
          },
          "metadata": {
            "tags": []
          },
          "execution_count": 204
        }
      ]
    },
    {
      "cell_type": "code",
      "metadata": {
        "trusted": true,
        "colab": {
          "base_uri": "https://localhost:8080/"
        },
        "id": "OHTIue_qV5BE",
        "outputId": "b0463679-42da-4ec5-ec97-916139b37b40"
      },
      "source": [
        "device = torch.device(\"cuda\") if torch.cuda.is_available() else torch.device(\"cpu\")\n",
        "device"
      ],
      "execution_count": 205,
      "outputs": [
        {
          "output_type": "execute_result",
          "data": {
            "text/plain": [
              "device(type='cuda')"
            ]
          },
          "metadata": {
            "tags": []
          },
          "execution_count": 205
        }
      ]
    },
    {
      "cell_type": "code",
      "metadata": {
        "trusted": true,
        "colab": {
          "base_uri": "https://localhost:8080/"
        },
        "id": "v1PAb6vVV5BE",
        "outputId": "3b6fa287-7de3-45b2-f575-48ab5302b2d5"
      },
      "source": [
        "model = TransformerClassifier(n_tokens_dict).to(device)\n",
        "model"
      ],
      "execution_count": 206,
      "outputs": [
        {
          "output_type": "execute_result",
          "data": {
            "text/plain": [
              "TransformerClassifier(\n",
              "  (transformer_encoder): TransformerEncoder(\n",
              "    (layers): ModuleList(\n",
              "      (0): TransformerEncoderLayer(\n",
              "        (self_attn): MultiheadAttention(\n",
              "          (out_proj): _LinearWithBias(in_features=512, out_features=512, bias=True)\n",
              "        )\n",
              "        (linear1): Linear(in_features=512, out_features=1024, bias=True)\n",
              "        (dropout): Dropout(p=0, inplace=False)\n",
              "        (linear2): Linear(in_features=1024, out_features=512, bias=True)\n",
              "        (norm1): LayerNorm((512,), eps=1e-05, elementwise_affine=True)\n",
              "        (norm2): LayerNorm((512,), eps=1e-05, elementwise_affine=True)\n",
              "        (dropout1): Dropout(p=0, inplace=False)\n",
              "        (dropout2): Dropout(p=0, inplace=False)\n",
              "      )\n",
              "    )\n",
              "  )\n",
              "  (content_id_emb): Embedding(13524, 512)\n",
              "  (task_container_id_emb): Embedding(7741, 512)\n",
              "  (answered_correctly_emb): Embedding(4, 512)\n",
              "  (part_emb): Embedding(9, 512)\n",
              "  (prior_question_elapsed_time_emb): Linear(in_features=1, out_features=512, bias=False)\n",
              "  (pos_enc): PositionalEncoding(\n",
              "    (dropout): Dropout(p=0, inplace=False)\n",
              "  )\n",
              "  (out): Linear(in_features=512, out_features=1, bias=True)\n",
              ")"
            ]
          },
          "metadata": {
            "tags": []
          },
          "execution_count": 206
        }
      ]
    },
    {
      "cell_type": "markdown",
      "metadata": {
        "id": "kKdmvTV5V5BE"
      },
      "source": [
        "### Training"
      ]
    },
    {
      "cell_type": "code",
      "metadata": {
        "trusted": true,
        "id": "1K_ro8KcV5BE"
      },
      "source": [
        "epochs = 100\n",
        "opt = torch.optim.Adam(params=model.parameters(), lr=0.01)\n",
        "sched = torch.optim.lr_scheduler.OneCycleLR(opt, max_lr=0.01, steps_per_epoch=len(train_dl), epochs=epochs)\n",
        "loss_func = nn.BCELoss()"
      ],
      "execution_count": 207,
      "outputs": []
    },
    {
      "cell_type": "markdown",
      "metadata": {
        "id": "fmWcoCpfO7W4"
      },
      "source": [
        "https://pytorch.org/tutorials/beginner/nn_tutorial.html#create-fit-and-get-data"
      ]
    },
    {
      "cell_type": "code",
      "metadata": {
        "id": "lcA8qWtWOQc1"
      },
      "source": [
        "def loss_batch(model, loss_func, X_batch, y_batch, opt=None):\n",
        "\n",
        "  preds = model(X_batch)\n",
        "  loss = loss_func(preds, y_batch)\n",
        "\n",
        "  if opt is not None:\n",
        "    loss.backward()\n",
        "    # nn.utils.clip_grad_norm_(model.parameters(), 0.25)\n",
        "    opt.step()\n",
        "    opt.zero_grad()\n",
        "\n",
        "  return loss.item(), X_batch.shape[2]"
      ],
      "execution_count": 208,
      "outputs": []
    },
    {
      "cell_type": "code",
      "metadata": {
        "trusted": true,
        "id": "7KKDMSb-V5BF"
      },
      "source": [
        "def fit(epochs, model, loss_func, opt, train_dl, valid_dl=None, sched=None):\n",
        "  epoch_losses = []\n",
        "  epoch_lrs = []\n",
        "  for e in range(epochs):\n",
        "    # train\n",
        "    lrs = []\n",
        "    train_losses = []\n",
        "    val_losses = []\n",
        "\n",
        "    model.train()\n",
        "    train_dl = tqdm(train_dl, position=0, leave=True)\n",
        "    for X_batch, y_batch in train_dl:\n",
        "      X_batch, y_batch = X_batch.to(device), y_batch.T.type(torch.FloatTensor).to(device)\n",
        "      train_loss, train_bs = loss_batch(model, loss_func, X_batch, y_batch, opt)\n",
        "      train_losses.append(train_loss)\n",
        "      train_loss_mean = sum(train_losses) / len(train_losses)\n",
        "      lr = opt.param_groups[0][\"lr\"]\n",
        "      lrs.append(lr)\n",
        "      train_dl.set_description(f\"Epoch: {e}, RunningLoss: {train_loss_mean:.3f}, InstantLoss: {train_loss:.3f}, LR: {lr:.6f}\")\n",
        "      if sched:\n",
        "        sched.step()\n",
        "    epoch_losses.append(train_loss_mean)\n",
        "    epoch_lrs.append(lr)\n",
        "    # eval\n",
        "    # model.eval()\n",
        "    # with torch.no_grad():\n",
        "    #   val_losses, val_bss = zip(*[loss_batch(model, loss_func, X_batch, y_batch) for X_batch, y_batch in valid_dl])\n",
        "\n",
        "    # val_loss = np.sum(np.multiply(val_losses, val_bss)) / np.sum(val_bss)\n",
        "    # train_dl.set_description(f\"Epoch: {e}, Loss: {train_loss}, Val Loss: {val_loss}\")\n",
        "\n",
        "  return epoch_losses, epoch_lrs#, val_losses"
      ],
      "execution_count": 209,
      "outputs": []
    },
    {
      "cell_type": "code",
      "metadata": {
        "colab": {
          "base_uri": "https://localhost:8080/"
        },
        "id": "0olyMi8vG0XM",
        "outputId": "a09e7089-a914-4785-f8d2-5ff5b630bfb3"
      },
      "source": [
        "train_losses, lrs = fit(epochs, model, loss_func, opt, train_dl, sched=sched)"
      ],
      "execution_count": null,
      "outputs": [
        {
          "output_type": "stream",
          "text": [
            "Epoch: 0, RunningLoss: 0.628, InstantLoss: 0.746, LR: 0.000426: 100%|██████████| 6311/6311 [01:24<00:00, 74.63it/s]\n",
            "Epoch: 1, RunningLoss: 0.620, InstantLoss: 0.726, LR: 0.000505: 100%|██████████| 6311/6311 [01:24<00:00, 75.08it/s]\n",
            "Epoch: 2, RunningLoss: 0.606, InstantLoss: 0.697, LR: 0.000635: 100%|██████████| 6311/6311 [01:24<00:00, 74.83it/s]\n",
            "Epoch: 3, RunningLoss: 0.599, InstantLoss: 0.698, LR: 0.000815: 100%|██████████| 6311/6311 [01:23<00:00, 75.72it/s]\n",
            "Epoch: 4, RunningLoss: 0.596, InstantLoss: 0.703, LR: 0.001043: 100%|██████████| 6311/6311 [01:23<00:00, 75.73it/s]\n",
            "Epoch: 5, RunningLoss: 0.593, InstantLoss: 0.700, LR: 0.001317: 100%|██████████| 6311/6311 [01:23<00:00, 75.44it/s]\n",
            "Epoch: 6, RunningLoss: 0.590, InstantLoss: 0.693, LR: 0.001633: 100%|██████████| 6311/6311 [01:23<00:00, 75.88it/s]\n",
            "Epoch: 7, RunningLoss: 0.586, InstantLoss: 0.677, LR: 0.001988: 100%|██████████| 6311/6311 [01:23<00:00, 75.64it/s]\n",
            "Epoch: 8, RunningLoss: 0.582, InstantLoss: 0.671, LR: 0.002379: 100%|██████████| 6311/6311 [01:23<00:00, 75.82it/s]\n",
            "Epoch: 9, RunningLoss: 0.577, InstantLoss: 0.466, LR: 0.002616:  57%|█████▋    | 3607/6311 [00:47<00:35, 76.13it/s]"
          ],
          "name": "stderr"
        },
        {
          "output_type": "stream",
          "text": [
            "Buffered data was truncated after reaching the output size limit."
          ],
          "name": "stdout"
        }
      ]
    },
    {
      "cell_type": "code",
      "metadata": {
        "id": "FUG3qDSMCQHF"
      },
      "source": [
        "import matplotlib.pyplot as plt"
      ],
      "execution_count": null,
      "outputs": []
    },
    {
      "cell_type": "code",
      "metadata": {
        "id": "Lb8ZxOtfFIYr"
      },
      "source": [
        "plt.ylim(top=1)\n",
        "plt.plot(train_losses)"
      ],
      "execution_count": null,
      "outputs": []
    },
    {
      "cell_type": "code",
      "metadata": {
        "id": "gVJXQ30QKFRr"
      },
      "source": [
        "plt.plot(lrs)"
      ],
      "execution_count": null,
      "outputs": []
    },
    {
      "cell_type": "code",
      "metadata": {
        "id": "KCP4UnYdGB3_"
      },
      "source": [
        "xb = xb.to(device)\n",
        "preds = model(xb)"
      ],
      "execution_count": null,
      "outputs": []
    },
    {
      "cell_type": "code",
      "metadata": {
        "id": "Dn2nt08h1SQ8"
      },
      "source": [
        "yb"
      ],
      "execution_count": null,
      "outputs": []
    },
    {
      "cell_type": "code",
      "metadata": {
        "id": "vmKaBcxE1XdV"
      },
      "source": [
        "from sklearn.metrics import accuracy_score, precision_score, recall_score, roc_auc_score"
      ],
      "execution_count": null,
      "outputs": []
    },
    {
      "cell_type": "code",
      "metadata": {
        "id": "CyC80r-NUrjV"
      },
      "source": [
        "y_hat = preds.to(\"cpu\").detach().numpy() > 0.5\n",
        "y_hat = y_hat.astype(np.int8)"
      ],
      "execution_count": null,
      "outputs": []
    },
    {
      "cell_type": "code",
      "metadata": {
        "id": "xBYitHZhU3DK"
      },
      "source": [
        "y_true = yb.to(\"cpu\").detach().numpy().T\n",
        "y_true.shape"
      ],
      "execution_count": null,
      "outputs": []
    },
    {
      "cell_type": "code",
      "metadata": {
        "id": "o8in5UADV50R"
      },
      "source": [
        "accuracy_score(y_true, y_hat)"
      ],
      "execution_count": null,
      "outputs": []
    },
    {
      "cell_type": "code",
      "metadata": {
        "id": "SDYPPqqzWOmK"
      },
      "source": [
        "precision_score(y_true, y_hat)"
      ],
      "execution_count": null,
      "outputs": []
    },
    {
      "cell_type": "code",
      "metadata": {
        "id": "eLgz51aEYUiy"
      },
      "source": [
        "recall_score(y_true, y_hat)"
      ],
      "execution_count": null,
      "outputs": []
    },
    {
      "cell_type": "code",
      "metadata": {
        "id": "BjZreOaXYW6k"
      },
      "source": [
        "y_true.T"
      ],
      "execution_count": null,
      "outputs": []
    },
    {
      "cell_type": "code",
      "metadata": {
        "id": "Zz3BA7xpWaMo"
      },
      "source": [
        "y_hat.T"
      ],
      "execution_count": null,
      "outputs": []
    },
    {
      "cell_type": "code",
      "metadata": {
        "id": "3fLoQpxcWeP2"
      },
      "source": [
        "roc_auc_score(y_true, preds.to(\"cpu\").detach().numpy())"
      ],
      "execution_count": null,
      "outputs": []
    },
    {
      "cell_type": "code",
      "metadata": {
        "id": "reAvhC2SUcaU"
      },
      "source": [
        ""
      ],
      "execution_count": null,
      "outputs": []
    }
  ]
}