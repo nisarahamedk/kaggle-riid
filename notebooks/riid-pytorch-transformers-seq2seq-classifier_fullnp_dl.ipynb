{
  "nbformat": 4,
  "nbformat_minor": 0,
  "metadata": {
    "kernelspec": {
      "name": "python3",
      "display_name": "Python 3",
      "language": "python"
    },
    "language_info": {
      "name": "python",
      "version": "3.7.6",
      "mimetype": "text/x-python",
      "codemirror_mode": {
        "name": "ipython",
        "version": 3
      },
      "pygments_lexer": "ipython3",
      "nbconvert_exporter": "python",
      "file_extension": ".py"
    },
    "colab": {
      "name": "riid-pytorch-transformers.ipynb",
      "provenance": [],
      "include_colab_link": true
    },
    "accelerator": "GPU"
  },
  "cells": [
    {
      "cell_type": "markdown",
      "metadata": {
        "id": "view-in-github",
        "colab_type": "text"
      },
      "source": [
        "<a href=\"https://colab.research.google.com/github/nisarahamedk/kaggle-riid/blob/master/notebooks/riid-pytorch-transformers-seq2seq-classifier_fullnp_dl.ipynb\" target=\"_parent\"><img src=\"https://colab.research.google.com/assets/colab-badge.svg\" alt=\"Open In Colab\"/></a>"
      ]
    },
    {
      "cell_type": "code",
      "metadata": {
        "id": "666nJ1-WWJLh"
      },
      "source": [
        "%%capture\n",
        "!pip install gcsfs"
      ],
      "execution_count": 1,
      "outputs": []
    },
    {
      "cell_type": "code",
      "metadata": {
        "id": "mECGlUcUeBVp",
        "colab": {
          "base_uri": "https://localhost:8080/"
        },
        "outputId": "f0a38a8a-de6c-40d7-ecd3-c93b8846f4cb"
      },
      "source": [
        "import multiprocessing\n",
        "multiprocessing.cpu_count()"
      ],
      "execution_count": 2,
      "outputs": [
        {
          "output_type": "execute_result",
          "data": {
            "text/plain": [
              "2"
            ]
          },
          "metadata": {
            "tags": []
          },
          "execution_count": 2
        }
      ]
    },
    {
      "cell_type": "code",
      "metadata": {
        "trusted": true,
        "id": "18rL3yRXV5BA"
      },
      "source": [
        "import math\n",
        "\n",
        "import gcsfs\n",
        "import pandas as pd\n",
        "import numpy as np\n",
        "import torch\n",
        "import torch.nn as nn\n",
        "import torch.nn.functional as F\n",
        "from torch.utils.data import IterableDataset, DataLoader, ChainDataset\n",
        "from tqdm import tqdm, trange"
      ],
      "execution_count": 3,
      "outputs": []
    },
    {
      "cell_type": "markdown",
      "metadata": {
        "id": "epiDJGV6V5BA"
      },
      "source": [
        "### Read the dataset"
      ]
    },
    {
      "cell_type": "code",
      "metadata": {
        "trusted": true,
        "id": "LunXwcomV5BB"
      },
      "source": [
        "# DATA_PATH = \"/kaggle/input/riiid-test-answer-prediction/\"\n",
        "DATA_PATH = \"gs://kds-e80dfc3d272252bbf34c627d756f891826dab0c19f30ec0fc3ac1979\""
      ],
      "execution_count": 4,
      "outputs": []
    },
    {
      "cell_type": "code",
      "metadata": {
        "_uuid": "d629ff2d2480ee46fbb7e2d37f6b5fab8052498a",
        "_cell_guid": "79c7e3d0-c299-4dcb-8224-4455121ee9b0",
        "trusted": true,
        "id": "bI0E1uWRV5BB"
      },
      "source": [
        "dtypes_train = {\n",
        "    'row_id': 'int64',\n",
        "    'timestamp': 'int64',\n",
        "    'user_id': 'int32',\n",
        "    'content_id': 'int16',\n",
        "    'content_type_id': 'int8',\n",
        "    'task_container_id': 'int16',\n",
        "    'user_answer': 'int8',\n",
        "    'answered_correctly': 'int8',\n",
        "    'prior_question_elapsed_time': 'float32',\n",
        "    'prior_question_had_explanation': 'boolean'\n",
        "    }\n",
        "\n",
        "dtypes_questions = {\n",
        "    \"question_id\": \"\",\n",
        "    \"bundle_id\": \"\",\n",
        "    \"correct_answer\": \"\",\n",
        "    \"part\": \"\",\n",
        "    \"tags\": \"\",\n",
        "}\n",
        "\n",
        "dtypes_lectures = {\n",
        "    \"lecture_id\": \"\",\n",
        "    \"part\": \"\",\n",
        "    \"tag\": \"\",\n",
        "    \"type_of\": \"\",\n",
        "}"
      ],
      "execution_count": 5,
      "outputs": []
    },
    {
      "cell_type": "code",
      "metadata": {
        "trusted": true,
        "colab": {
          "base_uri": "https://localhost:8080/",
          "height": 197
        },
        "id": "EEOz3k6DV5BB",
        "outputId": "0266575e-0839-4fd7-8059-7953ed68870e"
      },
      "source": [
        "train_df = pd.read_csv(DATA_PATH + \"/train.csv\", dtype=dtypes_train, nrows=1e6)\n",
        "train_df.head()"
      ],
      "execution_count": 6,
      "outputs": [
        {
          "output_type": "execute_result",
          "data": {
            "text/html": [
              "<div>\n",
              "<style scoped>\n",
              "    .dataframe tbody tr th:only-of-type {\n",
              "        vertical-align: middle;\n",
              "    }\n",
              "\n",
              "    .dataframe tbody tr th {\n",
              "        vertical-align: top;\n",
              "    }\n",
              "\n",
              "    .dataframe thead th {\n",
              "        text-align: right;\n",
              "    }\n",
              "</style>\n",
              "<table border=\"1\" class=\"dataframe\">\n",
              "  <thead>\n",
              "    <tr style=\"text-align: right;\">\n",
              "      <th></th>\n",
              "      <th>row_id</th>\n",
              "      <th>timestamp</th>\n",
              "      <th>user_id</th>\n",
              "      <th>content_id</th>\n",
              "      <th>content_type_id</th>\n",
              "      <th>task_container_id</th>\n",
              "      <th>user_answer</th>\n",
              "      <th>answered_correctly</th>\n",
              "      <th>prior_question_elapsed_time</th>\n",
              "      <th>prior_question_had_explanation</th>\n",
              "    </tr>\n",
              "  </thead>\n",
              "  <tbody>\n",
              "    <tr>\n",
              "      <th>0</th>\n",
              "      <td>0</td>\n",
              "      <td>0</td>\n",
              "      <td>115</td>\n",
              "      <td>5692</td>\n",
              "      <td>0</td>\n",
              "      <td>1</td>\n",
              "      <td>3</td>\n",
              "      <td>1</td>\n",
              "      <td>NaN</td>\n",
              "      <td>&lt;NA&gt;</td>\n",
              "    </tr>\n",
              "    <tr>\n",
              "      <th>1</th>\n",
              "      <td>1</td>\n",
              "      <td>56943</td>\n",
              "      <td>115</td>\n",
              "      <td>5716</td>\n",
              "      <td>0</td>\n",
              "      <td>2</td>\n",
              "      <td>2</td>\n",
              "      <td>1</td>\n",
              "      <td>37000.0</td>\n",
              "      <td>False</td>\n",
              "    </tr>\n",
              "    <tr>\n",
              "      <th>2</th>\n",
              "      <td>2</td>\n",
              "      <td>118363</td>\n",
              "      <td>115</td>\n",
              "      <td>128</td>\n",
              "      <td>0</td>\n",
              "      <td>0</td>\n",
              "      <td>0</td>\n",
              "      <td>1</td>\n",
              "      <td>55000.0</td>\n",
              "      <td>False</td>\n",
              "    </tr>\n",
              "    <tr>\n",
              "      <th>3</th>\n",
              "      <td>3</td>\n",
              "      <td>131167</td>\n",
              "      <td>115</td>\n",
              "      <td>7860</td>\n",
              "      <td>0</td>\n",
              "      <td>3</td>\n",
              "      <td>0</td>\n",
              "      <td>1</td>\n",
              "      <td>19000.0</td>\n",
              "      <td>False</td>\n",
              "    </tr>\n",
              "    <tr>\n",
              "      <th>4</th>\n",
              "      <td>4</td>\n",
              "      <td>137965</td>\n",
              "      <td>115</td>\n",
              "      <td>7922</td>\n",
              "      <td>0</td>\n",
              "      <td>4</td>\n",
              "      <td>1</td>\n",
              "      <td>1</td>\n",
              "      <td>11000.0</td>\n",
              "      <td>False</td>\n",
              "    </tr>\n",
              "  </tbody>\n",
              "</table>\n",
              "</div>"
            ],
            "text/plain": [
              "   row_id  ...  prior_question_had_explanation\n",
              "0       0  ...                            <NA>\n",
              "1       1  ...                           False\n",
              "2       2  ...                           False\n",
              "3       3  ...                           False\n",
              "4       4  ...                           False\n",
              "\n",
              "[5 rows x 10 columns]"
            ]
          },
          "metadata": {
            "tags": []
          },
          "execution_count": 6
        }
      ]
    },
    {
      "cell_type": "code",
      "metadata": {
        "trusted": true,
        "colab": {
          "base_uri": "https://localhost:8080/",
          "height": 197
        },
        "id": "DyfGayw_V5BC",
        "outputId": "136d42d4-be0e-4232-ef86-828ce2a31381"
      },
      "source": [
        "questions_df = pd.read_csv(DATA_PATH + \"/questions.csv\")\n",
        "questions_df.head()"
      ],
      "execution_count": 7,
      "outputs": [
        {
          "output_type": "execute_result",
          "data": {
            "text/html": [
              "<div>\n",
              "<style scoped>\n",
              "    .dataframe tbody tr th:only-of-type {\n",
              "        vertical-align: middle;\n",
              "    }\n",
              "\n",
              "    .dataframe tbody tr th {\n",
              "        vertical-align: top;\n",
              "    }\n",
              "\n",
              "    .dataframe thead th {\n",
              "        text-align: right;\n",
              "    }\n",
              "</style>\n",
              "<table border=\"1\" class=\"dataframe\">\n",
              "  <thead>\n",
              "    <tr style=\"text-align: right;\">\n",
              "      <th></th>\n",
              "      <th>question_id</th>\n",
              "      <th>bundle_id</th>\n",
              "      <th>correct_answer</th>\n",
              "      <th>part</th>\n",
              "      <th>tags</th>\n",
              "    </tr>\n",
              "  </thead>\n",
              "  <tbody>\n",
              "    <tr>\n",
              "      <th>0</th>\n",
              "      <td>0</td>\n",
              "      <td>0</td>\n",
              "      <td>0</td>\n",
              "      <td>1</td>\n",
              "      <td>51 131 162 38</td>\n",
              "    </tr>\n",
              "    <tr>\n",
              "      <th>1</th>\n",
              "      <td>1</td>\n",
              "      <td>1</td>\n",
              "      <td>1</td>\n",
              "      <td>1</td>\n",
              "      <td>131 36 81</td>\n",
              "    </tr>\n",
              "    <tr>\n",
              "      <th>2</th>\n",
              "      <td>2</td>\n",
              "      <td>2</td>\n",
              "      <td>0</td>\n",
              "      <td>1</td>\n",
              "      <td>131 101 162 92</td>\n",
              "    </tr>\n",
              "    <tr>\n",
              "      <th>3</th>\n",
              "      <td>3</td>\n",
              "      <td>3</td>\n",
              "      <td>0</td>\n",
              "      <td>1</td>\n",
              "      <td>131 149 162 29</td>\n",
              "    </tr>\n",
              "    <tr>\n",
              "      <th>4</th>\n",
              "      <td>4</td>\n",
              "      <td>4</td>\n",
              "      <td>3</td>\n",
              "      <td>1</td>\n",
              "      <td>131 5 162 38</td>\n",
              "    </tr>\n",
              "  </tbody>\n",
              "</table>\n",
              "</div>"
            ],
            "text/plain": [
              "   question_id  bundle_id  correct_answer  part            tags\n",
              "0            0          0               0     1   51 131 162 38\n",
              "1            1          1               1     1       131 36 81\n",
              "2            2          2               0     1  131 101 162 92\n",
              "3            3          3               0     1  131 149 162 29\n",
              "4            4          4               3     1    131 5 162 38"
            ]
          },
          "metadata": {
            "tags": []
          },
          "execution_count": 7
        }
      ]
    },
    {
      "cell_type": "code",
      "metadata": {
        "trusted": true,
        "colab": {
          "base_uri": "https://localhost:8080/",
          "height": 197
        },
        "id": "oRPol9iZV5BD",
        "outputId": "7ebf8b18-9d59-4d9d-de46-f0f2efcb8652"
      },
      "source": [
        "lectures_df = pd.read_csv(DATA_PATH + \"/lectures.csv\")\n",
        "lectures_df.head()"
      ],
      "execution_count": 8,
      "outputs": [
        {
          "output_type": "execute_result",
          "data": {
            "text/html": [
              "<div>\n",
              "<style scoped>\n",
              "    .dataframe tbody tr th:only-of-type {\n",
              "        vertical-align: middle;\n",
              "    }\n",
              "\n",
              "    .dataframe tbody tr th {\n",
              "        vertical-align: top;\n",
              "    }\n",
              "\n",
              "    .dataframe thead th {\n",
              "        text-align: right;\n",
              "    }\n",
              "</style>\n",
              "<table border=\"1\" class=\"dataframe\">\n",
              "  <thead>\n",
              "    <tr style=\"text-align: right;\">\n",
              "      <th></th>\n",
              "      <th>lecture_id</th>\n",
              "      <th>tag</th>\n",
              "      <th>part</th>\n",
              "      <th>type_of</th>\n",
              "    </tr>\n",
              "  </thead>\n",
              "  <tbody>\n",
              "    <tr>\n",
              "      <th>0</th>\n",
              "      <td>89</td>\n",
              "      <td>159</td>\n",
              "      <td>5</td>\n",
              "      <td>concept</td>\n",
              "    </tr>\n",
              "    <tr>\n",
              "      <th>1</th>\n",
              "      <td>100</td>\n",
              "      <td>70</td>\n",
              "      <td>1</td>\n",
              "      <td>concept</td>\n",
              "    </tr>\n",
              "    <tr>\n",
              "      <th>2</th>\n",
              "      <td>185</td>\n",
              "      <td>45</td>\n",
              "      <td>6</td>\n",
              "      <td>concept</td>\n",
              "    </tr>\n",
              "    <tr>\n",
              "      <th>3</th>\n",
              "      <td>192</td>\n",
              "      <td>79</td>\n",
              "      <td>5</td>\n",
              "      <td>solving question</td>\n",
              "    </tr>\n",
              "    <tr>\n",
              "      <th>4</th>\n",
              "      <td>317</td>\n",
              "      <td>156</td>\n",
              "      <td>5</td>\n",
              "      <td>solving question</td>\n",
              "    </tr>\n",
              "  </tbody>\n",
              "</table>\n",
              "</div>"
            ],
            "text/plain": [
              "   lecture_id  tag  part           type_of\n",
              "0          89  159     5           concept\n",
              "1         100   70     1           concept\n",
              "2         185   45     6           concept\n",
              "3         192   79     5  solving question\n",
              "4         317  156     5  solving question"
            ]
          },
          "metadata": {
            "tags": []
          },
          "execution_count": 8
        }
      ]
    },
    {
      "cell_type": "code",
      "metadata": {
        "trusted": true,
        "id": "33-V3ekrV5BD"
      },
      "source": [
        "# removing lecture rows.\n",
        "train_df = train_df[train_df.answered_correctly != -1]"
      ],
      "execution_count": 9,
      "outputs": []
    },
    {
      "cell_type": "code",
      "metadata": {
        "trusted": true,
        "colab": {
          "base_uri": "https://localhost:8080/",
          "height": 317
        },
        "id": "eXZ6uVXmV5BD",
        "outputId": "acd23491-7c37-44b8-de64-4587abd5f88c"
      },
      "source": [
        "train_df = train_df.join(questions_df, on=\"content_id\")\n",
        "train_df.head()"
      ],
      "execution_count": 10,
      "outputs": [
        {
          "output_type": "execute_result",
          "data": {
            "text/html": [
              "<div>\n",
              "<style scoped>\n",
              "    .dataframe tbody tr th:only-of-type {\n",
              "        vertical-align: middle;\n",
              "    }\n",
              "\n",
              "    .dataframe tbody tr th {\n",
              "        vertical-align: top;\n",
              "    }\n",
              "\n",
              "    .dataframe thead th {\n",
              "        text-align: right;\n",
              "    }\n",
              "</style>\n",
              "<table border=\"1\" class=\"dataframe\">\n",
              "  <thead>\n",
              "    <tr style=\"text-align: right;\">\n",
              "      <th></th>\n",
              "      <th>row_id</th>\n",
              "      <th>timestamp</th>\n",
              "      <th>user_id</th>\n",
              "      <th>content_id</th>\n",
              "      <th>content_type_id</th>\n",
              "      <th>task_container_id</th>\n",
              "      <th>user_answer</th>\n",
              "      <th>answered_correctly</th>\n",
              "      <th>prior_question_elapsed_time</th>\n",
              "      <th>prior_question_had_explanation</th>\n",
              "      <th>question_id</th>\n",
              "      <th>bundle_id</th>\n",
              "      <th>correct_answer</th>\n",
              "      <th>part</th>\n",
              "      <th>tags</th>\n",
              "    </tr>\n",
              "  </thead>\n",
              "  <tbody>\n",
              "    <tr>\n",
              "      <th>0</th>\n",
              "      <td>0</td>\n",
              "      <td>0</td>\n",
              "      <td>115</td>\n",
              "      <td>5692</td>\n",
              "      <td>0</td>\n",
              "      <td>1</td>\n",
              "      <td>3</td>\n",
              "      <td>1</td>\n",
              "      <td>NaN</td>\n",
              "      <td>&lt;NA&gt;</td>\n",
              "      <td>5692</td>\n",
              "      <td>5692</td>\n",
              "      <td>3</td>\n",
              "      <td>5</td>\n",
              "      <td>151</td>\n",
              "    </tr>\n",
              "    <tr>\n",
              "      <th>1</th>\n",
              "      <td>1</td>\n",
              "      <td>56943</td>\n",
              "      <td>115</td>\n",
              "      <td>5716</td>\n",
              "      <td>0</td>\n",
              "      <td>2</td>\n",
              "      <td>2</td>\n",
              "      <td>1</td>\n",
              "      <td>37000.0</td>\n",
              "      <td>False</td>\n",
              "      <td>5716</td>\n",
              "      <td>5716</td>\n",
              "      <td>2</td>\n",
              "      <td>5</td>\n",
              "      <td>168</td>\n",
              "    </tr>\n",
              "    <tr>\n",
              "      <th>2</th>\n",
              "      <td>2</td>\n",
              "      <td>118363</td>\n",
              "      <td>115</td>\n",
              "      <td>128</td>\n",
              "      <td>0</td>\n",
              "      <td>0</td>\n",
              "      <td>0</td>\n",
              "      <td>1</td>\n",
              "      <td>55000.0</td>\n",
              "      <td>False</td>\n",
              "      <td>128</td>\n",
              "      <td>128</td>\n",
              "      <td>0</td>\n",
              "      <td>1</td>\n",
              "      <td>131 149 92</td>\n",
              "    </tr>\n",
              "    <tr>\n",
              "      <th>3</th>\n",
              "      <td>3</td>\n",
              "      <td>131167</td>\n",
              "      <td>115</td>\n",
              "      <td>7860</td>\n",
              "      <td>0</td>\n",
              "      <td>3</td>\n",
              "      <td>0</td>\n",
              "      <td>1</td>\n",
              "      <td>19000.0</td>\n",
              "      <td>False</td>\n",
              "      <td>7860</td>\n",
              "      <td>7860</td>\n",
              "      <td>0</td>\n",
              "      <td>1</td>\n",
              "      <td>131 104 81</td>\n",
              "    </tr>\n",
              "    <tr>\n",
              "      <th>4</th>\n",
              "      <td>4</td>\n",
              "      <td>137965</td>\n",
              "      <td>115</td>\n",
              "      <td>7922</td>\n",
              "      <td>0</td>\n",
              "      <td>4</td>\n",
              "      <td>1</td>\n",
              "      <td>1</td>\n",
              "      <td>11000.0</td>\n",
              "      <td>False</td>\n",
              "      <td>7922</td>\n",
              "      <td>7922</td>\n",
              "      <td>1</td>\n",
              "      <td>1</td>\n",
              "      <td>131 149 92</td>\n",
              "    </tr>\n",
              "  </tbody>\n",
              "</table>\n",
              "</div>"
            ],
            "text/plain": [
              "   row_id  timestamp  user_id  ...  correct_answer  part        tags\n",
              "0       0          0      115  ...               3     5         151\n",
              "1       1      56943      115  ...               2     5         168\n",
              "2       2     118363      115  ...               0     1  131 149 92\n",
              "3       3     131167      115  ...               0     1  131 104 81\n",
              "4       4     137965      115  ...               1     1  131 149 92\n",
              "\n",
              "[5 rows x 15 columns]"
            ]
          },
          "metadata": {
            "tags": []
          },
          "execution_count": 10
        }
      ]
    },
    {
      "cell_type": "code",
      "metadata": {
        "trusted": true,
        "colab": {
          "base_uri": "https://localhost:8080/",
          "height": 197
        },
        "id": "hBAI5pHMV5BD",
        "outputId": "4eb77619-c5bf-472f-e36a-288c69aacbda"
      },
      "source": [
        "drop_cols = [\n",
        "             \"row_id\", \n",
        "             \"timestamp\", \n",
        "             \"content_type_id\", \n",
        "             \"user_answer\", \n",
        "             \"prior_question_had_explanation\", \n",
        "             \"question_id\", \n",
        "             \"bundle_id\", \n",
        "             \"correct_answer\", \n",
        "             \"tags\"\n",
        "             ]\n",
        "train_df = train_df.drop(drop_cols, axis=1)\n",
        "train_df.head()"
      ],
      "execution_count": 11,
      "outputs": [
        {
          "output_type": "execute_result",
          "data": {
            "text/html": [
              "<div>\n",
              "<style scoped>\n",
              "    .dataframe tbody tr th:only-of-type {\n",
              "        vertical-align: middle;\n",
              "    }\n",
              "\n",
              "    .dataframe tbody tr th {\n",
              "        vertical-align: top;\n",
              "    }\n",
              "\n",
              "    .dataframe thead th {\n",
              "        text-align: right;\n",
              "    }\n",
              "</style>\n",
              "<table border=\"1\" class=\"dataframe\">\n",
              "  <thead>\n",
              "    <tr style=\"text-align: right;\">\n",
              "      <th></th>\n",
              "      <th>user_id</th>\n",
              "      <th>content_id</th>\n",
              "      <th>task_container_id</th>\n",
              "      <th>answered_correctly</th>\n",
              "      <th>prior_question_elapsed_time</th>\n",
              "      <th>part</th>\n",
              "    </tr>\n",
              "  </thead>\n",
              "  <tbody>\n",
              "    <tr>\n",
              "      <th>0</th>\n",
              "      <td>115</td>\n",
              "      <td>5692</td>\n",
              "      <td>1</td>\n",
              "      <td>1</td>\n",
              "      <td>NaN</td>\n",
              "      <td>5</td>\n",
              "    </tr>\n",
              "    <tr>\n",
              "      <th>1</th>\n",
              "      <td>115</td>\n",
              "      <td>5716</td>\n",
              "      <td>2</td>\n",
              "      <td>1</td>\n",
              "      <td>37000.0</td>\n",
              "      <td>5</td>\n",
              "    </tr>\n",
              "    <tr>\n",
              "      <th>2</th>\n",
              "      <td>115</td>\n",
              "      <td>128</td>\n",
              "      <td>0</td>\n",
              "      <td>1</td>\n",
              "      <td>55000.0</td>\n",
              "      <td>1</td>\n",
              "    </tr>\n",
              "    <tr>\n",
              "      <th>3</th>\n",
              "      <td>115</td>\n",
              "      <td>7860</td>\n",
              "      <td>3</td>\n",
              "      <td>1</td>\n",
              "      <td>19000.0</td>\n",
              "      <td>1</td>\n",
              "    </tr>\n",
              "    <tr>\n",
              "      <th>4</th>\n",
              "      <td>115</td>\n",
              "      <td>7922</td>\n",
              "      <td>4</td>\n",
              "      <td>1</td>\n",
              "      <td>11000.0</td>\n",
              "      <td>1</td>\n",
              "    </tr>\n",
              "  </tbody>\n",
              "</table>\n",
              "</div>"
            ],
            "text/plain": [
              "   user_id  content_id  ...  prior_question_elapsed_time  part\n",
              "0      115        5692  ...                          NaN     5\n",
              "1      115        5716  ...                      37000.0     5\n",
              "2      115         128  ...                      55000.0     1\n",
              "3      115        7860  ...                      19000.0     1\n",
              "4      115        7922  ...                      11000.0     1\n",
              "\n",
              "[5 rows x 6 columns]"
            ]
          },
          "metadata": {
            "tags": []
          },
          "execution_count": 11
        }
      ]
    },
    {
      "cell_type": "code",
      "metadata": {
        "trusted": true,
        "colab": {
          "base_uri": "https://localhost:8080/",
          "height": 197
        },
        "id": "4-DBlD76V5BD",
        "outputId": "249ba139-5b30-4244-c64f-5cfbbaded1fd"
      },
      "source": [
        "# 0 is used for padding, so increment 1\n",
        "indicator_cols = [\"content_id\", \"task_container_id\", \"part\"]\n",
        "for c in indicator_cols:\n",
        "  train_df[c] = train_df[c] + 1\n",
        "train_df.head()"
      ],
      "execution_count": 12,
      "outputs": [
        {
          "output_type": "execute_result",
          "data": {
            "text/html": [
              "<div>\n",
              "<style scoped>\n",
              "    .dataframe tbody tr th:only-of-type {\n",
              "        vertical-align: middle;\n",
              "    }\n",
              "\n",
              "    .dataframe tbody tr th {\n",
              "        vertical-align: top;\n",
              "    }\n",
              "\n",
              "    .dataframe thead th {\n",
              "        text-align: right;\n",
              "    }\n",
              "</style>\n",
              "<table border=\"1\" class=\"dataframe\">\n",
              "  <thead>\n",
              "    <tr style=\"text-align: right;\">\n",
              "      <th></th>\n",
              "      <th>user_id</th>\n",
              "      <th>content_id</th>\n",
              "      <th>task_container_id</th>\n",
              "      <th>answered_correctly</th>\n",
              "      <th>prior_question_elapsed_time</th>\n",
              "      <th>part</th>\n",
              "    </tr>\n",
              "  </thead>\n",
              "  <tbody>\n",
              "    <tr>\n",
              "      <th>0</th>\n",
              "      <td>115</td>\n",
              "      <td>5693</td>\n",
              "      <td>2</td>\n",
              "      <td>1</td>\n",
              "      <td>NaN</td>\n",
              "      <td>6</td>\n",
              "    </tr>\n",
              "    <tr>\n",
              "      <th>1</th>\n",
              "      <td>115</td>\n",
              "      <td>5717</td>\n",
              "      <td>3</td>\n",
              "      <td>1</td>\n",
              "      <td>37000.0</td>\n",
              "      <td>6</td>\n",
              "    </tr>\n",
              "    <tr>\n",
              "      <th>2</th>\n",
              "      <td>115</td>\n",
              "      <td>129</td>\n",
              "      <td>1</td>\n",
              "      <td>1</td>\n",
              "      <td>55000.0</td>\n",
              "      <td>2</td>\n",
              "    </tr>\n",
              "    <tr>\n",
              "      <th>3</th>\n",
              "      <td>115</td>\n",
              "      <td>7861</td>\n",
              "      <td>4</td>\n",
              "      <td>1</td>\n",
              "      <td>19000.0</td>\n",
              "      <td>2</td>\n",
              "    </tr>\n",
              "    <tr>\n",
              "      <th>4</th>\n",
              "      <td>115</td>\n",
              "      <td>7923</td>\n",
              "      <td>5</td>\n",
              "      <td>1</td>\n",
              "      <td>11000.0</td>\n",
              "      <td>2</td>\n",
              "    </tr>\n",
              "  </tbody>\n",
              "</table>\n",
              "</div>"
            ],
            "text/plain": [
              "   user_id  content_id  ...  prior_question_elapsed_time  part\n",
              "0      115        5693  ...                          NaN     6\n",
              "1      115        5717  ...                      37000.0     6\n",
              "2      115         129  ...                      55000.0     2\n",
              "3      115        7861  ...                      19000.0     2\n",
              "4      115        7923  ...                      11000.0     2\n",
              "\n",
              "[5 rows x 6 columns]"
            ]
          },
          "metadata": {
            "tags": []
          },
          "execution_count": 12
        }
      ]
    },
    {
      "cell_type": "code",
      "metadata": {
        "trusted": true,
        "colab": {
          "base_uri": "https://localhost:8080/",
          "height": 197
        },
        "id": "j2nEsBzAV5BD",
        "outputId": "0c289831-ad97-4755-8d5c-b6b6abcbb373"
      },
      "source": [
        "# convert milliseconds to minutes.\n",
        "train_df['prior_question_elapsed_time'] = train_df[\"prior_question_elapsed_time\"].fillna(0).astype(np.float32) / 60000\n",
        "train_df.head()"
      ],
      "execution_count": 13,
      "outputs": [
        {
          "output_type": "execute_result",
          "data": {
            "text/html": [
              "<div>\n",
              "<style scoped>\n",
              "    .dataframe tbody tr th:only-of-type {\n",
              "        vertical-align: middle;\n",
              "    }\n",
              "\n",
              "    .dataframe tbody tr th {\n",
              "        vertical-align: top;\n",
              "    }\n",
              "\n",
              "    .dataframe thead th {\n",
              "        text-align: right;\n",
              "    }\n",
              "</style>\n",
              "<table border=\"1\" class=\"dataframe\">\n",
              "  <thead>\n",
              "    <tr style=\"text-align: right;\">\n",
              "      <th></th>\n",
              "      <th>user_id</th>\n",
              "      <th>content_id</th>\n",
              "      <th>task_container_id</th>\n",
              "      <th>answered_correctly</th>\n",
              "      <th>prior_question_elapsed_time</th>\n",
              "      <th>part</th>\n",
              "    </tr>\n",
              "  </thead>\n",
              "  <tbody>\n",
              "    <tr>\n",
              "      <th>0</th>\n",
              "      <td>115</td>\n",
              "      <td>5693</td>\n",
              "      <td>2</td>\n",
              "      <td>1</td>\n",
              "      <td>0.000000</td>\n",
              "      <td>6</td>\n",
              "    </tr>\n",
              "    <tr>\n",
              "      <th>1</th>\n",
              "      <td>115</td>\n",
              "      <td>5717</td>\n",
              "      <td>3</td>\n",
              "      <td>1</td>\n",
              "      <td>0.616667</td>\n",
              "      <td>6</td>\n",
              "    </tr>\n",
              "    <tr>\n",
              "      <th>2</th>\n",
              "      <td>115</td>\n",
              "      <td>129</td>\n",
              "      <td>1</td>\n",
              "      <td>1</td>\n",
              "      <td>0.916667</td>\n",
              "      <td>2</td>\n",
              "    </tr>\n",
              "    <tr>\n",
              "      <th>3</th>\n",
              "      <td>115</td>\n",
              "      <td>7861</td>\n",
              "      <td>4</td>\n",
              "      <td>1</td>\n",
              "      <td>0.316667</td>\n",
              "      <td>2</td>\n",
              "    </tr>\n",
              "    <tr>\n",
              "      <th>4</th>\n",
              "      <td>115</td>\n",
              "      <td>7923</td>\n",
              "      <td>5</td>\n",
              "      <td>1</td>\n",
              "      <td>0.183333</td>\n",
              "      <td>2</td>\n",
              "    </tr>\n",
              "  </tbody>\n",
              "</table>\n",
              "</div>"
            ],
            "text/plain": [
              "   user_id  content_id  ...  prior_question_elapsed_time  part\n",
              "0      115        5693  ...                     0.000000     6\n",
              "1      115        5717  ...                     0.616667     6\n",
              "2      115         129  ...                     0.916667     2\n",
              "3      115        7861  ...                     0.316667     2\n",
              "4      115        7923  ...                     0.183333     2\n",
              "\n",
              "[5 rows x 6 columns]"
            ]
          },
          "metadata": {
            "tags": []
          },
          "execution_count": 13
        }
      ]
    },
    {
      "cell_type": "code",
      "metadata": {
        "trusted": true,
        "colab": {
          "base_uri": "https://localhost:8080/"
        },
        "id": "gAu_YF9mV5BD",
        "outputId": "6c177da7-601d-447b-ade8-f87b6b4eec9e"
      },
      "source": [
        "user_groups = train_df.groupby(\"user_id\")\n",
        "user_groups_arr = user_groups.apply(\n",
        "    lambda rows: (\n",
        "        rows[\"content_id\"].values, \n",
        "        rows[\"task_container_id\"].values, \n",
        "        rows[\"prior_question_elapsed_time\"].values,\n",
        "        rows[\"part\"].values,\n",
        "        rows[\"answered_correctly\"].values,\n",
        "        )\n",
        "    )\n",
        "np.stack(user_groups_arr[115])"
      ],
      "execution_count": 14,
      "outputs": [
        {
          "output_type": "execute_result",
          "data": {
            "text/plain": [
              "array([[5.69300000e+03, 5.71700000e+03, 1.29000000e+02, 7.86100000e+03,\n",
              "        7.92300000e+03, 1.57000000e+02, 5.20000000e+01, 5.10000000e+01,\n",
              "        7.89700000e+03, 7.86400000e+03, 1.53000000e+02, 1.05000000e+02,\n",
              "        1.09000000e+02, 7.90100000e+03, 7.90200000e+03, 7.97200000e+03,\n",
              "        2.60000000e+01, 1.84000000e+02, 7.92700000e+03, 7.92800000e+03,\n",
              "        5.00000000e+00, 7.98500000e+03, 4.60000000e+01, 1.86000000e+02,\n",
              "        5.60000000e+01, 7.87700000e+03, 7.00000000e+00, 1.73000000e+02,\n",
              "        7.89900000e+03, 1.76000000e+02, 1.01000000e+02, 7.86000000e+03,\n",
              "        5.80000000e+01, 7.94900000e+03, 1.52000000e+02, 1.68000000e+02,\n",
              "        7.89800000e+03, 7.88300000e+03, 7.96300000e+03, 1.27900000e+03,\n",
              "        2.06600000e+03, 2.06500000e+03, 2.06400000e+03, 3.36400000e+03,\n",
              "        3.36600000e+03, 3.36500000e+03],\n",
              "       [2.00000000e+00, 3.00000000e+00, 1.00000000e+00, 4.00000000e+00,\n",
              "        5.00000000e+00, 6.00000000e+00, 7.00000000e+00, 8.00000000e+00,\n",
              "        9.00000000e+00, 1.00000000e+01, 1.10000000e+01, 1.20000000e+01,\n",
              "        1.30000000e+01, 1.40000000e+01, 1.50000000e+01, 1.60000000e+01,\n",
              "        1.70000000e+01, 1.80000000e+01, 1.90000000e+01, 2.00000000e+01,\n",
              "        2.10000000e+01, 2.20000000e+01, 2.30000000e+01, 2.40000000e+01,\n",
              "        2.50000000e+01, 2.60000000e+01, 2.70000000e+01, 2.80000000e+01,\n",
              "        2.90000000e+01, 3.00000000e+01, 3.10000000e+01, 3.20000000e+01,\n",
              "        3.30000000e+01, 3.40000000e+01, 3.50000000e+01, 3.60000000e+01,\n",
              "        3.70000000e+01, 3.80000000e+01, 3.90000000e+01, 4.00000000e+01,\n",
              "        4.10000000e+01, 4.10000000e+01, 4.10000000e+01, 4.20000000e+01,\n",
              "        4.20000000e+01, 4.20000000e+01],\n",
              "       [0.00000000e+00, 6.16666675e-01, 9.16666687e-01, 3.16666663e-01,\n",
              "        1.83333337e-01, 8.33333358e-02, 2.83333331e-01, 2.83333331e-01,\n",
              "        2.66666681e-01, 2.66666681e-01, 2.83333331e-01, 3.66666675e-01,\n",
              "        3.83333325e-01, 3.49999994e-01, 4.00000006e-01, 3.66666675e-01,\n",
              "        3.49999994e-01, 3.33333343e-01, 3.00000012e-01, 2.83333331e-01,\n",
              "        4.83333319e-01, 3.33333343e-01, 3.16666663e-01, 3.49999994e-01,\n",
              "        3.66666675e-01, 2.66666681e-01, 3.33333343e-01, 3.66666675e-01,\n",
              "        3.66666675e-01, 3.83333325e-01, 3.33333343e-01, 2.50000000e-01,\n",
              "        3.33333343e-01, 3.33333343e-01, 3.66666675e-01, 3.16666663e-01,\n",
              "        2.83333331e-01, 3.33333343e-01, 2.83333331e-01, 3.49999994e-01,\n",
              "        2.83333331e-01, 2.83333331e-01, 2.83333331e-01, 2.38883331e-01,\n",
              "        2.38883331e-01, 2.38883331e-01],\n",
              "       [6.00000000e+00, 6.00000000e+00, 2.00000000e+00, 2.00000000e+00,\n",
              "        2.00000000e+00, 2.00000000e+00, 2.00000000e+00, 2.00000000e+00,\n",
              "        2.00000000e+00, 2.00000000e+00, 2.00000000e+00, 2.00000000e+00,\n",
              "        2.00000000e+00, 2.00000000e+00, 2.00000000e+00, 2.00000000e+00,\n",
              "        2.00000000e+00, 2.00000000e+00, 2.00000000e+00, 2.00000000e+00,\n",
              "        2.00000000e+00, 2.00000000e+00, 2.00000000e+00, 2.00000000e+00,\n",
              "        2.00000000e+00, 2.00000000e+00, 2.00000000e+00, 2.00000000e+00,\n",
              "        2.00000000e+00, 2.00000000e+00, 2.00000000e+00, 2.00000000e+00,\n",
              "        2.00000000e+00, 2.00000000e+00, 2.00000000e+00, 2.00000000e+00,\n",
              "        2.00000000e+00, 2.00000000e+00, 2.00000000e+00, 3.00000000e+00,\n",
              "        4.00000000e+00, 4.00000000e+00, 4.00000000e+00, 5.00000000e+00,\n",
              "        5.00000000e+00, 5.00000000e+00],\n",
              "       [1.00000000e+00, 1.00000000e+00, 1.00000000e+00, 1.00000000e+00,\n",
              "        1.00000000e+00, 1.00000000e+00, 1.00000000e+00, 1.00000000e+00,\n",
              "        1.00000000e+00, 1.00000000e+00, 0.00000000e+00, 0.00000000e+00,\n",
              "        0.00000000e+00, 1.00000000e+00, 1.00000000e+00, 1.00000000e+00,\n",
              "        1.00000000e+00, 0.00000000e+00, 1.00000000e+00, 1.00000000e+00,\n",
              "        0.00000000e+00, 0.00000000e+00, 0.00000000e+00, 0.00000000e+00,\n",
              "        1.00000000e+00, 1.00000000e+00, 1.00000000e+00, 1.00000000e+00,\n",
              "        1.00000000e+00, 0.00000000e+00, 1.00000000e+00, 0.00000000e+00,\n",
              "        1.00000000e+00, 1.00000000e+00, 1.00000000e+00, 1.00000000e+00,\n",
              "        0.00000000e+00, 1.00000000e+00, 1.00000000e+00, 1.00000000e+00,\n",
              "        1.00000000e+00, 1.00000000e+00, 0.00000000e+00, 0.00000000e+00,\n",
              "        0.00000000e+00, 1.00000000e+00]])"
            ]
          },
          "metadata": {
            "tags": []
          },
          "execution_count": 14
        }
      ]
    },
    {
      "cell_type": "code",
      "metadata": {
        "colab": {
          "base_uri": "https://localhost:8080/",
          "height": 227
        },
        "id": "TA5sgy_Y8BOy",
        "outputId": "83b61701-c459-4ed3-ab58-770d7b631458"
      },
      "source": [
        "# sort based on the # of interactions for a user\n",
        "sorted_user_groups = user_groups.count().sort_values(\"content_id\")\n",
        "sorted_user_groups.head()"
      ],
      "execution_count": 15,
      "outputs": [
        {
          "output_type": "execute_result",
          "data": {
            "text/html": [
              "<div>\n",
              "<style scoped>\n",
              "    .dataframe tbody tr th:only-of-type {\n",
              "        vertical-align: middle;\n",
              "    }\n",
              "\n",
              "    .dataframe tbody tr th {\n",
              "        vertical-align: top;\n",
              "    }\n",
              "\n",
              "    .dataframe thead th {\n",
              "        text-align: right;\n",
              "    }\n",
              "</style>\n",
              "<table border=\"1\" class=\"dataframe\">\n",
              "  <thead>\n",
              "    <tr style=\"text-align: right;\">\n",
              "      <th></th>\n",
              "      <th>content_id</th>\n",
              "      <th>task_container_id</th>\n",
              "      <th>answered_correctly</th>\n",
              "      <th>prior_question_elapsed_time</th>\n",
              "      <th>part</th>\n",
              "    </tr>\n",
              "    <tr>\n",
              "      <th>user_id</th>\n",
              "      <th></th>\n",
              "      <th></th>\n",
              "      <th></th>\n",
              "      <th></th>\n",
              "      <th></th>\n",
              "    </tr>\n",
              "  </thead>\n",
              "  <tbody>\n",
              "    <tr>\n",
              "      <th>19887248</th>\n",
              "      <td>1</td>\n",
              "      <td>1</td>\n",
              "      <td>1</td>\n",
              "      <td>1</td>\n",
              "      <td>1</td>\n",
              "    </tr>\n",
              "    <tr>\n",
              "      <th>1880240</th>\n",
              "      <td>1</td>\n",
              "      <td>1</td>\n",
              "      <td>1</td>\n",
              "      <td>1</td>\n",
              "      <td>1</td>\n",
              "    </tr>\n",
              "    <tr>\n",
              "      <th>15960740</th>\n",
              "      <td>2</td>\n",
              "      <td>2</td>\n",
              "      <td>2</td>\n",
              "      <td>2</td>\n",
              "      <td>2</td>\n",
              "    </tr>\n",
              "    <tr>\n",
              "      <th>2148001</th>\n",
              "      <td>2</td>\n",
              "      <td>2</td>\n",
              "      <td>2</td>\n",
              "      <td>2</td>\n",
              "      <td>2</td>\n",
              "    </tr>\n",
              "    <tr>\n",
              "      <th>1946295</th>\n",
              "      <td>3</td>\n",
              "      <td>3</td>\n",
              "      <td>3</td>\n",
              "      <td>3</td>\n",
              "      <td>3</td>\n",
              "    </tr>\n",
              "  </tbody>\n",
              "</table>\n",
              "</div>"
            ],
            "text/plain": [
              "          content_id  task_container_id  ...  prior_question_elapsed_time  part\n",
              "user_id                                  ...                                   \n",
              "19887248           1                  1  ...                            1     1\n",
              "1880240            1                  1  ...                            1     1\n",
              "15960740           2                  2  ...                            2     2\n",
              "2148001            2                  2  ...                            2     2\n",
              "1946295            3                  3  ...                            3     3\n",
              "\n",
              "[5 rows x 5 columns]"
            ]
          },
          "metadata": {
            "tags": []
          },
          "execution_count": 15
        }
      ]
    },
    {
      "cell_type": "code",
      "metadata": {
        "colab": {
          "base_uri": "https://localhost:8080/"
        },
        "id": "9c28be4Y9JXv",
        "outputId": "79f0593f-9092-42a3-e124-545878cba6d3"
      },
      "source": [
        "sorted_uids = sorted_user_groups.index\n",
        "sorted_uids"
      ],
      "execution_count": 16,
      "outputs": [
        {
          "output_type": "execute_result",
          "data": {
            "text/plain": [
              "Int64Index([19887248,  1880240, 15960740,  2148001,  1946295, 11050314,\n",
              "            12908124, 18249255, 15786147,  4280793,\n",
              "            ...\n",
              "            19489973,    24418, 15441391, 11610328,  3838215,  4421282,\n",
              "             9418512, 18122922,  1283420,  7171715],\n",
              "           dtype='int64', name='user_id', length=3824)"
            ]
          },
          "metadata": {
            "tags": []
          },
          "execution_count": 16
        }
      ]
    },
    {
      "cell_type": "markdown",
      "metadata": {
        "id": "BnpIzzYISnKF"
      },
      "source": [
        "Splitting load between workers"
      ]
    },
    {
      "cell_type": "code",
      "metadata": {
        "colab": {
          "base_uri": "https://localhost:8080/"
        },
        "id": "YShmC6JRUF9L",
        "outputId": "da579c9b-ab2a-4022-ec6f-606f9dc10a07"
      },
      "source": [
        "sorted_interactions_counts = user_groups.count().sort_values(\"content_id\").cumsum().content_id.values\n",
        "sorted_interactions_counts"
      ],
      "execution_count": 17,
      "outputs": [
        {
          "output_type": "execute_result",
          "data": {
            "text/plain": [
              "array([     1,      2,      4, ..., 961820, 969296, 980093])"
            ]
          },
          "metadata": {
            "tags": []
          },
          "execution_count": 17
        }
      ]
    },
    {
      "cell_type": "code",
      "metadata": {
        "colab": {
          "base_uri": "https://localhost:8080/"
        },
        "id": "Bezm5HUsViSw",
        "outputId": "e71a90ba-1124-40fd-b47e-2c42ac7906a3"
      },
      "source": [
        "math.ceil(sorted_interactions_counts[-1] / 4)"
      ],
      "execution_count": 18,
      "outputs": [
        {
          "output_type": "execute_result",
          "data": {
            "text/plain": [
              "245024"
            ]
          },
          "metadata": {
            "tags": []
          },
          "execution_count": 18
        }
      ]
    },
    {
      "cell_type": "code",
      "metadata": {
        "colab": {
          "base_uri": "https://localhost:8080/"
        },
        "id": "kj9LtMWSVQqL",
        "outputId": "575f882f-102b-4f88-9676-acd4c1c88f30"
      },
      "source": [
        "np.searchsorted(sorted_interactions_counts, 245024, side=\"right\")"
      ],
      "execution_count": 19,
      "outputs": [
        {
          "output_type": "execute_result",
          "data": {
            "text/plain": [
              "3321"
            ]
          },
          "metadata": {
            "tags": []
          },
          "execution_count": 19
        }
      ]
    },
    {
      "cell_type": "code",
      "metadata": {
        "colab": {
          "base_uri": "https://localhost:8080/"
        },
        "id": "6UmkoEwMVsq3",
        "outputId": "2609844f-ffb9-4225-9afa-a98d06fbb5de"
      },
      "source": [
        "np.searchsorted(sorted_interactions_counts, 245024 + 245024, side=\"right\")"
      ],
      "execution_count": 20,
      "outputs": [
        {
          "output_type": "execute_result",
          "data": {
            "text/plain": [
              "3655"
            ]
          },
          "metadata": {
            "tags": []
          },
          "execution_count": 20
        }
      ]
    },
    {
      "cell_type": "code",
      "metadata": {
        "colab": {
          "base_uri": "https://localhost:8080/"
        },
        "id": "-oH0YJKZrp1R",
        "outputId": "a7e429cc-be3b-4f1d-953b-979db1ab243f"
      },
      "source": [
        "np.searchsorted(sorted_interactions_counts, 245024 + 245024 + 245024 , side=\"right\")"
      ],
      "execution_count": 21,
      "outputs": [
        {
          "output_type": "execute_result",
          "data": {
            "text/plain": [
              "3774"
            ]
          },
          "metadata": {
            "tags": []
          },
          "execution_count": 21
        }
      ]
    },
    {
      "cell_type": "markdown",
      "metadata": {
        "id": "eUwAVUYGSriE"
      },
      "source": [
        "Numpy batching"
      ]
    },
    {
      "cell_type": "code",
      "metadata": {
        "id": "pCa4CAptSujA"
      },
      "source": [
        "xb = np.zeros((64, 64, 5)) # [seq_len, bs, features]"
      ],
      "execution_count": 22,
      "outputs": []
    },
    {
      "cell_type": "code",
      "metadata": {
        "id": "N_RwLELgS5HX"
      },
      "source": [
        "for i in range(0,64):\n",
        "  x = np.ones((i+1,5))\n",
        "  xb[63-i:, i, :] = x"
      ],
      "execution_count": 23,
      "outputs": []
    },
    {
      "cell_type": "code",
      "metadata": {
        "colab": {
          "base_uri": "https://localhost:8080/"
        },
        "id": "T-BLbNJTWIlT",
        "outputId": "02850728-7440-4867-897d-3ad1e04cf314"
      },
      "source": [
        "xb[-30:, 62, :].shape"
      ],
      "execution_count": 24,
      "outputs": [
        {
          "output_type": "execute_result",
          "data": {
            "text/plain": [
              "(30, 5)"
            ]
          },
          "metadata": {
            "tags": []
          },
          "execution_count": 24
        }
      ]
    },
    {
      "cell_type": "markdown",
      "metadata": {
        "id": "7tMw6HjyV5BE"
      },
      "source": [
        "### Pytorch Iterable Dataset"
      ]
    },
    {
      "cell_type": "code",
      "metadata": {
        "trusted": true,
        "id": "7iklS-skV5BE"
      },
      "source": [
        "# just some stuff I ctrl C ctrl V from StackOverflow (with little changes)\n",
        "# [1,2,3,4] --- w = 2 --[[1,2], [2,3], [3,4]] but 2D to 3D\n",
        "def rolling_window(a, w):\n",
        "    s0, s1 = a.strides\n",
        "    m, n = a.shape\n",
        "    return np.lib.stride_tricks.as_strided(\n",
        "        a, \n",
        "        shape=(m-w+1, w, n), \n",
        "        strides=(s0, s0, s1)\n",
        "    )\n",
        "\n",
        "def make_timeseries(x, window_length):\n",
        "  \"\"\"\n",
        "  x - shape (seq_len, features)\n",
        "  \"\"\"\n",
        "  # pad a lot of 0s before so when we create windows, we will have appropriate padding.\n",
        "  x = np.pad(x, ((window_length-1, 0), (0, 0)), constant_values=0) # add padding to the first dimension\n",
        "  \n",
        "  # roll windows \n",
        "  x = rolling_window(x, window_length) # shape will become - (seq_len, window_length, features)\n",
        "\n",
        "  return x\n",
        "\n",
        "def add_features_to_user_df(user_df):\n",
        "\n",
        "  # shifted answered_correctly, SOS 3\n",
        "  user_df[\"answered_correctly\"] = user_df[\"answered_correctly\"].shift(fill_value=2) + 1\n",
        "\n",
        "  return user_df"
      ],
      "execution_count": 25,
      "outputs": []
    },
    {
      "cell_type": "markdown",
      "metadata": {
        "id": "y7RaQ1H9ozpY"
      },
      "source": [
        "#### Sequence to Sequence Dataset"
      ]
    },
    {
      "cell_type": "code",
      "metadata": {
        "id": "HttmylKTo5-Z"
      },
      "source": [
        "\n",
        "class RiidS2SDataset(IterableDataset):\n",
        "  def __init__(self, user_groups_arr, uids, int_counts, seq_len=128, batch_size=32, n_batches=None):\n",
        "    super().__init__()\n",
        "    self.user_groups_arr = user_groups_arr\n",
        "    self.uids = uids\n",
        "    self.int_counts = int_counts\n",
        "    self.start = 0\n",
        "    self.end = len(uids)\n",
        "    self.batch_size = batch_size\n",
        "    self.seq_len = seq_len\n",
        "    self.cache = []\n",
        "    self.n_batches = n_batches\n",
        "    if n_batches:\n",
        "      self.__len = n_batches\n",
        "\n",
        "  def __len__(self):\n",
        "    \"\"\"This is not correct len with multi worker\"\"\"\n",
        "    b = 0\n",
        "    for xb, yb in self:\n",
        "      b += 1\n",
        "    self.n_batches = b\n",
        "    return b\n",
        "\n",
        "  def create_batch(self, xs, ys):\n",
        "    padded_xs, padded_ys = [], []\n",
        "    maxlen = max(x.shape[0] for x in xs)\n",
        "    for i in range(len(xs)):\n",
        "      padded_xs.append(np.pad(xs[i], ((maxlen-len(xs[i]), 0), (0, 0)), constant_values=0))\n",
        "      padded_ys.append(np.pad(ys[i], (maxlen-len(ys[i]), 0), constant_values=0))\n",
        "    return padded_xs, padded_ys\n",
        "\n",
        "  def cached_iter(self):\n",
        "    print(\"from cache\")\n",
        "    for (x, y) in self.cache:\n",
        "      yield x, y\n",
        "\n",
        "  def __iter__(self):\n",
        "      b = 0\n",
        "      xb, yb = np.zeros((self.seq_len, self.batch_size, 5)), np.zeros((self.seq_len, self.batch_size))\n",
        "      max_seq_len = 0\n",
        "      for user_id in self.uids[self.start:self.end]:\n",
        "        # build features and labels array\n",
        "        user_arr = np.column_stack(self.user_groups_arr[user_id])\n",
        "        y = user_arr[:, -1] # last col\n",
        "        x = user_arr[:, :-1] # all but last col\n",
        "        prev_y = np.pad(y, (1, 0), constant_values=2)[:-1] + 1 # prev_answered, pad left with 2 + ignore last el (shift right effect), +1 to keep 0 as pad token\n",
        "        x = np.column_stack((x, np.expand_dims(prev_y, axis=0).T))\n",
        "        \n",
        "        # store and batch\n",
        "        if y.shape[0] < self.seq_len:\n",
        "          xb[self.seq_len - x.shape[0]:, b, :] = x\n",
        "          yb[self.seq_len - y.shape[0]:, b] = y\n",
        "          max_seq_len = max(x.shape[0], max_seq_len)\n",
        "          b += 1\n",
        "          if b == self.batch_size:\n",
        "              yield xb[-max_seq_len:, ...], yb[-max_seq_len:, ...]\n",
        "              b = 0\n",
        "              xb, yb = np.zeros((self.seq_len, self.batch_size, 5)), np.zeros((self.seq_len, self.batch_size))\n",
        "              max_seq_len = 0\n",
        "        else:\n",
        "          for i in range(0, y.shape[0], self.seq_len):\n",
        "            start, end = i, i + self.seq_len\n",
        "            if end > y.shape[0]:\n",
        "              x_ = x[start:]\n",
        "              y_ = y[start:]\n",
        "              xb[self.seq_len - x_.shape[0]:, b, :] = x_\n",
        "              yb[self.seq_len - y_.shape[0]:, b] = y_\n",
        "              max_seq_len = max(x_.shape[0], max_seq_len)\n",
        "            else:\n",
        "              x_ = x[start:end]\n",
        "              y_ = y[start:end]\n",
        "              xb[self.seq_len - x_.shape[0]:, b, :] = x_\n",
        "              yb[self.seq_len - y_.shape[0]:, b] = y_\n",
        "              max_seq_len = max(x_.shape[0], max_seq_len)\n",
        "            b += 1\n",
        "            if b == self.batch_size:\n",
        "              yield xb[-max_seq_len:, ...], yb[-max_seq_len:, ...]\n",
        "              b = 0\n",
        "              xb, yb = np.zeros((self.seq_len, self.batch_size, 5)), np.zeros((self.seq_len, self.batch_size))\n",
        "              max_seq_len = 0"
      ],
      "execution_count": 26,
      "outputs": []
    },
    {
      "cell_type": "code",
      "metadata": {
        "id": "4zQ6t3fRLk6x"
      },
      "source": [
        "def worker_init_fn(worker_id):\n",
        "\n",
        "  worker_info = torch.utils.data.get_worker_info()\n",
        "\n",
        "  dataset = worker_info.dataset # the dataset copy in this work\n",
        "\n",
        "  # original start and end of the dataset\n",
        "  overall_start = dataset.start\n",
        "  overall_end = dataset.end\n",
        "  int_counts = dataset.int_counts\n",
        "\n",
        "  # change the start and end of the dataset copy in this worker.\n",
        "  per_worker = math.ceil((int_counts[-1]) / float(worker_info.num_workers))\n",
        "  worker_id = worker_info.id\n",
        "\n",
        "  start = overall_start + np.searchsorted(int_counts, worker_id * per_worker, side=\"right\")\n",
        "  end = np.searchsorted(int_counts, (worker_id + 1) * per_worker, side=\"right\")\n",
        "\n",
        "  dataset.start = start\n",
        "  dataset.end = min(end, overall_end)\n",
        "  # dataset.cache = []\n",
        "  # dataset.n_batches = len(dataset)\n",
        "  # print(worker_id, dataset.start, dataset.end, len(dataset.cache))# , len(dataset))"
      ],
      "execution_count": 27,
      "outputs": []
    },
    {
      "cell_type": "code",
      "metadata": {
        "id": "iK8zJ_efpcaZ"
      },
      "source": [
        "riid_ds = RiidS2SDataset(user_groups_arr, sorted_uids, sorted_interactions_counts, seq_len=128, batch_size=64)\n",
        "# len(riid_ds) # exhaust the iterator once to cache"
      ],
      "execution_count": 28,
      "outputs": []
    },
    {
      "cell_type": "code",
      "metadata": {
        "colab": {
          "base_uri": "https://localhost:8080/"
        },
        "id": "jBdAwQtnpjCZ",
        "outputId": "984b1236-80dc-4ecb-a34c-978f73554dd4"
      },
      "source": [
        "riid_ds_iter = iter(riid_ds)\n",
        "xb, yb = next(riid_ds_iter)\n",
        "xb.shape, yb.shape"
      ],
      "execution_count": 29,
      "outputs": [
        {
          "output_type": "execute_result",
          "data": {
            "text/plain": [
              "((12, 64, 5), (12, 64))"
            ]
          },
          "metadata": {
            "tags": []
          },
          "execution_count": 29
        }
      ]
    },
    {
      "cell_type": "code",
      "metadata": {
        "colab": {
          "base_uri": "https://localhost:8080/"
        },
        "id": "uF36M6MKE__Z",
        "outputId": "1e6ce6b0-fcfa-41a1-f87a-3387af253528"
      },
      "source": [
        "xb, yb = next(riid_ds_iter)\n",
        "xb.shape, yb.shape"
      ],
      "execution_count": 30,
      "outputs": [
        {
          "output_type": "execute_result",
          "data": {
            "text/plain": [
              "((13, 64, 5), (13, 64))"
            ]
          },
          "metadata": {
            "tags": []
          },
          "execution_count": 30
        }
      ]
    },
    {
      "cell_type": "markdown",
      "metadata": {
        "id": "u_PFczUc83ue"
      },
      "source": [
        "Check the first sample in the batch"
      ]
    },
    {
      "cell_type": "code",
      "metadata": {
        "colab": {
          "base_uri": "https://localhost:8080/"
        },
        "id": "jrZfcR-fp9hZ",
        "outputId": "3b605dcc-534a-4afa-fd46-93c557eb4f64"
      },
      "source": [
        "xb[:, 0, :]"
      ],
      "execution_count": 31,
      "outputs": [
        {
          "output_type": "execute_result",
          "data": {
            "text/plain": [
              "array([[0.00000000e+00, 0.00000000e+00, 0.00000000e+00, 0.00000000e+00,\n",
              "        0.00000000e+00],\n",
              "       [4.49800000e+03, 1.00000000e+00, 0.00000000e+00, 6.00000000e+00,\n",
              "        3.00000000e+00],\n",
              "       [1.82000000e+02, 2.00000000e+00, 9.33333337e-01, 2.00000000e+00,\n",
              "        2.00000000e+00],\n",
              "       [5.18300000e+03, 3.00000000e+00, 6.16666675e-01, 6.00000000e+00,\n",
              "        1.00000000e+00],\n",
              "       [4.97500000e+03, 4.00000000e+00, 6.49999976e-01, 6.00000000e+00,\n",
              "        1.00000000e+00],\n",
              "       [6.37100000e+03, 5.00000000e+00, 6.66666687e-01, 6.00000000e+00,\n",
              "        2.00000000e+00],\n",
              "       [9.30100000e+03, 6.00000000e+00, 6.83333337e-01, 6.00000000e+00,\n",
              "        1.00000000e+00],\n",
              "       [5.52200000e+03, 7.00000000e+00, 1.06666672e+00, 6.00000000e+00,\n",
              "        1.00000000e+00],\n",
              "       [5.65800000e+03, 8.00000000e+00, 4.16666657e-01, 6.00000000e+00,\n",
              "        1.00000000e+00],\n",
              "       [5.19100000e+03, 9.00000000e+00, 4.33333337e-01, 6.00000000e+00,\n",
              "        1.00000000e+00],\n",
              "       [4.68300000e+03, 1.00000000e+01, 8.50000024e-01, 6.00000000e+00,\n",
              "        1.00000000e+00],\n",
              "       [8.89300000e+03, 1.10000000e+01, 1.03333330e+00, 6.00000000e+00,\n",
              "        2.00000000e+00],\n",
              "       [5.58400000e+03, 1.20000000e+01, 5.50000012e-01, 6.00000000e+00,\n",
              "        2.00000000e+00]])"
            ]
          },
          "metadata": {
            "tags": []
          },
          "execution_count": 31
        }
      ]
    },
    {
      "cell_type": "code",
      "metadata": {
        "colab": {
          "base_uri": "https://localhost:8080/"
        },
        "id": "-uMdAEB3qLh9",
        "outputId": "2d97758a-5e08-4f20-8ca5-ff7f0c87f219"
      },
      "source": [
        "yb[:, 0]"
      ],
      "execution_count": 32,
      "outputs": [
        {
          "output_type": "execute_result",
          "data": {
            "text/plain": [
              "array([0., 1., 0., 0., 1., 0., 0., 0., 0., 0., 1., 1., 0.])"
            ]
          },
          "metadata": {
            "tags": []
          },
          "execution_count": 32
        }
      ]
    },
    {
      "cell_type": "code",
      "metadata": {
        "colab": {
          "base_uri": "https://localhost:8080/"
        },
        "id": "f0GeD6gK8UkM",
        "outputId": "db70e141-f66c-4596-a728-52421a35681e"
      },
      "source": [
        "sorted_uids[0]"
      ],
      "execution_count": 33,
      "outputs": [
        {
          "output_type": "execute_result",
          "data": {
            "text/plain": [
              "19887248"
            ]
          },
          "metadata": {
            "tags": []
          },
          "execution_count": 33
        }
      ]
    },
    {
      "cell_type": "code",
      "metadata": {
        "colab": {
          "base_uri": "https://localhost:8080/",
          "height": 77
        },
        "id": "fGiufHEUqONl",
        "outputId": "ca5a6d17-8487-4615-950c-c06782c20134"
      },
      "source": [
        "train_df[train_df[\"user_id\"] == 19887248]"
      ],
      "execution_count": 34,
      "outputs": [
        {
          "output_type": "execute_result",
          "data": {
            "text/html": [
              "<div>\n",
              "<style scoped>\n",
              "    .dataframe tbody tr th:only-of-type {\n",
              "        vertical-align: middle;\n",
              "    }\n",
              "\n",
              "    .dataframe tbody tr th {\n",
              "        vertical-align: top;\n",
              "    }\n",
              "\n",
              "    .dataframe thead th {\n",
              "        text-align: right;\n",
              "    }\n",
              "</style>\n",
              "<table border=\"1\" class=\"dataframe\">\n",
              "  <thead>\n",
              "    <tr style=\"text-align: right;\">\n",
              "      <th></th>\n",
              "      <th>user_id</th>\n",
              "      <th>content_id</th>\n",
              "      <th>task_container_id</th>\n",
              "      <th>answered_correctly</th>\n",
              "      <th>prior_question_elapsed_time</th>\n",
              "      <th>part</th>\n",
              "    </tr>\n",
              "  </thead>\n",
              "  <tbody>\n",
              "    <tr>\n",
              "      <th>965193</th>\n",
              "      <td>19887248</td>\n",
              "      <td>6369</td>\n",
              "      <td>1</td>\n",
              "      <td>0</td>\n",
              "      <td>0.0</td>\n",
              "      <td>6</td>\n",
              "    </tr>\n",
              "  </tbody>\n",
              "</table>\n",
              "</div>"
            ],
            "text/plain": [
              "         user_id  content_id  ...  prior_question_elapsed_time  part\n",
              "965193  19887248        6369  ...                          0.0     6\n",
              "\n",
              "[1 rows x 6 columns]"
            ]
          },
          "metadata": {
            "tags": []
          },
          "execution_count": 34
        }
      ]
    },
    {
      "cell_type": "markdown",
      "metadata": {
        "id": "fLgbW9CR866K"
      },
      "source": [
        "Check the last sample in the batch"
      ]
    },
    {
      "cell_type": "code",
      "metadata": {
        "colab": {
          "base_uri": "https://localhost:8080/"
        },
        "id": "hciNBd6r89xs",
        "outputId": "405ccea5-b3af-4641-a2f7-38c911901ed3"
      },
      "source": [
        "xb[:, 63, :]"
      ],
      "execution_count": 35,
      "outputs": [
        {
          "output_type": "execute_result",
          "data": {
            "text/plain": [
              "array([[5.72400000e+03, 1.00000000e+00, 0.00000000e+00, 6.00000000e+00,\n",
              "        3.00000000e+00],\n",
              "       [4.74100000e+03, 2.00000000e+00, 1.50000006e-01, 6.00000000e+00,\n",
              "        2.00000000e+00],\n",
              "       [5.46800000e+03, 3.00000000e+00, 2.16666669e-01, 6.00000000e+00,\n",
              "        2.00000000e+00],\n",
              "       [4.26900000e+03, 4.00000000e+00, 6.66666701e-02, 6.00000000e+00,\n",
              "        2.00000000e+00],\n",
              "       [3.63600000e+03, 5.00000000e+00, 3.16666663e-01, 6.00000000e+00,\n",
              "        2.00000000e+00],\n",
              "       [8.73600000e+03, 6.00000000e+00, 1.33333340e-01, 6.00000000e+00,\n",
              "        1.00000000e+00],\n",
              "       [4.06300000e+03, 7.00000000e+00, 8.33333358e-02, 6.00000000e+00,\n",
              "        2.00000000e+00],\n",
              "       [3.95600000e+03, 8.00000000e+00, 4.83333319e-01, 6.00000000e+00,\n",
              "        2.00000000e+00],\n",
              "       [5.35000000e+03, 9.00000000e+00, 6.66666701e-02, 6.00000000e+00,\n",
              "        2.00000000e+00],\n",
              "       [8.66100000e+03, 1.00000000e+01, 4.00000006e-01, 6.00000000e+00,\n",
              "        2.00000000e+00],\n",
              "       [5.03000000e+03, 1.10000000e+01, 7.16666639e-01, 6.00000000e+00,\n",
              "        1.00000000e+00],\n",
              "       [6.11400000e+03, 1.20000000e+01, 3.16666663e-01, 6.00000000e+00,\n",
              "        1.00000000e+00],\n",
              "       [4.47100000e+03, 1.30000000e+01, 1.66666672e-01, 6.00000000e+00,\n",
              "        2.00000000e+00]])"
            ]
          },
          "metadata": {
            "tags": []
          },
          "execution_count": 35
        }
      ]
    },
    {
      "cell_type": "code",
      "metadata": {
        "colab": {
          "base_uri": "https://localhost:8080/"
        },
        "id": "62FatEG99EVT",
        "outputId": "630f4394-ffdc-40af-cf5f-464ff922e3d8"
      },
      "source": [
        "yb[:, 63]"
      ],
      "execution_count": 36,
      "outputs": [
        {
          "output_type": "execute_result",
          "data": {
            "text/plain": [
              "array([1., 1., 1., 1., 0., 1., 1., 1., 1., 0., 0., 1., 1.])"
            ]
          },
          "metadata": {
            "tags": []
          },
          "execution_count": 36
        }
      ]
    },
    {
      "cell_type": "code",
      "metadata": {
        "colab": {
          "base_uri": "https://localhost:8080/"
        },
        "id": "MtYN_-6d9G8_",
        "outputId": "d6e32a6b-fd9d-4cf0-99e6-3c76fba27b5d"
      },
      "source": [
        "sorted_uids[63] # batch size - 64"
      ],
      "execution_count": 37,
      "outputs": [
        {
          "output_type": "execute_result",
          "data": {
            "text/plain": [
              "13612330"
            ]
          },
          "metadata": {
            "tags": []
          },
          "execution_count": 37
        }
      ]
    },
    {
      "cell_type": "code",
      "metadata": {
        "colab": {
          "base_uri": "https://localhost:8080/",
          "height": 407
        },
        "id": "t2Mlei5g9RIc",
        "outputId": "d2cb564d-f20f-4e4d-dc69-19ac7c0c52a6"
      },
      "source": [
        "train_df[train_df[\"user_id\"] == 13612330]"
      ],
      "execution_count": 38,
      "outputs": [
        {
          "output_type": "execute_result",
          "data": {
            "text/html": [
              "<div>\n",
              "<style scoped>\n",
              "    .dataframe tbody tr th:only-of-type {\n",
              "        vertical-align: middle;\n",
              "    }\n",
              "\n",
              "    .dataframe tbody tr th {\n",
              "        vertical-align: top;\n",
              "    }\n",
              "\n",
              "    .dataframe thead th {\n",
              "        text-align: right;\n",
              "    }\n",
              "</style>\n",
              "<table border=\"1\" class=\"dataframe\">\n",
              "  <thead>\n",
              "    <tr style=\"text-align: right;\">\n",
              "      <th></th>\n",
              "      <th>user_id</th>\n",
              "      <th>content_id</th>\n",
              "      <th>task_container_id</th>\n",
              "      <th>answered_correctly</th>\n",
              "      <th>prior_question_elapsed_time</th>\n",
              "      <th>part</th>\n",
              "    </tr>\n",
              "  </thead>\n",
              "  <tbody>\n",
              "    <tr>\n",
              "      <th>668622</th>\n",
              "      <td>13612330</td>\n",
              "      <td>4805</td>\n",
              "      <td>1</td>\n",
              "      <td>0</td>\n",
              "      <td>0.000000</td>\n",
              "      <td>6</td>\n",
              "    </tr>\n",
              "    <tr>\n",
              "      <th>668623</th>\n",
              "      <td>13612330</td>\n",
              "      <td>4624</td>\n",
              "      <td>2</td>\n",
              "      <td>0</td>\n",
              "      <td>0.166667</td>\n",
              "      <td>6</td>\n",
              "    </tr>\n",
              "    <tr>\n",
              "      <th>668624</th>\n",
              "      <td>13612330</td>\n",
              "      <td>6387</td>\n",
              "      <td>3</td>\n",
              "      <td>0</td>\n",
              "      <td>0.183333</td>\n",
              "      <td>6</td>\n",
              "    </tr>\n",
              "    <tr>\n",
              "      <th>668625</th>\n",
              "      <td>13612330</td>\n",
              "      <td>5977</td>\n",
              "      <td>4</td>\n",
              "      <td>0</td>\n",
              "      <td>0.216667</td>\n",
              "      <td>6</td>\n",
              "    </tr>\n",
              "    <tr>\n",
              "      <th>668626</th>\n",
              "      <td>13612330</td>\n",
              "      <td>6418</td>\n",
              "      <td>5</td>\n",
              "      <td>0</td>\n",
              "      <td>0.183333</td>\n",
              "      <td>6</td>\n",
              "    </tr>\n",
              "    <tr>\n",
              "      <th>668627</th>\n",
              "      <td>13612330</td>\n",
              "      <td>3644</td>\n",
              "      <td>6</td>\n",
              "      <td>0</td>\n",
              "      <td>0.200000</td>\n",
              "      <td>6</td>\n",
              "    </tr>\n",
              "    <tr>\n",
              "      <th>668628</th>\n",
              "      <td>13612330</td>\n",
              "      <td>384</td>\n",
              "      <td>7</td>\n",
              "      <td>1</td>\n",
              "      <td>0.166667</td>\n",
              "      <td>3</td>\n",
              "    </tr>\n",
              "    <tr>\n",
              "      <th>668629</th>\n",
              "      <td>13612330</td>\n",
              "      <td>6280</td>\n",
              "      <td>8</td>\n",
              "      <td>1</td>\n",
              "      <td>0.400000</td>\n",
              "      <td>6</td>\n",
              "    </tr>\n",
              "    <tr>\n",
              "      <th>668630</th>\n",
              "      <td>13612330</td>\n",
              "      <td>5312</td>\n",
              "      <td>9</td>\n",
              "      <td>0</td>\n",
              "      <td>0.166667</td>\n",
              "      <td>6</td>\n",
              "    </tr>\n",
              "    <tr>\n",
              "      <th>668631</th>\n",
              "      <td>13612330</td>\n",
              "      <td>4819</td>\n",
              "      <td>10</td>\n",
              "      <td>0</td>\n",
              "      <td>0.033333</td>\n",
              "      <td>6</td>\n",
              "    </tr>\n",
              "    <tr>\n",
              "      <th>668632</th>\n",
              "      <td>13612330</td>\n",
              "      <td>8688</td>\n",
              "      <td>11</td>\n",
              "      <td>0</td>\n",
              "      <td>0.133333</td>\n",
              "      <td>6</td>\n",
              "    </tr>\n",
              "    <tr>\n",
              "      <th>668633</th>\n",
              "      <td>13612330</td>\n",
              "      <td>4520</td>\n",
              "      <td>12</td>\n",
              "      <td>0</td>\n",
              "      <td>0.183333</td>\n",
              "      <td>6</td>\n",
              "    </tr>\n",
              "  </tbody>\n",
              "</table>\n",
              "</div>"
            ],
            "text/plain": [
              "         user_id  content_id  ...  prior_question_elapsed_time  part\n",
              "668622  13612330        4805  ...                     0.000000     6\n",
              "668623  13612330        4624  ...                     0.166667     6\n",
              "668624  13612330        6387  ...                     0.183333     6\n",
              "668625  13612330        5977  ...                     0.216667     6\n",
              "668626  13612330        6418  ...                     0.183333     6\n",
              "668627  13612330        3644  ...                     0.200000     6\n",
              "668628  13612330         384  ...                     0.166667     3\n",
              "668629  13612330        6280  ...                     0.400000     6\n",
              "668630  13612330        5312  ...                     0.166667     6\n",
              "668631  13612330        4819  ...                     0.033333     6\n",
              "668632  13612330        8688  ...                     0.133333     6\n",
              "668633  13612330        4520  ...                     0.183333     6\n",
              "\n",
              "[12 rows x 6 columns]"
            ]
          },
          "metadata": {
            "tags": []
          },
          "execution_count": 38
        }
      ]
    },
    {
      "cell_type": "markdown",
      "metadata": {
        "id": "Q5rOrLotowdI"
      },
      "source": [
        "#### Dataloader"
      ]
    },
    {
      "cell_type": "code",
      "metadata": {
        "id": "tdkKk3y8WtXf"
      },
      "source": [
        "train_dl = DataLoader(riid_ds, batch_size=None, pin_memory=True, num_workers=4, worker_init_fn=worker_init_fn)"
      ],
      "execution_count": 39,
      "outputs": []
    },
    {
      "cell_type": "code",
      "metadata": {
        "colab": {
          "base_uri": "https://localhost:8080/"
        },
        "id": "24rK7c_cKhew",
        "outputId": "037e61e1-a327-4a57-8677-fafce0c5e3ff"
      },
      "source": [
        "train_dl_iter = iter(train_dl)\n",
        "x, y = next(train_dl_iter)\n",
        "x.shape, y.shape, x.dtype, y.dtype"
      ],
      "execution_count": 40,
      "outputs": [
        {
          "output_type": "execute_result",
          "data": {
            "text/plain": [
              "(torch.Size([12, 64, 5]), torch.Size([12, 64]), torch.float64, torch.float64)"
            ]
          },
          "metadata": {
            "tags": []
          },
          "execution_count": 40
        }
      ]
    },
    {
      "cell_type": "code",
      "metadata": {
        "colab": {
          "base_uri": "https://localhost:8080/"
        },
        "id": "iMf4uEkLa5_D",
        "outputId": "69dc1d2c-6bbf-4ef1-cc4c-19945a7e0880"
      },
      "source": [
        "len(train_dl)"
      ],
      "execution_count": 41,
      "outputs": [
        {
          "output_type": "execute_result",
          "data": {
            "text/plain": [
              "158"
            ]
          },
          "metadata": {
            "tags": []
          },
          "execution_count": 41
        }
      ]
    },
    {
      "cell_type": "code",
      "metadata": {
        "trusted": true,
        "colab": {
          "base_uri": "https://localhost:8080/"
        },
        "id": "O0jBSXrKV5BE",
        "outputId": "05b59b16-04e8-4682-8af1-2478fb43e10b"
      },
      "source": [
        "%%time\n",
        "batches = 0\n",
        "max_batch_size = 0\n",
        "max_seq_len = 0\n",
        "for xb, yb in train_dl:\n",
        "    max_batch_size = max(max_batch_size, xb.size(1))\n",
        "    max_seq_len = max(max_seq_len, xb.size(0))\n",
        "    batches += 1\n",
        "    \n",
        "print(max_batch_size, max_seq_len, batches)"
      ],
      "execution_count": 42,
      "outputs": [
        {
          "output_type": "stream",
          "text": [
            "64 128 156\n",
            "CPU times: user 138 ms, sys: 136 ms, total: 273 ms\n",
            "Wall time: 747 ms\n"
          ],
          "name": "stdout"
        }
      ]
    },
    {
      "cell_type": "markdown",
      "metadata": {
        "id": "eoN04M3zxpyW"
      },
      "source": [
        "##### Padding mask"
      ]
    },
    {
      "cell_type": "code",
      "metadata": {
        "id": "kmjVawe-xtDp"
      },
      "source": [
        "pad_mask = torch.all(torch.eq(x, 0), dim=-1).T\n",
        "# pad_mask"
      ],
      "execution_count": 43,
      "outputs": []
    },
    {
      "cell_type": "markdown",
      "metadata": {
        "id": "8uGjjmawrRkY"
      },
      "source": [
        "Look ahead mask"
      ]
    },
    {
      "cell_type": "code",
      "metadata": {
        "id": "Yw0ByBVWuNqT"
      },
      "source": [
        "  def generate_square_subsequent_mask(sz):\n",
        "        r\"\"\"Generate a square mask for the sequence. The masked positions are filled with float('-inf').\n",
        "            Unmasked positions are filled with float(0.0).\n",
        "        \"\"\"\n",
        "        mask = (torch.triu(torch.ones(sz, sz)) == 1).transpose(0, 1)\n",
        "        mask = mask.float().masked_fill(mask == 0, True).masked_fill(mask == 1, False)\n",
        "        return mask.bool()"
      ],
      "execution_count": 44,
      "outputs": []
    },
    {
      "cell_type": "code",
      "metadata": {
        "id": "zVPqkO8ruVpf"
      },
      "source": [
        "look_ahead_mask = generate_square_subsequent_mask(x.size(0))\n",
        "# look_ahead_mask"
      ],
      "execution_count": 45,
      "outputs": []
    },
    {
      "cell_type": "markdown",
      "metadata": {
        "id": "FwO4ImIPO_37"
      },
      "source": [
        "#### Combining Padding mask and Lookahead mask"
      ]
    },
    {
      "cell_type": "markdown",
      "metadata": {
        "id": "YGs0qfhJPFqU"
      },
      "source": [
        "Combining look ahead mask and padding mask is difficult.\n",
        "\n",
        "Imagine you have a sequence"
      ]
    },
    {
      "cell_type": "code",
      "metadata": {
        "id": "QTXZQc6gPR0L"
      },
      "source": [
        "a = [0, 0, 2, 3]"
      ],
      "execution_count": 46,
      "outputs": []
    },
    {
      "cell_type": "markdown",
      "metadata": {
        "id": "nJcmY3LKPVG3"
      },
      "source": [
        "The first 4 fields are pad values. So if we use the `src_key_padding_mask` argument of pytorch attention. We are telling the attention module. for all the items in the sequence do not attend to the first 2 values."
      ]
    },
    {
      "cell_type": "code",
      "metadata": {
        "colab": {
          "base_uri": "https://localhost:8080/"
        },
        "id": "Ha00H1YAPu2-",
        "outputId": "0633a1f7-3d88-4f24-b269-923848f00597"
      },
      "source": [
        "a = torch.as_tensor(a).float()\n",
        "a"
      ],
      "execution_count": 47,
      "outputs": [
        {
          "output_type": "execute_result",
          "data": {
            "text/plain": [
              "tensor([0., 0., 2., 3.])"
            ]
          },
          "metadata": {
            "tags": []
          },
          "execution_count": 47
        }
      ]
    },
    {
      "cell_type": "code",
      "metadata": {
        "colab": {
          "base_uri": "https://localhost:8080/"
        },
        "id": "nBope5LNPy6l",
        "outputId": "e444253d-8079-4ec6-d8cb-d2477faa1c64"
      },
      "source": [
        "pad_mask = torch.tensor([[True, True, False, False]])\n",
        "pad_mask.shape"
      ],
      "execution_count": 48,
      "outputs": [
        {
          "output_type": "execute_result",
          "data": {
            "text/plain": [
              "torch.Size([1, 4])"
            ]
          },
          "metadata": {
            "tags": []
          },
          "execution_count": 48
        }
      ]
    },
    {
      "cell_type": "code",
      "metadata": {
        "id": "y8FZUKqqP9xl"
      },
      "source": [
        "attn = torch.nn.MultiheadAttention(embed_dim=1, num_heads=1)"
      ],
      "execution_count": 49,
      "outputs": []
    },
    {
      "cell_type": "code",
      "metadata": {
        "colab": {
          "base_uri": "https://localhost:8080/"
        },
        "id": "_hzluTcDQGWs",
        "outputId": "41173b24-c69a-46c5-9c65-206f00da2d66"
      },
      "source": [
        "a = a.T.unsqueeze(1).unsqueeze(1) # matching attention shape - [seq_len, bs, n_features]\n",
        "a.shape"
      ],
      "execution_count": 50,
      "outputs": [
        {
          "output_type": "execute_result",
          "data": {
            "text/plain": [
              "torch.Size([4, 1, 1])"
            ]
          },
          "metadata": {
            "tags": []
          },
          "execution_count": 50
        }
      ]
    },
    {
      "cell_type": "code",
      "metadata": {
        "id": "1rKFzf7CQCeB"
      },
      "source": [
        "output, score = attn(a, a, a, key_padding_mask=pad_mask) #, attn_mask=attn_mask)"
      ],
      "execution_count": 51,
      "outputs": []
    },
    {
      "cell_type": "code",
      "metadata": {
        "colab": {
          "base_uri": "https://localhost:8080/"
        },
        "id": "8IOGuP0DQs56",
        "outputId": "c9b67d6b-1302-4e96-94dc-57233e03303a"
      },
      "source": [
        "score"
      ],
      "execution_count": 52,
      "outputs": [
        {
          "output_type": "execute_result",
          "data": {
            "text/plain": [
              "tensor([[[0.0000, 0.0000, 0.5000, 0.5000],\n",
              "         [0.0000, 0.0000, 0.5000, 0.5000],\n",
              "         [0.0000, 0.0000, 0.6854, 0.3146],\n",
              "         [0.0000, 0.0000, 0.7627, 0.2373]]], grad_fn=<DivBackward0>)"
            ]
          },
          "metadata": {
            "tags": []
          },
          "execution_count": 52
        }
      ]
    },
    {
      "cell_type": "markdown",
      "metadata": {
        "id": "46A4UaNgQ0df"
      },
      "source": [
        "As expected it gives 0 weightage to the first 2 items in te sequence while creating the output vector.  \n",
        "\n",
        "But still pay attention that first item in the sequence still get to attend to the last 2 values in the sequence.  \n",
        "\n",
        "This cannot be permitted when look ahead limitation.  \n",
        "\n",
        "\n",
        "So the natural thing to do is add a look ahead mask"
      ]
    },
    {
      "cell_type": "code",
      "metadata": {
        "id": "j5HbYQE_Rb9R"
      },
      "source": [
        "look_ahead_mask = torch.as_tensor([[0., float('-inf'), float('-inf'), float('-inf')],\n",
        "                             [0., 0., float('-inf'), float('-inf')],\n",
        "                             [float('-inf'), 0., 0., float('-inf')],\n",
        "                             [float('-inf'), float('-inf'), 0., 0.]])"
      ],
      "execution_count": 53,
      "outputs": []
    },
    {
      "cell_type": "code",
      "metadata": {
        "colab": {
          "base_uri": "https://localhost:8080/"
        },
        "id": "-Jft930iRgTq",
        "outputId": "c2b5c160-9d4f-44be-cff7-c55e3632517e"
      },
      "source": [
        "output, score = attn(a, a, a, key_padding_mask=pad_mask, attn_mask=look_ahead_mask)\n",
        "score"
      ],
      "execution_count": 54,
      "outputs": [
        {
          "output_type": "execute_result",
          "data": {
            "text/plain": [
              "tensor([[[   nan,    nan,    nan,    nan],\n",
              "         [   nan,    nan,    nan,    nan],\n",
              "         [0.0000, 0.0000, 1.0000, 0.0000],\n",
              "         [0.0000, 0.0000, 0.7627, 0.2373]]], grad_fn=<DivBackward0>)"
            ]
          },
          "metadata": {
            "tags": []
          },
          "execution_count": 54
        }
      ]
    },
    {
      "cell_type": "markdown",
      "metadata": {
        "id": "myX4SEedRj9A"
      },
      "source": [
        "If we use both look ahead and attn mask. we are saying to the first item in the sequence.\n",
        "\n",
        "* look ahead mask saying - DO NOT LOOK AHEAD TO THE REST OF SEQUENCE ONLY LOOK AT YOURSELF.\n",
        "* Padding mask saying - YOU ARE PAD VALUE SO DONT LOOK AT YOUR SELF.\n",
        "\n",
        "Resulting in all `-inf` values, and the softmax giving `nan`"
      ]
    },
    {
      "cell_type": "markdown",
      "metadata": {
        "id": "4bRZQI3jfhQq"
      },
      "source": [
        "a github issue https://github.com/pytorch/pytorch/issues/41508#issuecomment-659695894"
      ]
    },
    {
      "cell_type": "markdown",
      "metadata": {
        "id": "p5WuGZa2R9OI"
      },
      "source": [
        "SO THE BEST THING TO DO IS, USE ONLY LOOK AHEAD MASK, AND USE THE PAD_MASK IN THE LOSS FUNCTION TO MASK OUT LABELS RELATED TO THE PAD TOKENS"
      ]
    },
    {
      "cell_type": "markdown",
      "metadata": {
        "id": "P2AU37Y8V5BE"
      },
      "source": [
        "### Transformer Sequence Classifier."
      ]
    },
    {
      "cell_type": "markdown",
      "metadata": {
        "id": "KExRqzLASL7Z"
      },
      "source": [
        "Positional Encoding"
      ]
    },
    {
      "cell_type": "code",
      "metadata": {
        "id": "p5x0-pN4SPab"
      },
      "source": [
        "class PositionalEncoding(nn.Module):\n",
        "\n",
        "    def __init__(self, d_model, dropout=0.1, max_len=5000):\n",
        "        super(PositionalEncoding, self).__init__()\n",
        "        self.dropout = nn.Dropout(p=dropout)\n",
        "\n",
        "        pe = torch.zeros(max_len, d_model)\n",
        "        position = torch.arange(0, max_len, dtype=torch.float).unsqueeze(1)\n",
        "        div_term = torch.exp(torch.arange(0, d_model, 2).float() * (-math.log(10000.0) / d_model))\n",
        "        pe[:, 0::2] = torch.sin(position * div_term)\n",
        "        pe[:, 1::2] = torch.cos(position * div_term)\n",
        "        pe = pe.unsqueeze(0).transpose(0, 1)\n",
        "        self.register_buffer('pe', pe)\n",
        "\n",
        "    def forward(self, x):\n",
        "        x = x + self.pe[:x.size(0), :]\n",
        "        return self.dropout(x)"
      ],
      "execution_count": 55,
      "outputs": []
    },
    {
      "cell_type": "code",
      "metadata": {
        "trusted": true,
        "id": "6fMdaxtaV5BE"
      },
      "source": [
        "class TransformerClassifier(nn.Module):\n",
        "    \n",
        "    def __init__(self, n_tokens_dict, d_model=512, n_heads=8, hidden_dim=1024, n_layers=1, dropout=0):\n",
        "        \n",
        "        super().__init__()\n",
        "        self.d_model = d_model\n",
        "        \n",
        "        # Transformer encoder blocks\n",
        "        encoder_layer = nn.TransformerEncoderLayer(d_model, n_heads, hidden_dim, dropout)\n",
        "        self.transformer_encoder = nn.TransformerEncoder(encoder_layer, n_layers)\n",
        "        \n",
        "        # Input embeddings for content_id, task_container_id, answered_correctly, prior_question_elapsed_time, part\n",
        "        self.content_id_emb = nn.Embedding(n_tokens_dict[\"content_id\"], d_model)\n",
        "        self.task_container_id_emb = nn.Embedding(n_tokens_dict[\"task_container_id\"], d_model)\n",
        "        self.answered_correctly_emb = nn.Embedding(n_tokens_dict[\"answered_correctly\"], d_model)\n",
        "        self.part_emb = nn.Embedding(n_tokens_dict[\"part\"], d_model)\n",
        "        self.prior_question_elapsed_time_emb = nn.Linear(1, d_model, bias=False)\n",
        "        # Positional Encoding\n",
        "        self.pos_enc = PositionalEncoding(d_model=d_model, dropout=dropout)\n",
        "\n",
        "        self.out = nn.Linear(d_model, 1)\n",
        "        \n",
        "    def forward(self, x):\n",
        "\n",
        "        seq_len, bs, n_features = x.size()\n",
        "        device = x.device\n",
        "\n",
        "        # padding mask\n",
        "        src_key_padding_mask = torch.all(torch.eq(x, 0), dim=-1).T # shape [bs, seq_len]\n",
        "\n",
        "        # look ahead mask\n",
        "        look_ahead_mask = generate_square_subsequent_mask(seq_len).to(device)\n",
        "\n",
        "        # input embedding\n",
        "        content_id_emb = self.content_id_emb(x[..., 0].long())\n",
        "        task_container_id_emb = self.task_container_id_emb(x[..., 1].long())\n",
        "        # prior_question_elapsed_time_emb = self.prior_question_elapsed_time_emb(x[..., 2].unsqueeze(-1).float())\n",
        "        part_emb = self.part_emb(x[..., 3].long())\n",
        "        answered_correctly_emb = self.answered_correctly_emb(x[..., 4].long())\n",
        "\n",
        "        \n",
        "        # shape [seq_len, bs, d_model]\n",
        "        input_emb = (content_id_emb \n",
        "                     + task_container_id_emb\n",
        "                     + answered_correctly_emb\n",
        "                     + part_emb\n",
        "                     # + prior_question_elapsed_time_emb\n",
        "                     )\n",
        "        input_emb = input_emb * math.sqrt(self.d_model) # needed?\n",
        "\n",
        "        input_emb = self.pos_enc(input_emb) # position encoding\n",
        "        \n",
        "        # transformer blocks\n",
        "        z = self.transformer_encoder(input_emb, mask=look_ahead_mask) #, src_key_padding_mask=src_key_padding_mask) # shape [seq_len, bs, d_model]\n",
        "        \n",
        "        # output layer\n",
        "        out = self.out(z) # shape [seq_len, bs, 1]\n",
        "        \n",
        "        return torch.sigmoid(out), src_key_padding_mask # out - shape [seq_len, bs, 1], mask - shape[bs, seq_len]\n",
        "        \n"
      ],
      "execution_count": 56,
      "outputs": []
    },
    {
      "cell_type": "code",
      "metadata": {
        "trusted": true,
        "colab": {
          "base_uri": "https://localhost:8080/"
        },
        "id": "r9JDMerWV5BE",
        "outputId": "4c0968b0-d36e-4ad1-fa41-5609864a6465"
      },
      "source": [
        "n_tokens_dict = {\n",
        "    \"content_id\": max(train_df[\"content_id\"]) + 1,\n",
        "    \"task_container_id\": max(train_df[\"task_container_id\"]) + 1,\n",
        "    \"answered_correctly\": 4, # 0-padding, 1-incorrect, 2-correct, 3-fill value\n",
        "    \"part\": max(train_df[\"part\"]) + 1\n",
        "}\n",
        "\n",
        "n_tokens_dict"
      ],
      "execution_count": 57,
      "outputs": [
        {
          "output_type": "execute_result",
          "data": {
            "text/plain": [
              "{'answered_correctly': 4,\n",
              " 'content_id': 13524,\n",
              " 'part': 9,\n",
              " 'task_container_id': 7741}"
            ]
          },
          "metadata": {
            "tags": []
          },
          "execution_count": 57
        }
      ]
    },
    {
      "cell_type": "code",
      "metadata": {
        "trusted": true,
        "colab": {
          "base_uri": "https://localhost:8080/"
        },
        "id": "OHTIue_qV5BE",
        "outputId": "d20e0bfc-32b8-4ab4-faa7-480e78259835"
      },
      "source": [
        "device = torch.device(\"cuda\") if torch.cuda.is_available() else torch.device(\"cpu\")\n",
        "device"
      ],
      "execution_count": 58,
      "outputs": [
        {
          "output_type": "execute_result",
          "data": {
            "text/plain": [
              "device(type='cuda')"
            ]
          },
          "metadata": {
            "tags": []
          },
          "execution_count": 58
        }
      ]
    },
    {
      "cell_type": "code",
      "metadata": {
        "trusted": true,
        "colab": {
          "base_uri": "https://localhost:8080/"
        },
        "id": "v1PAb6vVV5BE",
        "outputId": "a07d1e0f-ee0c-441c-cef6-47a882fdd94c"
      },
      "source": [
        "model = TransformerClassifier(n_tokens_dict).to(device)\n",
        "model"
      ],
      "execution_count": 59,
      "outputs": [
        {
          "output_type": "execute_result",
          "data": {
            "text/plain": [
              "TransformerClassifier(\n",
              "  (transformer_encoder): TransformerEncoder(\n",
              "    (layers): ModuleList(\n",
              "      (0): TransformerEncoderLayer(\n",
              "        (self_attn): MultiheadAttention(\n",
              "          (out_proj): _LinearWithBias(in_features=512, out_features=512, bias=True)\n",
              "        )\n",
              "        (linear1): Linear(in_features=512, out_features=1024, bias=True)\n",
              "        (dropout): Dropout(p=0, inplace=False)\n",
              "        (linear2): Linear(in_features=1024, out_features=512, bias=True)\n",
              "        (norm1): LayerNorm((512,), eps=1e-05, elementwise_affine=True)\n",
              "        (norm2): LayerNorm((512,), eps=1e-05, elementwise_affine=True)\n",
              "        (dropout1): Dropout(p=0, inplace=False)\n",
              "        (dropout2): Dropout(p=0, inplace=False)\n",
              "      )\n",
              "    )\n",
              "  )\n",
              "  (content_id_emb): Embedding(13524, 512)\n",
              "  (task_container_id_emb): Embedding(7741, 512)\n",
              "  (answered_correctly_emb): Embedding(4, 512)\n",
              "  (part_emb): Embedding(9, 512)\n",
              "  (prior_question_elapsed_time_emb): Linear(in_features=1, out_features=512, bias=False)\n",
              "  (pos_enc): PositionalEncoding(\n",
              "    (dropout): Dropout(p=0, inplace=False)\n",
              "  )\n",
              "  (out): Linear(in_features=512, out_features=1, bias=True)\n",
              ")"
            ]
          },
          "metadata": {
            "tags": []
          },
          "execution_count": 59
        }
      ]
    },
    {
      "cell_type": "code",
      "metadata": {
        "colab": {
          "base_uri": "https://localhost:8080/"
        },
        "id": "VemXXKP0wUrO",
        "outputId": "2267088a-1558-4c49-d97d-8662aae0ecd1"
      },
      "source": [
        "xb = x.to(device)\n",
        "print(f\"Input : {xb.shape}\")\n",
        "preds, pad_mask = model(xb)\n",
        "print(f\"Output: {preds.shape}\")"
      ],
      "execution_count": 60,
      "outputs": [
        {
          "output_type": "stream",
          "text": [
            "Input : torch.Size([12, 64, 5])\n",
            "Output: torch.Size([12, 64, 1])\n"
          ],
          "name": "stdout"
        }
      ]
    },
    {
      "cell_type": "markdown",
      "metadata": {
        "id": "8T-_XZIyyCYN"
      },
      "source": [
        "##### Custom BCE Loss that ignores the masked token's predictions"
      ]
    },
    {
      "cell_type": "markdown",
      "metadata": {
        "id": "2ZKC_kJAyIzl"
      },
      "source": [
        "F.binary_cross entropy expacts shape.  \n",
        "\n",
        "- preds - $[bs, numclass=1, seqlen]$\n",
        "- y_true - $[bs, numclass=1, seqlen]$"
      ]
    },
    {
      "cell_type": "code",
      "metadata": {
        "id": "wtp0OERVGsSh"
      },
      "source": [
        "preds = preds.permute(1, 2, 0) # [bs, num_class, seq_len]\n",
        "# preds"
      ],
      "execution_count": 61,
      "outputs": []
    },
    {
      "cell_type": "code",
      "metadata": {
        "id": "d642pzmUxDrj"
      },
      "source": [
        "yb = y.unsqueeze(-1).permute(1, 2, 0).float().to(device) # [bs, num_class, seq_len]\n",
        "# yb"
      ],
      "execution_count": 62,
      "outputs": []
    },
    {
      "cell_type": "code",
      "metadata": {
        "id": "opk5loqfhrSm"
      },
      "source": [
        "loss = F.binary_cross_entropy(preds, yb, reduction=\"none\") # get individual loss\n",
        "# loss"
      ],
      "execution_count": 63,
      "outputs": []
    },
    {
      "cell_type": "code",
      "metadata": {
        "id": "Jk3I75WdyyQb"
      },
      "source": [
        "# pad_mask"
      ],
      "execution_count": 64,
      "outputs": []
    },
    {
      "cell_type": "code",
      "metadata": {
        "id": "S-TwSqJyy2vY"
      },
      "source": [
        "# we want to negate the mask, True above means to mask\n",
        "# ~pad_mask"
      ],
      "execution_count": 65,
      "outputs": []
    },
    {
      "cell_type": "code",
      "metadata": {
        "id": "XagPfbrrrMMC",
        "colab": {
          "base_uri": "https://localhost:8080/"
        },
        "outputId": "9551d969-5373-4972-b4f0-fbd28280b8de"
      },
      "source": [
        "(~pad_mask.unsqueeze(1) * loss).mean() # notice the negation of mask "
      ],
      "execution_count": 66,
      "outputs": [
        {
          "output_type": "execute_result",
          "data": {
            "text/plain": [
              "tensor(0.5617, device='cuda:0', grad_fn=<MeanBackward0>)"
            ]
          },
          "metadata": {
            "tags": []
          },
          "execution_count": 66
        }
      ]
    },
    {
      "cell_type": "markdown",
      "metadata": {
        "id": "kKdmvTV5V5BE"
      },
      "source": [
        "### Training"
      ]
    },
    {
      "cell_type": "code",
      "metadata": {
        "id": "a0MGIeXQzAGQ"
      },
      "source": [
        "def masked_bce_loss(y_pred, y_true, pad_mask):\n",
        "  \"\"\" https://github.com/pytorch/pytorch/issues/563#issuecomment-330103591 \"\"\"\n",
        "  # print(y_pred.shape, y_true.shape)\n",
        "  y_pred = y_pred.permute(1, 2, 0) # [bs, 1, seq_len]\n",
        "  y_true = y_true.unsqueeze(-1).permute(1, 2, 0).float() # [bs, 1, seq_len]\n",
        "  loss = F.binary_cross_entropy(y_pred, y_true, reduction=\"none\") # get individual loss\n",
        "  pad_mask_flipped = ~pad_mask.unsqueeze(1) # notice the negation of mask # [bs, 1, seq_len]\n",
        "  masked_loss = (pad_mask_flipped * loss).mean() # notice the negation of mask \n",
        "\n",
        "  return masked_loss"
      ],
      "execution_count": 67,
      "outputs": []
    },
    {
      "cell_type": "code",
      "metadata": {
        "trusted": true,
        "id": "1K_ro8KcV5BE"
      },
      "source": [
        "epochs = 100\n",
        "opt = torch.optim.Adam(params=model.parameters(), lr=7e-4)\n",
        "sched = torch.optim.lr_scheduler.OneCycleLR(opt, max_lr=7e-4, steps_per_epoch=len(train_dl), epochs=epochs)\n",
        "loss_func = masked_bce_loss"
      ],
      "execution_count": 68,
      "outputs": []
    },
    {
      "cell_type": "markdown",
      "metadata": {
        "id": "fmWcoCpfO7W4"
      },
      "source": [
        "https://pytorch.org/tutorials/beginner/nn_tutorial.html#create-fit-and-get-data"
      ]
    },
    {
      "cell_type": "code",
      "metadata": {
        "id": "lcA8qWtWOQc1"
      },
      "source": [
        "def loss_batch(model, loss_func, X_batch, y_batch, opt=None):\n",
        "\n",
        "  preds, pad_mask = model(X_batch)\n",
        "  loss = loss_func(preds, y_batch, pad_mask)\n",
        "\n",
        "  if opt is not None:\n",
        "    loss.backward()\n",
        "    # nn.utils.clip_grad_norm_(model.parameters(), 0.25)\n",
        "    opt.step()\n",
        "    opt.zero_grad()\n",
        "\n",
        "  return loss.detach()"
      ],
      "execution_count": 69,
      "outputs": []
    },
    {
      "cell_type": "code",
      "metadata": {
        "trusted": true,
        "id": "7KKDMSb-V5BF"
      },
      "source": [
        "def fit(epochs, model, loss_func, opt, train_dl, valid_dl=None, sched=None):\n",
        "  epoch_losses = []\n",
        "  epoch_lrs = []\n",
        "  for e in range(epochs):\n",
        "    # train\n",
        "    lrs = []\n",
        "    train_losses = []\n",
        "    val_losses = []\n",
        "\n",
        "    model.train()\n",
        "    train_dl = tqdm(train_dl, position=0, leave=True)\n",
        "    for X_batch, y_batch in train_dl:\n",
        "      X_batch, y_batch = X_batch.to(device), y_batch.to(device)\n",
        "      train_loss = loss_batch(model, loss_func, X_batch, y_batch, opt)\n",
        "      train_losses.append(train_loss)\n",
        "\n",
        "      train_loss_mean = sum(train_losses) / len(train_losses)\n",
        "      lr = opt.param_groups[0][\"lr\"]\n",
        "      lrs.append(lr)\n",
        "      train_dl.set_description(f\"Epoch: {e}, RunningLoss: {train_loss_mean:.3f}, InstantLoss: {train_loss:.3f}, LR: {lr:.6f}\")\n",
        "      if sched:\n",
        "        sched.step()\n",
        "        \n",
        "    epoch_losses.append(train_loss_mean)\n",
        "    epoch_lrs.append(lr)\n",
        "    # eval\n",
        "    # model.eval()\n",
        "    # with torch.no_grad():\n",
        "    #   val_losses, val_bss = zip(*[loss_batch(model, loss_func, X_batch, y_batch) for X_batch, y_batch in valid_dl])\n",
        "\n",
        "    # val_loss = np.sum(np.multiply(val_losses, val_bss)) / np.sum(val_bss)\n",
        "    # train_dl.set_description(f\"Epoch: {e}, Loss: {train_loss}, Val Loss: {val_loss}\")\n",
        "\n",
        "  return epoch_losses, epoch_lrs#, val_losses"
      ],
      "execution_count": 70,
      "outputs": []
    },
    {
      "cell_type": "code",
      "metadata": {
        "colab": {
          "base_uri": "https://localhost:8080/"
        },
        "id": "0olyMi8vG0XM",
        "outputId": "2e4c65b9-2b3a-401b-be50-a098c75e780d"
      },
      "source": [
        "train_losses, lrs = fit(epochs, model, loss_func, opt, train_dl, sched=sched)"
      ],
      "execution_count": null,
      "outputs": [
        {
          "output_type": "stream",
          "text": [
            "Epoch: 0, RunningLoss: 0.611, InstantLoss: 0.506, LR: 0.000030:  99%|█████████▊| 156/158 [00:08<00:00, 18.24it/s]\n",
            "Epoch: 1, RunningLoss: 0.597, InstantLoss: 0.500, LR: 0.000035:  99%|█████████▊| 156/158 [00:08<00:00, 18.27it/s]\n",
            "Epoch: 2, RunningLoss: 0.591, InstantLoss: 0.497, LR: 0.000044:  99%|█████████▊| 156/158 [00:08<00:00, 18.28it/s]\n",
            "Epoch: 3, RunningLoss: 0.589, InstantLoss: 0.495, LR: 0.000056:  99%|█████████▊| 156/158 [00:08<00:00, 18.30it/s]\n",
            "Epoch: 4, RunningLoss: 0.588, InstantLoss: 0.491, LR: 0.000072:  99%|█████████▊| 156/158 [00:08<00:00, 18.24it/s]\n",
            "Epoch: 5, RunningLoss: 0.587, InstantLoss: 0.491, LR: 0.000091:  99%|█████████▊| 156/158 [00:08<00:00, 18.23it/s]\n",
            "Epoch: 6, RunningLoss: 0.584, InstantLoss: 0.491, LR: 0.000112:  99%|█████████▊| 156/158 [00:08<00:00, 18.31it/s]\n",
            "Epoch: 7, RunningLoss: 0.582, InstantLoss: 0.487, LR: 0.000136:  99%|█████████▊| 156/158 [00:08<00:00, 18.24it/s]\n",
            "Epoch: 8, RunningLoss: 0.581, InstantLoss: 0.486, LR: 0.000163:  99%|█████████▊| 156/158 [00:08<00:00, 18.18it/s]\n",
            "Epoch: 9, RunningLoss: 0.578, InstantLoss: 0.482, LR: 0.000192:  99%|█████████▊| 156/158 [00:08<00:00, 18.27it/s]\n",
            "Epoch: 10, RunningLoss: 0.576, InstantLoss: 0.480, LR: 0.000223:  99%|█████████▊| 156/158 [00:08<00:00, 18.07it/s]\n",
            "Epoch: 11, RunningLoss: 0.572, InstantLoss: 0.475, LR: 0.000255:  99%|█████████▊| 156/158 [00:08<00:00, 18.18it/s]\n",
            "Epoch: 12, RunningLoss: 0.568, InstantLoss: 0.472, LR: 0.000288:  99%|█████████▊| 156/158 [00:08<00:00, 18.26it/s]\n",
            "Epoch: 13, RunningLoss: 0.564, InstantLoss: 0.470, LR: 0.000323:  99%|█████████▊| 156/158 [00:08<00:00, 18.17it/s]\n",
            "Epoch: 14, RunningLoss: 0.559, InstantLoss: 0.464, LR: 0.000357:  99%|█████████▊| 156/158 [00:08<00:00, 18.09it/s]\n",
            "Epoch: 15, RunningLoss: 0.554, InstantLoss: 0.460, LR: 0.000392:  99%|█████████▊| 156/158 [00:08<00:00, 18.17it/s]\n",
            "Epoch: 16, RunningLoss: 0.549, InstantLoss: 0.457, LR: 0.000426:  99%|█████████▊| 156/158 [00:08<00:00, 18.21it/s]\n",
            "Epoch: 17, RunningLoss: 0.555, InstantLoss: 0.455, LR: 0.000460:  99%|█████████▊| 156/158 [00:08<00:00, 18.02it/s]\n",
            "Epoch: 18, RunningLoss: 0.542, InstantLoss: 0.451, LR: 0.000493:  99%|█████████▊| 156/158 [00:08<00:00, 18.21it/s]\n",
            "Epoch: 19, RunningLoss: 0.544, InstantLoss: 0.447, LR: 0.000524:  99%|█████████▊| 156/158 [00:08<00:00, 18.21it/s]\n",
            "Epoch: 20, RunningLoss: 0.542, InstantLoss: 0.445, LR: 0.000554:  99%|█████████▊| 156/158 [00:08<00:00, 18.15it/s]\n",
            "Epoch: 21, RunningLoss: 0.540, InstantLoss: 0.443, LR: 0.000581:  99%|█████████▊| 156/158 [00:08<00:00, 18.08it/s]\n",
            "Epoch: 22, RunningLoss: 0.529, InstantLoss: 0.439, LR: 0.000607:  99%|█████████▊| 156/158 [00:08<00:00, 18.17it/s]\n",
            "Epoch: 23, RunningLoss: 0.594, InstantLoss: 0.499, LR: 0.000629:  99%|█████████▊| 156/158 [00:08<00:00, 18.18it/s]\n",
            "Epoch: 24, RunningLoss: 0.598, InstantLoss: 0.495, LR: 0.000649:  99%|█████████▊| 156/158 [00:08<00:00, 18.20it/s]\n",
            "Epoch: 25, RunningLoss: 0.591, InstantLoss: 0.477, LR: 0.000666:  99%|█████████▊| 156/158 [00:08<00:00, 18.25it/s]\n",
            "Epoch: 26, RunningLoss: 0.574, InstantLoss: 0.458, LR: 0.000680:  99%|█████████▊| 156/158 [00:08<00:00, 18.23it/s]\n",
            "Epoch: 27, RunningLoss: 0.568, InstantLoss: 0.453, LR: 0.000690:  99%|█████████▊| 156/158 [00:08<00:00, 18.31it/s]\n",
            "Epoch: 28, RunningLoss: 0.559, InstantLoss: 0.448, LR: 0.000697:  99%|█████████▊| 156/158 [00:08<00:00, 18.23it/s]\n",
            "Epoch: 29, RunningLoss: 0.562, InstantLoss: 0.445, LR: 0.000700:  99%|█████████▊| 156/158 [00:08<00:00, 18.26it/s]\n",
            "Epoch: 30, RunningLoss: 0.548, InstantLoss: 0.436, LR: 0.000700:  99%|█████████▊| 156/158 [00:08<00:00, 18.25it/s]\n",
            "Epoch: 31, RunningLoss: 0.530, InstantLoss: 0.430, LR: 0.000699:  99%|█████████▊| 156/158 [00:08<00:00, 18.21it/s]\n",
            "Epoch: 32, RunningLoss: 0.529, InstantLoss: 0.427, LR: 0.000698:  99%|█████████▊| 156/158 [00:08<00:00, 18.17it/s]\n",
            "Epoch: 33, RunningLoss: 0.524, InstantLoss: 0.420, LR: 0.000696:  99%|█████████▊| 156/158 [00:08<00:00, 18.05it/s]\n",
            "Epoch: 34, RunningLoss: 0.554, InstantLoss: 0.427, LR: 0.000693:  99%|█████████▊| 156/158 [00:08<00:00, 18.30it/s]\n",
            "Epoch: 35, RunningLoss: 0.530, InstantLoss: 0.418, LR: 0.000689:  99%|█████████▊| 156/158 [00:08<00:00, 18.19it/s]\n",
            "Epoch: 36, RunningLoss: 0.513, InstantLoss: 0.410, LR: 0.000685:  99%|█████████▊| 156/158 [00:08<00:00, 18.22it/s]\n",
            "Epoch: 37, RunningLoss: 0.499, InstantLoss: 0.404, LR: 0.000680:  99%|█████████▊| 156/158 [00:08<00:00, 18.20it/s]\n",
            "Epoch: 38, RunningLoss: 0.494, InstantLoss: 0.396, LR: 0.000675:  99%|█████████▊| 156/158 [00:08<00:00, 18.26it/s]\n",
            "Epoch: 39, RunningLoss: 0.480, InstantLoss: 0.391, LR: 0.000669:  99%|█████████▊| 156/158 [00:08<00:00, 18.27it/s]\n",
            "Epoch: 40, RunningLoss: 0.469, InstantLoss: 0.382, LR: 0.000662:  99%|█████████▊| 156/158 [00:08<00:00, 18.18it/s]\n",
            "Epoch: 41, RunningLoss: 0.461, InstantLoss: 0.377, LR: 0.000655:  99%|█████████▊| 156/158 [00:08<00:00, 18.25it/s]\n",
            "Epoch: 42, RunningLoss: 0.451, InstantLoss: 0.364, LR: 0.000647:  99%|█████████▊| 156/158 [00:08<00:00, 18.14it/s]\n",
            "Epoch: 43, RunningLoss: 0.483, InstantLoss: 0.365, LR: 0.000638:  99%|█████████▊| 156/158 [00:08<00:00, 18.18it/s]\n",
            "Epoch: 44, RunningLoss: 0.466, InstantLoss: 0.357, LR: 0.000629:  99%|█████████▊| 156/158 [00:08<00:00, 18.05it/s]\n",
            "Epoch: 45, RunningLoss: 0.447, InstantLoss: 0.350, LR: 0.000620:  99%|█████████▊| 156/158 [00:08<00:00, 18.15it/s]\n",
            "Epoch: 46, RunningLoss: 0.428, InstantLoss: 0.333, LR: 0.000609:  99%|█████████▊| 156/158 [00:08<00:00, 18.14it/s]\n",
            "Epoch: 47, RunningLoss: 0.405, InstantLoss: 0.332, LR: 0.000599:  99%|█████████▊| 156/158 [00:08<00:00, 18.10it/s]\n",
            "Epoch: 48, RunningLoss: 0.401, InstantLoss: 0.327, LR: 0.000588:  99%|█████████▊| 156/158 [00:08<00:00, 18.22it/s]\n",
            "Epoch: 49, RunningLoss: 0.396, InstantLoss: 0.324, LR: 0.000576:  99%|█████████▊| 156/158 [00:08<00:00, 18.02it/s]\n",
            "Epoch: 50, RunningLoss: 0.384, InstantLoss: 0.311, LR: 0.000564:  99%|█████████▊| 156/158 [00:08<00:00, 18.05it/s]\n",
            "Epoch: 51, RunningLoss: 0.402, InstantLoss: 0.311, LR: 0.000551:  99%|█████████▊| 156/158 [00:08<00:00, 18.00it/s]\n",
            "Epoch: 52, RunningLoss: 0.388, InstantLoss: 0.307, LR: 0.000538:  99%|█████████▊| 156/158 [00:08<00:00, 18.08it/s]\n",
            "Epoch: 53, RunningLoss: 0.367, InstantLoss: 0.287, LR: 0.000525:  99%|█████████▊| 156/158 [00:08<00:00, 18.10it/s]\n",
            "Epoch: 54, RunningLoss: 0.349, InstantLoss: 0.283, LR: 0.000512:  99%|█████████▊| 156/158 [00:08<00:00, 18.06it/s]\n",
            "Epoch: 55, RunningLoss: 0.352, InstantLoss: 0.286, LR: 0.000498:  99%|█████████▊| 156/158 [00:08<00:00, 18.00it/s]\n",
            "Epoch: 56, RunningLoss: 0.350, InstantLoss: 0.275, LR: 0.000484:  99%|█████████▊| 156/158 [00:08<00:00, 18.01it/s]\n",
            "Epoch: 57, RunningLoss: 0.327, InstantLoss: 0.257, LR: 0.000469:  99%|█████████▊| 156/158 [00:08<00:00, 17.93it/s]\n",
            "Epoch: 58, RunningLoss: 0.316, InstantLoss: 0.263, LR: 0.000454:  99%|█████████▊| 156/158 [00:08<00:00, 17.93it/s]\n",
            "Epoch: 59, RunningLoss: 0.312, InstantLoss: 0.270, LR: 0.000439:  99%|█████████▊| 156/158 [00:08<00:00, 17.98it/s]\n",
            "Epoch: 60, RunningLoss: 0.302, InstantLoss: 0.261, LR: 0.000424:  99%|█████████▊| 156/158 [00:08<00:00, 17.92it/s]\n",
            "Epoch: 61, RunningLoss: 0.291, InstantLoss: 0.243, LR: 0.000409:  99%|█████████▊| 156/158 [00:08<00:00, 17.94it/s]\n",
            "Epoch: 62, RunningLoss: 0.289, InstantLoss: 0.235, LR: 0.000394:  99%|█████████▊| 156/158 [00:08<00:00, 18.11it/s]\n",
            "Epoch: 63, RunningLoss: 0.290, InstantLoss: 0.236, LR: 0.000378:  99%|█████████▊| 156/158 [00:08<00:00, 17.99it/s]\n",
            "Epoch: 64, RunningLoss: 0.286, InstantLoss: 0.235, LR: 0.000363:  99%|█████████▊| 156/158 [00:08<00:00, 18.10it/s]\n",
            "Epoch: 65, RunningLoss: 0.286, InstantLoss: 0.222, LR: 0.000347:  99%|█████████▊| 156/158 [00:08<00:00, 17.94it/s]\n",
            "Epoch: 66, RunningLoss: 0.273, InstantLoss: 0.216, LR: 0.000332:  99%|█████████▊| 156/158 [00:08<00:00, 17.98it/s]\n",
            "Epoch: 67, RunningLoss: 0.250, InstantLoss: 0.197, LR: 0.000316:  99%|█████████▊| 156/158 [00:08<00:00, 18.07it/s]\n",
            "Epoch: 68, RunningLoss: 0.233, InstantLoss: 0.189, LR: 0.000301:  99%|█████████▊| 156/158 [00:08<00:00, 18.05it/s]\n",
            "Epoch: 69, RunningLoss: 0.221, InstantLoss: 0.186, LR: 0.000286:  99%|█████████▊| 156/158 [00:08<00:00, 18.07it/s]\n",
            "Epoch: 70, RunningLoss: 0.214, InstantLoss: 0.175, LR: 0.000271:  99%|█████████▊| 156/158 [00:08<00:00, 18.05it/s]\n",
            "Epoch: 71, RunningLoss: 0.205, InstantLoss: 0.164, LR: 0.000256:  99%|█████████▊| 156/158 [00:08<00:00, 18.01it/s]\n",
            "Epoch: 72, RunningLoss: 0.199, InstantLoss: 0.243, LR: 0.000241:  97%|█████████▋| 153/158 [00:08<00:00, 16.19it/s]"
          ],
          "name": "stderr"
        }
      ]
    },
    {
      "cell_type": "code",
      "metadata": {
        "id": "FUG3qDSMCQHF"
      },
      "source": [
        "import matplotlib.pyplot as plt"
      ],
      "execution_count": null,
      "outputs": []
    },
    {
      "cell_type": "code",
      "metadata": {
        "id": "Lb8ZxOtfFIYr"
      },
      "source": [
        "plt.ylim(top=1)\n",
        "plt.plot(train_losses)"
      ],
      "execution_count": null,
      "outputs": []
    },
    {
      "cell_type": "code",
      "metadata": {
        "id": "gVJXQ30QKFRr"
      },
      "source": [
        "plt.plot(lrs)"
      ],
      "execution_count": null,
      "outputs": []
    },
    {
      "cell_type": "code",
      "metadata": {
        "id": "KCP4UnYdGB3_"
      },
      "source": [
        "xb = xb.to(device)\n",
        "preds, _ = model(xb)"
      ],
      "execution_count": null,
      "outputs": []
    },
    {
      "cell_type": "code",
      "metadata": {
        "id": "vmKaBcxE1XdV"
      },
      "source": [
        "from sklearn.metrics import accuracy_score, precision_score, recall_score, roc_auc_score"
      ],
      "execution_count": null,
      "outputs": []
    },
    {
      "cell_type": "code",
      "metadata": {
        "id": "CyC80r-NUrjV"
      },
      "source": [
        "y_hat = preds.to(\"cpu\").detach().numpy() > 0.5\n",
        "y_hat = y_hat.astype(np.int8).flatten()\n",
        "y_hat.shape"
      ],
      "execution_count": null,
      "outputs": []
    },
    {
      "cell_type": "code",
      "metadata": {
        "id": "xBYitHZhU3DK"
      },
      "source": [
        "y_true = yb.to(\"cpu\").detach().numpy().T.flatten()\n",
        "y_true.shape"
      ],
      "execution_count": null,
      "outputs": []
    },
    {
      "cell_type": "code",
      "metadata": {
        "id": "o8in5UADV50R"
      },
      "source": [
        "accuracy_score(y_true, y_hat)"
      ],
      "execution_count": null,
      "outputs": []
    },
    {
      "cell_type": "code",
      "metadata": {
        "id": "SDYPPqqzWOmK"
      },
      "source": [
        "precision_score(y_true, y_hat)"
      ],
      "execution_count": null,
      "outputs": []
    },
    {
      "cell_type": "code",
      "metadata": {
        "id": "eLgz51aEYUiy"
      },
      "source": [
        "recall_score(y_true, y_hat)"
      ],
      "execution_count": null,
      "outputs": []
    },
    {
      "cell_type": "code",
      "metadata": {
        "id": "BjZreOaXYW6k"
      },
      "source": [
        "y_true.T"
      ],
      "execution_count": null,
      "outputs": []
    },
    {
      "cell_type": "code",
      "metadata": {
        "id": "Zz3BA7xpWaMo"
      },
      "source": [
        "y_hat.T"
      ],
      "execution_count": null,
      "outputs": []
    },
    {
      "cell_type": "code",
      "metadata": {
        "id": "3fLoQpxcWeP2"
      },
      "source": [
        "roc_auc_score(y_true, preds.to(\"cpu\").detach().numpy().flatten())"
      ],
      "execution_count": null,
      "outputs": []
    },
    {
      "cell_type": "code",
      "metadata": {
        "id": "qnh4h1xCn9mR"
      },
      "source": [
        ""
      ],
      "execution_count": null,
      "outputs": []
    }
  ]
}