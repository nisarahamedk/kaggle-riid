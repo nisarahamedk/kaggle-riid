{
  "nbformat": 4,
  "nbformat_minor": 0,
  "metadata": {
    "colab": {
      "name": "riid_tfrecords.ipynb",
      "provenance": [],
      "authorship_tag": "ABX9TyN7zimXjhYYPbIGLlK4UgW1",
      "include_colab_link": true
    },
    "kernelspec": {
      "name": "python3",
      "display_name": "Python 3"
    }
  },
  "cells": [
    {
      "cell_type": "markdown",
      "metadata": {
        "id": "view-in-github",
        "colab_type": "text"
      },
      "source": [
        "<a href=\"https://colab.research.google.com/github/nisarahamedk/kaggle-riid/blob/master/notebooks/riid_tfrecords_for_encoder_decoder.ipynb\" target=\"_parent\"><img src=\"https://colab.research.google.com/assets/colab-badge.svg\" alt=\"Open In Colab\"/></a>"
      ]
    },
    {
      "cell_type": "code",
      "metadata": {
        "id": "9lORpE-PmPUD"
      },
      "source": [
        "%%capture\n",
        "!pip install gcsfs\n",
        "!pip install kaggle\n",
        "!pip install datatable"
      ],
      "execution_count": 1,
      "outputs": []
    },
    {
      "cell_type": "code",
      "metadata": {
        "colab": {
          "base_uri": "https://localhost:8080/"
        },
        "id": "rGqAnzw7CPVM",
        "outputId": "736e5232-c002-403e-e150-d6f688aca661"
      },
      "source": [
        "from google.colab import drive\n",
        "drive.mount(\"/content/drive\")"
      ],
      "execution_count": 2,
      "outputs": [
        {
          "output_type": "stream",
          "text": [
            "Mounted at /content/drive\n"
          ],
          "name": "stdout"
        }
      ]
    },
    {
      "cell_type": "code",
      "metadata": {
        "id": "eYjY_QlTCSVh"
      },
      "source": [
        "# Copy Kaggle API key\n",
        "!mkdir -p ~/.kaggle && cp /content/drive/My\\ Drive/Projects/Kaggle/api_key/kaggle.json ~/.kaggle/"
      ],
      "execution_count": 3,
      "outputs": []
    },
    {
      "cell_type": "code",
      "metadata": {
        "colab": {
          "base_uri": "https://localhost:8080/"
        },
        "id": "HkFf3M7oCo7U",
        "outputId": "02784bf0-4cf9-4c20-e1db-9f4765e842d6"
      },
      "source": [
        "!kaggle datasets download -d rohanrao/riiid-train-data-multiple-formats"
      ],
      "execution_count": 4,
      "outputs": [
        {
          "output_type": "stream",
          "text": [
            "Downloading riiid-train-data-multiple-formats.zip to /content\n",
            "100% 4.17G/4.17G [00:54<00:00, 36.6MB/s]\n",
            "100% 4.17G/4.17G [00:54<00:00, 82.4MB/s]\n"
          ],
          "name": "stdout"
        }
      ]
    },
    {
      "cell_type": "code",
      "metadata": {
        "colab": {
          "base_uri": "https://localhost:8080/"
        },
        "id": "DyLaiKdiFtk7",
        "outputId": "76b5779e-0725-4bc2-dd27-5a34d5e26131"
      },
      "source": [
        "!unzip riiid-train-data-multiple-formats"
      ],
      "execution_count": 5,
      "outputs": [
        {
          "output_type": "stream",
          "text": [
            "Archive:  riiid-train-data-multiple-formats.zip\n",
            "  inflating: riiid_train.feather     \n",
            "  inflating: riiid_train.h5          \n",
            "  inflating: riiid_train.jay         \n",
            "  inflating: riiid_train.parquet     \n",
            "  inflating: riiid_train.pkl.gzip    \n"
          ],
          "name": "stdout"
        }
      ]
    },
    {
      "cell_type": "code",
      "metadata": {
        "id": "b_yN4Cx2mTLs"
      },
      "source": [
        "import pickle\n",
        "import math\n",
        "\n",
        "import gcsfs\n",
        "import pandas as pd\n",
        "import numpy as np\n",
        "from tqdm import tqdm, trange\n",
        "import tensorflow as tf\n",
        "from datatable import dt, f, by, count\n",
        "\n",
        "\n",
        "np.random.seed(42)\n",
        "tf.random.set_seed(42)"
      ],
      "execution_count": 3,
      "outputs": []
    },
    {
      "cell_type": "code",
      "metadata": {
        "id": "1JABSd0TI6Ow"
      },
      "source": [
        "table = dt.fread(\"riiid_train.jay\")"
      ],
      "execution_count": 4,
      "outputs": []
    },
    {
      "cell_type": "code",
      "metadata": {
        "colab": {
          "base_uri": "https://localhost:8080/",
          "height": 288
        },
        "id": "boWtiNE8JbII",
        "outputId": "56a0c79b-912a-4112-ccbb-4b19128325e7"
      },
      "source": [
        "table.head(4)"
      ],
      "execution_count": 5,
      "outputs": [
        {
          "output_type": "stream",
          "text": [
            "   | row_id  timestamp  user_id  content_id  content_type_id  task_container_id  user_answer  answered_correctly    pr…  …\n",
            "-- + ------  ---------  -------  ----------  ---------------  -----------------  -----------  ------------------  -----   \n",
            " 0 |      0          0      115        5692                0                  1            3                   1     NA  …\n",
            " 1 |      1      56943      115        5716                0                  2            2                   1  37000  …\n",
            " 2 |      2     118363      115         128                0                  0            0                   1  55000  …\n",
            " 3 |      3     131167      115        7860                0                  3            0                   1  19000  …\n",
            "\n",
            "[4 rows x 10 columns]\n"
          ],
          "name": "stdout"
        },
        {
          "output_type": "execute_result",
          "data": {
            "text/html": [
              "<div class='datatable'>\n",
              "  <table class='frame'>\n",
              "  <thead>\n",
              "    <tr class='colnames'><td class='row_index'></td><th>row_id</th><th>timestamp</th><th>user_id</th><th>content_id</th><th>content_type_id</th><th>task_container_id</th><th>user_answer</th><th>answered_correctly</th><th>prior_question_elapsed_time</th><th>prior_question_had_explanation</th></tr>\n",
              "    <tr class='coltypes'><td class='row_index'></td><td class='int' title='int32'>&#x25AA;&#x25AA;&#x25AA;&#x25AA;</td><td class='int' title='int64'>&#x25AA;&#x25AA;&#x25AA;&#x25AA;&#x25AA;&#x25AA;&#x25AA;&#x25AA;</td><td class='int' title='int32'>&#x25AA;&#x25AA;&#x25AA;&#x25AA;</td><td class='int' title='int32'>&#x25AA;&#x25AA;&#x25AA;&#x25AA;</td><td class='bool' title='bool8'>&#x25AA;</td><td class='int' title='int32'>&#x25AA;&#x25AA;&#x25AA;&#x25AA;</td><td class='int' title='int32'>&#x25AA;&#x25AA;&#x25AA;&#x25AA;</td><td class='int' title='int32'>&#x25AA;&#x25AA;&#x25AA;&#x25AA;</td><td class='float' title='float64'>&#x25AA;&#x25AA;&#x25AA;&#x25AA;&#x25AA;&#x25AA;&#x25AA;&#x25AA;</td><td class='bool' title='bool8'>&#x25AA;</td></tr>\n",
              "  </thead>\n",
              "  <tbody>\n",
              "    <tr><td class='row_index'>0</td><td>0</td><td>0</td><td>115</td><td>5692</td><td>0</td><td>1</td><td>3</td><td>1</td><td><span class=na>NA</span></td><td><span class=na>NA</span></td></tr>\n",
              "    <tr><td class='row_index'>1</td><td>1</td><td>56943</td><td>115</td><td>5716</td><td>0</td><td>2</td><td>2</td><td>1</td><td>37000</td><td>0</td></tr>\n",
              "    <tr><td class='row_index'>2</td><td>2</td><td>118363</td><td>115</td><td>128</td><td>0</td><td>0</td><td>0</td><td>1</td><td>55000</td><td>0</td></tr>\n",
              "    <tr><td class='row_index'>3</td><td>3</td><td>131167</td><td>115</td><td>7860</td><td>0</td><td>3</td><td>0</td><td>1</td><td>19000</td><td>0</td></tr>\n",
              "  </tbody>\n",
              "  </table>\n",
              "  <div class='footer'>\n",
              "    <div class='frame_dimensions'>4 rows &times; 10 columns</div>\n",
              "  </div>\n",
              "</div>\n"
            ],
            "text/plain": [
              ""
            ]
          },
          "metadata": {
            "tags": []
          },
          "execution_count": 5
        }
      ]
    },
    {
      "cell_type": "markdown",
      "metadata": {
        "id": "Sp6J2lwbEXQ_"
      },
      "source": [
        "Filter lectures"
      ]
    },
    {
      "cell_type": "code",
      "metadata": {
        "id": "CkA_LBMgEcHt"
      },
      "source": [
        "table = table[f.content_type_id==0, :]"
      ],
      "execution_count": 6,
      "outputs": []
    },
    {
      "cell_type": "code",
      "metadata": {
        "colab": {
          "base_uri": "https://localhost:8080/",
          "height": 288
        },
        "id": "Jd-LRU70EkaU",
        "outputId": "f8eae3fd-1265-400e-f0d0-ca2fbadb020b"
      },
      "source": [
        "table.head(4)"
      ],
      "execution_count": 7,
      "outputs": [
        {
          "output_type": "stream",
          "text": [
            "   | row_id  timestamp  user_id  content_id  content_type_id  task_container_id  user_answer  answered_correctly    pr…  …\n",
            "-- + ------  ---------  -------  ----------  ---------------  -----------------  -----------  ------------------  -----   \n",
            " 0 |      0          0      115        5692                0                  1            3                   1     NA  …\n",
            " 1 |      1      56943      115        5716                0                  2            2                   1  37000  …\n",
            " 2 |      2     118363      115         128                0                  0            0                   1  55000  …\n",
            " 3 |      3     131167      115        7860                0                  3            0                   1  19000  …\n",
            "\n",
            "[4 rows x 10 columns]\n"
          ],
          "name": "stdout"
        },
        {
          "output_type": "execute_result",
          "data": {
            "text/html": [
              "<div class='datatable'>\n",
              "  <table class='frame'>\n",
              "  <thead>\n",
              "    <tr class='colnames'><td class='row_index'></td><th>row_id</th><th>timestamp</th><th>user_id</th><th>content_id</th><th>content_type_id</th><th>task_container_id</th><th>user_answer</th><th>answered_correctly</th><th>prior_question_elapsed_time</th><th>prior_question_had_explanation</th></tr>\n",
              "    <tr class='coltypes'><td class='row_index'></td><td class='int' title='int32'>&#x25AA;&#x25AA;&#x25AA;&#x25AA;</td><td class='int' title='int64'>&#x25AA;&#x25AA;&#x25AA;&#x25AA;&#x25AA;&#x25AA;&#x25AA;&#x25AA;</td><td class='int' title='int32'>&#x25AA;&#x25AA;&#x25AA;&#x25AA;</td><td class='int' title='int32'>&#x25AA;&#x25AA;&#x25AA;&#x25AA;</td><td class='bool' title='bool8'>&#x25AA;</td><td class='int' title='int32'>&#x25AA;&#x25AA;&#x25AA;&#x25AA;</td><td class='int' title='int32'>&#x25AA;&#x25AA;&#x25AA;&#x25AA;</td><td class='int' title='int32'>&#x25AA;&#x25AA;&#x25AA;&#x25AA;</td><td class='float' title='float64'>&#x25AA;&#x25AA;&#x25AA;&#x25AA;&#x25AA;&#x25AA;&#x25AA;&#x25AA;</td><td class='bool' title='bool8'>&#x25AA;</td></tr>\n",
              "  </thead>\n",
              "  <tbody>\n",
              "    <tr><td class='row_index'>0</td><td>0</td><td>0</td><td>115</td><td>5692</td><td>0</td><td>1</td><td>3</td><td>1</td><td><span class=na>NA</span></td><td><span class=na>NA</span></td></tr>\n",
              "    <tr><td class='row_index'>1</td><td>1</td><td>56943</td><td>115</td><td>5716</td><td>0</td><td>2</td><td>2</td><td>1</td><td>37000</td><td>0</td></tr>\n",
              "    <tr><td class='row_index'>2</td><td>2</td><td>118363</td><td>115</td><td>128</td><td>0</td><td>0</td><td>0</td><td>1</td><td>55000</td><td>0</td></tr>\n",
              "    <tr><td class='row_index'>3</td><td>3</td><td>131167</td><td>115</td><td>7860</td><td>0</td><td>3</td><td>0</td><td>1</td><td>19000</td><td>0</td></tr>\n",
              "  </tbody>\n",
              "  </table>\n",
              "  <div class='footer'>\n",
              "    <div class='frame_dimensions'>4 rows &times; 10 columns</div>\n",
              "  </div>\n",
              "</div>\n"
            ],
            "text/plain": [
              ""
            ]
          },
          "metadata": {
            "tags": []
          },
          "execution_count": 7
        }
      ]
    },
    {
      "cell_type": "markdown",
      "metadata": {
        "id": "u-BevY3gR86H"
      },
      "source": [
        "Embedding sizes"
      ]
    },
    {
      "cell_type": "code",
      "metadata": {
        "id": "ygosrCSeSDpy"
      },
      "source": [
        "max_dict = table[:, [dt.max(f.content_id), dt.max(f.task_container_id)]].to_dict()"
      ],
      "execution_count": 8,
      "outputs": []
    },
    {
      "cell_type": "code",
      "metadata": {
        "id": "wdjvbkfTT1-v",
        "colab": {
          "base_uri": "https://localhost:8080/"
        },
        "outputId": "5eaf8d96-3d6f-447b-eebd-f76ee0ba8bfd"
      },
      "source": [
        "embed_size_dict = {k: v[0] + 3 for k, v in max_dict.items()} # +3 (0-pad, 1-start token, 2-fill token)\n",
        "embed_size_dict"
      ],
      "execution_count": 9,
      "outputs": [
        {
          "output_type": "execute_result",
          "data": {
            "text/plain": [
              "{'content_id': 13525, 'task_container_id': 10002}"
            ]
          },
          "metadata": {
            "tags": []
          },
          "execution_count": 9
        }
      ]
    },
    {
      "cell_type": "code",
      "metadata": {
        "colab": {
          "base_uri": "https://localhost:8080/"
        },
        "id": "10pAwYKdFq35",
        "outputId": "64d3b71a-9bd6-48c9-c5b7-4e8cb7353b2c"
      },
      "source": [
        "embed_size_dict[\"had_explanation\"] = 5\r\n",
        "embed_size_dict[\"answered_correctly\"] = 5\r\n",
        "embed_size_dict"
      ],
      "execution_count": 10,
      "outputs": [
        {
          "output_type": "execute_result",
          "data": {
            "text/plain": [
              "{'answered_correctly': 5,\n",
              " 'content_id': 13525,\n",
              " 'had_explanation': 5,\n",
              " 'task_container_id': 10002}"
            ]
          },
          "metadata": {
            "tags": []
          },
          "execution_count": 10
        }
      ]
    },
    {
      "cell_type": "code",
      "metadata": {
        "id": "XYfhG8TD7WcO"
      },
      "source": [
        "# # check NA - MEMORY ERROR\n",
        "# df = table.to_pandas()\n",
        "# df.describe()"
      ],
      "execution_count": null,
      "outputs": []
    },
    {
      "cell_type": "code",
      "metadata": {
        "id": "0dGDtOt28GvL"
      },
      "source": [
        "del df"
      ],
      "execution_count": null,
      "outputs": []
    },
    {
      "cell_type": "code",
      "metadata": {
        "colab": {
          "base_uri": "https://localhost:8080/",
          "height": 197
        },
        "id": "HBbDz7roRMXT",
        "outputId": "e56a0ee3-9f4a-493a-83ef-20e95052e011"
      },
      "source": [
        "users_df = table[:, [f.user_id, f.content_id]].to_pandas()\n",
        "users_df.head()"
      ],
      "execution_count": 11,
      "outputs": [
        {
          "output_type": "execute_result",
          "data": {
            "text/html": [
              "<div>\n",
              "<style scoped>\n",
              "    .dataframe tbody tr th:only-of-type {\n",
              "        vertical-align: middle;\n",
              "    }\n",
              "\n",
              "    .dataframe tbody tr th {\n",
              "        vertical-align: top;\n",
              "    }\n",
              "\n",
              "    .dataframe thead th {\n",
              "        text-align: right;\n",
              "    }\n",
              "</style>\n",
              "<table border=\"1\" class=\"dataframe\">\n",
              "  <thead>\n",
              "    <tr style=\"text-align: right;\">\n",
              "      <th></th>\n",
              "      <th>user_id</th>\n",
              "      <th>content_id</th>\n",
              "    </tr>\n",
              "  </thead>\n",
              "  <tbody>\n",
              "    <tr>\n",
              "      <th>0</th>\n",
              "      <td>115</td>\n",
              "      <td>5692</td>\n",
              "    </tr>\n",
              "    <tr>\n",
              "      <th>1</th>\n",
              "      <td>115</td>\n",
              "      <td>5716</td>\n",
              "    </tr>\n",
              "    <tr>\n",
              "      <th>2</th>\n",
              "      <td>115</td>\n",
              "      <td>128</td>\n",
              "    </tr>\n",
              "    <tr>\n",
              "      <th>3</th>\n",
              "      <td>115</td>\n",
              "      <td>7860</td>\n",
              "    </tr>\n",
              "    <tr>\n",
              "      <th>4</th>\n",
              "      <td>115</td>\n",
              "      <td>7922</td>\n",
              "    </tr>\n",
              "  </tbody>\n",
              "</table>\n",
              "</div>"
            ],
            "text/plain": [
              "   user_id  content_id\n",
              "0      115        5692\n",
              "1      115        5716\n",
              "2      115         128\n",
              "3      115        7860\n",
              "4      115        7922"
            ]
          },
          "metadata": {
            "tags": []
          },
          "execution_count": 11
        }
      ]
    },
    {
      "cell_type": "code",
      "metadata": {
        "colab": {
          "base_uri": "https://localhost:8080/",
          "height": 35
        },
        "id": "IGNSYQAb5CF6",
        "outputId": "286d7496-9907-4262-941d-0c824aecc7cb"
      },
      "source": [
        "f\"{len(users_df):,}\""
      ],
      "execution_count": 12,
      "outputs": [
        {
          "output_type": "execute_result",
          "data": {
            "application/vnd.google.colaboratory.intrinsic+json": {
              "type": "string"
            },
            "text/plain": [
              "'99,271,300'"
            ]
          },
          "metadata": {
            "tags": []
          },
          "execution_count": 12
        }
      ]
    },
    {
      "cell_type": "code",
      "metadata": {
        "colab": {
          "base_uri": "https://localhost:8080/"
        },
        "id": "r9Ro-1og4rm_",
        "outputId": "7c97bd9d-8bdc-4a88-fbb9-69cc7323af9f"
      },
      "source": [
        "user_groups = users_df.groupby(\"user_id\")\n",
        "len(user_groups)"
      ],
      "execution_count": 13,
      "outputs": [
        {
          "output_type": "execute_result",
          "data": {
            "text/plain": [
              "393656"
            ]
          },
          "metadata": {
            "tags": []
          },
          "execution_count": 13
        }
      ]
    },
    {
      "cell_type": "code",
      "metadata": {
        "id": "IA-r7u6U_bht"
      },
      "source": [
        "user_groups_counts = user_groups.count().cumsum().reset_index()"
      ],
      "execution_count": 14,
      "outputs": []
    },
    {
      "cell_type": "code",
      "metadata": {
        "colab": {
          "base_uri": "https://localhost:8080/",
          "height": 197
        },
        "id": "HXemKH7DPJk8",
        "outputId": "3c791698-a873-463a-fa5d-3647c4b14150"
      },
      "source": [
        "user_groups_counts.head()"
      ],
      "execution_count": 15,
      "outputs": [
        {
          "output_type": "execute_result",
          "data": {
            "text/html": [
              "<div>\n",
              "<style scoped>\n",
              "    .dataframe tbody tr th:only-of-type {\n",
              "        vertical-align: middle;\n",
              "    }\n",
              "\n",
              "    .dataframe tbody tr th {\n",
              "        vertical-align: top;\n",
              "    }\n",
              "\n",
              "    .dataframe thead th {\n",
              "        text-align: right;\n",
              "    }\n",
              "</style>\n",
              "<table border=\"1\" class=\"dataframe\">\n",
              "  <thead>\n",
              "    <tr style=\"text-align: right;\">\n",
              "      <th></th>\n",
              "      <th>user_id</th>\n",
              "      <th>content_id</th>\n",
              "    </tr>\n",
              "  </thead>\n",
              "  <tbody>\n",
              "    <tr>\n",
              "      <th>0</th>\n",
              "      <td>115</td>\n",
              "      <td>46</td>\n",
              "    </tr>\n",
              "    <tr>\n",
              "      <th>1</th>\n",
              "      <td>124</td>\n",
              "      <td>76</td>\n",
              "    </tr>\n",
              "    <tr>\n",
              "      <th>2</th>\n",
              "      <td>2746</td>\n",
              "      <td>95</td>\n",
              "    </tr>\n",
              "    <tr>\n",
              "      <th>3</th>\n",
              "      <td>5382</td>\n",
              "      <td>220</td>\n",
              "    </tr>\n",
              "    <tr>\n",
              "      <th>4</th>\n",
              "      <td>8623</td>\n",
              "      <td>329</td>\n",
              "    </tr>\n",
              "  </tbody>\n",
              "</table>\n",
              "</div>"
            ],
            "text/plain": [
              "   user_id  content_id\n",
              "0      115          46\n",
              "1      124          76\n",
              "2     2746          95\n",
              "3     5382         220\n",
              "4     8623         329"
            ]
          },
          "metadata": {
            "tags": []
          },
          "execution_count": 15
        }
      ]
    },
    {
      "cell_type": "markdown",
      "metadata": {
        "id": "t8crSnam-7Ti"
      },
      "source": [
        "#### Cross Validation"
      ]
    },
    {
      "cell_type": "markdown",
      "metadata": {
        "id": "my9cgGe5--QA"
      },
      "source": [
        "##### Simple K Fold"
      ]
    },
    {
      "cell_type": "code",
      "metadata": {
        "colab": {
          "base_uri": "https://localhost:8080/",
          "height": 197
        },
        "id": "fFPV8p7q_1-I",
        "outputId": "288809ab-f2c4-4c7c-a3ec-578fee1e5e2c"
      },
      "source": [
        "from sklearn.model_selection import KFold\n",
        "\n",
        "kf = KFold(n_splits=32, shuffle=False) #, random_state=42)\n",
        "\n",
        "for fold, (idx_train, idx_valid) in enumerate(kf.split(X=user_groups_counts)):\n",
        "    user_groups_counts.loc[idx_valid, \"fold\"] = fold\n",
        "    \n",
        "user_groups_counts.head()"
      ],
      "execution_count": 16,
      "outputs": [
        {
          "output_type": "execute_result",
          "data": {
            "text/html": [
              "<div>\n",
              "<style scoped>\n",
              "    .dataframe tbody tr th:only-of-type {\n",
              "        vertical-align: middle;\n",
              "    }\n",
              "\n",
              "    .dataframe tbody tr th {\n",
              "        vertical-align: top;\n",
              "    }\n",
              "\n",
              "    .dataframe thead th {\n",
              "        text-align: right;\n",
              "    }\n",
              "</style>\n",
              "<table border=\"1\" class=\"dataframe\">\n",
              "  <thead>\n",
              "    <tr style=\"text-align: right;\">\n",
              "      <th></th>\n",
              "      <th>user_id</th>\n",
              "      <th>content_id</th>\n",
              "      <th>fold</th>\n",
              "    </tr>\n",
              "  </thead>\n",
              "  <tbody>\n",
              "    <tr>\n",
              "      <th>0</th>\n",
              "      <td>115</td>\n",
              "      <td>46</td>\n",
              "      <td>0.0</td>\n",
              "    </tr>\n",
              "    <tr>\n",
              "      <th>1</th>\n",
              "      <td>124</td>\n",
              "      <td>76</td>\n",
              "      <td>0.0</td>\n",
              "    </tr>\n",
              "    <tr>\n",
              "      <th>2</th>\n",
              "      <td>2746</td>\n",
              "      <td>95</td>\n",
              "      <td>0.0</td>\n",
              "    </tr>\n",
              "    <tr>\n",
              "      <th>3</th>\n",
              "      <td>5382</td>\n",
              "      <td>220</td>\n",
              "      <td>0.0</td>\n",
              "    </tr>\n",
              "    <tr>\n",
              "      <th>4</th>\n",
              "      <td>8623</td>\n",
              "      <td>329</td>\n",
              "      <td>0.0</td>\n",
              "    </tr>\n",
              "  </tbody>\n",
              "</table>\n",
              "</div>"
            ],
            "text/plain": [
              "   user_id  content_id  fold\n",
              "0      115          46   0.0\n",
              "1      124          76   0.0\n",
              "2     2746          95   0.0\n",
              "3     5382         220   0.0\n",
              "4     8623         329   0.0"
            ]
          },
          "metadata": {
            "tags": []
          },
          "execution_count": 16
        }
      ]
    },
    {
      "cell_type": "code",
      "metadata": {
        "colab": {
          "base_uri": "https://localhost:8080/"
        },
        "id": "601Rx_D5Ajhy",
        "outputId": "1555356c-9105-4a44-d274-cc73e7e73c03"
      },
      "source": [
        "user_groups_counts[\"fold\"].value_counts()[:4]"
      ],
      "execution_count": 17,
      "outputs": [
        {
          "output_type": "execute_result",
          "data": {
            "text/plain": [
              "23.0    12302\n",
              "18.0    12302\n",
              "2.0     12302\n",
              "17.0    12302\n",
              "14.0    12302\n",
              "9.0     12302\n",
              "4.0     12302\n",
              "Name: fold, dtype: int64"
            ]
          },
          "metadata": {
            "tags": []
          },
          "execution_count": 17
        }
      ]
    },
    {
      "cell_type": "code",
      "metadata": {
        "colab": {
          "base_uri": "https://localhost:8080/"
        },
        "id": "-qVwEmB-FpWX",
        "outputId": "1baa5710-0591-453e-a843-5d741c92539b"
      },
      "source": [
        "folds_arr = user_groups_counts.groupby(\"fold\").apply(lambda r: r[\"content_id\"].values)\n",
        "folds_arr[:4]"
      ],
      "execution_count": 18,
      "outputs": [
        {
          "output_type": "execute_result",
          "data": {
            "text/plain": [
              "fold\n",
              "0.0    [46, 76, 95, 220, 329, 346, 611, 1854, 8137, 8...\n",
              "1.0    [3050494, 3051035, 3052324, 3052341, 3052371, ...\n",
              "2.0    [6147261, 6147304, 6147348, 6147396, 6147456, ...\n",
              "3.0    [9147234, 9147264, 9147354, 9147385, 9147404, ...\n",
              "4.0    [12181787, 12182019, 12182049, 12182079, 12182...\n",
              "dtype: object"
            ]
          },
          "metadata": {
            "tags": []
          },
          "execution_count": 18
        }
      ]
    },
    {
      "cell_type": "code",
      "metadata": {
        "colab": {
          "base_uri": "https://localhost:8080/"
        },
        "id": "BPuDjYlmWBs0",
        "outputId": "2147f7a9-7cd6-4805-9e56-6e0e01048dc3"
      },
      "source": [
        "folds_arr[0][0]"
      ],
      "execution_count": 19,
      "outputs": [
        {
          "output_type": "execute_result",
          "data": {
            "text/plain": [
              "46"
            ]
          },
          "metadata": {
            "tags": []
          },
          "execution_count": 19
        }
      ]
    },
    {
      "cell_type": "code",
      "metadata": {
        "colab": {
          "base_uri": "https://localhost:8080/"
        },
        "id": "DCjeZ9hFmhl1",
        "outputId": "bcc5eb83-2d54-4978-d8cc-b08ee8f549df"
      },
      "source": [
        "folds_partitions = {}\n",
        "fold_start = 0\n",
        "for fold in range(32):\n",
        "  folds_partitions[fold] = {}\n",
        "  folds_partitions[fold][\"start\"] = int(fold_start)\n",
        "  \n",
        "  end = folds_arr[fold][-1]\n",
        "  folds_partitions[fold][\"end\"] = int(end)\n",
        "  \n",
        "  fold_start = end\n",
        "  \n",
        "folds_partitions"
      ],
      "execution_count": 20,
      "outputs": [
        {
          "output_type": "execute_result",
          "data": {
            "text/plain": [
              "{0: {'end': 3050404, 'start': 0},\n",
              " 1: {'end': 6147066, 'start': 3050404},\n",
              " 2: {'end': 9147197, 'start': 6147066},\n",
              " 3: {'end': 12181423, 'start': 9147197},\n",
              " 4: {'end': 15393592, 'start': 12181423},\n",
              " 5: {'end': 18469283, 'start': 15393592},\n",
              " 6: {'end': 21523288, 'start': 18469283},\n",
              " 7: {'end': 24715578, 'start': 21523288},\n",
              " 8: {'end': 27810532, 'start': 24715578},\n",
              " 9: {'end': 30850557, 'start': 27810532},\n",
              " 10: {'end': 34069534, 'start': 30850557},\n",
              " 11: {'end': 37270224, 'start': 34069534},\n",
              " 12: {'end': 40463742, 'start': 37270224},\n",
              " 13: {'end': 43655954, 'start': 40463742},\n",
              " 14: {'end': 46822744, 'start': 43655954},\n",
              " 15: {'end': 49892293, 'start': 46822744},\n",
              " 16: {'end': 52958176, 'start': 49892293},\n",
              " 17: {'end': 56034812, 'start': 52958176},\n",
              " 18: {'end': 59091702, 'start': 56034812},\n",
              " 19: {'end': 62087479, 'start': 59091702},\n",
              " 20: {'end': 65171416, 'start': 62087479},\n",
              " 21: {'end': 68245278, 'start': 65171416},\n",
              " 22: {'end': 71312347, 'start': 68245278},\n",
              " 23: {'end': 74329239, 'start': 71312347},\n",
              " 24: {'end': 77470535, 'start': 74329239},\n",
              " 25: {'end': 80509306, 'start': 77470535},\n",
              " 26: {'end': 83527310, 'start': 80509306},\n",
              " 27: {'end': 86713710, 'start': 83527310},\n",
              " 28: {'end': 89955740, 'start': 86713710},\n",
              " 29: {'end': 93046035, 'start': 89955740},\n",
              " 30: {'end': 96206573, 'start': 93046035},\n",
              " 31: {'end': 99271300, 'start': 96206573}}"
            ]
          },
          "metadata": {
            "tags": []
          },
          "execution_count": 20
        }
      ]
    },
    {
      "cell_type": "markdown",
      "metadata": {
        "id": "CDlTZ-6prmdo"
      },
      "source": [
        "#### Lets process 1 Fold"
      ]
    },
    {
      "cell_type": "code",
      "metadata": {
        "colab": {
          "base_uri": "https://localhost:8080/",
          "height": 197
        },
        "id": "IxAC0f0BX-gd",
        "outputId": "812ec7e0-b955-4f88-97ec-c85f54c36328"
      },
      "source": [
        "fold = 3\n",
        "\n",
        "fold_df = table[folds_partitions[fold][\"start\"]:folds_partitions[fold][\"end\"], :].to_pandas()\n",
        "fold_df.head()"
      ],
      "execution_count": 21,
      "outputs": [
        {
          "output_type": "execute_result",
          "data": {
            "text/html": [
              "<div>\n",
              "<style scoped>\n",
              "    .dataframe tbody tr th:only-of-type {\n",
              "        vertical-align: middle;\n",
              "    }\n",
              "\n",
              "    .dataframe tbody tr th {\n",
              "        vertical-align: top;\n",
              "    }\n",
              "\n",
              "    .dataframe thead th {\n",
              "        text-align: right;\n",
              "    }\n",
              "</style>\n",
              "<table border=\"1\" class=\"dataframe\">\n",
              "  <thead>\n",
              "    <tr style=\"text-align: right;\">\n",
              "      <th></th>\n",
              "      <th>row_id</th>\n",
              "      <th>timestamp</th>\n",
              "      <th>user_id</th>\n",
              "      <th>content_id</th>\n",
              "      <th>content_type_id</th>\n",
              "      <th>task_container_id</th>\n",
              "      <th>user_answer</th>\n",
              "      <th>answered_correctly</th>\n",
              "      <th>prior_question_elapsed_time</th>\n",
              "      <th>prior_question_had_explanation</th>\n",
              "    </tr>\n",
              "  </thead>\n",
              "  <tbody>\n",
              "    <tr>\n",
              "      <th>0</th>\n",
              "      <td>9329569</td>\n",
              "      <td>0</td>\n",
              "      <td>202836341</td>\n",
              "      <td>4207</td>\n",
              "      <td>False</td>\n",
              "      <td>0</td>\n",
              "      <td>3</td>\n",
              "      <td>1</td>\n",
              "      <td>NaN</td>\n",
              "      <td>NaN</td>\n",
              "    </tr>\n",
              "    <tr>\n",
              "      <th>1</th>\n",
              "      <td>9329570</td>\n",
              "      <td>13323</td>\n",
              "      <td>202836341</td>\n",
              "      <td>4097</td>\n",
              "      <td>False</td>\n",
              "      <td>1</td>\n",
              "      <td>2</td>\n",
              "      <td>1</td>\n",
              "      <td>11000.0</td>\n",
              "      <td>False</td>\n",
              "    </tr>\n",
              "    <tr>\n",
              "      <th>2</th>\n",
              "      <td>9329571</td>\n",
              "      <td>27321</td>\n",
              "      <td>202836341</td>\n",
              "      <td>6659</td>\n",
              "      <td>False</td>\n",
              "      <td>2</td>\n",
              "      <td>1</td>\n",
              "      <td>0</td>\n",
              "      <td>9000.0</td>\n",
              "      <td>False</td>\n",
              "    </tr>\n",
              "    <tr>\n",
              "      <th>3</th>\n",
              "      <td>9329572</td>\n",
              "      <td>54416</td>\n",
              "      <td>202836341</td>\n",
              "      <td>6650</td>\n",
              "      <td>False</td>\n",
              "      <td>3</td>\n",
              "      <td>1</td>\n",
              "      <td>1</td>\n",
              "      <td>12000.0</td>\n",
              "      <td>False</td>\n",
              "    </tr>\n",
              "    <tr>\n",
              "      <th>4</th>\n",
              "      <td>9329573</td>\n",
              "      <td>74648</td>\n",
              "      <td>202836341</td>\n",
              "      <td>5653</td>\n",
              "      <td>False</td>\n",
              "      <td>4</td>\n",
              "      <td>2</td>\n",
              "      <td>0</td>\n",
              "      <td>24000.0</td>\n",
              "      <td>False</td>\n",
              "    </tr>\n",
              "  </tbody>\n",
              "</table>\n",
              "</div>"
            ],
            "text/plain": [
              "    row_id  ...  prior_question_had_explanation\n",
              "0  9329569  ...                             NaN\n",
              "1  9329570  ...                           False\n",
              "2  9329571  ...                           False\n",
              "3  9329572  ...                           False\n",
              "4  9329573  ...                           False\n",
              "\n",
              "[5 rows x 10 columns]"
            ]
          },
          "metadata": {
            "tags": []
          },
          "execution_count": 21
        }
      ]
    },
    {
      "cell_type": "code",
      "metadata": {
        "id": "EaUGrSmUma6s"
      },
      "source": [
        "dtypes_train = {\n",
        "    'row_id': 'int64',\n",
        "    'timestamp': 'int64',\n",
        "    'user_id': 'int32',\n",
        "    'content_id': 'int16',\n",
        "    'content_type_id': 'int8',\n",
        "    'task_container_id': 'int16',\n",
        "    'user_answer': 'int8',\n",
        "    'answered_correctly': 'int8',\n",
        "    'prior_question_elapsed_time': 'float32',\n",
        "    'prior_question_had_explanation': 'int8'\n",
        "    }\n",
        "\n",
        "dtypes_questions = {\n",
        "    \"question_id\": \"\",\n",
        "    \"bundle_id\": \"\",\n",
        "    \"correct_answer\": \"\",\n",
        "    \"part\": \"int16\",\n",
        "    \"tags\": \"\",\n",
        "}\n",
        "\n",
        "dtypes_lectures = {\n",
        "    \"lecture_id\": \"\",\n",
        "    \"part\": \"\",\n",
        "    \"tag\": \"\",\n",
        "    \"type_of\": \"\",\n",
        "}"
      ],
      "execution_count": 57,
      "outputs": []
    },
    {
      "cell_type": "markdown",
      "metadata": {
        "id": "9GrXbax8Lw4W"
      },
      "source": [
        "##### Loading the Question DF for features"
      ]
    },
    {
      "cell_type": "code",
      "metadata": {
        "colab": {
          "base_uri": "https://localhost:8080/",
          "height": 197
        },
        "id": "6NKlVKzxg5pz",
        "outputId": "2ebc4ba9-7853-4165-db46-1c79fd796722"
      },
      "source": [
        "DATA_PATH = 'gs://kds-e7d6db6554e83e3f4182aa828879e31bf5c122e568c9ee97ab5d891f'\n",
        "questions_df = pd.read_csv(DATA_PATH + \"/questions.csv\")\n",
        "questions_df.fillna(\"-1\", inplace=True) # tags Nan filled with -1\n",
        "questions_df.head()"
      ],
      "execution_count": 27,
      "outputs": [
        {
          "output_type": "execute_result",
          "data": {
            "text/html": [
              "<div>\n",
              "<style scoped>\n",
              "    .dataframe tbody tr th:only-of-type {\n",
              "        vertical-align: middle;\n",
              "    }\n",
              "\n",
              "    .dataframe tbody tr th {\n",
              "        vertical-align: top;\n",
              "    }\n",
              "\n",
              "    .dataframe thead th {\n",
              "        text-align: right;\n",
              "    }\n",
              "</style>\n",
              "<table border=\"1\" class=\"dataframe\">\n",
              "  <thead>\n",
              "    <tr style=\"text-align: right;\">\n",
              "      <th></th>\n",
              "      <th>question_id</th>\n",
              "      <th>bundle_id</th>\n",
              "      <th>correct_answer</th>\n",
              "      <th>part</th>\n",
              "      <th>tags</th>\n",
              "    </tr>\n",
              "  </thead>\n",
              "  <tbody>\n",
              "    <tr>\n",
              "      <th>0</th>\n",
              "      <td>0</td>\n",
              "      <td>0</td>\n",
              "      <td>0</td>\n",
              "      <td>1</td>\n",
              "      <td>51 131 162 38</td>\n",
              "    </tr>\n",
              "    <tr>\n",
              "      <th>1</th>\n",
              "      <td>1</td>\n",
              "      <td>1</td>\n",
              "      <td>1</td>\n",
              "      <td>1</td>\n",
              "      <td>131 36 81</td>\n",
              "    </tr>\n",
              "    <tr>\n",
              "      <th>2</th>\n",
              "      <td>2</td>\n",
              "      <td>2</td>\n",
              "      <td>0</td>\n",
              "      <td>1</td>\n",
              "      <td>131 101 162 92</td>\n",
              "    </tr>\n",
              "    <tr>\n",
              "      <th>3</th>\n",
              "      <td>3</td>\n",
              "      <td>3</td>\n",
              "      <td>0</td>\n",
              "      <td>1</td>\n",
              "      <td>131 149 162 29</td>\n",
              "    </tr>\n",
              "    <tr>\n",
              "      <th>4</th>\n",
              "      <td>4</td>\n",
              "      <td>4</td>\n",
              "      <td>3</td>\n",
              "      <td>1</td>\n",
              "      <td>131 5 162 38</td>\n",
              "    </tr>\n",
              "  </tbody>\n",
              "</table>\n",
              "</div>"
            ],
            "text/plain": [
              "   question_id  bundle_id  correct_answer  part            tags\n",
              "0            0          0               0     1   51 131 162 38\n",
              "1            1          1               1     1       131 36 81\n",
              "2            2          2               0     1  131 101 162 92\n",
              "3            3          3               0     1  131 149 162 29\n",
              "4            4          4               3     1    131 5 162 38"
            ]
          },
          "metadata": {
            "tags": []
          },
          "execution_count": 27
        }
      ]
    },
    {
      "cell_type": "code",
      "metadata": {
        "colab": {
          "base_uri": "https://localhost:8080/",
          "height": 287
        },
        "id": "4KCnuUL98uGO",
        "outputId": "6bd8ae5e-2e58-476c-fcc1-0a315c7f293c"
      },
      "source": [
        "questions_df.describe()"
      ],
      "execution_count": 28,
      "outputs": [
        {
          "output_type": "execute_result",
          "data": {
            "text/html": [
              "<div>\n",
              "<style scoped>\n",
              "    .dataframe tbody tr th:only-of-type {\n",
              "        vertical-align: middle;\n",
              "    }\n",
              "\n",
              "    .dataframe tbody tr th {\n",
              "        vertical-align: top;\n",
              "    }\n",
              "\n",
              "    .dataframe thead th {\n",
              "        text-align: right;\n",
              "    }\n",
              "</style>\n",
              "<table border=\"1\" class=\"dataframe\">\n",
              "  <thead>\n",
              "    <tr style=\"text-align: right;\">\n",
              "      <th></th>\n",
              "      <th>question_id</th>\n",
              "      <th>bundle_id</th>\n",
              "      <th>correct_answer</th>\n",
              "      <th>part</th>\n",
              "    </tr>\n",
              "  </thead>\n",
              "  <tbody>\n",
              "    <tr>\n",
              "      <th>count</th>\n",
              "      <td>13523.00000</td>\n",
              "      <td>13523.000000</td>\n",
              "      <td>13523.000000</td>\n",
              "      <td>13523.000000</td>\n",
              "    </tr>\n",
              "    <tr>\n",
              "      <th>mean</th>\n",
              "      <td>6761.00000</td>\n",
              "      <td>6760.510907</td>\n",
              "      <td>1.455298</td>\n",
              "      <td>4.264956</td>\n",
              "    </tr>\n",
              "    <tr>\n",
              "      <th>std</th>\n",
              "      <td>3903.89818</td>\n",
              "      <td>3903.857783</td>\n",
              "      <td>1.149707</td>\n",
              "      <td>1.652553</td>\n",
              "    </tr>\n",
              "    <tr>\n",
              "      <th>min</th>\n",
              "      <td>0.00000</td>\n",
              "      <td>0.000000</td>\n",
              "      <td>0.000000</td>\n",
              "      <td>1.000000</td>\n",
              "    </tr>\n",
              "    <tr>\n",
              "      <th>25%</th>\n",
              "      <td>3380.50000</td>\n",
              "      <td>3379.500000</td>\n",
              "      <td>0.000000</td>\n",
              "      <td>3.000000</td>\n",
              "    </tr>\n",
              "    <tr>\n",
              "      <th>50%</th>\n",
              "      <td>6761.00000</td>\n",
              "      <td>6761.000000</td>\n",
              "      <td>1.000000</td>\n",
              "      <td>5.000000</td>\n",
              "    </tr>\n",
              "    <tr>\n",
              "      <th>75%</th>\n",
              "      <td>10141.50000</td>\n",
              "      <td>10140.000000</td>\n",
              "      <td>3.000000</td>\n",
              "      <td>5.000000</td>\n",
              "    </tr>\n",
              "    <tr>\n",
              "      <th>max</th>\n",
              "      <td>13522.00000</td>\n",
              "      <td>13522.000000</td>\n",
              "      <td>3.000000</td>\n",
              "      <td>7.000000</td>\n",
              "    </tr>\n",
              "  </tbody>\n",
              "</table>\n",
              "</div>"
            ],
            "text/plain": [
              "       question_id     bundle_id  correct_answer          part\n",
              "count  13523.00000  13523.000000    13523.000000  13523.000000\n",
              "mean    6761.00000   6760.510907        1.455298      4.264956\n",
              "std     3903.89818   3903.857783        1.149707      1.652553\n",
              "min        0.00000      0.000000        0.000000      1.000000\n",
              "25%     3380.50000   3379.500000        0.000000      3.000000\n",
              "50%     6761.00000   6761.000000        1.000000      5.000000\n",
              "75%    10141.50000  10140.000000        3.000000      5.000000\n",
              "max    13522.00000  13522.000000        3.000000      7.000000"
            ]
          },
          "metadata": {
            "tags": []
          },
          "execution_count": 28
        }
      ]
    },
    {
      "cell_type": "code",
      "metadata": {
        "colab": {
          "base_uri": "https://localhost:8080/"
        },
        "id": "nn_QyKpaJGDm",
        "outputId": "26494d8b-42a7-425a-9936-e12b7cb2ded8"
      },
      "source": [
        "questions_df[\"part\"].unique()"
      ],
      "execution_count": 29,
      "outputs": [
        {
          "output_type": "execute_result",
          "data": {
            "text/plain": [
              "array([1, 2, 3, 4, 5, 6, 7])"
            ]
          },
          "metadata": {
            "tags": []
          },
          "execution_count": 29
        }
      ]
    },
    {
      "cell_type": "code",
      "metadata": {
        "id": "HCg8ZmSCUKxw",
        "colab": {
          "base_uri": "https://localhost:8080/"
        },
        "outputId": "caec924b-f24e-4f22-e9f4-c433ca0156a4"
      },
      "source": [
        "# embedding size for part\n",
        "embed_size_dict[\"part\"] = max(questions_df[\"part\"]) + 3\n",
        "embed_size_dict"
      ],
      "execution_count": 30,
      "outputs": [
        {
          "output_type": "execute_result",
          "data": {
            "text/plain": [
              "{'answered_correctly': 5,\n",
              " 'content_id': 13525,\n",
              " 'had_explanation': 5,\n",
              " 'part': 10,\n",
              " 'task_container_id': 10002}"
            ]
          },
          "metadata": {
            "tags": []
          },
          "execution_count": 30
        }
      ]
    },
    {
      "cell_type": "code",
      "metadata": {
        "colab": {
          "base_uri": "https://localhost:8080/"
        },
        "id": "awZoupc2JWVF",
        "outputId": "79bfc2ad-992e-4355-c688-dc42628a90f2"
      },
      "source": [
        "# embedding size for tags/skills\r\n",
        "from collections import Counter\r\n",
        "skill_count = Counter()\r\n",
        "\r\n",
        "for idx, row in questions_df.iterrows():\r\n",
        "  skill_count.update([int(x) for x in row[\"tags\"].split(\" \")])\r\n",
        "\r\n",
        "skill_count.most_common()[:5]"
      ],
      "execution_count": 31,
      "outputs": [
        {
          "output_type": "execute_result",
          "data": {
            "text/plain": [
              "[(92, 2269), (38, 2256), (81, 1969), (29, 1707), (136, 1033)]"
            ]
          },
          "metadata": {
            "tags": []
          },
          "execution_count": 31
        }
      ]
    },
    {
      "cell_type": "code",
      "metadata": {
        "colab": {
          "base_uri": "https://localhost:8080/"
        },
        "id": "QoODKLKXK0gt",
        "outputId": "1df37b13-8c08-45af-dcdc-b8f01058ba9f"
      },
      "source": [
        "max(skill_count.keys()) # -1 is there, needs to be replaced with FILL TOKEN"
      ],
      "execution_count": 35,
      "outputs": [
        {
          "output_type": "execute_result",
          "data": {
            "text/plain": [
              "187"
            ]
          },
          "metadata": {
            "tags": []
          },
          "execution_count": 35
        }
      ]
    },
    {
      "cell_type": "code",
      "metadata": {
        "colab": {
          "base_uri": "https://localhost:8080/"
        },
        "id": "jKV_GLfgKYyc",
        "outputId": "eec47864-2945-42c9-8c66-5ddeeb58fb40"
      },
      "source": [
        "embed_size_dict[\"tags\"] = max(skill_count.keys()) + 3\r\n",
        "embed_size_dict"
      ],
      "execution_count": 32,
      "outputs": [
        {
          "output_type": "execute_result",
          "data": {
            "text/plain": [
              "{'answered_correctly': 5,\n",
              " 'content_id': 13525,\n",
              " 'had_explanation': 5,\n",
              " 'part': 10,\n",
              " 'tags': 190,\n",
              " 'task_container_id': 10002}"
            ]
          },
          "metadata": {
            "tags": []
          },
          "execution_count": 32
        }
      ]
    },
    {
      "cell_type": "code",
      "metadata": {
        "id": "hiutNhgUVChx"
      },
      "source": [
        "# storing embedding size info for uploading to kaggle.\n",
        "!mkdir data\n",
        "with open(\"data/emb_sz.pkl\", \"wb\") as f:\n",
        "  pickle.dump(embed_size_dict, f)"
      ],
      "execution_count": 37,
      "outputs": []
    },
    {
      "cell_type": "code",
      "metadata": {
        "colab": {
          "base_uri": "https://localhost:8080/"
        },
        "id": "MNHfqcixL2Dc",
        "outputId": "532e029d-1276-458d-efdd-475592efa33a"
      },
      "source": [
        "len(fold_df)"
      ],
      "execution_count": 38,
      "outputs": [
        {
          "output_type": "execute_result",
          "data": {
            "text/plain": [
              "3034226"
            ]
          },
          "metadata": {
            "tags": []
          },
          "execution_count": 38
        }
      ]
    },
    {
      "cell_type": "code",
      "metadata": {
        "id": "p4kKJdJ6fqfS"
      },
      "source": [
        "# removing lecture rows. # already filtered in the table.\n",
        "fold_df = fold_df[fold_df.answered_correctly != -1]"
      ],
      "execution_count": 39,
      "outputs": []
    },
    {
      "cell_type": "code",
      "metadata": {
        "colab": {
          "base_uri": "https://localhost:8080/"
        },
        "id": "UTffAkaTL4_5",
        "outputId": "7e5ee7d8-a22e-4e31-fb97-95c93db58958"
      },
      "source": [
        "len(fold_df)"
      ],
      "execution_count": 40,
      "outputs": [
        {
          "output_type": "execute_result",
          "data": {
            "text/plain": [
              "3034226"
            ]
          },
          "metadata": {
            "tags": []
          },
          "execution_count": 40
        }
      ]
    },
    {
      "cell_type": "code",
      "metadata": {
        "colab": {
          "base_uri": "https://localhost:8080/",
          "height": 217
        },
        "id": "1ow1KY7uf0B_",
        "outputId": "566b9ebe-34dd-4ea9-9ba2-56508936d496"
      },
      "source": [
        "fold_df = fold_df.join(questions_df, on=\"content_id\")\n",
        "fold_df.head()"
      ],
      "execution_count": 41,
      "outputs": [
        {
          "output_type": "execute_result",
          "data": {
            "text/html": [
              "<div>\n",
              "<style scoped>\n",
              "    .dataframe tbody tr th:only-of-type {\n",
              "        vertical-align: middle;\n",
              "    }\n",
              "\n",
              "    .dataframe tbody tr th {\n",
              "        vertical-align: top;\n",
              "    }\n",
              "\n",
              "    .dataframe thead th {\n",
              "        text-align: right;\n",
              "    }\n",
              "</style>\n",
              "<table border=\"1\" class=\"dataframe\">\n",
              "  <thead>\n",
              "    <tr style=\"text-align: right;\">\n",
              "      <th></th>\n",
              "      <th>row_id</th>\n",
              "      <th>timestamp</th>\n",
              "      <th>user_id</th>\n",
              "      <th>content_id</th>\n",
              "      <th>content_type_id</th>\n",
              "      <th>task_container_id</th>\n",
              "      <th>user_answer</th>\n",
              "      <th>answered_correctly</th>\n",
              "      <th>prior_question_elapsed_time</th>\n",
              "      <th>prior_question_had_explanation</th>\n",
              "      <th>question_id</th>\n",
              "      <th>bundle_id</th>\n",
              "      <th>correct_answer</th>\n",
              "      <th>part</th>\n",
              "      <th>tags</th>\n",
              "    </tr>\n",
              "  </thead>\n",
              "  <tbody>\n",
              "    <tr>\n",
              "      <th>0</th>\n",
              "      <td>9329569</td>\n",
              "      <td>0</td>\n",
              "      <td>202836341</td>\n",
              "      <td>4207</td>\n",
              "      <td>False</td>\n",
              "      <td>0</td>\n",
              "      <td>3</td>\n",
              "      <td>1</td>\n",
              "      <td>NaN</td>\n",
              "      <td>NaN</td>\n",
              "      <td>4207</td>\n",
              "      <td>4207</td>\n",
              "      <td>3</td>\n",
              "      <td>5</td>\n",
              "      <td>89</td>\n",
              "    </tr>\n",
              "    <tr>\n",
              "      <th>1</th>\n",
              "      <td>9329570</td>\n",
              "      <td>13323</td>\n",
              "      <td>202836341</td>\n",
              "      <td>4097</td>\n",
              "      <td>False</td>\n",
              "      <td>1</td>\n",
              "      <td>2</td>\n",
              "      <td>1</td>\n",
              "      <td>11000.0</td>\n",
              "      <td>False</td>\n",
              "      <td>4097</td>\n",
              "      <td>4097</td>\n",
              "      <td>2</td>\n",
              "      <td>5</td>\n",
              "      <td>55</td>\n",
              "    </tr>\n",
              "    <tr>\n",
              "      <th>2</th>\n",
              "      <td>9329571</td>\n",
              "      <td>27321</td>\n",
              "      <td>202836341</td>\n",
              "      <td>6659</td>\n",
              "      <td>False</td>\n",
              "      <td>2</td>\n",
              "      <td>1</td>\n",
              "      <td>0</td>\n",
              "      <td>9000.0</td>\n",
              "      <td>False</td>\n",
              "      <td>6659</td>\n",
              "      <td>6659</td>\n",
              "      <td>3</td>\n",
              "      <td>5</td>\n",
              "      <td>53</td>\n",
              "    </tr>\n",
              "    <tr>\n",
              "      <th>3</th>\n",
              "      <td>9329572</td>\n",
              "      <td>54416</td>\n",
              "      <td>202836341</td>\n",
              "      <td>6650</td>\n",
              "      <td>False</td>\n",
              "      <td>3</td>\n",
              "      <td>1</td>\n",
              "      <td>1</td>\n",
              "      <td>12000.0</td>\n",
              "      <td>False</td>\n",
              "      <td>6650</td>\n",
              "      <td>6650</td>\n",
              "      <td>1</td>\n",
              "      <td>5</td>\n",
              "      <td>53</td>\n",
              "    </tr>\n",
              "    <tr>\n",
              "      <th>4</th>\n",
              "      <td>9329573</td>\n",
              "      <td>74648</td>\n",
              "      <td>202836341</td>\n",
              "      <td>5653</td>\n",
              "      <td>False</td>\n",
              "      <td>4</td>\n",
              "      <td>2</td>\n",
              "      <td>0</td>\n",
              "      <td>24000.0</td>\n",
              "      <td>False</td>\n",
              "      <td>5653</td>\n",
              "      <td>5653</td>\n",
              "      <td>1</td>\n",
              "      <td>5</td>\n",
              "      <td>96</td>\n",
              "    </tr>\n",
              "  </tbody>\n",
              "</table>\n",
              "</div>"
            ],
            "text/plain": [
              "    row_id  timestamp    user_id  ...  correct_answer  part  tags\n",
              "0  9329569          0  202836341  ...               3     5    89\n",
              "1  9329570      13323  202836341  ...               2     5    55\n",
              "2  9329571      27321  202836341  ...               3     5    53\n",
              "3  9329572      54416  202836341  ...               1     5    53\n",
              "4  9329573      74648  202836341  ...               1     5    96\n",
              "\n",
              "[5 rows x 15 columns]"
            ]
          },
          "metadata": {
            "tags": []
          },
          "execution_count": 41
        }
      ]
    },
    {
      "cell_type": "code",
      "metadata": {
        "colab": {
          "base_uri": "https://localhost:8080/",
          "height": 197
        },
        "id": "eYpNv0WBf7MJ",
        "outputId": "310e4765-466d-43a5-a6ad-395608f8b6e8"
      },
      "source": [
        "drop_cols = [\n",
        "             \"row_id\", \n",
        "             \"content_type_id\", \n",
        "             \"user_answer\", \n",
        "             \"question_id\", \n",
        "             \"bundle_id\", \n",
        "             \"correct_answer\", \n",
        "             ]\n",
        "fold_df = fold_df.drop(drop_cols, axis=1)\n",
        "fold_df.head()"
      ],
      "execution_count": 42,
      "outputs": [
        {
          "output_type": "execute_result",
          "data": {
            "text/html": [
              "<div>\n",
              "<style scoped>\n",
              "    .dataframe tbody tr th:only-of-type {\n",
              "        vertical-align: middle;\n",
              "    }\n",
              "\n",
              "    .dataframe tbody tr th {\n",
              "        vertical-align: top;\n",
              "    }\n",
              "\n",
              "    .dataframe thead th {\n",
              "        text-align: right;\n",
              "    }\n",
              "</style>\n",
              "<table border=\"1\" class=\"dataframe\">\n",
              "  <thead>\n",
              "    <tr style=\"text-align: right;\">\n",
              "      <th></th>\n",
              "      <th>timestamp</th>\n",
              "      <th>user_id</th>\n",
              "      <th>content_id</th>\n",
              "      <th>task_container_id</th>\n",
              "      <th>answered_correctly</th>\n",
              "      <th>prior_question_elapsed_time</th>\n",
              "      <th>prior_question_had_explanation</th>\n",
              "      <th>part</th>\n",
              "      <th>tags</th>\n",
              "    </tr>\n",
              "  </thead>\n",
              "  <tbody>\n",
              "    <tr>\n",
              "      <th>0</th>\n",
              "      <td>0</td>\n",
              "      <td>202836341</td>\n",
              "      <td>4207</td>\n",
              "      <td>0</td>\n",
              "      <td>1</td>\n",
              "      <td>NaN</td>\n",
              "      <td>NaN</td>\n",
              "      <td>5</td>\n",
              "      <td>89</td>\n",
              "    </tr>\n",
              "    <tr>\n",
              "      <th>1</th>\n",
              "      <td>13323</td>\n",
              "      <td>202836341</td>\n",
              "      <td>4097</td>\n",
              "      <td>1</td>\n",
              "      <td>1</td>\n",
              "      <td>11000.0</td>\n",
              "      <td>False</td>\n",
              "      <td>5</td>\n",
              "      <td>55</td>\n",
              "    </tr>\n",
              "    <tr>\n",
              "      <th>2</th>\n",
              "      <td>27321</td>\n",
              "      <td>202836341</td>\n",
              "      <td>6659</td>\n",
              "      <td>2</td>\n",
              "      <td>0</td>\n",
              "      <td>9000.0</td>\n",
              "      <td>False</td>\n",
              "      <td>5</td>\n",
              "      <td>53</td>\n",
              "    </tr>\n",
              "    <tr>\n",
              "      <th>3</th>\n",
              "      <td>54416</td>\n",
              "      <td>202836341</td>\n",
              "      <td>6650</td>\n",
              "      <td>3</td>\n",
              "      <td>1</td>\n",
              "      <td>12000.0</td>\n",
              "      <td>False</td>\n",
              "      <td>5</td>\n",
              "      <td>53</td>\n",
              "    </tr>\n",
              "    <tr>\n",
              "      <th>4</th>\n",
              "      <td>74648</td>\n",
              "      <td>202836341</td>\n",
              "      <td>5653</td>\n",
              "      <td>4</td>\n",
              "      <td>0</td>\n",
              "      <td>24000.0</td>\n",
              "      <td>False</td>\n",
              "      <td>5</td>\n",
              "      <td>96</td>\n",
              "    </tr>\n",
              "  </tbody>\n",
              "</table>\n",
              "</div>"
            ],
            "text/plain": [
              "   timestamp    user_id  content_id  ...  prior_question_had_explanation  part  tags\n",
              "0          0  202836341        4207  ...                             NaN     5    89\n",
              "1      13323  202836341        4097  ...                           False     5    55\n",
              "2      27321  202836341        6659  ...                           False     5    53\n",
              "3      54416  202836341        6650  ...                           False     5    53\n",
              "4      74648  202836341        5653  ...                           False     5    96\n",
              "\n",
              "[5 rows x 9 columns]"
            ]
          },
          "metadata": {
            "tags": []
          },
          "execution_count": 42
        }
      ]
    },
    {
      "cell_type": "code",
      "metadata": {
        "colab": {
          "base_uri": "https://localhost:8080/",
          "height": 197
        },
        "id": "4Io_MvtGgEa5",
        "outputId": "2444e939-f988-43d5-d97b-57829a07ed19"
      },
      "source": [
        "# 0, 1, 2 are special tokens, so increment 3\n",
        "indicator_cols = [\"content_id\", \"task_container_id\", \"part\", \"answered_correctly\", \"prior_question_had_explanation\"]\n",
        "for c in indicator_cols:\n",
        "  fold_df[c] = fold_df[c] + 3\n",
        "fold_df.head()"
      ],
      "execution_count": 43,
      "outputs": [
        {
          "output_type": "execute_result",
          "data": {
            "text/html": [
              "<div>\n",
              "<style scoped>\n",
              "    .dataframe tbody tr th:only-of-type {\n",
              "        vertical-align: middle;\n",
              "    }\n",
              "\n",
              "    .dataframe tbody tr th {\n",
              "        vertical-align: top;\n",
              "    }\n",
              "\n",
              "    .dataframe thead th {\n",
              "        text-align: right;\n",
              "    }\n",
              "</style>\n",
              "<table border=\"1\" class=\"dataframe\">\n",
              "  <thead>\n",
              "    <tr style=\"text-align: right;\">\n",
              "      <th></th>\n",
              "      <th>timestamp</th>\n",
              "      <th>user_id</th>\n",
              "      <th>content_id</th>\n",
              "      <th>task_container_id</th>\n",
              "      <th>answered_correctly</th>\n",
              "      <th>prior_question_elapsed_time</th>\n",
              "      <th>prior_question_had_explanation</th>\n",
              "      <th>part</th>\n",
              "      <th>tags</th>\n",
              "    </tr>\n",
              "  </thead>\n",
              "  <tbody>\n",
              "    <tr>\n",
              "      <th>0</th>\n",
              "      <td>0</td>\n",
              "      <td>202836341</td>\n",
              "      <td>4210</td>\n",
              "      <td>3</td>\n",
              "      <td>4</td>\n",
              "      <td>NaN</td>\n",
              "      <td>NaN</td>\n",
              "      <td>8</td>\n",
              "      <td>89</td>\n",
              "    </tr>\n",
              "    <tr>\n",
              "      <th>1</th>\n",
              "      <td>13323</td>\n",
              "      <td>202836341</td>\n",
              "      <td>4100</td>\n",
              "      <td>4</td>\n",
              "      <td>4</td>\n",
              "      <td>11000.0</td>\n",
              "      <td>3</td>\n",
              "      <td>8</td>\n",
              "      <td>55</td>\n",
              "    </tr>\n",
              "    <tr>\n",
              "      <th>2</th>\n",
              "      <td>27321</td>\n",
              "      <td>202836341</td>\n",
              "      <td>6662</td>\n",
              "      <td>5</td>\n",
              "      <td>3</td>\n",
              "      <td>9000.0</td>\n",
              "      <td>3</td>\n",
              "      <td>8</td>\n",
              "      <td>53</td>\n",
              "    </tr>\n",
              "    <tr>\n",
              "      <th>3</th>\n",
              "      <td>54416</td>\n",
              "      <td>202836341</td>\n",
              "      <td>6653</td>\n",
              "      <td>6</td>\n",
              "      <td>4</td>\n",
              "      <td>12000.0</td>\n",
              "      <td>3</td>\n",
              "      <td>8</td>\n",
              "      <td>53</td>\n",
              "    </tr>\n",
              "    <tr>\n",
              "      <th>4</th>\n",
              "      <td>74648</td>\n",
              "      <td>202836341</td>\n",
              "      <td>5656</td>\n",
              "      <td>7</td>\n",
              "      <td>3</td>\n",
              "      <td>24000.0</td>\n",
              "      <td>3</td>\n",
              "      <td>8</td>\n",
              "      <td>96</td>\n",
              "    </tr>\n",
              "  </tbody>\n",
              "</table>\n",
              "</div>"
            ],
            "text/plain": [
              "   timestamp    user_id  content_id  ...  prior_question_had_explanation  part  tags\n",
              "0          0  202836341        4210  ...                             NaN     8    89\n",
              "1      13323  202836341        4100  ...                               3     8    55\n",
              "2      27321  202836341        6662  ...                               3     8    53\n",
              "3      54416  202836341        6653  ...                               3     8    53\n",
              "4      74648  202836341        5656  ...                               3     8    96\n",
              "\n",
              "[5 rows x 9 columns]"
            ]
          },
          "metadata": {
            "tags": []
          },
          "execution_count": 43
        }
      ]
    },
    {
      "cell_type": "code",
      "metadata": {
        "colab": {
          "base_uri": "https://localhost:8080/",
          "height": 197
        },
        "id": "32Fqwus9PSIq",
        "outputId": "7f4f26a7-0551-48a9-fa22-a53e42f8a0b6"
      },
      "source": [
        "fold_df[\"tags\"] = fold_df[\"tags\"].apply(lambda row: \" \".join([str(int(x)+3) for x in row.split(\" \")]))\r\n",
        "fold_df.head()"
      ],
      "execution_count": 49,
      "outputs": [
        {
          "output_type": "execute_result",
          "data": {
            "text/html": [
              "<div>\n",
              "<style scoped>\n",
              "    .dataframe tbody tr th:only-of-type {\n",
              "        vertical-align: middle;\n",
              "    }\n",
              "\n",
              "    .dataframe tbody tr th {\n",
              "        vertical-align: top;\n",
              "    }\n",
              "\n",
              "    .dataframe thead th {\n",
              "        text-align: right;\n",
              "    }\n",
              "</style>\n",
              "<table border=\"1\" class=\"dataframe\">\n",
              "  <thead>\n",
              "    <tr style=\"text-align: right;\">\n",
              "      <th></th>\n",
              "      <th>timestamp</th>\n",
              "      <th>user_id</th>\n",
              "      <th>content_id</th>\n",
              "      <th>task_container_id</th>\n",
              "      <th>answered_correctly</th>\n",
              "      <th>prior_question_elapsed_time</th>\n",
              "      <th>prior_question_had_explanation</th>\n",
              "      <th>part</th>\n",
              "      <th>tags</th>\n",
              "    </tr>\n",
              "  </thead>\n",
              "  <tbody>\n",
              "    <tr>\n",
              "      <th>0</th>\n",
              "      <td>0</td>\n",
              "      <td>202836341</td>\n",
              "      <td>4210</td>\n",
              "      <td>3</td>\n",
              "      <td>4</td>\n",
              "      <td>NaN</td>\n",
              "      <td>NaN</td>\n",
              "      <td>8</td>\n",
              "      <td>92</td>\n",
              "    </tr>\n",
              "    <tr>\n",
              "      <th>1</th>\n",
              "      <td>13323</td>\n",
              "      <td>202836341</td>\n",
              "      <td>4100</td>\n",
              "      <td>4</td>\n",
              "      <td>4</td>\n",
              "      <td>11000.0</td>\n",
              "      <td>3</td>\n",
              "      <td>8</td>\n",
              "      <td>58</td>\n",
              "    </tr>\n",
              "    <tr>\n",
              "      <th>2</th>\n",
              "      <td>27321</td>\n",
              "      <td>202836341</td>\n",
              "      <td>6662</td>\n",
              "      <td>5</td>\n",
              "      <td>3</td>\n",
              "      <td>9000.0</td>\n",
              "      <td>3</td>\n",
              "      <td>8</td>\n",
              "      <td>56</td>\n",
              "    </tr>\n",
              "    <tr>\n",
              "      <th>3</th>\n",
              "      <td>54416</td>\n",
              "      <td>202836341</td>\n",
              "      <td>6653</td>\n",
              "      <td>6</td>\n",
              "      <td>4</td>\n",
              "      <td>12000.0</td>\n",
              "      <td>3</td>\n",
              "      <td>8</td>\n",
              "      <td>56</td>\n",
              "    </tr>\n",
              "    <tr>\n",
              "      <th>4</th>\n",
              "      <td>74648</td>\n",
              "      <td>202836341</td>\n",
              "      <td>5656</td>\n",
              "      <td>7</td>\n",
              "      <td>3</td>\n",
              "      <td>24000.0</td>\n",
              "      <td>3</td>\n",
              "      <td>8</td>\n",
              "      <td>99</td>\n",
              "    </tr>\n",
              "  </tbody>\n",
              "</table>\n",
              "</div>"
            ],
            "text/plain": [
              "   timestamp    user_id  content_id  ...  prior_question_had_explanation  part  tags\n",
              "0          0  202836341        4210  ...                             NaN     8    92\n",
              "1      13323  202836341        4100  ...                               3     8    58\n",
              "2      27321  202836341        6662  ...                               3     8    56\n",
              "3      54416  202836341        6653  ...                               3     8    56\n",
              "4      74648  202836341        5656  ...                               3     8    99\n",
              "\n",
              "[5 rows x 9 columns]"
            ]
          },
          "metadata": {
            "tags": []
          },
          "execution_count": 49
        }
      ]
    },
    {
      "cell_type": "code",
      "metadata": {
        "id": "ougUyIlq6BKc"
      },
      "source": [
        "# convert milliseconds to minutes.\n",
        "# fold_df['prior_question_elapsed_time'] = fold_df[\"prior_question_elapsed_time\"].fillna(0).astype(np.float32) / 60000"
      ],
      "execution_count": null,
      "outputs": []
    },
    {
      "cell_type": "code",
      "metadata": {
        "colab": {
          "base_uri": "https://localhost:8080/"
        },
        "id": "x9hRrJ1bQ34x",
        "outputId": "c335aae9-5796-4560-b772-ef26eaf198b7"
      },
      "source": [
        "fold_df[\"prior_question_elapsed_time\"].shift(-1, fill_value=-1)"
      ],
      "execution_count": 53,
      "outputs": [
        {
          "output_type": "execute_result",
          "data": {
            "text/plain": [
              "0          11000.0\n",
              "1           9000.0\n",
              "2          12000.0\n",
              "3          24000.0\n",
              "4          18000.0\n",
              "            ...   \n",
              "3034221    30000.0\n",
              "3034222    22000.0\n",
              "3034223    16000.0\n",
              "3034224    24000.0\n",
              "3034225       -1.0\n",
              "Name: prior_question_elapsed_time, Length: 3034226, dtype: float64"
            ]
          },
          "metadata": {
            "tags": []
          },
          "execution_count": 53
        }
      ]
    },
    {
      "cell_type": "code",
      "metadata": {
        "colab": {
          "base_uri": "https://localhost:8080/"
        },
        "id": "HEbZliM3mgF5",
        "outputId": "b0c4cfd4-534b-4195-b1bf-02e7ed7388fd"
      },
      "source": [
        "user_groups = fold_df.groupby(\"user_id\")\n",
        "user_groups_arr = user_groups.apply(\n",
        "    lambda rows: (\n",
        "        rows[\"timestamp\"].values.astype(dtypes_train[\"timestamp\"]),\n",
        "        rows[\"content_id\"].values.astype(dtypes_train[\"content_id\"]), \n",
        "        rows[\"task_container_id\"].values.astype(dtypes_train[\"task_container_id\"]), \n",
        "        rows[\"prior_question_elapsed_time\"].shift(-1, fill_value=-1).values.astype(dtypes_train[\"prior_question_elapsed_time\"]), # last question for the user doesnt have elapsed time. fill with -1\n",
        "        rows[\"prior_question_had_explanation\"].shift(-1, fill_value=2).values.astype(dtypes_train[\"prior_question_had_explanation\"]), # last question for the user doesnt have \"had_explanation\". fill with 2\n",
        "        rows[\"part\"].values.astype(dtypes_questions[\"part\"]),\n",
        "        rows[\"tags\"].values,\n",
        "        rows[\"answered_correctly\"].values.astype(dtypes_train[\"answered_correctly\"]),\n",
        "        )\n",
        "    )\n",
        "user_groups_arr"
      ],
      "execution_count": 264,
      "outputs": [
        {
          "output_type": "execute_result",
          "data": {
            "text/plain": [
              "user_id\n",
              "202836341    ([0, 13323, 27321, 54416, 74648, 98153, 124582...\n",
              "202838719    ([0, 20765, 34470, 53561, 143508, 143508, 1435...\n",
              "202840484    ([0, 25519, 51157, 69732, 142880, 142880, 1428...\n",
              "202846170    ([0, 46330283, 46370059, 46405738, 46463023, 4...\n",
              "202846211    ([0, 18215, 56847, 97923, 119309, 130868, 1593...\n",
              "                                   ...                        \n",
              "270318132    ([0, 23337, 47339, 67200, 144138, 144138, 1441...\n",
              "270336415    ([0, 26062, 54909, 74292, 160420, 160420, 1604...\n",
              "270342519    ([0, 24870, 42015, 59003, 2351562520, 23515625...\n",
              "270348524    ([0, 54456, 74629, 96746, 113878, 155274, 1697...\n",
              "270349461    ([0, 33316, 60163, 84567, 115328, 153216, 1728...\n",
              "Length: 12302, dtype: object"
            ]
          },
          "metadata": {
            "tags": []
          },
          "execution_count": 264
        }
      ]
    },
    {
      "cell_type": "code",
      "metadata": {
        "colab": {
          "base_uri": "https://localhost:8080/"
        },
        "id": "7xdV8_NcvOxH",
        "outputId": "e9506391-3850-40b9-eb65-953f40d96030"
      },
      "source": [
        "# Inserting START TOKEN before every feature\r\n",
        "START_TOKEN = 1\r\n",
        "user_groups_arr  = user_groups_arr.apply(\r\n",
        "    lambda row: (\r\n",
        "        np.insert(row[0], 0, START_TOKEN), # timestamp\r\n",
        "        np.insert(row[1], 0, START_TOKEN), # content_id\r\n",
        "        np.insert(row[2], 0, START_TOKEN), # task_container_id\r\n",
        "        np.insert(row[3], 0, START_TOKEN), # prior_question_elapsed_time\r\n",
        "        np.insert(row[4], 0, START_TOKEN), # prior_question_had_explanation\r\n",
        "        np.insert(row[5], 0, START_TOKEN), # part\r\n",
        "        np.insert(row[6], 0, str(START_TOKEN)), # tags\r\n",
        "        np.insert(row[7], 0, START_TOKEN), # answered_correctly\r\n",
        "        )\r\n",
        "    )\r\n",
        "user_groups_arr,"
      ],
      "execution_count": 265,
      "outputs": [
        {
          "output_type": "execute_result",
          "data": {
            "text/plain": [
              "(user_id\n",
              " 202836341    ([1, 0, 13323, 27321, 54416, 74648, 98153, 124...\n",
              " 202838719    ([1, 0, 20765, 34470, 53561, 143508, 143508, 1...\n",
              " 202840484    ([1, 0, 25519, 51157, 69732, 142880, 142880, 1...\n",
              " 202846170    ([1, 0, 46330283, 46370059, 46405738, 46463023...\n",
              " 202846211    ([1, 0, 18215, 56847, 97923, 119309, 130868, 1...\n",
              "                                    ...                        \n",
              " 270318132    ([1, 0, 23337, 47339, 67200, 144138, 144138, 1...\n",
              " 270336415    ([1, 0, 26062, 54909, 74292, 160420, 160420, 1...\n",
              " 270342519    ([1, 0, 24870, 42015, 59003, 2351562520, 23515...\n",
              " 270348524    ([1, 0, 54456, 74629, 96746, 113878, 155274, 1...\n",
              " 270349461    ([1, 0, 33316, 60163, 84567, 115328, 153216, 1...\n",
              " Length: 12302, dtype: object,)"
            ]
          },
          "metadata": {
            "tags": []
          },
          "execution_count": 265
        }
      ]
    },
    {
      "cell_type": "code",
      "metadata": {
        "colab": {
          "base_uri": "https://localhost:8080/"
        },
        "id": "qTaj6BdEpHbN",
        "outputId": "de51e313-11da-4202-d08e-de57fa08f6e5"
      },
      "source": [
        "user_groups_arr[202836341][0] # timestamp, # notice the START TOKEN 1"
      ],
      "execution_count": 266,
      "outputs": [
        {
          "output_type": "execute_result",
          "data": {
            "text/plain": [
              "array([        1,         0,     13323,     27321,     54416,     74648,\n",
              "           98153,    124582,    441080,    529206,    614479,    659124,\n",
              "          725671,    797211,    856950,    947630,   1013574,   1050703,\n",
              "         1138335,   1190778,   1268457,   1328690,   1407451,   1490639,\n",
              "         1530949,   1597977,   1661693,   1737007,  22591286,  22681611,\n",
              "        22747917, 146599675, 146671224, 146708991, 146739735, 146771695,\n",
              "       146801927, 146836636])"
            ]
          },
          "metadata": {
            "tags": []
          },
          "execution_count": 266
        }
      ]
    },
    {
      "cell_type": "code",
      "metadata": {
        "colab": {
          "base_uri": "https://localhost:8080/"
        },
        "id": "2GtIVpUMqlq4",
        "outputId": "b197fbc0-1385-4e4f-b053-508070c2fb08"
      },
      "source": [
        "user_groups_arr[202836341][1] # content_id"
      ],
      "execution_count": 267,
      "outputs": [
        {
          "output_type": "execute_result",
          "data": {
            "text/plain": [
              "array([    1,  4210,  4100,  6662,  6653,  5656,  9696,  5655,   529,\n",
              "         660,   388, 10690,  1377,   914,   221, 10689,   887,  1153,\n",
              "        5720,  3876,  4676,  8357,  6678,  4001,  5459,  8907,  4263,\n",
              "        4981,  6477,  9374,  6254,  6456,  3685,  9454,  3804,  5585,\n",
              "        4461,  9600], dtype=int16)"
            ]
          },
          "metadata": {
            "tags": []
          },
          "execution_count": 267
        }
      ]
    },
    {
      "cell_type": "code",
      "metadata": {
        "colab": {
          "base_uri": "https://localhost:8080/"
        },
        "id": "F4AV7kJm9DKz",
        "outputId": "35a4fde1-63e6-4fc8-fd21-3f589c7a134d"
      },
      "source": [
        "user_groups_arr[202836341][2] # task_container_id"
      ],
      "execution_count": 268,
      "outputs": [
        {
          "output_type": "execute_result",
          "data": {
            "text/plain": [
              "array([ 1,  3,  4,  5,  6,  7,  8,  9, 10, 11, 12, 13, 14, 15, 16, 17, 18,\n",
              "       19, 20, 21, 22, 23, 24, 25, 26, 27, 28, 29, 30, 31, 32, 33, 34, 35,\n",
              "       36, 37, 38, 39], dtype=int16)"
            ]
          },
          "metadata": {
            "tags": []
          },
          "execution_count": 268
        }
      ]
    },
    {
      "cell_type": "code",
      "metadata": {
        "colab": {
          "base_uri": "https://localhost:8080/"
        },
        "id": "ZQk4niyR9Lvw",
        "outputId": "4a77c7bc-063a-4294-b9b3-3364c64e1a47"
      },
      "source": [
        "user_groups_arr[202836341][3] # prior_question_elapsed_time"
      ],
      "execution_count": 269,
      "outputs": [
        {
          "output_type": "execute_result",
          "data": {
            "text/plain": [
              "array([ 1.0e+00,  1.1e+04,  9.0e+03,  1.2e+04,  2.4e+04,  1.8e+04,\n",
              "        2.1e+04,  2.4e+04,  2.8e+04,  1.7e+04,  3.9e+04,  1.7e+04,\n",
              "        2.0e+04,  1.6e+04,  1.7e+04,  2.2e+04,  1.6e+04,  1.4e+04,\n",
              "        9.0e+03,  1.7e+04,  2.2e+04,  1.2e+04,  1.5e+04,  1.7e+04,\n",
              "        1.2e+04,  1.3e+04,  1.5e+04,  2.1e+04,  3.9e+04,  2.5e+04,\n",
              "        1.2e+04,  1.4e+04,  2.3e+04,  1.1e+04,  1.5e+04,  1.7e+04,\n",
              "        1.7e+04, -1.0e+00], dtype=float32)"
            ]
          },
          "metadata": {
            "tags": []
          },
          "execution_count": 269
        }
      ]
    },
    {
      "cell_type": "code",
      "metadata": {
        "colab": {
          "base_uri": "https://localhost:8080/"
        },
        "id": "LMVTGstljyKz",
        "outputId": "22dc75bc-9476-4f2b-b66c-ad14882aae12"
      },
      "source": [
        "user_groups_arr[202836341][4] # prior_question_had_explanation"
      ],
      "execution_count": 270,
      "outputs": [
        {
          "output_type": "execute_result",
          "data": {
            "text/plain": [
              "array([1, 3, 3, 3, 3, 3, 3, 3, 4, 4, 4, 4, 4, 4, 4, 4, 4, 4, 4, 4, 4, 4,\n",
              "       4, 4, 4, 4, 4, 4, 4, 4, 4, 4, 4, 4, 4, 4, 4, 2], dtype=int8)"
            ]
          },
          "metadata": {
            "tags": []
          },
          "execution_count": 270
        }
      ]
    },
    {
      "cell_type": "code",
      "metadata": {
        "colab": {
          "base_uri": "https://localhost:8080/"
        },
        "id": "sZb39AtGkBAv",
        "outputId": "a43fda6f-7e8f-469a-9c2a-a7b4f1bde82c"
      },
      "source": [
        "user_groups_arr[202836341][5] # part"
      ],
      "execution_count": 271,
      "outputs": [
        {
          "output_type": "execute_result",
          "data": {
            "text/plain": [
              "array([1, 8, 8, 8, 8, 8, 8, 8, 5, 5, 5, 5, 5, 5, 5, 5, 5, 5, 8, 8, 8, 8,\n",
              "       8, 8, 8, 8, 8, 8, 8, 8, 8, 8, 8, 8, 8, 8, 8, 8], dtype=int16)"
            ]
          },
          "metadata": {
            "tags": []
          },
          "execution_count": 271
        }
      ]
    },
    {
      "cell_type": "code",
      "metadata": {
        "colab": {
          "base_uri": "https://localhost:8080/"
        },
        "id": "gL4r_TCCSzFK",
        "outputId": "1f1dcea2-de8f-433d-a5f9-e9751af1390d"
      },
      "source": [
        "user_groups_arr[202836341][6] # tags"
      ],
      "execution_count": 272,
      "outputs": [
        {
          "output_type": "execute_result",
          "data": {
            "text/plain": [
              "array(['1', '92', '58', '56', '56', '99', '58', '99',\n",
              "       '158 166 165 95 105', '65 93 103 165 41 95', '141 44 95 32',\n",
              "       '65 140 145 84 95', '72 140 91 84 32', '146 23 41 32',\n",
              "       '140 91 32 105', '65 140 145 41 32', '132 146 33 41 84',\n",
              "       '146 23 84 32', '88', '126', '82', '76', '128', '169', '112', '99',\n",
              "       '46', '169', '176', '99', '162', '52', '58', '112', '11', '57',\n",
              "       '131', '76'], dtype=object)"
            ]
          },
          "metadata": {
            "tags": []
          },
          "execution_count": 272
        }
      ]
    },
    {
      "cell_type": "code",
      "metadata": {
        "colab": {
          "base_uri": "https://localhost:8080/"
        },
        "id": "MuBxmIi8S6Ls",
        "outputId": "c8078c31-ece4-4e83-fe47-506b8074ee09"
      },
      "source": [
        "user_groups_arr[202836341][7] # answered_correctly"
      ],
      "execution_count": 273,
      "outputs": [
        {
          "output_type": "execute_result",
          "data": {
            "text/plain": [
              "array([1, 4, 4, 3, 4, 3, 3, 3, 4, 4, 4, 4, 4, 4, 4, 3, 4, 4, 3, 3, 4, 4,\n",
              "       4, 4, 4, 4, 3, 4, 4, 3, 4, 3, 3, 4, 4, 4, 4, 3], dtype=int8)"
            ]
          },
          "metadata": {
            "tags": []
          },
          "execution_count": 273
        }
      ]
    },
    {
      "cell_type": "code",
      "metadata": {
        "colab": {
          "base_uri": "https://localhost:8080/"
        },
        "id": "pgAq00I_mHaC",
        "outputId": "4ba1423b-4854-4d67-e764-0c509481d367"
      },
      "source": [
        "for i in range(8):\n",
        "  print(user_groups_arr[202836341][i].dtype)"
      ],
      "execution_count": 274,
      "outputs": [
        {
          "output_type": "stream",
          "text": [
            "int64\n",
            "int16\n",
            "int16\n",
            "float32\n",
            "int8\n",
            "int16\n",
            "object\n",
            "int8\n"
          ],
          "name": "stdout"
        }
      ]
    },
    {
      "cell_type": "code",
      "metadata": {
        "id": "3yOiMZ-fmwqx"
      },
      "source": [
        "def _bytes_feature(value):\n",
        "  \"\"\"Returns a bytes_list from a string / byte.\"\"\"\n",
        "  if isinstance(value, type(tf.constant(0))):\n",
        "    value = value.numpy() # BytesList won't unpack a string from an EagerTensor.\n",
        "  return tf.train.Feature(bytes_list=tf.train.BytesList(value=[value]))\n",
        "\n",
        "def _float_feature(value):\n",
        "  \"\"\"Returns a float_list from a float / double.\"\"\"\n",
        "  return tf.train.Feature(float_list=tf.train.FloatList(value=[value]))\n",
        "\n",
        "def _int64_feature(value):\n",
        "  \"\"\"Returns an int64_list from a bool / enum / int / uint.\"\"\"\n",
        "  return tf.train.Feature(int64_list=tf.train.Int64List(value=[value]))"
      ],
      "execution_count": 275,
      "outputs": []
    },
    {
      "cell_type": "code",
      "metadata": {
        "id": "jEHEYPm_nGf8"
      },
      "source": [
        "def serialize_example(user_arr):\n",
        "  feature = {\n",
        "      \"timestamp\": _bytes_feature(tf.io.serialize_tensor(user_arr[0])),\n",
        "      \"content_id\": _bytes_feature(tf.io.serialize_tensor(user_arr[1])),\n",
        "      \"task_container_id\": _bytes_feature(tf.io.serialize_tensor(user_arr[2])),\n",
        "      \"elapsed_time\": _bytes_feature(tf.io.serialize_tensor(user_arr[3])),\n",
        "      \"had_explanation\": _bytes_feature(tf.io.serialize_tensor(user_arr[4])),\n",
        "      \"part\": _bytes_feature(tf.io.serialize_tensor(user_arr[5])),\n",
        "      \"tags\": _bytes_feature(tf.io.serialize_tensor(user_arr[6])),\n",
        "      \"answered_correctly\": _bytes_feature(tf.io.serialize_tensor(user_arr[7])),\n",
        "  }\n",
        "  proto_example = tf.train.Example(features=tf.train.Features(feature=feature))\n",
        "  serialized_example = proto_example.SerializeToString()\n",
        "  return serialized_example"
      ],
      "execution_count": 276,
      "outputs": []
    },
    {
      "cell_type": "code",
      "metadata": {
        "id": "6r3vADg98JG4"
      },
      "source": [
        "feature_desc = {\n",
        "    \"timestamp\": tf.io.FixedLenFeature([], tf.string),\n",
        "    \"content_id\": tf.io.FixedLenFeature([], tf.string),\n",
        "    \"task_container_id\": tf.io.FixedLenFeature([], tf.string),\n",
        "    \"elapsed_time\": tf.io.FixedLenFeature([], tf.string),\n",
        "    \"had_explanation\": tf.io.FixedLenFeature([], tf.string),\n",
        "    \"part\": tf.io.FixedLenFeature([], tf.string),\n",
        "    \"tags\": tf.io.FixedLenFeature([], tf.string),\n",
        "    \"answered_correctly\": tf.io.FixedLenFeature([], tf.string),\n",
        "}"
      ],
      "execution_count": 277,
      "outputs": []
    },
    {
      "cell_type": "code",
      "metadata": {
        "id": "xqOLG1BXn1Qo"
      },
      "source": [
        "def create_tfrecords_from_user_groups(user_groups_arr, part):\n",
        "\n",
        "  with tf.io.TFRecordWriter(f\"data/tfrec_{part}.tfrec\") as writer:\n",
        "    for user_arr in user_groups_arr:\n",
        "      example = serialize_example(user_arr)\n",
        "\n",
        "      writer.write(example)"
      ],
      "execution_count": 278,
      "outputs": []
    },
    {
      "cell_type": "code",
      "metadata": {
        "id": "PvpJoGylobji"
      },
      "source": [
        "create_tfrecords_from_user_groups(user_groups_arr, 0)"
      ],
      "execution_count": 279,
      "outputs": []
    },
    {
      "cell_type": "markdown",
      "metadata": {
        "id": "jEcvazp-acpD"
      },
      "source": [
        "### Read TFRecords and Create TF Dataset"
      ]
    },
    {
      "cell_type": "code",
      "metadata": {
        "id": "_YvUwAkOapdL"
      },
      "source": [
        "SEQ_LEN = 200"
      ],
      "execution_count": 280,
      "outputs": []
    },
    {
      "cell_type": "code",
      "metadata": {
        "id": "fndBm1eMyLWy"
      },
      "source": [
        "\"\"\"\n",
        "dtypes_train = {\n",
        "    'row_id': 'int64',\n",
        "    'timestamp': 'int64',\n",
        "    'user_id': 'int32',\n",
        "    'content_id': 'int16',\n",
        "    'content_type_id': 'int8',\n",
        "    'task_container_id': 'int16',\n",
        "    'user_answer': 'int8',\n",
        "    'answered_correctly': 'int8',\n",
        "    'prior_question_elapsed_time': 'float32',\n",
        "    'prior_question_had_explanation': 'int8'\n",
        "    }\n",
        "\n",
        "dtypes_questions = {\n",
        "    \"question_id\": \"\",\n",
        "    \"bundle_id\": \"\",\n",
        "    \"correct_answer\": \"\",\n",
        "    \"part\": \"int16\",\n",
        "    \"tags\": \"\",\n",
        "}\n",
        "\n",
        "dtypes_lectures = {\n",
        "    \"lecture_id\": \"\",\n",
        "    \"part\": \"\",\n",
        "    \"tag\": \"\",\n",
        "    \"type_of\": \"\",\n",
        "}\n",
        "\"\"\"\n",
        "\n",
        "def parse_example(example):\n",
        "  example = tf.io.parse_single_example(example, feature_desc)\n",
        "\n",
        "  timestamp = tf.io.parse_tensor(example[\"timestamp\"], tf.int64)\n",
        "  content_id = tf.io.parse_tensor(example[\"content_id\"], tf.int16)\n",
        "  task_container_id = tf.io.parse_tensor(example[\"task_container_id\"], tf.int16)\n",
        "  elapsed_time = tf.io.parse_tensor(example[\"elapsed_time\"], tf.float32)\n",
        "  had_explanation = tf.io.parse_tensor(example[\"had_explanation\"], tf.int8)\n",
        "  part = tf.io.parse_tensor(example[\"part\"], tf.int16)\n",
        "  answered_correctly = tf.io.parse_tensor(example[\"answered_correctly\"], tf.int8)\n",
        "\n",
        "  # tags\n",
        "  tags = tf.io.parse_tensor(example[\"tags\"], tf.string) # as string, one q can have multiple tags.\n",
        "  tags = tf.strings.to_number(tf.strings.split(tags), out_type=tf.int32) # will produce a ragged tensor with tags for each q\n",
        "  # ragged tensor of tags [[2], [3, 4]] is converted to one hot like [[0,0,1..], [[0,0,0,1,..], [0,0,0,0,1...]]]\n",
        "  # then sumed along axis 1, so for each question there will be 1 for all the tags associated with it.\n",
        "  tags = tf.reduce_sum(tf.one_hot(tags, depth=190), axis=1) # shape [seq_len, 190]\n",
        "  tags = tf.transpose(tags, (1, 0)) # shape [190, seq_len] to stack with other features.\n",
        "  \n",
        "  features = tf.stack([\n",
        "      tf.cast(timestamp, tf.float32),\n",
        "      tf.cast(content_id, tf.float32),\n",
        "      tf.cast(task_container_id, tf.float32),\n",
        "      tf.cast(elapsed_time, tf.float32),\n",
        "      tf.cast(had_explanation, tf.float32),\n",
        "      tf.cast(part, tf.float32),\n",
        "      tf.cast(answered_correctly, tf.float32),\n",
        "  ])\n",
        "\n",
        "  # add tags\n",
        "  return tf.concat([\n",
        "      features,\n",
        "      tf.cast(tags, tf.float32),\n",
        "  ], axis=0)"
      ],
      "execution_count": 281,
      "outputs": []
    },
    {
      "cell_type": "code",
      "metadata": {
        "colab": {
          "base_uri": "https://localhost:8080/"
        },
        "id": "SxJc5R2Gv4iT",
        "outputId": "eb336f47-bedb-47c1-824c-3392f472f6ba"
      },
      "source": [
        "filenames = tf.io.gfile.glob(\"data/*.tfrec\")\n",
        "filenames"
      ],
      "execution_count": 314,
      "outputs": [
        {
          "output_type": "execute_result",
          "data": {
            "text/plain": [
              "['data/tfrec_15.tfrec',\n",
              " 'data/tfrec_1.tfrec',\n",
              " 'data/tfrec_30.tfrec',\n",
              " 'data/tfrec_12.tfrec',\n",
              " 'data/tfrec_0.tfrec',\n",
              " 'data/tfrec_27.tfrec',\n",
              " 'data/tfrec_18.tfrec',\n",
              " 'data/tfrec_5.tfrec',\n",
              " 'data/tfrec_4.tfrec',\n",
              " 'data/tfrec_24.tfrec',\n",
              " 'data/tfrec_23.tfrec',\n",
              " 'data/tfrec_25.tfrec',\n",
              " 'data/tfrec_9.tfrec',\n",
              " 'data/tfrec_13.tfrec',\n",
              " 'data/tfrec_7.tfrec',\n",
              " 'data/tfrec_26.tfrec',\n",
              " 'data/tfrec_8.tfrec',\n",
              " 'data/tfrec_21.tfrec',\n",
              " 'data/tfrec_17.tfrec',\n",
              " 'data/tfrec_20.tfrec',\n",
              " 'data/tfrec_19.tfrec',\n",
              " 'data/tfrec_16.tfrec',\n",
              " 'data/tfrec_14.tfrec',\n",
              " 'data/tfrec_29.tfrec',\n",
              " 'data/tfrec_28.tfrec',\n",
              " 'data/tfrec_6.tfrec',\n",
              " 'data/tfrec_10.tfrec',\n",
              " 'data/tfrec_11.tfrec',\n",
              " 'data/tfrec_2.tfrec',\n",
              " 'data/tfrec_3.tfrec',\n",
              " 'data/tfrec_31.tfrec',\n",
              " 'data/tfrec_22.tfrec']"
            ]
          },
          "metadata": {
            "tags": []
          },
          "execution_count": 314
        }
      ]
    },
    {
      "cell_type": "code",
      "metadata": {
        "id": "LhpKsqjvx8MF"
      },
      "source": [
        "dataset = tf.data.TFRecordDataset(filenames)"
      ],
      "execution_count": 315,
      "outputs": []
    },
    {
      "cell_type": "code",
      "metadata": {
        "id": "BOaHKp6wyCoC"
      },
      "source": [
        "dataset = dataset.map(parse_example)"
      ],
      "execution_count": 316,
      "outputs": []
    },
    {
      "cell_type": "code",
      "metadata": {
        "id": "RNa4VCxJXC28"
      },
      "source": [
        "for features in dataset.take(1):\r\n",
        "  pass"
      ],
      "execution_count": 317,
      "outputs": []
    },
    {
      "cell_type": "code",
      "metadata": {
        "colab": {
          "base_uri": "https://localhost:8080/"
        },
        "id": "8TiJnSvAbnlW",
        "outputId": "d13d3e35-a2ca-47cf-ee53-39bfc0219371"
      },
      "source": [
        "# normal features, tags associated with each question - sparse array with 1s\r\n",
        "features[0:7].shape, features[7:, :].shape"
      ],
      "execution_count": 318,
      "outputs": [
        {
          "output_type": "execute_result",
          "data": {
            "text/plain": [
              "(TensorShape([7, 14]), TensorShape([190, 14]))"
            ]
          },
          "metadata": {
            "tags": []
          },
          "execution_count": 318
        }
      ]
    },
    {
      "cell_type": "code",
      "metadata": {
        "colab": {
          "base_uri": "https://localhost:8080/"
        },
        "id": "6kCZoizrb1gO",
        "outputId": "011603a7-c267-4c22-8645-389fb0b0d2e7"
      },
      "source": [
        "tf.where(features[7:, 8]==1) # tags starts from index 7,  for 7 th q"
      ],
      "execution_count": 319,
      "outputs": [
        {
          "output_type": "execute_result",
          "data": {
            "text/plain": [
              "<tf.Tensor: shape=(3, 1), dtype=int64, numpy=\n",
              "array([[ 32],\n",
              "       [106],\n",
              "       [139]])>"
            ]
          },
          "metadata": {
            "tags": []
          },
          "execution_count": 319
        }
      ]
    },
    {
      "cell_type": "code",
      "metadata": {
        "id": "G4KcROUFUDd_"
      },
      "source": [
        "@tf.function\n",
        "def pad(a, seq_len, max_seq_len):\n",
        "  s = max_seq_len - seq_len\n",
        "  # making [[0, 0], [s, 0]]\n",
        "  r = tf.stack([s, tf.constant(0)])\n",
        "  t = tf.stack([tf.constant([0, 0]), r])\n",
        "  \n",
        "  return tf.pad(a, t) # ,1 to debug\n",
        "\n",
        "@tf.function\n",
        "def trim(a, seq_len,  max_seq_len):\n",
        "  start = tf.squeeze(tf.random.uniform((1,), maxval=(seq_len-max_seq_len), dtype=tf.int32))\n",
        "  # https://www.quora.com/How-does-tf-slice-work-in-TensorFlow\n",
        "  begin = tf.stack([tf.constant(0), start])\n",
        "  size = tf.stack([tf.shape(a)[0], max_seq_len])\n",
        "  \n",
        "  return tf.slice(a, begin, size) # , start - to debug\n",
        "\n",
        "@tf.function\n",
        "def pad_or_trim(a):\n",
        "  seq_len = tf.shape(a)[-1]\n",
        "  max_seq_len = SEQ_LEN + 1 # accomodate for the start token\n",
        "  fn = tf.cond(tf.less_equal(seq_len, max_seq_len), lambda: pad(a, seq_len, max_seq_len), lambda: trim(a, seq_len, max_seq_len))\n",
        "  return fn"
      ],
      "execution_count": 320,
      "outputs": []
    },
    {
      "cell_type": "code",
      "metadata": {
        "id": "l75YndTMT8iV"
      },
      "source": [
        "dataset = dataset.map(pad_or_trim) # every sample is padded if len < SEQ_LEN or randomly trimmed to SEQ_LEN"
      ],
      "execution_count": 321,
      "outputs": []
    },
    {
      "cell_type": "code",
      "metadata": {
        "colab": {
          "base_uri": "https://localhost:8080/"
        },
        "id": "z4v9VgNBYZ9H",
        "outputId": "a3e84a0e-7011-4a7d-dccf-214bc683a9f8"
      },
      "source": [
        "for i in dataset.take(1):\n",
        "  print(i.shape)"
      ],
      "execution_count": 322,
      "outputs": [
        {
          "output_type": "stream",
          "text": [
            "(197, 201)\n"
          ],
          "name": "stdout"
        }
      ]
    },
    {
      "cell_type": "code",
      "metadata": {
        "colab": {
          "base_uri": "https://localhost:8080/"
        },
        "id": "pcbLxGVSo-aO",
        "outputId": "185e2856-5884-4351-a6c5-527d888911bc"
      },
      "source": [
        "i[0] # timestamp"
      ],
      "execution_count": 307,
      "outputs": [
        {
          "output_type": "execute_result",
          "data": {
            "text/plain": [
              "<tf.Tensor: shape=(201,), dtype=float32, numpy=\n",
              "array([0.0000000e+00, 0.0000000e+00, 0.0000000e+00, 0.0000000e+00,\n",
              "       0.0000000e+00, 0.0000000e+00, 0.0000000e+00, 0.0000000e+00,\n",
              "       0.0000000e+00, 0.0000000e+00, 0.0000000e+00, 0.0000000e+00,\n",
              "       0.0000000e+00, 0.0000000e+00, 0.0000000e+00, 0.0000000e+00,\n",
              "       0.0000000e+00, 0.0000000e+00, 0.0000000e+00, 0.0000000e+00,\n",
              "       0.0000000e+00, 0.0000000e+00, 0.0000000e+00, 0.0000000e+00,\n",
              "       0.0000000e+00, 0.0000000e+00, 0.0000000e+00, 0.0000000e+00,\n",
              "       0.0000000e+00, 0.0000000e+00, 0.0000000e+00, 0.0000000e+00,\n",
              "       0.0000000e+00, 0.0000000e+00, 0.0000000e+00, 0.0000000e+00,\n",
              "       0.0000000e+00, 0.0000000e+00, 0.0000000e+00, 0.0000000e+00,\n",
              "       0.0000000e+00, 0.0000000e+00, 0.0000000e+00, 0.0000000e+00,\n",
              "       0.0000000e+00, 0.0000000e+00, 0.0000000e+00, 0.0000000e+00,\n",
              "       0.0000000e+00, 0.0000000e+00, 0.0000000e+00, 0.0000000e+00,\n",
              "       0.0000000e+00, 0.0000000e+00, 0.0000000e+00, 0.0000000e+00,\n",
              "       0.0000000e+00, 0.0000000e+00, 0.0000000e+00, 0.0000000e+00,\n",
              "       0.0000000e+00, 0.0000000e+00, 0.0000000e+00, 0.0000000e+00,\n",
              "       0.0000000e+00, 0.0000000e+00, 0.0000000e+00, 0.0000000e+00,\n",
              "       0.0000000e+00, 0.0000000e+00, 0.0000000e+00, 0.0000000e+00,\n",
              "       0.0000000e+00, 0.0000000e+00, 0.0000000e+00, 0.0000000e+00,\n",
              "       0.0000000e+00, 0.0000000e+00, 0.0000000e+00, 0.0000000e+00,\n",
              "       0.0000000e+00, 0.0000000e+00, 0.0000000e+00, 0.0000000e+00,\n",
              "       0.0000000e+00, 0.0000000e+00, 0.0000000e+00, 0.0000000e+00,\n",
              "       0.0000000e+00, 0.0000000e+00, 0.0000000e+00, 0.0000000e+00,\n",
              "       0.0000000e+00, 0.0000000e+00, 0.0000000e+00, 0.0000000e+00,\n",
              "       0.0000000e+00, 0.0000000e+00, 0.0000000e+00, 0.0000000e+00,\n",
              "       0.0000000e+00, 0.0000000e+00, 0.0000000e+00, 0.0000000e+00,\n",
              "       0.0000000e+00, 0.0000000e+00, 0.0000000e+00, 0.0000000e+00,\n",
              "       0.0000000e+00, 0.0000000e+00, 0.0000000e+00, 0.0000000e+00,\n",
              "       0.0000000e+00, 0.0000000e+00, 0.0000000e+00, 0.0000000e+00,\n",
              "       0.0000000e+00, 0.0000000e+00, 0.0000000e+00, 0.0000000e+00,\n",
              "       0.0000000e+00, 0.0000000e+00, 0.0000000e+00, 0.0000000e+00,\n",
              "       0.0000000e+00, 0.0000000e+00, 0.0000000e+00, 0.0000000e+00,\n",
              "       0.0000000e+00, 0.0000000e+00, 0.0000000e+00, 0.0000000e+00,\n",
              "       0.0000000e+00, 0.0000000e+00, 0.0000000e+00, 0.0000000e+00,\n",
              "       0.0000000e+00, 0.0000000e+00, 0.0000000e+00, 0.0000000e+00,\n",
              "       0.0000000e+00, 0.0000000e+00, 0.0000000e+00, 0.0000000e+00,\n",
              "       0.0000000e+00, 0.0000000e+00, 0.0000000e+00, 0.0000000e+00,\n",
              "       0.0000000e+00, 0.0000000e+00, 0.0000000e+00, 0.0000000e+00,\n",
              "       0.0000000e+00, 0.0000000e+00, 0.0000000e+00, 0.0000000e+00,\n",
              "       0.0000000e+00, 0.0000000e+00, 0.0000000e+00, 0.0000000e+00,\n",
              "       0.0000000e+00, 0.0000000e+00, 0.0000000e+00, 1.0000000e+00,\n",
              "       0.0000000e+00, 1.3323000e+04, 2.7321000e+04, 5.4416000e+04,\n",
              "       7.4648000e+04, 9.8153000e+04, 1.2458200e+05, 4.4108000e+05,\n",
              "       5.2920600e+05, 6.1447900e+05, 6.5912400e+05, 7.2567100e+05,\n",
              "       7.9721100e+05, 8.5695000e+05, 9.4763000e+05, 1.0135740e+06,\n",
              "       1.0507030e+06, 1.1383350e+06, 1.1907780e+06, 1.2684570e+06,\n",
              "       1.3286900e+06, 1.4074510e+06, 1.4906390e+06, 1.5309490e+06,\n",
              "       1.5979770e+06, 1.6616930e+06, 1.7370070e+06, 2.2591286e+07,\n",
              "       2.2681612e+07, 2.2747916e+07, 1.4659968e+08, 1.4667123e+08,\n",
              "       1.4670899e+08, 1.4673973e+08, 1.4677170e+08, 1.4680192e+08,\n",
              "       1.4683664e+08], dtype=float32)>"
            ]
          },
          "metadata": {
            "tags": []
          },
          "execution_count": 307
        }
      ]
    },
    {
      "cell_type": "code",
      "metadata": {
        "colab": {
          "base_uri": "https://localhost:8080/"
        },
        "id": "9-hQFB5upiUs",
        "outputId": "e89cc009-ec1f-4866-9dd1-faeca8c16675"
      },
      "source": [
        "i[1] # content_id"
      ],
      "execution_count": 308,
      "outputs": [
        {
          "output_type": "execute_result",
          "data": {
            "text/plain": [
              "<tf.Tensor: shape=(201,), dtype=float32, numpy=\n",
              "array([0.0000e+00, 0.0000e+00, 0.0000e+00, 0.0000e+00, 0.0000e+00,\n",
              "       0.0000e+00, 0.0000e+00, 0.0000e+00, 0.0000e+00, 0.0000e+00,\n",
              "       0.0000e+00, 0.0000e+00, 0.0000e+00, 0.0000e+00, 0.0000e+00,\n",
              "       0.0000e+00, 0.0000e+00, 0.0000e+00, 0.0000e+00, 0.0000e+00,\n",
              "       0.0000e+00, 0.0000e+00, 0.0000e+00, 0.0000e+00, 0.0000e+00,\n",
              "       0.0000e+00, 0.0000e+00, 0.0000e+00, 0.0000e+00, 0.0000e+00,\n",
              "       0.0000e+00, 0.0000e+00, 0.0000e+00, 0.0000e+00, 0.0000e+00,\n",
              "       0.0000e+00, 0.0000e+00, 0.0000e+00, 0.0000e+00, 0.0000e+00,\n",
              "       0.0000e+00, 0.0000e+00, 0.0000e+00, 0.0000e+00, 0.0000e+00,\n",
              "       0.0000e+00, 0.0000e+00, 0.0000e+00, 0.0000e+00, 0.0000e+00,\n",
              "       0.0000e+00, 0.0000e+00, 0.0000e+00, 0.0000e+00, 0.0000e+00,\n",
              "       0.0000e+00, 0.0000e+00, 0.0000e+00, 0.0000e+00, 0.0000e+00,\n",
              "       0.0000e+00, 0.0000e+00, 0.0000e+00, 0.0000e+00, 0.0000e+00,\n",
              "       0.0000e+00, 0.0000e+00, 0.0000e+00, 0.0000e+00, 0.0000e+00,\n",
              "       0.0000e+00, 0.0000e+00, 0.0000e+00, 0.0000e+00, 0.0000e+00,\n",
              "       0.0000e+00, 0.0000e+00, 0.0000e+00, 0.0000e+00, 0.0000e+00,\n",
              "       0.0000e+00, 0.0000e+00, 0.0000e+00, 0.0000e+00, 0.0000e+00,\n",
              "       0.0000e+00, 0.0000e+00, 0.0000e+00, 0.0000e+00, 0.0000e+00,\n",
              "       0.0000e+00, 0.0000e+00, 0.0000e+00, 0.0000e+00, 0.0000e+00,\n",
              "       0.0000e+00, 0.0000e+00, 0.0000e+00, 0.0000e+00, 0.0000e+00,\n",
              "       0.0000e+00, 0.0000e+00, 0.0000e+00, 0.0000e+00, 0.0000e+00,\n",
              "       0.0000e+00, 0.0000e+00, 0.0000e+00, 0.0000e+00, 0.0000e+00,\n",
              "       0.0000e+00, 0.0000e+00, 0.0000e+00, 0.0000e+00, 0.0000e+00,\n",
              "       0.0000e+00, 0.0000e+00, 0.0000e+00, 0.0000e+00, 0.0000e+00,\n",
              "       0.0000e+00, 0.0000e+00, 0.0000e+00, 0.0000e+00, 0.0000e+00,\n",
              "       0.0000e+00, 0.0000e+00, 0.0000e+00, 0.0000e+00, 0.0000e+00,\n",
              "       0.0000e+00, 0.0000e+00, 0.0000e+00, 0.0000e+00, 0.0000e+00,\n",
              "       0.0000e+00, 0.0000e+00, 0.0000e+00, 0.0000e+00, 0.0000e+00,\n",
              "       0.0000e+00, 0.0000e+00, 0.0000e+00, 0.0000e+00, 0.0000e+00,\n",
              "       0.0000e+00, 0.0000e+00, 0.0000e+00, 0.0000e+00, 0.0000e+00,\n",
              "       0.0000e+00, 0.0000e+00, 0.0000e+00, 0.0000e+00, 0.0000e+00,\n",
              "       0.0000e+00, 0.0000e+00, 0.0000e+00, 0.0000e+00, 0.0000e+00,\n",
              "       0.0000e+00, 0.0000e+00, 0.0000e+00, 1.0000e+00, 4.2100e+03,\n",
              "       4.1000e+03, 6.6620e+03, 6.6530e+03, 5.6560e+03, 9.6960e+03,\n",
              "       5.6550e+03, 5.2900e+02, 6.6000e+02, 3.8800e+02, 1.0690e+04,\n",
              "       1.3770e+03, 9.1400e+02, 2.2100e+02, 1.0689e+04, 8.8700e+02,\n",
              "       1.1530e+03, 5.7200e+03, 3.8760e+03, 4.6760e+03, 8.3570e+03,\n",
              "       6.6780e+03, 4.0010e+03, 5.4590e+03, 8.9070e+03, 4.2630e+03,\n",
              "       4.9810e+03, 6.4770e+03, 9.3740e+03, 6.2540e+03, 6.4560e+03,\n",
              "       3.6850e+03, 9.4540e+03, 3.8040e+03, 5.5850e+03, 4.4610e+03,\n",
              "       9.6000e+03], dtype=float32)>"
            ]
          },
          "metadata": {
            "tags": []
          },
          "execution_count": 308
        }
      ]
    },
    {
      "cell_type": "code",
      "metadata": {
        "colab": {
          "base_uri": "https://localhost:8080/"
        },
        "id": "NbTMtEM8YGqm",
        "outputId": "7d3f6364-435c-4dc8-c9d1-acb1a4004ccb"
      },
      "source": [
        "data_batch = dataset.batch(128, drop_remainder=True)\n",
        "\n",
        "for features in data_batch.take(1):\n",
        "  print(features.shape)"
      ],
      "execution_count": 323,
      "outputs": [
        {
          "output_type": "stream",
          "text": [
            "(128, 197, 201)\n"
          ],
          "name": "stdout"
        }
      ]
    },
    {
      "cell_type": "markdown",
      "metadata": {
        "id": "ANXXInK3rusP"
      },
      "source": [
        "#### Lets process all the folds"
      ]
    },
    {
      "cell_type": "code",
      "metadata": {
        "id": "RXINRX4ytBdV"
      },
      "source": [
        "!rm -f data/riiid_train*.* data/riiid-train*.* data/*.tfrec"
      ],
      "execution_count": 311,
      "outputs": []
    },
    {
      "cell_type": "code",
      "metadata": {
        "id": "Lkjo0QHC9klw",
        "colab": {
          "base_uri": "https://localhost:8080/"
        },
        "outputId": "3d8fc111-115f-4b4d-b035-f7d13120c7ee"
      },
      "source": [
        "!mkdir data"
      ],
      "execution_count": 312,
      "outputs": [
        {
          "output_type": "stream",
          "text": [
            "mkdir: cannot create directory ‘data’: File exists\n"
          ],
          "name": "stdout"
        }
      ]
    },
    {
      "cell_type": "code",
      "metadata": {
        "id": "O8w7kgoRrxFJ"
      },
      "source": [
        "for fold, parition in folds_partitions.items():\n",
        "  fold_df = table[folds_partitions[fold][\"start\"]:folds_partitions[fold][\"end\"], :].to_pandas()\n",
        "  fold_df = fold_df[fold_df.answered_correctly != -1]\n",
        "  fold_df = fold_df.join(questions_df, on=\"content_id\")\n",
        "  drop_cols = [\n",
        "              \"row_id\", \n",
        "              \"content_type_id\", \n",
        "              \"user_answer\", \n",
        "              \"question_id\", \n",
        "              \"bundle_id\", \n",
        "              \"correct_answer\", \n",
        "              ]\n",
        "  fold_df = fold_df.drop(drop_cols, axis=1)\n",
        "\n",
        "  \n",
        "  # 0, 1, 2 are special tokens, so increment 3\n",
        "  indicator_cols = [\"content_id\", \"task_container_id\", \"part\", \"answered_correctly\", \"prior_question_had_explanation\"]\n",
        "  for c in indicator_cols:\n",
        "    fold_df[c] = fold_df[c] + 3\n",
        "  \n",
        "  fold_df[\"tags\"] = fold_df[\"tags\"].apply(lambda row: \" \".join([str(int(x)+3) for x in row.split(\" \")]))\n",
        "\n",
        "  user_groups = fold_df.groupby(\"user_id\")\n",
        "  user_groups_arr = user_groups.apply(\n",
        "    lambda rows: (\n",
        "        rows[\"timestamp\"].values.astype(dtypes_train[\"timestamp\"]),\n",
        "        rows[\"content_id\"].values.astype(dtypes_train[\"content_id\"]), \n",
        "        rows[\"task_container_id\"].values.astype(dtypes_train[\"task_container_id\"]), \n",
        "        rows[\"prior_question_elapsed_time\"].shift(-1, fill_value=-1).values.astype(dtypes_train[\"prior_question_elapsed_time\"]), # last question for the user doesnt have elapsed time. fill with -1\n",
        "        rows[\"prior_question_had_explanation\"].shift(-1, fill_value=2).values.astype(dtypes_train[\"prior_question_had_explanation\"]), # last question for the user doesnt have \"had_explanation\". fill with 2\n",
        "        rows[\"part\"].values.astype(dtypes_questions[\"part\"]),\n",
        "        rows[\"tags\"].values,\n",
        "        rows[\"answered_correctly\"].values.astype(dtypes_train[\"answered_correctly\"]),\n",
        "        )\n",
        "    )\n",
        "  \n",
        "  \n",
        "  # Inserting START TOKEN before every feature\n",
        "  START_TOKEN = 1\n",
        "  user_groups_arr  = user_groups_arr.apply(\n",
        "      lambda row: (\n",
        "          np.insert(row[0], 0, START_TOKEN), # timestamp\n",
        "          np.insert(row[1], 0, START_TOKEN), # content_id\n",
        "          np.insert(row[2], 0, START_TOKEN), # task_container_id\n",
        "          np.insert(row[3], 0, START_TOKEN), # prior_question_elapsed_time\n",
        "          np.insert(row[4], 0, START_TOKEN), # prior_question_had_explanation\n",
        "          np.insert(row[5], 0, START_TOKEN), # part\n",
        "          np.insert(row[6], 0, str(START_TOKEN)), # tags\n",
        "          np.insert(row[7], 0, START_TOKEN), # answered_correctly\n",
        "          )\n",
        "      )\n",
        "\n",
        "  create_tfrecords_from_user_groups(user_groups_arr, fold)\n"
      ],
      "execution_count": 313,
      "outputs": []
    },
    {
      "cell_type": "markdown",
      "metadata": {
        "id": "ag-oyidJvk49"
      },
      "source": [
        "#### Upload to Kaggle"
      ]
    },
    {
      "cell_type": "code",
      "metadata": {
        "colab": {
          "base_uri": "https://localhost:8080/"
        },
        "id": "OQM5aUmnvqAH",
        "outputId": "0834479d-3563-4b4b-e734-f39b89efab64"
      },
      "source": [
        "!kaggle datasets init -p data/"
      ],
      "execution_count": 324,
      "outputs": [
        {
          "output_type": "stream",
          "text": [
            "Data package template written to: data/dataset-metadata.json\n"
          ],
          "name": "stdout"
        }
      ]
    },
    {
      "cell_type": "code",
      "metadata": {
        "id": "VDuKTVfgv87D"
      },
      "source": [
        "# id and title only alphanumeric and \"-\"\n",
        "meta = \"\"\"\n",
        "{\n",
        "  \"licenses\": [\n",
        "    {\n",
        "      \"name\": \"CC0-1.0\"\n",
        "    }\n",
        "  ], \n",
        "  \"id\": \"nisarahamedk/riid-0-2\",\n",
        "  \"title\": \"riid-0-2\"\n",
        "}\n",
        "\"\"\"\n",
        "with open(\"data/dataset-metadata.json\", \"w\") as f:\n",
        "  f.write(meta)"
      ],
      "execution_count": 325,
      "outputs": []
    },
    {
      "cell_type": "code",
      "metadata": {
        "id": "qjLXcrXhwVWd",
        "colab": {
          "base_uri": "https://localhost:8080/"
        },
        "outputId": "04eb0085-490c-4bef-a407-5290d4444491"
      },
      "source": [
        "# create\n",
        "!kaggle datasets create -p data/ --dir-mode tar -u"
      ],
      "execution_count": 326,
      "outputs": [
        {
          "output_type": "stream",
          "text": [
            "Starting upload for file tfrec_15.tfrec\n",
            "Warning: Looks like you're using an outdated API Version, please consider updating (server 1.5.10 / client 1.5.4)\n",
            "100% 88.7M/88.7M [00:01<00:00, 49.6MB/s]\n",
            "Upload successful: tfrec_15.tfrec (89MB)\n",
            "Starting upload for file tfrec_1.tfrec\n",
            "100% 89.5M/89.5M [00:01<00:00, 47.4MB/s]\n",
            "Upload successful: tfrec_1.tfrec (89MB)\n",
            "Starting upload for file tfrec_30.tfrec\n",
            "100% 91.1M/91.1M [00:01<00:00, 62.9MB/s]\n",
            "Upload successful: tfrec_30.tfrec (91MB)\n",
            "Starting upload for file tfrec_12.tfrec\n",
            "100% 92.0M/92.0M [00:02<00:00, 46.5MB/s]\n",
            "Upload successful: tfrec_12.tfrec (92MB)\n",
            "Starting upload for file tfrec_0.tfrec\n",
            "100% 88.1M/88.1M [00:01<00:00, 48.1MB/s]\n",
            "Upload successful: tfrec_0.tfrec (88MB)\n",
            "Starting upload for file tfrec_27.tfrec\n",
            "100% 91.9M/91.9M [00:01<00:00, 63.4MB/s]\n",
            "Upload successful: tfrec_27.tfrec (92MB)\n",
            "Starting upload for file tfrec_18.tfrec\n",
            "100% 88.0M/88.0M [00:02<00:00, 45.7MB/s]\n",
            "Upload successful: tfrec_18.tfrec (88MB)\n",
            "Starting upload for file emb_sz.pkl\n",
            "100% 132/132 [00:00<00:00, 591B/s]\n",
            "Upload successful: emb_sz.pkl (132B)\n",
            "Starting upload for file tfrec_5.tfrec\n",
            "100% 88.7M/88.7M [00:01<00:00, 48.4MB/s]\n",
            "Upload successful: tfrec_5.tfrec (89MB)\n",
            "Starting upload for file tfrec_4.tfrec\n",
            "100% 92.3M/92.3M [00:02<00:00, 45.6MB/s]\n",
            "Upload successful: tfrec_4.tfrec (92MB)\n",
            "Starting upload for file tfrec_24.tfrec\n",
            "100% 90.6M/90.6M [00:01<00:00, 49.5MB/s]\n",
            "Upload successful: tfrec_24.tfrec (91MB)\n",
            "Starting upload for file tfrec_23.tfrec\n",
            "100% 87.0M/87.0M [00:01<00:00, 48.7MB/s]\n",
            "Upload successful: tfrec_23.tfrec (87MB)\n",
            "Starting upload for file tfrec_25.tfrec\n",
            "100% 87.7M/87.7M [00:01<00:00, 49.1MB/s]\n",
            "Upload successful: tfrec_25.tfrec (88MB)\n",
            "Starting upload for file tfrec_9.tfrec\n",
            "100% 87.9M/87.9M [00:01<00:00, 49.3MB/s]\n",
            "Upload successful: tfrec_9.tfrec (88MB)\n",
            "Starting upload for file tfrec_13.tfrec\n",
            "100% 92.0M/92.0M [00:01<00:00, 48.9MB/s]\n",
            "Upload successful: tfrec_13.tfrec (92MB)\n",
            "Starting upload for file tfrec_7.tfrec\n",
            "100% 92.0M/92.0M [00:02<00:00, 47.7MB/s]\n",
            "Upload successful: tfrec_7.tfrec (92MB)\n",
            "Starting upload for file tfrec_26.tfrec\n",
            "100% 87.2M/87.2M [00:01<00:00, 47.6MB/s]\n",
            "Upload successful: tfrec_26.tfrec (87MB)\n",
            "Starting upload for file tfrec_8.tfrec\n",
            "100% 89.4M/89.4M [00:01<00:00, 48.8MB/s]\n",
            "Upload successful: tfrec_8.tfrec (89MB)\n",
            "Starting upload for file tfrec_21.tfrec\n",
            "100% 88.9M/88.9M [00:02<00:00, 46.1MB/s]\n",
            "Upload successful: tfrec_21.tfrec (89MB)\n",
            "Starting upload for file tfrec_17.tfrec\n",
            "100% 88.6M/88.6M [00:01<00:00, 48.4MB/s]\n",
            "Upload successful: tfrec_17.tfrec (89MB)\n",
            "Starting upload for file tfrec_20.tfrec\n",
            "100% 88.7M/88.7M [00:01<00:00, 48.3MB/s]\n",
            "Upload successful: tfrec_20.tfrec (89MB)\n",
            "Starting upload for file tfrec_19.tfrec\n",
            "100% 86.3M/86.3M [00:01<00:00, 48.4MB/s]\n",
            "Upload successful: tfrec_19.tfrec (86MB)\n",
            "Starting upload for file tfrec_16.tfrec\n",
            "100% 88.3M/88.3M [00:01<00:00, 48.2MB/s]\n",
            "Upload successful: tfrec_16.tfrec (88MB)\n",
            "Starting upload for file tfrec_14.tfrec\n",
            "100% 91.5M/91.5M [00:01<00:00, 48.6MB/s]\n",
            "Upload successful: tfrec_14.tfrec (92MB)\n",
            "Starting upload for file tfrec_29.tfrec\n",
            "100% 89.0M/89.0M [00:02<00:00, 45.1MB/s]\n",
            "Upload successful: tfrec_29.tfrec (89MB)\n",
            "Starting upload for file tfrec_28.tfrec\n",
            "100% 93.5M/93.5M [00:02<00:00, 42.2MB/s]\n",
            "Upload successful: tfrec_28.tfrec (93MB)\n",
            "Starting upload for file tfrec_6.tfrec\n",
            "100% 88.3M/88.3M [00:01<00:00, 49.5MB/s]\n",
            "Upload successful: tfrec_6.tfrec (88MB)\n",
            "Starting upload for file tfrec_10.tfrec\n",
            "100% 92.8M/92.8M [00:01<00:00, 49.4MB/s]\n",
            "Upload successful: tfrec_10.tfrec (93MB)\n",
            "Starting upload for file tfrec_11.tfrec\n",
            "100% 92.0M/92.0M [00:02<00:00, 44.4MB/s]\n",
            "Upload successful: tfrec_11.tfrec (92MB)\n",
            "Starting upload for file tfrec_2.tfrec\n",
            "100% 86.6M/86.6M [00:01<00:00, 48.5MB/s]\n",
            "Upload successful: tfrec_2.tfrec (87MB)\n",
            "Starting upload for file tfrec_3.tfrec\n",
            "100% 87.6M/87.6M [00:01<00:00, 49.1MB/s]\n",
            "Upload successful: tfrec_3.tfrec (88MB)\n",
            "Starting upload for file tfrec_31.tfrec\n",
            "100% 88.5M/88.5M [00:01<00:00, 46.9MB/s]\n",
            "Upload successful: tfrec_31.tfrec (88MB)\n",
            "Starting upload for file tfrec_22.tfrec\n",
            "100% 88.2M/88.2M [00:01<00:00, 48.2MB/s]\n",
            "Upload successful: tfrec_22.tfrec (88MB)\n",
            "Your public Dataset is being created. Please check progress at https://www.kaggle.com/nisarahamedk/riid-0-2\n"
          ],
          "name": "stdout"
        }
      ]
    },
    {
      "cell_type": "code",
      "metadata": {
        "id": "zWOubHf_WEGw",
        "colab": {
          "base_uri": "https://localhost:8080/"
        },
        "outputId": "8f7ded1a-d0a0-4c0c-b9c9-0d4b1e5457e3"
      },
      "source": [
        "# Update\n",
        "!kaggle datasets version -p data/ -m \"adding embed sizes\""
      ],
      "execution_count": null,
      "outputs": [
        {
          "output_type": "stream",
          "text": [
            "Starting upload for file tfrec_6.tfrec\n",
            "Warning: Looks like you're using an outdated API Version, please consider updating (server 1.5.10 / client 1.5.4)\n",
            "100% 37.9M/37.9M [00:07<00:00, 5.01MB/s]\n",
            "Upload successful: tfrec_6.tfrec (38MB)\n",
            "Starting upload for file tfrec_21.tfrec\n",
            "100% 38.1M/38.1M [00:07<00:00, 5.27MB/s]\n",
            "Upload successful: tfrec_21.tfrec (38MB)\n",
            "Starting upload for file tfrec_12.tfrec\n",
            "100% 39.5M/39.5M [00:08<00:00, 4.77MB/s]\n",
            "Upload successful: tfrec_12.tfrec (40MB)\n",
            "Starting upload for file tfrec_4.tfrec\n",
            "100% 39.7M/39.7M [00:08<00:00, 4.93MB/s]\n",
            "Upload successful: tfrec_4.tfrec (40MB)\n",
            "Starting upload for file tfrec_20.tfrec\n",
            "100% 38.3M/38.3M [00:08<00:00, 4.53MB/s]\n",
            "Upload successful: tfrec_20.tfrec (38MB)\n",
            "Starting upload for file tfrec_23.tfrec\n",
            "100% 37.5M/37.5M [00:07<00:00, 4.98MB/s]\n",
            "Upload successful: tfrec_23.tfrec (37MB)\n",
            "Starting upload for file tfrec_18.tfrec\n",
            "100% 37.9M/37.9M [00:10<00:00, 3.64MB/s]\n",
            "Upload successful: tfrec_18.tfrec (38MB)\n",
            "Starting upload for file tfrec_26.tfrec\n",
            "100% 37.5M/37.5M [00:08<00:00, 4.50MB/s]\n",
            "Upload successful: tfrec_26.tfrec (38MB)\n",
            "Starting upload for file tfrec_19.tfrec\n",
            "100% 37.2M/37.2M [00:06<00:00, 5.59MB/s]\n",
            "Upload successful: tfrec_19.tfrec (37MB)\n",
            "Starting upload for file tfrec_14.tfrec\n",
            "100% 39.2M/39.2M [00:09<00:00, 4.45MB/s]\n",
            "Upload successful: tfrec_14.tfrec (39MB)\n",
            "Starting upload for file tfrec_9.tfrec\n",
            "100% 37.8M/37.8M [00:08<00:00, 4.40MB/s]\n",
            "Upload successful: tfrec_9.tfrec (38MB)\n",
            "Starting upload for file tfrec_1.tfrec\n",
            "100% 38.4M/38.4M [00:06<00:00, 5.89MB/s]\n",
            "Upload successful: tfrec_1.tfrec (38MB)\n",
            "Starting upload for file tfrec_17.tfrec\n",
            "100% 38.2M/38.2M [00:06<00:00, 5.77MB/s]\n",
            "Upload successful: tfrec_17.tfrec (38MB)\n",
            "Starting upload for file tfrec_22.tfrec\n",
            "100% 38.1M/38.1M [00:09<00:00, 4.23MB/s]\n",
            "Upload successful: tfrec_22.tfrec (38MB)\n",
            "Starting upload for file tfrec_28.tfrec\n",
            "100% 40.1M/40.1M [00:09<00:00, 4.40MB/s]\n",
            "Upload successful: tfrec_28.tfrec (40MB)\n",
            "Starting upload for file tfrec_11.tfrec\n",
            "100% 39.6M/39.6M [00:11<00:00, 3.47MB/s]\n",
            "Upload successful: tfrec_11.tfrec (40MB)\n",
            "Starting upload for file tfrec_29.tfrec\n",
            "100% 38.3M/38.3M [00:10<00:00, 3.95MB/s]\n",
            "Upload successful: tfrec_29.tfrec (38MB)\n",
            "Starting upload for file tfrec_3.tfrec\n",
            "100% 37.7M/37.7M [00:07<00:00, 5.35MB/s]\n",
            "Upload successful: tfrec_3.tfrec (38MB)\n",
            "Starting upload for file tfrec_10.tfrec\n",
            "100% 39.8M/39.8M [00:07<00:00, 5.92MB/s]\n",
            "Upload successful: tfrec_10.tfrec (40MB)\n",
            "Starting upload for file tfrec_5.tfrec\n",
            "100% 38.2M/38.2M [00:08<00:00, 4.66MB/s]\n",
            "Upload successful: tfrec_5.tfrec (38MB)\n",
            "Starting upload for file tfrec_24.tfrec\n",
            "100% 38.9M/38.9M [00:11<00:00, 3.53MB/s]\n",
            "Upload successful: tfrec_24.tfrec (39MB)\n",
            "Starting upload for file tfrec_31.tfrec\n",
            "100% 38.0M/38.0M [00:10<00:00, 3.70MB/s]\n",
            "Upload successful: tfrec_31.tfrec (38MB)\n",
            "Starting upload for file tfrec_13.tfrec\n",
            "100% 39.5M/39.5M [00:06<00:00, 6.01MB/s]\n",
            "Upload successful: tfrec_13.tfrec (39MB)\n",
            "Starting upload for file tfrec_2.tfrec\n",
            "100% 37.3M/37.3M [00:12<00:00, 3.24MB/s]\n",
            "Upload successful: tfrec_2.tfrec (37MB)\n",
            "Starting upload for file emb_sz.pkl\n",
            "100% 68.0/68.0 [00:07<00:00, 9.31B/s]\n",
            "Upload successful: emb_sz.pkl (68B)\n",
            "Starting upload for file tfrec_0.tfrec\n",
            "100% 37.9M/37.9M [00:06<00:00, 5.72MB/s]\n",
            "Upload successful: tfrec_0.tfrec (38MB)\n",
            "Starting upload for file tfrec_27.tfrec\n",
            "100% 39.4M/39.4M [00:08<00:00, 5.05MB/s]\n",
            "Upload successful: tfrec_27.tfrec (39MB)\n",
            "Starting upload for file tfrec_16.tfrec\n",
            "100% 38.0M/38.0M [00:07<00:00, 4.99MB/s]\n",
            "Upload successful: tfrec_16.tfrec (38MB)\n",
            "Starting upload for file tfrec_25.tfrec\n",
            "100% 37.7M/37.7M [00:07<00:00, 5.18MB/s]\n",
            "Upload successful: tfrec_25.tfrec (38MB)\n",
            "Starting upload for file tfrec_30.tfrec\n",
            "100% 39.1M/39.1M [00:08<00:00, 4.75MB/s]\n",
            "Upload successful: tfrec_30.tfrec (39MB)\n",
            "Starting upload for file tfrec_7.tfrec\n",
            "100% 39.5M/39.5M [00:10<00:00, 4.03MB/s]\n",
            "Upload successful: tfrec_7.tfrec (39MB)\n",
            "Starting upload for file tfrec_8.tfrec\n",
            "100% 38.4M/38.4M [00:09<00:00, 4.26MB/s]\n",
            "Upload successful: tfrec_8.tfrec (38MB)\n",
            "Starting upload for file tfrec_15.tfrec\n",
            "100% 38.1M/38.1M [00:06<00:00, 5.76MB/s]\n",
            "Upload successful: tfrec_15.tfrec (38MB)\n",
            "Dataset version is being created. Please check progress at https://www.kaggle.com/nisarahamedk/riid-0-1\n"
          ],
          "name": "stdout"
        }
      ]
    },
    {
      "cell_type": "markdown",
      "metadata": {
        "id": "oQt-73nkNh0K"
      },
      "source": [
        "#### Padded Batching"
      ]
    },
    {
      "cell_type": "markdown",
      "metadata": {
        "id": "8cQpK6kxNk6k"
      },
      "source": [
        "`padded_shapes` argument for specifying for each item in the dataset which axis and pad length.  \n",
        "\n",
        "[None], [None], [None], [None] - Since our dataset is returning a tuple of 4. and we want each of them to be padded to the maximum length in a batch.  \n",
        "\n",
        "\n",
        "https://stackoverflow.com/a/49848103/7812715"
      ]
    },
    {
      "cell_type": "code",
      "metadata": {
        "id": "Mb42_utR_P72"
      },
      "source": [
        "d = dataset.padded_batch(32, padded_shapes=([None], [None], [None], [None]), drop_remainder=True)\n"
      ],
      "execution_count": null,
      "outputs": []
    },
    {
      "cell_type": "code",
      "metadata": {
        "id": "UJYW4gyjEZ44"
      },
      "source": [
        "for e in d.take(1):\n",
        "  print(e)"
      ],
      "execution_count": null,
      "outputs": []
    },
    {
      "cell_type": "markdown",
      "metadata": {
        "id": "x5_k9LbmMQyK"
      },
      "source": [
        "## Sequence Example"
      ]
    },
    {
      "cell_type": "code",
      "metadata": {
        "id": "FMRbdZB0MbVR"
      },
      "source": [
        "context = tf.train.Features(\n",
        "    feature = {\n",
        "        \"user_id\": _int64_feature(115)\n",
        "    }\n",
        ")\n",
        "\n",
        "content_ids = [_int64_feature(x) for x in user_groups_arr[115][0]]"
      ],
      "execution_count": null,
      "outputs": []
    },
    {
      "cell_type": "code",
      "metadata": {
        "id": "4gu-JGRNOSEH"
      },
      "source": [
        "sequence_example = tf.train.SequenceExample(\n",
        "    context = context,\n",
        "    feature_lists = tf.train.FeatureLists(feature_list={\n",
        "        \"content_id\": tf.train.FeatureList(feature=content_ids)\n",
        "    })\n",
        ")"
      ],
      "execution_count": null,
      "outputs": []
    },
    {
      "cell_type": "code",
      "metadata": {
        "id": "F-VDMLbWPXfU"
      },
      "source": [
        "serialized = sequence_example.SerializeToString()"
      ],
      "execution_count": null,
      "outputs": []
    },
    {
      "cell_type": "code",
      "metadata": {
        "id": "7PS5pTNOPb96"
      },
      "source": [
        "serialized"
      ],
      "execution_count": null,
      "outputs": []
    },
    {
      "cell_type": "code",
      "metadata": {
        "id": "ymVXbs5IPdGV"
      },
      "source": [
        "context_feat_desc = {\n",
        "    \"user_id\": tf.io.FixedLenFeature([], tf.int64, default_value=0),\n",
        "}\n",
        "\n",
        "sequence_feat_desc = {\n",
        "    \"content_id\": tf.io.VarLenFeature(tf.int64)\n",
        "}"
      ],
      "execution_count": null,
      "outputs": []
    },
    {
      "cell_type": "code",
      "metadata": {
        "id": "td38yrVtPw6U"
      },
      "source": [
        "context, seq = tf.io.parse_single_sequence_example(serialized, context_feat_desc, sequence_feat_desc)"
      ],
      "execution_count": null,
      "outputs": []
    },
    {
      "cell_type": "code",
      "metadata": {
        "id": "OmebGgDzQH2o"
      },
      "source": [
        "print(seq[\"content_id\"].values)"
      ],
      "execution_count": null,
      "outputs": []
    },
    {
      "cell_type": "code",
      "metadata": {
        "id": "D-mt96ePQIrK"
      },
      "source": [
        ""
      ],
      "execution_count": null,
      "outputs": []
    }
  ]
}