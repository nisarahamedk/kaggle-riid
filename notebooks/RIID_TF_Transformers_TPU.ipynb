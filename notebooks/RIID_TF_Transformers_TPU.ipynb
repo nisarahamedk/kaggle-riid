{
  "nbformat": 4,
  "nbformat_minor": 0,
  "metadata": {
    "colab": {
      "name": "RIID TF Transformers TPU.ipynb",
      "provenance": [],
      "include_colab_link": true
    },
    "kernelspec": {
      "name": "python3",
      "display_name": "Python 3"
    },
    "accelerator": "GPU"
  },
  "cells": [
    {
      "cell_type": "markdown",
      "metadata": {
        "id": "view-in-github",
        "colab_type": "text"
      },
      "source": [
        "<a href=\"https://colab.research.google.com/github/nisarahamedk/kaggle-riid/blob/master/notebooks/RIID_TF_Transformers_TPU.ipynb\" target=\"_parent\"><img src=\"https://colab.research.google.com/assets/colab-badge.svg\" alt=\"Open In Colab\"/></a>"
      ]
    },
    {
      "cell_type": "markdown",
      "metadata": {
        "id": "MDcEKftRzz3o"
      },
      "source": [
        "#### RIID Transformer on TPU"
      ]
    },
    {
      "cell_type": "code",
      "metadata": {
        "id": "p-tXEAUsz-e0"
      },
      "source": [
        "import pickle\n",
        "\n",
        "import tensorflow as tf\n",
        "import tensorflow.keras as keras\n",
        "from tensorflow.keras import backend as K\n",
        "from tensorflow.python.keras.utils import tf_utils\n",
        "from tensorflow.python.autograph.impl import api as autograph\n",
        "from tensorflow.python.autograph.core import ag_ctx\n",
        "import pandas as pd\n",
        "import numpy as np\n",
        "from sklearn.model_selection import KFold\n",
        "\n",
        "\n",
        "np.random.seed(42)\n",
        "tf.random.set_seed(42)"
      ],
      "execution_count": 1,
      "outputs": []
    },
    {
      "cell_type": "markdown",
      "metadata": {
        "id": "6ZwdiZXG0XgB"
      },
      "source": [
        "\n",
        "### *Device* Settings - This needs to be at the TOP¶"
      ]
    },
    {
      "cell_type": "code",
      "metadata": {
        "id": "A3giJ9Nu0aTC"
      },
      "source": [
        "try:\n",
        "    tpu = tf.distribute.cluster_resolver.TPUClusterResolver() # no parameter needed for TPU_NAME env variable is set. This is the case for Kaggle\n",
        "    print(\"Running on TPU: \", tpu.master())\n",
        "except ValueError:\n",
        "    tpu = None"
      ],
      "execution_count": 2,
      "outputs": []
    },
    {
      "cell_type": "code",
      "metadata": {
        "colab": {
          "base_uri": "https://localhost:8080/"
        },
        "id": "M8cViVXg0dRt",
        "outputId": "38bcecea-4774-4a3a-bf38-582681d20af9"
      },
      "source": [
        "if tpu:\n",
        "    tf.config.experimental_connect_to_cluster(tpu)\n",
        "    tf.tpu.experimental.initialize_tpu_system(tpu)\n",
        "    strategy = tf.distribute.experimental.TPUStrategy(tpu)\n",
        "else:\n",
        "    # default strategy with the available hw\n",
        "    strategy = tf.distribute.get_strategy()\n",
        "    \n",
        "REPLICAS = strategy.num_replicas_in_sync\n",
        "print(\"REPLICAS: \", REPLICAS)"
      ],
      "execution_count": 3,
      "outputs": [
        {
          "output_type": "stream",
          "text": [
            "REPLICAS:  1\n"
          ],
          "name": "stdout"
        }
      ]
    },
    {
      "cell_type": "markdown",
      "metadata": {
        "id": "eHATf5SI0f7k"
      },
      "source": [
        "### Datasets"
      ]
    },
    {
      "cell_type": "code",
      "metadata": {
        "id": "8ZyQj3J-0sCh"
      },
      "source": [
        "DATA_PATH = 'gs://kds-0d2ffe2dbc91ac5f57c8846e2d8c3ef3f2c48c5e264ae5abb3f92918'"
      ],
      "execution_count": 4,
      "outputs": []
    },
    {
      "cell_type": "code",
      "metadata": {
        "colab": {
          "base_uri": "https://localhost:8080/"
        },
        "id": "jNldoAXn1GOf",
        "outputId": "bad6172b-ac17-41a1-d7c7-62089e543f96"
      },
      "source": [
        "n_train_files = len(tf.io.gfile.glob(DATA_PATH + \"/tfrec*\"))\n",
        "n_train_files"
      ],
      "execution_count": 5,
      "outputs": [
        {
          "output_type": "execute_result",
          "data": {
            "text/plain": [
              "32"
            ]
          },
          "metadata": {
            "tags": []
          },
          "execution_count": 5
        }
      ]
    },
    {
      "cell_type": "code",
      "metadata": {
        "colab": {
          "base_uri": "https://localhost:8080/"
        },
        "id": "7KLXao8j1jSp",
        "outputId": "d63512d4-b855-4dc7-f7e5-102b0bee35f1"
      },
      "source": [
        "FOLDS = 10\n",
        "\n",
        "kfold = KFold(n_splits=FOLDS, shuffle=True, random_state=42)\n",
        "folds_list = list(kfold.split(np.arange(n_train_files)))\n",
        "folds_list[:2]"
      ],
      "execution_count": 6,
      "outputs": [
        {
          "output_type": "execute_result",
          "data": {
            "text/plain": [
              "[(array([ 0,  1,  2,  3,  4,  5,  6,  7,  8,  9, 10, 11, 12, 13, 14, 16, 18,\n",
              "         19, 20, 21, 22, 23, 25, 26, 27, 28, 30, 31]),\n",
              "  array([15, 17, 24, 29])),\n",
              " (array([ 0,  1,  2,  3,  4,  5,  6,  7, 10, 11, 12, 13, 14, 15, 16, 17, 18,\n",
              "         19, 20, 21, 22, 23, 24, 26, 27, 28, 29, 31]),\n",
              "  array([ 8,  9, 25, 30]))]"
            ]
          },
          "metadata": {
            "tags": []
          },
          "execution_count": 6
        }
      ]
    },
    {
      "cell_type": "code",
      "metadata": {
        "colab": {
          "base_uri": "https://localhost:8080/"
        },
        "id": "OC8RRFAM11rq",
        "outputId": "a7763f44-93a7-4bef-f1ff-ab560b66837f"
      },
      "source": [
        "FOLD = 5\n",
        "\n",
        "train_folds, valid_folds = folds_list[FOLD]\n",
        "len(train_folds), len(valid_folds)"
      ],
      "execution_count": 7,
      "outputs": [
        {
          "output_type": "execute_result",
          "data": {
            "text/plain": [
              "(29, 3)"
            ]
          },
          "metadata": {
            "tags": []
          },
          "execution_count": 7
        }
      ]
    },
    {
      "cell_type": "code",
      "metadata": {
        "id": "ztufELqg2Xfn"
      },
      "source": [
        "train_files = tf.io.gfile.glob([DATA_PATH + \"/tfrec_%d.tfrec\" % idx for idx in train_folds])\n",
        "valid_files = tf.io.gfile.glob([DATA_PATH + \"/tfrec_%d.tfrec\" % idx for idx in valid_folds])"
      ],
      "execution_count": 8,
      "outputs": []
    },
    {
      "cell_type": "code",
      "metadata": {
        "colab": {
          "base_uri": "https://localhost:8080/"
        },
        "id": "gf6yVysK22E6",
        "outputId": "f0ee9d82-344b-438a-e1d3-a9fa15f94317"
      },
      "source": [
        "len(train_files), len(valid_files)"
      ],
      "execution_count": 9,
      "outputs": [
        {
          "output_type": "execute_result",
          "data": {
            "text/plain": [
              "(29, 3)"
            ]
          },
          "metadata": {
            "tags": []
          },
          "execution_count": 9
        }
      ]
    },
    {
      "cell_type": "markdown",
      "metadata": {
        "id": "SHpRgO2L25aj"
      },
      "source": [
        "#### Load TFRecord Datasets"
      ]
    },
    {
      "cell_type": "code",
      "metadata": {
        "id": "D0zEw3u23jmr"
      },
      "source": [
        "AUTOTUNE = tf.data.experimental.AUTOTUNE"
      ],
      "execution_count": 10,
      "outputs": []
    },
    {
      "cell_type": "code",
      "metadata": {
        "id": "OrXHOsZ13sEX"
      },
      "source": [
        "feature_desc = {\n",
        "    \"content_id\": tf.io.FixedLenFeature([], tf.string),\n",
        "    \"task_container_id\": tf.io.FixedLenFeature([], tf.string),\n",
        "    \"prior_question_elapsed_time\": tf.io.FixedLenFeature([], tf.string),\n",
        "    \"part\": tf.io.FixedLenFeature([], tf.string),\n",
        "    \"prev_answered_correctly\": tf.io.FixedLenFeature([], tf.string),\n",
        "    \"answered_correctly\": tf.io.FixedLenFeature([], tf.string),\n",
        "}\n",
        "\n",
        "def parse_example(example):\n",
        "  example = tf.io.parse_single_example(example, feature_desc)\n",
        "\n",
        "  content_id = tf.io.parse_tensor(example[\"content_id\"], tf.int16)\n",
        "  task_container_id = tf.io.parse_tensor(example[\"task_container_id\"], tf.int16)\n",
        "  prior_question_elapsed_time = tf.io.parse_tensor(example[\"prior_question_elapsed_time\"], tf.float32)\n",
        "  part = tf.io.parse_tensor(example[\"part\"], tf.int16)\n",
        "  prev_answered_correctly = tf.io.parse_tensor(example[\"prev_answered_correctly\"], tf.int8)\n",
        "  answered_correctly = tf.io.parse_tensor(example[\"answered_correctly\"], tf.int8)\n",
        "  \n",
        "  return tf.stack([\n",
        "      tf.cast(content_id, tf.float32),\n",
        "      tf.cast(task_container_id, tf.float32),\n",
        "      tf.cast(prior_question_elapsed_time, tf.float32),\n",
        "      tf.cast(part, tf.float32),\n",
        "      tf.cast(prev_answered_correctly, tf.float32),\n",
        "      tf.cast(answered_correctly, tf.float32)\n",
        "  ]) # [features, seq_len] # TODO make it [seq_len, features] so that we dont have to reshape in transformer"
      ],
      "execution_count": 11,
      "outputs": []
    },
    {
      "cell_type": "code",
      "metadata": {
        "id": "U1vZigwi3QVa"
      },
      "source": [
        "def load_dataset_from_tfrecord(filenames, ds_type=\"train\", cache_to=None):\n",
        "        # Since we are reading dataset from multiple files. and we dont care about the order.\n",
        "        # set deterministic reading to False.\n",
        "        ignore_order = tf.data.Options()\n",
        "        if ds_type == \"train\":\n",
        "            ignore_order.experimental_deterministic = False\n",
        "            \n",
        "        dataset = tf.data.TFRecordDataset(filenames, num_parallel_reads=AUTOTUNE)\n",
        "        if not cache_to:\n",
        "            dataset = dataset.cache() # cache to RAM\n",
        "        else:\n",
        "            dataset = dataset.cache(cache_to) # cache to file given by self.cache_to \n",
        "        if ds_type == \"train\":\n",
        "            # dataset = dataset.repeat() # repeat individual item, so that we have full batch at every step.\n",
        "            pass\n",
        "        dataset.with_options(ignore_order)\n",
        "        dataset = dataset.map(parse_example, num_parallel_calls=AUTOTUNE)\n",
        "        return dataset"
      ],
      "execution_count": 12,
      "outputs": []
    },
    {
      "cell_type": "code",
      "metadata": {
        "id": "dhaJdlb537yQ"
      },
      "source": [
        "dataset = load_dataset_from_tfrecord(train_files)"
      ],
      "execution_count": 13,
      "outputs": []
    },
    {
      "cell_type": "code",
      "metadata": {
        "id": "8JPG7fOy4jCu"
      },
      "source": [
        "SEQ_LEN = 128"
      ],
      "execution_count": 14,
      "outputs": []
    },
    {
      "cell_type": "code",
      "metadata": {
        "id": "r4QnfOgm4FWT"
      },
      "source": [
        "@tf.function\n",
        "def pad(a, seq_len, max_seq_len):\n",
        "  s = max_seq_len - seq_len\n",
        "  # making [[0, 0], [s, 0]]\n",
        "  r = tf.stack([s, tf.constant(0)])\n",
        "  t = tf.stack([tf.constant([0, 0]), r])\n",
        "  \n",
        "  return tf.pad(a, t) # ,1 to debug\n",
        "\n",
        "@tf.function\n",
        "def trim(a, seq_len,  max_seq_len):\n",
        "  start = tf.squeeze(tf.random.uniform((1,), maxval=(seq_len-max_seq_len), dtype=tf.int32))\n",
        "  # https://www.quora.com/How-does-tf-slice-work-in-TensorFlow\n",
        "  begin = tf.stack([tf.constant(0), start])\n",
        "  size = tf.stack([tf.shape(a)[0], max_seq_len])\n",
        "  \n",
        "  return tf.slice(a, begin, size) # , start - to debug\n",
        "\n",
        "@tf.function\n",
        "def pad_or_trim(a):\n",
        "  seq_len = tf.shape(a)[-1]\n",
        "  max_seq_len = SEQ_LEN\n",
        "  fn = tf.cond(tf.less_equal(seq_len, max_seq_len), lambda: pad(a, seq_len, max_seq_len), lambda: trim(a, seq_len, max_seq_len))\n",
        "  return fn"
      ],
      "execution_count": 15,
      "outputs": []
    },
    {
      "cell_type": "code",
      "metadata": {
        "id": "Qi2ty0Rd4kyp"
      },
      "source": [
        "dataset = dataset.map(pad_or_trim, num_parallel_calls=AUTOTUNE) # every sample is padded if len < SEQ_LEN or randomly trimmed to SEQ_LEN"
      ],
      "execution_count": 16,
      "outputs": []
    },
    {
      "cell_type": "code",
      "metadata": {
        "id": "BOTG_iFxa5gc"
      },
      "source": [
        "@tf.function\n",
        "def create_padding_mask(seq):\n",
        "  seq = tf.cast(tf.reduce_all(tf.math.equal(seq, 0), axis=-1), tf.float32)\n",
        "\n",
        "  # add extra dimensions to add the padding\n",
        "  # to the attention logits.\n",
        "  return seq[:, tf.newaxis, tf.newaxis, :]  # (batch_size, 1, 1, seq_len)\n",
        "\n",
        "@tf.function\n",
        "def split_x_y_mask(xy):\n",
        "  x = xy[:-1, :]\n",
        "  x = tf.transpose(x, (1, 0)) # [seq_len, n_features]\n",
        "  y = xy[-1, :]\n",
        "  pad_mask = tf.cast(tf.math.reduce_any(tf.math.not_equal(x, 0), axis=-1), dtype=tf.float32)\n",
        "  return x, tf.expand_dims(y, axis=-1), tf.expand_dims(pad_mask, axis=-1)"
      ],
      "execution_count": 17,
      "outputs": []
    },
    {
      "cell_type": "code",
      "metadata": {
        "id": "O_CI26N0K3R6"
      },
      "source": [
        "dataset = dataset.map(split_x_y_mask) # x and y"
      ],
      "execution_count": 18,
      "outputs": []
    },
    {
      "cell_type": "code",
      "metadata": {
        "colab": {
          "base_uri": "https://localhost:8080/"
        },
        "id": "Q5eT_hwk4qaY",
        "outputId": "2c019cda-80e0-486e-ba37-83e3250cb8f0"
      },
      "source": [
        "for x, y, pad_mask in dataset.take(1):\n",
        "  print(x.shape)\n",
        "  print(y.shape)\n",
        "  print(pad_mask.shape)"
      ],
      "execution_count": 19,
      "outputs": [
        {
          "output_type": "stream",
          "text": [
            "(128, 5)\n",
            "(128, 1)\n",
            "(128, 1)\n"
          ],
          "name": "stdout"
        }
      ]
    },
    {
      "cell_type": "code",
      "metadata": {
        "id": "DS0Jw9j1hxTF",
        "colab": {
          "base_uri": "https://localhost:8080/"
        },
        "outputId": "d0674897-16ae-4f63-9bf8-40a7487a5a4a"
      },
      "source": [
        "tf.squeeze(pad_mask, axis=-1)"
      ],
      "execution_count": 20,
      "outputs": [
        {
          "output_type": "execute_result",
          "data": {
            "text/plain": [
              "<tf.Tensor: shape=(128,), dtype=float32, numpy=\n",
              "array([0., 0., 0., 0., 0., 0., 0., 0., 0., 0., 0., 0., 0., 0., 0., 0., 0.,\n",
              "       0., 0., 0., 0., 0., 0., 0., 0., 0., 0., 0., 0., 0., 0., 0., 0., 0.,\n",
              "       0., 0., 0., 0., 0., 0., 0., 0., 0., 0., 0., 0., 0., 0., 0., 0., 0.,\n",
              "       0., 0., 0., 0., 0., 0., 0., 0., 0., 0., 0., 0., 0., 0., 0., 0., 0.,\n",
              "       0., 0., 0., 0., 0., 0., 0., 0., 0., 0., 0., 0., 0., 0., 1., 1., 1.,\n",
              "       1., 1., 1., 1., 1., 1., 1., 1., 1., 1., 1., 1., 1., 1., 1., 1., 1.,\n",
              "       1., 1., 1., 1., 1., 1., 1., 1., 1., 1., 1., 1., 1., 1., 1., 1., 1.,\n",
              "       1., 1., 1., 1., 1., 1., 1., 1., 1.], dtype=float32)>"
            ]
          },
          "metadata": {
            "tags": []
          },
          "execution_count": 20
        }
      ]
    },
    {
      "cell_type": "code",
      "metadata": {
        "id": "UE8uOJbx2W2X",
        "colab": {
          "base_uri": "https://localhost:8080/"
        },
        "outputId": "cc68fa41-f1b0-4f71-8ecc-4c467f4c429c"
      },
      "source": [
        "tf.squeeze(y, axis=-1)"
      ],
      "execution_count": 21,
      "outputs": [
        {
          "output_type": "execute_result",
          "data": {
            "text/plain": [
              "<tf.Tensor: shape=(128,), dtype=float32, numpy=\n",
              "array([0., 0., 0., 0., 0., 0., 0., 0., 0., 0., 0., 0., 0., 0., 0., 0., 0.,\n",
              "       0., 0., 0., 0., 0., 0., 0., 0., 0., 0., 0., 0., 0., 0., 0., 0., 0.,\n",
              "       0., 0., 0., 0., 0., 0., 0., 0., 0., 0., 0., 0., 0., 0., 0., 0., 0.,\n",
              "       0., 0., 0., 0., 0., 0., 0., 0., 0., 0., 0., 0., 0., 0., 0., 0., 0.,\n",
              "       0., 0., 0., 0., 0., 0., 0., 0., 0., 0., 0., 0., 0., 0., 1., 1., 1.,\n",
              "       1., 1., 1., 1., 1., 1., 1., 0., 0., 0., 1., 1., 1., 1., 0., 1., 1.,\n",
              "       0., 0., 0., 0., 1., 1., 1., 1., 1., 0., 1., 0., 1., 1., 1., 1., 0.,\n",
              "       1., 1., 1., 1., 1., 0., 0., 0., 1.], dtype=float32)>"
            ]
          },
          "metadata": {
            "tags": []
          },
          "execution_count": 21
        }
      ]
    },
    {
      "cell_type": "code",
      "metadata": {
        "id": "pVuc7KqWFZ01"
      },
      "source": [
        "dataset = dataset.shuffle(int(1024 * REPLICAS))"
      ],
      "execution_count": 22,
      "outputs": []
    },
    {
      "cell_type": "code",
      "metadata": {
        "id": "pX3iCpAnFvIL"
      },
      "source": [
        "BATCH_SIZE = 256"
      ],
      "execution_count": 23,
      "outputs": []
    },
    {
      "cell_type": "code",
      "metadata": {
        "id": "xp8zSQyaFzLV"
      },
      "source": [
        "dataset = dataset.batch(BATCH_SIZE)"
      ],
      "execution_count": 24,
      "outputs": []
    },
    {
      "cell_type": "code",
      "metadata": {
        "colab": {
          "base_uri": "https://localhost:8080/"
        },
        "id": "ZMQdN2zgF9hw",
        "outputId": "ae804715-1dd5-4829-fce5-7a9319c97df2"
      },
      "source": [
        "for xb, yb, mb in dataset.take(1):\n",
        "  print(xb.shape)\n",
        "  print(yb.shape)\n",
        "  print(mb.shape)"
      ],
      "execution_count": 25,
      "outputs": [
        {
          "output_type": "stream",
          "text": [
            "(256, 128, 5)\n",
            "(256, 128, 1)\n",
            "(256, 128, 1)\n"
          ],
          "name": "stdout"
        }
      ]
    },
    {
      "cell_type": "code",
      "metadata": {
        "colab": {
          "base_uri": "https://localhost:8080/"
        },
        "id": "FEpW8ID94dPC",
        "outputId": "8dec8c14-547c-4310-fdb0-261068820831"
      },
      "source": [
        "# prev_answered_feature\n",
        "xb[0, :, -1]"
      ],
      "execution_count": 26,
      "outputs": [
        {
          "output_type": "execute_result",
          "data": {
            "text/plain": [
              "<tf.Tensor: shape=(128,), dtype=float32, numpy=\n",
              "array([2., 2., 2., 2., 2., 2., 2., 1., 2., 2., 2., 1., 2., 2., 2., 2., 2.,\n",
              "       2., 2., 2., 2., 2., 2., 2., 1., 1., 2., 2., 2., 2., 2., 2., 2., 2.,\n",
              "       2., 2., 1., 2., 1., 1., 1., 2., 1., 2., 2., 2., 2., 1., 2., 2., 2.,\n",
              "       2., 2., 1., 2., 2., 2., 2., 2., 1., 2., 2., 1., 2., 2., 2., 2., 2.,\n",
              "       2., 2., 2., 2., 2., 2., 2., 2., 2., 2., 1., 2., 1., 2., 2., 2., 1.,\n",
              "       2., 2., 2., 2., 2., 2., 2., 2., 2., 2., 2., 2., 2., 2., 2., 1., 2.,\n",
              "       2., 2., 2., 2., 2., 2., 2., 2., 2., 2., 2., 2., 1., 2., 2., 2., 2.,\n",
              "       2., 1., 2., 2., 2., 2., 2., 2., 1.], dtype=float32)>"
            ]
          },
          "metadata": {
            "tags": []
          },
          "execution_count": 26
        }
      ]
    },
    {
      "cell_type": "code",
      "metadata": {
        "id": "S33r8rmn4kdB",
        "colab": {
          "base_uri": "https://localhost:8080/"
        },
        "outputId": "4fda13bc-8b5b-4e33-b2b0-363db2bdadb3"
      },
      "source": [
        "# corresponding mask\n",
        "mb[0, :, 0]"
      ],
      "execution_count": 27,
      "outputs": [
        {
          "output_type": "execute_result",
          "data": {
            "text/plain": [
              "<tf.Tensor: shape=(128,), dtype=float32, numpy=\n",
              "array([1., 1., 1., 1., 1., 1., 1., 1., 1., 1., 1., 1., 1., 1., 1., 1., 1.,\n",
              "       1., 1., 1., 1., 1., 1., 1., 1., 1., 1., 1., 1., 1., 1., 1., 1., 1.,\n",
              "       1., 1., 1., 1., 1., 1., 1., 1., 1., 1., 1., 1., 1., 1., 1., 1., 1.,\n",
              "       1., 1., 1., 1., 1., 1., 1., 1., 1., 1., 1., 1., 1., 1., 1., 1., 1.,\n",
              "       1., 1., 1., 1., 1., 1., 1., 1., 1., 1., 1., 1., 1., 1., 1., 1., 1.,\n",
              "       1., 1., 1., 1., 1., 1., 1., 1., 1., 1., 1., 1., 1., 1., 1., 1., 1.,\n",
              "       1., 1., 1., 1., 1., 1., 1., 1., 1., 1., 1., 1., 1., 1., 1., 1., 1.,\n",
              "       1., 1., 1., 1., 1., 1., 1., 1., 1.], dtype=float32)>"
            ]
          },
          "metadata": {
            "tags": []
          },
          "execution_count": 27
        }
      ]
    },
    {
      "cell_type": "code",
      "metadata": {
        "id": "FbmVLJKDGBYX"
      },
      "source": [
        "dataset = dataset.prefetch(AUTOTUNE)"
      ],
      "execution_count": 28,
      "outputs": []
    },
    {
      "cell_type": "markdown",
      "metadata": {
        "id": "ZIKTPaHerpwF"
      },
      "source": [
        "Valid dataset"
      ]
    },
    {
      "cell_type": "code",
      "metadata": {
        "id": "kCL1p1-uruwd"
      },
      "source": [
        "valid_dataset = load_dataset_from_tfrecord(valid_files, ds_type=\"valid\")\n",
        "valid_dataset = valid_dataset.map(pad_or_trim, num_parallel_calls=AUTOTUNE) # every sample is padded if len < SEQ_LEN or randomly trimmed to SEQ_LEN\n",
        "valid_dataset = valid_dataset.map(split_x_y_mask) # x and y\n",
        "valid_dataset = valid_dataset.batch(BATCH_SIZE * 2)\n",
        "valid_dataset = valid_dataset.prefetch(AUTOTUNE)"
      ],
      "execution_count": 29,
      "outputs": []
    },
    {
      "cell_type": "code",
      "metadata": {
        "id": "_FYgAeXTLsu5"
      },
      "source": [
        "# len(list(iter(dataset.take(1000)))) # dataset repeats indefinitely"
      ],
      "execution_count": 30,
      "outputs": []
    },
    {
      "cell_type": "markdown",
      "metadata": {
        "id": "z7N2qkPoGF8n"
      },
      "source": [
        "### Model"
      ]
    },
    {
      "cell_type": "markdown",
      "metadata": {
        "id": "YzidzjELLqY7"
      },
      "source": [
        "##### Positional Encoding"
      ]
    },
    {
      "cell_type": "code",
      "metadata": {
        "id": "G3OWpbddMhgh"
      },
      "source": [
        "def get_angles(pos, i, d_model):\n",
        "  angle_rates = 1 / np.power(10000, (2 * (i//2)) / np.float32(d_model))\n",
        "  return pos * angle_rates"
      ],
      "execution_count": 31,
      "outputs": []
    },
    {
      "cell_type": "code",
      "metadata": {
        "id": "MA17TuuTMh8R"
      },
      "source": [
        "def positional_encoding(position, d_model):\n",
        "  angle_rads = get_angles(np.arange(position)[:, np.newaxis],\n",
        "                          np.arange(d_model)[np.newaxis, :],\n",
        "                          d_model)\n",
        "\n",
        "  # apply sin to even indices in the array; 2i\n",
        "  angle_rads[:, 0::2] = np.sin(angle_rads[:, 0::2])\n",
        "\n",
        "  # apply cos to odd indices in the array; 2i+1\n",
        "  angle_rads[:, 1::2] = np.cos(angle_rads[:, 1::2])\n",
        "\n",
        "  pos_encoding = angle_rads[np.newaxis, ...]\n",
        "\n",
        "  return tf.cast(pos_encoding, dtype=tf.float32)"
      ],
      "execution_count": 32,
      "outputs": []
    },
    {
      "cell_type": "markdown",
      "metadata": {
        "id": "7pROxdYkMkRi"
      },
      "source": [
        "##### Look ahead mask"
      ]
    },
    {
      "cell_type": "code",
      "metadata": {
        "id": "M3ZVSk3oMxg3"
      },
      "source": [
        "def create_look_ahead_mask(size):\n",
        "  mask = 1 - tf.linalg.band_part(tf.ones((size, size)), -1, 0)\n",
        "  return mask  # (seq_len, seq_len)"
      ],
      "execution_count": 33,
      "outputs": []
    },
    {
      "cell_type": "markdown",
      "metadata": {
        "id": "OfDhTLswMyDl"
      },
      "source": [
        "##### Scaled Dot Product Attention"
      ]
    },
    {
      "cell_type": "code",
      "metadata": {
        "id": "xJhA4M7XM8zY"
      },
      "source": [
        "def scaled_dot_product_attention(q, k, v, mask):\n",
        "  \"\"\"Calculate the attention weights.\n",
        "  q, k, v must have matching leading dimensions.\n",
        "  k, v must have matching penultimate dimension, i.e.: seq_len_k = seq_len_v.\n",
        "  The mask has different shapes depending on its type(padding or look ahead) \n",
        "  but it must be broadcastable for addition.\n",
        "\n",
        "  Args:\n",
        "    q: query shape == (..., seq_len_q, depth)\n",
        "    k: key shape == (..., seq_len_k, depth)\n",
        "    v: value shape == (..., seq_len_v, depth_v)\n",
        "    mask: Float tensor with shape broadcastable \n",
        "          to (..., seq_len_q, seq_len_k). Defaults to None.\n",
        "\n",
        "  Returns:\n",
        "    output, attention_weights\n",
        "  \"\"\"\n",
        "\n",
        "  matmul_qk = tf.matmul(q, k, transpose_b=True)  # (..., seq_len_q, seq_len_k)\n",
        "\n",
        "  # scale matmul_qk\n",
        "  dk = tf.cast(tf.shape(k)[-1], tf.float32)\n",
        "  scaled_attention_logits = matmul_qk / tf.math.sqrt(dk)\n",
        "\n",
        "  # add the mask to the scaled tensor.\n",
        "  if mask is not None:\n",
        "    scaled_attention_logits += (mask * -1e9)  \n",
        "\n",
        "  # softmax is normalized on the last axis (seq_len_k) so that the scores\n",
        "  # add up to 1.\n",
        "  attention_weights = tf.nn.softmax(scaled_attention_logits, axis=-1)  # (..., seq_len_q, seq_len_k)\n",
        "\n",
        "  output = tf.matmul(attention_weights, v)  # (..., seq_len_q, depth_v)\n",
        "\n",
        "  return output, attention_weights"
      ],
      "execution_count": 34,
      "outputs": []
    },
    {
      "cell_type": "markdown",
      "metadata": {
        "id": "Ak8Y8-ihNG1j"
      },
      "source": [
        "##### Multi Head Attention"
      ]
    },
    {
      "cell_type": "code",
      "metadata": {
        "id": "CkL0KZ5uNMS7"
      },
      "source": [
        "class MultiHeadAttention(tf.keras.layers.Layer):\n",
        "  def __init__(self, d_model, num_heads):\n",
        "    super(MultiHeadAttention, self).__init__()\n",
        "    self.num_heads = num_heads\n",
        "    self.d_model = d_model\n",
        "\n",
        "    assert d_model % self.num_heads == 0\n",
        "\n",
        "    self.depth = d_model // self.num_heads\n",
        "\n",
        "    self.wq = tf.keras.layers.Dense(d_model)\n",
        "    self.wk = tf.keras.layers.Dense(d_model)\n",
        "    self.wv = tf.keras.layers.Dense(d_model)\n",
        "\n",
        "    self.dense = tf.keras.layers.Dense(d_model)\n",
        "\n",
        "  def split_heads(self, x, batch_size):\n",
        "    \"\"\"Split the last dimension into (num_heads, depth).\n",
        "    Transpose the result such that the shape is (batch_size, num_heads, seq_len, depth)\n",
        "    \"\"\"\n",
        "    x = tf.reshape(x, (batch_size, -1, self.num_heads, self.depth))\n",
        "    return tf.transpose(x, perm=[0, 2, 1, 3])\n",
        "\n",
        "  def call(self, v, k, q, mask):\n",
        "    batch_size = tf.shape(q)[0]\n",
        "\n",
        "    q = self.wq(q)  # (batch_size, seq_len, d_model)\n",
        "    k = self.wk(k)  # (batch_size, seq_len, d_model)\n",
        "    v = self.wv(v)  # (batch_size, seq_len, d_model)\n",
        "\n",
        "    q = self.split_heads(q, batch_size)  # (batch_size, num_heads, seq_len_q, depth)\n",
        "    k = self.split_heads(k, batch_size)  # (batch_size, num_heads, seq_len_k, depth)\n",
        "    v = self.split_heads(v, batch_size)  # (batch_size, num_heads, seq_len_v, depth)\n",
        "\n",
        "    # scaled_attention.shape == (batch_size, num_heads, seq_len_q, depth)\n",
        "    # attention_weights.shape == (batch_size, num_heads, seq_len_q, seq_len_k)\n",
        "    scaled_attention, attention_weights = scaled_dot_product_attention(\n",
        "        q, k, v, mask)\n",
        "\n",
        "    scaled_attention = tf.transpose(scaled_attention, perm=[0, 2, 1, 3])  # (batch_size, seq_len_q, num_heads, depth)\n",
        "\n",
        "    concat_attention = tf.reshape(scaled_attention, \n",
        "                                  (batch_size, -1, self.d_model))  # (batch_size, seq_len_q, d_model)\n",
        "\n",
        "    output = self.dense(concat_attention)  # (batch_size, seq_len_q, d_model)\n",
        "\n",
        "    return output, attention_weights"
      ],
      "execution_count": 35,
      "outputs": []
    },
    {
      "cell_type": "markdown",
      "metadata": {
        "id": "EwQteAZBNPtG"
      },
      "source": [
        "##### Pointwise FeedForward Network"
      ]
    },
    {
      "cell_type": "code",
      "metadata": {
        "id": "jiYVEX_0NX54"
      },
      "source": [
        "def point_wise_feed_forward_network(d_model, dff):\n",
        "  return tf.keras.Sequential([\n",
        "      tf.keras.layers.Dense(dff, activation='relu'),  # (batch_size, seq_len, dff)\n",
        "      tf.keras.layers.Dense(d_model)  # (batch_size, seq_len, d_model)\n",
        "  ])"
      ],
      "execution_count": 36,
      "outputs": []
    },
    {
      "cell_type": "markdown",
      "metadata": {
        "id": "QGbRm0LSNau_"
      },
      "source": [
        "##### EncoderLayer"
      ]
    },
    {
      "cell_type": "code",
      "metadata": {
        "id": "V96wCZDvNexl"
      },
      "source": [
        "class EncoderLayer(tf.keras.layers.Layer):\n",
        "  def __init__(self, d_model, num_heads, dff, rate=0.1):\n",
        "    super(EncoderLayer, self).__init__()\n",
        "\n",
        "    self.mha = MultiHeadAttention(d_model, num_heads)\n",
        "    self.ffn = point_wise_feed_forward_network(d_model, dff)\n",
        "\n",
        "    self.layernorm1 = tf.keras.layers.LayerNormalization(epsilon=1e-6)\n",
        "    self.layernorm2 = tf.keras.layers.LayerNormalization(epsilon=1e-6)\n",
        "\n",
        "    self.dropout1 = tf.keras.layers.Dropout(rate)\n",
        "    self.dropout2 = tf.keras.layers.Dropout(rate)\n",
        "\n",
        "  def call(self, x, training, mask):\n",
        "\n",
        "    attn_output, _ = self.mha(x, x, x, mask)  # (batch_size, input_seq_len, d_model)\n",
        "    attn_output = self.dropout1(attn_output, training=training)\n",
        "    out1 = self.layernorm1(x + attn_output)  # (batch_size, input_seq_len, d_model)\n",
        "\n",
        "    ffn_output = self.ffn(out1)  # (batch_size, input_seq_len, d_model)\n",
        "    ffn_output = self.dropout2(ffn_output, training=training)\n",
        "    out2 = self.layernorm2(out1 + ffn_output)  # (batch_size, input_seq_len, d_model)\n",
        "\n",
        "    return out2"
      ],
      "execution_count": 37,
      "outputs": []
    },
    {
      "cell_type": "markdown",
      "metadata": {
        "id": "s7i7zR9xNjMj"
      },
      "source": [
        "##### Encoder"
      ]
    },
    {
      "cell_type": "code",
      "metadata": {
        "id": "ZM4bREj9Nrp_"
      },
      "source": [
        "class Encoder(tf.keras.layers.Layer):\n",
        "  def __init__(self, num_layers, d_model, num_heads, dff, maximum_position_encoding, embed_size_dict, rate):\n",
        "    super(Encoder, self).__init__()\n",
        "\n",
        "    self.d_model = d_model\n",
        "    self.num_layers = num_layers\n",
        "\n",
        "    self.content_id_emb = tf.keras.layers.Embedding(embed_size_dict[\"content_id\"] + 1, d_model)\n",
        "    self.task_container_id_emb = tf.keras.layers.Embedding(embed_size_dict[\"task_container_id\"] + 1, d_model)\n",
        "    self.part_emb = tf.keras.layers.Embedding(embed_size_dict[\"part\"] + 2, d_model)\n",
        "    self.prior_question_elapsed_time_emb = tf.keras.layers.Dense(d_model, use_bias=True)\n",
        "    self.prev_answered_emb = tf.keras.layers.Embedding(4, d_model)\n",
        "    self.pos_encoding = positional_encoding(maximum_position_encoding, \n",
        "                                            self.d_model)\n",
        "\n",
        "\n",
        "    self.enc_layers = [EncoderLayer(d_model, num_heads, dff, rate) \n",
        "                       for _ in range(num_layers)]\n",
        "\n",
        "    self.dropout = tf.keras.layers.Dropout(rate)\n",
        "\n",
        "  def call(self, x, training, mask):\n",
        "\n",
        "    seq_len = tf.shape(x)[1]\n",
        "\n",
        "    # adding embeddings and position encoding.\n",
        "    c_emb = self.content_id_emb(x[..., 0])  # (batch_size, input_seq_len, d_model)\n",
        "    t_emb = self.task_container_id_emb(x[..., 1])\n",
        "    prior_time_emb = self.prior_question_elapsed_time_emb(tf.expand_dims(x[..., 2], axis=-1))\n",
        "    pt_emb = self.part_emb(x[..., 3])\n",
        "    pv_emb = self.prev_answered_emb(x[..., 4])\n",
        "    x = c_emb + t_emb + prior_time_emb + pt_emb + pv_emb\n",
        "    \n",
        "    x *= tf.math.sqrt(tf.cast(self.d_model, tf.float32))\n",
        "    x += self.pos_encoding[:, :seq_len, :]\n",
        "\n",
        "    x = self.dropout(x, training=training)\n",
        "\n",
        "    for i in range(self.num_layers):\n",
        "      x = self.enc_layers[i](x, training, mask) # (batch_size, input_seq_len, d_model)\n",
        "\n",
        "    return x"
      ],
      "execution_count": 38,
      "outputs": []
    },
    {
      "cell_type": "code",
      "metadata": {
        "id": "9PcxHfXTp64m"
      },
      "source": [
        "class TransformerSeq2SeqClassifier(keras.models.Model):\n",
        "  def __init__(self, num_layers, d_model, num_heads, dff, maximum_position_encoding, embed_size_dict, rate=0.1):\n",
        "    super(TransformerSeq2SeqClassifier, self).__init__()\n",
        "\n",
        "    self.encoder = Encoder(num_layers, d_model, num_heads, dff, maximum_position_encoding, embed_size_dict, rate)\n",
        "    self.out = tf.keras.layers.Dense(1, activation=\"sigmoid\")\n",
        "\n",
        "  def call(self, x):\n",
        "    seq_len = tf.shape(x)[1]\n",
        "    look_ahead_mask = create_look_ahead_mask(seq_len)\n",
        "    encoded = self.encoder(x, mask=look_ahead_mask)\n",
        "\n",
        "    out = self.out(encoded)\n",
        "    return out # [batch_size, input_seq_len, 1]\n"
      ],
      "execution_count": 39,
      "outputs": []
    },
    {
      "cell_type": "markdown",
      "metadata": {
        "id": "SFiVa3cKN4E_"
      },
      "source": [
        "###### Embedding Sizes"
      ]
    },
    {
      "cell_type": "code",
      "metadata": {
        "id": "0xU0IaYQX_XG"
      },
      "source": [
        "embed_sizes = pickle.loads(tf.io.read_file(DATA_PATH + \"/emb_sz.pkl\").numpy())"
      ],
      "execution_count": 40,
      "outputs": []
    },
    {
      "cell_type": "code",
      "metadata": {
        "colab": {
          "base_uri": "https://localhost:8080/"
        },
        "id": "sfN7FrvjY02x",
        "outputId": "43ce12a7-e487-43a6-f810-0e895149ee50"
      },
      "source": [
        "embed_sizes"
      ],
      "execution_count": 41,
      "outputs": [
        {
          "output_type": "execute_result",
          "data": {
            "text/plain": [
              "{'content_id': 32736, 'part': 7, 'task_container_id': 9999}"
            ]
          },
          "metadata": {
            "tags": []
          },
          "execution_count": 41
        }
      ]
    },
    {
      "cell_type": "code",
      "metadata": {
        "id": "xWvXJsP3Y2Bt"
      },
      "source": [
        "with strategy.scope():\n",
        "  model = TransformerSeq2SeqClassifier(\n",
        "      num_layers=1,\n",
        "      d_model=512,\n",
        "      num_heads=8,\n",
        "      dff=1024,\n",
        "      maximum_position_encoding=128,\n",
        "      embed_size_dict=embed_sizes\n",
        "  )"
      ],
      "execution_count": 42,
      "outputs": []
    },
    {
      "cell_type": "code",
      "metadata": {
        "id": "givnKZG-ar9N",
        "colab": {
          "base_uri": "https://localhost:8080/"
        },
        "outputId": "15b3ca58-d69c-4a1b-9b7e-5a81166fd4b4"
      },
      "source": [
        "for xb, yb, mb in dataset.take(1):\n",
        "  print(xb.shape, yb.shape, mb.shape)"
      ],
      "execution_count": 43,
      "outputs": [
        {
          "output_type": "stream",
          "text": [
            "(256, 128, 5) (256, 128, 1) (256, 128, 1)\n"
          ],
          "name": "stdout"
        }
      ]
    },
    {
      "cell_type": "code",
      "metadata": {
        "id": "ubeynQDIa3V_"
      },
      "source": [
        "y_pred = model(xb)"
      ],
      "execution_count": 44,
      "outputs": []
    },
    {
      "cell_type": "code",
      "metadata": {
        "id": "TR3AW7KSefvt",
        "outputId": "619d4b93-0baa-4b20-f6c2-69aefc6421ba",
        "colab": {
          "base_uri": "https://localhost:8080/"
        }
      },
      "source": [
        "y_pred[0].numpy().flatten()"
      ],
      "execution_count": 45,
      "outputs": [
        {
          "output_type": "execute_result",
          "data": {
            "text/plain": [
              "array([0.40535694, 0.45533022, 0.5149151 , 0.5551865 , 0.5634649 ,\n",
              "       0.55026203, 0.5476228 , 0.56572676, 0.57684696, 0.56050795,\n",
              "       0.5141398 , 0.45135015, 0.40923253, 0.400104  , 0.40422842,\n",
              "       0.41200337, 0.4171993 , 0.41108584, 0.411057  , 0.4355836 ,\n",
              "       0.48824856, 0.5542223 , 0.6004581 , 0.6181452 , 0.6134592 ,\n",
              "       0.59392166, 0.55818826, 0.5173931 , 0.48209018, 0.4551771 ,\n",
              "       0.43505326, 0.4373834 , 0.45446503, 0.4846591 , 0.50100446,\n",
              "       0.4884026 , 0.46621466, 0.4520203 , 0.45208776, 0.46238464,\n",
              "       0.4856407 , 0.5152042 , 0.5304915 , 0.53558296, 0.5309909 ,\n",
              "       0.51150155, 0.47889018, 0.4418641 , 0.4111648 , 0.3806934 ,\n",
              "       0.36314803, 0.3663337 , 0.38328362, 0.41850626, 0.4599537 ,\n",
              "       0.4973281 , 0.5202809 , 0.5256581 , 0.5179984 , 0.50870544,\n",
              "       0.5092589 , 0.5134267 , 0.5225037 , 0.52079284, 0.49490744,\n",
              "       0.43832338, 0.37714234, 0.33643407, 0.3277477 , 0.36033133,\n",
              "       0.4043341 , 0.44395322, 0.47059065, 0.48377198, 0.49499664,\n",
              "       0.51508003, 0.53932285, 0.5410992 , 0.5011324 , 0.42883515,\n",
              "       0.35406062, 0.30767262, 0.30803898, 0.3402838 , 0.3642236 ,\n",
              "       0.3771087 , 0.3804129 , 0.3841089 , 0.4038054 , 0.44041035,\n",
              "       0.47681367, 0.49456444, 0.4811917 , 0.4426614 , 0.4007003 ,\n",
              "       0.38315868, 0.38112152, 0.39201143, 0.14706136, 0.30870527,\n",
              "       0.16909772, 0.5221438 , 0.34448007, 0.39055324, 0.5636579 ,\n",
              "       0.14453036, 0.42118725, 0.12238412, 0.3768497 , 0.21216674,\n",
              "       0.13925081, 0.10908673, 0.19640595, 0.10735869, 0.22644395,\n",
              "       0.5151874 , 0.29835322, 0.6304087 , 0.50825316, 0.76211643,\n",
              "       0.7205711 , 0.75170666, 0.6622735 , 0.43084398, 0.2808212 ,\n",
              "       0.17000432, 0.26192206, 0.14625962], dtype=float32)"
            ]
          },
          "metadata": {
            "tags": []
          },
          "execution_count": 45
        }
      ]
    },
    {
      "cell_type": "code",
      "metadata": {
        "id": "wjqOOVNkjBR8",
        "outputId": "ee821753-5f7a-44d4-ca98-bf7f1935611b",
        "colab": {
          "base_uri": "https://localhost:8080/"
        }
      },
      "source": [
        "yb[0].numpy().flatten()"
      ],
      "execution_count": 46,
      "outputs": [
        {
          "output_type": "execute_result",
          "data": {
            "text/plain": [
              "array([0., 0., 0., 0., 0., 0., 0., 0., 0., 0., 0., 0., 0., 0., 0., 0., 0.,\n",
              "       0., 0., 0., 0., 0., 0., 0., 0., 0., 0., 0., 0., 0., 0., 0., 0., 0.,\n",
              "       0., 0., 0., 0., 0., 0., 0., 0., 0., 0., 0., 0., 0., 0., 0., 0., 0.,\n",
              "       0., 0., 0., 0., 0., 0., 0., 0., 0., 0., 0., 0., 0., 0., 0., 0., 0.,\n",
              "       0., 0., 0., 0., 0., 0., 0., 0., 0., 0., 0., 0., 0., 0., 0., 0., 0.,\n",
              "       0., 0., 0., 0., 0., 0., 0., 0., 0., 0., 0., 0., 0., 1., 0., 0., 0.,\n",
              "       1., 0., 1., 0., 1., 0., 0., 1., 0., 0., 1., 1., 0., 1., 0., 0., 0.,\n",
              "       0., 0., 0., 0., 0., 1., 1., 1., 1.], dtype=float32)"
            ]
          },
          "metadata": {
            "tags": []
          },
          "execution_count": 46
        }
      ]
    },
    {
      "cell_type": "code",
      "metadata": {
        "id": "NLztQtaMjlVA",
        "outputId": "cab75c00-c243-4010-b0cd-b30106180543",
        "colab": {
          "base_uri": "https://localhost:8080/"
        }
      },
      "source": [
        "mb[0].numpy().flatten()"
      ],
      "execution_count": 47,
      "outputs": [
        {
          "output_type": "execute_result",
          "data": {
            "text/plain": [
              "array([0., 0., 0., 0., 0., 0., 0., 0., 0., 0., 0., 0., 0., 0., 0., 0., 0.,\n",
              "       0., 0., 0., 0., 0., 0., 0., 0., 0., 0., 0., 0., 0., 0., 0., 0., 0.,\n",
              "       0., 0., 0., 0., 0., 0., 0., 0., 0., 0., 0., 0., 0., 0., 0., 0., 0.,\n",
              "       0., 0., 0., 0., 0., 0., 0., 0., 0., 0., 0., 0., 0., 0., 0., 0., 0.,\n",
              "       0., 0., 0., 0., 0., 0., 0., 0., 0., 0., 0., 0., 0., 0., 0., 0., 0.,\n",
              "       0., 0., 0., 0., 0., 0., 0., 0., 0., 0., 0., 0., 0., 1., 1., 1., 1.,\n",
              "       1., 1., 1., 1., 1., 1., 1., 1., 1., 1., 1., 1., 1., 1., 1., 1., 1.,\n",
              "       1., 1., 1., 1., 1., 1., 1., 1., 1.], dtype=float32)"
            ]
          },
          "metadata": {
            "tags": []
          },
          "execution_count": 47
        }
      ]
    },
    {
      "cell_type": "markdown",
      "metadata": {
        "id": "JCYG-IobCINv"
      },
      "source": [
        "#### Training"
      ]
    },
    {
      "cell_type": "code",
      "metadata": {
        "id": "CvlTpfOyxEHa"
      },
      "source": [
        "class MaskedBCELoss(keras.losses.Loss):\r\n",
        "  def __init__(self, **kwargs):\r\n",
        "    super().__init__(**kwargs)\r\n",
        "\r\n",
        "    self.bce = keras.losses.BinaryCrossentropy(reduction=keras.losses.Reduction.NONE)\r\n",
        "\r\n",
        "  def call(self, y_true, y_pred, sample_weight):\r\n",
        "\r\n",
        "    normal_bce_loss = self.bce(y_true, y_pred, sample_weight) # gives 0 where masked.\r\n",
        "\r\n",
        "    # count # of non masked entries in the batch\r\n",
        "    unmasked_count = tf.math.reduce_sum(tf.cast(tf.math.not_equal(normal_bce_loss, 0), tf.float32))\r\n",
        "\r\n",
        "    # sum the unmasked entries.\r\n",
        "    unmasked_sum = tf.math.reduce_sum(normal_bce_loss)\r\n",
        "  \r\n",
        "    average_loss = tf.math.divide(unmasked_sum, unmasked_count)\r\n",
        "\r\n",
        "    return average_loss\r\n",
        "\r\n",
        "  def __call__(self, y_true, y_pred, sample_weight):\r\n",
        "\r\n",
        "    graph_ctx = tf_utils.graph_context_for_symbolic_tensors(\r\n",
        "        y_true, y_pred, sample_weight)\r\n",
        "    with K.name_scope(self._name_scope), graph_ctx:\r\n",
        "      ag_call = autograph.tf_convert(self.call, ag_ctx.control_status_ctx())\r\n",
        "      losses = ag_call(y_true, y_pred, sample_weight)\r\n",
        "      return losses\r\n"
      ],
      "execution_count": 48,
      "outputs": []
    },
    {
      "cell_type": "code",
      "metadata": {
        "id": "1_Q_LtMP58mr"
      },
      "source": [
        "# loss = MaskedBCELoss()\r\n",
        "# loss(yb, y_pred, mb)"
      ],
      "execution_count": 49,
      "outputs": []
    },
    {
      "cell_type": "code",
      "metadata": {
        "id": "NOhUhp9OmsjJ"
      },
      "source": [
        "with strategy.scope():\n",
        "  optimizer = keras.optimizers.Adam(learning_rate=3e-5)\n",
        "  # loss = keras.losses.BinaryCrossentropy()\n",
        "  loss = MaskedBCELoss()\n",
        "  reduce_lr_cb = tf.keras.callbacks.ReduceLROnPlateau(monitor=\"loss\", factor=0.5, patience=4, min_lr=1e-7, verbose=1)"
      ],
      "execution_count": 50,
      "outputs": []
    },
    {
      "cell_type": "code",
      "metadata": {
        "id": "Mo7o34xVoeFc"
      },
      "source": [
        "with strategy.scope():\n",
        "  model.compile(loss=loss, optimizer=optimizer, metrics=[keras.metrics.AUC()], weighted_metrics=[keras.metrics.AUC()]) # \"weighted_metrics\" not supported on TPU with tf.data"
      ],
      "execution_count": 51,
      "outputs": []
    },
    {
      "cell_type": "code",
      "metadata": {
        "id": "DdpViganz2pH"
      },
      "source": [
        "# ## OVERFIT SINGLE BATCH\n",
        "# with strategy.scope():\n",
        "#   x, y, mask = next(iter(dataset.take(1))) # cannot just use take(), cause that return different batch everytime\n",
        "#   print(x.shape, y.shape, mask.shape)\n",
        "#   model.fit(x, y, epochs=100, sample_weight=mask, callbacks=[reduce_lr_cb])"
      ],
      "execution_count": 52,
      "outputs": []
    },
    {
      "cell_type": "code",
      "metadata": {
        "id": "54Lfz06ApMcJ",
        "colab": {
          "base_uri": "https://localhost:8080/"
        },
        "outputId": "27954711-2adf-40fa-dada-f726946449d8"
      },
      "source": [
        "with strategy.scope():\n",
        "  model.fit(dataset, validation_data=valid_dataset, epochs=100, callbacks=[reduce_lr_cb])"
      ],
      "execution_count": null,
      "outputs": [
        {
          "output_type": "stream",
          "text": [
            "Epoch 1/100\n",
            "1394/1394 [==============================] - 1021s 732ms/step - loss: 0.6042 - auc: 0.6503 - auc_1: 0.7108 - val_loss: 0.5734 - val_auc: 0.7061 - val_auc_1: 0.7525\n",
            "Epoch 2/100\n",
            "1394/1394 [==============================] - 1014s 727ms/step - loss: 0.5754 - auc: 0.6494 - auc_1: 0.7491 - val_loss: 0.5679 - val_auc: 0.6126 - val_auc_1: 0.7577\n",
            "Epoch 3/100\n",
            "1394/1394 [==============================] - 1013s 727ms/step - loss: 0.5703 - auc: 0.5872 - auc_1: 0.7550 - val_loss: 0.5665 - val_auc: 0.5568 - val_auc_1: 0.7594\n",
            "Epoch 4/100\n",
            "1314/1394 [===========================>..] - ETA: 56s - loss: 0.5676 - auc: 0.5747 - auc_1: 0.7581"
          ],
          "name": "stdout"
        }
      ]
    },
    {
      "cell_type": "code",
      "metadata": {
        "id": "MaEXkjV2wfB9"
      },
      "source": [
        ""
      ],
      "execution_count": null,
      "outputs": []
    }
  ]
}