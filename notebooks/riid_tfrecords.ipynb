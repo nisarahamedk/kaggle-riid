{
  "nbformat": 4,
  "nbformat_minor": 0,
  "metadata": {
    "colab": {
      "name": "riid_tfrecords.ipynb",
      "provenance": [],
      "authorship_tag": "ABX9TyPsWV+kHrYTidsuezHcjf7D",
      "include_colab_link": true
    },
    "kernelspec": {
      "name": "python3",
      "display_name": "Python 3"
    }
  },
  "cells": [
    {
      "cell_type": "markdown",
      "metadata": {
        "id": "view-in-github",
        "colab_type": "text"
      },
      "source": [
        "<a href=\"https://colab.research.google.com/github/nisarahamedk/kaggle-riid/blob/master/notebooks/riid_tfrecords.ipynb\" target=\"_parent\"><img src=\"https://colab.research.google.com/assets/colab-badge.svg\" alt=\"Open In Colab\"/></a>"
      ]
    },
    {
      "cell_type": "code",
      "metadata": {
        "id": "9lORpE-PmPUD"
      },
      "source": [
        "%%capture\n",
        "!pip install gcsfs"
      ],
      "execution_count": 1,
      "outputs": []
    },
    {
      "cell_type": "code",
      "metadata": {
        "id": "b_yN4Cx2mTLs"
      },
      "source": [
        "\n",
        "import math\n",
        "\n",
        "import gcsfs\n",
        "import pandas as pd\n",
        "import numpy as np\n",
        "from tqdm import tqdm, trange\n",
        "import tensorflow as tf"
      ],
      "execution_count": 2,
      "outputs": []
    },
    {
      "cell_type": "code",
      "metadata": {
        "id": "zgOGVVu4mX3s"
      },
      "source": [
        "# DATA_PATH = \"/kaggle/input/riiid-test-answer-prediction/\"\n",
        "DATA_PATH = \"gs://kds-e80dfc3d272252bbf34c627d756f891826dab0c19f30ec0fc3ac1979\""
      ],
      "execution_count": 3,
      "outputs": []
    },
    {
      "cell_type": "code",
      "metadata": {
        "id": "EaUGrSmUma6s"
      },
      "source": [
        "\n",
        "dtypes_train = {\n",
        "#     'row_id': 'int64',\n",
        "#     'timestamp': 'int64',\n",
        "    'user_id': 'int32',\n",
        "    'content_id': 'int16',\n",
        "#     'content_type_id': 'int8',\n",
        "    'task_container_id': 'int16',\n",
        "#     'user_answer': 'int8',\n",
        "    'answered_correctly': 'int8',\n",
        "    'prior_question_elapsed_time': 'float32',\n",
        "#     'prior_question_had_explanation': 'boolean'\n",
        "    }\n",
        "\n",
        "dtypes_questions = {\n",
        "    \"question_id\": \"\",\n",
        "    \"bundle_id\": \"\",\n",
        "    \"correct_answer\": \"\",\n",
        "    \"part\": \"\",\n",
        "    \"tags\": \"\",\n",
        "}\n",
        "\n",
        "dtypes_lectures = {\n",
        "    \"lecture_id\": \"\",\n",
        "    \"part\": \"\",\n",
        "    \"tag\": \"\",\n",
        "    \"type_of\": \"\",\n",
        "}"
      ],
      "execution_count": 4,
      "outputs": []
    },
    {
      "cell_type": "code",
      "metadata": {
        "colab": {
          "base_uri": "https://localhost:8080/",
          "height": 197
        },
        "id": "m0aw9uBjmd0O",
        "outputId": "13f80fd2-5de1-4e37-dd94-40447c2e01b1"
      },
      "source": [
        "train_df = pd.read_csv(DATA_PATH + \"/train.csv\", dtype=dtypes_train, usecols=dtypes_train.keys(), nrows=1e6)\n",
        "train_df['prior_question_elapsed_time'] = train_df[\"prior_question_elapsed_time\"].fillna(0).astype(np.float32) / 60000\n",
        "train_df.head()"
      ],
      "execution_count": 5,
      "outputs": [
        {
          "output_type": "execute_result",
          "data": {
            "text/html": [
              "<div>\n",
              "<style scoped>\n",
              "    .dataframe tbody tr th:only-of-type {\n",
              "        vertical-align: middle;\n",
              "    }\n",
              "\n",
              "    .dataframe tbody tr th {\n",
              "        vertical-align: top;\n",
              "    }\n",
              "\n",
              "    .dataframe thead th {\n",
              "        text-align: right;\n",
              "    }\n",
              "</style>\n",
              "<table border=\"1\" class=\"dataframe\">\n",
              "  <thead>\n",
              "    <tr style=\"text-align: right;\">\n",
              "      <th></th>\n",
              "      <th>user_id</th>\n",
              "      <th>content_id</th>\n",
              "      <th>task_container_id</th>\n",
              "      <th>answered_correctly</th>\n",
              "      <th>prior_question_elapsed_time</th>\n",
              "    </tr>\n",
              "  </thead>\n",
              "  <tbody>\n",
              "    <tr>\n",
              "      <th>0</th>\n",
              "      <td>115</td>\n",
              "      <td>5692</td>\n",
              "      <td>1</td>\n",
              "      <td>1</td>\n",
              "      <td>0.000000</td>\n",
              "    </tr>\n",
              "    <tr>\n",
              "      <th>1</th>\n",
              "      <td>115</td>\n",
              "      <td>5716</td>\n",
              "      <td>2</td>\n",
              "      <td>1</td>\n",
              "      <td>0.616667</td>\n",
              "    </tr>\n",
              "    <tr>\n",
              "      <th>2</th>\n",
              "      <td>115</td>\n",
              "      <td>128</td>\n",
              "      <td>0</td>\n",
              "      <td>1</td>\n",
              "      <td>0.916667</td>\n",
              "    </tr>\n",
              "    <tr>\n",
              "      <th>3</th>\n",
              "      <td>115</td>\n",
              "      <td>7860</td>\n",
              "      <td>3</td>\n",
              "      <td>1</td>\n",
              "      <td>0.316667</td>\n",
              "    </tr>\n",
              "    <tr>\n",
              "      <th>4</th>\n",
              "      <td>115</td>\n",
              "      <td>7922</td>\n",
              "      <td>4</td>\n",
              "      <td>1</td>\n",
              "      <td>0.183333</td>\n",
              "    </tr>\n",
              "  </tbody>\n",
              "</table>\n",
              "</div>"
            ],
            "text/plain": [
              "   user_id  content_id  ...  answered_correctly  prior_question_elapsed_time\n",
              "0      115        5692  ...                   1                     0.000000\n",
              "1      115        5716  ...                   1                     0.616667\n",
              "2      115         128  ...                   1                     0.916667\n",
              "3      115        7860  ...                   1                     0.316667\n",
              "4      115        7922  ...                   1                     0.183333\n",
              "\n",
              "[5 rows x 5 columns]"
            ]
          },
          "metadata": {
            "tags": []
          },
          "execution_count": 5
        }
      ]
    },
    {
      "cell_type": "code",
      "metadata": {
        "colab": {
          "base_uri": "https://localhost:8080/"
        },
        "id": "HEbZliM3mgF5",
        "outputId": "68ed0d61-064c-4a0e-a51d-3f3d173e32d8"
      },
      "source": [
        "user_groups = train_df.groupby(\"user_id\")\n",
        "user_groups_arr = user_groups.apply(\n",
        "    lambda rows: (\n",
        "        rows[\"content_id\"].values, \n",
        "        rows[\"task_container_id\"].values, \n",
        "        rows[\"prior_question_elapsed_time\"].values,\n",
        "        # rows[\"part\"].values,\n",
        "        rows[\"answered_correctly\"].values,\n",
        "        )\n",
        "    )\n",
        "user_groups_arr[115][0]"
      ],
      "execution_count": 6,
      "outputs": [
        {
          "output_type": "execute_result",
          "data": {
            "text/plain": [
              "array([5692, 5716,  128, 7860, 7922,  156,   51,   50, 7896, 7863,  152,\n",
              "        104,  108, 7900, 7901, 7971,   25,  183, 7926, 7927,    4, 7984,\n",
              "         45,  185,   55, 7876,    6,  172, 7898,  175,  100, 7859,   57,\n",
              "       7948,  151,  167, 7897, 7882, 7962, 1278, 2065, 2064, 2063, 3363,\n",
              "       3365, 3364], dtype=int16)"
            ]
          },
          "metadata": {
            "tags": []
          },
          "execution_count": 6
        }
      ]
    },
    {
      "cell_type": "code",
      "metadata": {
        "id": "3yOiMZ-fmwqx"
      },
      "source": [
        "def _bytes_feature(value):\n",
        "  \"\"\"Returns a bytes_list from a string / byte.\"\"\"\n",
        "  if isinstance(value, type(tf.constant(0))):\n",
        "    value = value.numpy() # BytesList won't unpack a string from an EagerTensor.\n",
        "  return tf.train.Feature(bytes_list=tf.train.BytesList(value=[value]))\n",
        "\n",
        "def _float_feature(value):\n",
        "  \"\"\"Returns a float_list from a float / double.\"\"\"\n",
        "  return tf.train.Feature(float_list=tf.train.FloatList(value=value)) # changed [value] to val\n",
        "\n",
        "def _int64_feature(value):\n",
        "  \"\"\"Returns an int64_list from a bool / enum / int / uint.\"\"\"\n",
        "  return tf.train.Feature(int64_list=tf.train.Int64List(value=value)) # changed [value] to value"
      ],
      "execution_count": 7,
      "outputs": []
    },
    {
      "cell_type": "code",
      "metadata": {
        "id": "jEHEYPm_nGf8"
      },
      "source": [
        "def serialize_example(user_arr):\n",
        "  feature = {\n",
        "      \"content_id\": _bytes_feature(tf.io.serialize_tensor(user_arr[0])),\n",
        "      \"task_container_id\": _bytes_feature(tf.io.serialize_tensor(user_arr[1])),\n",
        "      \"prior_question_elapsed_time\": _bytes_feature(tf.io.serialize_tensor(user_arr[2])),\n",
        "      \"answered_correctly\": _bytes_feature(tf.io.serialize_tensor(user_arr[3])),\n",
        "  }\n",
        "  proto_example = tf.train.Example(features=tf.train.Features(feature=feature))\n",
        "  serialized_example = proto_example.SerializeToString()\n",
        "  return serialized_example"
      ],
      "execution_count": 18,
      "outputs": []
    },
    {
      "cell_type": "code",
      "metadata": {
        "id": "6r3vADg98JG4"
      },
      "source": [
        "feature_desc = {\n",
        "    \"content_id\": tf.io.FixedLenFeature([], tf.string),\n",
        "    \"task_container_id\": tf.io.FixedLenFeature([], tf.string),\n",
        "    \"prior_question_elapsed_time\": tf.io.FixedLenFeature([], tf.string),\n",
        "    \"answered_correctly\": tf.io.FixedLenFeature([], tf.string),\n",
        "}"
      ],
      "execution_count": 75,
      "outputs": []
    },
    {
      "cell_type": "code",
      "metadata": {
        "colab": {
          "base_uri": "https://localhost:8080/"
        },
        "id": "S6OxFbVa19oz",
        "outputId": "ff2d423e-9bb1-4d17-e11a-01944d974d21"
      },
      "source": [
        "example = serialize_example(user_groups_arr[115])\n",
        "tf.io.parse_tensor(tf.io.parse_single_example(example, feature_desc)[\"content_id\"], tf.int16)"
      ],
      "execution_count": 76,
      "outputs": [
        {
          "output_type": "execute_result",
          "data": {
            "text/plain": [
              "<tf.Tensor: shape=(46,), dtype=int16, numpy=\n",
              "array([5692, 5716,  128, 7860, 7922,  156,   51,   50, 7896, 7863,  152,\n",
              "        104,  108, 7900, 7901, 7971,   25,  183, 7926, 7927,    4, 7984,\n",
              "         45,  185,   55, 7876,    6,  172, 7898,  175,  100, 7859,   57,\n",
              "       7948,  151,  167, 7897, 7882, 7962, 1278, 2065, 2064, 2063, 3363,\n",
              "       3365, 3364], dtype=int16)>"
            ]
          },
          "metadata": {
            "tags": []
          },
          "execution_count": 76
        }
      ]
    },
    {
      "cell_type": "code",
      "metadata": {
        "id": "xqOLG1BXn1Qo"
      },
      "source": [
        "def create_tfrecords_from_user_groups(user_groups_arr):\n",
        "\n",
        "  with tf.io.TFRecordWriter(\"tfrecoreds.tfrec\") as writer:\n",
        "    for user_arr in user_groups_arr:\n",
        "      example = serialize_example(user_arr)\n",
        "\n",
        "      writer.write(example)"
      ],
      "execution_count": 77,
      "outputs": []
    },
    {
      "cell_type": "code",
      "metadata": {
        "id": "PvpJoGylobji"
      },
      "source": [
        "create_tfrecords_from_user_groups(user_groups_arr)"
      ],
      "execution_count": 78,
      "outputs": []
    },
    {
      "cell_type": "code",
      "metadata": {
        "id": "fndBm1eMyLWy"
      },
      "source": [
        "def parse_example(example):\n",
        "  example = tf.io.parse_single_example(example, feature_desc)\n",
        "\n",
        "  content_id = tf.io.parse_tensor(example[\"content_id\"], tf.int16)\n",
        "  task_container_id = tf.io.parse_tensor(example[\"task_container_id\"], tf.int16)\n",
        "  prior_question_elapsed_time = tf.io.parse_tensor(example[\"prior_question_elapsed_time\"], tf.float32)\n",
        "  answered_correctly = tf.io.parse_tensor(example[\"answered_correctly\"], tf.int8)\n",
        "  \n",
        "  return (\n",
        "      content_id,\n",
        "      task_container_id,\n",
        "      prior_question_elapsed_time,\n",
        "      answered_correctly\n",
        "  )"
      ],
      "execution_count": 79,
      "outputs": []
    },
    {
      "cell_type": "code",
      "metadata": {
        "colab": {
          "base_uri": "https://localhost:8080/"
        },
        "id": "SxJc5R2Gv4iT",
        "outputId": "8945fcdf-4c86-4367-86ec-529ff0b7ea91"
      },
      "source": [
        "filenames = tf.io.gfile.glob(\"*.tfrec\")\n",
        "filenames"
      ],
      "execution_count": 80,
      "outputs": [
        {
          "output_type": "execute_result",
          "data": {
            "text/plain": [
              "['./tfrecoreds.tfrec']"
            ]
          },
          "metadata": {
            "tags": []
          },
          "execution_count": 80
        }
      ]
    },
    {
      "cell_type": "code",
      "metadata": {
        "id": "LhpKsqjvx8MF"
      },
      "source": [
        "dataset = tf.data.TFRecordDataset(filenames)"
      ],
      "execution_count": 81,
      "outputs": []
    },
    {
      "cell_type": "code",
      "metadata": {
        "id": "BOaHKp6wyCoC"
      },
      "source": [
        "dataset = dataset.map(parse_example)"
      ],
      "execution_count": 82,
      "outputs": []
    },
    {
      "cell_type": "code",
      "metadata": {
        "colab": {
          "base_uri": "https://localhost:8080/"
        },
        "id": "GbKnvPkEy6V1",
        "outputId": "f40e8fdc-223f-496d-9e7d-4ed62773d54a"
      },
      "source": [
        "b = 0\n",
        "for item in dataset:\n",
        "  b += 1\n",
        "b"
      ],
      "execution_count": 83,
      "outputs": [
        {
          "output_type": "execute_result",
          "data": {
            "text/plain": [
              "3824"
            ]
          },
          "metadata": {
            "tags": []
          },
          "execution_count": 83
        }
      ]
    },
    {
      "cell_type": "code",
      "metadata": {
        "id": "rTzSqA4WFj6s"
      },
      "source": [
        ""
      ],
      "execution_count": null,
      "outputs": []
    }
  ]
}