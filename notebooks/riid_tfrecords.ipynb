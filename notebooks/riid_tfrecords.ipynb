{
  "nbformat": 4,
  "nbformat_minor": 0,
  "metadata": {
    "colab": {
      "name": "riid_tfrecords.ipynb",
      "provenance": [],
      "authorship_tag": "ABX9TyP2NU3bNwdAdPDws3eqBnGo",
      "include_colab_link": true
    },
    "kernelspec": {
      "name": "python3",
      "display_name": "Python 3"
    }
  },
  "cells": [
    {
      "cell_type": "markdown",
      "metadata": {
        "id": "view-in-github",
        "colab_type": "text"
      },
      "source": [
        "<a href=\"https://colab.research.google.com/github/nisarahamedk/kaggle-riid/blob/master/notebooks/riid_tfrecords.ipynb\" target=\"_parent\"><img src=\"https://colab.research.google.com/assets/colab-badge.svg\" alt=\"Open In Colab\"/></a>"
      ]
    },
    {
      "cell_type": "code",
      "metadata": {
        "id": "9lORpE-PmPUD"
      },
      "source": [
        "%%capture\n",
        "!pip install gcsfs"
      ],
      "execution_count": 229,
      "outputs": []
    },
    {
      "cell_type": "code",
      "metadata": {
        "id": "b_yN4Cx2mTLs"
      },
      "source": [
        "\n",
        "import math\n",
        "\n",
        "import gcsfs\n",
        "import pandas as pd\n",
        "import numpy as np\n",
        "from tqdm import tqdm, trange\n",
        "import tensorflow as tf"
      ],
      "execution_count": 230,
      "outputs": []
    },
    {
      "cell_type": "code",
      "metadata": {
        "id": "zgOGVVu4mX3s"
      },
      "source": [
        "# DATA_PATH = \"/kaggle/input/riiid-test-answer-prediction/\"\n",
        "DATA_PATH = \"gs://kds-e80dfc3d272252bbf34c627d756f891826dab0c19f30ec0fc3ac1979\""
      ],
      "execution_count": 231,
      "outputs": []
    },
    {
      "cell_type": "code",
      "metadata": {
        "id": "s0tbqUT5iPn3"
      },
      "source": [
        "dtypes_train = {\n",
        "    'user_id': 'int32',\n",
        "    'content_id': 'int16',\n",
        "}"
      ],
      "execution_count": 261,
      "outputs": []
    },
    {
      "cell_type": "code",
      "metadata": {
        "colab": {
          "base_uri": "https://localhost:8080/",
          "height": 197
        },
        "id": "L_r8pGbuibd_",
        "outputId": "fe6cf2f6-0d7e-4b3c-b7eb-a1b6d577269f"
      },
      "source": [
        "df = pd.read_csv(DATA_PATH + \"/train.csv\", dtype=dtypes_train, usecols=dtypes_train.keys())\n",
        "df.head()"
      ],
      "execution_count": 263,
      "outputs": [
        {
          "output_type": "execute_result",
          "data": {
            "text/html": [
              "<div>\n",
              "<style scoped>\n",
              "    .dataframe tbody tr th:only-of-type {\n",
              "        vertical-align: middle;\n",
              "    }\n",
              "\n",
              "    .dataframe tbody tr th {\n",
              "        vertical-align: top;\n",
              "    }\n",
              "\n",
              "    .dataframe thead th {\n",
              "        text-align: right;\n",
              "    }\n",
              "</style>\n",
              "<table border=\"1\" class=\"dataframe\">\n",
              "  <thead>\n",
              "    <tr style=\"text-align: right;\">\n",
              "      <th></th>\n",
              "      <th>user_id</th>\n",
              "      <th>content_id</th>\n",
              "    </tr>\n",
              "  </thead>\n",
              "  <tbody>\n",
              "    <tr>\n",
              "      <th>0</th>\n",
              "      <td>115</td>\n",
              "      <td>5692</td>\n",
              "    </tr>\n",
              "    <tr>\n",
              "      <th>1</th>\n",
              "      <td>115</td>\n",
              "      <td>5716</td>\n",
              "    </tr>\n",
              "    <tr>\n",
              "      <th>2</th>\n",
              "      <td>115</td>\n",
              "      <td>128</td>\n",
              "    </tr>\n",
              "    <tr>\n",
              "      <th>3</th>\n",
              "      <td>115</td>\n",
              "      <td>7860</td>\n",
              "    </tr>\n",
              "    <tr>\n",
              "      <th>4</th>\n",
              "      <td>115</td>\n",
              "      <td>7922</td>\n",
              "    </tr>\n",
              "  </tbody>\n",
              "</table>\n",
              "</div>"
            ],
            "text/plain": [
              "   user_id  content_id\n",
              "0      115        5692\n",
              "1      115        5716\n",
              "2      115         128\n",
              "3      115        7860\n",
              "4      115        7922"
            ]
          },
          "metadata": {
            "tags": []
          },
          "execution_count": 263
        }
      ]
    },
    {
      "cell_type": "code",
      "metadata": {
        "colab": {
          "base_uri": "https://localhost:8080/",
          "height": 35
        },
        "id": "IGNSYQAb5CF6",
        "outputId": "0e408b27-bb78-45aa-fda6-6bf026bbbb2d"
      },
      "source": [
        "f\"{len(df):,}\""
      ],
      "execution_count": 267,
      "outputs": [
        {
          "output_type": "execute_result",
          "data": {
            "application/vnd.google.colaboratory.intrinsic+json": {
              "type": "string"
            },
            "text/plain": [
              "'101,230,332'"
            ]
          },
          "metadata": {
            "tags": []
          },
          "execution_count": 267
        }
      ]
    },
    {
      "cell_type": "code",
      "metadata": {
        "colab": {
          "base_uri": "https://localhost:8080/"
        },
        "id": "r9Ro-1og4rm_",
        "outputId": "0cffaa06-16ce-4472-e67f-55bab8b42338"
      },
      "source": [
        "user_groups = df.groupby(\"user_id\")\n",
        "len(user_groups)"
      ],
      "execution_count": 266,
      "outputs": [
        {
          "output_type": "execute_result",
          "data": {
            "text/plain": [
              "393656"
            ]
          },
          "metadata": {
            "tags": []
          },
          "execution_count": 266
        }
      ]
    },
    {
      "cell_type": "code",
      "metadata": {
        "id": "EaUGrSmUma6s"
      },
      "source": [
        "dtypes_train = {\n",
        "#     'row_id': 'int64',\n",
        "#     'timestamp': 'int64',\n",
        "    'user_id': 'int32',\n",
        "    'content_id': 'int16',\n",
        "#     'content_type_id': 'int8',\n",
        "    'task_container_id': 'int16',\n",
        "#     'user_answer': 'int8',\n",
        "    'answered_correctly': 'int8',\n",
        "    'prior_question_elapsed_time': 'float32',\n",
        "#     'prior_question_had_explanation': 'boolean'\n",
        "    }\n",
        "\n",
        "dtypes_questions = {\n",
        "    \"question_id\": \"\",\n",
        "    \"bundle_id\": \"\",\n",
        "    \"correct_answer\": \"\",\n",
        "    \"part\": \"\",\n",
        "    \"tags\": \"\",\n",
        "}\n",
        "\n",
        "dtypes_lectures = {\n",
        "    \"lecture_id\": \"\",\n",
        "    \"part\": \"\",\n",
        "    \"tag\": \"\",\n",
        "    \"type_of\": \"\",\n",
        "}"
      ],
      "execution_count": 232,
      "outputs": []
    },
    {
      "cell_type": "code",
      "metadata": {
        "colab": {
          "base_uri": "https://localhost:8080/",
          "height": 197
        },
        "id": "m0aw9uBjmd0O",
        "outputId": "f9c70075-2127-4c2c-9678-c08ec95136c4"
      },
      "source": [
        "train_df = pd.read_csv(DATA_PATH + \"/train.csv\", dtype=dtypes_train, usecols=dtypes_train.keys(), nrows=1e6)\n",
        "train_df.head()"
      ],
      "execution_count": 233,
      "outputs": [
        {
          "output_type": "execute_result",
          "data": {
            "text/html": [
              "<div>\n",
              "<style scoped>\n",
              "    .dataframe tbody tr th:only-of-type {\n",
              "        vertical-align: middle;\n",
              "    }\n",
              "\n",
              "    .dataframe tbody tr th {\n",
              "        vertical-align: top;\n",
              "    }\n",
              "\n",
              "    .dataframe thead th {\n",
              "        text-align: right;\n",
              "    }\n",
              "</style>\n",
              "<table border=\"1\" class=\"dataframe\">\n",
              "  <thead>\n",
              "    <tr style=\"text-align: right;\">\n",
              "      <th></th>\n",
              "      <th>user_id</th>\n",
              "      <th>content_id</th>\n",
              "      <th>task_container_id</th>\n",
              "      <th>answered_correctly</th>\n",
              "      <th>prior_question_elapsed_time</th>\n",
              "    </tr>\n",
              "  </thead>\n",
              "  <tbody>\n",
              "    <tr>\n",
              "      <th>0</th>\n",
              "      <td>115</td>\n",
              "      <td>5692</td>\n",
              "      <td>1</td>\n",
              "      <td>1</td>\n",
              "      <td>0.000000</td>\n",
              "    </tr>\n",
              "    <tr>\n",
              "      <th>1</th>\n",
              "      <td>115</td>\n",
              "      <td>5716</td>\n",
              "      <td>2</td>\n",
              "      <td>1</td>\n",
              "      <td>0.616667</td>\n",
              "    </tr>\n",
              "    <tr>\n",
              "      <th>2</th>\n",
              "      <td>115</td>\n",
              "      <td>128</td>\n",
              "      <td>0</td>\n",
              "      <td>1</td>\n",
              "      <td>0.916667</td>\n",
              "    </tr>\n",
              "    <tr>\n",
              "      <th>3</th>\n",
              "      <td>115</td>\n",
              "      <td>7860</td>\n",
              "      <td>3</td>\n",
              "      <td>1</td>\n",
              "      <td>0.316667</td>\n",
              "    </tr>\n",
              "    <tr>\n",
              "      <th>4</th>\n",
              "      <td>115</td>\n",
              "      <td>7922</td>\n",
              "      <td>4</td>\n",
              "      <td>1</td>\n",
              "      <td>0.183333</td>\n",
              "    </tr>\n",
              "  </tbody>\n",
              "</table>\n",
              "</div>"
            ],
            "text/plain": [
              "   user_id  content_id  ...  answered_correctly  prior_question_elapsed_time\n",
              "0      115        5692  ...                   1                     0.000000\n",
              "1      115        5716  ...                   1                     0.616667\n",
              "2      115         128  ...                   1                     0.916667\n",
              "3      115        7860  ...                   1                     0.316667\n",
              "4      115        7922  ...                   1                     0.183333\n",
              "\n",
              "[5 rows x 5 columns]"
            ]
          },
          "metadata": {
            "tags": []
          },
          "execution_count": 233
        }
      ]
    },
    {
      "cell_type": "code",
      "metadata": {
        "colab": {
          "base_uri": "https://localhost:8080/"
        },
        "id": "HEbZliM3mgF5",
        "outputId": "14cf0ddc-78ea-4687-a112-26af748a6485"
      },
      "source": [
        "user_groups = train_df.groupby(\"user_id\")\n",
        "user_groups_arr = user_groups.apply(\n",
        "    lambda rows: (\n",
        "        rows[\"content_id\"].values, \n",
        "        rows[\"task_container_id\"].values, \n",
        "        rows[\"prior_question_elapsed_time\"].values,\n",
        "        # rows[\"part\"].values,\n",
        "        rows[\"answered_correctly\"].values,\n",
        "        )\n",
        "    )\n",
        "user_groups_arr[115][0]"
      ],
      "execution_count": 234,
      "outputs": [
        {
          "output_type": "execute_result",
          "data": {
            "text/plain": [
              "array([5692, 5716,  128, 7860, 7922,  156,   51,   50, 7896, 7863,  152,\n",
              "        104,  108, 7900, 7901, 7971,   25,  183, 7926, 7927,    4, 7984,\n",
              "         45,  185,   55, 7876,    6,  172, 7898,  175,  100, 7859,   57,\n",
              "       7948,  151,  167, 7897, 7882, 7962, 1278, 2065, 2064, 2063, 3363,\n",
              "       3365, 3364], dtype=int16)"
            ]
          },
          "metadata": {
            "tags": []
          },
          "execution_count": 234
        }
      ]
    },
    {
      "cell_type": "code",
      "metadata": {
        "id": "3yOiMZ-fmwqx"
      },
      "source": [
        "def _bytes_feature(value):\n",
        "  \"\"\"Returns a bytes_list from a string / byte.\"\"\"\n",
        "  if isinstance(value, type(tf.constant(0))):\n",
        "    value = value.numpy() # BytesList won't unpack a string from an EagerTensor.\n",
        "  return tf.train.Feature(bytes_list=tf.train.BytesList(value=[value]))\n",
        "\n",
        "def _float_feature(value):\n",
        "  \"\"\"Returns a float_list from a float / double.\"\"\"\n",
        "  return tf.train.Feature(float_list=tf.train.FloatList(value=[value]))\n",
        "\n",
        "def _int64_feature(value):\n",
        "  \"\"\"Returns an int64_list from a bool / enum / int / uint.\"\"\"\n",
        "  return tf.train.Feature(int64_list=tf.train.Int64List(value=[value]))"
      ],
      "execution_count": 235,
      "outputs": []
    },
    {
      "cell_type": "code",
      "metadata": {
        "id": "jEHEYPm_nGf8"
      },
      "source": [
        "def serialize_example(user_arr):\n",
        "  feature = {\n",
        "      \"content_id\": _bytes_feature(tf.io.serialize_tensor(user_arr[0])),\n",
        "      \"task_container_id\": _bytes_feature(tf.io.serialize_tensor(user_arr[1])),\n",
        "      \"prior_question_elapsed_time\": _bytes_feature(tf.io.serialize_tensor(user_arr[2])),\n",
        "      \"answered_correctly\": _bytes_feature(tf.io.serialize_tensor(user_arr[3])),\n",
        "  }\n",
        "  proto_example = tf.train.Example(features=tf.train.Features(feature=feature))\n",
        "  serialized_example = proto_example.SerializeToString()\n",
        "  return serialized_example"
      ],
      "execution_count": 236,
      "outputs": []
    },
    {
      "cell_type": "code",
      "metadata": {
        "id": "6r3vADg98JG4"
      },
      "source": [
        "feature_desc = {\n",
        "    \"content_id\": tf.io.FixedLenFeature([], tf.string),\n",
        "    \"task_container_id\": tf.io.FixedLenFeature([], tf.string),\n",
        "    \"prior_question_elapsed_time\": tf.io.FixedLenFeature([], tf.string),\n",
        "    \"answered_correctly\": tf.io.FixedLenFeature([], tf.string),\n",
        "}"
      ],
      "execution_count": 237,
      "outputs": []
    },
    {
      "cell_type": "code",
      "metadata": {
        "colab": {
          "base_uri": "https://localhost:8080/"
        },
        "id": "S6OxFbVa19oz",
        "outputId": "bd1b1343-b4ee-4681-bbf4-1e9ed14e6a87"
      },
      "source": [
        "example = serialize_example(user_groups_arr[115])\n",
        "tf.io.parse_tensor(tf.io.parse_single_example(example, feature_desc)[\"content_id\"], tf.int16)"
      ],
      "execution_count": 238,
      "outputs": [
        {
          "output_type": "execute_result",
          "data": {
            "text/plain": [
              "<tf.Tensor: shape=(46,), dtype=int16, numpy=\n",
              "array([5692, 5716,  128, 7860, 7922,  156,   51,   50, 7896, 7863,  152,\n",
              "        104,  108, 7900, 7901, 7971,   25,  183, 7926, 7927,    4, 7984,\n",
              "         45,  185,   55, 7876,    6,  172, 7898,  175,  100, 7859,   57,\n",
              "       7948,  151,  167, 7897, 7882, 7962, 1278, 2065, 2064, 2063, 3363,\n",
              "       3365, 3364], dtype=int16)>"
            ]
          },
          "metadata": {
            "tags": []
          },
          "execution_count": 238
        }
      ]
    },
    {
      "cell_type": "code",
      "metadata": {
        "id": "xqOLG1BXn1Qo"
      },
      "source": [
        "def create_tfrecords_from_user_groups(user_groups_arr):\n",
        "\n",
        "  with tf.io.TFRecordWriter(\"tfrecoreds.tfrec\") as writer:\n",
        "    for user_arr in user_groups_arr:\n",
        "      example = serialize_example(user_arr)\n",
        "\n",
        "      writer.write(example)"
      ],
      "execution_count": 239,
      "outputs": []
    },
    {
      "cell_type": "code",
      "metadata": {
        "id": "PvpJoGylobji"
      },
      "source": [
        "create_tfrecords_from_user_groups(user_groups_arr)"
      ],
      "execution_count": 240,
      "outputs": []
    },
    {
      "cell_type": "markdown",
      "metadata": {
        "id": "jEcvazp-acpD"
      },
      "source": [
        "### Read TFRecords and Create TF Dataset"
      ]
    },
    {
      "cell_type": "code",
      "metadata": {
        "id": "_YvUwAkOapdL"
      },
      "source": [
        "SEQ_LEN = 200"
      ],
      "execution_count": 241,
      "outputs": []
    },
    {
      "cell_type": "code",
      "metadata": {
        "id": "fndBm1eMyLWy"
      },
      "source": [
        "def parse_example(example):\n",
        "  example = tf.io.parse_single_example(example, feature_desc)\n",
        "\n",
        "  content_id = tf.io.parse_tensor(example[\"content_id\"], tf.int16)\n",
        "  task_container_id = tf.io.parse_tensor(example[\"task_container_id\"], tf.int16)\n",
        "  prior_question_elapsed_time = tf.io.parse_tensor(example[\"prior_question_elapsed_time\"], tf.float32)\n",
        "  answered_correctly = tf.io.parse_tensor(example[\"answered_correctly\"], tf.int8)\n",
        "  \n",
        "  return tf.stack([\n",
        "      tf.cast(content_id, tf.float32),\n",
        "      tf.cast(task_container_id, tf.float32),\n",
        "      tf.cast(prior_question_elapsed_time, tf.float32),\n",
        "      tf.cast(answered_correctly, tf.float32)\n",
        "  ])"
      ],
      "execution_count": 242,
      "outputs": []
    },
    {
      "cell_type": "code",
      "metadata": {
        "colab": {
          "base_uri": "https://localhost:8080/"
        },
        "id": "SxJc5R2Gv4iT",
        "outputId": "490f8d62-67bb-41f2-82c5-85833d95ad40"
      },
      "source": [
        "filenames = tf.io.gfile.glob(\"*.tfrec\")\n",
        "filenames"
      ],
      "execution_count": 243,
      "outputs": [
        {
          "output_type": "execute_result",
          "data": {
            "text/plain": [
              "['./tfrecoreds.tfrec']"
            ]
          },
          "metadata": {
            "tags": []
          },
          "execution_count": 243
        }
      ]
    },
    {
      "cell_type": "code",
      "metadata": {
        "id": "LhpKsqjvx8MF"
      },
      "source": [
        "dataset = tf.data.TFRecordDataset(filenames)"
      ],
      "execution_count": 244,
      "outputs": []
    },
    {
      "cell_type": "code",
      "metadata": {
        "id": "BOaHKp6wyCoC"
      },
      "source": [
        "dataset = dataset.map(parse_example)"
      ],
      "execution_count": 245,
      "outputs": []
    },
    {
      "cell_type": "code",
      "metadata": {
        "id": "G4KcROUFUDd_"
      },
      "source": [
        "@tf.function\n",
        "def pad(a, seq_len, max_seq_len):\n",
        "  s = max_seq_len - seq_len\n",
        "  # making [[0, 0], [s, 0]]\n",
        "  r = tf.stack([s, tf.constant(0)])\n",
        "  t = tf.stack([tf.constant([0, 0]), r])\n",
        "  \n",
        "  return tf.pad(a, t) # ,1 to debug\n",
        "\n",
        "@tf.function\n",
        "def trim(a, seq_len,  max_seq_len):\n",
        "  start = tf.squeeze(tf.random.uniform((1,), maxval=(seq_len-max_seq_len), dtype=tf.int32))\n",
        "  # https://www.quora.com/How-does-tf-slice-work-in-TensorFlow\n",
        "  begin = tf.stack([tf.constant(0), start])\n",
        "  size = tf.stack([tf.shape(a)[0], max_seq_len])\n",
        "  \n",
        "  return tf.slice(a, begin, size) # , start - to debug\n",
        "\n",
        "@tf.function\n",
        "def pad_or_trim(a):\n",
        "  seq_len = tf.shape(a)[-1]\n",
        "  max_seq_len = SEQ_LEN\n",
        "  fn = tf.cond(tf.less_equal(seq_len, max_seq_len), lambda: pad(a, seq_len, max_seq_len), lambda: trim(a, seq_len, max_seq_len))\n",
        "  return fn"
      ],
      "execution_count": 254,
      "outputs": []
    },
    {
      "cell_type": "code",
      "metadata": {
        "id": "l75YndTMT8iV"
      },
      "source": [
        "dataset = dataset.map(pad_or_trim) # every sample is padded if len < SEQ_LEN or randomly trimmed to SEQ_LEN"
      ],
      "execution_count": 255,
      "outputs": []
    },
    {
      "cell_type": "code",
      "metadata": {
        "colab": {
          "base_uri": "https://localhost:8080/"
        },
        "id": "z4v9VgNBYZ9H",
        "outputId": "75892d4b-3e13-4bad-850b-612f04dd49aa"
      },
      "source": [
        "for i in dataset.take(9):\n",
        "  print(i.shape)"
      ],
      "execution_count": 258,
      "outputs": [
        {
          "output_type": "stream",
          "text": [
            "(4, 200)\n",
            "(4, 200)\n",
            "(4, 200)\n",
            "(4, 200)\n",
            "(4, 200)\n",
            "(4, 200)\n",
            "(4, 200)\n",
            "(4, 200)\n",
            "(4, 200)\n"
          ],
          "name": "stdout"
        }
      ]
    },
    {
      "cell_type": "code",
      "metadata": {
        "colab": {
          "base_uri": "https://localhost:8080/"
        },
        "id": "NbTMtEM8YGqm",
        "outputId": "79174e13-9058-41ae-8757-230cabe75ebc"
      },
      "source": [
        "data_batch = dataset.batch(128, drop_remainder=True)\n",
        "\n",
        "for item in data_batch:\n",
        "  print(item.shape)"
      ],
      "execution_count": 260,
      "outputs": [
        {
          "output_type": "stream",
          "text": [
            "(128, 4, 200)\n",
            "(128, 4, 200)\n",
            "(128, 4, 200)\n",
            "(128, 4, 200)\n",
            "(128, 4, 200)\n",
            "(128, 4, 200)\n",
            "(128, 4, 200)\n",
            "(128, 4, 200)\n",
            "(128, 4, 200)\n",
            "(128, 4, 200)\n",
            "(128, 4, 200)\n",
            "(128, 4, 200)\n",
            "(128, 4, 200)\n",
            "(128, 4, 200)\n",
            "(128, 4, 200)\n",
            "(128, 4, 200)\n",
            "(128, 4, 200)\n",
            "(128, 4, 200)\n",
            "(128, 4, 200)\n",
            "(128, 4, 200)\n",
            "(128, 4, 200)\n",
            "(128, 4, 200)\n",
            "(128, 4, 200)\n",
            "(128, 4, 200)\n",
            "(128, 4, 200)\n",
            "(128, 4, 200)\n",
            "(128, 4, 200)\n",
            "(128, 4, 200)\n",
            "(128, 4, 200)\n"
          ],
          "name": "stdout"
        }
      ]
    },
    {
      "cell_type": "markdown",
      "metadata": {
        "id": "oQt-73nkNh0K"
      },
      "source": [
        "#### Padded Batching"
      ]
    },
    {
      "cell_type": "markdown",
      "metadata": {
        "id": "8cQpK6kxNk6k"
      },
      "source": [
        "`padded_shapes` argument for specifying for each item in the dataset which axis and pad length.  \n",
        "\n",
        "[None], [None], [None], [None] - Since our dataset is returning a tuple of 4. and we want each of them to be padded to the maximum length in a batch.  \n",
        "\n",
        "\n",
        "https://stackoverflow.com/a/49848103/7812715"
      ]
    },
    {
      "cell_type": "code",
      "metadata": {
        "id": "Mb42_utR_P72"
      },
      "source": [
        "d = dataset.padded_batch(32, padded_shapes=([None], [None], [None], [None]), drop_remainder=True)\n"
      ],
      "execution_count": null,
      "outputs": []
    },
    {
      "cell_type": "code",
      "metadata": {
        "id": "UJYW4gyjEZ44"
      },
      "source": [
        "for e in d.take(1):\n",
        "  print(e)"
      ],
      "execution_count": null,
      "outputs": []
    },
    {
      "cell_type": "markdown",
      "metadata": {
        "id": "x5_k9LbmMQyK"
      },
      "source": [
        "## Sequence Example"
      ]
    },
    {
      "cell_type": "code",
      "metadata": {
        "id": "FMRbdZB0MbVR"
      },
      "source": [
        "context = tf.train.Features(\n",
        "    feature = {\n",
        "        \"user_id\": _int64_feature(115)\n",
        "    }\n",
        ")\n",
        "\n",
        "content_ids = [_int64_feature(x) for x in user_groups_arr[115][0]]"
      ],
      "execution_count": null,
      "outputs": []
    },
    {
      "cell_type": "code",
      "metadata": {
        "id": "4gu-JGRNOSEH"
      },
      "source": [
        "sequence_example = tf.train.SequenceExample(\n",
        "    context = context,\n",
        "    feature_lists = tf.train.FeatureLists(feature_list={\n",
        "        \"content_id\": tf.train.FeatureList(feature=content_ids)\n",
        "    })\n",
        ")"
      ],
      "execution_count": null,
      "outputs": []
    },
    {
      "cell_type": "code",
      "metadata": {
        "id": "F-VDMLbWPXfU"
      },
      "source": [
        "serialized = sequence_example.SerializeToString()"
      ],
      "execution_count": null,
      "outputs": []
    },
    {
      "cell_type": "code",
      "metadata": {
        "id": "7PS5pTNOPb96"
      },
      "source": [
        "serialized"
      ],
      "execution_count": null,
      "outputs": []
    },
    {
      "cell_type": "code",
      "metadata": {
        "id": "ymVXbs5IPdGV"
      },
      "source": [
        "context_feat_desc = {\n",
        "    \"user_id\": tf.io.FixedLenFeature([], tf.int64, default_value=0),\n",
        "}\n",
        "\n",
        "sequence_feat_desc = {\n",
        "    \"content_id\": tf.io.VarLenFeature(tf.int64)\n",
        "}"
      ],
      "execution_count": null,
      "outputs": []
    },
    {
      "cell_type": "code",
      "metadata": {
        "id": "td38yrVtPw6U"
      },
      "source": [
        "context, seq = tf.io.parse_single_sequence_example(serialized, context_feat_desc, sequence_feat_desc)"
      ],
      "execution_count": null,
      "outputs": []
    },
    {
      "cell_type": "code",
      "metadata": {
        "id": "OmebGgDzQH2o"
      },
      "source": [
        "print(seq[\"content_id\"].values)"
      ],
      "execution_count": null,
      "outputs": []
    },
    {
      "cell_type": "code",
      "metadata": {
        "id": "D-mt96ePQIrK"
      },
      "source": [
        ""
      ],
      "execution_count": null,
      "outputs": []
    }
  ]
}