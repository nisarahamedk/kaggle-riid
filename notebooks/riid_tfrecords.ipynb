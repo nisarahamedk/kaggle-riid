{
  "nbformat": 4,
  "nbformat_minor": 0,
  "metadata": {
    "colab": {
      "name": "riid_tfrecords.ipynb",
      "provenance": [],
      "authorship_tag": "ABX9TyPUMFMQ668ZMYxRXpklFmW+",
      "include_colab_link": true
    },
    "kernelspec": {
      "name": "python3",
      "display_name": "Python 3"
    }
  },
  "cells": [
    {
      "cell_type": "markdown",
      "metadata": {
        "id": "view-in-github",
        "colab_type": "text"
      },
      "source": [
        "<a href=\"https://colab.research.google.com/github/nisarahamedk/kaggle-riid/blob/master/notebooks/riid_tfrecords.ipynb\" target=\"_parent\"><img src=\"https://colab.research.google.com/assets/colab-badge.svg\" alt=\"Open In Colab\"/></a>"
      ]
    },
    {
      "cell_type": "code",
      "metadata": {
        "id": "9lORpE-PmPUD"
      },
      "source": [
        "%%capture\n",
        "!pip install gcsfs\n",
        "!pip install kaggle\n",
        "!pip install datatable"
      ],
      "execution_count": 2,
      "outputs": []
    },
    {
      "cell_type": "code",
      "metadata": {
        "colab": {
          "base_uri": "https://localhost:8080/"
        },
        "id": "rGqAnzw7CPVM",
        "outputId": "d32b1fcb-f05b-4fa1-bd0b-5814c7492e40"
      },
      "source": [
        "from google.colab import drive\n",
        "drive.mount(\"/content/drive\")"
      ],
      "execution_count": 3,
      "outputs": [
        {
          "output_type": "stream",
          "text": [
            "Mounted at /content/drive\n"
          ],
          "name": "stdout"
        }
      ]
    },
    {
      "cell_type": "code",
      "metadata": {
        "id": "eYjY_QlTCSVh"
      },
      "source": [
        "# Copy Kaggle API key\n",
        "!mkdir -p ~/.kaggle && cp /content/drive/My\\ Drive/Projects/Kaggle/api_key/kaggle.json ~/.kaggle/"
      ],
      "execution_count": 9,
      "outputs": []
    },
    {
      "cell_type": "code",
      "metadata": {
        "colab": {
          "base_uri": "https://localhost:8080/"
        },
        "id": "HkFf3M7oCo7U",
        "outputId": "56203c0d-d807-42d1-f8d3-78d74ee3e16f"
      },
      "source": [
        "!kaggle datasets download -d rohanrao/riiid-train-data-multiple-formats"
      ],
      "execution_count": 10,
      "outputs": [
        {
          "output_type": "stream",
          "text": [
            "Downloading riiid-train-data-multiple-formats.zip to /content\n",
            "100% 4.16G/4.17G [00:52<00:00, 83.4MB/s]\n",
            "100% 4.17G/4.17G [00:52<00:00, 84.5MB/s]\n"
          ],
          "name": "stdout"
        }
      ]
    },
    {
      "cell_type": "code",
      "metadata": {
        "colab": {
          "base_uri": "https://localhost:8080/"
        },
        "id": "DyLaiKdiFtk7",
        "outputId": "4d5ba4db-6ded-426a-cfec-e211a210ecfb"
      },
      "source": [
        "!unzip riiid-train-data-multiple-formats"
      ],
      "execution_count": 11,
      "outputs": [
        {
          "output_type": "stream",
          "text": [
            "Archive:  riiid-train-data-multiple-formats.zip\n",
            "  inflating: riiid_train.feather     \n",
            "  inflating: riiid_train.h5          \n",
            "  inflating: riiid_train.jay         \n",
            "  inflating: riiid_train.parquet     \n",
            "  inflating: riiid_train.pkl.gzip    \n"
          ],
          "name": "stdout"
        }
      ]
    },
    {
      "cell_type": "code",
      "metadata": {
        "id": "b_yN4Cx2mTLs"
      },
      "source": [
        "\n",
        "import math\n",
        "\n",
        "import gcsfs\n",
        "import pandas as pd\n",
        "import numpy as np\n",
        "from tqdm import tqdm, trange\n",
        "import tensorflow as tf\n",
        "from datatable import dt, f, by, count\n",
        "\n",
        "\n",
        "np.random.seed(42)\n",
        "tf.random.set_seed(42)"
      ],
      "execution_count": 12,
      "outputs": []
    },
    {
      "cell_type": "code",
      "metadata": {
        "id": "1JABSd0TI6Ow"
      },
      "source": [
        "table = dt.fread(\"riiid_train.jay\")"
      ],
      "execution_count": 13,
      "outputs": []
    },
    {
      "cell_type": "code",
      "metadata": {
        "colab": {
          "base_uri": "https://localhost:8080/",
          "height": 288
        },
        "id": "boWtiNE8JbII",
        "outputId": "ff448113-a0a1-4800-d179-d837965745d1"
      },
      "source": [
        "table.head(4)"
      ],
      "execution_count": 14,
      "outputs": [
        {
          "output_type": "stream",
          "text": [
            "   | row_id  timestamp  user_id  content_id  content_type_id  task_container_id  user_answer  answered_correctly    pr…  …\n",
            "-- + ------  ---------  -------  ----------  ---------------  -----------------  -----------  ------------------  -----   \n",
            " 0 |      0          0      115        5692                0                  1            3                   1     NA  …\n",
            " 1 |      1      56943      115        5716                0                  2            2                   1  37000  …\n",
            " 2 |      2     118363      115         128                0                  0            0                   1  55000  …\n",
            " 3 |      3     131167      115        7860                0                  3            0                   1  19000  …\n",
            "\n",
            "[4 rows x 10 columns]\n"
          ],
          "name": "stdout"
        },
        {
          "output_type": "execute_result",
          "data": {
            "text/html": [
              "<div class='datatable'>\n",
              "  <table class='frame'>\n",
              "  <thead>\n",
              "    <tr class='colnames'><td class='row_index'></td><th>row_id</th><th>timestamp</th><th>user_id</th><th>content_id</th><th>content_type_id</th><th>task_container_id</th><th>user_answer</th><th>answered_correctly</th><th>prior_question_elapsed_time</th><th>prior_question_had_explanation</th></tr>\n",
              "    <tr class='coltypes'><td class='row_index'></td><td class='int' title='int32'>&#x25AA;&#x25AA;&#x25AA;&#x25AA;</td><td class='int' title='int64'>&#x25AA;&#x25AA;&#x25AA;&#x25AA;&#x25AA;&#x25AA;&#x25AA;&#x25AA;</td><td class='int' title='int32'>&#x25AA;&#x25AA;&#x25AA;&#x25AA;</td><td class='int' title='int32'>&#x25AA;&#x25AA;&#x25AA;&#x25AA;</td><td class='bool' title='bool8'>&#x25AA;</td><td class='int' title='int32'>&#x25AA;&#x25AA;&#x25AA;&#x25AA;</td><td class='int' title='int32'>&#x25AA;&#x25AA;&#x25AA;&#x25AA;</td><td class='int' title='int32'>&#x25AA;&#x25AA;&#x25AA;&#x25AA;</td><td class='float' title='float64'>&#x25AA;&#x25AA;&#x25AA;&#x25AA;&#x25AA;&#x25AA;&#x25AA;&#x25AA;</td><td class='bool' title='bool8'>&#x25AA;</td></tr>\n",
              "  </thead>\n",
              "  <tbody>\n",
              "    <tr><td class='row_index'>0</td><td>0</td><td>0</td><td>115</td><td>5692</td><td>0</td><td>1</td><td>3</td><td>1</td><td><span class=na>NA</span></td><td><span class=na>NA</span></td></tr>\n",
              "    <tr><td class='row_index'>1</td><td>1</td><td>56943</td><td>115</td><td>5716</td><td>0</td><td>2</td><td>2</td><td>1</td><td>37000</td><td>0</td></tr>\n",
              "    <tr><td class='row_index'>2</td><td>2</td><td>118363</td><td>115</td><td>128</td><td>0</td><td>0</td><td>0</td><td>1</td><td>55000</td><td>0</td></tr>\n",
              "    <tr><td class='row_index'>3</td><td>3</td><td>131167</td><td>115</td><td>7860</td><td>0</td><td>3</td><td>0</td><td>1</td><td>19000</td><td>0</td></tr>\n",
              "  </tbody>\n",
              "  </table>\n",
              "  <div class='footer'>\n",
              "    <div class='frame_dimensions'>4 rows &times; 10 columns</div>\n",
              "  </div>\n",
              "</div>\n"
            ],
            "text/plain": [
              ""
            ]
          },
          "metadata": {
            "tags": []
          },
          "execution_count": 14
        }
      ]
    },
    {
      "cell_type": "code",
      "metadata": {
        "colab": {
          "base_uri": "https://localhost:8080/",
          "height": 197
        },
        "id": "HBbDz7roRMXT",
        "outputId": "acbbaf85-78c7-4e13-f439-21e07365795b"
      },
      "source": [
        "users_df = table[:, [f.user_id, f.content_id]].to_pandas()\n",
        "users_df.head()"
      ],
      "execution_count": 15,
      "outputs": [
        {
          "output_type": "execute_result",
          "data": {
            "text/html": [
              "<div>\n",
              "<style scoped>\n",
              "    .dataframe tbody tr th:only-of-type {\n",
              "        vertical-align: middle;\n",
              "    }\n",
              "\n",
              "    .dataframe tbody tr th {\n",
              "        vertical-align: top;\n",
              "    }\n",
              "\n",
              "    .dataframe thead th {\n",
              "        text-align: right;\n",
              "    }\n",
              "</style>\n",
              "<table border=\"1\" class=\"dataframe\">\n",
              "  <thead>\n",
              "    <tr style=\"text-align: right;\">\n",
              "      <th></th>\n",
              "      <th>user_id</th>\n",
              "      <th>content_id</th>\n",
              "    </tr>\n",
              "  </thead>\n",
              "  <tbody>\n",
              "    <tr>\n",
              "      <th>0</th>\n",
              "      <td>115</td>\n",
              "      <td>5692</td>\n",
              "    </tr>\n",
              "    <tr>\n",
              "      <th>1</th>\n",
              "      <td>115</td>\n",
              "      <td>5716</td>\n",
              "    </tr>\n",
              "    <tr>\n",
              "      <th>2</th>\n",
              "      <td>115</td>\n",
              "      <td>128</td>\n",
              "    </tr>\n",
              "    <tr>\n",
              "      <th>3</th>\n",
              "      <td>115</td>\n",
              "      <td>7860</td>\n",
              "    </tr>\n",
              "    <tr>\n",
              "      <th>4</th>\n",
              "      <td>115</td>\n",
              "      <td>7922</td>\n",
              "    </tr>\n",
              "  </tbody>\n",
              "</table>\n",
              "</div>"
            ],
            "text/plain": [
              "   user_id  content_id\n",
              "0      115        5692\n",
              "1      115        5716\n",
              "2      115         128\n",
              "3      115        7860\n",
              "4      115        7922"
            ]
          },
          "metadata": {
            "tags": []
          },
          "execution_count": 15
        }
      ]
    },
    {
      "cell_type": "code",
      "metadata": {
        "colab": {
          "base_uri": "https://localhost:8080/",
          "height": 35
        },
        "id": "IGNSYQAb5CF6",
        "outputId": "8bd1f359-0735-432c-a734-89e15e4935f7"
      },
      "source": [
        "f\"{len(users_df):,}\""
      ],
      "execution_count": 16,
      "outputs": [
        {
          "output_type": "execute_result",
          "data": {
            "application/vnd.google.colaboratory.intrinsic+json": {
              "type": "string"
            },
            "text/plain": [
              "'101,230,332'"
            ]
          },
          "metadata": {
            "tags": []
          },
          "execution_count": 16
        }
      ]
    },
    {
      "cell_type": "code",
      "metadata": {
        "colab": {
          "base_uri": "https://localhost:8080/"
        },
        "id": "r9Ro-1og4rm_",
        "outputId": "f3d94cd0-994e-4bd0-dc1c-7c885c2059c8"
      },
      "source": [
        "user_groups = users_df.groupby(\"user_id\")\n",
        "len(user_groups)"
      ],
      "execution_count": 17,
      "outputs": [
        {
          "output_type": "execute_result",
          "data": {
            "text/plain": [
              "393656"
            ]
          },
          "metadata": {
            "tags": []
          },
          "execution_count": 17
        }
      ]
    },
    {
      "cell_type": "code",
      "metadata": {
        "id": "IA-r7u6U_bht"
      },
      "source": [
        "user_groups_counts = user_groups.count().cumsum().reset_index()"
      ],
      "execution_count": 18,
      "outputs": []
    },
    {
      "cell_type": "code",
      "metadata": {
        "colab": {
          "base_uri": "https://localhost:8080/",
          "height": 197
        },
        "id": "HXemKH7DPJk8",
        "outputId": "a8700efb-99d0-4741-8534-2446b8195589"
      },
      "source": [
        "user_groups_counts.head()"
      ],
      "execution_count": 19,
      "outputs": [
        {
          "output_type": "execute_result",
          "data": {
            "text/html": [
              "<div>\n",
              "<style scoped>\n",
              "    .dataframe tbody tr th:only-of-type {\n",
              "        vertical-align: middle;\n",
              "    }\n",
              "\n",
              "    .dataframe tbody tr th {\n",
              "        vertical-align: top;\n",
              "    }\n",
              "\n",
              "    .dataframe thead th {\n",
              "        text-align: right;\n",
              "    }\n",
              "</style>\n",
              "<table border=\"1\" class=\"dataframe\">\n",
              "  <thead>\n",
              "    <tr style=\"text-align: right;\">\n",
              "      <th></th>\n",
              "      <th>user_id</th>\n",
              "      <th>content_id</th>\n",
              "    </tr>\n",
              "  </thead>\n",
              "  <tbody>\n",
              "    <tr>\n",
              "      <th>0</th>\n",
              "      <td>115</td>\n",
              "      <td>46</td>\n",
              "    </tr>\n",
              "    <tr>\n",
              "      <th>1</th>\n",
              "      <td>124</td>\n",
              "      <td>76</td>\n",
              "    </tr>\n",
              "    <tr>\n",
              "      <th>2</th>\n",
              "      <td>2746</td>\n",
              "      <td>96</td>\n",
              "    </tr>\n",
              "    <tr>\n",
              "      <th>3</th>\n",
              "      <td>5382</td>\n",
              "      <td>224</td>\n",
              "    </tr>\n",
              "    <tr>\n",
              "      <th>4</th>\n",
              "      <td>8623</td>\n",
              "      <td>336</td>\n",
              "    </tr>\n",
              "  </tbody>\n",
              "</table>\n",
              "</div>"
            ],
            "text/plain": [
              "   user_id  content_id\n",
              "0      115          46\n",
              "1      124          76\n",
              "2     2746          96\n",
              "3     5382         224\n",
              "4     8623         336"
            ]
          },
          "metadata": {
            "tags": []
          },
          "execution_count": 19
        }
      ]
    },
    {
      "cell_type": "markdown",
      "metadata": {
        "id": "t8crSnam-7Ti"
      },
      "source": [
        "#### Cross Validation"
      ]
    },
    {
      "cell_type": "markdown",
      "metadata": {
        "id": "my9cgGe5--QA"
      },
      "source": [
        "##### Simple K Fold"
      ]
    },
    {
      "cell_type": "code",
      "metadata": {
        "colab": {
          "base_uri": "https://localhost:8080/",
          "height": 197
        },
        "id": "fFPV8p7q_1-I",
        "outputId": "7b99047e-4ec4-4962-cb71-8ac49974e960"
      },
      "source": [
        "from sklearn.model_selection import KFold\n",
        "\n",
        "kf = KFold(n_splits=32, shuffle=False) #, random_state=42)\n",
        "\n",
        "for fold, (idx_train, idx_valid) in enumerate(kf.split(X=user_groups_counts)):\n",
        "    user_groups_counts.loc[idx_valid, \"fold\"] = fold\n",
        "    \n",
        "user_groups_counts.head()"
      ],
      "execution_count": 20,
      "outputs": [
        {
          "output_type": "execute_result",
          "data": {
            "text/html": [
              "<div>\n",
              "<style scoped>\n",
              "    .dataframe tbody tr th:only-of-type {\n",
              "        vertical-align: middle;\n",
              "    }\n",
              "\n",
              "    .dataframe tbody tr th {\n",
              "        vertical-align: top;\n",
              "    }\n",
              "\n",
              "    .dataframe thead th {\n",
              "        text-align: right;\n",
              "    }\n",
              "</style>\n",
              "<table border=\"1\" class=\"dataframe\">\n",
              "  <thead>\n",
              "    <tr style=\"text-align: right;\">\n",
              "      <th></th>\n",
              "      <th>user_id</th>\n",
              "      <th>content_id</th>\n",
              "      <th>fold</th>\n",
              "    </tr>\n",
              "  </thead>\n",
              "  <tbody>\n",
              "    <tr>\n",
              "      <th>0</th>\n",
              "      <td>115</td>\n",
              "      <td>46</td>\n",
              "      <td>0.0</td>\n",
              "    </tr>\n",
              "    <tr>\n",
              "      <th>1</th>\n",
              "      <td>124</td>\n",
              "      <td>76</td>\n",
              "      <td>0.0</td>\n",
              "    </tr>\n",
              "    <tr>\n",
              "      <th>2</th>\n",
              "      <td>2746</td>\n",
              "      <td>96</td>\n",
              "      <td>0.0</td>\n",
              "    </tr>\n",
              "    <tr>\n",
              "      <th>3</th>\n",
              "      <td>5382</td>\n",
              "      <td>224</td>\n",
              "      <td>0.0</td>\n",
              "    </tr>\n",
              "    <tr>\n",
              "      <th>4</th>\n",
              "      <td>8623</td>\n",
              "      <td>336</td>\n",
              "      <td>0.0</td>\n",
              "    </tr>\n",
              "  </tbody>\n",
              "</table>\n",
              "</div>"
            ],
            "text/plain": [
              "   user_id  content_id  fold\n",
              "0      115          46   0.0\n",
              "1      124          76   0.0\n",
              "2     2746          96   0.0\n",
              "3     5382         224   0.0\n",
              "4     8623         336   0.0"
            ]
          },
          "metadata": {
            "tags": []
          },
          "execution_count": 20
        }
      ]
    },
    {
      "cell_type": "code",
      "metadata": {
        "colab": {
          "base_uri": "https://localhost:8080/"
        },
        "id": "601Rx_D5Ajhy",
        "outputId": "2c92a6ff-c241-4e4b-8527-34ad3874621d"
      },
      "source": [
        "user_groups_counts[\"fold\"].value_counts()[:4]"
      ],
      "execution_count": 21,
      "outputs": [
        {
          "output_type": "execute_result",
          "data": {
            "text/plain": [
              "23.0    12302\n",
              "18.0    12302\n",
              "2.0     12302\n",
              "17.0    12302\n",
              "14.0    12302\n",
              "9.0     12302\n",
              "4.0     12302\n",
              "Name: fold, dtype: int64"
            ]
          },
          "metadata": {
            "tags": []
          },
          "execution_count": 21
        }
      ]
    },
    {
      "cell_type": "code",
      "metadata": {
        "colab": {
          "base_uri": "https://localhost:8080/"
        },
        "id": "-qVwEmB-FpWX",
        "outputId": "3a770937-fec7-4e88-c450-154cb7cad1b9"
      },
      "source": [
        "folds_arr = user_groups_counts.groupby(\"fold\").apply(lambda r: r[\"content_id\"].values)\n",
        "folds_arr[:4]"
      ],
      "execution_count": 23,
      "outputs": [
        {
          "output_type": "execute_result",
          "data": {
            "text/plain": [
              "fold\n",
              "0.0    [46, 76, 96, 224, 336, 353, 624, 1874, 8338, 8...\n",
              "1.0    [3112067, 3112612, 3113940, 3113957, 3113987, ...\n",
              "2.0    [6268883, 6268926, 6268970, 6269018, 6269078, ...\n",
              "3.0    [9329606, 9329636, 9329726, 9329757, 9329778, ...\n",
              "4.0    [12423772, 12424008, 12424038, 12424068, 12424...\n",
              "dtype: object"
            ]
          },
          "metadata": {
            "tags": []
          },
          "execution_count": 23
        }
      ]
    },
    {
      "cell_type": "code",
      "metadata": {
        "colab": {
          "base_uri": "https://localhost:8080/"
        },
        "id": "BPuDjYlmWBs0",
        "outputId": "75805607-b396-445a-cefb-a2781ac1c083"
      },
      "source": [
        "folds_arr[0][0]"
      ],
      "execution_count": 24,
      "outputs": [
        {
          "output_type": "execute_result",
          "data": {
            "text/plain": [
              "46"
            ]
          },
          "metadata": {
            "tags": []
          },
          "execution_count": 24
        }
      ]
    },
    {
      "cell_type": "code",
      "metadata": {
        "colab": {
          "base_uri": "https://localhost:8080/"
        },
        "id": "DCjeZ9hFmhl1",
        "outputId": "65db6387-40ba-448d-d6ed-8bfb83d48267"
      },
      "source": [
        "folds_partitions = {}\n",
        "fold_start = 0\n",
        "for fold in range(32):\n",
        "  folds_partitions[fold] = {}\n",
        "  folds_partitions[fold][\"start\"] = int(fold_start)\n",
        "  \n",
        "  end = folds_arr[fold][-1]\n",
        "  folds_partitions[fold][\"end\"] = int(end)\n",
        "  \n",
        "  fold_start = end\n",
        "  \n",
        "folds_partitions"
      ],
      "execution_count": 25,
      "outputs": [
        {
          "output_type": "execute_result",
          "data": {
            "text/plain": [
              "{0: {'end': 3111976, 'start': 0},\n",
              " 1: {'end': 6268678, 'start': 3111976},\n",
              " 2: {'end': 9329569, 'start': 6268678},\n",
              " 3: {'end': 12423404, 'start': 9329569},\n",
              " 4: {'end': 15699848, 'start': 12423404},\n",
              " 5: {'end': 18835690, 'start': 15699848},\n",
              " 6: {'end': 21951383, 'start': 18835690},\n",
              " 7: {'end': 25203902, 'start': 21951383},\n",
              " 8: {'end': 28361734, 'start': 25203902},\n",
              " 9: {'end': 31461135, 'start': 28361734},\n",
              " 10: {'end': 34743785, 'start': 31461135},\n",
              " 11: {'end': 38007120, 'start': 34743785},\n",
              " 12: {'end': 41263135, 'start': 38007120},\n",
              " 13: {'end': 44518260, 'start': 41263135},\n",
              " 14: {'end': 47748042, 'start': 44518260},\n",
              " 15: {'end': 50878303, 'start': 47748042},\n",
              " 16: {'end': 54003891, 'start': 50878303},\n",
              " 17: {'end': 57139684, 'start': 54003891},\n",
              " 18: {'end': 60255648, 'start': 57139684},\n",
              " 19: {'end': 63311425, 'start': 60255648},\n",
              " 20: {'end': 66455546, 'start': 63311425},\n",
              " 21: {'end': 69592621, 'start': 66455546},\n",
              " 22: {'end': 72718669, 'start': 69592621},\n",
              " 23: {'end': 75794315, 'start': 72718669},\n",
              " 24: {'end': 78998961, 'start': 75794315},\n",
              " 25: {'end': 82097475, 'start': 78998961},\n",
              " 26: {'end': 85175824, 'start': 82097475},\n",
              " 27: {'end': 88424319, 'start': 85175824},\n",
              " 28: {'end': 91730626, 'start': 88424319},\n",
              " 29: {'end': 94882421, 'start': 91730626},\n",
              " 30: {'end': 98107074, 'start': 94882421},\n",
              " 31: {'end': 101230332, 'start': 98107074}}"
            ]
          },
          "metadata": {
            "tags": []
          },
          "execution_count": 25
        }
      ]
    },
    {
      "cell_type": "markdown",
      "metadata": {
        "id": "CDlTZ-6prmdo"
      },
      "source": [
        "#### Lets process 1 Fold"
      ]
    },
    {
      "cell_type": "code",
      "metadata": {
        "colab": {
          "base_uri": "https://localhost:8080/",
          "height": 217
        },
        "id": "IxAC0f0BX-gd",
        "outputId": "776df35b-9094-47db-ad09-80e55f9c3d72"
      },
      "source": [
        "fold = 3\n",
        "\n",
        "fold_df = table[folds_partitions[fold][\"start\"]:folds_partitions[fold][\"end\"], :].to_pandas()\n",
        "fold_df.head()"
      ],
      "execution_count": 38,
      "outputs": [
        {
          "output_type": "execute_result",
          "data": {
            "text/html": [
              "<div>\n",
              "<style scoped>\n",
              "    .dataframe tbody tr th:only-of-type {\n",
              "        vertical-align: middle;\n",
              "    }\n",
              "\n",
              "    .dataframe tbody tr th {\n",
              "        vertical-align: top;\n",
              "    }\n",
              "\n",
              "    .dataframe thead th {\n",
              "        text-align: right;\n",
              "    }\n",
              "</style>\n",
              "<table border=\"1\" class=\"dataframe\">\n",
              "  <thead>\n",
              "    <tr style=\"text-align: right;\">\n",
              "      <th></th>\n",
              "      <th>row_id</th>\n",
              "      <th>timestamp</th>\n",
              "      <th>user_id</th>\n",
              "      <th>content_id</th>\n",
              "      <th>content_type_id</th>\n",
              "      <th>task_container_id</th>\n",
              "      <th>user_answer</th>\n",
              "      <th>answered_correctly</th>\n",
              "      <th>prior_question_elapsed_time</th>\n",
              "      <th>prior_question_had_explanation</th>\n",
              "    </tr>\n",
              "  </thead>\n",
              "  <tbody>\n",
              "    <tr>\n",
              "      <th>0</th>\n",
              "      <td>9329569</td>\n",
              "      <td>0</td>\n",
              "      <td>202836341</td>\n",
              "      <td>4207</td>\n",
              "      <td>False</td>\n",
              "      <td>0</td>\n",
              "      <td>3</td>\n",
              "      <td>1</td>\n",
              "      <td>NaN</td>\n",
              "      <td>NaN</td>\n",
              "    </tr>\n",
              "    <tr>\n",
              "      <th>1</th>\n",
              "      <td>9329570</td>\n",
              "      <td>13323</td>\n",
              "      <td>202836341</td>\n",
              "      <td>4097</td>\n",
              "      <td>False</td>\n",
              "      <td>1</td>\n",
              "      <td>2</td>\n",
              "      <td>1</td>\n",
              "      <td>11000.0</td>\n",
              "      <td>False</td>\n",
              "    </tr>\n",
              "    <tr>\n",
              "      <th>2</th>\n",
              "      <td>9329571</td>\n",
              "      <td>27321</td>\n",
              "      <td>202836341</td>\n",
              "      <td>6659</td>\n",
              "      <td>False</td>\n",
              "      <td>2</td>\n",
              "      <td>1</td>\n",
              "      <td>0</td>\n",
              "      <td>9000.0</td>\n",
              "      <td>False</td>\n",
              "    </tr>\n",
              "    <tr>\n",
              "      <th>3</th>\n",
              "      <td>9329572</td>\n",
              "      <td>54416</td>\n",
              "      <td>202836341</td>\n",
              "      <td>6650</td>\n",
              "      <td>False</td>\n",
              "      <td>3</td>\n",
              "      <td>1</td>\n",
              "      <td>1</td>\n",
              "      <td>12000.0</td>\n",
              "      <td>False</td>\n",
              "    </tr>\n",
              "    <tr>\n",
              "      <th>4</th>\n",
              "      <td>9329573</td>\n",
              "      <td>74648</td>\n",
              "      <td>202836341</td>\n",
              "      <td>5653</td>\n",
              "      <td>False</td>\n",
              "      <td>4</td>\n",
              "      <td>2</td>\n",
              "      <td>0</td>\n",
              "      <td>24000.0</td>\n",
              "      <td>False</td>\n",
              "    </tr>\n",
              "  </tbody>\n",
              "</table>\n",
              "</div>"
            ],
            "text/plain": [
              "    row_id  ...  prior_question_had_explanation\n",
              "0  9329569  ...                             NaN\n",
              "1  9329570  ...                           False\n",
              "2  9329571  ...                           False\n",
              "3  9329572  ...                           False\n",
              "4  9329573  ...                           False\n",
              "\n",
              "[5 rows x 10 columns]"
            ]
          },
          "metadata": {
            "tags": []
          },
          "execution_count": 38
        }
      ]
    },
    {
      "cell_type": "code",
      "metadata": {
        "id": "EaUGrSmUma6s"
      },
      "source": [
        "dtypes_train = {\n",
        "    'row_id': 'int64',\n",
        "    'timestamp': 'int64',\n",
        "    'user_id': 'int32',\n",
        "    'content_id': 'int16',\n",
        "    'content_type_id': 'int8',\n",
        "    'task_container_id': 'int16',\n",
        "    'user_answer': 'int8',\n",
        "    'answered_correctly': 'int8',\n",
        "    'prior_question_elapsed_time': 'float32',\n",
        "    'prior_question_had_explanation': 'boolean'\n",
        "    }\n",
        "\n",
        "dtypes_questions = {\n",
        "    \"question_id\": \"\",\n",
        "    \"bundle_id\": \"\",\n",
        "    \"correct_answer\": \"\",\n",
        "    \"part\": \"int16\",\n",
        "    \"tags\": \"\",\n",
        "}\n",
        "\n",
        "dtypes_lectures = {\n",
        "    \"lecture_id\": \"\",\n",
        "    \"part\": \"\",\n",
        "    \"tag\": \"\",\n",
        "    \"type_of\": \"\",\n",
        "}"
      ],
      "execution_count": 93,
      "outputs": []
    },
    {
      "cell_type": "code",
      "metadata": {
        "colab": {
          "base_uri": "https://localhost:8080/",
          "height": 197
        },
        "id": "6NKlVKzxg5pz",
        "outputId": "c18eccf5-8662-4fc7-939f-bc100119f42d"
      },
      "source": [
        "DATA_PATH = 'gs://kds-0e01f6e460a5b44782a68afc7e7608a54fe969152a185f32b5dba119'\n",
        "questions_df = pd.read_csv(DATA_PATH + \"/questions.csv\")\n",
        "questions_df.head()"
      ],
      "execution_count": 39,
      "outputs": [
        {
          "output_type": "execute_result",
          "data": {
            "text/html": [
              "<div>\n",
              "<style scoped>\n",
              "    .dataframe tbody tr th:only-of-type {\n",
              "        vertical-align: middle;\n",
              "    }\n",
              "\n",
              "    .dataframe tbody tr th {\n",
              "        vertical-align: top;\n",
              "    }\n",
              "\n",
              "    .dataframe thead th {\n",
              "        text-align: right;\n",
              "    }\n",
              "</style>\n",
              "<table border=\"1\" class=\"dataframe\">\n",
              "  <thead>\n",
              "    <tr style=\"text-align: right;\">\n",
              "      <th></th>\n",
              "      <th>question_id</th>\n",
              "      <th>bundle_id</th>\n",
              "      <th>correct_answer</th>\n",
              "      <th>part</th>\n",
              "      <th>tags</th>\n",
              "    </tr>\n",
              "  </thead>\n",
              "  <tbody>\n",
              "    <tr>\n",
              "      <th>0</th>\n",
              "      <td>0</td>\n",
              "      <td>0</td>\n",
              "      <td>0</td>\n",
              "      <td>1</td>\n",
              "      <td>51 131 162 38</td>\n",
              "    </tr>\n",
              "    <tr>\n",
              "      <th>1</th>\n",
              "      <td>1</td>\n",
              "      <td>1</td>\n",
              "      <td>1</td>\n",
              "      <td>1</td>\n",
              "      <td>131 36 81</td>\n",
              "    </tr>\n",
              "    <tr>\n",
              "      <th>2</th>\n",
              "      <td>2</td>\n",
              "      <td>2</td>\n",
              "      <td>0</td>\n",
              "      <td>1</td>\n",
              "      <td>131 101 162 92</td>\n",
              "    </tr>\n",
              "    <tr>\n",
              "      <th>3</th>\n",
              "      <td>3</td>\n",
              "      <td>3</td>\n",
              "      <td>0</td>\n",
              "      <td>1</td>\n",
              "      <td>131 149 162 29</td>\n",
              "    </tr>\n",
              "    <tr>\n",
              "      <th>4</th>\n",
              "      <td>4</td>\n",
              "      <td>4</td>\n",
              "      <td>3</td>\n",
              "      <td>1</td>\n",
              "      <td>131 5 162 38</td>\n",
              "    </tr>\n",
              "  </tbody>\n",
              "</table>\n",
              "</div>"
            ],
            "text/plain": [
              "   question_id  bundle_id  correct_answer  part            tags\n",
              "0            0          0               0     1   51 131 162 38\n",
              "1            1          1               1     1       131 36 81\n",
              "2            2          2               0     1  131 101 162 92\n",
              "3            3          3               0     1  131 149 162 29\n",
              "4            4          4               3     1    131 5 162 38"
            ]
          },
          "metadata": {
            "tags": []
          },
          "execution_count": 39
        }
      ]
    },
    {
      "cell_type": "code",
      "metadata": {
        "id": "p4kKJdJ6fqfS"
      },
      "source": [
        "# removing lecture rows.\n",
        "fold_df = fold_df[fold_df.answered_correctly != -1]"
      ],
      "execution_count": 40,
      "outputs": []
    },
    {
      "cell_type": "code",
      "metadata": {
        "colab": {
          "base_uri": "https://localhost:8080/",
          "height": 217
        },
        "id": "1ow1KY7uf0B_",
        "outputId": "dd60863c-1fcf-4aa4-c4f1-a85b6c4c61eb"
      },
      "source": [
        "fold_df = fold_df.join(questions_df, on=\"content_id\")\n",
        "fold_df.head()"
      ],
      "execution_count": 41,
      "outputs": [
        {
          "output_type": "execute_result",
          "data": {
            "text/html": [
              "<div>\n",
              "<style scoped>\n",
              "    .dataframe tbody tr th:only-of-type {\n",
              "        vertical-align: middle;\n",
              "    }\n",
              "\n",
              "    .dataframe tbody tr th {\n",
              "        vertical-align: top;\n",
              "    }\n",
              "\n",
              "    .dataframe thead th {\n",
              "        text-align: right;\n",
              "    }\n",
              "</style>\n",
              "<table border=\"1\" class=\"dataframe\">\n",
              "  <thead>\n",
              "    <tr style=\"text-align: right;\">\n",
              "      <th></th>\n",
              "      <th>row_id</th>\n",
              "      <th>timestamp</th>\n",
              "      <th>user_id</th>\n",
              "      <th>content_id</th>\n",
              "      <th>content_type_id</th>\n",
              "      <th>task_container_id</th>\n",
              "      <th>user_answer</th>\n",
              "      <th>answered_correctly</th>\n",
              "      <th>prior_question_elapsed_time</th>\n",
              "      <th>prior_question_had_explanation</th>\n",
              "      <th>question_id</th>\n",
              "      <th>bundle_id</th>\n",
              "      <th>correct_answer</th>\n",
              "      <th>part</th>\n",
              "      <th>tags</th>\n",
              "    </tr>\n",
              "  </thead>\n",
              "  <tbody>\n",
              "    <tr>\n",
              "      <th>0</th>\n",
              "      <td>9329569</td>\n",
              "      <td>0</td>\n",
              "      <td>202836341</td>\n",
              "      <td>4207</td>\n",
              "      <td>False</td>\n",
              "      <td>0</td>\n",
              "      <td>3</td>\n",
              "      <td>1</td>\n",
              "      <td>NaN</td>\n",
              "      <td>NaN</td>\n",
              "      <td>4207</td>\n",
              "      <td>4207</td>\n",
              "      <td>3</td>\n",
              "      <td>5</td>\n",
              "      <td>89</td>\n",
              "    </tr>\n",
              "    <tr>\n",
              "      <th>1</th>\n",
              "      <td>9329570</td>\n",
              "      <td>13323</td>\n",
              "      <td>202836341</td>\n",
              "      <td>4097</td>\n",
              "      <td>False</td>\n",
              "      <td>1</td>\n",
              "      <td>2</td>\n",
              "      <td>1</td>\n",
              "      <td>11000.0</td>\n",
              "      <td>False</td>\n",
              "      <td>4097</td>\n",
              "      <td>4097</td>\n",
              "      <td>2</td>\n",
              "      <td>5</td>\n",
              "      <td>55</td>\n",
              "    </tr>\n",
              "    <tr>\n",
              "      <th>2</th>\n",
              "      <td>9329571</td>\n",
              "      <td>27321</td>\n",
              "      <td>202836341</td>\n",
              "      <td>6659</td>\n",
              "      <td>False</td>\n",
              "      <td>2</td>\n",
              "      <td>1</td>\n",
              "      <td>0</td>\n",
              "      <td>9000.0</td>\n",
              "      <td>False</td>\n",
              "      <td>6659</td>\n",
              "      <td>6659</td>\n",
              "      <td>3</td>\n",
              "      <td>5</td>\n",
              "      <td>53</td>\n",
              "    </tr>\n",
              "    <tr>\n",
              "      <th>3</th>\n",
              "      <td>9329572</td>\n",
              "      <td>54416</td>\n",
              "      <td>202836341</td>\n",
              "      <td>6650</td>\n",
              "      <td>False</td>\n",
              "      <td>3</td>\n",
              "      <td>1</td>\n",
              "      <td>1</td>\n",
              "      <td>12000.0</td>\n",
              "      <td>False</td>\n",
              "      <td>6650</td>\n",
              "      <td>6650</td>\n",
              "      <td>1</td>\n",
              "      <td>5</td>\n",
              "      <td>53</td>\n",
              "    </tr>\n",
              "    <tr>\n",
              "      <th>4</th>\n",
              "      <td>9329573</td>\n",
              "      <td>74648</td>\n",
              "      <td>202836341</td>\n",
              "      <td>5653</td>\n",
              "      <td>False</td>\n",
              "      <td>4</td>\n",
              "      <td>2</td>\n",
              "      <td>0</td>\n",
              "      <td>24000.0</td>\n",
              "      <td>False</td>\n",
              "      <td>5653</td>\n",
              "      <td>5653</td>\n",
              "      <td>1</td>\n",
              "      <td>5</td>\n",
              "      <td>96</td>\n",
              "    </tr>\n",
              "  </tbody>\n",
              "</table>\n",
              "</div>"
            ],
            "text/plain": [
              "    row_id  timestamp    user_id  ...  correct_answer  part  tags\n",
              "0  9329569          0  202836341  ...               3     5    89\n",
              "1  9329570      13323  202836341  ...               2     5    55\n",
              "2  9329571      27321  202836341  ...               3     5    53\n",
              "3  9329572      54416  202836341  ...               1     5    53\n",
              "4  9329573      74648  202836341  ...               1     5    96\n",
              "\n",
              "[5 rows x 15 columns]"
            ]
          },
          "metadata": {
            "tags": []
          },
          "execution_count": 41
        }
      ]
    },
    {
      "cell_type": "code",
      "metadata": {
        "colab": {
          "base_uri": "https://localhost:8080/",
          "height": 197
        },
        "id": "eYpNv0WBf7MJ",
        "outputId": "e1fadcf6-12fd-4f46-efb1-9b8576b01a3d"
      },
      "source": [
        "drop_cols = [\n",
        "             \"row_id\", \n",
        "             \"timestamp\", \n",
        "             \"content_type_id\", \n",
        "             \"user_answer\", \n",
        "             \"prior_question_had_explanation\", \n",
        "             \"question_id\", \n",
        "             \"bundle_id\", \n",
        "             \"correct_answer\", \n",
        "             \"tags\"\n",
        "             ]\n",
        "fold_df = fold_df.drop(drop_cols, axis=1)\n",
        "fold_df.head()"
      ],
      "execution_count": 42,
      "outputs": [
        {
          "output_type": "execute_result",
          "data": {
            "text/html": [
              "<div>\n",
              "<style scoped>\n",
              "    .dataframe tbody tr th:only-of-type {\n",
              "        vertical-align: middle;\n",
              "    }\n",
              "\n",
              "    .dataframe tbody tr th {\n",
              "        vertical-align: top;\n",
              "    }\n",
              "\n",
              "    .dataframe thead th {\n",
              "        text-align: right;\n",
              "    }\n",
              "</style>\n",
              "<table border=\"1\" class=\"dataframe\">\n",
              "  <thead>\n",
              "    <tr style=\"text-align: right;\">\n",
              "      <th></th>\n",
              "      <th>user_id</th>\n",
              "      <th>content_id</th>\n",
              "      <th>task_container_id</th>\n",
              "      <th>answered_correctly</th>\n",
              "      <th>prior_question_elapsed_time</th>\n",
              "      <th>part</th>\n",
              "    </tr>\n",
              "  </thead>\n",
              "  <tbody>\n",
              "    <tr>\n",
              "      <th>0</th>\n",
              "      <td>202836341</td>\n",
              "      <td>4207</td>\n",
              "      <td>0</td>\n",
              "      <td>1</td>\n",
              "      <td>NaN</td>\n",
              "      <td>5</td>\n",
              "    </tr>\n",
              "    <tr>\n",
              "      <th>1</th>\n",
              "      <td>202836341</td>\n",
              "      <td>4097</td>\n",
              "      <td>1</td>\n",
              "      <td>1</td>\n",
              "      <td>11000.0</td>\n",
              "      <td>5</td>\n",
              "    </tr>\n",
              "    <tr>\n",
              "      <th>2</th>\n",
              "      <td>202836341</td>\n",
              "      <td>6659</td>\n",
              "      <td>2</td>\n",
              "      <td>0</td>\n",
              "      <td>9000.0</td>\n",
              "      <td>5</td>\n",
              "    </tr>\n",
              "    <tr>\n",
              "      <th>3</th>\n",
              "      <td>202836341</td>\n",
              "      <td>6650</td>\n",
              "      <td>3</td>\n",
              "      <td>1</td>\n",
              "      <td>12000.0</td>\n",
              "      <td>5</td>\n",
              "    </tr>\n",
              "    <tr>\n",
              "      <th>4</th>\n",
              "      <td>202836341</td>\n",
              "      <td>5653</td>\n",
              "      <td>4</td>\n",
              "      <td>0</td>\n",
              "      <td>24000.0</td>\n",
              "      <td>5</td>\n",
              "    </tr>\n",
              "  </tbody>\n",
              "</table>\n",
              "</div>"
            ],
            "text/plain": [
              "     user_id  content_id  ...  prior_question_elapsed_time  part\n",
              "0  202836341        4207  ...                          NaN     5\n",
              "1  202836341        4097  ...                      11000.0     5\n",
              "2  202836341        6659  ...                       9000.0     5\n",
              "3  202836341        6650  ...                      12000.0     5\n",
              "4  202836341        5653  ...                      24000.0     5\n",
              "\n",
              "[5 rows x 6 columns]"
            ]
          },
          "metadata": {
            "tags": []
          },
          "execution_count": 42
        }
      ]
    },
    {
      "cell_type": "code",
      "metadata": {
        "colab": {
          "base_uri": "https://localhost:8080/",
          "height": 197
        },
        "id": "4Io_MvtGgEa5",
        "outputId": "51046394-cef8-4575-c0b4-d281d17dffa4"
      },
      "source": [
        "# 0 is used for padding, so increment 1\n",
        "indicator_cols = [\"content_id\", \"task_container_id\", \"part\"]\n",
        "for c in indicator_cols:\n",
        "  fold_df[c] = fold_df[c] + 1\n",
        "fold_df.head()"
      ],
      "execution_count": 43,
      "outputs": [
        {
          "output_type": "execute_result",
          "data": {
            "text/html": [
              "<div>\n",
              "<style scoped>\n",
              "    .dataframe tbody tr th:only-of-type {\n",
              "        vertical-align: middle;\n",
              "    }\n",
              "\n",
              "    .dataframe tbody tr th {\n",
              "        vertical-align: top;\n",
              "    }\n",
              "\n",
              "    .dataframe thead th {\n",
              "        text-align: right;\n",
              "    }\n",
              "</style>\n",
              "<table border=\"1\" class=\"dataframe\">\n",
              "  <thead>\n",
              "    <tr style=\"text-align: right;\">\n",
              "      <th></th>\n",
              "      <th>user_id</th>\n",
              "      <th>content_id</th>\n",
              "      <th>task_container_id</th>\n",
              "      <th>answered_correctly</th>\n",
              "      <th>prior_question_elapsed_time</th>\n",
              "      <th>part</th>\n",
              "    </tr>\n",
              "  </thead>\n",
              "  <tbody>\n",
              "    <tr>\n",
              "      <th>0</th>\n",
              "      <td>202836341</td>\n",
              "      <td>4208</td>\n",
              "      <td>1</td>\n",
              "      <td>1</td>\n",
              "      <td>NaN</td>\n",
              "      <td>6</td>\n",
              "    </tr>\n",
              "    <tr>\n",
              "      <th>1</th>\n",
              "      <td>202836341</td>\n",
              "      <td>4098</td>\n",
              "      <td>2</td>\n",
              "      <td>1</td>\n",
              "      <td>11000.0</td>\n",
              "      <td>6</td>\n",
              "    </tr>\n",
              "    <tr>\n",
              "      <th>2</th>\n",
              "      <td>202836341</td>\n",
              "      <td>6660</td>\n",
              "      <td>3</td>\n",
              "      <td>0</td>\n",
              "      <td>9000.0</td>\n",
              "      <td>6</td>\n",
              "    </tr>\n",
              "    <tr>\n",
              "      <th>3</th>\n",
              "      <td>202836341</td>\n",
              "      <td>6651</td>\n",
              "      <td>4</td>\n",
              "      <td>1</td>\n",
              "      <td>12000.0</td>\n",
              "      <td>6</td>\n",
              "    </tr>\n",
              "    <tr>\n",
              "      <th>4</th>\n",
              "      <td>202836341</td>\n",
              "      <td>5654</td>\n",
              "      <td>5</td>\n",
              "      <td>0</td>\n",
              "      <td>24000.0</td>\n",
              "      <td>6</td>\n",
              "    </tr>\n",
              "  </tbody>\n",
              "</table>\n",
              "</div>"
            ],
            "text/plain": [
              "     user_id  content_id  ...  prior_question_elapsed_time  part\n",
              "0  202836341        4208  ...                          NaN     6\n",
              "1  202836341        4098  ...                      11000.0     6\n",
              "2  202836341        6660  ...                       9000.0     6\n",
              "3  202836341        6651  ...                      12000.0     6\n",
              "4  202836341        5654  ...                      24000.0     6\n",
              "\n",
              "[5 rows x 6 columns]"
            ]
          },
          "metadata": {
            "tags": []
          },
          "execution_count": 43
        }
      ]
    },
    {
      "cell_type": "code",
      "metadata": {
        "colab": {
          "base_uri": "https://localhost:8080/"
        },
        "id": "HEbZliM3mgF5",
        "outputId": "ce96ee5a-a017-4b3b-a332-35b688702ac3"
      },
      "source": [
        "user_groups = fold_df.groupby(\"user_id\")\n",
        "user_groups_arr = user_groups.apply(\n",
        "    lambda rows: (\n",
        "        rows[\"content_id\"].values.astype(dtypes_train[\"content_id\"]), \n",
        "        rows[\"task_container_id\"].values.astype(dtypes_train[\"task_container_id\"]), \n",
        "        rows[\"prior_question_elapsed_time\"].values.astype(dtypes_train[\"prior_question_elapsed_time\"]),\n",
        "        rows[\"part\"].values.astype(dtypes_questions[\"part\"]),\n",
        "        (rows[\"answered_correctly\"].shift(fill_value=2)+1).values.astype(dtypes_train[\"answered_correctly\"]), # previous question answered as a feature, 2 as fill (because first q would not have this val), +1 since we consider 0 as padding.\n",
        "        rows[\"answered_correctly\"].values.astype(dtypes_train[\"answered_correctly\"]),\n",
        "        )\n",
        "    )\n",
        "user_groups_arr"
      ],
      "execution_count": 94,
      "outputs": [
        {
          "output_type": "execute_result",
          "data": {
            "text/plain": [
              "user_id\n",
              "202836341    ([4208, 4098, 6660, 6651, 5654, 9694, 5653, 52...\n",
              "202838719    ([7901, 7877, 176, 1279, 2065, 2066, 2064, 336...\n",
              "202840484    ([7901, 7877, 176, 1279, 2064, 2066, 2065, 336...\n",
              "202846170    ([6669, 285, 5962, 3659, 5301, 176, 218, 840, ...\n",
              "202846211    ([6266, 4661, 5499, 4555, 9700, 4881, 4089, 66...\n",
              "                                   ...                        \n",
              "270318132    ([7901, 7877, 176, 1279, 2065, 2064, 2066, 336...\n",
              "270336415    ([7901, 7877, 176, 1279, 2066, 2064, 2065, 336...\n",
              "270342519    ([7901, 7877, 176, 1279, 2065, 2066, 2064, 336...\n",
              "270348524    ([4519, 326, 489, 218, 5845, 9301, 4124, 8208,...\n",
              "270349461    ([4517, 5024, 218, 4083, 6375, 4047, 6361, 424...\n",
              "Length: 12302, dtype: object"
            ]
          },
          "metadata": {
            "tags": []
          },
          "execution_count": 94
        }
      ]
    },
    {
      "cell_type": "code",
      "metadata": {
        "colab": {
          "base_uri": "https://localhost:8080/"
        },
        "id": "qTaj6BdEpHbN",
        "outputId": "3cb0f4ab-4ef5-4f4a-fe9c-49f63a386c5b"
      },
      "source": [
        "user_groups_arr[202836341][0] # content_id"
      ],
      "execution_count": 134,
      "outputs": [
        {
          "output_type": "execute_result",
          "data": {
            "text/plain": [
              "array([ 4208,  4098,  6660,  6651,  5654,  9694,  5653,   527,   658,\n",
              "         386, 10688,  1375,   912,   219, 10687,   885,  1151,  5718,\n",
              "        3874,  4674,  8355,  6676,  3999,  5457,  8905,  4261,  4979,\n",
              "        6475,  9372,  6252,  6454,  3683,  9452,  3802,  5583,  4459,\n",
              "        9598], dtype=int16)"
            ]
          },
          "metadata": {
            "tags": []
          },
          "execution_count": 134
        }
      ]
    },
    {
      "cell_type": "code",
      "metadata": {
        "colab": {
          "base_uri": "https://localhost:8080/"
        },
        "id": "2GtIVpUMqlq4",
        "outputId": "1870fcd3-31ce-405b-e0e9-389e6934768e"
      },
      "source": [
        "user_groups_arr[202836341][1] # task_container_id"
      ],
      "execution_count": 138,
      "outputs": [
        {
          "output_type": "execute_result",
          "data": {
            "text/plain": [
              "array([ 1,  2,  3,  4,  5,  6,  7,  8,  9, 10, 11, 12, 13, 14, 15, 16, 17,\n",
              "       18, 19, 20, 21, 22, 23, 24, 25, 26, 27, 28, 29, 30, 31, 32, 33, 34,\n",
              "       35, 36, 37], dtype=int16)"
            ]
          },
          "metadata": {
            "tags": []
          },
          "execution_count": 138
        }
      ]
    },
    {
      "cell_type": "code",
      "metadata": {
        "colab": {
          "base_uri": "https://localhost:8080/"
        },
        "id": "LMVTGstljyKz",
        "outputId": "88be8285-7aee-4cee-fd4b-00ab7a35980e"
      },
      "source": [
        "user_groups_arr[202836341][4] # prev_answered_correctly"
      ],
      "execution_count": 95,
      "outputs": [
        {
          "output_type": "execute_result",
          "data": {
            "text/plain": [
              "array([3, 2, 2, 1, 2, 1, 1, 1, 2, 2, 2, 2, 2, 2, 2, 1, 2, 2, 1, 1, 2, 2,\n",
              "       2, 2, 2, 2, 1, 2, 2, 1, 2, 1, 1, 2, 2, 2, 2], dtype=int8)"
            ]
          },
          "metadata": {
            "tags": []
          },
          "execution_count": 95
        }
      ]
    },
    {
      "cell_type": "code",
      "metadata": {
        "colab": {
          "base_uri": "https://localhost:8080/"
        },
        "id": "sZb39AtGkBAv",
        "outputId": "3413ad64-41a7-4515-e525-42d2e18e732f"
      },
      "source": [
        "user_groups_arr[202836341][5] + 1 # answered_correctly +1 just for comparing with above"
      ],
      "execution_count": 96,
      "outputs": [
        {
          "output_type": "execute_result",
          "data": {
            "text/plain": [
              "array([2, 2, 1, 2, 1, 1, 1, 2, 2, 2, 2, 2, 2, 2, 1, 2, 2, 1, 1, 2, 2, 2,\n",
              "       2, 2, 2, 1, 2, 2, 1, 2, 1, 1, 2, 2, 2, 2, 1], dtype=int8)"
            ]
          },
          "metadata": {
            "tags": []
          },
          "execution_count": 96
        }
      ]
    },
    {
      "cell_type": "code",
      "metadata": {
        "colab": {
          "base_uri": "https://localhost:8080/"
        },
        "id": "pgAq00I_mHaC",
        "outputId": "d50bbec7-0df1-4620-a6ef-c812091bf1fa"
      },
      "source": [
        "for i in range(6):\n",
        "  print(user_groups_arr[202836341][i].dtype)"
      ],
      "execution_count": 112,
      "outputs": [
        {
          "output_type": "stream",
          "text": [
            "int16\n",
            "int16\n",
            "float32\n",
            "int16\n",
            "int8\n",
            "int8\n"
          ],
          "name": "stdout"
        }
      ]
    },
    {
      "cell_type": "code",
      "metadata": {
        "id": "3yOiMZ-fmwqx"
      },
      "source": [
        "def _bytes_feature(value):\n",
        "  \"\"\"Returns a bytes_list from a string / byte.\"\"\"\n",
        "  if isinstance(value, type(tf.constant(0))):\n",
        "    value = value.numpy() # BytesList won't unpack a string from an EagerTensor.\n",
        "  return tf.train.Feature(bytes_list=tf.train.BytesList(value=[value]))\n",
        "\n",
        "def _float_feature(value):\n",
        "  \"\"\"Returns a float_list from a float / double.\"\"\"\n",
        "  return tf.train.Feature(float_list=tf.train.FloatList(value=[value]))\n",
        "\n",
        "def _int64_feature(value):\n",
        "  \"\"\"Returns an int64_list from a bool / enum / int / uint.\"\"\"\n",
        "  return tf.train.Feature(int64_list=tf.train.Int64List(value=[value]))"
      ],
      "execution_count": 113,
      "outputs": []
    },
    {
      "cell_type": "code",
      "metadata": {
        "id": "jEHEYPm_nGf8"
      },
      "source": [
        "def serialize_example(user_arr):\n",
        "  feature = {\n",
        "      \"content_id\": _bytes_feature(tf.io.serialize_tensor(user_arr[0])),\n",
        "      \"task_container_id\": _bytes_feature(tf.io.serialize_tensor(user_arr[1])),\n",
        "      \"prior_question_elapsed_time\": _bytes_feature(tf.io.serialize_tensor(user_arr[2])),\n",
        "      \"part\": _bytes_feature(tf.io.serialize_tensor(user_arr[3])),\n",
        "      \"prev_answered_correctly\": _bytes_feature(tf.io.serialize_tensor(user_arr[4])),\n",
        "      \"answered_correctly\": _bytes_feature(tf.io.serialize_tensor(user_arr[5])),\n",
        "  }\n",
        "  proto_example = tf.train.Example(features=tf.train.Features(feature=feature))\n",
        "  serialized_example = proto_example.SerializeToString()\n",
        "  return serialized_example"
      ],
      "execution_count": 114,
      "outputs": []
    },
    {
      "cell_type": "code",
      "metadata": {
        "id": "6r3vADg98JG4"
      },
      "source": [
        "feature_desc = {\n",
        "    \"content_id\": tf.io.FixedLenFeature([], tf.string),\n",
        "    \"task_container_id\": tf.io.FixedLenFeature([], tf.string),\n",
        "    \"prior_question_elapsed_time\": tf.io.FixedLenFeature([], tf.string),\n",
        "    \"part\": tf.io.FixedLenFeature([], tf.string),\n",
        "    \"prev_answered_correctly\": tf.io.FixedLenFeature([], tf.string),\n",
        "    \"answered_correctly\": tf.io.FixedLenFeature([], tf.string),\n",
        "}"
      ],
      "execution_count": 115,
      "outputs": []
    },
    {
      "cell_type": "code",
      "metadata": {
        "id": "xqOLG1BXn1Qo"
      },
      "source": [
        "def create_tfrecords_from_user_groups(user_groups_arr, part):\n",
        "\n",
        "  with tf.io.TFRecordWriter(f\"tfrec_{part}.tfrec\") as writer:\n",
        "    for user_arr in user_groups_arr:\n",
        "      example = serialize_example(user_arr)\n",
        "\n",
        "      writer.write(example)"
      ],
      "execution_count": 145,
      "outputs": []
    },
    {
      "cell_type": "code",
      "metadata": {
        "id": "PvpJoGylobji"
      },
      "source": [
        "create_tfrecords_from_user_groups(user_groups_arr, 0)"
      ],
      "execution_count": 117,
      "outputs": []
    },
    {
      "cell_type": "markdown",
      "metadata": {
        "id": "jEcvazp-acpD"
      },
      "source": [
        "### Read TFRecords and Create TF Dataset"
      ]
    },
    {
      "cell_type": "code",
      "metadata": {
        "id": "_YvUwAkOapdL"
      },
      "source": [
        "SEQ_LEN = 200"
      ],
      "execution_count": 118,
      "outputs": []
    },
    {
      "cell_type": "code",
      "metadata": {
        "id": "fndBm1eMyLWy"
      },
      "source": [
        "def parse_example(example):\n",
        "  example = tf.io.parse_single_example(example, feature_desc)\n",
        "\n",
        "  content_id = tf.io.parse_tensor(example[\"content_id\"], tf.int16)\n",
        "  task_container_id = tf.io.parse_tensor(example[\"task_container_id\"], tf.int16)\n",
        "  prior_question_elapsed_time = tf.io.parse_tensor(example[\"prior_question_elapsed_time\"], tf.float32)\n",
        "  part = tf.io.parse_tensor(example[\"part\"], tf.int16)\n",
        "  prev_answered_correctly = tf.io.parse_tensor(example[\"prev_answered_correctly\"], tf.int8)\n",
        "  answered_correctly = tf.io.parse_tensor(example[\"answered_correctly\"], tf.int8)\n",
        "  \n",
        "  return tf.stack([\n",
        "      tf.cast(content_id, tf.float32),\n",
        "      tf.cast(task_container_id, tf.float32),\n",
        "      tf.cast(prior_question_elapsed_time, tf.float32),\n",
        "      tf.cast(part, tf.float32),\n",
        "      tf.cast(prev_answered_correctly, tf.float32),\n",
        "      tf.cast(answered_correctly, tf.float32)\n",
        "  ])"
      ],
      "execution_count": 119,
      "outputs": []
    },
    {
      "cell_type": "code",
      "metadata": {
        "colab": {
          "base_uri": "https://localhost:8080/"
        },
        "id": "SxJc5R2Gv4iT",
        "outputId": "2c5455f5-91d2-44d6-a505-387d26d75b0e"
      },
      "source": [
        "filenames = tf.io.gfile.glob(\"*.tfrec\")\n",
        "filenames"
      ],
      "execution_count": 120,
      "outputs": [
        {
          "output_type": "execute_result",
          "data": {
            "text/plain": [
              "['./tfrecoreds.tfrec']"
            ]
          },
          "metadata": {
            "tags": []
          },
          "execution_count": 120
        }
      ]
    },
    {
      "cell_type": "code",
      "metadata": {
        "id": "LhpKsqjvx8MF"
      },
      "source": [
        "dataset = tf.data.TFRecordDataset(filenames)"
      ],
      "execution_count": 121,
      "outputs": []
    },
    {
      "cell_type": "code",
      "metadata": {
        "id": "BOaHKp6wyCoC"
      },
      "source": [
        "dataset = dataset.map(parse_example)"
      ],
      "execution_count": 122,
      "outputs": []
    },
    {
      "cell_type": "code",
      "metadata": {
        "id": "G4KcROUFUDd_"
      },
      "source": [
        "@tf.function\n",
        "def pad(a, seq_len, max_seq_len):\n",
        "  s = max_seq_len - seq_len\n",
        "  # making [[0, 0], [s, 0]]\n",
        "  r = tf.stack([s, tf.constant(0)])\n",
        "  t = tf.stack([tf.constant([0, 0]), r])\n",
        "  \n",
        "  return tf.pad(a, t) # ,1 to debug\n",
        "\n",
        "@tf.function\n",
        "def trim(a, seq_len,  max_seq_len):\n",
        "  start = tf.squeeze(tf.random.uniform((1,), maxval=(seq_len-max_seq_len), dtype=tf.int32))\n",
        "  # https://www.quora.com/How-does-tf-slice-work-in-TensorFlow\n",
        "  begin = tf.stack([tf.constant(0), start])\n",
        "  size = tf.stack([tf.shape(a)[0], max_seq_len])\n",
        "  \n",
        "  return tf.slice(a, begin, size) # , start - to debug\n",
        "\n",
        "@tf.function\n",
        "def pad_or_trim(a):\n",
        "  seq_len = tf.shape(a)[-1]\n",
        "  max_seq_len = SEQ_LEN\n",
        "  fn = tf.cond(tf.less_equal(seq_len, max_seq_len), lambda: pad(a, seq_len, max_seq_len), lambda: trim(a, seq_len, max_seq_len))\n",
        "  return fn"
      ],
      "execution_count": 123,
      "outputs": []
    },
    {
      "cell_type": "code",
      "metadata": {
        "id": "l75YndTMT8iV"
      },
      "source": [
        "dataset = dataset.map(pad_or_trim) # every sample is padded if len < SEQ_LEN or randomly trimmed to SEQ_LEN"
      ],
      "execution_count": 124,
      "outputs": []
    },
    {
      "cell_type": "code",
      "metadata": {
        "colab": {
          "base_uri": "https://localhost:8080/"
        },
        "id": "z4v9VgNBYZ9H",
        "outputId": "763c119e-0949-4729-dca1-573e6d39deb3"
      },
      "source": [
        "for i in dataset.take(1):\n",
        "  print(i.shape)"
      ],
      "execution_count": 135,
      "outputs": [
        {
          "output_type": "stream",
          "text": [
            "(6, 200)\n"
          ],
          "name": "stdout"
        }
      ]
    },
    {
      "cell_type": "code",
      "metadata": {
        "colab": {
          "base_uri": "https://localhost:8080/"
        },
        "id": "pcbLxGVSo-aO",
        "outputId": "5f1e5bb1-6f6f-4a95-a55d-2e7633d1d60c"
      },
      "source": [
        "i[0]"
      ],
      "execution_count": 136,
      "outputs": [
        {
          "output_type": "execute_result",
          "data": {
            "text/plain": [
              "<tf.Tensor: shape=(200,), dtype=float32, numpy=\n",
              "array([    0.,     0.,     0.,     0.,     0.,     0.,     0.,     0.,\n",
              "           0.,     0.,     0.,     0.,     0.,     0.,     0.,     0.,\n",
              "           0.,     0.,     0.,     0.,     0.,     0.,     0.,     0.,\n",
              "           0.,     0.,     0.,     0.,     0.,     0.,     0.,     0.,\n",
              "           0.,     0.,     0.,     0.,     0.,     0.,     0.,     0.,\n",
              "           0.,     0.,     0.,     0.,     0.,     0.,     0.,     0.,\n",
              "           0.,     0.,     0.,     0.,     0.,     0.,     0.,     0.,\n",
              "           0.,     0.,     0.,     0.,     0.,     0.,     0.,     0.,\n",
              "           0.,     0.,     0.,     0.,     0.,     0.,     0.,     0.,\n",
              "           0.,     0.,     0.,     0.,     0.,     0.,     0.,     0.,\n",
              "           0.,     0.,     0.,     0.,     0.,     0.,     0.,     0.,\n",
              "           0.,     0.,     0.,     0.,     0.,     0.,     0.,     0.,\n",
              "           0.,     0.,     0.,     0.,     0.,     0.,     0.,     0.,\n",
              "           0.,     0.,     0.,     0.,     0.,     0.,     0.,     0.,\n",
              "           0.,     0.,     0.,     0.,     0.,     0.,     0.,     0.,\n",
              "           0.,     0.,     0.,     0.,     0.,     0.,     0.,     0.,\n",
              "           0.,     0.,     0.,     0.,     0.,     0.,     0.,     0.,\n",
              "           0.,     0.,     0.,     0.,     0.,     0.,     0.,     0.,\n",
              "           0.,     0.,     0.,     0.,     0.,     0.,     0.,     0.,\n",
              "           0.,     0.,     0.,     0.,     0.,     0.,     0.,     0.,\n",
              "           0.,     0.,     0.,  4208.,  4098.,  6660.,  6651.,  5654.,\n",
              "        9694.,  5653.,   527.,   658.,   386., 10688.,  1375.,   912.,\n",
              "         219., 10687.,   885.,  1151.,  5718.,  3874.,  4674.,  8355.,\n",
              "        6676.,  3999.,  5457.,  8905.,  4261.,  4979.,  6475.,  9372.,\n",
              "        6252.,  6454.,  3683.,  9452.,  3802.,  5583.,  4459.,  9598.],\n",
              "      dtype=float32)>"
            ]
          },
          "metadata": {
            "tags": []
          },
          "execution_count": 136
        }
      ]
    },
    {
      "cell_type": "code",
      "metadata": {
        "colab": {
          "base_uri": "https://localhost:8080/"
        },
        "id": "9-hQFB5upiUs",
        "outputId": "78510721-0722-49b1-f89d-db0e038a5e3b"
      },
      "source": [
        "i[1]"
      ],
      "execution_count": 137,
      "outputs": [
        {
          "output_type": "execute_result",
          "data": {
            "text/plain": [
              "<tf.Tensor: shape=(200,), dtype=float32, numpy=\n",
              "array([ 0.,  0.,  0.,  0.,  0.,  0.,  0.,  0.,  0.,  0.,  0.,  0.,  0.,\n",
              "        0.,  0.,  0.,  0.,  0.,  0.,  0.,  0.,  0.,  0.,  0.,  0.,  0.,\n",
              "        0.,  0.,  0.,  0.,  0.,  0.,  0.,  0.,  0.,  0.,  0.,  0.,  0.,\n",
              "        0.,  0.,  0.,  0.,  0.,  0.,  0.,  0.,  0.,  0.,  0.,  0.,  0.,\n",
              "        0.,  0.,  0.,  0.,  0.,  0.,  0.,  0.,  0.,  0.,  0.,  0.,  0.,\n",
              "        0.,  0.,  0.,  0.,  0.,  0.,  0.,  0.,  0.,  0.,  0.,  0.,  0.,\n",
              "        0.,  0.,  0.,  0.,  0.,  0.,  0.,  0.,  0.,  0.,  0.,  0.,  0.,\n",
              "        0.,  0.,  0.,  0.,  0.,  0.,  0.,  0.,  0.,  0.,  0.,  0.,  0.,\n",
              "        0.,  0.,  0.,  0.,  0.,  0.,  0.,  0.,  0.,  0.,  0.,  0.,  0.,\n",
              "        0.,  0.,  0.,  0.,  0.,  0.,  0.,  0.,  0.,  0.,  0.,  0.,  0.,\n",
              "        0.,  0.,  0.,  0.,  0.,  0.,  0.,  0.,  0.,  0.,  0.,  0.,  0.,\n",
              "        0.,  0.,  0.,  0.,  0.,  0.,  0.,  0.,  0.,  0.,  0.,  0.,  0.,\n",
              "        0.,  0.,  0.,  0.,  0.,  0.,  0.,  1.,  2.,  3.,  4.,  5.,  6.,\n",
              "        7.,  8.,  9., 10., 11., 12., 13., 14., 15., 16., 17., 18., 19.,\n",
              "       20., 21., 22., 23., 24., 25., 26., 27., 28., 29., 30., 31., 32.,\n",
              "       33., 34., 35., 36., 37.], dtype=float32)>"
            ]
          },
          "metadata": {
            "tags": []
          },
          "execution_count": 137
        }
      ]
    },
    {
      "cell_type": "code",
      "metadata": {
        "colab": {
          "base_uri": "https://localhost:8080/"
        },
        "id": "NbTMtEM8YGqm",
        "outputId": "90109fff-760d-4de2-cdf8-f4e049d197d3"
      },
      "source": [
        "data_batch = dataset.batch(128, drop_remainder=True)\n",
        "\n",
        "for item in data_batch.take(5):\n",
        "  print(item.shape)"
      ],
      "execution_count": 139,
      "outputs": [
        {
          "output_type": "stream",
          "text": [
            "(128, 6, 200)\n",
            "(128, 6, 200)\n",
            "(128, 6, 200)\n",
            "(128, 6, 200)\n",
            "(128, 6, 200)\n"
          ],
          "name": "stdout"
        }
      ]
    },
    {
      "cell_type": "markdown",
      "metadata": {
        "id": "ANXXInK3rusP"
      },
      "source": [
        "#### Lets process all the folds"
      ]
    },
    {
      "cell_type": "code",
      "metadata": {
        "id": "RXINRX4ytBdV"
      },
      "source": [
        "!rm -f riiid_train*.* riiid-train*.* *.tfrec"
      ],
      "execution_count": 143,
      "outputs": []
    },
    {
      "cell_type": "code",
      "metadata": {
        "id": "O8w7kgoRrxFJ"
      },
      "source": [
        "for fold, parition in folds_partitions.items():\n",
        "  fold_df = table[folds_partitions[fold][\"start\"]:folds_partitions[fold][\"end\"], :].to_pandas()\n",
        "  fold_df = fold_df[fold_df.answered_correctly != -1]\n",
        "  fold_df = fold_df.join(questions_df, on=\"content_id\")\n",
        "  drop_cols = [\n",
        "             \"row_id\", \n",
        "             \"timestamp\", \n",
        "             \"content_type_id\", \n",
        "             \"user_answer\", \n",
        "             \"prior_question_had_explanation\", \n",
        "             \"question_id\", \n",
        "             \"bundle_id\", \n",
        "             \"correct_answer\", \n",
        "             \"tags\"\n",
        "             ]\n",
        "  fold_df = fold_df.drop(drop_cols, axis=1)\n",
        "\n",
        "  # 0 is used for padding, so increment 1\n",
        "  indicator_cols = [\"content_id\", \"task_container_id\", \"part\"]\n",
        "  for c in indicator_cols:\n",
        "    fold_df[c] = fold_df[c] + 1\n",
        "\n",
        "  user_groups = fold_df.groupby(\"user_id\")\n",
        "  user_groups_arr = user_groups.apply(\n",
        "      lambda rows: (\n",
        "          rows[\"content_id\"].values.astype(dtypes_train[\"content_id\"]), \n",
        "          rows[\"task_container_id\"].values.astype(dtypes_train[\"task_container_id\"]), \n",
        "          rows[\"prior_question_elapsed_time\"].values.astype(dtypes_train[\"prior_question_elapsed_time\"]),\n",
        "          rows[\"part\"].values.astype(dtypes_questions[\"part\"]),\n",
        "          (rows[\"answered_correctly\"].shift(fill_value=2)+1).values.astype(dtypes_train[\"answered_correctly\"]),\n",
        "          rows[\"answered_correctly\"].values.astype(dtypes_train[\"answered_correctly\"]),\n",
        "          )\n",
        "      )\n",
        "  create_tfrecords_from_user_groups(user_groups_arr, fold)\n"
      ],
      "execution_count": null,
      "outputs": []
    },
    {
      "cell_type": "markdown",
      "metadata": {
        "id": "oQt-73nkNh0K"
      },
      "source": [
        "#### Padded Batching"
      ]
    },
    {
      "cell_type": "markdown",
      "metadata": {
        "id": "8cQpK6kxNk6k"
      },
      "source": [
        "`padded_shapes` argument for specifying for each item in the dataset which axis and pad length.  \n",
        "\n",
        "[None], [None], [None], [None] - Since our dataset is returning a tuple of 4. and we want each of them to be padded to the maximum length in a batch.  \n",
        "\n",
        "\n",
        "https://stackoverflow.com/a/49848103/7812715"
      ]
    },
    {
      "cell_type": "code",
      "metadata": {
        "id": "Mb42_utR_P72"
      },
      "source": [
        "d = dataset.padded_batch(32, padded_shapes=([None], [None], [None], [None]), drop_remainder=True)\n"
      ],
      "execution_count": null,
      "outputs": []
    },
    {
      "cell_type": "code",
      "metadata": {
        "id": "UJYW4gyjEZ44"
      },
      "source": [
        "for e in d.take(1):\n",
        "  print(e)"
      ],
      "execution_count": null,
      "outputs": []
    },
    {
      "cell_type": "markdown",
      "metadata": {
        "id": "x5_k9LbmMQyK"
      },
      "source": [
        "## Sequence Example"
      ]
    },
    {
      "cell_type": "code",
      "metadata": {
        "id": "FMRbdZB0MbVR"
      },
      "source": [
        "context = tf.train.Features(\n",
        "    feature = {\n",
        "        \"user_id\": _int64_feature(115)\n",
        "    }\n",
        ")\n",
        "\n",
        "content_ids = [_int64_feature(x) for x in user_groups_arr[115][0]]"
      ],
      "execution_count": null,
      "outputs": []
    },
    {
      "cell_type": "code",
      "metadata": {
        "id": "4gu-JGRNOSEH"
      },
      "source": [
        "sequence_example = tf.train.SequenceExample(\n",
        "    context = context,\n",
        "    feature_lists = tf.train.FeatureLists(feature_list={\n",
        "        \"content_id\": tf.train.FeatureList(feature=content_ids)\n",
        "    })\n",
        ")"
      ],
      "execution_count": null,
      "outputs": []
    },
    {
      "cell_type": "code",
      "metadata": {
        "id": "F-VDMLbWPXfU"
      },
      "source": [
        "serialized = sequence_example.SerializeToString()"
      ],
      "execution_count": null,
      "outputs": []
    },
    {
      "cell_type": "code",
      "metadata": {
        "id": "7PS5pTNOPb96"
      },
      "source": [
        "serialized"
      ],
      "execution_count": null,
      "outputs": []
    },
    {
      "cell_type": "code",
      "metadata": {
        "id": "ymVXbs5IPdGV"
      },
      "source": [
        "context_feat_desc = {\n",
        "    \"user_id\": tf.io.FixedLenFeature([], tf.int64, default_value=0),\n",
        "}\n",
        "\n",
        "sequence_feat_desc = {\n",
        "    \"content_id\": tf.io.VarLenFeature(tf.int64)\n",
        "}"
      ],
      "execution_count": null,
      "outputs": []
    },
    {
      "cell_type": "code",
      "metadata": {
        "id": "td38yrVtPw6U"
      },
      "source": [
        "context, seq = tf.io.parse_single_sequence_example(serialized, context_feat_desc, sequence_feat_desc)"
      ],
      "execution_count": null,
      "outputs": []
    },
    {
      "cell_type": "code",
      "metadata": {
        "id": "OmebGgDzQH2o"
      },
      "source": [
        "print(seq[\"content_id\"].values)"
      ],
      "execution_count": null,
      "outputs": []
    },
    {
      "cell_type": "code",
      "metadata": {
        "id": "D-mt96ePQIrK"
      },
      "source": [
        ""
      ],
      "execution_count": null,
      "outputs": []
    }
  ]
}