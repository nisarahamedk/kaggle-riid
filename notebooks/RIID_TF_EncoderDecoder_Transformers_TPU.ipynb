{
  "nbformat": 4,
  "nbformat_minor": 0,
  "metadata": {
    "colab": {
      "name": "RIID TF Transformers TPU.ipynb",
      "provenance": [],
      "include_colab_link": true
    },
    "kernelspec": {
      "name": "python3",
      "display_name": "Python 3"
    },
    "accelerator": "TPU"
  },
  "cells": [
    {
      "cell_type": "markdown",
      "metadata": {
        "id": "view-in-github",
        "colab_type": "text"
      },
      "source": [
        "<a href=\"https://colab.research.google.com/github/nisarahamedk/kaggle-riid/blob/master/notebooks/RIID_TF_EncoderDecoder_Transformers_TPU.ipynb\" target=\"_parent\"><img src=\"https://colab.research.google.com/assets/colab-badge.svg\" alt=\"Open In Colab\"/></a>"
      ]
    },
    {
      "cell_type": "markdown",
      "metadata": {
        "id": "MDcEKftRzz3o"
      },
      "source": [
        "#### RIID Transformer on TPU"
      ]
    },
    {
      "cell_type": "code",
      "metadata": {
        "id": "p-tXEAUsz-e0"
      },
      "source": [
        "import pickle\n",
        "\n",
        "import tensorflow as tf\n",
        "import tensorflow.keras as keras\n",
        "from tensorflow.keras import backend as K\n",
        "from tensorflow.python.keras.utils import tf_utils\n",
        "from tensorflow.python.autograph.impl import api as autograph\n",
        "from tensorflow.python.autograph.core import ag_ctx\n",
        "import pandas as pd\n",
        "import numpy as np\n",
        "from sklearn.model_selection import KFold\n",
        "\n",
        "\n",
        "np.random.seed(42)\n",
        "tf.random.set_seed(42)"
      ],
      "execution_count": 1,
      "outputs": []
    },
    {
      "cell_type": "markdown",
      "metadata": {
        "id": "6ZwdiZXG0XgB"
      },
      "source": [
        "\n",
        "### *Device* Settings - This needs to be at the TOP¶"
      ]
    },
    {
      "cell_type": "code",
      "metadata": {
        "id": "A3giJ9Nu0aTC",
        "colab": {
          "base_uri": "https://localhost:8080/"
        },
        "outputId": "13dca9cb-ee88-4210-aa56-3b551bf71ddd"
      },
      "source": [
        "try:\n",
        "    tpu = tf.distribute.cluster_resolver.TPUClusterResolver() # no parameter needed for TPU_NAME env variable is set. This is the case for Kaggle\n",
        "    print(\"Running on TPU: \", tpu.master())\n",
        "except ValueError:\n",
        "    tpu = None"
      ],
      "execution_count": 2,
      "outputs": [
        {
          "output_type": "stream",
          "text": [
            "Running on TPU:  grpc://10.46.62.42:8470\n"
          ],
          "name": "stdout"
        }
      ]
    },
    {
      "cell_type": "code",
      "metadata": {
        "colab": {
          "base_uri": "https://localhost:8080/"
        },
        "id": "M8cViVXg0dRt",
        "outputId": "a73be5ad-491b-4fb5-abf9-dc1729ae8c44"
      },
      "source": [
        "if tpu:\n",
        "    tf.config.experimental_connect_to_cluster(tpu)\n",
        "    tf.tpu.experimental.initialize_tpu_system(tpu)\n",
        "    strategy = tf.distribute.experimental.TPUStrategy(tpu)\n",
        "else:\n",
        "    # default strategy with the available hw\n",
        "    strategy = tf.distribute.get_strategy()\n",
        "    \n",
        "REPLICAS = strategy.num_replicas_in_sync\n",
        "print(\"REPLICAS: \", REPLICAS)"
      ],
      "execution_count": 3,
      "outputs": [
        {
          "output_type": "stream",
          "text": [
            "INFO:tensorflow:Initializing the TPU system: grpc://10.46.62.42:8470\n"
          ],
          "name": "stdout"
        },
        {
          "output_type": "stream",
          "text": [
            "INFO:tensorflow:Initializing the TPU system: grpc://10.46.62.42:8470\n"
          ],
          "name": "stderr"
        },
        {
          "output_type": "stream",
          "text": [
            "INFO:tensorflow:Clearing out eager caches\n"
          ],
          "name": "stdout"
        },
        {
          "output_type": "stream",
          "text": [
            "INFO:tensorflow:Clearing out eager caches\n"
          ],
          "name": "stderr"
        },
        {
          "output_type": "stream",
          "text": [
            "INFO:tensorflow:Finished initializing TPU system.\n"
          ],
          "name": "stdout"
        },
        {
          "output_type": "stream",
          "text": [
            "INFO:tensorflow:Finished initializing TPU system.\n",
            "WARNING:absl:`tf.distribute.experimental.TPUStrategy` is deprecated, please use  the non experimental symbol `tf.distribute.TPUStrategy` instead.\n"
          ],
          "name": "stderr"
        },
        {
          "output_type": "stream",
          "text": [
            "INFO:tensorflow:Found TPU system:\n"
          ],
          "name": "stdout"
        },
        {
          "output_type": "stream",
          "text": [
            "INFO:tensorflow:Found TPU system:\n"
          ],
          "name": "stderr"
        },
        {
          "output_type": "stream",
          "text": [
            "INFO:tensorflow:*** Num TPU Cores: 8\n"
          ],
          "name": "stdout"
        },
        {
          "output_type": "stream",
          "text": [
            "INFO:tensorflow:*** Num TPU Cores: 8\n"
          ],
          "name": "stderr"
        },
        {
          "output_type": "stream",
          "text": [
            "INFO:tensorflow:*** Num TPU Workers: 1\n"
          ],
          "name": "stdout"
        },
        {
          "output_type": "stream",
          "text": [
            "INFO:tensorflow:*** Num TPU Workers: 1\n"
          ],
          "name": "stderr"
        },
        {
          "output_type": "stream",
          "text": [
            "INFO:tensorflow:*** Num TPU Cores Per Worker: 8\n"
          ],
          "name": "stdout"
        },
        {
          "output_type": "stream",
          "text": [
            "INFO:tensorflow:*** Num TPU Cores Per Worker: 8\n"
          ],
          "name": "stderr"
        },
        {
          "output_type": "stream",
          "text": [
            "INFO:tensorflow:*** Available Device: _DeviceAttributes(/job:localhost/replica:0/task:0/device:CPU:0, CPU, 0, 0)\n"
          ],
          "name": "stdout"
        },
        {
          "output_type": "stream",
          "text": [
            "INFO:tensorflow:*** Available Device: _DeviceAttributes(/job:localhost/replica:0/task:0/device:CPU:0, CPU, 0, 0)\n"
          ],
          "name": "stderr"
        },
        {
          "output_type": "stream",
          "text": [
            "INFO:tensorflow:*** Available Device: _DeviceAttributes(/job:worker/replica:0/task:0/device:CPU:0, CPU, 0, 0)\n"
          ],
          "name": "stdout"
        },
        {
          "output_type": "stream",
          "text": [
            "INFO:tensorflow:*** Available Device: _DeviceAttributes(/job:worker/replica:0/task:0/device:CPU:0, CPU, 0, 0)\n"
          ],
          "name": "stderr"
        },
        {
          "output_type": "stream",
          "text": [
            "INFO:tensorflow:*** Available Device: _DeviceAttributes(/job:worker/replica:0/task:0/device:TPU:0, TPU, 0, 0)\n"
          ],
          "name": "stdout"
        },
        {
          "output_type": "stream",
          "text": [
            "INFO:tensorflow:*** Available Device: _DeviceAttributes(/job:worker/replica:0/task:0/device:TPU:0, TPU, 0, 0)\n"
          ],
          "name": "stderr"
        },
        {
          "output_type": "stream",
          "text": [
            "INFO:tensorflow:*** Available Device: _DeviceAttributes(/job:worker/replica:0/task:0/device:TPU:1, TPU, 0, 0)\n"
          ],
          "name": "stdout"
        },
        {
          "output_type": "stream",
          "text": [
            "INFO:tensorflow:*** Available Device: _DeviceAttributes(/job:worker/replica:0/task:0/device:TPU:1, TPU, 0, 0)\n"
          ],
          "name": "stderr"
        },
        {
          "output_type": "stream",
          "text": [
            "INFO:tensorflow:*** Available Device: _DeviceAttributes(/job:worker/replica:0/task:0/device:TPU:2, TPU, 0, 0)\n"
          ],
          "name": "stdout"
        },
        {
          "output_type": "stream",
          "text": [
            "INFO:tensorflow:*** Available Device: _DeviceAttributes(/job:worker/replica:0/task:0/device:TPU:2, TPU, 0, 0)\n"
          ],
          "name": "stderr"
        },
        {
          "output_type": "stream",
          "text": [
            "INFO:tensorflow:*** Available Device: _DeviceAttributes(/job:worker/replica:0/task:0/device:TPU:3, TPU, 0, 0)\n"
          ],
          "name": "stdout"
        },
        {
          "output_type": "stream",
          "text": [
            "INFO:tensorflow:*** Available Device: _DeviceAttributes(/job:worker/replica:0/task:0/device:TPU:3, TPU, 0, 0)\n"
          ],
          "name": "stderr"
        },
        {
          "output_type": "stream",
          "text": [
            "INFO:tensorflow:*** Available Device: _DeviceAttributes(/job:worker/replica:0/task:0/device:TPU:4, TPU, 0, 0)\n"
          ],
          "name": "stdout"
        },
        {
          "output_type": "stream",
          "text": [
            "INFO:tensorflow:*** Available Device: _DeviceAttributes(/job:worker/replica:0/task:0/device:TPU:4, TPU, 0, 0)\n"
          ],
          "name": "stderr"
        },
        {
          "output_type": "stream",
          "text": [
            "INFO:tensorflow:*** Available Device: _DeviceAttributes(/job:worker/replica:0/task:0/device:TPU:5, TPU, 0, 0)\n"
          ],
          "name": "stdout"
        },
        {
          "output_type": "stream",
          "text": [
            "INFO:tensorflow:*** Available Device: _DeviceAttributes(/job:worker/replica:0/task:0/device:TPU:5, TPU, 0, 0)\n"
          ],
          "name": "stderr"
        },
        {
          "output_type": "stream",
          "text": [
            "INFO:tensorflow:*** Available Device: _DeviceAttributes(/job:worker/replica:0/task:0/device:TPU:6, TPU, 0, 0)\n"
          ],
          "name": "stdout"
        },
        {
          "output_type": "stream",
          "text": [
            "INFO:tensorflow:*** Available Device: _DeviceAttributes(/job:worker/replica:0/task:0/device:TPU:6, TPU, 0, 0)\n"
          ],
          "name": "stderr"
        },
        {
          "output_type": "stream",
          "text": [
            "INFO:tensorflow:*** Available Device: _DeviceAttributes(/job:worker/replica:0/task:0/device:TPU:7, TPU, 0, 0)\n"
          ],
          "name": "stdout"
        },
        {
          "output_type": "stream",
          "text": [
            "INFO:tensorflow:*** Available Device: _DeviceAttributes(/job:worker/replica:0/task:0/device:TPU:7, TPU, 0, 0)\n"
          ],
          "name": "stderr"
        },
        {
          "output_type": "stream",
          "text": [
            "INFO:tensorflow:*** Available Device: _DeviceAttributes(/job:worker/replica:0/task:0/device:TPU_SYSTEM:0, TPU_SYSTEM, 0, 0)\n"
          ],
          "name": "stdout"
        },
        {
          "output_type": "stream",
          "text": [
            "INFO:tensorflow:*** Available Device: _DeviceAttributes(/job:worker/replica:0/task:0/device:TPU_SYSTEM:0, TPU_SYSTEM, 0, 0)\n"
          ],
          "name": "stderr"
        },
        {
          "output_type": "stream",
          "text": [
            "INFO:tensorflow:*** Available Device: _DeviceAttributes(/job:worker/replica:0/task:0/device:XLA_CPU:0, XLA_CPU, 0, 0)\n"
          ],
          "name": "stdout"
        },
        {
          "output_type": "stream",
          "text": [
            "INFO:tensorflow:*** Available Device: _DeviceAttributes(/job:worker/replica:0/task:0/device:XLA_CPU:0, XLA_CPU, 0, 0)\n"
          ],
          "name": "stderr"
        },
        {
          "output_type": "stream",
          "text": [
            "REPLICAS:  8\n"
          ],
          "name": "stdout"
        }
      ]
    },
    {
      "cell_type": "markdown",
      "metadata": {
        "id": "eHATf5SI0f7k"
      },
      "source": [
        "### Datasets"
      ]
    },
    {
      "cell_type": "code",
      "metadata": {
        "id": "8ZyQj3J-0sCh"
      },
      "source": [
        "DATA_PATH = 'gs://kds-9c9a89c1a0d17bcb15230bb2e47c4641386843a62d12638c765e35cb'"
      ],
      "execution_count": 4,
      "outputs": []
    },
    {
      "cell_type": "code",
      "metadata": {
        "colab": {
          "base_uri": "https://localhost:8080/"
        },
        "id": "jNldoAXn1GOf",
        "outputId": "41e73e16-9331-4387-a6a3-f10c80f71341"
      },
      "source": [
        "n_train_files = len(tf.io.gfile.glob(DATA_PATH + \"/tfrec*\"))\n",
        "n_train_files"
      ],
      "execution_count": 5,
      "outputs": [
        {
          "output_type": "execute_result",
          "data": {
            "text/plain": [
              "32"
            ]
          },
          "metadata": {
            "tags": []
          },
          "execution_count": 5
        }
      ]
    },
    {
      "cell_type": "code",
      "metadata": {
        "colab": {
          "base_uri": "https://localhost:8080/"
        },
        "id": "7KLXao8j1jSp",
        "outputId": "b423bca8-0001-4b17-c5eb-24511a485572"
      },
      "source": [
        "FOLDS = 10\n",
        "\n",
        "kfold = KFold(n_splits=FOLDS, shuffle=True, random_state=42)\n",
        "folds_list = list(kfold.split(np.arange(n_train_files)))\n",
        "folds_list[:2]"
      ],
      "execution_count": 6,
      "outputs": [
        {
          "output_type": "execute_result",
          "data": {
            "text/plain": [
              "[(array([ 0,  1,  2,  3,  4,  5,  6,  7,  8,  9, 10, 11, 12, 13, 14, 16, 18,\n",
              "         19, 20, 21, 22, 23, 25, 26, 27, 28, 30, 31]),\n",
              "  array([15, 17, 24, 29])),\n",
              " (array([ 0,  1,  2,  3,  4,  5,  6,  7, 10, 11, 12, 13, 14, 15, 16, 17, 18,\n",
              "         19, 20, 21, 22, 23, 24, 26, 27, 28, 29, 31]),\n",
              "  array([ 8,  9, 25, 30]))]"
            ]
          },
          "metadata": {
            "tags": []
          },
          "execution_count": 6
        }
      ]
    },
    {
      "cell_type": "code",
      "metadata": {
        "colab": {
          "base_uri": "https://localhost:8080/"
        },
        "id": "OC8RRFAM11rq",
        "outputId": "f2180c55-825d-4893-9345-7e514bcf64b3"
      },
      "source": [
        "FOLD = 1\n",
        "\n",
        "train_folds, valid_folds = folds_list[FOLD]\n",
        "len(train_folds), len(valid_folds)"
      ],
      "execution_count": 7,
      "outputs": [
        {
          "output_type": "execute_result",
          "data": {
            "text/plain": [
              "(28, 4)"
            ]
          },
          "metadata": {
            "tags": []
          },
          "execution_count": 7
        }
      ]
    },
    {
      "cell_type": "code",
      "metadata": {
        "id": "ztufELqg2Xfn"
      },
      "source": [
        "train_files = tf.io.gfile.glob([DATA_PATH + \"/tfrec_%d.tfrec\" % idx for idx in train_folds])\n",
        "valid_files = tf.io.gfile.glob([DATA_PATH + \"/tfrec_%d.tfrec\" % idx for idx in valid_folds])"
      ],
      "execution_count": 8,
      "outputs": []
    },
    {
      "cell_type": "code",
      "metadata": {
        "colab": {
          "base_uri": "https://localhost:8080/"
        },
        "id": "gf6yVysK22E6",
        "outputId": "8b233aa9-1425-427d-f2f0-3384269d42cc"
      },
      "source": [
        "len(train_files), len(valid_files)"
      ],
      "execution_count": 9,
      "outputs": [
        {
          "output_type": "execute_result",
          "data": {
            "text/plain": [
              "(28, 4)"
            ]
          },
          "metadata": {
            "tags": []
          },
          "execution_count": 9
        }
      ]
    },
    {
      "cell_type": "markdown",
      "metadata": {
        "id": "SHpRgO2L25aj"
      },
      "source": [
        "#### Load TFRecord Datasets"
      ]
    },
    {
      "cell_type": "code",
      "metadata": {
        "id": "D0zEw3u23jmr"
      },
      "source": [
        "AUTOTUNE = tf.data.experimental.AUTOTUNE"
      ],
      "execution_count": 10,
      "outputs": []
    },
    {
      "cell_type": "code",
      "metadata": {
        "id": "OrXHOsZ13sEX"
      },
      "source": [
        "feature_desc = {\n",
        "    \"timestamp\": tf.io.FixedLenFeature([], tf.string),\n",
        "    \"content_id\": tf.io.FixedLenFeature([], tf.string),\n",
        "    \"task_container_id\": tf.io.FixedLenFeature([], tf.string),\n",
        "    \"elapsed_time\": tf.io.FixedLenFeature([], tf.string),\n",
        "    \"had_explanation\": tf.io.FixedLenFeature([], tf.string),\n",
        "    \"part\": tf.io.FixedLenFeature([], tf.string),\n",
        "    \"tags\": tf.io.FixedLenFeature([], tf.string),\n",
        "    \"answered_correctly\": tf.io.FixedLenFeature([], tf.string),\n",
        "}\n",
        "\n",
        "def parse_example(example):\n",
        "  example = tf.io.parse_single_example(example, feature_desc)\n",
        "\n",
        "  timestamp = tf.io.parse_tensor(example[\"timestamp\"], tf.int64)\n",
        "  content_id = tf.io.parse_tensor(example[\"content_id\"], tf.int16)\n",
        "  task_container_id = tf.io.parse_tensor(example[\"task_container_id\"], tf.int16)\n",
        "  elapsed_time = tf.io.parse_tensor(example[\"elapsed_time\"], tf.float32)\n",
        "  had_explanation = tf.io.parse_tensor(example[\"had_explanation\"], tf.int8)\n",
        "  part = tf.io.parse_tensor(example[\"part\"], tf.int16)\n",
        "  answered_correctly = tf.io.parse_tensor(example[\"answered_correctly\"], tf.int8)\n",
        "\n",
        "  # tags\n",
        "  tags = tf.io.parse_tensor(example[\"tags\"], tf.string) # as string, one q can have multiple tags.\n",
        "  tags = tf.strings.to_number(tf.strings.split(tags), out_type=tf.int32) # will produce a ragged tensor with tags for each q\n",
        "  # ragged tensor of tags [[2], [3, 4]] is converted to one hot like [[0,0,1..], [[0,0,0,1,..], [0,0,0,0,1...]]]\n",
        "  # then sumed along axis 1, so for each question there will be 1 for all the tags associated with it.\n",
        "  tags = tf.reduce_sum(tf.one_hot(tags, depth=190), axis=1) # shape [seq_len, 190]\n",
        "  tags = tf.transpose(tags, (1, 0)) # shape [190, seq_len] to stack with other features.\n",
        "  \n",
        "  features = tf.stack([\n",
        "      tf.cast(timestamp, tf.float32),\n",
        "      tf.cast(content_id, tf.float32),\n",
        "      tf.cast(task_container_id, tf.float32),\n",
        "      tf.cast(elapsed_time, tf.float32),\n",
        "      tf.cast(had_explanation, tf.float32),\n",
        "      tf.cast(part, tf.float32),\n",
        "      tf.cast(answered_correctly, tf.float32),\n",
        "  ])\n",
        "\n",
        "  # add tags\n",
        "  return tf.concat([\n",
        "      features,\n",
        "      tf.cast(tags, tf.float32),\n",
        "  ], axis=0) # [features, seq_len] # TODO make it [seq_len, features] so that we dont have to reshape in transformer"
      ],
      "execution_count": 11,
      "outputs": []
    },
    {
      "cell_type": "code",
      "metadata": {
        "id": "U1vZigwi3QVa"
      },
      "source": [
        "def load_dataset_from_tfrecord(filenames, ds_type=\"train\", cache_to=None):\n",
        "        # Since we are reading dataset from multiple files. and we dont care about the order.\n",
        "        # set deterministic reading to False.\n",
        "        ignore_order = tf.data.Options()\n",
        "        if ds_type == \"train\":\n",
        "            ignore_order.experimental_deterministic = False\n",
        "            \n",
        "        dataset = tf.data.TFRecordDataset(filenames, num_parallel_reads=AUTOTUNE)\n",
        "        if not cache_to:\n",
        "            dataset = dataset.cache() # cache to RAM\n",
        "        else:\n",
        "            dataset = dataset.cache(cache_to) # cache to file given by self.cache_to \n",
        "        if ds_type == \"train\":\n",
        "            # dataset = dataset.repeat() # repeat individual item, so that we have full batch at every step.\n",
        "            pass\n",
        "        dataset.with_options(ignore_order)\n",
        "        dataset = dataset.map(parse_example, num_parallel_calls=AUTOTUNE)\n",
        "        return dataset"
      ],
      "execution_count": 12,
      "outputs": []
    },
    {
      "cell_type": "code",
      "metadata": {
        "id": "dhaJdlb537yQ"
      },
      "source": [
        "dataset = load_dataset_from_tfrecord(train_files)"
      ],
      "execution_count": 13,
      "outputs": []
    },
    {
      "cell_type": "code",
      "metadata": {
        "id": "8JPG7fOy4jCu"
      },
      "source": [
        "SEQ_LEN = 128"
      ],
      "execution_count": 14,
      "outputs": []
    },
    {
      "cell_type": "code",
      "metadata": {
        "id": "r4QnfOgm4FWT"
      },
      "source": [
        "@tf.function\n",
        "def pad(a, seq_len, max_seq_len):\n",
        "  s = max_seq_len - seq_len\n",
        "  # making [[0, 0], [s, 0]]\n",
        "  r = tf.stack([s, tf.constant(0)])\n",
        "  t = tf.stack([tf.constant([0, 0]), r])\n",
        "  \n",
        "  return tf.pad(a, t) # ,1 to debug\n",
        "\n",
        "@tf.function\n",
        "def trim(a, seq_len,  max_seq_len):\n",
        "  \"\"\"\n",
        "  TODO: trimming actually get rid of the start token since we are trimming randomly in the model.\n",
        "  Is this going to be a problem?, i think it should not.\n",
        "  \"\"\"\n",
        "  start = tf.squeeze(tf.random.uniform((1,), maxval=(seq_len-max_seq_len), dtype=tf.int32))\n",
        "  # https://www.quora.com/How-does-tf-slice-work-in-TensorFlow\n",
        "  begin = tf.stack([tf.constant(0), start])\n",
        "  size = tf.stack([tf.shape(a)[0], max_seq_len])\n",
        "  \n",
        "  return tf.slice(a, begin, size) # , start - to debug\n",
        "\n",
        "@tf.function\n",
        "def pad_or_trim(a):\n",
        "  seq_len = tf.shape(a)[-1]\n",
        "  max_seq_len = SEQ_LEN + 1 # accomodate for the start token\n",
        "  fn = tf.cond(tf.less_equal(seq_len, max_seq_len), lambda: pad(a, seq_len, max_seq_len), lambda: trim(a, seq_len, max_seq_len))\n",
        "  return fn"
      ],
      "execution_count": 15,
      "outputs": []
    },
    {
      "cell_type": "code",
      "metadata": {
        "id": "Qi2ty0Rd4kyp"
      },
      "source": [
        "dataset = dataset.map(pad_or_trim, num_parallel_calls=AUTOTUNE) # every sample is padded if len < SEQ_LEN or randomly trimmed to SEQ_LEN"
      ],
      "execution_count": 16,
      "outputs": []
    },
    {
      "cell_type": "code",
      "metadata": {
        "colab": {
          "base_uri": "https://localhost:8080/"
        },
        "id": "p01N7j3IPV6o",
        "outputId": "2840e857-2397-4591-9db0-ed0dc89c7bc0"
      },
      "source": [
        "for item in dataset.take(1):\r\n",
        "  print(item.shape)"
      ],
      "execution_count": 17,
      "outputs": [
        {
          "output_type": "stream",
          "text": [
            "(197, 129)\n"
          ],
          "name": "stdout"
        }
      ]
    },
    {
      "cell_type": "code",
      "metadata": {
        "id": "BOTG_iFxa5gc"
      },
      "source": [
        "@tf.function\n",
        "def create_padding_mask(seq):\n",
        "  seq = tf.cast(tf.reduce_all(tf.math.equal(seq, 0), axis=-1), tf.float32)\n",
        "\n",
        "  # add extra dimensions to add the padding\n",
        "  # to the attention logits.\n",
        "  return seq[:, tf.newaxis, tf.newaxis, :]  # (batch_size, 1, 1, seq_len)\n",
        "\n",
        "@tf.function\n",
        "def split_x_y_mask(xy):\n",
        "  # x = xy[:-1, :] # we need 'answered_correctly' in x\n",
        "  x = tf.transpose(xy, (1, 0)) # [seq_len, n_features]\n",
        "  y = xy[6, :]\n",
        "  y = y - 3 # +3 had added to use this in feature, make it back to 0,1\n",
        "  pad_mask = tf.cast(tf.math.reduce_any(tf.math.not_equal(x, 0), axis=-1), dtype=tf.float32)\n",
        "  start_token_mask = tf.cast(tf.math.logical_not(tf.math.reduce_all(tf.math.equal(x[:, :7], 1), axis=-1)), dtype=tf.float32)\n",
        "  final_mask = tf.math.multiply(pad_mask, start_token_mask)\n",
        "  return x, tf.expand_dims(y[1:], axis=-1), tf.expand_dims(final_mask[1:], axis=-1) # [1:] for y and mask, because first val is for start token"
      ],
      "execution_count": 18,
      "outputs": []
    },
    {
      "cell_type": "code",
      "metadata": {
        "id": "O_CI26N0K3R6"
      },
      "source": [
        "dataset = dataset.map(split_x_y_mask, num_parallel_calls=AUTOTUNE) # x and y"
      ],
      "execution_count": 19,
      "outputs": []
    },
    {
      "cell_type": "code",
      "metadata": {
        "colab": {
          "base_uri": "https://localhost:8080/"
        },
        "id": "Q5eT_hwk4qaY",
        "outputId": "4e0a82ab-0fef-4e63-ab68-b95fffc36cfc"
      },
      "source": [
        "for x, y, mask in dataset.take(1):\n",
        "  print(x.shape)\n",
        "  print(y.shape)\n",
        "  print(mask.shape)"
      ],
      "execution_count": 20,
      "outputs": [
        {
          "output_type": "stream",
          "text": [
            "(129, 197)\n",
            "(128, 1)\n",
            "(128, 1)\n"
          ],
          "name": "stdout"
        }
      ]
    },
    {
      "cell_type": "code",
      "metadata": {
        "id": "DS0Jw9j1hxTF",
        "colab": {
          "base_uri": "https://localhost:8080/"
        },
        "outputId": "c49800e3-37bf-45a3-f4ab-b14eb146b7a0"
      },
      "source": [
        "tf.squeeze(mask, axis=-1)"
      ],
      "execution_count": 21,
      "outputs": [
        {
          "output_type": "execute_result",
          "data": {
            "text/plain": [
              "<tf.Tensor: shape=(128,), dtype=float32, numpy=\n",
              "array([0., 0., 0., 0., 0., 0., 0., 0., 0., 0., 0., 0., 0., 0., 0., 0., 0.,\n",
              "       0., 0., 0., 0., 0., 0., 0., 0., 0., 0., 0., 0., 0., 0., 0., 0., 0.,\n",
              "       0., 0., 0., 0., 0., 0., 0., 0., 0., 0., 0., 0., 0., 0., 0., 0., 0.,\n",
              "       0., 0., 0., 0., 0., 0., 0., 0., 0., 0., 0., 0., 0., 0., 0., 0., 0.,\n",
              "       0., 0., 0., 0., 0., 0., 0., 0., 0., 0., 0., 0., 0., 0., 1., 1., 1.,\n",
              "       1., 1., 1., 1., 1., 1., 1., 1., 1., 1., 1., 1., 1., 1., 1., 1., 1.,\n",
              "       1., 1., 1., 1., 1., 1., 1., 1., 1., 1., 1., 1., 1., 1., 1., 1., 1.,\n",
              "       1., 1., 1., 1., 1., 1., 1., 1., 1.], dtype=float32)>"
            ]
          },
          "metadata": {
            "tags": []
          },
          "execution_count": 21
        }
      ]
    },
    {
      "cell_type": "code",
      "metadata": {
        "id": "UE8uOJbx2W2X",
        "colab": {
          "base_uri": "https://localhost:8080/"
        },
        "outputId": "cf8f6d88-bd75-4da0-8211-fbe21d5901ea"
      },
      "source": [
        "tf.squeeze(y, axis=-1)"
      ],
      "execution_count": 22,
      "outputs": [
        {
          "output_type": "execute_result",
          "data": {
            "text/plain": [
              "<tf.Tensor: shape=(128,), dtype=float32, numpy=\n",
              "array([-3., -3., -3., -3., -3., -3., -3., -3., -3., -3., -3., -3., -3.,\n",
              "       -3., -3., -3., -3., -3., -3., -3., -3., -3., -3., -3., -3., -3.,\n",
              "       -3., -3., -3., -3., -3., -3., -3., -3., -3., -3., -3., -3., -3.,\n",
              "       -3., -3., -3., -3., -3., -3., -3., -3., -3., -3., -3., -3., -3.,\n",
              "       -3., -3., -3., -3., -3., -3., -3., -3., -3., -3., -3., -3., -3.,\n",
              "       -3., -3., -3., -3., -3., -3., -3., -3., -3., -3., -3., -3., -3.,\n",
              "       -3., -3., -3., -2.,  1.,  1.,  1.,  1.,  1.,  1.,  1.,  1.,  1.,\n",
              "        1.,  0.,  0.,  0.,  1.,  1.,  1.,  1.,  0.,  1.,  1.,  0.,  0.,\n",
              "        0.,  0.,  1.,  1.,  1.,  1.,  1.,  0.,  1.,  0.,  1.,  1.,  1.,\n",
              "        1.,  0.,  1.,  1.,  1.,  1.,  1.,  0.,  0.,  0.,  1.],\n",
              "      dtype=float32)>"
            ]
          },
          "metadata": {
            "tags": []
          },
          "execution_count": 22
        }
      ]
    },
    {
      "cell_type": "code",
      "metadata": {
        "colab": {
          "base_uri": "https://localhost:8080/"
        },
        "id": "7rUcga1etGfe",
        "outputId": "44099d40-55c7-4add-fcc8-b9a6c04df89a"
      },
      "source": [
        "tf.squeeze(y, axis=-1) * tf.squeeze(mask, axis=-1) #  applying mask"
      ],
      "execution_count": 23,
      "outputs": [
        {
          "output_type": "execute_result",
          "data": {
            "text/plain": [
              "<tf.Tensor: shape=(128,), dtype=float32, numpy=\n",
              "array([-0., -0., -0., -0., -0., -0., -0., -0., -0., -0., -0., -0., -0.,\n",
              "       -0., -0., -0., -0., -0., -0., -0., -0., -0., -0., -0., -0., -0.,\n",
              "       -0., -0., -0., -0., -0., -0., -0., -0., -0., -0., -0., -0., -0.,\n",
              "       -0., -0., -0., -0., -0., -0., -0., -0., -0., -0., -0., -0., -0.,\n",
              "       -0., -0., -0., -0., -0., -0., -0., -0., -0., -0., -0., -0., -0.,\n",
              "       -0., -0., -0., -0., -0., -0., -0., -0., -0., -0., -0., -0., -0.,\n",
              "       -0., -0., -0., -0.,  1.,  1.,  1.,  1.,  1.,  1.,  1.,  1.,  1.,\n",
              "        1.,  0.,  0.,  0.,  1.,  1.,  1.,  1.,  0.,  1.,  1.,  0.,  0.,\n",
              "        0.,  0.,  1.,  1.,  1.,  1.,  1.,  0.,  1.,  0.,  1.,  1.,  1.,\n",
              "        1.,  0.,  1.,  1.,  1.,  1.,  1.,  0.,  0.,  0.,  1.],\n",
              "      dtype=float32)>"
            ]
          },
          "metadata": {
            "tags": []
          },
          "execution_count": 23
        }
      ]
    },
    {
      "cell_type": "code",
      "metadata": {
        "id": "pVuc7KqWFZ01"
      },
      "source": [
        "dataset = dataset.shuffle(int(1024 * REPLICAS))"
      ],
      "execution_count": 24,
      "outputs": []
    },
    {
      "cell_type": "code",
      "metadata": {
        "id": "pX3iCpAnFvIL"
      },
      "source": [
        "BATCH_SIZE = 256"
      ],
      "execution_count": 25,
      "outputs": []
    },
    {
      "cell_type": "code",
      "metadata": {
        "id": "xp8zSQyaFzLV"
      },
      "source": [
        "dataset = dataset.batch(BATCH_SIZE, drop_remainder=True)"
      ],
      "execution_count": 26,
      "outputs": []
    },
    {
      "cell_type": "code",
      "metadata": {
        "colab": {
          "base_uri": "https://localhost:8080/"
        },
        "id": "ZMQdN2zgF9hw",
        "outputId": "b5439ad8-90cc-4bb2-a7aa-c64836ecb16a"
      },
      "source": [
        "for xb, yb, mb in dataset.take(1):\n",
        "  print(xb.shape)\n",
        "  print(yb.shape)\n",
        "  print(mb.shape)"
      ],
      "execution_count": 27,
      "outputs": [
        {
          "output_type": "stream",
          "text": [
            "(256, 129, 197)\n",
            "(256, 128, 1)\n",
            "(256, 128, 1)\n"
          ],
          "name": "stdout"
        }
      ]
    },
    {
      "cell_type": "code",
      "metadata": {
        "colab": {
          "base_uri": "https://localhost:8080/"
        },
        "id": "FEpW8ID94dPC",
        "outputId": "2d710f3d-cc21-49a9-ca03-e2611eb3e94e"
      },
      "source": [
        "# answered_correctly, # notice for trimmed sequence, there is no start token, instead a previous interaction is used.\n",
        "xb[0, :, 6]"
      ],
      "execution_count": 28,
      "outputs": [
        {
          "output_type": "execute_result",
          "data": {
            "text/plain": [
              "<tf.Tensor: shape=(129,), dtype=float32, numpy=\n",
              "array([0., 0., 0., 0., 0., 0., 0., 0., 0., 0., 0., 0., 0., 0., 0., 0., 0.,\n",
              "       0., 0., 0., 0., 0., 0., 0., 0., 0., 0., 0., 0., 0., 0., 0., 0., 0.,\n",
              "       0., 0., 0., 0., 0., 0., 0., 0., 0., 0., 0., 0., 0., 0., 0., 0., 0.,\n",
              "       0., 0., 0., 0., 0., 0., 0., 0., 0., 0., 0., 0., 0., 0., 0., 0., 0.,\n",
              "       0., 0., 0., 0., 0., 0., 0., 0., 0., 0., 0., 0., 0., 0., 0., 0., 0.,\n",
              "       0., 0., 0., 0., 0., 0., 0., 0., 0., 0., 0., 0., 0., 1., 4., 3., 3.,\n",
              "       4., 4., 3., 4., 3., 3., 3., 3., 3., 3., 3., 3., 4., 3., 3., 3., 3.,\n",
              "       3., 3., 4., 3., 3., 3., 3., 3., 3., 3.], dtype=float32)>"
            ]
          },
          "metadata": {
            "tags": []
          },
          "execution_count": 28
        }
      ]
    },
    {
      "cell_type": "code",
      "metadata": {
        "id": "S33r8rmn4kdB",
        "colab": {
          "base_uri": "https://localhost:8080/"
        },
        "outputId": "66f18c08-2498-4620-f1a8-7db92c6c0a2c"
      },
      "source": [
        "# corresponding mask\n",
        "mb[0, :, 0]"
      ],
      "execution_count": 29,
      "outputs": [
        {
          "output_type": "execute_result",
          "data": {
            "text/plain": [
              "<tf.Tensor: shape=(128,), dtype=float32, numpy=\n",
              "array([0., 0., 0., 0., 0., 0., 0., 0., 0., 0., 0., 0., 0., 0., 0., 0., 0.,\n",
              "       0., 0., 0., 0., 0., 0., 0., 0., 0., 0., 0., 0., 0., 0., 0., 0., 0.,\n",
              "       0., 0., 0., 0., 0., 0., 0., 0., 0., 0., 0., 0., 0., 0., 0., 0., 0.,\n",
              "       0., 0., 0., 0., 0., 0., 0., 0., 0., 0., 0., 0., 0., 0., 0., 0., 0.,\n",
              "       0., 0., 0., 0., 0., 0., 0., 0., 0., 0., 0., 0., 0., 0., 0., 0., 0.,\n",
              "       0., 0., 0., 0., 0., 0., 0., 0., 0., 0., 0., 0., 0., 1., 1., 1., 1.,\n",
              "       1., 1., 1., 1., 1., 1., 1., 1., 1., 1., 1., 1., 1., 1., 1., 1., 1.,\n",
              "       1., 1., 1., 1., 1., 1., 1., 1., 1.], dtype=float32)>"
            ]
          },
          "metadata": {
            "tags": []
          },
          "execution_count": 29
        }
      ]
    },
    {
      "cell_type": "code",
      "metadata": {
        "id": "FbmVLJKDGBYX"
      },
      "source": [
        "dataset = dataset.prefetch(AUTOTUNE)"
      ],
      "execution_count": 30,
      "outputs": []
    },
    {
      "cell_type": "markdown",
      "metadata": {
        "id": "ZIKTPaHerpwF"
      },
      "source": [
        "Valid dataset"
      ]
    },
    {
      "cell_type": "code",
      "metadata": {
        "id": "kCL1p1-uruwd"
      },
      "source": [
        "valid_dataset = load_dataset_from_tfrecord(valid_files, ds_type=\"valid\")\n",
        "valid_dataset = valid_dataset.map(pad_or_trim, num_parallel_calls=AUTOTUNE) # every sample is padded if len < SEQ_LEN or randomly trimmed to SEQ_LEN\n",
        "valid_dataset = valid_dataset.map(split_x_y_mask) # x, y and mask\n",
        "valid_dataset = valid_dataset.batch(BATCH_SIZE * 2, drop_remainder=True)\n",
        "valid_dataset = valid_dataset.prefetch(AUTOTUNE)"
      ],
      "execution_count": 31,
      "outputs": []
    },
    {
      "cell_type": "code",
      "metadata": {
        "colab": {
          "base_uri": "https://localhost:8080/"
        },
        "id": "oYZJpTSrTf0h",
        "outputId": "414c3b6f-fa85-46c6-ad03-82c3442424e1"
      },
      "source": [
        "for vx, vy, vmask in valid_dataset.take(1):\r\n",
        "  print(vx.shape)\r\n",
        "  print(vy.shape)\r\n",
        "  print(vmask.shape)"
      ],
      "execution_count": 32,
      "outputs": [
        {
          "output_type": "stream",
          "text": [
            "(512, 129, 197)\n",
            "(512, 128, 1)\n",
            "(512, 128, 1)\n"
          ],
          "name": "stdout"
        }
      ]
    },
    {
      "cell_type": "code",
      "metadata": {
        "colab": {
          "base_uri": "https://localhost:8080/"
        },
        "id": "v-l6VS3iTtRw",
        "outputId": "ee8d04f7-c88d-4605-b4ea-195f68e81280"
      },
      "source": [
        "# answered_correctly\r\n",
        "vx[0, :, 6]"
      ],
      "execution_count": 33,
      "outputs": [
        {
          "output_type": "execute_result",
          "data": {
            "text/plain": [
              "<tf.Tensor: shape=(129,), dtype=float32, numpy=\n",
              "array([0., 0., 0., 0., 0., 0., 0., 0., 0., 0., 0., 0., 0., 0., 0., 0., 0.,\n",
              "       0., 0., 0., 0., 0., 0., 0., 0., 0., 0., 0., 0., 0., 0., 0., 0., 0.,\n",
              "       0., 0., 0., 0., 0., 0., 0., 0., 0., 0., 0., 0., 0., 0., 0., 0., 0.,\n",
              "       0., 0., 0., 0., 0., 0., 0., 0., 0., 0., 0., 0., 0., 0., 0., 0., 0.,\n",
              "       0., 0., 0., 0., 0., 0., 0., 0., 0., 0., 0., 0., 0., 0., 0., 0., 0.,\n",
              "       0., 0., 0., 0., 0., 0., 0., 0., 0., 0., 0., 0., 0., 1., 4., 4., 4.,\n",
              "       4., 3., 4., 4., 4., 4., 3., 4., 4., 4., 4., 4., 4., 3., 4., 4., 3.,\n",
              "       4., 4., 4., 4., 4., 4., 4., 4., 4., 4.], dtype=float32)>"
            ]
          },
          "metadata": {
            "tags": []
          },
          "execution_count": 33
        }
      ]
    },
    {
      "cell_type": "code",
      "metadata": {
        "colab": {
          "base_uri": "https://localhost:8080/"
        },
        "id": "WJFEWh7AT2Mc",
        "outputId": "26c94731-ce21-4244-aec3-0f97478589f7"
      },
      "source": [
        "# corresponding mask\r\n",
        "vmask[0, :, 0]"
      ],
      "execution_count": 34,
      "outputs": [
        {
          "output_type": "execute_result",
          "data": {
            "text/plain": [
              "<tf.Tensor: shape=(128,), dtype=float32, numpy=\n",
              "array([0., 0., 0., 0., 0., 0., 0., 0., 0., 0., 0., 0., 0., 0., 0., 0., 0.,\n",
              "       0., 0., 0., 0., 0., 0., 0., 0., 0., 0., 0., 0., 0., 0., 0., 0., 0.,\n",
              "       0., 0., 0., 0., 0., 0., 0., 0., 0., 0., 0., 0., 0., 0., 0., 0., 0.,\n",
              "       0., 0., 0., 0., 0., 0., 0., 0., 0., 0., 0., 0., 0., 0., 0., 0., 0.,\n",
              "       0., 0., 0., 0., 0., 0., 0., 0., 0., 0., 0., 0., 0., 0., 0., 0., 0.,\n",
              "       0., 0., 0., 0., 0., 0., 0., 0., 0., 0., 0., 0., 0., 1., 1., 1., 1.,\n",
              "       1., 1., 1., 1., 1., 1., 1., 1., 1., 1., 1., 1., 1., 1., 1., 1., 1.,\n",
              "       1., 1., 1., 1., 1., 1., 1., 1., 1.], dtype=float32)>"
            ]
          },
          "metadata": {
            "tags": []
          },
          "execution_count": 34
        }
      ]
    },
    {
      "cell_type": "code",
      "metadata": {
        "colab": {
          "base_uri": "https://localhost:8080/"
        },
        "id": "gY6reftTtmY1",
        "outputId": "8668202c-23d9-4429-901a-cfae0a0c79e8"
      },
      "source": [
        "vx[0, 1:, 6] * vmask[0, :, 0] # checking the mask"
      ],
      "execution_count": 35,
      "outputs": [
        {
          "output_type": "execute_result",
          "data": {
            "text/plain": [
              "<tf.Tensor: shape=(128,), dtype=float32, numpy=\n",
              "array([0., 0., 0., 0., 0., 0., 0., 0., 0., 0., 0., 0., 0., 0., 0., 0., 0.,\n",
              "       0., 0., 0., 0., 0., 0., 0., 0., 0., 0., 0., 0., 0., 0., 0., 0., 0.,\n",
              "       0., 0., 0., 0., 0., 0., 0., 0., 0., 0., 0., 0., 0., 0., 0., 0., 0.,\n",
              "       0., 0., 0., 0., 0., 0., 0., 0., 0., 0., 0., 0., 0., 0., 0., 0., 0.,\n",
              "       0., 0., 0., 0., 0., 0., 0., 0., 0., 0., 0., 0., 0., 0., 0., 0., 0.,\n",
              "       0., 0., 0., 0., 0., 0., 0., 0., 0., 0., 0., 0., 0., 4., 4., 4., 4.,\n",
              "       3., 4., 4., 4., 4., 3., 4., 4., 4., 4., 4., 4., 3., 4., 4., 3., 4.,\n",
              "       4., 4., 4., 4., 4., 4., 4., 4., 4.], dtype=float32)>"
            ]
          },
          "metadata": {
            "tags": []
          },
          "execution_count": 35
        }
      ]
    },
    {
      "cell_type": "markdown",
      "metadata": {
        "id": "z7N2qkPoGF8n"
      },
      "source": [
        "### Model"
      ]
    },
    {
      "cell_type": "markdown",
      "metadata": {
        "id": "YzidzjELLqY7"
      },
      "source": [
        "##### Positional Encoding"
      ]
    },
    {
      "cell_type": "code",
      "metadata": {
        "id": "G3OWpbddMhgh"
      },
      "source": [
        "def get_angles(pos, i, d_model):\n",
        "  angle_rates = 1 / np.power(10000, (2 * (i//2)) / np.float32(d_model))\n",
        "  return pos * angle_rates"
      ],
      "execution_count": 36,
      "outputs": []
    },
    {
      "cell_type": "code",
      "metadata": {
        "id": "MA17TuuTMh8R"
      },
      "source": [
        "def positional_encoding(position, d_model):\n",
        "  angle_rads = get_angles(np.arange(position)[:, np.newaxis],\n",
        "                          np.arange(d_model)[np.newaxis, :],\n",
        "                          d_model)\n",
        "\n",
        "  # apply sin to even indices in the array; 2i\n",
        "  angle_rads[:, 0::2] = np.sin(angle_rads[:, 0::2])\n",
        "\n",
        "  # apply cos to odd indices in the array; 2i+1\n",
        "  angle_rads[:, 1::2] = np.cos(angle_rads[:, 1::2])\n",
        "\n",
        "  pos_encoding = angle_rads[np.newaxis, ...]\n",
        "\n",
        "  return tf.cast(pos_encoding, dtype=tf.float32)"
      ],
      "execution_count": 37,
      "outputs": []
    },
    {
      "cell_type": "markdown",
      "metadata": {
        "id": "7pROxdYkMkRi"
      },
      "source": [
        "##### Look ahead mask"
      ]
    },
    {
      "cell_type": "code",
      "metadata": {
        "id": "M3ZVSk3oMxg3"
      },
      "source": [
        "def create_look_ahead_mask(size):\n",
        "  mask = 1 - tf.linalg.band_part(tf.ones((size, size)), -1, 0)\n",
        "  return mask  # (seq_len, seq_len)"
      ],
      "execution_count": 38,
      "outputs": []
    },
    {
      "cell_type": "markdown",
      "metadata": {
        "id": "OfDhTLswMyDl"
      },
      "source": [
        "##### Scaled Dot Product Attention"
      ]
    },
    {
      "cell_type": "code",
      "metadata": {
        "id": "xJhA4M7XM8zY"
      },
      "source": [
        "def scaled_dot_product_attention(q, k, v, mask):\n",
        "  \"\"\"Calculate the attention weights.\n",
        "  q, k, v must have matching leading dimensions.\n",
        "  k, v must have matching penultimate dimension, i.e.: seq_len_k = seq_len_v.\n",
        "  The mask has different shapes depending on its type(padding or look ahead) \n",
        "  but it must be broadcastable for addition.\n",
        "\n",
        "  Args:\n",
        "    q: query shape == (..., seq_len_q, depth)\n",
        "    k: key shape == (..., seq_len_k, depth)\n",
        "    v: value shape == (..., seq_len_v, depth_v)\n",
        "    mask: Float tensor with shape broadcastable \n",
        "          to (..., seq_len_q, seq_len_k). Defaults to None.\n",
        "\n",
        "  Returns:\n",
        "    output, attention_weights\n",
        "  \"\"\"\n",
        "\n",
        "  matmul_qk = tf.matmul(q, k, transpose_b=True)  # (..., seq_len_q, seq_len_k)\n",
        "\n",
        "  # scale matmul_qk\n",
        "  dk = tf.cast(tf.shape(k)[-1], tf.float32)\n",
        "  scaled_attention_logits = matmul_qk / tf.math.sqrt(dk)\n",
        "\n",
        "  # add the mask to the scaled tensor.\n",
        "  if mask is not None:\n",
        "    scaled_attention_logits += (mask * -1e9)  \n",
        "\n",
        "  # softmax is normalized on the last axis (seq_len_k) so that the scores\n",
        "  # add up to 1.\n",
        "  attention_weights = tf.nn.softmax(scaled_attention_logits, axis=-1)  # (..., seq_len_q, seq_len_k)\n",
        "\n",
        "  output = tf.matmul(attention_weights, v)  # (..., seq_len_q, depth_v)\n",
        "\n",
        "  return output, attention_weights"
      ],
      "execution_count": 39,
      "outputs": []
    },
    {
      "cell_type": "markdown",
      "metadata": {
        "id": "Ak8Y8-ihNG1j"
      },
      "source": [
        "##### Multi Head Attention"
      ]
    },
    {
      "cell_type": "code",
      "metadata": {
        "id": "CkL0KZ5uNMS7"
      },
      "source": [
        "class MultiHeadAttention(tf.keras.layers.Layer):\n",
        "  def __init__(self, d_model, num_heads):\n",
        "    super(MultiHeadAttention, self).__init__()\n",
        "    self.num_heads = num_heads\n",
        "    self.d_model = d_model\n",
        "\n",
        "    assert d_model % self.num_heads == 0\n",
        "\n",
        "    self.depth = d_model // self.num_heads\n",
        "\n",
        "    self.wq = tf.keras.layers.Dense(d_model)\n",
        "    self.wk = tf.keras.layers.Dense(d_model)\n",
        "    self.wv = tf.keras.layers.Dense(d_model)\n",
        "\n",
        "    self.dense = tf.keras.layers.Dense(d_model)\n",
        "\n",
        "  def split_heads(self, x, batch_size):\n",
        "    \"\"\"Split the last dimension into (num_heads, depth).\n",
        "    Transpose the result such that the shape is (batch_size, num_heads, seq_len, depth)\n",
        "    \"\"\"\n",
        "    x = tf.reshape(x, (batch_size, -1, self.num_heads, self.depth))\n",
        "    return tf.transpose(x, perm=[0, 2, 1, 3])\n",
        "\n",
        "  def call(self, v, k, q, mask):\n",
        "    batch_size = tf.shape(q)[0]\n",
        "\n",
        "    q = self.wq(q)  # (batch_size, seq_len, d_model)\n",
        "    k = self.wk(k)  # (batch_size, seq_len, d_model)\n",
        "    v = self.wv(v)  # (batch_size, seq_len, d_model)\n",
        "\n",
        "    q = self.split_heads(q, batch_size)  # (batch_size, num_heads, seq_len_q, depth)\n",
        "    k = self.split_heads(k, batch_size)  # (batch_size, num_heads, seq_len_k, depth)\n",
        "    v = self.split_heads(v, batch_size)  # (batch_size, num_heads, seq_len_v, depth)\n",
        "\n",
        "    # scaled_attention.shape == (batch_size, num_heads, seq_len_q, depth)\n",
        "    # attention_weights.shape == (batch_size, num_heads, seq_len_q, seq_len_k)\n",
        "    scaled_attention, attention_weights = scaled_dot_product_attention(\n",
        "        q, k, v, mask)\n",
        "\n",
        "    scaled_attention = tf.transpose(scaled_attention, perm=[0, 2, 1, 3])  # (batch_size, seq_len_q, num_heads, depth)\n",
        "\n",
        "    concat_attention = tf.reshape(scaled_attention, \n",
        "                                  (batch_size, -1, self.d_model))  # (batch_size, seq_len_q, d_model)\n",
        "\n",
        "    output = self.dense(concat_attention)  # (batch_size, seq_len_q, d_model)\n",
        "\n",
        "    return output, attention_weights"
      ],
      "execution_count": 40,
      "outputs": []
    },
    {
      "cell_type": "markdown",
      "metadata": {
        "id": "EwQteAZBNPtG"
      },
      "source": [
        "##### Pointwise FeedForward Network"
      ]
    },
    {
      "cell_type": "code",
      "metadata": {
        "id": "jiYVEX_0NX54"
      },
      "source": [
        "def point_wise_feed_forward_network(d_model, dff):\n",
        "  return tf.keras.Sequential([\n",
        "      tf.keras.layers.Dense(dff, activation='relu'),  # (batch_size, seq_len, dff)\n",
        "      tf.keras.layers.Dense(d_model)  # (batch_size, seq_len, d_model)\n",
        "  ])"
      ],
      "execution_count": 41,
      "outputs": []
    },
    {
      "cell_type": "markdown",
      "metadata": {
        "id": "QGbRm0LSNau_"
      },
      "source": [
        "##### EncoderLayer"
      ]
    },
    {
      "cell_type": "code",
      "metadata": {
        "id": "V96wCZDvNexl"
      },
      "source": [
        "class EncoderLayer(tf.keras.layers.Layer):\n",
        "  def __init__(self, d_model, num_heads, dff, rate=0.1):\n",
        "    super(EncoderLayer, self).__init__()\n",
        "\n",
        "    self.mha = MultiHeadAttention(d_model, num_heads)\n",
        "    self.ffn = point_wise_feed_forward_network(d_model, dff)\n",
        "\n",
        "    self.layernorm1 = tf.keras.layers.LayerNormalization(epsilon=1e-6)\n",
        "    self.layernorm2 = tf.keras.layers.LayerNormalization(epsilon=1e-6)\n",
        "\n",
        "    self.dropout1 = tf.keras.layers.Dropout(rate)\n",
        "    self.dropout2 = tf.keras.layers.Dropout(rate)\n",
        "\n",
        "  def call(self, x, training, mask):\n",
        "\n",
        "    attn_output, _ = self.mha(x, x, x, mask)  # (batch_size, input_seq_len, d_model)\n",
        "    attn_output = self.dropout1(attn_output, training=training)\n",
        "    out1 = self.layernorm1(x + attn_output)  # (batch_size, input_seq_len, d_model)\n",
        "\n",
        "    ffn_output = self.ffn(out1)  # (batch_size, input_seq_len, d_model)\n",
        "    ffn_output = self.dropout2(ffn_output, training=training)\n",
        "    out2 = self.layernorm2(out1 + ffn_output)  # (batch_size, input_seq_len, d_model)\n",
        "\n",
        "    return out2"
      ],
      "execution_count": 42,
      "outputs": []
    },
    {
      "cell_type": "markdown",
      "metadata": {
        "id": "s7i7zR9xNjMj"
      },
      "source": [
        "##### Encoder"
      ]
    },
    {
      "cell_type": "code",
      "metadata": {
        "id": "ZM4bREj9Nrp_"
      },
      "source": [
        "class Encoder(tf.keras.layers.Layer):\n",
        "  def __init__(self, num_layers, d_model, num_heads, dff, maximum_position_encoding, embed_size_dict, rate):\n",
        "    super(Encoder, self).__init__()\n",
        "\n",
        "    self.d_model = d_model\n",
        "    self.num_layers = num_layers\n",
        "\n",
        "    self.content_id_emb = tf.keras.layers.Embedding(embed_size_dict[\"content_id\"] + 1, d_model)\n",
        "    self.task_container_id_emb = tf.keras.layers.Embedding(embed_size_dict[\"task_container_id\"] + 1, d_model)\n",
        "    self.part_emb = tf.keras.layers.Embedding(embed_size_dict[\"part\"] + 1, d_model)\n",
        "    self.elapsed_time_emb = tf.keras.layers.Dense(d_model, use_bias=True)\n",
        "    self.answered_correctly_emb = tf.keras.layers.Embedding(embed_size_dict[\"answered_correctly\"], d_model)\n",
        "    self.pos_encoding = positional_encoding(maximum_position_encoding, self.d_model)\n",
        "\n",
        "\n",
        "    self.enc_layers = [EncoderLayer(d_model, num_heads, dff, rate) \n",
        "                       for _ in range(num_layers)]\n",
        "\n",
        "    self.dropout = tf.keras.layers.Dropout(rate)\n",
        "\n",
        "  def call(self, x, training, mask):\n",
        "\n",
        "    seq_len = tf.shape(x)[1]\n",
        "\n",
        "    \"\"\"\n",
        "    tf.cast(timestamp, tf.float32),\n",
        "    tf.cast(content_id, tf.float32),\n",
        "    tf.cast(task_container_id, tf.float32),\n",
        "    tf.cast(elapsed_time, tf.float32),\n",
        "    tf.cast(had_explanation, tf.float32),\n",
        "    tf.cast(part, tf.float32),\n",
        "    tf.cast(answered_correctly, tf.float32),\n",
        "    \"\"\"\n",
        "    # adding embeddings and position encoding.\n",
        "    content_id_emb = self.content_id_emb(x[..., 1])  # (batch_size, input_seq_len, d_model)\n",
        "    task_container_id_emb = self.task_container_id_emb(x[..., 2])\n",
        "    elapsed_time_emb = self.elapsed_time_emb(tf.expand_dims(x[..., 3], axis=-1))\n",
        "    part_emb = self.part_emb(x[..., 5])\n",
        "    answered_correctly_emb = self.answered_correctly_emb(x[..., 6])\n",
        "    x = content_id_emb + task_container_id_emb + elapsed_time_emb + part_emb + answered_correctly_emb\n",
        "    \n",
        "    x *= tf.math.sqrt(tf.cast(self.d_model, tf.float32))\n",
        "    x += self.pos_encoding[:, :seq_len, :]\n",
        "\n",
        "    x = self.dropout(x, training=training)\n",
        "\n",
        "    for i in range(self.num_layers):\n",
        "      x = self.enc_layers[i](x, training, mask) # (batch_size, input_seq_len, d_model)\n",
        "\n",
        "    return x"
      ],
      "execution_count": 43,
      "outputs": []
    },
    {
      "cell_type": "markdown",
      "metadata": {
        "id": "aEjweChzd0PL"
      },
      "source": [
        "##### Decoder Layer"
      ]
    },
    {
      "cell_type": "code",
      "metadata": {
        "id": "dXKW4K9fd2sj"
      },
      "source": [
        "class DecoderLayer(tf.keras.layers.Layer):\r\n",
        "  def __init__(self, d_model, num_heads, dff, rate=0.1):\r\n",
        "    super(DecoderLayer, self).__init__()\r\n",
        "\r\n",
        "    self.mha1 = MultiHeadAttention(d_model, num_heads)\r\n",
        "    self.mha2 = MultiHeadAttention(d_model, num_heads)\r\n",
        "\r\n",
        "    self.ffn = point_wise_feed_forward_network(d_model, dff)\r\n",
        "\r\n",
        "    self.layernorm1 = tf.keras.layers.LayerNormalization(epsilon=1e-6)\r\n",
        "    self.layernorm2 = tf.keras.layers.LayerNormalization(epsilon=1e-6)\r\n",
        "    self.layernorm3 = tf.keras.layers.LayerNormalization(epsilon=1e-6)\r\n",
        "\r\n",
        "    self.dropout1 = tf.keras.layers.Dropout(rate)\r\n",
        "    self.dropout2 = tf.keras.layers.Dropout(rate)\r\n",
        "    self.dropout3 = tf.keras.layers.Dropout(rate)\r\n",
        "\r\n",
        "\r\n",
        "  def call(self, x, enc_output, training, look_ahead_mask):\r\n",
        "    # enc_output.shape == (batch_size, input_seq_len, d_model)\r\n",
        "\r\n",
        "    attn1, attn_weights_block1 = self.mha1(x, x, x, look_ahead_mask)  # (batch_size, target_seq_len, d_model)\r\n",
        "    attn1 = self.dropout1(attn1, training=training)\r\n",
        "    out1 = self.layernorm1(attn1 + x)\r\n",
        "\r\n",
        "    attn2, attn_weights_block2 = self.mha2(enc_output, enc_output, out1, look_ahead_mask)  # (batch_size, target_seq_len, d_model)\r\n",
        "    attn2 = self.dropout2(attn2, training=training)\r\n",
        "    out2 = self.layernorm2(attn2 + out1)  # (batch_size, target_seq_len, d_model)\r\n",
        "\r\n",
        "    ffn_output = self.ffn(out2)  # (batch_size, target_seq_len, d_model)\r\n",
        "    ffn_output = self.dropout3(ffn_output, training=training)\r\n",
        "    out3 = self.layernorm3(ffn_output + out2)  # (batch_size, target_seq_len, d_model)\r\n",
        "\r\n",
        "    return out3, attn_weights_block1, attn_weights_block2"
      ],
      "execution_count": 44,
      "outputs": []
    },
    {
      "cell_type": "markdown",
      "metadata": {
        "id": "VDyHNjP7d78P"
      },
      "source": [
        "##### Decoder"
      ]
    },
    {
      "cell_type": "code",
      "metadata": {
        "id": "dEPz4Said-xV"
      },
      "source": [
        "class Decoder(tf.keras.layers.Layer):\r\n",
        "  def __init__(self, num_layers, d_model, num_heads, dff, maximum_position_encoding, embed_size_dict, rate):\r\n",
        "    super(Decoder, self).__init__()\r\n",
        "\r\n",
        "    self.d_model = d_model\r\n",
        "    self.num_layers = num_layers\r\n",
        "\r\n",
        "    self.content_id_emb = tf.keras.layers.Embedding(embed_size_dict[\"content_id\"] + 1, d_model)\r\n",
        "    self.task_container_id_emb = tf.keras.layers.Embedding(embed_size_dict[\"task_container_id\"] + 1, d_model)\r\n",
        "    self.part_emb = tf.keras.layers.Embedding(embed_size_dict[\"part\"] + 1, d_model)\r\n",
        "    self.pos_encoding = positional_encoding(maximum_position_encoding, self.d_model)\r\n",
        "\r\n",
        "    self.dec_layers = [DecoderLayer(d_model, num_heads, dff, rate) \r\n",
        "                       for _ in range(num_layers)]\r\n",
        "    self.dropout = tf.keras.layers.Dropout(rate)\r\n",
        "\r\n",
        "  def call(self, x, enc_output, training, look_ahead_mask):\r\n",
        "\r\n",
        "    seq_len = tf.shape(x)[1]\r\n",
        "    attention_weights = {}\r\n",
        "\r\n",
        "    \"\"\"\r\n",
        "    tf.cast(timestamp, tf.float32),\r\n",
        "    tf.cast(content_id, tf.float32),\r\n",
        "    tf.cast(task_container_id, tf.float32),\r\n",
        "    tf.cast(elapsed_time, tf.float32),\r\n",
        "    tf.cast(had_explanation, tf.float32),\r\n",
        "    tf.cast(part, tf.float32),\r\n",
        "    tf.cast(answered_correctly, tf.float32),\r\n",
        "    \"\"\"\r\n",
        "    # adding embeddings and position encoding.\r\n",
        "    content_id_emb = self.content_id_emb(x[..., 1])  # (batch_size, input_seq_len, d_model)\r\n",
        "    task_container_id_emb = self.task_container_id_emb(x[..., 2])\r\n",
        "    part_emb = self.part_emb(x[..., 5])\r\n",
        "    x = content_id_emb + task_container_id_emb + part_emb\r\n",
        "\r\n",
        "    x *= tf.math.sqrt(tf.cast(self.d_model, tf.float32))\r\n",
        "    x += self.pos_encoding[:, :seq_len, :]\r\n",
        "\r\n",
        "    x = self.dropout(x, training=training)\r\n",
        "\r\n",
        "    for i in range(self.num_layers):\r\n",
        "      x, block1, block2 = self.dec_layers[i](x, enc_output, training, look_ahead_mask)\r\n",
        "\r\n",
        "      attention_weights['decoder_layer{}_block1'.format(i+1)] = block1\r\n",
        "      attention_weights['decoder_layer{}_block2'.format(i+1)] = block2\r\n",
        "\r\n",
        "    # x.shape == (batch_size, target_seq_len, d_model)\r\n",
        "    return x, attention_weights"
      ],
      "execution_count": 45,
      "outputs": []
    },
    {
      "cell_type": "code",
      "metadata": {
        "id": "9PcxHfXTp64m"
      },
      "source": [
        "class TransformerSeq2SeqClassifier(keras.models.Model):\n",
        "  def __init__(self, num_layers, d_model, num_heads, dff, maximum_position_encoding, embed_size_dict, rate=0.1):\n",
        "    super(TransformerSeq2SeqClassifier, self).__init__()\n",
        "\n",
        "    self.encoder = Encoder(num_layers, d_model, num_heads, dff, maximum_position_encoding, embed_size_dict, rate)\n",
        "    self.decoder = Decoder(num_layers, d_model, num_heads, dff, maximum_position_encoding, embed_size_dict, rate)\n",
        "    \n",
        "    self.out = tf.keras.layers.Dense(1, activation=\"sigmoid\")\n",
        "\n",
        "  def call(self, x, training):\n",
        "  \n",
        "    look_ahead_mask = create_look_ahead_mask(SEQ_LEN)\n",
        "    \n",
        "    # encoder\n",
        "    enc_input = x[:, :SEQ_LEN, :]\n",
        "    enc_output = self.encoder(enc_input, training=training, mask=look_ahead_mask)\n",
        "\n",
        "    # decoder\n",
        "    dec_input = x[:, 1:, :]\n",
        "    dec_output, attention_weights = self.decoder(dec_input, enc_output, training=training, look_ahead_mask=look_ahead_mask)\n",
        "\n",
        "    out = self.out(dec_output)\n",
        "    return out # [batch_size, input_seq_len, 1]\n"
      ],
      "execution_count": 46,
      "outputs": []
    },
    {
      "cell_type": "markdown",
      "metadata": {
        "id": "SFiVa3cKN4E_"
      },
      "source": [
        "###### Embedding Sizes"
      ]
    },
    {
      "cell_type": "code",
      "metadata": {
        "id": "0xU0IaYQX_XG"
      },
      "source": [
        "embed_sizes = pickle.loads(tf.io.read_file(DATA_PATH + \"/emb_sz.pkl\").numpy())"
      ],
      "execution_count": 47,
      "outputs": []
    },
    {
      "cell_type": "code",
      "metadata": {
        "colab": {
          "base_uri": "https://localhost:8080/"
        },
        "id": "sfN7FrvjY02x",
        "outputId": "75cc0e65-837f-41ee-cbd3-0d333a053293"
      },
      "source": [
        "embed_sizes"
      ],
      "execution_count": 48,
      "outputs": [
        {
          "output_type": "execute_result",
          "data": {
            "text/plain": [
              "{'answered_correctly': 5,\n",
              " 'content_id': 13525,\n",
              " 'had_explanation': 5,\n",
              " 'part': 10,\n",
              " 'tags': 190,\n",
              " 'task_container_id': 10002}"
            ]
          },
          "metadata": {
            "tags": []
          },
          "execution_count": 48
        }
      ]
    },
    {
      "cell_type": "code",
      "metadata": {
        "id": "xWvXJsP3Y2Bt"
      },
      "source": [
        "with strategy.scope():\n",
        "  model = TransformerSeq2SeqClassifier(\n",
        "      num_layers=1,\n",
        "      d_model=512,\n",
        "      num_heads=8,\n",
        "      dff=1024,\n",
        "      maximum_position_encoding=SEQ_LEN,\n",
        "      embed_size_dict=embed_sizes\n",
        "  )"
      ],
      "execution_count": 49,
      "outputs": []
    },
    {
      "cell_type": "code",
      "metadata": {
        "id": "givnKZG-ar9N",
        "colab": {
          "base_uri": "https://localhost:8080/"
        },
        "outputId": "6eb0301e-f175-44b2-bdc9-962cd7c9ca72"
      },
      "source": [
        "for xb, yb, mb in dataset.take(1):\n",
        "  print(xb.shape, yb.shape, mb.shape)"
      ],
      "execution_count": 50,
      "outputs": [
        {
          "output_type": "stream",
          "text": [
            "(256, 129, 197) (256, 128, 1) (256, 128, 1)\n"
          ],
          "name": "stdout"
        }
      ]
    },
    {
      "cell_type": "code",
      "metadata": {
        "id": "ubeynQDIa3V_"
      },
      "source": [
        "with strategy.scope():\r\n",
        "  y_pred = model(xb)"
      ],
      "execution_count": 51,
      "outputs": []
    },
    {
      "cell_type": "code",
      "metadata": {
        "colab": {
          "base_uri": "https://localhost:8080/"
        },
        "id": "zcjFuHPZk8fa",
        "outputId": "cf7e755d-8e23-4e03-a23d-9debc7198c52"
      },
      "source": [
        "y_pred.shape"
      ],
      "execution_count": 52,
      "outputs": [
        {
          "output_type": "execute_result",
          "data": {
            "text/plain": [
              "TensorShape([256, 128, 1])"
            ]
          },
          "metadata": {
            "tags": []
          },
          "execution_count": 52
        }
      ]
    },
    {
      "cell_type": "markdown",
      "metadata": {
        "id": "JCYG-IobCINv"
      },
      "source": [
        "#### Training"
      ]
    },
    {
      "cell_type": "code",
      "metadata": {
        "id": "hcWnSd8TpiZi"
      },
      "source": [
        "class CustomAUC(keras.metrics.Metric):\r\n",
        "\r\n",
        "  def __init__(self, **kwargs):\r\n",
        "    super().__init__(**kwargs)\r\n",
        "\r\n",
        "    self.auc = keras.metrics.AUC()\r\n",
        "\r\n",
        "  def update_state(self, y_true, y_pred, sample_weight):\r\n",
        "\r\n",
        "    self.auc.update_state(y_true, y_pred, sample_weight)\r\n",
        "\r\n",
        "  def result(self):\r\n",
        "    return self.auc.result()\r\n",
        "\r\n",
        "  def reset_states(self):\r\n",
        "    return self.auc.reset_states()\r\n",
        "\r\n",
        "  def get_config(self):\r\n",
        "    return self.auc.get_config()\r\n",
        "\r\n",
        "  @property\r\n",
        "  def thresholds(self):\r\n",
        "    return self.auc.thresholds"
      ],
      "execution_count": 53,
      "outputs": []
    },
    {
      "cell_type": "code",
      "metadata": {
        "id": "CvlTpfOyxEHa"
      },
      "source": [
        "# Just subclassing Loss, doesnt give us the power how to weight the sample losses.\r\n",
        "# Hence re-implementing the __call__ method\r\n",
        "class MaskedBCELoss(keras.losses.Loss):\r\n",
        "  def __init__(self, **kwargs):\r\n",
        "    super().__init__(**kwargs)\r\n",
        "\r\n",
        "    self.bce = keras.losses.BinaryCrossentropy(reduction=keras.losses.Reduction.NONE)\r\n",
        "\r\n",
        "  def call(self, y_true, y_pred, sample_weight):\r\n",
        "\r\n",
        "    normal_bce_loss = self.bce(y_true, y_pred, sample_weight) # gives 0 where masked.\r\n",
        "\r\n",
        "    # count # of non masked entries in the batch\r\n",
        "    unmasked_count = tf.math.reduce_sum(tf.cast(tf.math.not_equal(normal_bce_loss, 0), tf.float32))\r\n",
        "\r\n",
        "    # sum the unmasked entries.\r\n",
        "    unmasked_sum = tf.math.reduce_sum(normal_bce_loss)\r\n",
        "  \r\n",
        "    average_loss = tf.math.divide(unmasked_sum, unmasked_count)\r\n",
        "\r\n",
        "    return average_loss\r\n",
        "\r\n",
        "  def __call__(self, y_true, y_pred, sample_weight):\r\n",
        "\r\n",
        "    graph_ctx = tf_utils.graph_context_for_symbolic_tensors(\r\n",
        "        y_true, y_pred, sample_weight)\r\n",
        "    with K.name_scope(self._name_scope), graph_ctx:\r\n",
        "      ag_call = autograph.tf_convert(self.call, ag_ctx.control_status_ctx())\r\n",
        "      losses = ag_call(y_true, y_pred, sample_weight)\r\n",
        "      return losses\r\n"
      ],
      "execution_count": 54,
      "outputs": []
    },
    {
      "cell_type": "code",
      "metadata": {
        "id": "1_Q_LtMP58mr",
        "colab": {
          "base_uri": "https://localhost:8080/"
        },
        "outputId": "874ccfc4-c8a5-4251-90bf-d7e6f48f0d69"
      },
      "source": [
        "loss = MaskedBCELoss()\r\n",
        "loss(yb, y_pred, mb)"
      ],
      "execution_count": 55,
      "outputs": [
        {
          "output_type": "execute_result",
          "data": {
            "text/plain": [
              "<tf.Tensor: shape=(), dtype=float32, numpy=1.2575097>"
            ]
          },
          "metadata": {
            "tags": []
          },
          "execution_count": 55
        }
      ]
    },
    {
      "cell_type": "code",
      "metadata": {
        "id": "NOhUhp9OmsjJ"
      },
      "source": [
        "with strategy.scope():\n",
        "  optimizer = keras.optimizers.Adam(learning_rate=3e-5)\n",
        "  # loss = keras.losses.BinaryCrossentropy()\n",
        "  loss = MaskedBCELoss()\n",
        "  reduce_lr_cb = tf.keras.callbacks.ReduceLROnPlateau(monitor=\"val_loss\", factor=0.5, patience=4, min_lr=1e-7, verbose=1)\n",
        "  model_checkpoint_cb = tf.keras.callbacks.ModelCheckpoint(\n",
        "    filepath=\"model/best-model.h5\",\n",
        "    save_weights_only=True,\n",
        "    monitor='val_loss',\n",
        "    mode='min',\n",
        "    save_best_only=True)"
      ],
      "execution_count": 56,
      "outputs": []
    },
    {
      "cell_type": "code",
      "metadata": {
        "id": "Mo7o34xVoeFc"
      },
      "source": [
        "with strategy.scope():\n",
        "  model.compile(loss=loss, optimizer=optimizer, metrics=[keras.metrics.AUC()]) #, weighted_metrics=[CustomAUC()]) # \"weighted_metrics\" not supported on TPU with tf.data"
      ],
      "execution_count": 57,
      "outputs": []
    },
    {
      "cell_type": "code",
      "metadata": {
        "id": "DdpViganz2pH"
      },
      "source": [
        "## OVERFIT SINGLE BATCH\n",
        "# with strategy.scope():\n",
        "#   x, y, mask = next(iter(dataset.take(1))) # cannot just use take(), cause that return different batch everytime\n",
        "#   print(x.shape, y.shape, mask.shape)\n",
        "#   model.fit(x, y, epochs=100, sample_weight=mask)"
      ],
      "execution_count": 59,
      "outputs": []
    },
    {
      "cell_type": "code",
      "metadata": {
        "id": "NEAl6-FkbGOW"
      },
      "source": [
        "!mkdir model"
      ],
      "execution_count": 60,
      "outputs": []
    },
    {
      "cell_type": "code",
      "metadata": {
        "id": "54Lfz06ApMcJ",
        "colab": {
          "base_uri": "https://localhost:8080/"
        },
        "outputId": "50708263-55fb-4d6e-ed3e-52a2401cd154"
      },
      "source": [
        "with strategy.scope():\n",
        "  history = model.fit(dataset, validation_data=valid_dataset, epochs=50, callbacks=[reduce_lr_cb, model_checkpoint_cb])"
      ],
      "execution_count": 61,
      "outputs": [
        {
          "output_type": "stream",
          "text": [
            "Epoch 1/50\n",
            "1345/1345 [==============================] - 138s 80ms/step - loss: 0.6290 - auc: 0.5010 - val_loss: 0.5987 - val_auc: 0.5547\n",
            "Epoch 2/50\n",
            "1345/1345 [==============================] - 104s 76ms/step - loss: 0.5985 - auc: 0.5947 - val_loss: 0.5912 - val_auc: 0.5984\n",
            "Epoch 3/50\n",
            "1345/1345 [==============================] - 104s 76ms/step - loss: 0.5919 - auc: 0.6254 - val_loss: 0.5879 - val_auc: 0.6332\n",
            "Epoch 4/50\n",
            "1345/1345 [==============================] - 104s 76ms/step - loss: 0.5887 - auc: 0.6334 - val_loss: 0.5881 - val_auc: 0.6182\n",
            "Epoch 5/50\n",
            "1345/1345 [==============================] - 106s 78ms/step - loss: 0.5866 - auc: 0.6364 - val_loss: 0.5857 - val_auc: 0.6289\n",
            "Epoch 6/50\n",
            "1345/1345 [==============================] - 104s 76ms/step - loss: 0.5849 - auc: 0.6395 - val_loss: 0.5844 - val_auc: 0.6408\n",
            "Epoch 7/50\n",
            "1345/1345 [==============================] - 104s 76ms/step - loss: 0.5834 - auc: 0.6436 - val_loss: 0.5840 - val_auc: 0.6561\n",
            "Epoch 8/50\n",
            "1345/1345 [==============================] - 104s 76ms/step - loss: 0.5822 - auc: 0.6425 - val_loss: 0.5837 - val_auc: 0.6290\n",
            "Epoch 9/50\n",
            "1345/1345 [==============================] - 103s 75ms/step - loss: 0.5809 - auc: 0.6440 - val_loss: 0.5825 - val_auc: 0.6464\n",
            "Epoch 10/50\n",
            "1345/1345 [==============================] - 106s 78ms/step - loss: 0.5800 - auc: 0.6468 - val_loss: 0.5830 - val_auc: 0.6277\n",
            "Epoch 11/50\n",
            "1345/1345 [==============================] - 106s 78ms/step - loss: 0.5790 - auc: 0.6444 - val_loss: 0.5839 - val_auc: 0.6109\n",
            "Epoch 12/50\n",
            "1345/1345 [==============================] - 106s 78ms/step - loss: 0.5779 - auc: 0.6458 - val_loss: 0.5834 - val_auc: 0.6259\n",
            "Epoch 13/50\n",
            "1345/1345 [==============================] - 107s 78ms/step - loss: 0.5772 - auc: 0.6462 - val_loss: 0.5831 - val_auc: 0.6486\n",
            "\n",
            "Epoch 00013: ReduceLROnPlateau reducing learning rate to 1.4999999621068127e-05.\n",
            "Epoch 14/50\n",
            "1345/1345 [==============================] - 106s 78ms/step - loss: 0.5758 - auc: 0.6450 - val_loss: 0.5826 - val_auc: 0.6216\n",
            "Epoch 15/50\n",
            "1345/1345 [==============================] - 106s 78ms/step - loss: 0.5752 - auc: 0.6425 - val_loss: 0.5834 - val_auc: 0.6255\n",
            "Epoch 16/50\n",
            "1345/1345 [==============================] - 104s 76ms/step - loss: 0.5743 - auc: 0.6403 - val_loss: 0.5828 - val_auc: 0.6207\n",
            "Epoch 17/50\n",
            "1345/1345 [==============================] - 106s 78ms/step - loss: 0.5741 - auc: 0.6425 - val_loss: 0.5835 - val_auc: 0.6267\n",
            "\n",
            "Epoch 00017: ReduceLROnPlateau reducing learning rate to 7.499999810534064e-06.\n",
            "Epoch 18/50\n",
            "1345/1345 [==============================] - 107s 78ms/step - loss: 0.5735 - auc: 0.6398 - val_loss: 0.5832 - val_auc: 0.6212\n",
            "Epoch 19/50\n",
            "1345/1345 [==============================] - 105s 76ms/step - loss: 0.5728 - auc: 0.6402 - val_loss: 0.5837 - val_auc: 0.6149\n",
            "Epoch 20/50\n",
            "1345/1345 [==============================] - 104s 76ms/step - loss: 0.5724 - auc: 0.6406 - val_loss: 0.5838 - val_auc: 0.6203\n",
            "Epoch 21/50\n",
            "1345/1345 [==============================] - 106s 78ms/step - loss: 0.5727 - auc: 0.6406 - val_loss: 0.5833 - val_auc: 0.6250\n",
            "\n",
            "Epoch 00021: ReduceLROnPlateau reducing learning rate to 3.749999905267032e-06.\n",
            "Epoch 22/50\n",
            "1345/1345 [==============================] - 104s 76ms/step - loss: 0.5716 - auc: 0.6431 - val_loss: 0.5833 - val_auc: 0.6212\n",
            "Epoch 23/50\n",
            "1345/1345 [==============================] - 104s 76ms/step - loss: 0.5715 - auc: 0.6411 - val_loss: 0.5840 - val_auc: 0.6167\n",
            "Epoch 24/50\n",
            "1345/1345 [==============================] - 107s 78ms/step - loss: 0.5720 - auc: 0.6381 - val_loss: 0.5839 - val_auc: 0.6175\n",
            "Epoch 25/50\n",
            "1345/1345 [==============================] - 106s 77ms/step - loss: 0.5719 - auc: 0.6393 - val_loss: 0.5842 - val_auc: 0.6151\n",
            "\n",
            "Epoch 00025: ReduceLROnPlateau reducing learning rate to 1.874999952633516e-06.\n",
            "Epoch 26/50\n",
            "1345/1345 [==============================] - 107s 78ms/step - loss: 0.5716 - auc: 0.6392 - val_loss: 0.5843 - val_auc: 0.6156\n",
            "Epoch 27/50\n",
            "1345/1345 [==============================] - 107s 78ms/step - loss: 0.5715 - auc: 0.6387 - val_loss: 0.5844 - val_auc: 0.6187\n",
            "Epoch 28/50\n",
            "1345/1345 [==============================] - 107s 78ms/step - loss: 0.5716 - auc: 0.6382 - val_loss: 0.5838 - val_auc: 0.6160\n",
            "Epoch 29/50\n",
            "1345/1345 [==============================] - 106s 78ms/step - loss: 0.5714 - auc: 0.6387 - val_loss: 0.5838 - val_auc: 0.6130\n",
            "\n",
            "Epoch 00029: ReduceLROnPlateau reducing learning rate to 9.37499976316758e-07.\n",
            "Epoch 30/50\n",
            "1345/1345 [==============================] - 104s 76ms/step - loss: 0.5708 - auc: 0.6380 - val_loss: 0.5842 - val_auc: 0.6158\n",
            "Epoch 31/50\n",
            "1345/1345 [==============================] - 106s 77ms/step - loss: 0.5713 - auc: 0.6370 - val_loss: 0.5839 - val_auc: 0.6158\n",
            "Epoch 32/50\n",
            "1345/1345 [==============================] - 107s 78ms/step - loss: 0.5713 - auc: 0.6368 - val_loss: 0.5841 - val_auc: 0.6142\n",
            "Epoch 33/50\n",
            "1345/1345 [==============================] - 107s 78ms/step - loss: 0.5712 - auc: 0.6379 - val_loss: 0.5840 - val_auc: 0.6166\n",
            "\n",
            "Epoch 00033: ReduceLROnPlateau reducing learning rate to 4.68749988158379e-07.\n",
            "Epoch 34/50\n",
            "1345/1345 [==============================] - 104s 76ms/step - loss: 0.5706 - auc: 0.6388 - val_loss: 0.5845 - val_auc: 0.6171\n",
            "Epoch 35/50\n",
            "1345/1345 [==============================] - 107s 78ms/step - loss: 0.5712 - auc: 0.6381 - val_loss: 0.5843 - val_auc: 0.6149\n",
            "Epoch 36/50\n",
            "1345/1345 [==============================] - 107s 78ms/step - loss: 0.5712 - auc: 0.6374 - val_loss: 0.5843 - val_auc: 0.6165\n",
            "Epoch 37/50\n",
            "1345/1345 [==============================] - 107s 78ms/step - loss: 0.5712 - auc: 0.6377 - val_loss: 0.5844 - val_auc: 0.6173\n",
            "\n",
            "Epoch 00037: ReduceLROnPlateau reducing learning rate to 2.343749940791895e-07.\n",
            "Epoch 38/50\n",
            "1345/1345 [==============================] - 107s 78ms/step - loss: 0.5709 - auc: 0.6383 - val_loss: 0.5841 - val_auc: 0.6169\n",
            "Epoch 39/50\n",
            "1345/1345 [==============================] - 107s 78ms/step - loss: 0.5710 - auc: 0.6378 - val_loss: 0.5840 - val_auc: 0.6173\n",
            "Epoch 40/50\n",
            "1345/1345 [==============================] - 105s 76ms/step - loss: 0.5704 - auc: 0.6388 - val_loss: 0.5844 - val_auc: 0.6172\n",
            "Epoch 41/50\n",
            "1345/1345 [==============================] - 107s 78ms/step - loss: 0.5711 - auc: 0.6380 - val_loss: 0.5842 - val_auc: 0.6166\n",
            "\n",
            "Epoch 00041: ReduceLROnPlateau reducing learning rate to 1.1718749703959475e-07.\n",
            "Epoch 42/50\n",
            "1345/1345 [==============================] - 105s 76ms/step - loss: 0.5705 - auc: 0.6382 - val_loss: 0.5843 - val_auc: 0.6179\n",
            "Epoch 43/50\n",
            "1345/1345 [==============================] - 107s 78ms/step - loss: 0.5711 - auc: 0.6379 - val_loss: 0.5841 - val_auc: 0.6173\n",
            "Epoch 44/50\n",
            " 333/1345 [======>.......................] - ETA: 1:05 - loss: 0.5702 - auc: 0.6383Buffered data was truncated after reaching the output size limit."
          ],
          "name": "stdout"
        }
      ]
    },
    {
      "cell_type": "markdown",
      "metadata": {
        "id": "V03flqmlb0ya"
      },
      "source": [
        "#### Inference"
      ]
    },
    {
      "cell_type": "code",
      "metadata": {
        "colab": {
          "base_uri": "https://localhost:8080/"
        },
        "id": "xrWT0dtGb15Z",
        "outputId": "a9cf0ee2-d320-4348-84d2-8a84f9eefcd0"
      },
      "source": [
        "new_model = TransformerSeq2SeqClassifier(\r\n",
        "      num_layers=1,\r\n",
        "      d_model=512,\r\n",
        "      num_heads=8,\r\n",
        "      dff=1024,\r\n",
        "      maximum_position_encoding=128,\r\n",
        "      embed_size_dict=embed_sizes\r\n",
        "  )\r\n",
        "new_model.build(input_shape=(128, 129, 197)) # input_shape - [batch_size, seq_len, features]\r\n",
        "new_model.summary()"
      ],
      "execution_count": 64,
      "outputs": [
        {
          "output_type": "stream",
          "text": [
            "Model: \"transformer_seq2seq_classifier_3\"\n",
            "_________________________________________________________________\n",
            "Layer (type)                 Output Shape              Param #   \n",
            "=================================================================\n",
            "encoder_3 (Encoder)          multiple                  14158848  \n",
            "_________________________________________________________________\n",
            "decoder_3 (Decoder)          multiple                  15206912  \n",
            "_________________________________________________________________\n",
            "dense_71 (Dense)             multiple                  513       \n",
            "=================================================================\n",
            "Total params: 29,366,273\n",
            "Trainable params: 29,366,273\n",
            "Non-trainable params: 0\n",
            "_________________________________________________________________\n"
          ],
          "name": "stdout"
        }
      ]
    },
    {
      "cell_type": "code",
      "metadata": {
        "id": "DhiK_llFb5Nu"
      },
      "source": [
        "new_model.load_weights(\"model/best-model.h5\")"
      ],
      "execution_count": 65,
      "outputs": []
    },
    {
      "cell_type": "code",
      "metadata": {
        "colab": {
          "base_uri": "https://localhost:8080/"
        },
        "id": "zLHwaHDub91B",
        "outputId": "75ce0c3e-f774-4087-820c-5c51cd3047bf"
      },
      "source": [
        "metric = keras.metrics.AUC()\r\n",
        "\r\n",
        "for valid_xb, valid_yb, valid_mb in valid_dataset:\r\n",
        "  valid_y_pred = new_model.predict(valid_xb)\r\n",
        "  metric.update_state(valid_yb, valid_y_pred, valid_mb)\r\n",
        "\r\n",
        "metric.result().numpy()"
      ],
      "execution_count": 66,
      "outputs": [
        {
          "output_type": "execute_result",
          "data": {
            "text/plain": [
              "0.7402448"
            ]
          },
          "metadata": {
            "tags": []
          },
          "execution_count": 66
        }
      ]
    },
    {
      "cell_type": "code",
      "metadata": {
        "id": "ynrkHazEdubx"
      },
      "source": [
        ""
      ],
      "execution_count": null,
      "outputs": []
    },
    {
      "cell_type": "markdown",
      "metadata": {
        "id": "ZRE5KRsYboLs"
      },
      "source": [
        "#### Upload to kaggle"
      ]
    },
    {
      "cell_type": "code",
      "metadata": {
        "id": "-g4mBjLKpj2l"
      },
      "source": [
        "%%capture\r\n",
        "!pip install kaggle"
      ],
      "execution_count": null,
      "outputs": []
    },
    {
      "cell_type": "code",
      "metadata": {
        "colab": {
          "base_uri": "https://localhost:8080/"
        },
        "id": "4TzMag2xp6yh",
        "outputId": "87311ef8-a96d-484a-872e-5b04946fe109"
      },
      "source": [
        "from google.colab import drive\r\n",
        "drive.mount(\"/content/drive\")"
      ],
      "execution_count": null,
      "outputs": [
        {
          "output_type": "stream",
          "text": [
            "Mounted at /content/drive\n"
          ],
          "name": "stdout"
        }
      ]
    },
    {
      "cell_type": "code",
      "metadata": {
        "id": "gL2uzXQRqHVh"
      },
      "source": [
        "# Copy Kaggle API key\r\n",
        "!mkdir -p ~/.kaggle && cp /content/drive/My\\ Drive/Projects/Kaggle/api_key/kaggle.json ~/.kaggle/"
      ],
      "execution_count": null,
      "outputs": []
    },
    {
      "cell_type": "code",
      "metadata": {
        "colab": {
          "base_uri": "https://localhost:8080/"
        },
        "id": "AlMow9wMqX0z",
        "outputId": "11d582ac-2283-4d25-83a3-40d9413b745d"
      },
      "source": [
        "!kaggle datasets init -p model/"
      ],
      "execution_count": null,
      "outputs": [
        {
          "output_type": "stream",
          "text": [
            "Data package template written to: model/dataset-metadata.json\n"
          ],
          "name": "stdout"
        }
      ]
    },
    {
      "cell_type": "code",
      "metadata": {
        "id": "x1VKcZiiqhEB"
      },
      "source": [
        "# id and title only alphanumeric and \"-\"\r\n",
        "meta = \"\"\"\r\n",
        "{\r\n",
        "  \"licenses\": [\r\n",
        "    {\r\n",
        "      \"name\": \"CC0-1.0\"\r\n",
        "    }\r\n",
        "  ], \r\n",
        "  \"id\": \"nisarahamedk/riid-model-2\",\r\n",
        "  \"title\": \"riid-model-2\"\r\n",
        "}\r\n",
        "\"\"\"\r\n",
        "with open(\"model/dataset-metadata.json\", \"w\") as f:\r\n",
        "  f.write(meta)"
      ],
      "execution_count": null,
      "outputs": []
    },
    {
      "cell_type": "code",
      "metadata": {
        "colab": {
          "base_uri": "https://localhost:8080/"
        },
        "id": "YrN6Oj-7qsUy",
        "outputId": "6f79930a-908a-4e99-b2c0-9da13abd78ff"
      },
      "source": [
        "# create\r\n",
        "!kaggle datasets create -p model/ --dir-mode tar -u"
      ],
      "execution_count": null,
      "outputs": [
        {
          "output_type": "stream",
          "text": [
            "Starting upload for file best-model.h5\n",
            "Warning: Looks like you're using an outdated API Version, please consider updating (server 1.5.10 / client 1.5.4)\n",
            "100% 91.6M/91.6M [00:02<00:00, 35.9MB/s]\n",
            "Upload successful: best-model.h5 (92MB)\n",
            "Your public Dataset is being created. Please check progress at https://www.kaggle.com/nisarahamedk/riid-model-2\n"
          ],
          "name": "stdout"
        }
      ]
    }
  ]
}