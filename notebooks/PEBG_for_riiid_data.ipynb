{
  "nbformat": 4,
  "nbformat_minor": 0,
  "metadata": {
    "colab": {
      "name": "PEBG for riiid data.ipynb",
      "provenance": [],
      "authorship_tag": "ABX9TyNCnlzGgxDNNqNr6MLqzZqE",
      "include_colab_link": true
    },
    "kernelspec": {
      "name": "python3",
      "display_name": "Python 3"
    },
    "accelerator": "GPU"
  },
  "cells": [
    {
      "cell_type": "markdown",
      "metadata": {
        "id": "view-in-github",
        "colab_type": "text"
      },
      "source": [
        "<a href=\"https://colab.research.google.com/github/nisarahamedk/kaggle-riid/blob/master/notebooks/PEBG_for_riiid_data.ipynb\" target=\"_parent\"><img src=\"https://colab.research.google.com/assets/colab-badge.svg\" alt=\"Open In Colab\"/></a>"
      ]
    },
    {
      "cell_type": "markdown",
      "metadata": {
        "id": "fYA-r3JmZima"
      },
      "source": [
        "## PEBG - Pretraining Questions and Skill (Tags) Embedding"
      ]
    },
    {
      "cell_type": "markdown",
      "metadata": {
        "id": "RNhDzpFtZoJY"
      },
      "source": [
        "### Original\r\n",
        "\r\n",
        "Paper: https://arxiv.org/pdf/2012.05031v1.pdf  \r\n",
        "Github: https://github.com/lyf-1/PEBG"
      ]
    },
    {
      "cell_type": "code",
      "metadata": {
        "id": "dsTFOt6uyyxU"
      },
      "source": [
        "%%capture\r\n",
        "!pip install gcsfs\r\n",
        "!pip install kaggle\r\n",
        "!pip install datatable"
      ],
      "execution_count": 1,
      "outputs": []
    },
    {
      "cell_type": "code",
      "metadata": {
        "id": "v0DkJ89-y_VO"
      },
      "source": [
        "import os\r\n",
        "import itertools\r\n",
        "import pandas as pd\r\n",
        "import numpy as np\r\n",
        "from scipy import sparse"
      ],
      "execution_count": 3,
      "outputs": []
    },
    {
      "cell_type": "code",
      "metadata": {
        "id": "No5ZuFkaycej"
      },
      "source": [
        "DATA_PATH = 'gs://kds-7cd35ed419a621f754ec32f0c3616d2e9282a698c5eeaabc814bd7f6'"
      ],
      "execution_count": 4,
      "outputs": []
    },
    {
      "cell_type": "code",
      "metadata": {
        "colab": {
          "base_uri": "https://localhost:8080/",
          "height": 197
        },
        "id": "asXGP0_5zGQj",
        "outputId": "79e6cb08-266f-4217-ade9-f1a882d14f00"
      },
      "source": [
        "questions_df = pd.read_csv(DATA_PATH + \"/questions.csv\")\r\n",
        "questions_df.head()"
      ],
      "execution_count": 5,
      "outputs": [
        {
          "output_type": "execute_result",
          "data": {
            "text/html": [
              "<div>\n",
              "<style scoped>\n",
              "    .dataframe tbody tr th:only-of-type {\n",
              "        vertical-align: middle;\n",
              "    }\n",
              "\n",
              "    .dataframe tbody tr th {\n",
              "        vertical-align: top;\n",
              "    }\n",
              "\n",
              "    .dataframe thead th {\n",
              "        text-align: right;\n",
              "    }\n",
              "</style>\n",
              "<table border=\"1\" class=\"dataframe\">\n",
              "  <thead>\n",
              "    <tr style=\"text-align: right;\">\n",
              "      <th></th>\n",
              "      <th>question_id</th>\n",
              "      <th>bundle_id</th>\n",
              "      <th>correct_answer</th>\n",
              "      <th>part</th>\n",
              "      <th>tags</th>\n",
              "    </tr>\n",
              "  </thead>\n",
              "  <tbody>\n",
              "    <tr>\n",
              "      <th>0</th>\n",
              "      <td>0</td>\n",
              "      <td>0</td>\n",
              "      <td>0</td>\n",
              "      <td>1</td>\n",
              "      <td>51 131 162 38</td>\n",
              "    </tr>\n",
              "    <tr>\n",
              "      <th>1</th>\n",
              "      <td>1</td>\n",
              "      <td>1</td>\n",
              "      <td>1</td>\n",
              "      <td>1</td>\n",
              "      <td>131 36 81</td>\n",
              "    </tr>\n",
              "    <tr>\n",
              "      <th>2</th>\n",
              "      <td>2</td>\n",
              "      <td>2</td>\n",
              "      <td>0</td>\n",
              "      <td>1</td>\n",
              "      <td>131 101 162 92</td>\n",
              "    </tr>\n",
              "    <tr>\n",
              "      <th>3</th>\n",
              "      <td>3</td>\n",
              "      <td>3</td>\n",
              "      <td>0</td>\n",
              "      <td>1</td>\n",
              "      <td>131 149 162 29</td>\n",
              "    </tr>\n",
              "    <tr>\n",
              "      <th>4</th>\n",
              "      <td>4</td>\n",
              "      <td>4</td>\n",
              "      <td>3</td>\n",
              "      <td>1</td>\n",
              "      <td>131 5 162 38</td>\n",
              "    </tr>\n",
              "  </tbody>\n",
              "</table>\n",
              "</div>"
            ],
            "text/plain": [
              "   question_id  bundle_id  correct_answer  part            tags\n",
              "0            0          0               0     1   51 131 162 38\n",
              "1            1          1               1     1       131 36 81\n",
              "2            2          2               0     1  131 101 162 92\n",
              "3            3          3               0     1  131 149 162 29\n",
              "4            4          4               3     1    131 5 162 38"
            ]
          },
          "metadata": {
            "tags": []
          },
          "execution_count": 5
        }
      ]
    },
    {
      "cell_type": "code",
      "metadata": {
        "colab": {
          "base_uri": "https://localhost:8080/",
          "height": 287
        },
        "id": "DKxQ1eo1c8YE",
        "outputId": "a8c9d8c3-ef25-4547-d7b3-d9eb1134eec0"
      },
      "source": [
        "questions_df.describe()"
      ],
      "execution_count": 6,
      "outputs": [
        {
          "output_type": "execute_result",
          "data": {
            "text/html": [
              "<div>\n",
              "<style scoped>\n",
              "    .dataframe tbody tr th:only-of-type {\n",
              "        vertical-align: middle;\n",
              "    }\n",
              "\n",
              "    .dataframe tbody tr th {\n",
              "        vertical-align: top;\n",
              "    }\n",
              "\n",
              "    .dataframe thead th {\n",
              "        text-align: right;\n",
              "    }\n",
              "</style>\n",
              "<table border=\"1\" class=\"dataframe\">\n",
              "  <thead>\n",
              "    <tr style=\"text-align: right;\">\n",
              "      <th></th>\n",
              "      <th>question_id</th>\n",
              "      <th>bundle_id</th>\n",
              "      <th>correct_answer</th>\n",
              "      <th>part</th>\n",
              "    </tr>\n",
              "  </thead>\n",
              "  <tbody>\n",
              "    <tr>\n",
              "      <th>count</th>\n",
              "      <td>13523.00000</td>\n",
              "      <td>13523.000000</td>\n",
              "      <td>13523.000000</td>\n",
              "      <td>13523.000000</td>\n",
              "    </tr>\n",
              "    <tr>\n",
              "      <th>mean</th>\n",
              "      <td>6761.00000</td>\n",
              "      <td>6760.510907</td>\n",
              "      <td>1.455298</td>\n",
              "      <td>4.264956</td>\n",
              "    </tr>\n",
              "    <tr>\n",
              "      <th>std</th>\n",
              "      <td>3903.89818</td>\n",
              "      <td>3903.857783</td>\n",
              "      <td>1.149707</td>\n",
              "      <td>1.652553</td>\n",
              "    </tr>\n",
              "    <tr>\n",
              "      <th>min</th>\n",
              "      <td>0.00000</td>\n",
              "      <td>0.000000</td>\n",
              "      <td>0.000000</td>\n",
              "      <td>1.000000</td>\n",
              "    </tr>\n",
              "    <tr>\n",
              "      <th>25%</th>\n",
              "      <td>3380.50000</td>\n",
              "      <td>3379.500000</td>\n",
              "      <td>0.000000</td>\n",
              "      <td>3.000000</td>\n",
              "    </tr>\n",
              "    <tr>\n",
              "      <th>50%</th>\n",
              "      <td>6761.00000</td>\n",
              "      <td>6761.000000</td>\n",
              "      <td>1.000000</td>\n",
              "      <td>5.000000</td>\n",
              "    </tr>\n",
              "    <tr>\n",
              "      <th>75%</th>\n",
              "      <td>10141.50000</td>\n",
              "      <td>10140.000000</td>\n",
              "      <td>3.000000</td>\n",
              "      <td>5.000000</td>\n",
              "    </tr>\n",
              "    <tr>\n",
              "      <th>max</th>\n",
              "      <td>13522.00000</td>\n",
              "      <td>13522.000000</td>\n",
              "      <td>3.000000</td>\n",
              "      <td>7.000000</td>\n",
              "    </tr>\n",
              "  </tbody>\n",
              "</table>\n",
              "</div>"
            ],
            "text/plain": [
              "       question_id     bundle_id  correct_answer          part\n",
              "count  13523.00000  13523.000000    13523.000000  13523.000000\n",
              "mean    6761.00000   6760.510907        1.455298      4.264956\n",
              "std     3903.89818   3903.857783        1.149707      1.652553\n",
              "min        0.00000      0.000000        0.000000      1.000000\n",
              "25%     3380.50000   3379.500000        0.000000      3.000000\n",
              "50%     6761.00000   6761.000000        1.000000      5.000000\n",
              "75%    10141.50000  10140.000000        3.000000      5.000000\n",
              "max    13522.00000  13522.000000        3.000000      7.000000"
            ]
          },
          "metadata": {
            "tags": []
          },
          "execution_count": 6
        }
      ]
    },
    {
      "cell_type": "code",
      "metadata": {
        "colab": {
          "base_uri": "https://localhost:8080/",
          "height": 77
        },
        "id": "-wox5IdJbj7-",
        "outputId": "bcd0830a-1a7e-400e-b400-2dff9c81bed6"
      },
      "source": [
        "questions_df[questions_df[\"tags\"].isnull()]"
      ],
      "execution_count": 7,
      "outputs": [
        {
          "output_type": "execute_result",
          "data": {
            "text/html": [
              "<div>\n",
              "<style scoped>\n",
              "    .dataframe tbody tr th:only-of-type {\n",
              "        vertical-align: middle;\n",
              "    }\n",
              "\n",
              "    .dataframe tbody tr th {\n",
              "        vertical-align: top;\n",
              "    }\n",
              "\n",
              "    .dataframe thead th {\n",
              "        text-align: right;\n",
              "    }\n",
              "</style>\n",
              "<table border=\"1\" class=\"dataframe\">\n",
              "  <thead>\n",
              "    <tr style=\"text-align: right;\">\n",
              "      <th></th>\n",
              "      <th>question_id</th>\n",
              "      <th>bundle_id</th>\n",
              "      <th>correct_answer</th>\n",
              "      <th>part</th>\n",
              "      <th>tags</th>\n",
              "    </tr>\n",
              "  </thead>\n",
              "  <tbody>\n",
              "    <tr>\n",
              "      <th>10033</th>\n",
              "      <td>10033</td>\n",
              "      <td>10033</td>\n",
              "      <td>2</td>\n",
              "      <td>6</td>\n",
              "      <td>NaN</td>\n",
              "    </tr>\n",
              "  </tbody>\n",
              "</table>\n",
              "</div>"
            ],
            "text/plain": [
              "       question_id  bundle_id  correct_answer  part tags\n",
              "10033        10033      10033               2     6  NaN"
            ]
          },
          "metadata": {
            "tags": []
          },
          "execution_count": 7
        }
      ]
    },
    {
      "cell_type": "code",
      "metadata": {
        "id": "usAdQMPHc_1Y"
      },
      "source": [
        "questions_df.fillna(\"-1\", inplace=True) # tags Nan filled with -1"
      ],
      "execution_count": 8,
      "outputs": []
    },
    {
      "cell_type": "code",
      "metadata": {
        "colab": {
          "base_uri": "https://localhost:8080/",
          "height": 35
        },
        "id": "ljhLGshAzF7i",
        "outputId": "a91a786d-ce2c-4ece-8704-0214d5ad7800"
      },
      "source": [
        "f\"{len(questions_df)} records\""
      ],
      "execution_count": 9,
      "outputs": [
        {
          "output_type": "execute_result",
          "data": {
            "application/vnd.google.colaboratory.intrinsic+json": {
              "type": "string"
            },
            "text/plain": [
              "'13523 records'"
            ]
          },
          "metadata": {
            "tags": []
          },
          "execution_count": 9
        }
      ]
    },
    {
      "cell_type": "code",
      "metadata": {
        "id": "hqnfIqU8zMoG",
        "outputId": "a85d5559-ac81-4760-f59f-e10c74bb8c8f",
        "colab": {
          "base_uri": "https://localhost:8080/",
          "height": 197
        }
      },
      "source": [
        "lectures_df = pd.read_csv(DATA_PATH + \"/lectures.csv\")\r\n",
        "lectures_df.head()"
      ],
      "execution_count": 10,
      "outputs": [
        {
          "output_type": "execute_result",
          "data": {
            "text/html": [
              "<div>\n",
              "<style scoped>\n",
              "    .dataframe tbody tr th:only-of-type {\n",
              "        vertical-align: middle;\n",
              "    }\n",
              "\n",
              "    .dataframe tbody tr th {\n",
              "        vertical-align: top;\n",
              "    }\n",
              "\n",
              "    .dataframe thead th {\n",
              "        text-align: right;\n",
              "    }\n",
              "</style>\n",
              "<table border=\"1\" class=\"dataframe\">\n",
              "  <thead>\n",
              "    <tr style=\"text-align: right;\">\n",
              "      <th></th>\n",
              "      <th>lecture_id</th>\n",
              "      <th>tag</th>\n",
              "      <th>part</th>\n",
              "      <th>type_of</th>\n",
              "    </tr>\n",
              "  </thead>\n",
              "  <tbody>\n",
              "    <tr>\n",
              "      <th>0</th>\n",
              "      <td>89</td>\n",
              "      <td>159</td>\n",
              "      <td>5</td>\n",
              "      <td>concept</td>\n",
              "    </tr>\n",
              "    <tr>\n",
              "      <th>1</th>\n",
              "      <td>100</td>\n",
              "      <td>70</td>\n",
              "      <td>1</td>\n",
              "      <td>concept</td>\n",
              "    </tr>\n",
              "    <tr>\n",
              "      <th>2</th>\n",
              "      <td>185</td>\n",
              "      <td>45</td>\n",
              "      <td>6</td>\n",
              "      <td>concept</td>\n",
              "    </tr>\n",
              "    <tr>\n",
              "      <th>3</th>\n",
              "      <td>192</td>\n",
              "      <td>79</td>\n",
              "      <td>5</td>\n",
              "      <td>solving question</td>\n",
              "    </tr>\n",
              "    <tr>\n",
              "      <th>4</th>\n",
              "      <td>317</td>\n",
              "      <td>156</td>\n",
              "      <td>5</td>\n",
              "      <td>solving question</td>\n",
              "    </tr>\n",
              "  </tbody>\n",
              "</table>\n",
              "</div>"
            ],
            "text/plain": [
              "   lecture_id  tag  part           type_of\n",
              "0          89  159     5           concept\n",
              "1         100   70     1           concept\n",
              "2         185   45     6           concept\n",
              "3         192   79     5  solving question\n",
              "4         317  156     5  solving question"
            ]
          },
          "metadata": {
            "tags": []
          },
          "execution_count": 10
        }
      ]
    },
    {
      "cell_type": "code",
      "metadata": {
        "id": "nsIhP__Jzjb4",
        "outputId": "47c6f35f-2fb6-46d1-c9e6-5d590cbfdb6a",
        "colab": {
          "base_uri": "https://localhost:8080/",
          "height": 287
        }
      },
      "source": [
        "lectures_df.describe()"
      ],
      "execution_count": 11,
      "outputs": [
        {
          "output_type": "execute_result",
          "data": {
            "text/html": [
              "<div>\n",
              "<style scoped>\n",
              "    .dataframe tbody tr th:only-of-type {\n",
              "        vertical-align: middle;\n",
              "    }\n",
              "\n",
              "    .dataframe tbody tr th {\n",
              "        vertical-align: top;\n",
              "    }\n",
              "\n",
              "    .dataframe thead th {\n",
              "        text-align: right;\n",
              "    }\n",
              "</style>\n",
              "<table border=\"1\" class=\"dataframe\">\n",
              "  <thead>\n",
              "    <tr style=\"text-align: right;\">\n",
              "      <th></th>\n",
              "      <th>lecture_id</th>\n",
              "      <th>tag</th>\n",
              "      <th>part</th>\n",
              "    </tr>\n",
              "  </thead>\n",
              "  <tbody>\n",
              "    <tr>\n",
              "      <th>count</th>\n",
              "      <td>418.000000</td>\n",
              "      <td>418.000000</td>\n",
              "      <td>418.000000</td>\n",
              "    </tr>\n",
              "    <tr>\n",
              "      <th>mean</th>\n",
              "      <td>16983.401914</td>\n",
              "      <td>94.480861</td>\n",
              "      <td>4.267943</td>\n",
              "    </tr>\n",
              "    <tr>\n",
              "      <th>std</th>\n",
              "      <td>9426.164660</td>\n",
              "      <td>53.586487</td>\n",
              "      <td>1.872424</td>\n",
              "    </tr>\n",
              "    <tr>\n",
              "      <th>min</th>\n",
              "      <td>89.000000</td>\n",
              "      <td>0.000000</td>\n",
              "      <td>1.000000</td>\n",
              "    </tr>\n",
              "    <tr>\n",
              "      <th>25%</th>\n",
              "      <td>9026.250000</td>\n",
              "      <td>50.250000</td>\n",
              "      <td>2.000000</td>\n",
              "    </tr>\n",
              "    <tr>\n",
              "      <th>50%</th>\n",
              "      <td>17161.500000</td>\n",
              "      <td>94.500000</td>\n",
              "      <td>5.000000</td>\n",
              "    </tr>\n",
              "    <tr>\n",
              "      <th>75%</th>\n",
              "      <td>24906.250000</td>\n",
              "      <td>140.000000</td>\n",
              "      <td>6.000000</td>\n",
              "    </tr>\n",
              "    <tr>\n",
              "      <th>max</th>\n",
              "      <td>32736.000000</td>\n",
              "      <td>187.000000</td>\n",
              "      <td>7.000000</td>\n",
              "    </tr>\n",
              "  </tbody>\n",
              "</table>\n",
              "</div>"
            ],
            "text/plain": [
              "         lecture_id         tag        part\n",
              "count    418.000000  418.000000  418.000000\n",
              "mean   16983.401914   94.480861    4.267943\n",
              "std     9426.164660   53.586487    1.872424\n",
              "min       89.000000    0.000000    1.000000\n",
              "25%     9026.250000   50.250000    2.000000\n",
              "50%    17161.500000   94.500000    5.000000\n",
              "75%    24906.250000  140.000000    6.000000\n",
              "max    32736.000000  187.000000    7.000000"
            ]
          },
          "metadata": {
            "tags": []
          },
          "execution_count": 11
        }
      ]
    },
    {
      "cell_type": "code",
      "metadata": {
        "id": "YaIcn_nzz41_",
        "outputId": "c0ee3bf7-21a1-4c81-fe9a-9f3639e9bd81",
        "colab": {
          "base_uri": "https://localhost:8080/"
        }
      },
      "source": [
        "lectures_df.type_of.value_counts()"
      ],
      "execution_count": 12,
      "outputs": [
        {
          "output_type": "execute_result",
          "data": {
            "text/plain": [
              "concept             222\n",
              "solving question    186\n",
              "intention             7\n",
              "starter               3\n",
              "Name: type_of, dtype: int64"
            ]
          },
          "metadata": {
            "tags": []
          },
          "execution_count": 12
        }
      ]
    },
    {
      "cell_type": "markdown",
      "metadata": {
        "id": "j8mg5p3rPEA4"
      },
      "source": [
        "#### Question - Skill Relationship"
      ]
    },
    {
      "cell_type": "markdown",
      "metadata": {
        "id": "f3CjPdBXeLE6"
      },
      "source": [
        "Questions IDs"
      ]
    },
    {
      "cell_type": "code",
      "metadata": {
        "id": "q2uYzRLLbJLA"
      },
      "source": [
        "# ids from 1 for the questions. 0 is used for padding.\r\n",
        "questions = sorted(questions_df[\"question_id\"].values)\r\n",
        "question_ids_dict = dict(zip(questions, pd.factorize(questions, sort=True)[0] + 1)) # +1 since id to start from 1"
      ],
      "execution_count": 13,
      "outputs": []
    },
    {
      "cell_type": "code",
      "metadata": {
        "colab": {
          "base_uri": "https://localhost:8080/"
        },
        "id": "R5mk5Y3QeCHn",
        "outputId": "634f3058-6706-4077-caaa-02d65530dc02"
      },
      "source": [
        "{k:v for k, v in itertools.islice(question_ids_dict.items(), 5)}"
      ],
      "execution_count": 14,
      "outputs": [
        {
          "output_type": "execute_result",
          "data": {
            "text/plain": [
              "{0: 1, 1: 2, 2: 3, 3: 4, 4: 5}"
            ]
          },
          "metadata": {
            "tags": []
          },
          "execution_count": 14
        }
      ]
    },
    {
      "cell_type": "markdown",
      "metadata": {
        "id": "6osZyGtVePdR"
      },
      "source": [
        "Skill IDs"
      ]
    },
    {
      "cell_type": "code",
      "metadata": {
        "colab": {
          "base_uri": "https://localhost:8080/"
        },
        "id": "Hm-8Aus7cjhX",
        "outputId": "d1863688-c2f2-4b01-f0cc-c773d6254acd"
      },
      "source": [
        "from collections import Counter\r\n",
        "skill_count = Counter()\r\n",
        "\r\n",
        "for idx, row in questions_df.iterrows():\r\n",
        "  skill_count.update([int(x) for x in row[\"tags\"].split(\" \")])\r\n",
        "\r\n",
        "skill_count.most_common()[:5]"
      ],
      "execution_count": 15,
      "outputs": [
        {
          "output_type": "execute_result",
          "data": {
            "text/plain": [
              "[(92, 2269), (38, 2256), (81, 1969), (29, 1707), (136, 1033)]"
            ]
          },
          "metadata": {
            "tags": []
          },
          "execution_count": 15
        }
      ]
    },
    {
      "cell_type": "code",
      "metadata": {
        "id": "BgWKFJ_vfirn"
      },
      "source": [
        "# ids from 1 for the skills, 0 is used for padding.\r\n",
        "skills = sorted(list(skill_count.keys()))\r\n",
        "skill_ids_dict = dict(zip(skills, pd.factorize(skills, sort=True)[0] + 1))"
      ],
      "execution_count": 16,
      "outputs": []
    },
    {
      "cell_type": "code",
      "metadata": {
        "colab": {
          "base_uri": "https://localhost:8080/"
        },
        "id": "CkWNg7pmgUcm",
        "outputId": "4b3f07cf-a9cc-40ff-a32e-0864157d42bd"
      },
      "source": [
        "{k:v for k, v in itertools.islice(skill_ids_dict.items(), 5)}"
      ],
      "execution_count": 17,
      "outputs": [
        {
          "output_type": "execute_result",
          "data": {
            "text/plain": [
              "{-1: 1, 0: 2, 1: 3, 2: 4, 3: 5}"
            ]
          },
          "metadata": {
            "tags": []
          },
          "execution_count": 17
        }
      ]
    },
    {
      "cell_type": "markdown",
      "metadata": {
        "id": "hJHSMjiCgy5B"
      },
      "source": [
        "##### Questions - Skill Relationship - Adjacency matrix"
      ]
    },
    {
      "cell_type": "code",
      "metadata": {
        "id": "pIMRlrvsm9Fx"
      },
      "source": [
        "question_skills_map = {}\r\n",
        "skill_questions_map = {}\r\n",
        "\r\n",
        "for idx, row in questions_df.iterrows():\r\n",
        "  qid = row[\"question_id\"]\r\n",
        "  skills = row[\"tags\"].split(\" \")\r\n",
        "  question_skills_map[qid] = skills\r\n",
        "  \r\n",
        "  for skill in skills:\r\n",
        "    if skill_questions_map.get(skill, False):\r\n",
        "      skill_questions_map[skill].append(qid)\r\n",
        "    else:\r\n",
        "      skill_questions_map[skill] = [qid]"
      ],
      "execution_count": 18,
      "outputs": []
    },
    {
      "cell_type": "code",
      "metadata": {
        "id": "5wT23LiVn1vF",
        "colab": {
          "base_uri": "https://localhost:8080/"
        },
        "outputId": "6ae193d6-a7e7-4d0f-c1af-72530b2200ca"
      },
      "source": [
        "# skills to questions\r\n",
        "{k:v[:10] for k, v in itertools.islice(skill_questions_map.items(), 2)}"
      ],
      "execution_count": 19,
      "outputs": [
        {
          "output_type": "execute_result",
          "data": {
            "text/plain": [
              "{'131': [0, 1, 2, 3, 4, 5, 8, 10, 11, 12],\n",
              " '51': [0, 11, 12, 30, 68, 70, 93, 119, 7870, 7882]}"
            ]
          },
          "metadata": {
            "tags": []
          },
          "execution_count": 19
        }
      ]
    },
    {
      "cell_type": "code",
      "metadata": {
        "id": "xQr7A6jiZKY7",
        "outputId": "260c342b-2067-4d98-a9c5-981967b5b6dc",
        "colab": {
          "base_uri": "https://localhost:8080/"
        }
      },
      "source": [
        "# questions to skill\r\n",
        "{k:v for k, v in itertools.islice(question_skills_map.items(), 2)}"
      ],
      "execution_count": 20,
      "outputs": [
        {
          "output_type": "execute_result",
          "data": {
            "text/plain": [
              "{0: ['51', '131', '162', '38'], 1: ['131', '36', '81']}"
            ]
          },
          "metadata": {
            "tags": []
          },
          "execution_count": 20
        }
      ]
    },
    {
      "cell_type": "code",
      "metadata": {
        "colab": {
          "base_uri": "https://localhost:8080/"
        },
        "id": "CrPYI9Y1ii-W",
        "outputId": "f35477e2-a6c0-4ec2-f120-ea570b4ceb0e"
      },
      "source": [
        "question_skill_matrix = np.zeros((len(question_ids_dict)+1, len(skill_ids_dict)+1)) # +1 since, 0th position for both is reserved for padding.\r\n",
        "question_skill_matrix.shape"
      ],
      "execution_count": 21,
      "outputs": [
        {
          "output_type": "execute_result",
          "data": {
            "text/plain": [
              "(13524, 190)"
            ]
          },
          "metadata": {
            "tags": []
          },
          "execution_count": 21
        }
      ]
    },
    {
      "cell_type": "code",
      "metadata": {
        "id": "EQ2NDIkYi3RW"
      },
      "source": [
        "for question, qid in question_ids_dict.items():\r\n",
        "\r\n",
        "  # get its skills\r\n",
        "  skills = question_skills_map[question]\r\n",
        "  for skill in skills:\r\n",
        "    question_skill_matrix[qid, skill_ids_dict[int(skill)]] = 1"
      ],
      "execution_count": 22,
      "outputs": []
    },
    {
      "cell_type": "code",
      "metadata": {
        "colab": {
          "base_uri": "https://localhost:8080/"
        },
        "id": "U9hTer3mjaYM",
        "outputId": "21b53886-332f-49c7-c948-946d4865c947"
      },
      "source": [
        "question_skill_matrix"
      ],
      "execution_count": 23,
      "outputs": [
        {
          "output_type": "execute_result",
          "data": {
            "text/plain": [
              "array([[0., 0., 0., ..., 0., 0., 0.],\n",
              "       [0., 0., 0., ..., 0., 0., 0.],\n",
              "       [0., 0., 0., ..., 0., 0., 0.],\n",
              "       ...,\n",
              "       [0., 0., 0., ..., 0., 0., 0.],\n",
              "       [0., 0., 0., ..., 0., 0., 0.],\n",
              "       [0., 0., 0., ..., 0., 0., 0.]])"
            ]
          },
          "metadata": {
            "tags": []
          },
          "execution_count": 23
        }
      ]
    },
    {
      "cell_type": "markdown",
      "metadata": {
        "id": "RtfrG1PYltxE"
      },
      "source": [
        "##### Question - Question Implicit Relationship"
      ]
    },
    {
      "cell_type": "code",
      "metadata": {
        "colab": {
          "base_uri": "https://localhost:8080/"
        },
        "id": "-0N69-LHocts",
        "outputId": "ba4989d6-9d5c-4f42-847b-56024eb31a88"
      },
      "source": [
        "question_question_matrix = np.zeros((len(question_ids_dict)+1, len(question_ids_dict)+1)) # +1 since 0th position reserved for padding.\r\n",
        "question_question_matrix.shape"
      ],
      "execution_count": 24,
      "outputs": [
        {
          "output_type": "execute_result",
          "data": {
            "text/plain": [
              "(13524, 13524)"
            ]
          },
          "metadata": {
            "tags": []
          },
          "execution_count": 24
        }
      ]
    },
    {
      "cell_type": "code",
      "metadata": {
        "id": "-96L-v3ZopK_"
      },
      "source": [
        "for question, qid in question_ids_dict.items():\r\n",
        "  # get its skills\r\n",
        "  skills = question_skills_map[question]\r\n",
        "  for skill in skills:\r\n",
        "    # get all the questions related to this skill\r\n",
        "    other_questions = skill_questions_map[skill]\r\n",
        "    for oq in other_questions:\r\n",
        "      question_question_matrix[qid, question_ids_dict[oq]] = 1"
      ],
      "execution_count": 25,
      "outputs": []
    },
    {
      "cell_type": "code",
      "metadata": {
        "id": "F1HiALqWpLUP",
        "colab": {
          "base_uri": "https://localhost:8080/"
        },
        "outputId": "187d394a-8d52-48cf-c9fa-9326bb74abdc"
      },
      "source": [
        "question_question_matrix"
      ],
      "execution_count": 26,
      "outputs": [
        {
          "output_type": "execute_result",
          "data": {
            "text/plain": [
              "array([[0., 0., 0., ..., 0., 0., 0.],\n",
              "       [0., 1., 1., ..., 0., 0., 0.],\n",
              "       [0., 1., 1., ..., 0., 0., 0.],\n",
              "       ...,\n",
              "       [0., 0., 0., ..., 1., 0., 0.],\n",
              "       [0., 0., 0., ..., 0., 1., 0.],\n",
              "       [0., 0., 0., ..., 0., 0., 1.]])"
            ]
          },
          "metadata": {
            "tags": []
          },
          "execution_count": 26
        }
      ]
    },
    {
      "cell_type": "markdown",
      "metadata": {
        "id": "XktgygYypTzK"
      },
      "source": [
        "##### Skill - Skill Implicit relationship"
      ]
    },
    {
      "cell_type": "code",
      "metadata": {
        "id": "tu5uUs0BpanM",
        "colab": {
          "base_uri": "https://localhost:8080/"
        },
        "outputId": "9809358e-0569-4176-fd00-ec98da266a23"
      },
      "source": [
        "skill_skill_matrix = np.zeros((len(skill_ids_dict)+1, len(skill_ids_dict)+1))\r\n",
        "skill_skill_matrix.shape"
      ],
      "execution_count": 27,
      "outputs": [
        {
          "output_type": "execute_result",
          "data": {
            "text/plain": [
              "(190, 190)"
            ]
          },
          "metadata": {
            "tags": []
          },
          "execution_count": 27
        }
      ]
    },
    {
      "cell_type": "code",
      "metadata": {
        "id": "JMBVZyi2pmcj"
      },
      "source": [
        "for skill, sid in skill_ids_dict.items():\r\n",
        "\r\n",
        "  # get the questiions for this skill\r\n",
        "  questions = skill_questions_map[str(skill)]\r\n",
        "\r\n",
        "  for q in questions:\r\n",
        "    skills_for_q = question_skills_map[q]\r\n",
        "    for s in skills_for_q:\r\n",
        "      skill_skill_matrix[sid, skill_ids_dict[int(s)]] = 1"
      ],
      "execution_count": 28,
      "outputs": []
    },
    {
      "cell_type": "code",
      "metadata": {
        "colab": {
          "base_uri": "https://localhost:8080/"
        },
        "id": "vm5q4tbNp_Y6",
        "outputId": "61db32df-7013-441b-b199-39ad567b95c4"
      },
      "source": [
        "skill_skill_matrix"
      ],
      "execution_count": 29,
      "outputs": [
        {
          "output_type": "execute_result",
          "data": {
            "text/plain": [
              "array([[0., 0., 0., ..., 0., 0., 0.],\n",
              "       [0., 1., 0., ..., 0., 0., 0.],\n",
              "       [0., 0., 1., ..., 0., 0., 0.],\n",
              "       ...,\n",
              "       [0., 0., 0., ..., 1., 0., 0.],\n",
              "       [0., 0., 0., ..., 0., 1., 0.],\n",
              "       [0., 0., 0., ..., 0., 0., 1.]])"
            ]
          },
          "metadata": {
            "tags": []
          },
          "execution_count": 29
        }
      ]
    },
    {
      "cell_type": "markdown",
      "metadata": {
        "id": "wOtL3f_1qHxM"
      },
      "source": [
        "### Training the Question Embedding"
      ]
    },
    {
      "cell_type": "code",
      "metadata": {
        "id": "DSaDybc1r2Jr"
      },
      "source": [
        "import tensorflow as tf\r\n",
        "import tensorflow.keras as keras"
      ],
      "execution_count": 30,
      "outputs": []
    },
    {
      "cell_type": "code",
      "metadata": {
        "id": "vvAIVPPkvEHv"
      },
      "source": [
        "class PEBG(keras.models.Model):\r\n",
        "\r\n",
        "  def __init__(self, **kwargs):\r\n",
        "    super().__init__(**kwargs)\r\n",
        "\r\n",
        "    # expected input tokens [0-len(question_ids_dict)]\r\n",
        "    # 0 is used for padding, so actual question starts from 1\r\n",
        "    self.question_emb_layer = keras.layers.Embedding(len(question_ids_dict)+1, 512)\r\n",
        "    self.skill_emb_layer = keras.layers.Embedding(len(skill_ids_dict)+1, 512)\r\n",
        "\r\n",
        "  def call(self, x):\r\n",
        "    \"\"\"\r\n",
        "    x - question ids for the batch\r\n",
        "    \"\"\"\r\n",
        "  \r\n",
        "    # input question embedding\r\n",
        "    question_emb = self.question_emb_layer(x)\r\n",
        "\r\n",
        "    # all skills embeddings\r\n",
        "    skills_full = np.arange(skill_skill_matrix.shape[0])\r\n",
        "    skill_emb_full = self.skill_emb_layer(skills_full)\r\n",
        "    \r\n",
        "    # all question emebddings\r\n",
        "    questions_full = np.arange(question_skill_matrix.shape[0])\r\n",
        "    question_emb_full = self.question_emb_layer(questions_full)\r\n",
        "    \r\n",
        "    # --- question-skill relationship\r\n",
        "    question_skill_similarity = tf.matmul(question_emb, tf.transpose(skill_emb_full))\r\n",
        "    question_skill_similarity = tf.sigmoid(question_skill_similarity)\r\n",
        "\r\n",
        "    # --- question-question relationsip\r\n",
        "    question_question_similarity = tf.sigmoid(tf.matmul(question_emb, tf.transpose(question_emb_full)))\r\n",
        "\r\n",
        "    # --- skill-skill relationship\r\n",
        "    skill_skill_similarity = tf.sigmoid(tf.matmul(skill_emb_full, tf.transpose(skill_emb_full)))\r\n",
        "\r\n",
        "    return question_skill_similarity, question_question_similarity, skill_skill_similarity"
      ],
      "execution_count": 31,
      "outputs": []
    },
    {
      "cell_type": "code",
      "metadata": {
        "id": "AlVXV3V8zX_H"
      },
      "source": [
        "model = PEBG()"
      ],
      "execution_count": 32,
      "outputs": []
    },
    {
      "cell_type": "code",
      "metadata": {
        "id": "dMqbkGg1_7tS"
      },
      "source": [
        "loss_qs = keras.losses.BinaryCrossentropy(name=\"qs_loss\")\r\n",
        "loss_qq = keras.losses.BinaryCrossentropy(name=\"qq_loss\")\r\n",
        "loss_ss = keras.losses.BinaryCrossentropy(name=\"ss_loss\")"
      ],
      "execution_count": 33,
      "outputs": []
    },
    {
      "cell_type": "code",
      "metadata": {
        "id": "9STOAQf-0F8q"
      },
      "source": [
        "optimizer = keras.optimizers.Adam(learning_rate=3e-3)"
      ],
      "execution_count": 34,
      "outputs": []
    },
    {
      "cell_type": "code",
      "metadata": {
        "id": "H4C8LFT-0T8X"
      },
      "source": [
        "model.compile(loss=[loss_qs, loss_qq, loss_ss], optimizer=optimizer)"
      ],
      "execution_count": 35,
      "outputs": []
    },
    {
      "cell_type": "code",
      "metadata": {
        "id": "jhR20bQ9Cbu6"
      },
      "source": [
        "def data_gen(batch_size):\r\n",
        "  i = 0\r\n",
        "  while i < question_skill_matrix.shape[0]:\r\n",
        "    if i + batch_size < question_skill_matrix.shape[0]:\r\n",
        "      start, end = i, i+batch_size\r\n",
        "    else:\r\n",
        "      start, end = i, question_skill_matrix.shape[0]\r\n",
        "      \r\n",
        "    x = np.arange(start, end) # batch of question ids.\r\n",
        "    y1 = question_skill_matrix[start:end, :] # batch of question-skill relationship matrix\r\n",
        "    y2 = question_question_matrix[start:end, :] # batch of question-question relationship matrix\r\n",
        "    y3 = skill_skill_matrix # full skill-skill relatioship matrix\r\n",
        "\r\n",
        "    yield x, (np.expand_dims(y1, axis=1), np.expand_dims(y2, axis=1), y3)\r\n",
        "    i += batch_size\r\n",
        "\r\n",
        "def data_gen_outer(batch_size=32):\r\n",
        "  while True:\r\n",
        "    yield from data_gen(batch_size)"
      ],
      "execution_count": 36,
      "outputs": []
    },
    {
      "cell_type": "code",
      "metadata": {
        "colab": {
          "base_uri": "https://localhost:8080/"
        },
        "id": "HTv6nuBPJyXH",
        "outputId": "9b0f3daa-602f-4fc3-a935-ffc92ceca0bc"
      },
      "source": [
        "for x, y in itertools.islice(data_gen_outer(32), 1):\r\n",
        "  print(x.shape, y[0].shape, y[1].shape, y[2].shape)"
      ],
      "execution_count": 38,
      "outputs": [
        {
          "output_type": "stream",
          "text": [
            "(32,) (32, 1, 190) (32, 1, 13524) (190, 190)\n"
          ],
          "name": "stdout"
        }
      ]
    },
    {
      "cell_type": "code",
      "metadata": {
        "id": "TEYEBcZYp3A2"
      },
      "source": [
        "batch_size = 256\r\n",
        "steps_per_epoch = sum([1 for x in data_gen(batch_size)])"
      ],
      "execution_count": 39,
      "outputs": []
    },
    {
      "cell_type": "code",
      "metadata": {
        "colab": {
          "base_uri": "https://localhost:8080/"
        },
        "id": "bVg52Wtr0Xw1",
        "outputId": "e5688994-edd9-4d6c-98b5-d428194190f3"
      },
      "source": [
        "model.fit(x=data_gen_outer(batch_size), steps_per_epoch=steps_per_epoch, epochs=50)"
      ],
      "execution_count": 40,
      "outputs": [
        {
          "output_type": "stream",
          "text": [
            "Epoch 1/50\n",
            "53/53 [==============================] - 15s 269ms/step - loss: 2.0610 - output_1_loss: 0.6932 - output_2_loss: 0.6931 - output_3_loss: 0.6747\n",
            "Epoch 2/50\n",
            "53/53 [==============================] - 14s 266ms/step - loss: 1.9918 - output_1_loss: 0.6867 - output_2_loss: 0.6902 - output_3_loss: 0.6149\n",
            "Epoch 3/50\n",
            "53/53 [==============================] - 14s 264ms/step - loss: 1.9111 - output_1_loss: 0.6332 - output_2_loss: 0.6469 - output_3_loss: 0.6311\n",
            "Epoch 4/50\n",
            "53/53 [==============================] - 14s 266ms/step - loss: 1.8165 - output_1_loss: 0.5299 - output_2_loss: 0.6090 - output_3_loss: 0.6776\n",
            "Epoch 5/50\n",
            "53/53 [==============================] - 14s 264ms/step - loss: 1.7945 - output_1_loss: 0.4993 - output_2_loss: 0.6111 - output_3_loss: 0.6841\n",
            "Epoch 6/50\n",
            "53/53 [==============================] - 14s 264ms/step - loss: 1.7715 - output_1_loss: 0.5303 - output_2_loss: 0.5814 - output_3_loss: 0.6598\n",
            "Epoch 7/50\n",
            "53/53 [==============================] - 14s 263ms/step - loss: 1.7797 - output_1_loss: 0.5598 - output_2_loss: 0.5640 - output_3_loss: 0.6560\n",
            "Epoch 8/50\n",
            "53/53 [==============================] - 14s 265ms/step - loss: 1.8004 - output_1_loss: 0.6023 - output_2_loss: 0.5546 - output_3_loss: 0.6435\n",
            "Epoch 9/50\n",
            "53/53 [==============================] - 14s 264ms/step - loss: 1.8055 - output_1_loss: 0.6462 - output_2_loss: 0.5358 - output_3_loss: 0.6235\n",
            "Epoch 10/50\n",
            "53/53 [==============================] - 14s 265ms/step - loss: 1.7679 - output_1_loss: 0.6553 - output_2_loss: 0.5113 - output_3_loss: 0.6013\n",
            "Epoch 11/50\n",
            "53/53 [==============================] - 14s 265ms/step - loss: 1.7094 - output_1_loss: 0.6438 - output_2_loss: 0.4876 - output_3_loss: 0.5780\n",
            "Epoch 12/50\n",
            "53/53 [==============================] - 14s 264ms/step - loss: 1.6613 - output_1_loss: 0.6379 - output_2_loss: 0.4680 - output_3_loss: 0.5554\n",
            "Epoch 13/50\n",
            "53/53 [==============================] - 14s 265ms/step - loss: 1.6284 - output_1_loss: 0.6335 - output_2_loss: 0.4513 - output_3_loss: 0.5436\n",
            "Epoch 14/50\n",
            "53/53 [==============================] - 14s 265ms/step - loss: 1.5887 - output_1_loss: 0.6152 - output_2_loss: 0.4346 - output_3_loss: 0.5389\n",
            "Epoch 15/50\n",
            "53/53 [==============================] - 14s 265ms/step - loss: 1.5434 - output_1_loss: 0.5930 - output_2_loss: 0.4204 - output_3_loss: 0.5300\n",
            "Epoch 16/50\n",
            "53/53 [==============================] - 14s 265ms/step - loss: 1.5056 - output_1_loss: 0.5809 - output_2_loss: 0.4082 - output_3_loss: 0.5164\n",
            "Epoch 17/50\n",
            "53/53 [==============================] - 14s 266ms/step - loss: 1.4721 - output_1_loss: 0.5740 - output_2_loss: 0.3952 - output_3_loss: 0.5030\n",
            "Epoch 18/50\n",
            "53/53 [==============================] - 14s 266ms/step - loss: 1.4397 - output_1_loss: 0.5663 - output_2_loss: 0.3823 - output_3_loss: 0.4911\n",
            "Epoch 19/50\n",
            "53/53 [==============================] - 14s 266ms/step - loss: 1.4062 - output_1_loss: 0.5566 - output_2_loss: 0.3698 - output_3_loss: 0.4798\n",
            "Epoch 20/50\n",
            "53/53 [==============================] - 14s 265ms/step - loss: 1.3687 - output_1_loss: 0.5430 - output_2_loss: 0.3574 - output_3_loss: 0.4683\n",
            "Epoch 21/50\n",
            "53/53 [==============================] - 14s 265ms/step - loss: 1.3262 - output_1_loss: 0.5259 - output_2_loss: 0.3440 - output_3_loss: 0.4563\n",
            "Epoch 22/50\n",
            "53/53 [==============================] - 14s 265ms/step - loss: 1.2799 - output_1_loss: 0.5062 - output_2_loss: 0.3295 - output_3_loss: 0.4441\n",
            "Epoch 23/50\n",
            "53/53 [==============================] - 14s 263ms/step - loss: 1.2355 - output_1_loss: 0.4872 - output_2_loss: 0.3155 - output_3_loss: 0.4328\n",
            "Epoch 24/50\n",
            "53/53 [==============================] - 14s 264ms/step - loss: 1.1951 - output_1_loss: 0.4710 - output_2_loss: 0.3015 - output_3_loss: 0.4226\n",
            "Epoch 25/50\n",
            "53/53 [==============================] - 14s 265ms/step - loss: 1.1597 - output_1_loss: 0.4554 - output_2_loss: 0.2902 - output_3_loss: 0.4141\n",
            "Epoch 26/50\n",
            "53/53 [==============================] - 14s 264ms/step - loss: 1.1295 - output_1_loss: 0.4443 - output_2_loss: 0.2789 - output_3_loss: 0.4063\n",
            "Epoch 27/50\n",
            "53/53 [==============================] - 14s 264ms/step - loss: 1.0994 - output_1_loss: 0.4307 - output_2_loss: 0.2693 - output_3_loss: 0.3994\n",
            "Epoch 28/50\n",
            "53/53 [==============================] - 14s 265ms/step - loss: 1.0724 - output_1_loss: 0.4187 - output_2_loss: 0.2618 - output_3_loss: 0.3918\n",
            "Epoch 29/50\n",
            "53/53 [==============================] - 14s 265ms/step - loss: 1.0455 - output_1_loss: 0.4123 - output_2_loss: 0.2487 - output_3_loss: 0.3845\n",
            "Epoch 30/50\n",
            "53/53 [==============================] - 14s 265ms/step - loss: 1.0269 - output_1_loss: 0.3979 - output_2_loss: 0.2513 - output_3_loss: 0.3778\n",
            "Epoch 31/50\n",
            "53/53 [==============================] - 14s 264ms/step - loss: 1.0068 - output_1_loss: 0.4054 - output_2_loss: 0.2316 - output_3_loss: 0.3699\n",
            "Epoch 32/50\n",
            "53/53 [==============================] - 14s 265ms/step - loss: 0.9860 - output_1_loss: 0.3860 - output_2_loss: 0.2344 - output_3_loss: 0.3655\n",
            "Epoch 33/50\n",
            "53/53 [==============================] - 14s 264ms/step - loss: 0.9562 - output_1_loss: 0.3727 - output_2_loss: 0.2248 - output_3_loss: 0.3587\n",
            "Epoch 34/50\n",
            "53/53 [==============================] - 14s 264ms/step - loss: 0.9364 - output_1_loss: 0.3760 - output_2_loss: 0.2093 - output_3_loss: 0.3512\n",
            "Epoch 35/50\n",
            "53/53 [==============================] - 14s 265ms/step - loss: 0.9209 - output_1_loss: 0.3589 - output_2_loss: 0.2177 - output_3_loss: 0.3443\n",
            "Epoch 36/50\n",
            "53/53 [==============================] - 14s 265ms/step - loss: 0.8875 - output_1_loss: 0.3521 - output_2_loss: 0.1997 - output_3_loss: 0.3357\n",
            "Epoch 37/50\n",
            "53/53 [==============================] - 14s 265ms/step - loss: 0.8648 - output_1_loss: 0.3408 - output_2_loss: 0.1937 - output_3_loss: 0.3303\n",
            "Epoch 38/50\n",
            "53/53 [==============================] - 14s 264ms/step - loss: 0.8442 - output_1_loss: 0.3323 - output_2_loss: 0.1902 - output_3_loss: 0.3217\n",
            "Epoch 39/50\n",
            "53/53 [==============================] - 14s 264ms/step - loss: 0.8165 - output_1_loss: 0.3231 - output_2_loss: 0.1813 - output_3_loss: 0.3120\n",
            "Epoch 40/50\n",
            "53/53 [==============================] - 14s 264ms/step - loss: 0.7982 - output_1_loss: 0.3161 - output_2_loss: 0.1765 - output_3_loss: 0.3056\n",
            "Epoch 41/50\n",
            "53/53 [==============================] - 14s 265ms/step - loss: 0.7779 - output_1_loss: 0.3092 - output_2_loss: 0.1711 - output_3_loss: 0.2977\n",
            "Epoch 42/50\n",
            "53/53 [==============================] - 14s 263ms/step - loss: 0.7614 - output_1_loss: 0.3043 - output_2_loss: 0.1668 - output_3_loss: 0.2903\n",
            "Epoch 43/50\n",
            "53/53 [==============================] - 14s 263ms/step - loss: 0.7438 - output_1_loss: 0.2977 - output_2_loss: 0.1631 - output_3_loss: 0.2830\n",
            "Epoch 44/50\n",
            "53/53 [==============================] - 14s 263ms/step - loss: 0.7242 - output_1_loss: 0.2911 - output_2_loss: 0.1577 - output_3_loss: 0.2755\n",
            "Epoch 45/50\n",
            "53/53 [==============================] - 14s 264ms/step - loss: 0.7062 - output_1_loss: 0.2841 - output_2_loss: 0.1541 - output_3_loss: 0.2680\n",
            "Epoch 46/50\n",
            "53/53 [==============================] - 14s 266ms/step - loss: 0.6873 - output_1_loss: 0.2782 - output_2_loss: 0.1485 - output_3_loss: 0.2606\n",
            "Epoch 47/50\n",
            "53/53 [==============================] - 14s 265ms/step - loss: 0.6723 - output_1_loss: 0.2723 - output_2_loss: 0.1466 - output_3_loss: 0.2534\n",
            "Epoch 48/50\n",
            "53/53 [==============================] - 14s 264ms/step - loss: 0.6544 - output_1_loss: 0.2676 - output_2_loss: 0.1411 - output_3_loss: 0.2457\n",
            "Epoch 49/50\n",
            "53/53 [==============================] - 14s 264ms/step - loss: 0.6398 - output_1_loss: 0.2617 - output_2_loss: 0.1394 - output_3_loss: 0.2387\n",
            "Epoch 50/50\n",
            "53/53 [==============================] - 14s 264ms/step - loss: 0.6235 - output_1_loss: 0.2575 - output_2_loss: 0.1347 - output_3_loss: 0.2314\n"
          ],
          "name": "stdout"
        },
        {
          "output_type": "execute_result",
          "data": {
            "text/plain": [
              "<tensorflow.python.keras.callbacks.History at 0x7f192ab8b0f0>"
            ]
          },
          "metadata": {
            "tags": []
          },
          "execution_count": 40
        }
      ]
    },
    {
      "cell_type": "markdown",
      "metadata": {
        "id": "PCx3QjBfa8JU"
      },
      "source": [
        "Trained Embeddings"
      ]
    },
    {
      "cell_type": "code",
      "metadata": {
        "colab": {
          "base_uri": "https://localhost:8080/"
        },
        "id": "qQy0Q6hMZnKZ",
        "outputId": "7e5ae024-5e50-4298-dd47-436015ceccd1"
      },
      "source": [
        "# Question Embeddings\r\n",
        "model.question_emb_layer.embeddings"
      ],
      "execution_count": 41,
      "outputs": [
        {
          "output_type": "execute_result",
          "data": {
            "text/plain": [
              "<tf.Variable 'pebg/embedding/embeddings:0' shape=(13524, 512) dtype=float32, numpy=\n",
              "array([[ 0.11638232,  0.06535552, -0.01314952, ..., -0.13246727,\n",
              "        -0.05797041,  0.01014372],\n",
              "       [ 0.00109777,  0.19277222, -0.13173836, ...,  0.28658658,\n",
              "        -0.01569505,  0.33641967],\n",
              "       [-0.19911356,  0.03192   ,  0.395069  , ...,  0.6991206 ,\n",
              "         1.0284982 ,  0.7063647 ],\n",
              "       ...,\n",
              "       [-0.1155467 , -0.24189898,  0.35891122, ...,  0.12221462,\n",
              "        -0.3937341 ,  0.20390603],\n",
              "       [ 0.15150973, -0.18828931,  0.16208261, ..., -0.2477136 ,\n",
              "         0.1107517 , -0.10507666],\n",
              "       [-0.39865467,  0.3005379 ,  0.14781755, ..., -0.45457536,\n",
              "        -0.12065182, -0.5957024 ]], dtype=float32)>"
            ]
          },
          "metadata": {
            "tags": []
          },
          "execution_count": 41
        }
      ]
    },
    {
      "cell_type": "code",
      "metadata": {
        "id": "n12eaf_YZ2K3",
        "colab": {
          "base_uri": "https://localhost:8080/"
        },
        "outputId": "c527327c-dfc5-4a35-e966-cfcb3986e813"
      },
      "source": [
        "# Skills Embeddings\r\n",
        "model.skill_emb_layer.embeddings"
      ],
      "execution_count": 42,
      "outputs": [
        {
          "output_type": "execute_result",
          "data": {
            "text/plain": [
              "<tf.Variable 'pebg/embedding_1/embeddings:0' shape=(190, 512) dtype=float32, numpy=\n",
              "array([[ 0.03362526,  0.00359148, -0.05108867, ..., -0.07942886,\n",
              "        -0.09174554,  0.01776172],\n",
              "       [ 0.02678815,  0.30969268, -0.24670598, ...,  0.22584054,\n",
              "         0.06760801, -0.570033  ],\n",
              "       [-1.3883893 ,  1.3455019 , -1.3073989 , ..., -0.00886322,\n",
              "        -2.1125605 , -0.46222714],\n",
              "       ...,\n",
              "       [-0.10803529,  0.49158198,  0.52322584, ...,  0.18236262,\n",
              "         0.42145532, -1.1476061 ],\n",
              "       [ 0.05665646,  1.4300889 , -0.25593925, ...,  0.01547858,\n",
              "         0.9443566 ,  0.48409668],\n",
              "       [-0.1239078 , -0.5829788 , -0.06567568, ..., -0.29379362,\n",
              "         0.82124805, -0.4986084 ]], dtype=float32)>"
            ]
          },
          "metadata": {
            "tags": []
          },
          "execution_count": 42
        }
      ]
    },
    {
      "cell_type": "markdown",
      "metadata": {
        "id": "v7NZ4u8FhLml"
      },
      "source": [
        "##### Loading the trained embedding."
      ]
    },
    {
      "cell_type": "code",
      "metadata": {
        "id": "51iYRZpehTQP"
      },
      "source": [
        "embedding_matrix = model.question_emb_layer.embeddings\r\n",
        "question_emb_layer = keras.layers.Embedding(len(question_ids_dict)+1, 512, embeddings_initializer=keras.initializers.Constant(embedding_matrix))"
      ],
      "execution_count": 43,
      "outputs": []
    },
    {
      "cell_type": "markdown",
      "metadata": {
        "id": "pnf5Slh2laYe"
      },
      "source": [
        "##### Upload to Kaggle"
      ]
    },
    {
      "cell_type": "code",
      "metadata": {
        "id": "djlBySpylcw3",
        "outputId": "38514653-4188-4bb7-a897-6d2733a2e895",
        "colab": {
          "base_uri": "https://localhost:8080/"
        }
      },
      "source": [
        "from google.colab import drive\r\n",
        "drive.mount(\"/content/drive\")"
      ],
      "execution_count": 46,
      "outputs": [
        {
          "output_type": "stream",
          "text": [
            "Mounted at /content/drive\n"
          ],
          "name": "stdout"
        }
      ]
    },
    {
      "cell_type": "code",
      "metadata": {
        "id": "sOQVyUfYmhP4"
      },
      "source": [
        "# Copy Kaggle API key\r\n",
        "!mkdir -p ~/.kaggle && cp /content/drive/My\\ Drive/Projects/Kaggle/api_key/kaggle.json ~/.kaggle/"
      ],
      "execution_count": 55,
      "outputs": []
    },
    {
      "cell_type": "code",
      "metadata": {
        "id": "HRiJNXralhmq"
      },
      "source": [
        "!mkdir embedding"
      ],
      "execution_count": 47,
      "outputs": []
    },
    {
      "cell_type": "code",
      "metadata": {
        "id": "lj9Bfin9lsvq"
      },
      "source": [
        "np.save(\"embedding/question_emb.npy\", embedding_matrix)"
      ],
      "execution_count": 48,
      "outputs": []
    },
    {
      "cell_type": "code",
      "metadata": {
        "id": "qgfgAzdel8tv",
        "outputId": "ee3036b5-46eb-4052-cd59-d1955759c495",
        "colab": {
          "base_uri": "https://localhost:8080/"
        }
      },
      "source": [
        "np.load(\"embedding/question_emb.npy\")"
      ],
      "execution_count": 52,
      "outputs": [
        {
          "output_type": "execute_result",
          "data": {
            "text/plain": [
              "array([[ 0.11638232,  0.06535552, -0.01314952, ..., -0.13246727,\n",
              "        -0.05797041,  0.01014372],\n",
              "       [ 0.00109777,  0.19277222, -0.13173836, ...,  0.28658658,\n",
              "        -0.01569505,  0.33641967],\n",
              "       [-0.19911356,  0.03192   ,  0.395069  , ...,  0.6991206 ,\n",
              "         1.0284982 ,  0.7063647 ],\n",
              "       ...,\n",
              "       [-0.1155467 , -0.24189898,  0.35891122, ...,  0.12221462,\n",
              "        -0.3937341 ,  0.20390603],\n",
              "       [ 0.15150973, -0.18828931,  0.16208261, ..., -0.2477136 ,\n",
              "         0.1107517 , -0.10507666],\n",
              "       [-0.39865467,  0.3005379 ,  0.14781755, ..., -0.45457536,\n",
              "        -0.12065182, -0.5957024 ]], dtype=float32)"
            ]
          },
          "metadata": {
            "tags": []
          },
          "execution_count": 52
        }
      ]
    },
    {
      "cell_type": "code",
      "metadata": {
        "id": "QN0jqqnCmQqH",
        "outputId": "ac5dc74a-14e3-430d-dff6-939ccca6363c",
        "colab": {
          "base_uri": "https://localhost:8080/"
        }
      },
      "source": [
        "!kaggle datasets init -p embedding/"
      ],
      "execution_count": 56,
      "outputs": [
        {
          "output_type": "stream",
          "text": [
            "Data package template written to: embedding/dataset-metadata.json\n"
          ],
          "name": "stdout"
        }
      ]
    },
    {
      "cell_type": "code",
      "metadata": {
        "id": "Brg-vcLwmadU"
      },
      "source": [
        "# id and title only alphanumeric and \"-\"\r\n",
        "meta = \"\"\"\r\n",
        "{\r\n",
        "  \"licenses\": [\r\n",
        "    {\r\n",
        "      \"name\": \"CC0-1.0\"\r\n",
        "    }\r\n",
        "  ], \r\n",
        "  \"id\": \"nisarahamedk/embedding-0-1\",\r\n",
        "  \"title\": \"embedding-0-1\"\r\n",
        "}\r\n",
        "\"\"\"\r\n",
        "with open(\"embedding/dataset-metadata.json\", \"w\") as f:\r\n",
        "  f.write(meta)"
      ],
      "execution_count": 57,
      "outputs": []
    },
    {
      "cell_type": "code",
      "metadata": {
        "id": "jt4A2Scdms35",
        "outputId": "53f73bc3-3fec-4fd9-919e-7a364495545f",
        "colab": {
          "base_uri": "https://localhost:8080/"
        }
      },
      "source": [
        "# create\r\n",
        "!kaggle datasets create -p embedding/ --dir-mode tar -u"
      ],
      "execution_count": 59,
      "outputs": [
        {
          "output_type": "stream",
          "text": [
            "Starting upload for file question_emb.npy\n",
            "Warning: Looks like you're using an outdated API Version, please consider updating (server 1.5.10 / client 1.5.4)\n",
            "100% 26.4M/26.4M [00:01<00:00, 14.8MB/s]\n",
            "Upload successful: question_emb.npy (26MB)\n",
            "Your public Dataset is being created. Please check progress at https://www.kaggle.com/nisarahamedk/embedding-0-1\n"
          ],
          "name": "stdout"
        }
      ]
    },
    {
      "cell_type": "code",
      "metadata": {
        "id": "71MUcwk8mv_q"
      },
      "source": [
        ""
      ],
      "execution_count": null,
      "outputs": []
    }
  ]
}