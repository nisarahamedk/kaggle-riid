{
  "nbformat": 4,
  "nbformat_minor": 0,
  "metadata": {
    "colab": {
      "name": "PEBG for riiid data.ipynb",
      "provenance": [],
      "authorship_tag": "ABX9TyPpq2QJNOeGN8DmVHsn8/F3",
      "include_colab_link": true
    },
    "kernelspec": {
      "name": "python3",
      "display_name": "Python 3"
    },
    "accelerator": "GPU"
  },
  "cells": [
    {
      "cell_type": "markdown",
      "metadata": {
        "id": "view-in-github",
        "colab_type": "text"
      },
      "source": [
        "<a href=\"https://colab.research.google.com/github/nisarahamedk/kaggle-riid/blob/master/notebooks/PEBG_for_riiid_data.ipynb\" target=\"_parent\"><img src=\"https://colab.research.google.com/assets/colab-badge.svg\" alt=\"Open In Colab\"/></a>"
      ]
    },
    {
      "cell_type": "markdown",
      "metadata": {
        "id": "fYA-r3JmZima"
      },
      "source": [
        "## PEBG - Pretraining Questions and Skill (Tags) Embedding"
      ]
    },
    {
      "cell_type": "markdown",
      "metadata": {
        "id": "RNhDzpFtZoJY"
      },
      "source": [
        "### Original\r\n",
        "\r\n",
        "Paper: https://arxiv.org/pdf/2012.05031v1.pdf  \r\n",
        "Github: https://github.com/lyf-1/PEBG"
      ]
    },
    {
      "cell_type": "code",
      "metadata": {
        "id": "dsTFOt6uyyxU"
      },
      "source": [
        "%%capture\r\n",
        "!pip install gcsfs\r\n",
        "!pip install kaggle\r\n",
        "!pip install datatable"
      ],
      "execution_count": 1,
      "outputs": []
    },
    {
      "cell_type": "code",
      "metadata": {
        "id": "K6QQuOoAy307"
      },
      "source": [
        "# from google.colab import drive\r\n",
        "# drive.mount(\"/content/drive\")"
      ],
      "execution_count": 2,
      "outputs": []
    },
    {
      "cell_type": "code",
      "metadata": {
        "id": "v0DkJ89-y_VO"
      },
      "source": [
        "import os \r\n",
        "import pandas as pd\r\n",
        "import numpy as np\r\n",
        "from scipy import sparse"
      ],
      "execution_count": 3,
      "outputs": []
    },
    {
      "cell_type": "code",
      "metadata": {
        "id": "No5ZuFkaycej"
      },
      "source": [
        "DATA_PATH = 'gs://kds-7cd35ed419a621f754ec32f0c3616d2e9282a698c5eeaabc814bd7f6'"
      ],
      "execution_count": 4,
      "outputs": []
    },
    {
      "cell_type": "code",
      "metadata": {
        "colab": {
          "base_uri": "https://localhost:8080/",
          "height": 197
        },
        "id": "asXGP0_5zGQj",
        "outputId": "72f4e99a-d1a8-4b5c-b9a4-9a57a9d866a3"
      },
      "source": [
        "questions_df = pd.read_csv(DATA_PATH + \"/questions.csv\")\r\n",
        "questions_df.head()"
      ],
      "execution_count": 5,
      "outputs": [
        {
          "output_type": "execute_result",
          "data": {
            "text/html": [
              "<div>\n",
              "<style scoped>\n",
              "    .dataframe tbody tr th:only-of-type {\n",
              "        vertical-align: middle;\n",
              "    }\n",
              "\n",
              "    .dataframe tbody tr th {\n",
              "        vertical-align: top;\n",
              "    }\n",
              "\n",
              "    .dataframe thead th {\n",
              "        text-align: right;\n",
              "    }\n",
              "</style>\n",
              "<table border=\"1\" class=\"dataframe\">\n",
              "  <thead>\n",
              "    <tr style=\"text-align: right;\">\n",
              "      <th></th>\n",
              "      <th>question_id</th>\n",
              "      <th>bundle_id</th>\n",
              "      <th>correct_answer</th>\n",
              "      <th>part</th>\n",
              "      <th>tags</th>\n",
              "    </tr>\n",
              "  </thead>\n",
              "  <tbody>\n",
              "    <tr>\n",
              "      <th>0</th>\n",
              "      <td>0</td>\n",
              "      <td>0</td>\n",
              "      <td>0</td>\n",
              "      <td>1</td>\n",
              "      <td>51 131 162 38</td>\n",
              "    </tr>\n",
              "    <tr>\n",
              "      <th>1</th>\n",
              "      <td>1</td>\n",
              "      <td>1</td>\n",
              "      <td>1</td>\n",
              "      <td>1</td>\n",
              "      <td>131 36 81</td>\n",
              "    </tr>\n",
              "    <tr>\n",
              "      <th>2</th>\n",
              "      <td>2</td>\n",
              "      <td>2</td>\n",
              "      <td>0</td>\n",
              "      <td>1</td>\n",
              "      <td>131 101 162 92</td>\n",
              "    </tr>\n",
              "    <tr>\n",
              "      <th>3</th>\n",
              "      <td>3</td>\n",
              "      <td>3</td>\n",
              "      <td>0</td>\n",
              "      <td>1</td>\n",
              "      <td>131 149 162 29</td>\n",
              "    </tr>\n",
              "    <tr>\n",
              "      <th>4</th>\n",
              "      <td>4</td>\n",
              "      <td>4</td>\n",
              "      <td>3</td>\n",
              "      <td>1</td>\n",
              "      <td>131 5 162 38</td>\n",
              "    </tr>\n",
              "  </tbody>\n",
              "</table>\n",
              "</div>"
            ],
            "text/plain": [
              "   question_id  bundle_id  correct_answer  part            tags\n",
              "0            0          0               0     1   51 131 162 38\n",
              "1            1          1               1     1       131 36 81\n",
              "2            2          2               0     1  131 101 162 92\n",
              "3            3          3               0     1  131 149 162 29\n",
              "4            4          4               3     1    131 5 162 38"
            ]
          },
          "metadata": {
            "tags": []
          },
          "execution_count": 5
        }
      ]
    },
    {
      "cell_type": "code",
      "metadata": {
        "colab": {
          "base_uri": "https://localhost:8080/",
          "height": 287
        },
        "id": "DKxQ1eo1c8YE",
        "outputId": "6e4c139a-95f1-450e-9f51-b0f47d8653ac"
      },
      "source": [
        "questions_df.describe()"
      ],
      "execution_count": 6,
      "outputs": [
        {
          "output_type": "execute_result",
          "data": {
            "text/html": [
              "<div>\n",
              "<style scoped>\n",
              "    .dataframe tbody tr th:only-of-type {\n",
              "        vertical-align: middle;\n",
              "    }\n",
              "\n",
              "    .dataframe tbody tr th {\n",
              "        vertical-align: top;\n",
              "    }\n",
              "\n",
              "    .dataframe thead th {\n",
              "        text-align: right;\n",
              "    }\n",
              "</style>\n",
              "<table border=\"1\" class=\"dataframe\">\n",
              "  <thead>\n",
              "    <tr style=\"text-align: right;\">\n",
              "      <th></th>\n",
              "      <th>question_id</th>\n",
              "      <th>bundle_id</th>\n",
              "      <th>correct_answer</th>\n",
              "      <th>part</th>\n",
              "    </tr>\n",
              "  </thead>\n",
              "  <tbody>\n",
              "    <tr>\n",
              "      <th>count</th>\n",
              "      <td>13523.00000</td>\n",
              "      <td>13523.000000</td>\n",
              "      <td>13523.000000</td>\n",
              "      <td>13523.000000</td>\n",
              "    </tr>\n",
              "    <tr>\n",
              "      <th>mean</th>\n",
              "      <td>6761.00000</td>\n",
              "      <td>6760.510907</td>\n",
              "      <td>1.455298</td>\n",
              "      <td>4.264956</td>\n",
              "    </tr>\n",
              "    <tr>\n",
              "      <th>std</th>\n",
              "      <td>3903.89818</td>\n",
              "      <td>3903.857783</td>\n",
              "      <td>1.149707</td>\n",
              "      <td>1.652553</td>\n",
              "    </tr>\n",
              "    <tr>\n",
              "      <th>min</th>\n",
              "      <td>0.00000</td>\n",
              "      <td>0.000000</td>\n",
              "      <td>0.000000</td>\n",
              "      <td>1.000000</td>\n",
              "    </tr>\n",
              "    <tr>\n",
              "      <th>25%</th>\n",
              "      <td>3380.50000</td>\n",
              "      <td>3379.500000</td>\n",
              "      <td>0.000000</td>\n",
              "      <td>3.000000</td>\n",
              "    </tr>\n",
              "    <tr>\n",
              "      <th>50%</th>\n",
              "      <td>6761.00000</td>\n",
              "      <td>6761.000000</td>\n",
              "      <td>1.000000</td>\n",
              "      <td>5.000000</td>\n",
              "    </tr>\n",
              "    <tr>\n",
              "      <th>75%</th>\n",
              "      <td>10141.50000</td>\n",
              "      <td>10140.000000</td>\n",
              "      <td>3.000000</td>\n",
              "      <td>5.000000</td>\n",
              "    </tr>\n",
              "    <tr>\n",
              "      <th>max</th>\n",
              "      <td>13522.00000</td>\n",
              "      <td>13522.000000</td>\n",
              "      <td>3.000000</td>\n",
              "      <td>7.000000</td>\n",
              "    </tr>\n",
              "  </tbody>\n",
              "</table>\n",
              "</div>"
            ],
            "text/plain": [
              "       question_id     bundle_id  correct_answer          part\n",
              "count  13523.00000  13523.000000    13523.000000  13523.000000\n",
              "mean    6761.00000   6760.510907        1.455298      4.264956\n",
              "std     3903.89818   3903.857783        1.149707      1.652553\n",
              "min        0.00000      0.000000        0.000000      1.000000\n",
              "25%     3380.50000   3379.500000        0.000000      3.000000\n",
              "50%     6761.00000   6761.000000        1.000000      5.000000\n",
              "75%    10141.50000  10140.000000        3.000000      5.000000\n",
              "max    13522.00000  13522.000000        3.000000      7.000000"
            ]
          },
          "metadata": {
            "tags": []
          },
          "execution_count": 6
        }
      ]
    },
    {
      "cell_type": "code",
      "metadata": {
        "colab": {
          "base_uri": "https://localhost:8080/",
          "height": 77
        },
        "id": "-wox5IdJbj7-",
        "outputId": "8fb81f9a-5c67-4062-8677-1a5f13c3c07e"
      },
      "source": [
        "questions_df[questions_df[\"tags\"].isnull()]"
      ],
      "execution_count": 7,
      "outputs": [
        {
          "output_type": "execute_result",
          "data": {
            "text/html": [
              "<div>\n",
              "<style scoped>\n",
              "    .dataframe tbody tr th:only-of-type {\n",
              "        vertical-align: middle;\n",
              "    }\n",
              "\n",
              "    .dataframe tbody tr th {\n",
              "        vertical-align: top;\n",
              "    }\n",
              "\n",
              "    .dataframe thead th {\n",
              "        text-align: right;\n",
              "    }\n",
              "</style>\n",
              "<table border=\"1\" class=\"dataframe\">\n",
              "  <thead>\n",
              "    <tr style=\"text-align: right;\">\n",
              "      <th></th>\n",
              "      <th>question_id</th>\n",
              "      <th>bundle_id</th>\n",
              "      <th>correct_answer</th>\n",
              "      <th>part</th>\n",
              "      <th>tags</th>\n",
              "    </tr>\n",
              "  </thead>\n",
              "  <tbody>\n",
              "    <tr>\n",
              "      <th>10033</th>\n",
              "      <td>10033</td>\n",
              "      <td>10033</td>\n",
              "      <td>2</td>\n",
              "      <td>6</td>\n",
              "      <td>NaN</td>\n",
              "    </tr>\n",
              "  </tbody>\n",
              "</table>\n",
              "</div>"
            ],
            "text/plain": [
              "       question_id  bundle_id  correct_answer  part tags\n",
              "10033        10033      10033               2     6  NaN"
            ]
          },
          "metadata": {
            "tags": []
          },
          "execution_count": 7
        }
      ]
    },
    {
      "cell_type": "code",
      "metadata": {
        "id": "usAdQMPHc_1Y"
      },
      "source": [
        "questions_df.fillna(\"-1\", inplace=True) # tags Nan filled with -1"
      ],
      "execution_count": 8,
      "outputs": []
    },
    {
      "cell_type": "code",
      "metadata": {
        "colab": {
          "base_uri": "https://localhost:8080/",
          "height": 35
        },
        "id": "ljhLGshAzF7i",
        "outputId": "f40a3a20-7b4c-4ba9-d0bb-aae6b05470df"
      },
      "source": [
        "f\"{len(questions_df)} records\""
      ],
      "execution_count": 9,
      "outputs": [
        {
          "output_type": "execute_result",
          "data": {
            "application/vnd.google.colaboratory.intrinsic+json": {
              "type": "string"
            },
            "text/plain": [
              "'13523 records'"
            ]
          },
          "metadata": {
            "tags": []
          },
          "execution_count": 9
        }
      ]
    },
    {
      "cell_type": "markdown",
      "metadata": {
        "id": "j8mg5p3rPEA4"
      },
      "source": [
        "#### Question - Skill Relationship"
      ]
    },
    {
      "cell_type": "markdown",
      "metadata": {
        "id": "f3CjPdBXeLE6"
      },
      "source": [
        "Questions IDs"
      ]
    },
    {
      "cell_type": "code",
      "metadata": {
        "id": "q2uYzRLLbJLA"
      },
      "source": [
        "# ids from 0 for the questions.\r\n",
        "questions = questions_df[\"question_id\"].values\r\n",
        "question_ids_dict = dict(zip(questions, pd.factorize(questions, sort=True)[0]))"
      ],
      "execution_count": 10,
      "outputs": []
    },
    {
      "cell_type": "code",
      "metadata": {
        "id": "R5mk5Y3QeCHn"
      },
      "source": [
        "# question_ids_dict"
      ],
      "execution_count": 11,
      "outputs": []
    },
    {
      "cell_type": "markdown",
      "metadata": {
        "id": "6osZyGtVePdR"
      },
      "source": [
        "Skill IDs"
      ]
    },
    {
      "cell_type": "code",
      "metadata": {
        "colab": {
          "base_uri": "https://localhost:8080/"
        },
        "id": "Hm-8Aus7cjhX",
        "outputId": "e7cc17f6-fbdb-4859-a480-0aeba97f122a"
      },
      "source": [
        "from collections import Counter\r\n",
        "skill_count = Counter()\r\n",
        "\r\n",
        "for idx, row in questions_df.iterrows():\r\n",
        "  skill_count.update([int(x) for x in row[\"tags\"].split(\" \")])\r\n",
        "\r\n",
        "skill_count.most_common()[:5]"
      ],
      "execution_count": 12,
      "outputs": [
        {
          "output_type": "execute_result",
          "data": {
            "text/plain": [
              "[(92, 2269), (38, 2256), (81, 1969), (29, 1707), (136, 1033)]"
            ]
          },
          "metadata": {
            "tags": []
          },
          "execution_count": 12
        }
      ]
    },
    {
      "cell_type": "code",
      "metadata": {
        "id": "BgWKFJ_vfirn"
      },
      "source": [
        "skills = list(skill_count.keys())\r\n",
        "skill_ids_dict = dict(zip(skills, pd.factorize(skills, sort=True)[0]))"
      ],
      "execution_count": 13,
      "outputs": []
    },
    {
      "cell_type": "code",
      "metadata": {
        "id": "CkWNg7pmgUcm"
      },
      "source": [
        "# skill_ids_dict"
      ],
      "execution_count": 14,
      "outputs": []
    },
    {
      "cell_type": "markdown",
      "metadata": {
        "id": "hJHSMjiCgy5B"
      },
      "source": [
        "##### Questions - Skill Relationship - Adjacency matrix"
      ]
    },
    {
      "cell_type": "code",
      "metadata": {
        "id": "pIMRlrvsm9Fx"
      },
      "source": [
        "question_skills_map = {}\r\n",
        "skill_questions_map = {}\r\n",
        "\r\n",
        "for idx, row in questions_df.iterrows():\r\n",
        "  qid = row[\"question_id\"]\r\n",
        "  skills = row[\"tags\"].split(\" \")\r\n",
        "  question_skills_map[qid] = skills\r\n",
        "  \r\n",
        "  for skill in skills:\r\n",
        "    if skill_questions_map.get(skill, False):\r\n",
        "      skill_questions_map[skill].append(qid)\r\n",
        "    else:\r\n",
        "      skill_questions_map[skill] = [qid]"
      ],
      "execution_count": 15,
      "outputs": []
    },
    {
      "cell_type": "code",
      "metadata": {
        "id": "5wT23LiVn1vF"
      },
      "source": [
        "# skill_questions_map"
      ],
      "execution_count": 16,
      "outputs": []
    },
    {
      "cell_type": "code",
      "metadata": {
        "colab": {
          "base_uri": "https://localhost:8080/"
        },
        "id": "CrPYI9Y1ii-W",
        "outputId": "7bf53251-bc47-4059-d41f-aa13e67809f4"
      },
      "source": [
        "question_skill_matrix = np.zeros((len(question_ids_dict), len(skill_ids_dict)))\r\n",
        "question_skill_matrix.shape"
      ],
      "execution_count": 17,
      "outputs": [
        {
          "output_type": "execute_result",
          "data": {
            "text/plain": [
              "(13523, 189)"
            ]
          },
          "metadata": {
            "tags": []
          },
          "execution_count": 17
        }
      ]
    },
    {
      "cell_type": "code",
      "metadata": {
        "id": "EQ2NDIkYi3RW"
      },
      "source": [
        "for question, qid in question_ids_dict.items():\r\n",
        "\r\n",
        "  # get its skills\r\n",
        "  skills = question_skills_map[question]\r\n",
        "  for skill in skills:\r\n",
        "    question_skill_matrix[qid, skill_ids_dict[int(skill)]] = 1"
      ],
      "execution_count": 18,
      "outputs": []
    },
    {
      "cell_type": "code",
      "metadata": {
        "colab": {
          "base_uri": "https://localhost:8080/"
        },
        "id": "U9hTer3mjaYM",
        "outputId": "af63faec-9d79-472e-cc8f-0bb92cb778ea"
      },
      "source": [
        "question_skill_matrix"
      ],
      "execution_count": 19,
      "outputs": [
        {
          "output_type": "execute_result",
          "data": {
            "text/plain": [
              "array([[0., 0., 0., ..., 0., 0., 0.],\n",
              "       [0., 0., 0., ..., 0., 0., 0.],\n",
              "       [0., 0., 0., ..., 0., 0., 0.],\n",
              "       ...,\n",
              "       [0., 0., 0., ..., 0., 0., 0.],\n",
              "       [0., 0., 0., ..., 0., 0., 0.],\n",
              "       [0., 0., 0., ..., 0., 0., 0.]])"
            ]
          },
          "metadata": {
            "tags": []
          },
          "execution_count": 19
        }
      ]
    },
    {
      "cell_type": "markdown",
      "metadata": {
        "id": "RtfrG1PYltxE"
      },
      "source": [
        "##### Question - Question Implicit Relationship"
      ]
    },
    {
      "cell_type": "code",
      "metadata": {
        "colab": {
          "base_uri": "https://localhost:8080/"
        },
        "id": "-0N69-LHocts",
        "outputId": "f5afee7a-0a42-4d13-8c70-785bcc30489c"
      },
      "source": [
        "question_question_matrix = np.zeros((len(question_ids_dict), len(question_ids_dict)))\r\n",
        "question_question_matrix.shape"
      ],
      "execution_count": 20,
      "outputs": [
        {
          "output_type": "execute_result",
          "data": {
            "text/plain": [
              "(13523, 13523)"
            ]
          },
          "metadata": {
            "tags": []
          },
          "execution_count": 20
        }
      ]
    },
    {
      "cell_type": "code",
      "metadata": {
        "id": "-96L-v3ZopK_"
      },
      "source": [
        "for question, qid in question_ids_dict.items():\r\n",
        "  # get its skills\r\n",
        "  skills = question_skills_map[question]\r\n",
        "  for skill in skills:\r\n",
        "    # get all the questions related to this skill\r\n",
        "    other_questions = skill_questions_map[skill]\r\n",
        "    for oq in other_questions:\r\n",
        "      question_question_matrix[qid, question_ids_dict[oq]] = 1"
      ],
      "execution_count": 21,
      "outputs": []
    },
    {
      "cell_type": "code",
      "metadata": {
        "id": "F1HiALqWpLUP",
        "colab": {
          "base_uri": "https://localhost:8080/"
        },
        "outputId": "c90ee781-c0a9-483d-ba20-d7c6859b2298"
      },
      "source": [
        "question_question_matrix"
      ],
      "execution_count": 22,
      "outputs": [
        {
          "output_type": "execute_result",
          "data": {
            "text/plain": [
              "array([[1., 1., 1., ..., 0., 0., 0.],\n",
              "       [1., 1., 1., ..., 0., 0., 0.],\n",
              "       [1., 1., 1., ..., 0., 0., 0.],\n",
              "       ...,\n",
              "       [0., 0., 0., ..., 1., 0., 0.],\n",
              "       [0., 0., 0., ..., 0., 1., 0.],\n",
              "       [0., 0., 0., ..., 0., 0., 1.]])"
            ]
          },
          "metadata": {
            "tags": []
          },
          "execution_count": 22
        }
      ]
    },
    {
      "cell_type": "markdown",
      "metadata": {
        "id": "XktgygYypTzK"
      },
      "source": [
        "##### Skill - Skill Implicit relationship"
      ]
    },
    {
      "cell_type": "code",
      "metadata": {
        "id": "tu5uUs0BpanM",
        "colab": {
          "base_uri": "https://localhost:8080/"
        },
        "outputId": "56554351-bcd9-4d93-ea2e-aa73073ca575"
      },
      "source": [
        "skill_skill_matrix = np.zeros((len(skill_ids_dict), len(skill_ids_dict)))\r\n",
        "skill_skill_matrix.shape"
      ],
      "execution_count": 23,
      "outputs": [
        {
          "output_type": "execute_result",
          "data": {
            "text/plain": [
              "(189, 189)"
            ]
          },
          "metadata": {
            "tags": []
          },
          "execution_count": 23
        }
      ]
    },
    {
      "cell_type": "code",
      "metadata": {
        "id": "JMBVZyi2pmcj"
      },
      "source": [
        "for skill, sid in skill_ids_dict.items():\r\n",
        "\r\n",
        "  # get the questiions for this skill\r\n",
        "  questions = skill_questions_map[str(skill)]\r\n",
        "\r\n",
        "  for q in questions:\r\n",
        "    skills_for_q = question_skills_map[q]\r\n",
        "    for s in skills_for_q:\r\n",
        "      skill_skill_matrix[sid, skill_ids_dict[int(s)]] = 1"
      ],
      "execution_count": 24,
      "outputs": []
    },
    {
      "cell_type": "code",
      "metadata": {
        "colab": {
          "base_uri": "https://localhost:8080/"
        },
        "id": "vm5q4tbNp_Y6",
        "outputId": "81815d52-c46a-4646-e67b-2170aa285069"
      },
      "source": [
        "skill_skill_matrix"
      ],
      "execution_count": 25,
      "outputs": [
        {
          "output_type": "execute_result",
          "data": {
            "text/plain": [
              "array([[1., 0., 0., ..., 0., 0., 0.],\n",
              "       [0., 1., 0., ..., 0., 0., 0.],\n",
              "       [0., 0., 1., ..., 0., 0., 0.],\n",
              "       ...,\n",
              "       [0., 0., 0., ..., 1., 0., 0.],\n",
              "       [0., 0., 0., ..., 0., 1., 0.],\n",
              "       [0., 0., 0., ..., 0., 0., 1.]])"
            ]
          },
          "metadata": {
            "tags": []
          },
          "execution_count": 25
        }
      ]
    },
    {
      "cell_type": "markdown",
      "metadata": {
        "id": "wOtL3f_1qHxM"
      },
      "source": [
        "### Training the Question Embedding"
      ]
    },
    {
      "cell_type": "code",
      "metadata": {
        "id": "DSaDybc1r2Jr"
      },
      "source": [
        "import tensorflow as tf\r\n",
        "import tensorflow.keras as keras"
      ],
      "execution_count": 26,
      "outputs": []
    },
    {
      "cell_type": "code",
      "metadata": {
        "id": "vvAIVPPkvEHv"
      },
      "source": [
        "class PEBG(keras.models.Model):\r\n",
        "\r\n",
        "  def __init__(self, **kwargs):\r\n",
        "    super().__init__(**kwargs)\r\n",
        "\r\n",
        "    self.question_emb_layer = keras.layers.Embedding(len(question_ids_dict), 512)\r\n",
        "    self.skill_emb_layer = keras.layers.Embedding(len(skill_ids_dict), 512)\r\n",
        "\r\n",
        "  def call(self, x):\r\n",
        "    \"\"\"\r\n",
        "    x - question ids for the batch\r\n",
        "    \"\"\"\r\n",
        "  \r\n",
        "    # input question embedding\r\n",
        "    question_emb = self.question_emb_layer(x)\r\n",
        "\r\n",
        "    # all skills embeddings\r\n",
        "    skills_full = np.array(list(skill_ids_dict.values()))\r\n",
        "    skill_emb_full = self.skill_emb_layer(skills_full)\r\n",
        "    \r\n",
        "    # all question emebddings\r\n",
        "    questions_full = np.array(list(question_ids_dict.values()))\r\n",
        "    question_emb_full = self.question_emb_layer(questions_full)\r\n",
        "    \r\n",
        "    # --- question-skill relationship\r\n",
        "    question_skill_similarity = tf.matmul(question_emb, tf.transpose(skill_emb_full))\r\n",
        "    question_skill_similarity = tf.sigmoid(question_skill_similarity)\r\n",
        "\r\n",
        "    # --- question-question relationsip\r\n",
        "    question_question_similarity = tf.sigmoid(tf.matmul(question_emb, tf.transpose(question_emb_full)))\r\n",
        "\r\n",
        "    # --- skill-skill relationship\r\n",
        "    skill_skill_similarity = tf.sigmoid(tf.matmul(skill_emb_full, tf.transpose(skill_emb_full)))\r\n",
        "\r\n",
        "    return question_skill_similarity, question_question_similarity, skill_skill_similarity"
      ],
      "execution_count": 27,
      "outputs": []
    },
    {
      "cell_type": "code",
      "metadata": {
        "id": "AlVXV3V8zX_H"
      },
      "source": [
        "model = PEBG()"
      ],
      "execution_count": 28,
      "outputs": []
    },
    {
      "cell_type": "code",
      "metadata": {
        "id": "dMqbkGg1_7tS"
      },
      "source": [
        "loss_qs = keras.losses.BinaryCrossentropy(name=\"qs_loss\")\r\n",
        "loss_qq = keras.losses.BinaryCrossentropy(name=\"qq_loss\")\r\n",
        "loss_ss = keras.losses.BinaryCrossentropy(name=\"ss_loss\")"
      ],
      "execution_count": 29,
      "outputs": []
    },
    {
      "cell_type": "code",
      "metadata": {
        "id": "9STOAQf-0F8q"
      },
      "source": [
        "optimizer = keras.optimizers.Adam(learning_rate=3e-3)"
      ],
      "execution_count": 30,
      "outputs": []
    },
    {
      "cell_type": "code",
      "metadata": {
        "id": "H4C8LFT-0T8X"
      },
      "source": [
        "model.compile(loss=[loss_qs, loss_qq, loss_ss], optimizer=optimizer)"
      ],
      "execution_count": 31,
      "outputs": []
    },
    {
      "cell_type": "code",
      "metadata": {
        "id": "jhR20bQ9Cbu6"
      },
      "source": [
        "def data_gen(batch_size):\r\n",
        "  i = 0\r\n",
        "  while i < len(question_ids_dict):\r\n",
        "    if i + batch_size < len(question_ids_dict):\r\n",
        "      start, end = i, i+batch_size\r\n",
        "    else:\r\n",
        "      start, end = i, len(question_ids_dict)\r\n",
        "      \r\n",
        "    x = np.arange(start, end) # batch of question ids.\r\n",
        "    y1 = question_skill_matrix[start:end, :] # batch of question-skill relationship matrix\r\n",
        "    y2 = question_question_matrix[start:end, :] # batch of question-question relationship matrix\r\n",
        "    y3 = skill_skill_matrix # full skill-skill relatioship matrix\r\n",
        "\r\n",
        "    yield x, (np.expand_dims(y1, axis=1), np.expand_dims(y2, axis=1), y3)\r\n",
        "    i += batch_size\r\n",
        "\r\n",
        "def data_gen_outer(batch_size=32):\r\n",
        "  while True:\r\n",
        "    yield from data_gen(batch_size)"
      ],
      "execution_count": 32,
      "outputs": []
    },
    {
      "cell_type": "code",
      "metadata": {
        "colab": {
          "base_uri": "https://localhost:8080/"
        },
        "id": "HTv6nuBPJyXH",
        "outputId": "0b8f2811-611d-4325-c2dc-c9f7b518c9ee"
      },
      "source": [
        "from itertools import islice\r\n",
        "for x, y in islice(data_gen_outer(32), 1):\r\n",
        "  print(x.shape, y[0].shape, y[1].shape, y[2].shape)"
      ],
      "execution_count": 33,
      "outputs": [
        {
          "output_type": "stream",
          "text": [
            "(32,) (32, 1, 189) (32, 1, 13523) (189, 189)\n"
          ],
          "name": "stdout"
        }
      ]
    },
    {
      "cell_type": "code",
      "metadata": {
        "id": "TEYEBcZYp3A2"
      },
      "source": [
        "batch_size = 256\r\n",
        "steps_per_epoch = sum([1 for x in data_gen(batch_size)])"
      ],
      "execution_count": 34,
      "outputs": []
    },
    {
      "cell_type": "code",
      "metadata": {
        "colab": {
          "base_uri": "https://localhost:8080/"
        },
        "id": "bVg52Wtr0Xw1",
        "outputId": "99fd0e79-30be-471d-84ed-53f7430b9191"
      },
      "source": [
        "model.fit(x=data_gen_outer(batch_size), steps_per_epoch=steps_per_epoch, epochs=50)"
      ],
      "execution_count": 35,
      "outputs": [
        {
          "output_type": "stream",
          "text": [
            "Epoch 1/50\n",
            "53/53 [==============================] - 16s 277ms/step - loss: 2.0605 - output_1_loss: 0.6932 - output_2_loss: 0.6931 - output_3_loss: 0.6742\n",
            "Epoch 2/50\n",
            "53/53 [==============================] - 14s 273ms/step - loss: 1.9911 - output_1_loss: 0.6865 - output_2_loss: 0.6899 - output_3_loss: 0.6147\n",
            "Epoch 3/50\n",
            "53/53 [==============================] - 14s 273ms/step - loss: 1.9104 - output_1_loss: 0.6326 - output_2_loss: 0.6465 - output_3_loss: 0.6313\n",
            "Epoch 4/50\n",
            "53/53 [==============================] - 14s 272ms/step - loss: 1.8149 - output_1_loss: 0.5269 - output_2_loss: 0.6107 - output_3_loss: 0.6773\n",
            "Epoch 5/50\n",
            "53/53 [==============================] - 14s 272ms/step - loss: 1.7968 - output_1_loss: 0.4971 - output_2_loss: 0.6169 - output_3_loss: 0.6829\n",
            "Epoch 6/50\n",
            "53/53 [==============================] - 14s 273ms/step - loss: 1.7773 - output_1_loss: 0.5311 - output_2_loss: 0.5897 - output_3_loss: 0.6565\n",
            "Epoch 7/50\n",
            "53/53 [==============================] - 14s 272ms/step - loss: 1.7849 - output_1_loss: 0.5649 - output_2_loss: 0.5710 - output_3_loss: 0.6491\n",
            "Epoch 8/50\n",
            "53/53 [==============================] - 14s 271ms/step - loss: 1.8044 - output_1_loss: 0.6047 - output_2_loss: 0.5594 - output_3_loss: 0.6403\n",
            "Epoch 9/50\n",
            "53/53 [==============================] - 14s 271ms/step - loss: 1.8076 - output_1_loss: 0.6436 - output_2_loss: 0.5387 - output_3_loss: 0.6252\n",
            "Epoch 10/50\n",
            "53/53 [==============================] - 14s 272ms/step - loss: 1.7661 - output_1_loss: 0.6490 - output_2_loss: 0.5134 - output_3_loss: 0.6037\n",
            "Epoch 11/50\n",
            "53/53 [==============================] - 14s 272ms/step - loss: 1.7076 - output_1_loss: 0.6407 - output_2_loss: 0.4908 - output_3_loss: 0.5761\n",
            "Epoch 12/50\n",
            "53/53 [==============================] - 14s 273ms/step - loss: 1.6685 - output_1_loss: 0.6419 - output_2_loss: 0.4723 - output_3_loss: 0.5543\n",
            "Epoch 13/50\n",
            "53/53 [==============================] - 14s 273ms/step - loss: 1.6347 - output_1_loss: 0.6376 - output_2_loss: 0.4542 - output_3_loss: 0.5429\n",
            "Epoch 14/50\n",
            "53/53 [==============================] - 14s 271ms/step - loss: 1.5884 - output_1_loss: 0.6148 - output_2_loss: 0.4363 - output_3_loss: 0.5373\n",
            "Epoch 15/50\n",
            "53/53 [==============================] - 14s 270ms/step - loss: 1.5390 - output_1_loss: 0.5911 - output_2_loss: 0.4215 - output_3_loss: 0.5263\n",
            "Epoch 16/50\n",
            "53/53 [==============================] - 14s 271ms/step - loss: 1.5012 - output_1_loss: 0.5812 - output_2_loss: 0.4088 - output_3_loss: 0.5113\n",
            "Epoch 17/50\n",
            "53/53 [==============================] - 14s 272ms/step - loss: 1.4682 - output_1_loss: 0.5754 - output_2_loss: 0.3955 - output_3_loss: 0.4974\n",
            "Epoch 18/50\n",
            "53/53 [==============================] - 14s 271ms/step - loss: 1.4359 - output_1_loss: 0.5673 - output_2_loss: 0.3828 - output_3_loss: 0.4858\n",
            "Epoch 19/50\n",
            "53/53 [==============================] - 14s 270ms/step - loss: 1.4022 - output_1_loss: 0.5568 - output_2_loss: 0.3707 - output_3_loss: 0.4747\n",
            "Epoch 20/50\n",
            "53/53 [==============================] - 14s 271ms/step - loss: 1.3652 - output_1_loss: 0.5435 - output_2_loss: 0.3584 - output_3_loss: 0.4633\n",
            "Epoch 21/50\n",
            "53/53 [==============================] - 14s 271ms/step - loss: 1.3227 - output_1_loss: 0.5265 - output_2_loss: 0.3449 - output_3_loss: 0.4513\n",
            "Epoch 22/50\n",
            "53/53 [==============================] - 14s 270ms/step - loss: 1.2758 - output_1_loss: 0.5065 - output_2_loss: 0.3304 - output_3_loss: 0.4390\n",
            "Epoch 23/50\n",
            "53/53 [==============================] - 14s 268ms/step - loss: 1.2310 - output_1_loss: 0.4870 - output_2_loss: 0.3164 - output_3_loss: 0.4276\n",
            "Epoch 24/50\n",
            "53/53 [==============================] - 14s 270ms/step - loss: 1.1905 - output_1_loss: 0.4708 - output_2_loss: 0.3023 - output_3_loss: 0.4175\n",
            "Epoch 25/50\n",
            "53/53 [==============================] - 14s 271ms/step - loss: 1.1548 - output_1_loss: 0.4546 - output_2_loss: 0.2913 - output_3_loss: 0.4090\n",
            "Epoch 26/50\n",
            "53/53 [==============================] - 14s 270ms/step - loss: 1.1240 - output_1_loss: 0.4432 - output_2_loss: 0.2801 - output_3_loss: 0.4008\n",
            "Epoch 27/50\n",
            "53/53 [==============================] - 14s 270ms/step - loss: 1.0939 - output_1_loss: 0.4302 - output_2_loss: 0.2702 - output_3_loss: 0.3935\n",
            "Epoch 28/50\n",
            "53/53 [==============================] - 14s 270ms/step - loss: 1.0667 - output_1_loss: 0.4177 - output_2_loss: 0.2635 - output_3_loss: 0.3855\n",
            "Epoch 29/50\n",
            "53/53 [==============================] - 14s 269ms/step - loss: 1.0406 - output_1_loss: 0.4128 - output_2_loss: 0.2497 - output_3_loss: 0.3781\n",
            "Epoch 30/50\n",
            "53/53 [==============================] - 14s 271ms/step - loss: 1.0217 - output_1_loss: 0.3976 - output_2_loss: 0.2530 - output_3_loss: 0.3712\n",
            "Epoch 31/50\n",
            "53/53 [==============================] - 14s 270ms/step - loss: 0.9954 - output_1_loss: 0.3996 - output_2_loss: 0.2329 - output_3_loss: 0.3628\n",
            "Epoch 32/50\n",
            "53/53 [==============================] - 14s 269ms/step - loss: 0.9742 - output_1_loss: 0.3821 - output_2_loss: 0.2342 - output_3_loss: 0.3578\n",
            "Epoch 33/50\n",
            "53/53 [==============================] - 14s 270ms/step - loss: 0.9459 - output_1_loss: 0.3726 - output_2_loss: 0.2237 - output_3_loss: 0.3497\n",
            "Epoch 34/50\n",
            "53/53 [==============================] - 14s 270ms/step - loss: 0.9218 - output_1_loss: 0.3684 - output_2_loss: 0.2115 - output_3_loss: 0.3419\n",
            "Epoch 35/50\n",
            "53/53 [==============================] - 14s 271ms/step - loss: 0.9029 - output_1_loss: 0.3550 - output_2_loss: 0.2131 - output_3_loss: 0.3347\n",
            "Epoch 36/50\n",
            "53/53 [==============================] - 14s 271ms/step - loss: 0.8769 - output_1_loss: 0.3500 - output_2_loss: 0.2002 - output_3_loss: 0.3266\n",
            "Epoch 37/50\n",
            "53/53 [==============================] - 14s 270ms/step - loss: 0.8555 - output_1_loss: 0.3395 - output_2_loss: 0.1950 - output_3_loss: 0.3210\n",
            "Epoch 38/50\n",
            "53/53 [==============================] - 14s 270ms/step - loss: 0.8350 - output_1_loss: 0.3316 - output_2_loss: 0.1911 - output_3_loss: 0.3123\n",
            "Epoch 39/50\n",
            "53/53 [==============================] - 14s 269ms/step - loss: 0.8064 - output_1_loss: 0.3207 - output_2_loss: 0.1832 - output_3_loss: 0.3025\n",
            "Epoch 40/50\n",
            "53/53 [==============================] - 14s 269ms/step - loss: 0.7864 - output_1_loss: 0.3147 - output_2_loss: 0.1762 - output_3_loss: 0.2955\n",
            "Epoch 41/50\n",
            "53/53 [==============================] - 14s 269ms/step - loss: 0.7647 - output_1_loss: 0.3052 - output_2_loss: 0.1722 - output_3_loss: 0.2874\n",
            "Epoch 42/50\n",
            "53/53 [==============================] - 14s 269ms/step - loss: 0.7474 - output_1_loss: 0.3019 - output_2_loss: 0.1664 - output_3_loss: 0.2792\n",
            "Epoch 43/50\n",
            "53/53 [==============================] - 14s 268ms/step - loss: 0.7283 - output_1_loss: 0.2933 - output_2_loss: 0.1631 - output_3_loss: 0.2719\n",
            "Epoch 44/50\n",
            "53/53 [==============================] - 14s 273ms/step - loss: 0.7103 - output_1_loss: 0.2884 - output_2_loss: 0.1577 - output_3_loss: 0.2641\n",
            "Epoch 45/50\n",
            "53/53 [==============================] - 14s 270ms/step - loss: 0.6930 - output_1_loss: 0.2826 - output_2_loss: 0.1542 - output_3_loss: 0.2562\n",
            "Epoch 46/50\n",
            "53/53 [==============================] - 14s 268ms/step - loss: 0.6741 - output_1_loss: 0.2756 - output_2_loss: 0.1496 - output_3_loss: 0.2489\n",
            "Epoch 47/50\n",
            "53/53 [==============================] - 14s 269ms/step - loss: 0.6577 - output_1_loss: 0.2710 - output_2_loss: 0.1459 - output_3_loss: 0.2408\n",
            "Epoch 48/50\n",
            "53/53 [==============================] - 14s 269ms/step - loss: 0.6399 - output_1_loss: 0.2646 - output_2_loss: 0.1419 - output_3_loss: 0.2334\n",
            "Epoch 49/50\n",
            "53/53 [==============================] - 14s 268ms/step - loss: 0.6235 - output_1_loss: 0.2589 - output_2_loss: 0.1388 - output_3_loss: 0.2258\n",
            "Epoch 50/50\n",
            "53/53 [==============================] - 14s 268ms/step - loss: 0.6060 - output_1_loss: 0.2536 - output_2_loss: 0.1341 - output_3_loss: 0.2183\n"
          ],
          "name": "stdout"
        },
        {
          "output_type": "execute_result",
          "data": {
            "text/plain": [
              "<tensorflow.python.keras.callbacks.History at 0x7f2b83693438>"
            ]
          },
          "metadata": {
            "tags": []
          },
          "execution_count": 35
        }
      ]
    },
    {
      "cell_type": "markdown",
      "metadata": {
        "id": "PCx3QjBfa8JU"
      },
      "source": [
        "Trained Embeddings"
      ]
    },
    {
      "cell_type": "code",
      "metadata": {
        "colab": {
          "base_uri": "https://localhost:8080/"
        },
        "id": "qQy0Q6hMZnKZ",
        "outputId": "a4e41458-0c21-4258-ed2f-94ae9bb0186d"
      },
      "source": [
        "# Question Embeddings\r\n",
        "model.question_emb_layer.embeddings"
      ],
      "execution_count": 36,
      "outputs": [
        {
          "output_type": "execute_result",
          "data": {
            "text/plain": [
              "<tf.Variable 'pebg/embedding/embeddings:0' shape=(13523, 512) dtype=float32, numpy=\n",
              "array([[ 0.33978233, -0.59295726,  0.904474  , ..., -0.65274256,\n",
              "         0.7578639 , -0.19723678],\n",
              "       [ 0.392786  , -0.32606828,  1.156926  , ..., -0.3684354 ,\n",
              "        -0.00149528,  0.07227462],\n",
              "       [ 0.4286755 ,  1.2806342 , -0.24467272, ..., -0.20866449,\n",
              "         0.46077085,  0.19128309],\n",
              "       ...,\n",
              "       [ 0.4637387 , -0.00836393, -0.15827219, ...,  0.23365061,\n",
              "        -0.2586248 ,  0.14397731],\n",
              "       [ 0.07100088,  0.08849046, -0.05075152, ...,  0.07161791,\n",
              "        -0.19464932,  0.09356661],\n",
              "       [-0.7603003 , -0.4634242 ,  0.24669372, ..., -0.3820537 ,\n",
              "         0.18035999, -0.26784134]], dtype=float32)>"
            ]
          },
          "metadata": {
            "tags": []
          },
          "execution_count": 36
        }
      ]
    },
    {
      "cell_type": "code",
      "metadata": {
        "id": "n12eaf_YZ2K3",
        "colab": {
          "base_uri": "https://localhost:8080/"
        },
        "outputId": "4b59bd5b-ba57-48db-91a5-aa4d9dadc74f"
      },
      "source": [
        "# Skills Embeddings\r\n",
        "model.skill_emb_layer.embeddings"
      ],
      "execution_count": 37,
      "outputs": [
        {
          "output_type": "execute_result",
          "data": {
            "text/plain": [
              "<tf.Variable 'pebg/embedding_1/embeddings:0' shape=(189, 512) dtype=float32, numpy=\n",
              "array([[ 1.4750328 , -0.41053993, -0.25789976, ..., -1.1023577 ,\n",
              "        -0.5152434 ,  0.7768604 ],\n",
              "       [-0.01956799,  0.27172834, -0.2937895 , ...,  0.5130188 ,\n",
              "         0.06713983, -0.53285366],\n",
              "       [-0.41730702,  0.41648334, -0.10307369, ..., -0.8179862 ,\n",
              "        -0.35453105, -0.04955959],\n",
              "       ...,\n",
              "       [-0.6866998 ,  0.55968124,  0.17957912, ..., -0.32058078,\n",
              "         0.16454488,  0.471418  ],\n",
              "       [ 0.05433251, -0.6627156 , -0.31531078, ...,  0.7144671 ,\n",
              "         0.82057947,  0.4648847 ],\n",
              "       [ 0.45230004,  0.08398312, -0.43649882, ..., -0.12252785,\n",
              "        -0.374263  ,  0.94085974]], dtype=float32)>"
            ]
          },
          "metadata": {
            "tags": []
          },
          "execution_count": 37
        }
      ]
    },
    {
      "cell_type": "code",
      "metadata": {
        "id": "v7NZ4u8FhLml"
      },
      "source": [
        ""
      ],
      "execution_count": 37,
      "outputs": []
    }
  ]
}