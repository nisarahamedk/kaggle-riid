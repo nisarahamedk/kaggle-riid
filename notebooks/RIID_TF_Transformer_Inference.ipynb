{
  "nbformat": 4,
  "nbformat_minor": 0,
  "metadata": {
    "colab": {
      "name": "RIID TF Transformer Inference.ipynb",
      "provenance": [],
      "authorship_tag": "ABX9TyP73M1H+mmXf5lvOTPrsgT8",
      "include_colab_link": true
    },
    "kernelspec": {
      "name": "python3",
      "display_name": "Python 3"
    }
  },
  "cells": [
    {
      "cell_type": "markdown",
      "metadata": {
        "id": "view-in-github",
        "colab_type": "text"
      },
      "source": [
        "<a href=\"https://colab.research.google.com/github/nisarahamedk/kaggle-riid/blob/master/notebooks/RIID_TF_Transformer_Inference.ipynb\" target=\"_parent\"><img src=\"https://colab.research.google.com/assets/colab-badge.svg\" alt=\"Open In Colab\"/></a>"
      ]
    },
    {
      "cell_type": "markdown",
      "metadata": {
        "id": "AIIMFhdG1L1o"
      },
      "source": [
        "### RIID TF Transformer Inference"
      ]
    },
    {
      "cell_type": "code",
      "metadata": {
        "id": "KyaJuEug1SjH"
      },
      "source": [
        ""
      ],
      "execution_count": null,
      "outputs": []
    }
  ]
}