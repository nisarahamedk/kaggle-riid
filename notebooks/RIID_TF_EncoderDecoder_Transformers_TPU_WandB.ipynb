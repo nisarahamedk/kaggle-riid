{
  "nbformat": 4,
  "nbformat_minor": 0,
  "metadata": {
    "colab": {
      "name": "RIID TF Transformers TPU.ipynb",
      "provenance": [],
      "include_colab_link": true
    },
    "kernelspec": {
      "name": "python3",
      "display_name": "Python 3"
    },
    "accelerator": "TPU",
    "widgets": {
      "application/vnd.jupyter.widget-state+json": {
        "4abbae20d6664496bb2547e113cbd633": {
          "model_module": "@jupyter-widgets/controls",
          "model_name": "VBoxModel",
          "state": {
            "_view_name": "VBoxView",
            "_dom_classes": [],
            "_model_name": "VBoxModel",
            "_view_module": "@jupyter-widgets/controls",
            "_model_module_version": "1.5.0",
            "_view_count": null,
            "_view_module_version": "1.5.0",
            "box_style": "",
            "layout": "IPY_MODEL_5583d8441add4bac8e19ae2f56072560",
            "_model_module": "@jupyter-widgets/controls",
            "children": [
              "IPY_MODEL_b506b0ebd82f4a41912018c9c49f50bd",
              "IPY_MODEL_587c260c93ee4396b265f495b19b1fec"
            ]
          }
        },
        "5583d8441add4bac8e19ae2f56072560": {
          "model_module": "@jupyter-widgets/base",
          "model_name": "LayoutModel",
          "state": {
            "_view_name": "LayoutView",
            "grid_template_rows": null,
            "right": null,
            "justify_content": null,
            "_view_module": "@jupyter-widgets/base",
            "overflow": null,
            "_model_module_version": "1.2.0",
            "_view_count": null,
            "flex_flow": null,
            "width": null,
            "min_width": null,
            "border": null,
            "align_items": null,
            "bottom": null,
            "_model_module": "@jupyter-widgets/base",
            "top": null,
            "grid_column": null,
            "overflow_y": null,
            "overflow_x": null,
            "grid_auto_flow": null,
            "grid_area": null,
            "grid_template_columns": null,
            "flex": null,
            "_model_name": "LayoutModel",
            "justify_items": null,
            "grid_row": null,
            "max_height": null,
            "align_content": null,
            "visibility": null,
            "align_self": null,
            "height": null,
            "min_height": null,
            "padding": null,
            "grid_auto_rows": null,
            "grid_gap": null,
            "max_width": null,
            "order": null,
            "_view_module_version": "1.2.0",
            "grid_template_areas": null,
            "object_position": null,
            "object_fit": null,
            "grid_auto_columns": null,
            "margin": null,
            "display": null,
            "left": null
          }
        },
        "b506b0ebd82f4a41912018c9c49f50bd": {
          "model_module": "@jupyter-widgets/controls",
          "model_name": "LabelModel",
          "state": {
            "_view_name": "LabelView",
            "style": "IPY_MODEL_c6b2b9b628d440bc93c72a8af9b41f57",
            "_dom_classes": [],
            "description": "",
            "_model_name": "LabelModel",
            "placeholder": "​",
            "_view_module": "@jupyter-widgets/controls",
            "_model_module_version": "1.5.0",
            "value": " 139.32MB of 139.32MB uploaded (0.00MB deduped)\r",
            "_view_count": null,
            "_view_module_version": "1.5.0",
            "description_tooltip": null,
            "_model_module": "@jupyter-widgets/controls",
            "layout": "IPY_MODEL_761742e4f97f4d858277f96f9ac9b4c1"
          }
        },
        "587c260c93ee4396b265f495b19b1fec": {
          "model_module": "@jupyter-widgets/controls",
          "model_name": "FloatProgressModel",
          "state": {
            "_view_name": "ProgressView",
            "style": "IPY_MODEL_d06a1c242a7c4cbdbf2bba36890cdd80",
            "_dom_classes": [],
            "description": "",
            "_model_name": "FloatProgressModel",
            "bar_style": "",
            "max": 1,
            "_view_module": "@jupyter-widgets/controls",
            "_model_module_version": "1.5.0",
            "value": 1,
            "_view_count": null,
            "_view_module_version": "1.5.0",
            "orientation": "horizontal",
            "min": 0,
            "description_tooltip": null,
            "_model_module": "@jupyter-widgets/controls",
            "layout": "IPY_MODEL_a9ce26275b72477884ad0f5cffea401f"
          }
        },
        "c6b2b9b628d440bc93c72a8af9b41f57": {
          "model_module": "@jupyter-widgets/controls",
          "model_name": "DescriptionStyleModel",
          "state": {
            "_view_name": "StyleView",
            "_model_name": "DescriptionStyleModel",
            "description_width": "",
            "_view_module": "@jupyter-widgets/base",
            "_model_module_version": "1.5.0",
            "_view_count": null,
            "_view_module_version": "1.2.0",
            "_model_module": "@jupyter-widgets/controls"
          }
        },
        "761742e4f97f4d858277f96f9ac9b4c1": {
          "model_module": "@jupyter-widgets/base",
          "model_name": "LayoutModel",
          "state": {
            "_view_name": "LayoutView",
            "grid_template_rows": null,
            "right": null,
            "justify_content": null,
            "_view_module": "@jupyter-widgets/base",
            "overflow": null,
            "_model_module_version": "1.2.0",
            "_view_count": null,
            "flex_flow": null,
            "width": null,
            "min_width": null,
            "border": null,
            "align_items": null,
            "bottom": null,
            "_model_module": "@jupyter-widgets/base",
            "top": null,
            "grid_column": null,
            "overflow_y": null,
            "overflow_x": null,
            "grid_auto_flow": null,
            "grid_area": null,
            "grid_template_columns": null,
            "flex": null,
            "_model_name": "LayoutModel",
            "justify_items": null,
            "grid_row": null,
            "max_height": null,
            "align_content": null,
            "visibility": null,
            "align_self": null,
            "height": null,
            "min_height": null,
            "padding": null,
            "grid_auto_rows": null,
            "grid_gap": null,
            "max_width": null,
            "order": null,
            "_view_module_version": "1.2.0",
            "grid_template_areas": null,
            "object_position": null,
            "object_fit": null,
            "grid_auto_columns": null,
            "margin": null,
            "display": null,
            "left": null
          }
        },
        "d06a1c242a7c4cbdbf2bba36890cdd80": {
          "model_module": "@jupyter-widgets/controls",
          "model_name": "ProgressStyleModel",
          "state": {
            "_view_name": "StyleView",
            "_model_name": "ProgressStyleModel",
            "description_width": "",
            "_view_module": "@jupyter-widgets/base",
            "_model_module_version": "1.5.0",
            "_view_count": null,
            "_view_module_version": "1.2.0",
            "bar_color": null,
            "_model_module": "@jupyter-widgets/controls"
          }
        },
        "a9ce26275b72477884ad0f5cffea401f": {
          "model_module": "@jupyter-widgets/base",
          "model_name": "LayoutModel",
          "state": {
            "_view_name": "LayoutView",
            "grid_template_rows": null,
            "right": null,
            "justify_content": null,
            "_view_module": "@jupyter-widgets/base",
            "overflow": null,
            "_model_module_version": "1.2.0",
            "_view_count": null,
            "flex_flow": null,
            "width": null,
            "min_width": null,
            "border": null,
            "align_items": null,
            "bottom": null,
            "_model_module": "@jupyter-widgets/base",
            "top": null,
            "grid_column": null,
            "overflow_y": null,
            "overflow_x": null,
            "grid_auto_flow": null,
            "grid_area": null,
            "grid_template_columns": null,
            "flex": null,
            "_model_name": "LayoutModel",
            "justify_items": null,
            "grid_row": null,
            "max_height": null,
            "align_content": null,
            "visibility": null,
            "align_self": null,
            "height": null,
            "min_height": null,
            "padding": null,
            "grid_auto_rows": null,
            "grid_gap": null,
            "max_width": null,
            "order": null,
            "_view_module_version": "1.2.0",
            "grid_template_areas": null,
            "object_position": null,
            "object_fit": null,
            "grid_auto_columns": null,
            "margin": null,
            "display": null,
            "left": null
          }
        }
      }
    }
  },
  "cells": [
    {
      "cell_type": "markdown",
      "metadata": {
        "id": "view-in-github",
        "colab_type": "text"
      },
      "source": [
        "<a href=\"https://colab.research.google.com/github/nisarahamedk/kaggle-riid/blob/master/notebooks/RIID_TF_EncoderDecoder_Transformers_TPU_WandB.ipynb\" target=\"_parent\"><img src=\"https://colab.research.google.com/assets/colab-badge.svg\" alt=\"Open In Colab\"/></a>"
      ]
    },
    {
      "cell_type": "markdown",
      "metadata": {
        "id": "MDcEKftRzz3o"
      },
      "source": [
        "#### RIID Transformer on TPU"
      ]
    },
    {
      "cell_type": "code",
      "metadata": {
        "id": "0FJ7eTHbRHbD"
      },
      "source": [
        "%%capture\r\n",
        "!pip install watermark\r\n",
        "\r\n",
        "!pip uninstall -y wandb\r\n",
        "!pip uninstall -y numpy\r\n",
        "!pip uninstall -y pandas\r\n",
        "!pip uninstall -y tensorflow\r\n",
        "\r\n",
        "!pip install --upgrade wandb==0.10.12\r\n",
        "!pip install --upgrade pandas==1.1.5\r\n",
        "!pip install --upgrade numpy==1.19.4\r\n",
        "!pip install --upgrade tensorflow==2.4.0\r\n",
        "!pip install cloud_tpu_client\r\n",
        "\r\n",
        "# In Kaggle, always restart the kernel after installing libs.\r\n",
        "# With the focus on a cell, press Ctrl+Shift+P and choose \"confirm restart kernel\""
      ],
      "execution_count": 1,
      "outputs": []
    },
    {
      "cell_type": "code",
      "metadata": {
        "id": "p-tXEAUsz-e0",
        "colab": {
          "base_uri": "https://localhost:8080/"
        },
        "outputId": "6388042f-0fb3-4c8f-c592-5ee296011e60"
      },
      "source": [
        "%reload_ext autoreload\n",
        "%reload_ext watermark\n",
        "%autoreload 2\n",
        "%matplotlib inline\n",
        "\n",
        "import pickle\n",
        "\n",
        "import tensorflow as tf\n",
        "import tensorflow.keras as keras\n",
        "from tensorflow.keras import backend as K\n",
        "from tensorflow.python.keras.utils import tf_utils\n",
        "from tensorflow.python.autograph.impl import api as autograph\n",
        "from tensorflow.python.autograph.core import ag_ctx\n",
        "import pandas as pd\n",
        "import numpy as np\n",
        "from sklearn.model_selection import KFold\n",
        "import wandb\n",
        "from wandb.keras import WandbCallback\n",
        "from cloud_tpu_client import Client\n",
        "\n",
        "\n",
        "np.random.seed(42)\n",
        "tf.random.set_seed(42)\n",
        "\n",
        "%watermark -iv"
      ],
      "execution_count": 2,
      "outputs": [
        {
          "output_type": "stream",
          "text": [
            "pandas           1.1.5\n",
            "tensorflow       2.4.0\n",
            "numpy            1.19.4\n",
            "tensorflow.keras 2.4.0\n",
            "wandb            0.10.12\n",
            "\n"
          ],
          "name": "stdout"
        }
      ]
    },
    {
      "cell_type": "markdown",
      "metadata": {
        "id": "6ZwdiZXG0XgB"
      },
      "source": [
        "\n",
        "### *Device* Settings - This needs to be at the TOP¶"
      ]
    },
    {
      "cell_type": "code",
      "metadata": {
        "id": "YhFY3xYNVKfG"
      },
      "source": [
        "Client().configure_tpu_version(tf.__version__, restart_type='ifNeeded')"
      ],
      "execution_count": 3,
      "outputs": []
    },
    {
      "cell_type": "code",
      "metadata": {
        "id": "A3giJ9Nu0aTC",
        "colab": {
          "base_uri": "https://localhost:8080/"
        },
        "outputId": "ea8d59af-d1d2-4b1a-f99c-66e740f3f3f2"
      },
      "source": [
        "try:\n",
        "    tpu = tf.distribute.cluster_resolver.TPUClusterResolver() # no parameter needed for TPU_NAME env variable is set. This is the case for Kaggle\n",
        "    print(\"Running on TPU: \", tpu.master())\n",
        "except ValueError:\n",
        "    tpu = None"
      ],
      "execution_count": 4,
      "outputs": [
        {
          "output_type": "stream",
          "text": [
            "Running on TPU:  grpc://10.92.159.10:8470\n"
          ],
          "name": "stdout"
        }
      ]
    },
    {
      "cell_type": "code",
      "metadata": {
        "colab": {
          "base_uri": "https://localhost:8080/"
        },
        "id": "M8cViVXg0dRt",
        "outputId": "eafd637c-b14a-480f-b16f-8f62a3d93af0"
      },
      "source": [
        "if tpu:\n",
        "    tf.config.experimental_connect_to_cluster(tpu)\n",
        "    tf.tpu.experimental.initialize_tpu_system(tpu)\n",
        "    strategy = tf.distribute.TPUStrategy(tpu)\n",
        "else:\n",
        "    # default strategy with the available hw\n",
        "    strategy = tf.distribute.get_strategy()\n",
        "    \n",
        "REPLICAS = strategy.num_replicas_in_sync\n",
        "print(\"REPLICAS: \", REPLICAS)"
      ],
      "execution_count": 5,
      "outputs": [
        {
          "output_type": "stream",
          "text": [
            "INFO:tensorflow:Initializing the TPU system: grpc://10.92.159.10:8470\n"
          ],
          "name": "stdout"
        },
        {
          "output_type": "stream",
          "text": [
            "INFO:tensorflow:Initializing the TPU system: grpc://10.92.159.10:8470\n"
          ],
          "name": "stderr"
        },
        {
          "output_type": "stream",
          "text": [
            "INFO:tensorflow:Clearing out eager caches\n"
          ],
          "name": "stdout"
        },
        {
          "output_type": "stream",
          "text": [
            "INFO:tensorflow:Clearing out eager caches\n"
          ],
          "name": "stderr"
        },
        {
          "output_type": "stream",
          "text": [
            "INFO:tensorflow:Finished initializing TPU system.\n"
          ],
          "name": "stdout"
        },
        {
          "output_type": "stream",
          "text": [
            "INFO:tensorflow:Finished initializing TPU system.\n"
          ],
          "name": "stderr"
        },
        {
          "output_type": "stream",
          "text": [
            "INFO:tensorflow:Found TPU system:\n"
          ],
          "name": "stdout"
        },
        {
          "output_type": "stream",
          "text": [
            "INFO:tensorflow:Found TPU system:\n"
          ],
          "name": "stderr"
        },
        {
          "output_type": "stream",
          "text": [
            "INFO:tensorflow:*** Num TPU Cores: 8\n"
          ],
          "name": "stdout"
        },
        {
          "output_type": "stream",
          "text": [
            "INFO:tensorflow:*** Num TPU Cores: 8\n"
          ],
          "name": "stderr"
        },
        {
          "output_type": "stream",
          "text": [
            "INFO:tensorflow:*** Num TPU Workers: 1\n"
          ],
          "name": "stdout"
        },
        {
          "output_type": "stream",
          "text": [
            "INFO:tensorflow:*** Num TPU Workers: 1\n"
          ],
          "name": "stderr"
        },
        {
          "output_type": "stream",
          "text": [
            "INFO:tensorflow:*** Num TPU Cores Per Worker: 8\n"
          ],
          "name": "stdout"
        },
        {
          "output_type": "stream",
          "text": [
            "INFO:tensorflow:*** Num TPU Cores Per Worker: 8\n"
          ],
          "name": "stderr"
        },
        {
          "output_type": "stream",
          "text": [
            "INFO:tensorflow:*** Available Device: _DeviceAttributes(/job:localhost/replica:0/task:0/device:CPU:0, CPU, 0, 0)\n"
          ],
          "name": "stdout"
        },
        {
          "output_type": "stream",
          "text": [
            "INFO:tensorflow:*** Available Device: _DeviceAttributes(/job:localhost/replica:0/task:0/device:CPU:0, CPU, 0, 0)\n"
          ],
          "name": "stderr"
        },
        {
          "output_type": "stream",
          "text": [
            "INFO:tensorflow:*** Available Device: _DeviceAttributes(/job:worker/replica:0/task:0/device:CPU:0, CPU, 0, 0)\n"
          ],
          "name": "stdout"
        },
        {
          "output_type": "stream",
          "text": [
            "INFO:tensorflow:*** Available Device: _DeviceAttributes(/job:worker/replica:0/task:0/device:CPU:0, CPU, 0, 0)\n"
          ],
          "name": "stderr"
        },
        {
          "output_type": "stream",
          "text": [
            "INFO:tensorflow:*** Available Device: _DeviceAttributes(/job:worker/replica:0/task:0/device:TPU:0, TPU, 0, 0)\n"
          ],
          "name": "stdout"
        },
        {
          "output_type": "stream",
          "text": [
            "INFO:tensorflow:*** Available Device: _DeviceAttributes(/job:worker/replica:0/task:0/device:TPU:0, TPU, 0, 0)\n"
          ],
          "name": "stderr"
        },
        {
          "output_type": "stream",
          "text": [
            "INFO:tensorflow:*** Available Device: _DeviceAttributes(/job:worker/replica:0/task:0/device:TPU:1, TPU, 0, 0)\n"
          ],
          "name": "stdout"
        },
        {
          "output_type": "stream",
          "text": [
            "INFO:tensorflow:*** Available Device: _DeviceAttributes(/job:worker/replica:0/task:0/device:TPU:1, TPU, 0, 0)\n"
          ],
          "name": "stderr"
        },
        {
          "output_type": "stream",
          "text": [
            "INFO:tensorflow:*** Available Device: _DeviceAttributes(/job:worker/replica:0/task:0/device:TPU:2, TPU, 0, 0)\n"
          ],
          "name": "stdout"
        },
        {
          "output_type": "stream",
          "text": [
            "INFO:tensorflow:*** Available Device: _DeviceAttributes(/job:worker/replica:0/task:0/device:TPU:2, TPU, 0, 0)\n"
          ],
          "name": "stderr"
        },
        {
          "output_type": "stream",
          "text": [
            "INFO:tensorflow:*** Available Device: _DeviceAttributes(/job:worker/replica:0/task:0/device:TPU:3, TPU, 0, 0)\n"
          ],
          "name": "stdout"
        },
        {
          "output_type": "stream",
          "text": [
            "INFO:tensorflow:*** Available Device: _DeviceAttributes(/job:worker/replica:0/task:0/device:TPU:3, TPU, 0, 0)\n"
          ],
          "name": "stderr"
        },
        {
          "output_type": "stream",
          "text": [
            "INFO:tensorflow:*** Available Device: _DeviceAttributes(/job:worker/replica:0/task:0/device:TPU:4, TPU, 0, 0)\n"
          ],
          "name": "stdout"
        },
        {
          "output_type": "stream",
          "text": [
            "INFO:tensorflow:*** Available Device: _DeviceAttributes(/job:worker/replica:0/task:0/device:TPU:4, TPU, 0, 0)\n"
          ],
          "name": "stderr"
        },
        {
          "output_type": "stream",
          "text": [
            "INFO:tensorflow:*** Available Device: _DeviceAttributes(/job:worker/replica:0/task:0/device:TPU:5, TPU, 0, 0)\n"
          ],
          "name": "stdout"
        },
        {
          "output_type": "stream",
          "text": [
            "INFO:tensorflow:*** Available Device: _DeviceAttributes(/job:worker/replica:0/task:0/device:TPU:5, TPU, 0, 0)\n"
          ],
          "name": "stderr"
        },
        {
          "output_type": "stream",
          "text": [
            "INFO:tensorflow:*** Available Device: _DeviceAttributes(/job:worker/replica:0/task:0/device:TPU:6, TPU, 0, 0)\n"
          ],
          "name": "stdout"
        },
        {
          "output_type": "stream",
          "text": [
            "INFO:tensorflow:*** Available Device: _DeviceAttributes(/job:worker/replica:0/task:0/device:TPU:6, TPU, 0, 0)\n"
          ],
          "name": "stderr"
        },
        {
          "output_type": "stream",
          "text": [
            "INFO:tensorflow:*** Available Device: _DeviceAttributes(/job:worker/replica:0/task:0/device:TPU:7, TPU, 0, 0)\n"
          ],
          "name": "stdout"
        },
        {
          "output_type": "stream",
          "text": [
            "INFO:tensorflow:*** Available Device: _DeviceAttributes(/job:worker/replica:0/task:0/device:TPU:7, TPU, 0, 0)\n"
          ],
          "name": "stderr"
        },
        {
          "output_type": "stream",
          "text": [
            "INFO:tensorflow:*** Available Device: _DeviceAttributes(/job:worker/replica:0/task:0/device:TPU_SYSTEM:0, TPU_SYSTEM, 0, 0)\n"
          ],
          "name": "stdout"
        },
        {
          "output_type": "stream",
          "text": [
            "INFO:tensorflow:*** Available Device: _DeviceAttributes(/job:worker/replica:0/task:0/device:TPU_SYSTEM:0, TPU_SYSTEM, 0, 0)\n"
          ],
          "name": "stderr"
        },
        {
          "output_type": "stream",
          "text": [
            "INFO:tensorflow:*** Available Device: _DeviceAttributes(/job:worker/replica:0/task:0/device:XLA_CPU:0, XLA_CPU, 0, 0)\n"
          ],
          "name": "stdout"
        },
        {
          "output_type": "stream",
          "text": [
            "INFO:tensorflow:*** Available Device: _DeviceAttributes(/job:worker/replica:0/task:0/device:XLA_CPU:0, XLA_CPU, 0, 0)\n"
          ],
          "name": "stderr"
        },
        {
          "output_type": "stream",
          "text": [
            "REPLICAS:  8\n"
          ],
          "name": "stdout"
        }
      ]
    },
    {
      "cell_type": "markdown",
      "metadata": {
        "id": "xlZu4XIZRnjp"
      },
      "source": [
        "#### WandB Experiment Config"
      ]
    },
    {
      "cell_type": "code",
      "metadata": {
        "id": "LurQJR9sUGIo"
      },
      "source": [
        "resume = False"
      ],
      "execution_count": 6,
      "outputs": []
    },
    {
      "cell_type": "code",
      "metadata": {
        "id": "PbXfr7SSRqw-"
      },
      "source": [
        "experiment_config = {\r\n",
        "    \"dataset_args\": {\r\n",
        "        \"tfrec_gcs_path\": 'gs://kds-9c9a89c1a0d17bcb15230bb2e47c4641386843a62d12638c765e35cb',\r\n",
        "        \"folds\": 10,\r\n",
        "        \"fold\": 1,\r\n",
        "        \"batch_size\": 256,\r\n",
        "        \"seq_len\": 128,\r\n",
        "    },\r\n",
        "    \"model_args\": {\r\n",
        "        \"num_layers\": 2,\r\n",
        "        \"d_model\": 128,\r\n",
        "        \"num_heads\": 8,\r\n",
        "        \"dff\": 1024,\r\n",
        "    },\r\n",
        "    \"training_args\": {\r\n",
        "        \"epochs\": 30,\r\n",
        "    },\r\n",
        "    \"env_args\": {\r\n",
        "        \"is_kaggle\": False,\r\n",
        "        \"upload_model_to_kaggle\": False\r\n",
        "    }\r\n",
        "}"
      ],
      "execution_count": 18,
      "outputs": []
    },
    {
      "cell_type": "code",
      "metadata": {
        "colab": {
          "base_uri": "https://localhost:8080/"
        },
        "id": "RwhqiBPjT-m8",
        "outputId": "01006ad7-627d-4e7b-ab46-8d236067cb78"
      },
      "source": [
        "!wandb login f137298421da563b24639d1287dd3ce5da537814"
      ],
      "execution_count": 8,
      "outputs": [
        {
          "output_type": "stream",
          "text": [
            "\u001b[34m\u001b[1mwandb\u001b[0m: Appending key for api.wandb.ai to your netrc file: /root/.netrc\n"
          ],
          "name": "stdout"
        }
      ]
    },
    {
      "cell_type": "code",
      "metadata": {
        "id": "lLpax_ixUBAy"
      },
      "source": [
        "notes = \"test run\""
      ],
      "execution_count": 9,
      "outputs": []
    },
    {
      "cell_type": "code",
      "metadata": {
        "colab": {
          "base_uri": "https://localhost:8080/",
          "height": 133
        },
        "id": "s_KrLPRyUCLI",
        "outputId": "273c80ea-20ba-4aeb-eb7d-5f4a7ac40014"
      },
      "source": [
        "wandb_run = wandb.init(project=\"kaggle-riid\", notes=notes, resume=resume)"
      ],
      "execution_count": 10,
      "outputs": [
        {
          "output_type": "stream",
          "text": [
            "\u001b[34m\u001b[1mwandb\u001b[0m: Currently logged in as: \u001b[33mnisarahamedk\u001b[0m (use `wandb login --relogin` to force relogin)\n"
          ],
          "name": "stderr"
        },
        {
          "output_type": "display_data",
          "data": {
            "text/html": [
              "\n",
              "                Tracking run with wandb version 0.10.12<br/>\n",
              "                Syncing run <strong style=\"color:#cdcd00\">neat-hill-13</strong> to <a href=\"https://wandb.ai\" target=\"_blank\">Weights & Biases</a> <a href=\"https://docs.wandb.com/integrations/jupyter.html\" target=\"_blank\">(Documentation)</a>.<br/>\n",
              "                Project page: <a href=\"https://wandb.ai/nisarahamedk/kaggle-riid\" target=\"_blank\">https://wandb.ai/nisarahamedk/kaggle-riid</a><br/>\n",
              "                Run page: <a href=\"https://wandb.ai/nisarahamedk/kaggle-riid/runs/28ffc9m8\" target=\"_blank\">https://wandb.ai/nisarahamedk/kaggle-riid/runs/28ffc9m8</a><br/>\n",
              "                Run data is saved locally in <code>/content/wandb/run-20201229_115723-28ffc9m8</code><br/><br/>\n",
              "            "
            ],
            "text/plain": [
              "<IPython.core.display.HTML object>"
            ]
          },
          "metadata": {
            "tags": []
          }
        }
      ]
    },
    {
      "cell_type": "code",
      "metadata": {
        "colab": {
          "base_uri": "https://localhost:8080/"
        },
        "id": "i-sjdjBuUPS_",
        "outputId": "351f0ec5-8b02-47d7-ca53-6bcdfd603626"
      },
      "source": [
        "api = wandb.Api()\r\n",
        "run = api.run(\"nisarahamedk/kaggle-riid/\" + wandb.run.id)\r\n",
        "run"
      ],
      "execution_count": 11,
      "outputs": [
        {
          "output_type": "execute_result",
          "data": {
            "text/plain": [
              "<Run nisarahamedk/kaggle-riid/28ffc9m8 (running)>"
            ]
          },
          "metadata": {
            "tags": []
          },
          "execution_count": 11
        }
      ]
    },
    {
      "cell_type": "code",
      "metadata": {
        "id": "L_wyyDqCUVMr"
      },
      "source": [
        "if resume:\r\n",
        "  experiment_config = run.config"
      ],
      "execution_count": 12,
      "outputs": []
    },
    {
      "cell_type": "markdown",
      "metadata": {
        "id": "eHATf5SI0f7k"
      },
      "source": [
        "### Datasets"
      ]
    },
    {
      "cell_type": "code",
      "metadata": {
        "id": "8ZyQj3J-0sCh",
        "colab": {
          "base_uri": "https://localhost:8080/",
          "height": 35
        },
        "outputId": "def915a6-2b41-47b6-a2ab-e8db9e869519"
      },
      "source": [
        "DATA_PATH = experiment_config[\"dataset_args\"][\"tfrec_gcs_path\"]\r\n",
        "DATA_PATH"
      ],
      "execution_count": 19,
      "outputs": [
        {
          "output_type": "execute_result",
          "data": {
            "application/vnd.google.colaboratory.intrinsic+json": {
              "type": "string"
            },
            "text/plain": [
              "'gs://kds-9c9a89c1a0d17bcb15230bb2e47c4641386843a62d12638c765e35cb'"
            ]
          },
          "metadata": {
            "tags": []
          },
          "execution_count": 19
        }
      ]
    },
    {
      "cell_type": "code",
      "metadata": {
        "colab": {
          "base_uri": "https://localhost:8080/"
        },
        "id": "jNldoAXn1GOf",
        "outputId": "782b9e8c-7855-4d99-8f48-8b6d4a4c199b"
      },
      "source": [
        "n_train_files = len(tf.io.gfile.glob(DATA_PATH + \"/tfrec*\"))\n",
        "n_train_files"
      ],
      "execution_count": 20,
      "outputs": [
        {
          "output_type": "execute_result",
          "data": {
            "text/plain": [
              "32"
            ]
          },
          "metadata": {
            "tags": []
          },
          "execution_count": 20
        }
      ]
    },
    {
      "cell_type": "code",
      "metadata": {
        "colab": {
          "base_uri": "https://localhost:8080/"
        },
        "id": "7KLXao8j1jSp",
        "outputId": "0a3d086f-b4bb-456e-e404-bbc34c21ef6b"
      },
      "source": [
        "FOLDS = experiment_config[\"dataset_args\"][\"folds\"]\n",
        "\n",
        "kfold = KFold(n_splits=FOLDS, shuffle=True, random_state=42)\n",
        "folds_list = list(kfold.split(np.arange(n_train_files)))\n",
        "folds_list[:2]"
      ],
      "execution_count": 21,
      "outputs": [
        {
          "output_type": "execute_result",
          "data": {
            "text/plain": [
              "[(array([ 0,  1,  2,  3,  4,  5,  6,  7,  8,  9, 10, 11, 12, 13, 14, 16, 18,\n",
              "         19, 20, 21, 22, 23, 25, 26, 27, 28, 30, 31]),\n",
              "  array([15, 17, 24, 29])),\n",
              " (array([ 0,  1,  2,  3,  4,  5,  6,  7, 10, 11, 12, 13, 14, 15, 16, 17, 18,\n",
              "         19, 20, 21, 22, 23, 24, 26, 27, 28, 29, 31]),\n",
              "  array([ 8,  9, 25, 30]))]"
            ]
          },
          "metadata": {
            "tags": []
          },
          "execution_count": 21
        }
      ]
    },
    {
      "cell_type": "code",
      "metadata": {
        "colab": {
          "base_uri": "https://localhost:8080/"
        },
        "id": "OC8RRFAM11rq",
        "outputId": "55de1ba1-9f60-4967-8558-f5c565ef3220"
      },
      "source": [
        "FOLD = experiment_config[\"dataset_args\"][\"fold\"]\n",
        "\n",
        "train_folds, valid_folds = folds_list[FOLD]\n",
        "len(train_folds), len(valid_folds)"
      ],
      "execution_count": 22,
      "outputs": [
        {
          "output_type": "execute_result",
          "data": {
            "text/plain": [
              "(28, 4)"
            ]
          },
          "metadata": {
            "tags": []
          },
          "execution_count": 22
        }
      ]
    },
    {
      "cell_type": "code",
      "metadata": {
        "id": "J9Myj8kbWck4"
      },
      "source": [
        "experiment_config[\"dataset_args\"].update({\"train_folds\": str(list(train_folds)), \"valid_folds\": str(list(valid_folds))})"
      ],
      "execution_count": 23,
      "outputs": []
    },
    {
      "cell_type": "code",
      "metadata": {
        "id": "ztufELqg2Xfn"
      },
      "source": [
        "train_files = tf.io.gfile.glob([DATA_PATH + \"/tfrec_%d.tfrec\" % idx for idx in train_folds])\n",
        "valid_files = tf.io.gfile.glob([DATA_PATH + \"/tfrec_%d.tfrec\" % idx for idx in valid_folds])"
      ],
      "execution_count": 24,
      "outputs": []
    },
    {
      "cell_type": "code",
      "metadata": {
        "colab": {
          "base_uri": "https://localhost:8080/"
        },
        "id": "gf6yVysK22E6",
        "outputId": "eb5e8a07-96ab-4fff-b0de-267ab204ee7f"
      },
      "source": [
        "len(train_files), len(valid_files)"
      ],
      "execution_count": 25,
      "outputs": [
        {
          "output_type": "execute_result",
          "data": {
            "text/plain": [
              "(28, 4)"
            ]
          },
          "metadata": {
            "tags": []
          },
          "execution_count": 25
        }
      ]
    },
    {
      "cell_type": "markdown",
      "metadata": {
        "id": "SHpRgO2L25aj"
      },
      "source": [
        "#### Load TFRecord Datasets"
      ]
    },
    {
      "cell_type": "code",
      "metadata": {
        "id": "D0zEw3u23jmr"
      },
      "source": [
        "AUTOTUNE = tf.data.experimental.AUTOTUNE"
      ],
      "execution_count": 26,
      "outputs": []
    },
    {
      "cell_type": "code",
      "metadata": {
        "id": "OrXHOsZ13sEX"
      },
      "source": [
        "feature_desc = {\n",
        "    \"timestamp\": tf.io.FixedLenFeature([], tf.string),\n",
        "    \"content_id\": tf.io.FixedLenFeature([], tf.string),\n",
        "    \"task_container_id\": tf.io.FixedLenFeature([], tf.string),\n",
        "    \"elapsed_time\": tf.io.FixedLenFeature([], tf.string),\n",
        "    \"had_explanation\": tf.io.FixedLenFeature([], tf.string),\n",
        "    \"part\": tf.io.FixedLenFeature([], tf.string),\n",
        "    \"tags\": tf.io.FixedLenFeature([], tf.string),\n",
        "    \"answered_correctly\": tf.io.FixedLenFeature([], tf.string),\n",
        "}\n",
        "\n",
        "def parse_example(example):\n",
        "  example = tf.io.parse_single_example(example, feature_desc)\n",
        "\n",
        "  timestamp = tf.io.parse_tensor(example[\"timestamp\"], tf.int64)\n",
        "  content_id = tf.io.parse_tensor(example[\"content_id\"], tf.int16)\n",
        "  task_container_id = tf.io.parse_tensor(example[\"task_container_id\"], tf.int16)\n",
        "  elapsed_time = tf.io.parse_tensor(example[\"elapsed_time\"], tf.float32)\n",
        "  had_explanation = tf.io.parse_tensor(example[\"had_explanation\"], tf.int8)\n",
        "  part = tf.io.parse_tensor(example[\"part\"], tf.int16)\n",
        "  answered_correctly = tf.io.parse_tensor(example[\"answered_correctly\"], tf.int8)\n",
        "\n",
        "  # tags\n",
        "  tags = tf.io.parse_tensor(example[\"tags\"], tf.string) # as string, one q can have multiple tags.\n",
        "  tags = tf.strings.to_number(tf.strings.split(tags), out_type=tf.int32) # will produce a ragged tensor with tags for each q\n",
        "  # ragged tensor of tags [[2], [3, 4]] is converted to one hot like [[0,0,1..], [[0,0,0,1,..], [0,0,0,0,1...]]]\n",
        "  # then sumed along axis 1, so for each question there will be 1 for all the tags associated with it.\n",
        "  tags = tf.reduce_sum(tf.one_hot(tags, depth=190), axis=1) # shape [seq_len, 190]\n",
        "  tags = tf.transpose(tags, (1, 0)) # shape [190, seq_len] to stack with other features.\n",
        "  \n",
        "  features = tf.stack([\n",
        "      tf.cast(timestamp, tf.float32),\n",
        "      tf.cast(content_id, tf.float32),\n",
        "      tf.cast(task_container_id, tf.float32),\n",
        "      tf.cast(elapsed_time, tf.float32),\n",
        "      tf.cast(had_explanation, tf.float32),\n",
        "      tf.cast(part, tf.float32),\n",
        "      tf.cast(answered_correctly, tf.float32),\n",
        "  ])\n",
        "\n",
        "  # add tags\n",
        "  return tf.concat([\n",
        "      features,\n",
        "      tf.cast(tags, tf.float32),\n",
        "  ], axis=0) # [features, seq_len] # TODO make it [seq_len, features] so that we dont have to reshape in transformer"
      ],
      "execution_count": 27,
      "outputs": []
    },
    {
      "cell_type": "code",
      "metadata": {
        "id": "U1vZigwi3QVa"
      },
      "source": [
        "def load_dataset_from_tfrecord(filenames, ds_type=\"train\", cache_to=None):\n",
        "        # Since we are reading dataset from multiple files. and we dont care about the order.\n",
        "        # set deterministic reading to False.\n",
        "        ignore_order = tf.data.Options()\n",
        "        if ds_type == \"train\":\n",
        "            ignore_order.experimental_deterministic = False\n",
        "            \n",
        "        dataset = tf.data.TFRecordDataset(filenames, num_parallel_reads=AUTOTUNE)\n",
        "        if not cache_to:\n",
        "            dataset = dataset.cache() # cache to RAM\n",
        "        else:\n",
        "            dataset = dataset.cache(cache_to) # cache to file given by self.cache_to \n",
        "        if ds_type == \"train\":\n",
        "            # dataset = dataset.repeat() # repeat individual item, so that we have full batch at every step.\n",
        "            pass\n",
        "        dataset.with_options(ignore_order)\n",
        "        dataset = dataset.map(parse_example, num_parallel_calls=AUTOTUNE)\n",
        "        return dataset"
      ],
      "execution_count": 28,
      "outputs": []
    },
    {
      "cell_type": "code",
      "metadata": {
        "id": "dhaJdlb537yQ"
      },
      "source": [
        "dataset = load_dataset_from_tfrecord(train_files)"
      ],
      "execution_count": 29,
      "outputs": []
    },
    {
      "cell_type": "code",
      "metadata": {
        "id": "8JPG7fOy4jCu",
        "colab": {
          "base_uri": "https://localhost:8080/"
        },
        "outputId": "4d23558f-a3cc-44ff-c4b1-97e0e19abc6f"
      },
      "source": [
        "SEQ_LEN = experiment_config[\"dataset_args\"][\"seq_len\"]\r\n",
        "SEQ_LEN"
      ],
      "execution_count": 30,
      "outputs": [
        {
          "output_type": "execute_result",
          "data": {
            "text/plain": [
              "128"
            ]
          },
          "metadata": {
            "tags": []
          },
          "execution_count": 30
        }
      ]
    },
    {
      "cell_type": "code",
      "metadata": {
        "id": "r4QnfOgm4FWT"
      },
      "source": [
        "@tf.function\n",
        "def pad(a, seq_len, max_seq_len):\n",
        "  s = max_seq_len - seq_len\n",
        "  # making [[0, 0], [s, 0]]\n",
        "  r = tf.stack([s, tf.constant(0)])\n",
        "  t = tf.stack([tf.constant([0, 0]), r])\n",
        "  \n",
        "  return tf.pad(a, t) # ,1 to debug\n",
        "\n",
        "@tf.function\n",
        "def trim(a, seq_len,  max_seq_len):\n",
        "  \"\"\"\n",
        "  TODO: trimming actually get rid of the start token since we are trimming randomly in the model.\n",
        "  Is this going to be a problem?, i think it should not.\n",
        "  \"\"\"\n",
        "  start = tf.squeeze(tf.random.uniform((1,), maxval=(seq_len-max_seq_len), dtype=tf.int32))\n",
        "  # https://www.quora.com/How-does-tf-slice-work-in-TensorFlow\n",
        "  begin = tf.stack([tf.constant(0), start])\n",
        "  size = tf.stack([tf.shape(a)[0], max_seq_len])\n",
        "  \n",
        "  return tf.slice(a, begin, size) # , start - to debug\n",
        "\n",
        "@tf.function\n",
        "def pad_or_trim(a):\n",
        "  seq_len = tf.shape(a)[-1]\n",
        "  max_seq_len = SEQ_LEN + 1 # accomodate for the start token\n",
        "  fn = tf.cond(tf.less_equal(seq_len, max_seq_len), lambda: pad(a, seq_len, max_seq_len), lambda: trim(a, seq_len, max_seq_len))\n",
        "  return fn"
      ],
      "execution_count": 31,
      "outputs": []
    },
    {
      "cell_type": "code",
      "metadata": {
        "id": "Qi2ty0Rd4kyp"
      },
      "source": [
        "dataset = dataset.map(pad_or_trim, num_parallel_calls=AUTOTUNE) # every sample is padded if len < SEQ_LEN or randomly trimmed to SEQ_LEN"
      ],
      "execution_count": 32,
      "outputs": []
    },
    {
      "cell_type": "code",
      "metadata": {
        "colab": {
          "base_uri": "https://localhost:8080/"
        },
        "id": "p01N7j3IPV6o",
        "outputId": "4aa7fe59-6997-4276-c789-23db7ecaa69b"
      },
      "source": [
        "for item in dataset.take(1):\r\n",
        "  print(item.shape)"
      ],
      "execution_count": 33,
      "outputs": [
        {
          "output_type": "stream",
          "text": [
            "(197, 129)\n"
          ],
          "name": "stdout"
        }
      ]
    },
    {
      "cell_type": "code",
      "metadata": {
        "id": "BOTG_iFxa5gc"
      },
      "source": [
        "@tf.function\n",
        "def create_padding_mask(seq):\n",
        "  seq = tf.cast(tf.reduce_all(tf.math.equal(seq, 0), axis=-1), tf.float32)\n",
        "\n",
        "  # add extra dimensions to add the padding\n",
        "  # to the attention logits.\n",
        "  return seq[:, tf.newaxis, tf.newaxis, :]  # (batch_size, 1, 1, seq_len)\n",
        "\n",
        "@tf.function\n",
        "def split_x_y_mask(xy):\n",
        "  # x = xy[:-1, :] # we need 'answered_correctly' in x\n",
        "  x = tf.transpose(xy, (1, 0)) # [seq_len, n_features]\n",
        "  y = xy[6, :]\n",
        "  y = y - 3 # +3 had added to use this in feature, make it back to 0,1\n",
        "  pad_mask = tf.cast(tf.math.reduce_any(tf.math.not_equal(x, 0), axis=-1), dtype=tf.float32)\n",
        "  start_token_mask = tf.cast(tf.math.logical_not(tf.math.reduce_all(tf.math.equal(x[:, :7], 1), axis=-1)), dtype=tf.float32)\n",
        "  final_mask = tf.math.multiply(pad_mask, start_token_mask)\n",
        "  return x, tf.expand_dims(y[1:], axis=-1), tf.expand_dims(final_mask[1:], axis=-1) # [1:] for y and mask, because first val is for start token"
      ],
      "execution_count": 34,
      "outputs": []
    },
    {
      "cell_type": "code",
      "metadata": {
        "id": "O_CI26N0K3R6"
      },
      "source": [
        "dataset = dataset.map(split_x_y_mask, num_parallel_calls=AUTOTUNE) # x and y"
      ],
      "execution_count": 35,
      "outputs": []
    },
    {
      "cell_type": "code",
      "metadata": {
        "colab": {
          "base_uri": "https://localhost:8080/"
        },
        "id": "Q5eT_hwk4qaY",
        "outputId": "40601442-a44e-4795-c27d-dd8d47b09cf2"
      },
      "source": [
        "for x, y, mask in dataset.take(1):\n",
        "  print(x.shape)\n",
        "  print(y.shape)\n",
        "  print(mask.shape)"
      ],
      "execution_count": 36,
      "outputs": [
        {
          "output_type": "stream",
          "text": [
            "(129, 197)\n",
            "(128, 1)\n",
            "(128, 1)\n"
          ],
          "name": "stdout"
        }
      ]
    },
    {
      "cell_type": "code",
      "metadata": {
        "id": "DS0Jw9j1hxTF",
        "colab": {
          "base_uri": "https://localhost:8080/"
        },
        "outputId": "c8d37699-b267-43d1-ba71-7b48690172af"
      },
      "source": [
        "tf.squeeze(mask, axis=-1)"
      ],
      "execution_count": 37,
      "outputs": [
        {
          "output_type": "execute_result",
          "data": {
            "text/plain": [
              "<tf.Tensor: shape=(128,), dtype=float32, numpy=\n",
              "array([0., 0., 0., 0., 0., 0., 0., 0., 0., 0., 0., 0., 0., 0., 0., 0., 0.,\n",
              "       0., 0., 0., 0., 0., 0., 0., 0., 0., 0., 0., 0., 0., 0., 0., 0., 0.,\n",
              "       0., 0., 0., 0., 0., 0., 0., 0., 0., 0., 0., 0., 0., 0., 0., 0., 0.,\n",
              "       0., 0., 0., 0., 0., 0., 0., 0., 0., 0., 0., 0., 0., 0., 0., 0., 0.,\n",
              "       0., 0., 0., 0., 0., 0., 0., 0., 0., 0., 0., 0., 0., 0., 1., 1., 1.,\n",
              "       1., 1., 1., 1., 1., 1., 1., 1., 1., 1., 1., 1., 1., 1., 1., 1., 1.,\n",
              "       1., 1., 1., 1., 1., 1., 1., 1., 1., 1., 1., 1., 1., 1., 1., 1., 1.,\n",
              "       1., 1., 1., 1., 1., 1., 1., 1., 1.], dtype=float32)>"
            ]
          },
          "metadata": {
            "tags": []
          },
          "execution_count": 37
        }
      ]
    },
    {
      "cell_type": "code",
      "metadata": {
        "id": "UE8uOJbx2W2X",
        "colab": {
          "base_uri": "https://localhost:8080/"
        },
        "outputId": "ee2e9233-6af0-4aca-e455-8a8876ea5202"
      },
      "source": [
        "tf.squeeze(y, axis=-1)"
      ],
      "execution_count": 38,
      "outputs": [
        {
          "output_type": "execute_result",
          "data": {
            "text/plain": [
              "<tf.Tensor: shape=(128,), dtype=float32, numpy=\n",
              "array([-3., -3., -3., -3., -3., -3., -3., -3., -3., -3., -3., -3., -3.,\n",
              "       -3., -3., -3., -3., -3., -3., -3., -3., -3., -3., -3., -3., -3.,\n",
              "       -3., -3., -3., -3., -3., -3., -3., -3., -3., -3., -3., -3., -3.,\n",
              "       -3., -3., -3., -3., -3., -3., -3., -3., -3., -3., -3., -3., -3.,\n",
              "       -3., -3., -3., -3., -3., -3., -3., -3., -3., -3., -3., -3., -3.,\n",
              "       -3., -3., -3., -3., -3., -3., -3., -3., -3., -3., -3., -3., -3.,\n",
              "       -3., -3., -3., -2.,  1.,  1.,  1.,  1.,  1.,  1.,  1.,  1.,  1.,\n",
              "        1.,  0.,  0.,  0.,  1.,  1.,  1.,  1.,  0.,  1.,  1.,  0.,  0.,\n",
              "        0.,  0.,  1.,  1.,  1.,  1.,  1.,  0.,  1.,  0.,  1.,  1.,  1.,\n",
              "        1.,  0.,  1.,  1.,  1.,  1.,  1.,  0.,  0.,  0.,  1.],\n",
              "      dtype=float32)>"
            ]
          },
          "metadata": {
            "tags": []
          },
          "execution_count": 38
        }
      ]
    },
    {
      "cell_type": "code",
      "metadata": {
        "colab": {
          "base_uri": "https://localhost:8080/"
        },
        "id": "7rUcga1etGfe",
        "outputId": "ad4462d2-8a21-4bda-c6ce-728d6b313ea8"
      },
      "source": [
        "tf.squeeze(y, axis=-1) * tf.squeeze(mask, axis=-1) #  applying mask"
      ],
      "execution_count": 39,
      "outputs": [
        {
          "output_type": "execute_result",
          "data": {
            "text/plain": [
              "<tf.Tensor: shape=(128,), dtype=float32, numpy=\n",
              "array([-0., -0., -0., -0., -0., -0., -0., -0., -0., -0., -0., -0., -0.,\n",
              "       -0., -0., -0., -0., -0., -0., -0., -0., -0., -0., -0., -0., -0.,\n",
              "       -0., -0., -0., -0., -0., -0., -0., -0., -0., -0., -0., -0., -0.,\n",
              "       -0., -0., -0., -0., -0., -0., -0., -0., -0., -0., -0., -0., -0.,\n",
              "       -0., -0., -0., -0., -0., -0., -0., -0., -0., -0., -0., -0., -0.,\n",
              "       -0., -0., -0., -0., -0., -0., -0., -0., -0., -0., -0., -0., -0.,\n",
              "       -0., -0., -0., -0.,  1.,  1.,  1.,  1.,  1.,  1.,  1.,  1.,  1.,\n",
              "        1.,  0.,  0.,  0.,  1.,  1.,  1.,  1.,  0.,  1.,  1.,  0.,  0.,\n",
              "        0.,  0.,  1.,  1.,  1.,  1.,  1.,  0.,  1.,  0.,  1.,  1.,  1.,\n",
              "        1.,  0.,  1.,  1.,  1.,  1.,  1.,  0.,  0.,  0.,  1.],\n",
              "      dtype=float32)>"
            ]
          },
          "metadata": {
            "tags": []
          },
          "execution_count": 39
        }
      ]
    },
    {
      "cell_type": "code",
      "metadata": {
        "id": "pVuc7KqWFZ01"
      },
      "source": [
        "dataset = dataset.shuffle(int(1024 * REPLICAS))"
      ],
      "execution_count": 40,
      "outputs": []
    },
    {
      "cell_type": "code",
      "metadata": {
        "id": "pX3iCpAnFvIL",
        "colab": {
          "base_uri": "https://localhost:8080/"
        },
        "outputId": "c19abed0-dbe3-44c8-871e-726b097b9b16"
      },
      "source": [
        "BATCH_SIZE = experiment_config[\"dataset_args\"][\"batch_size\"]\r\n",
        "BATCH_SIZE"
      ],
      "execution_count": 41,
      "outputs": [
        {
          "output_type": "execute_result",
          "data": {
            "text/plain": [
              "256"
            ]
          },
          "metadata": {
            "tags": []
          },
          "execution_count": 41
        }
      ]
    },
    {
      "cell_type": "code",
      "metadata": {
        "id": "xp8zSQyaFzLV"
      },
      "source": [
        "dataset = dataset.batch(BATCH_SIZE, drop_remainder=True)"
      ],
      "execution_count": 42,
      "outputs": []
    },
    {
      "cell_type": "code",
      "metadata": {
        "colab": {
          "base_uri": "https://localhost:8080/"
        },
        "id": "ZMQdN2zgF9hw",
        "outputId": "506d4a32-3233-4605-fe6c-0845f66a8da0"
      },
      "source": [
        "for xb, yb, mb in dataset.take(1):\n",
        "  print(xb.shape)\n",
        "  print(yb.shape)\n",
        "  print(mb.shape)"
      ],
      "execution_count": 43,
      "outputs": [
        {
          "output_type": "stream",
          "text": [
            "(256, 129, 197)\n",
            "(256, 128, 1)\n",
            "(256, 128, 1)\n"
          ],
          "name": "stdout"
        }
      ]
    },
    {
      "cell_type": "code",
      "metadata": {
        "colab": {
          "base_uri": "https://localhost:8080/"
        },
        "id": "FEpW8ID94dPC",
        "outputId": "34eb895c-817a-4127-f295-935de3bf5289"
      },
      "source": [
        "# answered_correctly, # notice for trimmed sequence, there is no start token, instead a previous interaction is used.\n",
        "xb[0, :, 6]"
      ],
      "execution_count": 44,
      "outputs": [
        {
          "output_type": "execute_result",
          "data": {
            "text/plain": [
              "<tf.Tensor: shape=(129,), dtype=float32, numpy=\n",
              "array([0., 0., 0., 0., 0., 0., 0., 0., 0., 0., 0., 0., 0., 0., 0., 0., 0.,\n",
              "       0., 0., 0., 0., 0., 0., 0., 0., 0., 0., 0., 0., 0., 0., 0., 0., 0.,\n",
              "       0., 0., 0., 0., 0., 0., 0., 0., 0., 0., 0., 0., 0., 0., 0., 0., 0.,\n",
              "       0., 0., 0., 0., 0., 0., 0., 0., 0., 0., 0., 0., 0., 0., 0., 0., 0.,\n",
              "       0., 0., 0., 0., 0., 0., 0., 0., 0., 0., 0., 0., 0., 0., 0., 0., 0.,\n",
              "       0., 0., 0., 0., 0., 0., 0., 0., 0., 0., 0., 0., 0., 1., 4., 3., 3.,\n",
              "       4., 4., 3., 4., 3., 3., 3., 3., 3., 3., 3., 3., 4., 3., 3., 3., 3.,\n",
              "       3., 3., 4., 3., 3., 3., 3., 3., 3., 3.], dtype=float32)>"
            ]
          },
          "metadata": {
            "tags": []
          },
          "execution_count": 44
        }
      ]
    },
    {
      "cell_type": "code",
      "metadata": {
        "id": "S33r8rmn4kdB",
        "colab": {
          "base_uri": "https://localhost:8080/"
        },
        "outputId": "b9f66deb-7a99-4770-ab56-0fbc31d21683"
      },
      "source": [
        "# corresponding mask\n",
        "mb[0, :, 0]"
      ],
      "execution_count": 45,
      "outputs": [
        {
          "output_type": "execute_result",
          "data": {
            "text/plain": [
              "<tf.Tensor: shape=(128,), dtype=float32, numpy=\n",
              "array([0., 0., 0., 0., 0., 0., 0., 0., 0., 0., 0., 0., 0., 0., 0., 0., 0.,\n",
              "       0., 0., 0., 0., 0., 0., 0., 0., 0., 0., 0., 0., 0., 0., 0., 0., 0.,\n",
              "       0., 0., 0., 0., 0., 0., 0., 0., 0., 0., 0., 0., 0., 0., 0., 0., 0.,\n",
              "       0., 0., 0., 0., 0., 0., 0., 0., 0., 0., 0., 0., 0., 0., 0., 0., 0.,\n",
              "       0., 0., 0., 0., 0., 0., 0., 0., 0., 0., 0., 0., 0., 0., 0., 0., 0.,\n",
              "       0., 0., 0., 0., 0., 0., 0., 0., 0., 0., 0., 0., 0., 1., 1., 1., 1.,\n",
              "       1., 1., 1., 1., 1., 1., 1., 1., 1., 1., 1., 1., 1., 1., 1., 1., 1.,\n",
              "       1., 1., 1., 1., 1., 1., 1., 1., 1.], dtype=float32)>"
            ]
          },
          "metadata": {
            "tags": []
          },
          "execution_count": 45
        }
      ]
    },
    {
      "cell_type": "code",
      "metadata": {
        "id": "FbmVLJKDGBYX"
      },
      "source": [
        "dataset = dataset.prefetch(AUTOTUNE)"
      ],
      "execution_count": 46,
      "outputs": []
    },
    {
      "cell_type": "markdown",
      "metadata": {
        "id": "ZIKTPaHerpwF"
      },
      "source": [
        "Valid dataset"
      ]
    },
    {
      "cell_type": "code",
      "metadata": {
        "id": "kCL1p1-uruwd"
      },
      "source": [
        "valid_dataset = load_dataset_from_tfrecord(valid_files, ds_type=\"valid\")\n",
        "valid_dataset = valid_dataset.map(pad_or_trim, num_parallel_calls=AUTOTUNE) # every sample is padded if len < SEQ_LEN or randomly trimmed to SEQ_LEN\n",
        "valid_dataset = valid_dataset.map(split_x_y_mask) # x, y and mask\n",
        "valid_dataset = valid_dataset.batch(BATCH_SIZE * 2, drop_remainder=True)\n",
        "valid_dataset = valid_dataset.prefetch(AUTOTUNE)"
      ],
      "execution_count": 47,
      "outputs": []
    },
    {
      "cell_type": "code",
      "metadata": {
        "colab": {
          "base_uri": "https://localhost:8080/"
        },
        "id": "oYZJpTSrTf0h",
        "outputId": "723535cd-d68d-4647-f6b9-64fbd3ddc16a"
      },
      "source": [
        "for vx, vy, vmask in valid_dataset.take(1):\r\n",
        "  print(vx.shape)\r\n",
        "  print(vy.shape)\r\n",
        "  print(vmask.shape)"
      ],
      "execution_count": 48,
      "outputs": [
        {
          "output_type": "stream",
          "text": [
            "(512, 129, 197)\n",
            "(512, 128, 1)\n",
            "(512, 128, 1)\n"
          ],
          "name": "stdout"
        }
      ]
    },
    {
      "cell_type": "code",
      "metadata": {
        "colab": {
          "base_uri": "https://localhost:8080/"
        },
        "id": "v-l6VS3iTtRw",
        "outputId": "b972f258-2795-4cf4-f109-6cfee70ae195"
      },
      "source": [
        "# answered_correctly\r\n",
        "vx[0, :, 6]"
      ],
      "execution_count": 49,
      "outputs": [
        {
          "output_type": "execute_result",
          "data": {
            "text/plain": [
              "<tf.Tensor: shape=(129,), dtype=float32, numpy=\n",
              "array([0., 0., 0., 0., 0., 0., 0., 0., 0., 0., 0., 0., 0., 0., 0., 0., 0.,\n",
              "       0., 0., 0., 0., 0., 0., 0., 0., 0., 0., 0., 0., 0., 0., 0., 0., 0.,\n",
              "       0., 0., 0., 0., 0., 0., 0., 0., 0., 0., 0., 0., 0., 0., 0., 0., 0.,\n",
              "       0., 0., 0., 0., 0., 0., 0., 0., 0., 0., 0., 0., 0., 0., 0., 0., 0.,\n",
              "       0., 0., 0., 0., 0., 0., 0., 0., 0., 0., 0., 0., 0., 0., 0., 0., 0.,\n",
              "       0., 0., 0., 0., 0., 0., 0., 0., 0., 0., 0., 0., 0., 1., 4., 4., 4.,\n",
              "       4., 3., 4., 4., 4., 4., 3., 4., 4., 4., 4., 4., 4., 3., 4., 4., 3.,\n",
              "       4., 4., 4., 4., 4., 4., 4., 4., 4., 4.], dtype=float32)>"
            ]
          },
          "metadata": {
            "tags": []
          },
          "execution_count": 49
        }
      ]
    },
    {
      "cell_type": "code",
      "metadata": {
        "colab": {
          "base_uri": "https://localhost:8080/"
        },
        "id": "WJFEWh7AT2Mc",
        "outputId": "5d67f759-52c7-4a3d-e537-415d283ede42"
      },
      "source": [
        "# corresponding mask\r\n",
        "vmask[0, :, 0]"
      ],
      "execution_count": 50,
      "outputs": [
        {
          "output_type": "execute_result",
          "data": {
            "text/plain": [
              "<tf.Tensor: shape=(128,), dtype=float32, numpy=\n",
              "array([0., 0., 0., 0., 0., 0., 0., 0., 0., 0., 0., 0., 0., 0., 0., 0., 0.,\n",
              "       0., 0., 0., 0., 0., 0., 0., 0., 0., 0., 0., 0., 0., 0., 0., 0., 0.,\n",
              "       0., 0., 0., 0., 0., 0., 0., 0., 0., 0., 0., 0., 0., 0., 0., 0., 0.,\n",
              "       0., 0., 0., 0., 0., 0., 0., 0., 0., 0., 0., 0., 0., 0., 0., 0., 0.,\n",
              "       0., 0., 0., 0., 0., 0., 0., 0., 0., 0., 0., 0., 0., 0., 0., 0., 0.,\n",
              "       0., 0., 0., 0., 0., 0., 0., 0., 0., 0., 0., 0., 0., 1., 1., 1., 1.,\n",
              "       1., 1., 1., 1., 1., 1., 1., 1., 1., 1., 1., 1., 1., 1., 1., 1., 1.,\n",
              "       1., 1., 1., 1., 1., 1., 1., 1., 1.], dtype=float32)>"
            ]
          },
          "metadata": {
            "tags": []
          },
          "execution_count": 50
        }
      ]
    },
    {
      "cell_type": "code",
      "metadata": {
        "colab": {
          "base_uri": "https://localhost:8080/"
        },
        "id": "gY6reftTtmY1",
        "outputId": "488b2b16-3ded-4fd6-a86a-7ae34e196d40"
      },
      "source": [
        "vx[0, 1:, 6] * vmask[0, :, 0] # checking the mask"
      ],
      "execution_count": 51,
      "outputs": [
        {
          "output_type": "execute_result",
          "data": {
            "text/plain": [
              "<tf.Tensor: shape=(128,), dtype=float32, numpy=\n",
              "array([0., 0., 0., 0., 0., 0., 0., 0., 0., 0., 0., 0., 0., 0., 0., 0., 0.,\n",
              "       0., 0., 0., 0., 0., 0., 0., 0., 0., 0., 0., 0., 0., 0., 0., 0., 0.,\n",
              "       0., 0., 0., 0., 0., 0., 0., 0., 0., 0., 0., 0., 0., 0., 0., 0., 0.,\n",
              "       0., 0., 0., 0., 0., 0., 0., 0., 0., 0., 0., 0., 0., 0., 0., 0., 0.,\n",
              "       0., 0., 0., 0., 0., 0., 0., 0., 0., 0., 0., 0., 0., 0., 0., 0., 0.,\n",
              "       0., 0., 0., 0., 0., 0., 0., 0., 0., 0., 0., 0., 0., 4., 4., 4., 4.,\n",
              "       3., 4., 4., 4., 4., 3., 4., 4., 4., 4., 4., 4., 3., 4., 4., 3., 4.,\n",
              "       4., 4., 4., 4., 4., 4., 4., 4., 4.], dtype=float32)>"
            ]
          },
          "metadata": {
            "tags": []
          },
          "execution_count": 51
        }
      ]
    },
    {
      "cell_type": "markdown",
      "metadata": {
        "id": "z7N2qkPoGF8n"
      },
      "source": [
        "### Model"
      ]
    },
    {
      "cell_type": "markdown",
      "metadata": {
        "id": "YzidzjELLqY7"
      },
      "source": [
        "##### Positional Encoding"
      ]
    },
    {
      "cell_type": "code",
      "metadata": {
        "id": "G3OWpbddMhgh"
      },
      "source": [
        "def get_angles(pos, i, d_model):\n",
        "  angle_rates = 1 / np.power(10000, (2 * (i//2)) / np.float32(d_model))\n",
        "  return pos * angle_rates"
      ],
      "execution_count": 52,
      "outputs": []
    },
    {
      "cell_type": "code",
      "metadata": {
        "id": "MA17TuuTMh8R"
      },
      "source": [
        "def positional_encoding(position, d_model):\n",
        "  angle_rads = get_angles(np.arange(position)[:, np.newaxis],\n",
        "                          np.arange(d_model)[np.newaxis, :],\n",
        "                          d_model)\n",
        "\n",
        "  # apply sin to even indices in the array; 2i\n",
        "  angle_rads[:, 0::2] = np.sin(angle_rads[:, 0::2])\n",
        "\n",
        "  # apply cos to odd indices in the array; 2i+1\n",
        "  angle_rads[:, 1::2] = np.cos(angle_rads[:, 1::2])\n",
        "\n",
        "  pos_encoding = angle_rads[np.newaxis, ...]\n",
        "\n",
        "  return tf.cast(pos_encoding, dtype=tf.float32)"
      ],
      "execution_count": 53,
      "outputs": []
    },
    {
      "cell_type": "markdown",
      "metadata": {
        "id": "7pROxdYkMkRi"
      },
      "source": [
        "##### Look ahead mask"
      ]
    },
    {
      "cell_type": "code",
      "metadata": {
        "id": "M3ZVSk3oMxg3"
      },
      "source": [
        "def create_look_ahead_mask(size):\n",
        "  mask = 1 - tf.linalg.band_part(tf.ones((size, size)), -1, 0)\n",
        "  return mask  # (seq_len, seq_len)"
      ],
      "execution_count": 54,
      "outputs": []
    },
    {
      "cell_type": "markdown",
      "metadata": {
        "id": "OfDhTLswMyDl"
      },
      "source": [
        "##### Scaled Dot Product Attention"
      ]
    },
    {
      "cell_type": "code",
      "metadata": {
        "id": "xJhA4M7XM8zY"
      },
      "source": [
        "def scaled_dot_product_attention(q, k, v, mask):\n",
        "  \"\"\"Calculate the attention weights.\n",
        "  q, k, v must have matching leading dimensions.\n",
        "  k, v must have matching penultimate dimension, i.e.: seq_len_k = seq_len_v.\n",
        "  The mask has different shapes depending on its type(padding or look ahead) \n",
        "  but it must be broadcastable for addition.\n",
        "\n",
        "  Args:\n",
        "    q: query shape == (..., seq_len_q, depth)\n",
        "    k: key shape == (..., seq_len_k, depth)\n",
        "    v: value shape == (..., seq_len_v, depth_v)\n",
        "    mask: Float tensor with shape broadcastable \n",
        "          to (..., seq_len_q, seq_len_k). Defaults to None.\n",
        "\n",
        "  Returns:\n",
        "    output, attention_weights\n",
        "  \"\"\"\n",
        "\n",
        "  matmul_qk = tf.matmul(q, k, transpose_b=True)  # (..., seq_len_q, seq_len_k)\n",
        "\n",
        "  # scale matmul_qk\n",
        "  dk = tf.cast(tf.shape(k)[-1], tf.float32)\n",
        "  scaled_attention_logits = matmul_qk / tf.math.sqrt(dk)\n",
        "\n",
        "  # add the mask to the scaled tensor.\n",
        "  if mask is not None:\n",
        "    scaled_attention_logits += (mask * -1e9)  \n",
        "\n",
        "  # softmax is normalized on the last axis (seq_len_k) so that the scores\n",
        "  # add up to 1.\n",
        "  attention_weights = tf.nn.softmax(scaled_attention_logits, axis=-1)  # (..., seq_len_q, seq_len_k)\n",
        "\n",
        "  output = tf.matmul(attention_weights, v)  # (..., seq_len_q, depth_v)\n",
        "\n",
        "  return output, attention_weights"
      ],
      "execution_count": 55,
      "outputs": []
    },
    {
      "cell_type": "markdown",
      "metadata": {
        "id": "Ak8Y8-ihNG1j"
      },
      "source": [
        "##### Multi Head Attention"
      ]
    },
    {
      "cell_type": "code",
      "metadata": {
        "id": "CkL0KZ5uNMS7"
      },
      "source": [
        "class MultiHeadAttention(tf.keras.layers.Layer):\n",
        "  def __init__(self, d_model, num_heads):\n",
        "    super(MultiHeadAttention, self).__init__()\n",
        "    self.num_heads = num_heads\n",
        "    self.d_model = d_model\n",
        "\n",
        "    assert d_model % self.num_heads == 0\n",
        "\n",
        "    self.depth = d_model // self.num_heads\n",
        "\n",
        "    self.wq = tf.keras.layers.Dense(d_model)\n",
        "    self.wk = tf.keras.layers.Dense(d_model)\n",
        "    self.wv = tf.keras.layers.Dense(d_model)\n",
        "\n",
        "    self.dense = tf.keras.layers.Dense(d_model)\n",
        "\n",
        "  def split_heads(self, x, batch_size):\n",
        "    \"\"\"Split the last dimension into (num_heads, depth).\n",
        "    Transpose the result such that the shape is (batch_size, num_heads, seq_len, depth)\n",
        "    \"\"\"\n",
        "    x = tf.reshape(x, (batch_size, -1, self.num_heads, self.depth))\n",
        "    return tf.transpose(x, perm=[0, 2, 1, 3])\n",
        "\n",
        "  def call(self, v, k, q, mask):\n",
        "    batch_size = tf.shape(q)[0]\n",
        "\n",
        "    q = self.wq(q)  # (batch_size, seq_len, d_model)\n",
        "    k = self.wk(k)  # (batch_size, seq_len, d_model)\n",
        "    v = self.wv(v)  # (batch_size, seq_len, d_model)\n",
        "\n",
        "    q = self.split_heads(q, batch_size)  # (batch_size, num_heads, seq_len_q, depth)\n",
        "    k = self.split_heads(k, batch_size)  # (batch_size, num_heads, seq_len_k, depth)\n",
        "    v = self.split_heads(v, batch_size)  # (batch_size, num_heads, seq_len_v, depth)\n",
        "\n",
        "    # scaled_attention.shape == (batch_size, num_heads, seq_len_q, depth)\n",
        "    # attention_weights.shape == (batch_size, num_heads, seq_len_q, seq_len_k)\n",
        "    scaled_attention, attention_weights = scaled_dot_product_attention(\n",
        "        q, k, v, mask)\n",
        "\n",
        "    scaled_attention = tf.transpose(scaled_attention, perm=[0, 2, 1, 3])  # (batch_size, seq_len_q, num_heads, depth)\n",
        "\n",
        "    concat_attention = tf.reshape(scaled_attention, \n",
        "                                  (batch_size, -1, self.d_model))  # (batch_size, seq_len_q, d_model)\n",
        "\n",
        "    output = self.dense(concat_attention)  # (batch_size, seq_len_q, d_model)\n",
        "\n",
        "    return output, attention_weights"
      ],
      "execution_count": 56,
      "outputs": []
    },
    {
      "cell_type": "markdown",
      "metadata": {
        "id": "EwQteAZBNPtG"
      },
      "source": [
        "##### Pointwise FeedForward Network"
      ]
    },
    {
      "cell_type": "code",
      "metadata": {
        "id": "jiYVEX_0NX54"
      },
      "source": [
        "def point_wise_feed_forward_network(d_model, dff):\n",
        "  return tf.keras.Sequential([\n",
        "      tf.keras.layers.Dense(dff, activation='relu'),  # (batch_size, seq_len, dff)\n",
        "      tf.keras.layers.Dense(d_model)  # (batch_size, seq_len, d_model)\n",
        "  ])"
      ],
      "execution_count": 57,
      "outputs": []
    },
    {
      "cell_type": "markdown",
      "metadata": {
        "id": "QGbRm0LSNau_"
      },
      "source": [
        "##### EncoderLayer"
      ]
    },
    {
      "cell_type": "code",
      "metadata": {
        "id": "V96wCZDvNexl"
      },
      "source": [
        "class EncoderLayer(tf.keras.layers.Layer):\n",
        "  def __init__(self, d_model, num_heads, dff, rate=0.1):\n",
        "    super(EncoderLayer, self).__init__()\n",
        "\n",
        "    self.mha = MultiHeadAttention(d_model, num_heads)\n",
        "    self.ffn = point_wise_feed_forward_network(d_model, dff)\n",
        "\n",
        "    self.layernorm1 = tf.keras.layers.LayerNormalization(epsilon=1e-6)\n",
        "    self.layernorm2 = tf.keras.layers.LayerNormalization(epsilon=1e-6)\n",
        "\n",
        "    self.dropout1 = tf.keras.layers.Dropout(rate)\n",
        "    self.dropout2 = tf.keras.layers.Dropout(rate)\n",
        "\n",
        "  def call(self, x, training, mask):\n",
        "\n",
        "    attn_output, _ = self.mha(x, x, x, mask)  # (batch_size, input_seq_len, d_model)\n",
        "    attn_output = self.dropout1(attn_output, training=training)\n",
        "    out1 = self.layernorm1(x + attn_output)  # (batch_size, input_seq_len, d_model)\n",
        "\n",
        "    ffn_output = self.ffn(out1)  # (batch_size, input_seq_len, d_model)\n",
        "    ffn_output = self.dropout2(ffn_output, training=training)\n",
        "    out2 = self.layernorm2(out1 + ffn_output)  # (batch_size, input_seq_len, d_model)\n",
        "\n",
        "    return out2"
      ],
      "execution_count": 58,
      "outputs": []
    },
    {
      "cell_type": "markdown",
      "metadata": {
        "id": "s7i7zR9xNjMj"
      },
      "source": [
        "##### Encoder"
      ]
    },
    {
      "cell_type": "code",
      "metadata": {
        "id": "ZM4bREj9Nrp_"
      },
      "source": [
        "class Encoder(tf.keras.layers.Layer):\n",
        "  def __init__(self, num_layers, d_model, num_heads, dff, maximum_position_encoding, embed_size_dict, rate):\n",
        "    super(Encoder, self).__init__()\n",
        "\n",
        "    self.d_model = d_model\n",
        "    self.num_layers = num_layers\n",
        "\n",
        "    self.content_id_emb = tf.keras.layers.Embedding(embed_size_dict[\"content_id\"] + 1, d_model)\n",
        "    self.task_container_id_emb = tf.keras.layers.Embedding(embed_size_dict[\"task_container_id\"] + 1, d_model)\n",
        "    self.part_emb = tf.keras.layers.Embedding(embed_size_dict[\"part\"] + 1, d_model)\n",
        "    self.tags_emb = tf.Variable(tf.random.uniform([embed_size_dict[\"tags\"], d_model]))\n",
        "    # self.elapsed_time_emb = tf.keras.layers.Dense(d_model, use_bias=True) # TODO: Normalize or Discretize\n",
        "    self.answered_correctly_emb = tf.keras.layers.Embedding(embed_size_dict[\"answered_correctly\"], d_model)\n",
        "    self.pos_encoding = positional_encoding(maximum_position_encoding, self.d_model)\n",
        "\n",
        "\n",
        "    self.enc_layers = [EncoderLayer(d_model, num_heads, dff, rate) \n",
        "                       for _ in range(num_layers)]\n",
        "\n",
        "    self.dropout = tf.keras.layers.Dropout(rate)\n",
        "\n",
        "  def call(self, input, training, mask):\n",
        "\n",
        "    seq_len = tf.shape(input)[1]\n",
        "\n",
        "    \"\"\"\n",
        "    tf.cast(timestamp, tf.float32),\n",
        "    tf.cast(content_id, tf.float32),\n",
        "    tf.cast(task_container_id, tf.float32),\n",
        "    tf.cast(elapsed_time, tf.float32),\n",
        "    tf.cast(had_explanation, tf.float32),\n",
        "    tf.cast(part, tf.float32),\n",
        "    tf.cast(answered_correctly, tf.float32),\n",
        "    \"\"\"\n",
        "    # adding embeddings and position encoding.\n",
        "    # --- question related embeddings\n",
        "    content_id_emb = self.content_id_emb(input[..., 1])  # (batch_size, input_seq_len, d_model)\n",
        "    x = content_id_emb\n",
        "    task_container_id_emb = self.task_container_id_emb(input[..., 2])\n",
        "    x += task_container_id_emb\n",
        "    part_emb = self.part_emb(input[..., 5])\n",
        "    x += part_emb\n",
        "    # tags/skills\n",
        "    tags_oh = input[:, :, 7:]\n",
        "    # tags_oh = tf.nn.softmax(tags_oh * 100) # soft max so that the weights adds up to 1, multiplied by 100 to make the non-skills to 0, reduce this if importance needs to be given to non-skills.\n",
        "    tags_emb = tf.linalg.matmul(tags_oh, self.tags_emb) # multiple skills can be there. this sum up the tag embeddings\n",
        "    x += tags_emb\n",
        "\n",
        "    # --- response related embeddings\n",
        "    # elapsed_time_emb = self.elapsed_time_emb(tf.expand_dims(input[..., 3], axis=-1))\n",
        "    # x += elapsed_time_emb\n",
        "    answered_correctly_emb = self.answered_correctly_emb(input[..., 6])\n",
        "    x += answered_correctly_emb\n",
        "    \n",
        "    \n",
        "    x *= tf.math.sqrt(tf.cast(self.d_model, tf.float32))\n",
        "    x += self.pos_encoding[:, :seq_len, :]\n",
        "\n",
        "    x = self.dropout(x, training=training)\n",
        "\n",
        "    for i in range(self.num_layers):\n",
        "      x = self.enc_layers[i](x, training, mask) # (batch_size, input_seq_len, d_model)\n",
        "\n",
        "    return x"
      ],
      "execution_count": 59,
      "outputs": []
    },
    {
      "cell_type": "markdown",
      "metadata": {
        "id": "aEjweChzd0PL"
      },
      "source": [
        "##### Decoder Layer"
      ]
    },
    {
      "cell_type": "code",
      "metadata": {
        "id": "dXKW4K9fd2sj"
      },
      "source": [
        "class DecoderLayer(tf.keras.layers.Layer):\r\n",
        "  def __init__(self, d_model, num_heads, dff, rate=0.1):\r\n",
        "    super(DecoderLayer, self).__init__()\r\n",
        "\r\n",
        "    self.mha1 = MultiHeadAttention(d_model, num_heads)\r\n",
        "    self.mha2 = MultiHeadAttention(d_model, num_heads)\r\n",
        "\r\n",
        "    self.ffn = point_wise_feed_forward_network(d_model, dff)\r\n",
        "\r\n",
        "    self.layernorm1 = tf.keras.layers.LayerNormalization(epsilon=1e-6)\r\n",
        "    self.layernorm2 = tf.keras.layers.LayerNormalization(epsilon=1e-6)\r\n",
        "    self.layernorm3 = tf.keras.layers.LayerNormalization(epsilon=1e-6)\r\n",
        "\r\n",
        "    self.dropout1 = tf.keras.layers.Dropout(rate)\r\n",
        "    self.dropout2 = tf.keras.layers.Dropout(rate)\r\n",
        "    self.dropout3 = tf.keras.layers.Dropout(rate)\r\n",
        "\r\n",
        "\r\n",
        "  def call(self, x, enc_output, training, look_ahead_mask):\r\n",
        "    # enc_output.shape == (batch_size, input_seq_len, d_model)\r\n",
        "\r\n",
        "    attn1, attn_weights_block1 = self.mha1(x, x, x, look_ahead_mask)  # (batch_size, target_seq_len, d_model)\r\n",
        "    attn1 = self.dropout1(attn1, training=training)\r\n",
        "    out1 = self.layernorm1(attn1 + x)\r\n",
        "\r\n",
        "    attn2, attn_weights_block2 = self.mha2(enc_output, enc_output, out1, look_ahead_mask)  # (batch_size, target_seq_len, d_model)\r\n",
        "    attn2 = self.dropout2(attn2, training=training)\r\n",
        "    out2 = self.layernorm2(attn2 + out1)  # (batch_size, target_seq_len, d_model)\r\n",
        "\r\n",
        "    ffn_output = self.ffn(out2)  # (batch_size, target_seq_len, d_model)\r\n",
        "    ffn_output = self.dropout3(ffn_output, training=training)\r\n",
        "    out3 = self.layernorm3(ffn_output + out2)  # (batch_size, target_seq_len, d_model)\r\n",
        "\r\n",
        "    return out3, attn_weights_block1, attn_weights_block2"
      ],
      "execution_count": 60,
      "outputs": []
    },
    {
      "cell_type": "markdown",
      "metadata": {
        "id": "VDyHNjP7d78P"
      },
      "source": [
        "##### Decoder"
      ]
    },
    {
      "cell_type": "code",
      "metadata": {
        "id": "dEPz4Said-xV"
      },
      "source": [
        "class Decoder(tf.keras.layers.Layer):\r\n",
        "  def __init__(self, num_layers, d_model, num_heads, dff, maximum_position_encoding, embed_size_dict, rate):\r\n",
        "    super(Decoder, self).__init__()\r\n",
        "\r\n",
        "    self.d_model = d_model\r\n",
        "    self.num_layers = num_layers\r\n",
        "\r\n",
        "    self.content_id_emb = tf.keras.layers.Embedding(embed_size_dict[\"content_id\"] + 1, d_model)\r\n",
        "    self.task_container_id_emb = tf.keras.layers.Embedding(embed_size_dict[\"task_container_id\"] + 1, d_model)\r\n",
        "    self.part_emb = tf.keras.layers.Embedding(embed_size_dict[\"part\"] + 1, d_model)\r\n",
        "    self.tags_emb = tf.Variable(tf.random.uniform([embed_size_dict[\"tags\"], d_model]))\r\n",
        "    self.pos_encoding = positional_encoding(maximum_position_encoding, self.d_model)\r\n",
        "\r\n",
        "    self.dec_layers = [DecoderLayer(d_model, num_heads, dff, rate) \r\n",
        "                       for _ in range(num_layers)]\r\n",
        "    self.dropout = tf.keras.layers.Dropout(rate)\r\n",
        "\r\n",
        "  def call(self, input, enc_output, training, look_ahead_mask):\r\n",
        "\r\n",
        "    seq_len = tf.shape(input)[1]\r\n",
        "    attention_weights = {}\r\n",
        "\r\n",
        "    \"\"\"\r\n",
        "    tf.cast(timestamp, tf.float32),\r\n",
        "    tf.cast(content_id, tf.float32),\r\n",
        "    tf.cast(task_container_id, tf.float32),\r\n",
        "    tf.cast(elapsed_time, tf.float32),\r\n",
        "    tf.cast(had_explanation, tf.float32),\r\n",
        "    tf.cast(part, tf.float32),\r\n",
        "    tf.cast(answered_correctly, tf.float32),\r\n",
        "    \"\"\"\r\n",
        "    # adding embeddings and position encoding.\r\n",
        "    content_id_emb = self.content_id_emb(input[..., 1])  # (batch_size, input_seq_len, d_model)\r\n",
        "    x = content_id_emb\r\n",
        "    task_container_id_emb = self.task_container_id_emb(input[..., 2])\r\n",
        "    x += task_container_id_emb\r\n",
        "    part_emb = self.part_emb(input[..., 5])\r\n",
        "    x += part_emb\r\n",
        "    # tags/skills\r\n",
        "    tags_oh = input[:, :, 7:]\r\n",
        "    # tags_oh = tf.nn.softmax(tags_oh * 100) # soft max so that the weights adds up to 1, multiplied by 100 to make the non-skills to 0, reduce this if importance needs to be given to non-skills.\r\n",
        "    tags_emb = tf.linalg.matmul(tags_oh, self.tags_emb) # multiple skills can be there. this sum up the tag embeddings\r\n",
        "    x += tags_emb\r\n",
        "    \r\n",
        "\r\n",
        "    x *= tf.math.sqrt(tf.cast(self.d_model, tf.float32))\r\n",
        "    x += self.pos_encoding[:, :seq_len, :]\r\n",
        "\r\n",
        "    x = self.dropout(x, training=training)\r\n",
        "\r\n",
        "    for i in range(self.num_layers):\r\n",
        "      x, block1, block2 = self.dec_layers[i](x, enc_output, training, look_ahead_mask)\r\n",
        "\r\n",
        "      attention_weights['decoder_layer{}_block1'.format(i+1)] = block1\r\n",
        "      attention_weights['decoder_layer{}_block2'.format(i+1)] = block2\r\n",
        "\r\n",
        "    # x.shape == (batch_size, target_seq_len, d_model)\r\n",
        "    return x, attention_weights"
      ],
      "execution_count": 61,
      "outputs": []
    },
    {
      "cell_type": "code",
      "metadata": {
        "id": "9PcxHfXTp64m"
      },
      "source": [
        "class TransformerSeq2SeqClassifier(keras.models.Model):\n",
        "  def __init__(self, num_layers, d_model, num_heads, dff, maximum_position_encoding, embed_size_dict, rate=0.1):\n",
        "    super(TransformerSeq2SeqClassifier, self).__init__()\n",
        "\n",
        "    self.encoder = Encoder(num_layers, d_model, num_heads, dff, maximum_position_encoding, embed_size_dict, rate)\n",
        "    self.decoder = Decoder(num_layers, d_model, num_heads, dff, maximum_position_encoding, embed_size_dict, rate)\n",
        "    \n",
        "    self.out = tf.keras.layers.Dense(1, activation=\"sigmoid\")\n",
        "\n",
        "  def call(self, x, training):\n",
        "  \n",
        "    look_ahead_mask = create_look_ahead_mask(SEQ_LEN)\n",
        "    \n",
        "    # encoder\n",
        "    enc_input = x[:, :SEQ_LEN, :]\n",
        "    enc_output = self.encoder(enc_input, training=training, mask=look_ahead_mask)\n",
        "\n",
        "    # decoder\n",
        "    dec_input = x[:, 1:, :]\n",
        "    dec_output, attention_weights = self.decoder(dec_input, enc_output, training=training, look_ahead_mask=look_ahead_mask)\n",
        "\n",
        "    out = self.out(dec_output)\n",
        "    return out # [batch_size, input_seq_len, 1]\n"
      ],
      "execution_count": 62,
      "outputs": []
    },
    {
      "cell_type": "markdown",
      "metadata": {
        "id": "SFiVa3cKN4E_"
      },
      "source": [
        "###### Embedding Sizes"
      ]
    },
    {
      "cell_type": "code",
      "metadata": {
        "id": "0xU0IaYQX_XG"
      },
      "source": [
        "embed_sizes = pickle.loads(tf.io.read_file(DATA_PATH + \"/emb_sz.pkl\").numpy())"
      ],
      "execution_count": 63,
      "outputs": []
    },
    {
      "cell_type": "code",
      "metadata": {
        "colab": {
          "base_uri": "https://localhost:8080/"
        },
        "id": "sfN7FrvjY02x",
        "outputId": "e3beb236-55ce-4cce-9e0a-1a168bb72d6f"
      },
      "source": [
        "embed_sizes"
      ],
      "execution_count": 64,
      "outputs": [
        {
          "output_type": "execute_result",
          "data": {
            "text/plain": [
              "{'answered_correctly': 5,\n",
              " 'content_id': 13525,\n",
              " 'had_explanation': 5,\n",
              " 'part': 10,\n",
              " 'tags': 190,\n",
              " 'task_container_id': 10002}"
            ]
          },
          "metadata": {
            "tags": []
          },
          "execution_count": 64
        }
      ]
    },
    {
      "cell_type": "code",
      "metadata": {
        "id": "nGZvmPR2UkH9"
      },
      "source": [
        "experiment_config[\"model_args\"].update({\"embed_sizes\": embed_sizes})"
      ],
      "execution_count": 65,
      "outputs": []
    },
    {
      "cell_type": "code",
      "metadata": {
        "id": "5VOLk9rgXo5X",
        "outputId": "65e3090c-f427-4d90-b05c-df2117dc5fb2",
        "colab": {
          "base_uri": "https://localhost:8080/"
        }
      },
      "source": [
        "experiment_config"
      ],
      "execution_count": 66,
      "outputs": [
        {
          "output_type": "execute_result",
          "data": {
            "text/plain": [
              "{'dataset_args': {'batch_size': 256,\n",
              "  'fold': 1,\n",
              "  'folds': 10,\n",
              "  'seq_len': 128,\n",
              "  'tfrec_gcs_path': 'gs://kds-9c9a89c1a0d17bcb15230bb2e47c4641386843a62d12638c765e35cb',\n",
              "  'train_folds': '[0, 1, 2, 3, 4, 5, 6, 7, 10, 11, 12, 13, 14, 15, 16, 17, 18, 19, 20, 21, 22, 23, 24, 26, 27, 28, 29, 31]',\n",
              "  'valid_folds': '[8, 9, 25, 30]'},\n",
              " 'env_args': {'is_kaggle': False, 'upload_model_to_kaggle': False},\n",
              " 'model_args': {'d_model': 128,\n",
              "  'dff': 1024,\n",
              "  'embed_sizes': {'answered_correctly': 5,\n",
              "   'content_id': 13525,\n",
              "   'had_explanation': 5,\n",
              "   'part': 10,\n",
              "   'tags': 190,\n",
              "   'task_container_id': 10002},\n",
              "  'num_heads': 8,\n",
              "  'num_layers': 2},\n",
              " 'training_args': {'epochs': 30}}"
            ]
          },
          "metadata": {
            "tags": []
          },
          "execution_count": 66
        }
      ]
    },
    {
      "cell_type": "code",
      "metadata": {
        "id": "xWvXJsP3Y2Bt"
      },
      "source": [
        "with strategy.scope():\n",
        "  model = TransformerSeq2SeqClassifier(\n",
        "      num_layers=experiment_config[\"model_args\"][\"num_layers\"],\n",
        "      d_model=experiment_config[\"model_args\"][\"d_model\"],\n",
        "      num_heads=experiment_config[\"model_args\"][\"num_heads\"],\n",
        "      dff=experiment_config[\"model_args\"][\"dff\"],\n",
        "      maximum_position_encoding=SEQ_LEN,\n",
        "      embed_size_dict=embed_sizes\n",
        "  )"
      ],
      "execution_count": 67,
      "outputs": []
    },
    {
      "cell_type": "code",
      "metadata": {
        "id": "givnKZG-ar9N",
        "colab": {
          "base_uri": "https://localhost:8080/"
        },
        "outputId": "cd663fd3-2994-4644-b7d1-5cd2b9b55624"
      },
      "source": [
        "for xb, yb, mb in dataset.take(1):\n",
        "  print(xb.shape, yb.shape, mb.shape)"
      ],
      "execution_count": 68,
      "outputs": [
        {
          "output_type": "stream",
          "text": [
            "(256, 129, 197) (256, 128, 1) (256, 128, 1)\n"
          ],
          "name": "stdout"
        }
      ]
    },
    {
      "cell_type": "code",
      "metadata": {
        "id": "ubeynQDIa3V_"
      },
      "source": [
        "with strategy.scope():\r\n",
        "  y_pred = model(xb, training=False)"
      ],
      "execution_count": 69,
      "outputs": []
    },
    {
      "cell_type": "code",
      "metadata": {
        "colab": {
          "base_uri": "https://localhost:8080/"
        },
        "id": "zcjFuHPZk8fa",
        "outputId": "06601c6e-1dc4-4fa8-b87a-abd2d96a3347"
      },
      "source": [
        "y_pred.shape"
      ],
      "execution_count": 70,
      "outputs": [
        {
          "output_type": "execute_result",
          "data": {
            "text/plain": [
              "TensorShape([256, 128, 1])"
            ]
          },
          "metadata": {
            "tags": []
          },
          "execution_count": 70
        }
      ]
    },
    {
      "cell_type": "markdown",
      "metadata": {
        "id": "JCYG-IobCINv"
      },
      "source": [
        "#### Training"
      ]
    },
    {
      "cell_type": "code",
      "metadata": {
        "id": "hcWnSd8TpiZi"
      },
      "source": [
        "class CustomAUC(keras.metrics.Metric):\r\n",
        "\r\n",
        "  def __init__(self, **kwargs):\r\n",
        "    super().__init__(**kwargs)\r\n",
        "\r\n",
        "    self.auc = keras.metrics.AUC()\r\n",
        "\r\n",
        "  def update_state(self, y_true, y_pred, sample_weight):\r\n",
        "\r\n",
        "    self.auc.update_state(y_true, y_pred, sample_weight)\r\n",
        "\r\n",
        "  def result(self):\r\n",
        "    return self.auc.result()\r\n",
        "\r\n",
        "  def reset_states(self):\r\n",
        "    return self.auc.reset_states()\r\n",
        "\r\n",
        "  def get_config(self):\r\n",
        "    return self.auc.get_config()\r\n",
        "\r\n",
        "  @property\r\n",
        "  def thresholds(self):\r\n",
        "    return self.auc.thresholds"
      ],
      "execution_count": 71,
      "outputs": []
    },
    {
      "cell_type": "code",
      "metadata": {
        "id": "CvlTpfOyxEHa"
      },
      "source": [
        "# Just subclassing Loss, doesnt give us the power how to weight the sample losses.\r\n",
        "# Hence re-implementing the __call__ method\r\n",
        "class MaskedBCELoss(keras.losses.Loss):\r\n",
        "  def __init__(self, **kwargs):\r\n",
        "    super().__init__(**kwargs)\r\n",
        "\r\n",
        "    self.bce = keras.losses.BinaryCrossentropy(reduction=keras.losses.Reduction.NONE)\r\n",
        "\r\n",
        "  def call(self, y_true, y_pred, sample_weight):\r\n",
        "\r\n",
        "    normal_bce_loss = self.bce(y_true, y_pred, sample_weight) # gives 0 where masked.\r\n",
        "\r\n",
        "    # count # of non masked entries in the batch\r\n",
        "    unmasked_count = tf.math.reduce_sum(tf.cast(tf.math.not_equal(normal_bce_loss, 0), tf.float32))\r\n",
        "\r\n",
        "    # sum the unmasked entries.\r\n",
        "    unmasked_sum = tf.math.reduce_sum(normal_bce_loss)\r\n",
        "  \r\n",
        "    average_loss = tf.math.divide(unmasked_sum, unmasked_count)\r\n",
        "\r\n",
        "    return average_loss\r\n",
        "\r\n",
        "  def __call__(self, y_true, y_pred, sample_weight):\r\n",
        "\r\n",
        "    graph_ctx = tf_utils.graph_context_for_symbolic_tensors(\r\n",
        "        y_true, y_pred, sample_weight)\r\n",
        "    with K.name_scope(self._name_scope), graph_ctx:\r\n",
        "      ag_call = autograph.tf_convert(self.call, ag_ctx.control_status_ctx())\r\n",
        "      losses = ag_call(y_true, y_pred, sample_weight)\r\n",
        "      return losses\r\n"
      ],
      "execution_count": 72,
      "outputs": []
    },
    {
      "cell_type": "code",
      "metadata": {
        "id": "1_Q_LtMP58mr",
        "colab": {
          "base_uri": "https://localhost:8080/"
        },
        "outputId": "aa0b3b33-b01f-4a15-c245-de33dc3447d7"
      },
      "source": [
        "loss = MaskedBCELoss()\r\n",
        "loss(yb, y_pred, mb)"
      ],
      "execution_count": 73,
      "outputs": [
        {
          "output_type": "execute_result",
          "data": {
            "text/plain": [
              "<tf.Tensor: shape=(), dtype=float32, numpy=0.7587126>"
            ]
          },
          "metadata": {
            "tags": []
          },
          "execution_count": 73
        }
      ]
    },
    {
      "cell_type": "code",
      "metadata": {
        "id": "go7VdsP2132B"
      },
      "source": [
        "class CustomSchedule(tf.keras.optimizers.schedules.LearningRateSchedule):\r\n",
        "  def __init__(self, d_model, warmup_steps=4000):\r\n",
        "    super(CustomSchedule, self).__init__()\r\n",
        "\r\n",
        "    self.d_model = d_model\r\n",
        "    self.d_model = tf.cast(self.d_model, tf.float32)\r\n",
        "\r\n",
        "    self.warmup_steps = warmup_steps\r\n",
        "\r\n",
        "  def __call__(self, step):\r\n",
        "    arg1 = tf.math.rsqrt(step)\r\n",
        "    arg2 = step * (self.warmup_steps ** -1.5)\r\n",
        "\r\n",
        "    return tf.math.rsqrt(self.d_model) * tf.math.minimum(arg1, arg2)"
      ],
      "execution_count": 74,
      "outputs": []
    },
    {
      "cell_type": "code",
      "metadata": {
        "id": "NOhUhp9OmsjJ"
      },
      "source": [
        "with strategy.scope():\n",
        "  learning_rate = CustomSchedule(experiment_config[\"model_args\"][\"d_model\"])\n",
        "  optimizer = keras.optimizers.Adam(learning_rate, beta_1=0.9, beta_2=0.98, epsilon=1e-9)\n",
        "  # loss = keras.losses.BinaryCrossentropy()\n",
        "  loss = MaskedBCELoss()\n",
        "  reduce_lr_cb = tf.keras.callbacks.ReduceLROnPlateau(monitor=\"val_loss\", factor=0.5, patience=4, min_lr=1e-7, verbose=1) # cannot be used with custom scheduler\n",
        "  model_checkpoint_cb = tf.keras.callbacks.ModelCheckpoint(\n",
        "    filepath=\"model/best-model.h5\",\n",
        "    save_weights_only=True,\n",
        "    monitor='val_loss',\n",
        "    mode='min',\n",
        "    save_best_only=True)\n",
        "  wandb_cb = [WandbCallback(monitor=\"val_loss\", mode=\"min\", save_weights_only=True, verbose=1)]"
      ],
      "execution_count": 75,
      "outputs": []
    },
    {
      "cell_type": "code",
      "metadata": {
        "id": "zCXEmmaUVIVh"
      },
      "source": [
        "# update the wandb config\r\n",
        "wandb.config.update(experiment_config)"
      ],
      "execution_count": 77,
      "outputs": []
    },
    {
      "cell_type": "code",
      "metadata": {
        "id": "Mo7o34xVoeFc"
      },
      "source": [
        "with strategy.scope():\n",
        "  model.compile(loss=loss, optimizer=optimizer, metrics=[keras.metrics.AUC()]) #, weighted_metrics=[CustomAUC()]) # \"weighted_metrics\" not supported on TPU with tf.data"
      ],
      "execution_count": 78,
      "outputs": []
    },
    {
      "cell_type": "code",
      "metadata": {
        "id": "DdpViganz2pH"
      },
      "source": [
        "## OVERFIT SINGLE BATCH\n",
        "# with strategy.scope():\n",
        "#   x, y, mask = next(iter(dataset.take(1))) # cannot just use take(), cause that return different batch everytime\n",
        "#   print(x.shape, y.shape, mask.shape)\n",
        "#   model.fit(x, y, epochs=100, sample_weight=mask)"
      ],
      "execution_count": 79,
      "outputs": []
    },
    {
      "cell_type": "code",
      "metadata": {
        "id": "NEAl6-FkbGOW"
      },
      "source": [
        "!mkdir model"
      ],
      "execution_count": 80,
      "outputs": []
    },
    {
      "cell_type": "code",
      "metadata": {
        "id": "54Lfz06ApMcJ",
        "colab": {
          "base_uri": "https://localhost:8080/"
        },
        "outputId": "34aab6ec-e5a8-421a-da8c-e4fd0d1318ec"
      },
      "source": [
        "with strategy.scope():\n",
        "  history = model.fit(dataset, validation_data=valid_dataset, epochs=experiment_config[\"training_args\"][\"epochs\"], callbacks=[model_checkpoint_cb, wandb_cb])"
      ],
      "execution_count": null,
      "outputs": [
        {
          "output_type": "stream",
          "text": [
            "Epoch 1/30\n",
            "1345/1345 [==============================] - 142s 77ms/step - loss: 0.6643 - auc: 0.4528 - val_loss: 0.5835 - val_auc: 0.7035\n",
            "Epoch 00000: val_loss improved from inf to 0.58347, saving model to /content/wandb/run-20201229_115723-28ffc9m8/files/model-best.h5\n",
            "Epoch 2/30\n",
            "1045/1345 [======================>.......] - ETA: 16s - loss: 0.5869 - auc: 0.6812"
          ],
          "name": "stdout"
        }
      ]
    },
    {
      "cell_type": "markdown",
      "metadata": {
        "id": "lKZXGWf_t8gt"
      },
      "source": [
        "#### Validation - Latest Model"
      ]
    },
    {
      "cell_type": "code",
      "metadata": {
        "id": "X2YSjqrXt4lL",
        "colab": {
          "base_uri": "https://localhost:8080/"
        },
        "outputId": "730c1672-2ca1-4db3-c743-e478c5a95723"
      },
      "source": [
        "with strategy.scope():\r\n",
        "  metric = keras.metrics.AUC()\r\n",
        "\r\n",
        "  for valid_xb, valid_yb, valid_mb in valid_dataset:\r\n",
        "    valid_y_pred = model(valid_xb, training=False)\r\n",
        "    metric.update_state(valid_yb, valid_y_pred, valid_mb)\r\n",
        "\r\n",
        "metric.result().numpy()"
      ],
      "execution_count": 73,
      "outputs": [
        {
          "output_type": "execute_result",
          "data": {
            "text/plain": [
              "0.73290896"
            ]
          },
          "metadata": {
            "tags": []
          },
          "execution_count": 73
        }
      ]
    },
    {
      "cell_type": "markdown",
      "metadata": {
        "id": "V03flqmlb0ya"
      },
      "source": [
        "#### Validation - Best Model"
      ]
    },
    {
      "cell_type": "code",
      "metadata": {
        "id": "xrWT0dtGb15Z",
        "colab": {
          "base_uri": "https://localhost:8080/"
        },
        "outputId": "c45de7b9-d027-4f6a-99d9-fb2368d79afa"
      },
      "source": [
        "with strategy.scope():\r\n",
        "  new_model = TransformerSeq2SeqClassifier(\r\n",
        "        num_layers=experiment_config[\"model_args\"][\"num_layers\"],\r\n",
        "        d_model=experiment_config[\"model_args\"][\"d_model\"],\r\n",
        "        num_heads=experiment_config[\"model_args\"][\"num_heads\"],\r\n",
        "        dff=experiment_config[\"model_args\"][\"dff\"],\r\n",
        "        maximum_position_encoding=SEQ_LEN,\r\n",
        "        embed_size_dict=embed_sizes\r\n",
        "    )\r\n",
        "  new_model.build(input_shape=(128, SEQ_LEN+1, 197)) # input_shape - [batch_size, seq_len, features]\r\n",
        "  new_model.summary()"
      ],
      "execution_count": 74,
      "outputs": [
        {
          "output_type": "stream",
          "text": [
            "Model: \"transformer_seq2seq_classifier_1\"\n",
            "_________________________________________________________________\n",
            "Layer (type)                 Output Shape              Param #   \n",
            "=================================================================\n",
            "encoder_1 (Encoder)          multiple                  16357888  \n",
            "_________________________________________________________________\n",
            "decoder_1 (Decoder)          multiple                  18458624  \n",
            "_________________________________________________________________\n",
            "dense_65 (Dense)             multiple                  513       \n",
            "=================================================================\n",
            "Total params: 34,817,025\n",
            "Trainable params: 34,817,025\n",
            "Non-trainable params: 0\n",
            "_________________________________________________________________\n"
          ],
          "name": "stdout"
        }
      ]
    },
    {
      "cell_type": "code",
      "metadata": {
        "id": "DhiK_llFb5Nu"
      },
      "source": [
        "new_model.load_weights(\"model/best-model.h5\")"
      ],
      "execution_count": 75,
      "outputs": []
    },
    {
      "cell_type": "code",
      "metadata": {
        "id": "zLHwaHDub91B",
        "colab": {
          "base_uri": "https://localhost:8080/"
        },
        "outputId": "1514076e-763f-4aec-cf69-926678b8ffc5"
      },
      "source": [
        "with strategy.scope():\r\n",
        "  metric = keras.metrics.AUC()\r\n",
        "\r\n",
        "  for valid_xb, valid_yb, valid_mb in valid_dataset:\r\n",
        "    valid_y_pred = new_model(valid_xb, training=False)\r\n",
        "    metric.update_state(valid_yb, valid_y_pred, valid_mb)\r\n",
        "\r\n",
        "auc = metric.result().numpy()\r\n",
        "auc"
      ],
      "execution_count": 76,
      "outputs": [
        {
          "output_type": "execute_result",
          "data": {
            "text/plain": [
              "0.76247984"
            ]
          },
          "metadata": {
            "tags": []
          },
          "execution_count": 76
        }
      ]
    },
    {
      "cell_type": "code",
      "metadata": {
        "id": "XB_XBPoaAEEe"
      },
      "source": [
        "wandb.log({\"best_model_auc\": auc})"
      ],
      "execution_count": 77,
      "outputs": []
    },
    {
      "cell_type": "code",
      "metadata": {
        "id": "ykJxj_Muynn3",
        "colab": {
          "base_uri": "https://localhost:8080/",
          "height": 684,
          "referenced_widgets": [
            "4abbae20d6664496bb2547e113cbd633",
            "5583d8441add4bac8e19ae2f56072560",
            "b506b0ebd82f4a41912018c9c49f50bd",
            "587c260c93ee4396b265f495b19b1fec",
            "c6b2b9b628d440bc93c72a8af9b41f57",
            "761742e4f97f4d858277f96f9ac9b4c1",
            "d06a1c242a7c4cbdbf2bba36890cdd80",
            "a9ce26275b72477884ad0f5cffea401f"
          ]
        },
        "outputId": "e570cbe1-9903-48f4-909e-4c5985781d84"
      },
      "source": [
        "wandb_run.finish()"
      ],
      "execution_count": 78,
      "outputs": [
        {
          "output_type": "display_data",
          "data": {
            "text/html": [
              "<br/>Waiting for W&B process to finish, PID 238<br/>Program ended successfully."
            ],
            "text/plain": [
              "<IPython.core.display.HTML object>"
            ]
          },
          "metadata": {
            "tags": []
          }
        },
        {
          "output_type": "display_data",
          "data": {
            "application/vnd.jupyter.widget-view+json": {
              "model_id": "4abbae20d6664496bb2547e113cbd633",
              "version_minor": 0,
              "version_major": 2
            },
            "text/plain": [
              "VBox(children=(Label(value=' 132.93MB of 132.93MB uploaded (0.00MB deduped)\\r'), FloatProgress(value=1.0, max=…"
            ]
          },
          "metadata": {
            "tags": []
          }
        },
        {
          "output_type": "display_data",
          "data": {
            "text/html": [
              "Find user logs for this run at: <code>/content/wandb/run-20201229_102358-3k2sua20/logs/debug.log</code>"
            ],
            "text/plain": [
              "<IPython.core.display.HTML object>"
            ]
          },
          "metadata": {
            "tags": []
          }
        },
        {
          "output_type": "display_data",
          "data": {
            "text/html": [
              "Find internal logs for this run at: <code>/content/wandb/run-20201229_102358-3k2sua20/logs/debug-internal.log</code>"
            ],
            "text/plain": [
              "<IPython.core.display.HTML object>"
            ]
          },
          "metadata": {
            "tags": []
          }
        },
        {
          "output_type": "display_data",
          "data": {
            "text/html": [
              "<h3>Run summary:</h3><br/><style>\n",
              "    table.wandb td:nth-child(1) { padding: 0 10px; text-align: right }\n",
              "    </style><table class=\"wandb\">\n",
              "<tr><td>epoch</td><td>29</td></tr><tr><td>loss</td><td>0.5525</td></tr><tr><td>auc</td><td>0.66381</td></tr><tr><td>val_loss</td><td>0.61005</td></tr><tr><td>val_auc</td><td>0.53874</td></tr><tr><td>_step</td><td>30</td></tr><tr><td>_runtime</td><td>4911</td></tr><tr><td>_timestamp</td><td>1609242350</td></tr><tr><td>best_val_loss</td><td>0.56383</td></tr><tr><td>best_epoch</td><td>7</td></tr><tr><td>best_model_auc</td><td>0.76248</td></tr></table>"
            ],
            "text/plain": [
              "<IPython.core.display.HTML object>"
            ]
          },
          "metadata": {
            "tags": []
          }
        },
        {
          "output_type": "display_data",
          "data": {
            "text/html": [
              "<h3>Run history:</h3><br/><style>\n",
              "    table.wandb td:nth-child(1) { padding: 0 10px; text-align: right }\n",
              "    </style><table class=\"wandb\">\n",
              "<tr><td>epoch</td><td>▁▁▁▂▂▂▂▃▃▃▃▄▄▄▄▅▅▅▅▆▆▆▆▇▇▇▇███</td></tr><tr><td>loss</td><td>█▄▃▃▂▂▂▂▂▂▂▂▂▂▁▁▁▁▁▁▁▁▁▁▁▁▁▁▁▁</td></tr><tr><td>auc</td><td>▁█▆▄▆▅▆▇▆▆▆▆▆▅▆▄▆▆▇▅▅▆▆▅▅▅▄▄▅▅</td></tr><tr><td>val_loss</td><td>▆▂▂▂▁▁▁▁▁▁▂▂▂▃▄▄▅▅▄▅▇▄▄▇▆▆▆██▇</td></tr><tr><td>val_auc</td><td>██▅▅▇▅▅▅▅▄▄▄▃▄▂▃▂▄▂▂▂▂▃▂▁▂▁▂▁▁</td></tr><tr><td>_step</td><td>▁▁▁▂▂▂▂▃▃▃▃▄▄▄▄▅▅▅▅▅▆▆▆▆▇▇▇▇███</td></tr><tr><td>_runtime</td><td>▁▁▁▂▂▂▂▂▃▃▃▃▃▄▄▄▄▅▅▅▅▅▆▆▆▆▆▇▇▇█</td></tr><tr><td>_timestamp</td><td>▁▁▁▂▂▂▂▂▃▃▃▃▃▄▄▄▄▅▅▅▅▅▆▆▆▆▆▇▇▇█</td></tr><tr><td>best_model_auc</td><td>▁</td></tr></table><br/>"
            ],
            "text/plain": [
              "<IPython.core.display.HTML object>"
            ]
          },
          "metadata": {
            "tags": []
          }
        },
        {
          "output_type": "display_data",
          "data": {
            "text/html": [
              "Synced 5 W&B file(s), 1 media file(s), 0 artifact file(s) and 2 other file(s)"
            ],
            "text/plain": [
              "<IPython.core.display.HTML object>"
            ]
          },
          "metadata": {
            "tags": []
          }
        },
        {
          "output_type": "display_data",
          "data": {
            "text/html": [
              "\n",
              "                    <br/>Synced <strong style=\"color:#cdcd00\">fine-butterfly-8</strong>: <a href=\"https://wandb.ai/nisarahamedk/kaggle-riid/runs/3k2sua20\" target=\"_blank\">https://wandb.ai/nisarahamedk/kaggle-riid/runs/3k2sua20</a><br/>\n",
              "                "
            ],
            "text/plain": [
              "<IPython.core.display.HTML object>"
            ]
          },
          "metadata": {
            "tags": []
          }
        }
      ]
    },
    {
      "cell_type": "code",
      "metadata": {
        "id": "RS2RWxD60rYm"
      },
      "source": [
        ""
      ],
      "execution_count": 78,
      "outputs": []
    },
    {
      "cell_type": "markdown",
      "metadata": {
        "id": "ZRE5KRsYboLs"
      },
      "source": [
        "#### Upload to kaggle"
      ]
    },
    {
      "cell_type": "code",
      "metadata": {
        "id": "-g4mBjLKpj2l"
      },
      "source": [
        "%%capture\r\n",
        "!pip install kaggle"
      ],
      "execution_count": null,
      "outputs": []
    },
    {
      "cell_type": "code",
      "metadata": {
        "colab": {
          "base_uri": "https://localhost:8080/"
        },
        "id": "4TzMag2xp6yh",
        "outputId": "87311ef8-a96d-484a-872e-5b04946fe109"
      },
      "source": [
        "from google.colab import drive\r\n",
        "drive.mount(\"/content/drive\")"
      ],
      "execution_count": null,
      "outputs": [
        {
          "output_type": "stream",
          "text": [
            "Mounted at /content/drive\n"
          ],
          "name": "stdout"
        }
      ]
    },
    {
      "cell_type": "code",
      "metadata": {
        "id": "gL2uzXQRqHVh"
      },
      "source": [
        "# Copy Kaggle API key\r\n",
        "!mkdir -p ~/.kaggle && cp /content/drive/My\\ Drive/Projects/Kaggle/api_key/kaggle.json ~/.kaggle/"
      ],
      "execution_count": null,
      "outputs": []
    },
    {
      "cell_type": "code",
      "metadata": {
        "colab": {
          "base_uri": "https://localhost:8080/"
        },
        "id": "AlMow9wMqX0z",
        "outputId": "11d582ac-2283-4d25-83a3-40d9413b745d"
      },
      "source": [
        "!kaggle datasets init -p model/"
      ],
      "execution_count": null,
      "outputs": [
        {
          "output_type": "stream",
          "text": [
            "Data package template written to: model/dataset-metadata.json\n"
          ],
          "name": "stdout"
        }
      ]
    },
    {
      "cell_type": "code",
      "metadata": {
        "id": "x1VKcZiiqhEB"
      },
      "source": [
        "# id and title only alphanumeric and \"-\"\r\n",
        "meta = \"\"\"\r\n",
        "{\r\n",
        "  \"licenses\": [\r\n",
        "    {\r\n",
        "      \"name\": \"CC0-1.0\"\r\n",
        "    }\r\n",
        "  ], \r\n",
        "  \"id\": \"nisarahamedk/riid-model-2\",\r\n",
        "  \"title\": \"riid-model-2\"\r\n",
        "}\r\n",
        "\"\"\"\r\n",
        "with open(\"model/dataset-metadata.json\", \"w\") as f:\r\n",
        "  f.write(meta)"
      ],
      "execution_count": null,
      "outputs": []
    },
    {
      "cell_type": "code",
      "metadata": {
        "colab": {
          "base_uri": "https://localhost:8080/"
        },
        "id": "YrN6Oj-7qsUy",
        "outputId": "6f79930a-908a-4e99-b2c0-9da13abd78ff"
      },
      "source": [
        "# create\r\n",
        "!kaggle datasets create -p model/ --dir-mode tar -u"
      ],
      "execution_count": null,
      "outputs": [
        {
          "output_type": "stream",
          "text": [
            "Starting upload for file best-model.h5\n",
            "Warning: Looks like you're using an outdated API Version, please consider updating (server 1.5.10 / client 1.5.4)\n",
            "100% 91.6M/91.6M [00:02<00:00, 35.9MB/s]\n",
            "Upload successful: best-model.h5 (92MB)\n",
            "Your public Dataset is being created. Please check progress at https://www.kaggle.com/nisarahamedk/riid-model-2\n"
          ],
          "name": "stdout"
        }
      ]
    }
  ]
}