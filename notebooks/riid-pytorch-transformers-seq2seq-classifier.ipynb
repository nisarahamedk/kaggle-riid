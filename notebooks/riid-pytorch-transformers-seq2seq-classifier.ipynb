{
  "nbformat": 4,
  "nbformat_minor": 0,
  "metadata": {
    "kernelspec": {
      "name": "python3",
      "display_name": "Python 3",
      "language": "python"
    },
    "language_info": {
      "name": "python",
      "version": "3.7.6",
      "mimetype": "text/x-python",
      "codemirror_mode": {
        "name": "ipython",
        "version": 3
      },
      "pygments_lexer": "ipython3",
      "nbconvert_exporter": "python",
      "file_extension": ".py"
    },
    "colab": {
      "name": "riid-pytorch-transformers.ipynb",
      "provenance": []
    }
  },
  "cells": [
    {
      "cell_type": "code",
      "metadata": {
        "id": "666nJ1-WWJLh"
      },
      "source": [
        "%%capture\n",
        "!pip install gcsfs"
      ],
      "execution_count": 2,
      "outputs": []
    },
    {
      "cell_type": "code",
      "metadata": {
        "trusted": true,
        "id": "18rL3yRXV5BA"
      },
      "source": [
        "import math\n",
        "\n",
        "import gcsfs\n",
        "import pandas as pd\n",
        "import numpy as np\n",
        "import torch\n",
        "import torch.nn as nn\n",
        "import torch.nn.functional as F\n",
        "from torch.utils.data import IterableDataset, DataLoader, ChainDataset\n",
        "from tqdm import tqdm, trange"
      ],
      "execution_count": 3,
      "outputs": []
    },
    {
      "cell_type": "markdown",
      "metadata": {
        "id": "epiDJGV6V5BA"
      },
      "source": [
        "### Read the dataset"
      ]
    },
    {
      "cell_type": "code",
      "metadata": {
        "trusted": true,
        "id": "LunXwcomV5BB"
      },
      "source": [
        "# DATA_PATH = \"/kaggle/input/riiid-test-answer-prediction/\"\n",
        "DATA_PATH = \"gs://kds-e80dfc3d272252bbf34c627d756f891826dab0c19f30ec0fc3ac1979\""
      ],
      "execution_count": 4,
      "outputs": []
    },
    {
      "cell_type": "code",
      "metadata": {
        "_uuid": "d629ff2d2480ee46fbb7e2d37f6b5fab8052498a",
        "_cell_guid": "79c7e3d0-c299-4dcb-8224-4455121ee9b0",
        "trusted": true,
        "id": "bI0E1uWRV5BB"
      },
      "source": [
        "dtypes_train = {\n",
        "    'row_id': 'int64',\n",
        "    'timestamp': 'int64',\n",
        "    'user_id': 'int32',\n",
        "    'content_id': 'int16',\n",
        "    'content_type_id': 'int8',\n",
        "    'task_container_id': 'int16',\n",
        "    'user_answer': 'int8',\n",
        "    'answered_correctly': 'int8',\n",
        "    'prior_question_elapsed_time': 'float32',\n",
        "    'prior_question_had_explanation': 'boolean'\n",
        "    }\n",
        "\n",
        "dtypes_questions = {\n",
        "    \"question_id\": \"\",\n",
        "    \"bundle_id\": \"\",\n",
        "    \"correct_answer\": \"\",\n",
        "    \"part\": \"\",\n",
        "    \"tags\": \"\",\n",
        "}\n",
        "\n",
        "dtypes_lectures = {\n",
        "    \"lecture_id\": \"\",\n",
        "    \"part\": \"\",\n",
        "    \"tag\": \"\",\n",
        "    \"type_of\": \"\",\n",
        "}"
      ],
      "execution_count": 5,
      "outputs": []
    },
    {
      "cell_type": "code",
      "metadata": {
        "trusted": true,
        "colab": {
          "base_uri": "https://localhost:8080/",
          "height": 197
        },
        "id": "EEOz3k6DV5BB",
        "outputId": "f2be3d63-ce3c-4061-b4fc-1a23c7efb949"
      },
      "source": [
        "train_df = pd.read_csv(DATA_PATH + \"/train.csv\", dtype=dtypes_train, nrows=1e6)\n",
        "train_df.head()"
      ],
      "execution_count": 6,
      "outputs": [
        {
          "output_type": "execute_result",
          "data": {
            "text/html": [
              "<div>\n",
              "<style scoped>\n",
              "    .dataframe tbody tr th:only-of-type {\n",
              "        vertical-align: middle;\n",
              "    }\n",
              "\n",
              "    .dataframe tbody tr th {\n",
              "        vertical-align: top;\n",
              "    }\n",
              "\n",
              "    .dataframe thead th {\n",
              "        text-align: right;\n",
              "    }\n",
              "</style>\n",
              "<table border=\"1\" class=\"dataframe\">\n",
              "  <thead>\n",
              "    <tr style=\"text-align: right;\">\n",
              "      <th></th>\n",
              "      <th>row_id</th>\n",
              "      <th>timestamp</th>\n",
              "      <th>user_id</th>\n",
              "      <th>content_id</th>\n",
              "      <th>content_type_id</th>\n",
              "      <th>task_container_id</th>\n",
              "      <th>user_answer</th>\n",
              "      <th>answered_correctly</th>\n",
              "      <th>prior_question_elapsed_time</th>\n",
              "      <th>prior_question_had_explanation</th>\n",
              "    </tr>\n",
              "  </thead>\n",
              "  <tbody>\n",
              "    <tr>\n",
              "      <th>0</th>\n",
              "      <td>0</td>\n",
              "      <td>0</td>\n",
              "      <td>115</td>\n",
              "      <td>5692</td>\n",
              "      <td>0</td>\n",
              "      <td>1</td>\n",
              "      <td>3</td>\n",
              "      <td>1</td>\n",
              "      <td>NaN</td>\n",
              "      <td>&lt;NA&gt;</td>\n",
              "    </tr>\n",
              "    <tr>\n",
              "      <th>1</th>\n",
              "      <td>1</td>\n",
              "      <td>56943</td>\n",
              "      <td>115</td>\n",
              "      <td>5716</td>\n",
              "      <td>0</td>\n",
              "      <td>2</td>\n",
              "      <td>2</td>\n",
              "      <td>1</td>\n",
              "      <td>37000.0</td>\n",
              "      <td>False</td>\n",
              "    </tr>\n",
              "    <tr>\n",
              "      <th>2</th>\n",
              "      <td>2</td>\n",
              "      <td>118363</td>\n",
              "      <td>115</td>\n",
              "      <td>128</td>\n",
              "      <td>0</td>\n",
              "      <td>0</td>\n",
              "      <td>0</td>\n",
              "      <td>1</td>\n",
              "      <td>55000.0</td>\n",
              "      <td>False</td>\n",
              "    </tr>\n",
              "    <tr>\n",
              "      <th>3</th>\n",
              "      <td>3</td>\n",
              "      <td>131167</td>\n",
              "      <td>115</td>\n",
              "      <td>7860</td>\n",
              "      <td>0</td>\n",
              "      <td>3</td>\n",
              "      <td>0</td>\n",
              "      <td>1</td>\n",
              "      <td>19000.0</td>\n",
              "      <td>False</td>\n",
              "    </tr>\n",
              "    <tr>\n",
              "      <th>4</th>\n",
              "      <td>4</td>\n",
              "      <td>137965</td>\n",
              "      <td>115</td>\n",
              "      <td>7922</td>\n",
              "      <td>0</td>\n",
              "      <td>4</td>\n",
              "      <td>1</td>\n",
              "      <td>1</td>\n",
              "      <td>11000.0</td>\n",
              "      <td>False</td>\n",
              "    </tr>\n",
              "  </tbody>\n",
              "</table>\n",
              "</div>"
            ],
            "text/plain": [
              "   row_id  ...  prior_question_had_explanation\n",
              "0       0  ...                            <NA>\n",
              "1       1  ...                           False\n",
              "2       2  ...                           False\n",
              "3       3  ...                           False\n",
              "4       4  ...                           False\n",
              "\n",
              "[5 rows x 10 columns]"
            ]
          },
          "metadata": {
            "tags": []
          },
          "execution_count": 6
        }
      ]
    },
    {
      "cell_type": "code",
      "metadata": {
        "trusted": true,
        "colab": {
          "base_uri": "https://localhost:8080/",
          "height": 197
        },
        "id": "DyfGayw_V5BC",
        "outputId": "6067428e-8a0c-48d5-c764-e3c44c68e8f1"
      },
      "source": [
        "questions_df = pd.read_csv(DATA_PATH + \"/questions.csv\")\n",
        "questions_df.head()"
      ],
      "execution_count": 7,
      "outputs": [
        {
          "output_type": "execute_result",
          "data": {
            "text/html": [
              "<div>\n",
              "<style scoped>\n",
              "    .dataframe tbody tr th:only-of-type {\n",
              "        vertical-align: middle;\n",
              "    }\n",
              "\n",
              "    .dataframe tbody tr th {\n",
              "        vertical-align: top;\n",
              "    }\n",
              "\n",
              "    .dataframe thead th {\n",
              "        text-align: right;\n",
              "    }\n",
              "</style>\n",
              "<table border=\"1\" class=\"dataframe\">\n",
              "  <thead>\n",
              "    <tr style=\"text-align: right;\">\n",
              "      <th></th>\n",
              "      <th>question_id</th>\n",
              "      <th>bundle_id</th>\n",
              "      <th>correct_answer</th>\n",
              "      <th>part</th>\n",
              "      <th>tags</th>\n",
              "    </tr>\n",
              "  </thead>\n",
              "  <tbody>\n",
              "    <tr>\n",
              "      <th>0</th>\n",
              "      <td>0</td>\n",
              "      <td>0</td>\n",
              "      <td>0</td>\n",
              "      <td>1</td>\n",
              "      <td>51 131 162 38</td>\n",
              "    </tr>\n",
              "    <tr>\n",
              "      <th>1</th>\n",
              "      <td>1</td>\n",
              "      <td>1</td>\n",
              "      <td>1</td>\n",
              "      <td>1</td>\n",
              "      <td>131 36 81</td>\n",
              "    </tr>\n",
              "    <tr>\n",
              "      <th>2</th>\n",
              "      <td>2</td>\n",
              "      <td>2</td>\n",
              "      <td>0</td>\n",
              "      <td>1</td>\n",
              "      <td>131 101 162 92</td>\n",
              "    </tr>\n",
              "    <tr>\n",
              "      <th>3</th>\n",
              "      <td>3</td>\n",
              "      <td>3</td>\n",
              "      <td>0</td>\n",
              "      <td>1</td>\n",
              "      <td>131 149 162 29</td>\n",
              "    </tr>\n",
              "    <tr>\n",
              "      <th>4</th>\n",
              "      <td>4</td>\n",
              "      <td>4</td>\n",
              "      <td>3</td>\n",
              "      <td>1</td>\n",
              "      <td>131 5 162 38</td>\n",
              "    </tr>\n",
              "  </tbody>\n",
              "</table>\n",
              "</div>"
            ],
            "text/plain": [
              "   question_id  bundle_id  correct_answer  part            tags\n",
              "0            0          0               0     1   51 131 162 38\n",
              "1            1          1               1     1       131 36 81\n",
              "2            2          2               0     1  131 101 162 92\n",
              "3            3          3               0     1  131 149 162 29\n",
              "4            4          4               3     1    131 5 162 38"
            ]
          },
          "metadata": {
            "tags": []
          },
          "execution_count": 7
        }
      ]
    },
    {
      "cell_type": "code",
      "metadata": {
        "trusted": true,
        "colab": {
          "base_uri": "https://localhost:8080/",
          "height": 197
        },
        "id": "oRPol9iZV5BD",
        "outputId": "76262c6d-71fb-4746-95c1-3722fff76741"
      },
      "source": [
        "lectures_df = pd.read_csv(DATA_PATH + \"/lectures.csv\")\n",
        "lectures_df.head()"
      ],
      "execution_count": 8,
      "outputs": [
        {
          "output_type": "execute_result",
          "data": {
            "text/html": [
              "<div>\n",
              "<style scoped>\n",
              "    .dataframe tbody tr th:only-of-type {\n",
              "        vertical-align: middle;\n",
              "    }\n",
              "\n",
              "    .dataframe tbody tr th {\n",
              "        vertical-align: top;\n",
              "    }\n",
              "\n",
              "    .dataframe thead th {\n",
              "        text-align: right;\n",
              "    }\n",
              "</style>\n",
              "<table border=\"1\" class=\"dataframe\">\n",
              "  <thead>\n",
              "    <tr style=\"text-align: right;\">\n",
              "      <th></th>\n",
              "      <th>lecture_id</th>\n",
              "      <th>tag</th>\n",
              "      <th>part</th>\n",
              "      <th>type_of</th>\n",
              "    </tr>\n",
              "  </thead>\n",
              "  <tbody>\n",
              "    <tr>\n",
              "      <th>0</th>\n",
              "      <td>89</td>\n",
              "      <td>159</td>\n",
              "      <td>5</td>\n",
              "      <td>concept</td>\n",
              "    </tr>\n",
              "    <tr>\n",
              "      <th>1</th>\n",
              "      <td>100</td>\n",
              "      <td>70</td>\n",
              "      <td>1</td>\n",
              "      <td>concept</td>\n",
              "    </tr>\n",
              "    <tr>\n",
              "      <th>2</th>\n",
              "      <td>185</td>\n",
              "      <td>45</td>\n",
              "      <td>6</td>\n",
              "      <td>concept</td>\n",
              "    </tr>\n",
              "    <tr>\n",
              "      <th>3</th>\n",
              "      <td>192</td>\n",
              "      <td>79</td>\n",
              "      <td>5</td>\n",
              "      <td>solving question</td>\n",
              "    </tr>\n",
              "    <tr>\n",
              "      <th>4</th>\n",
              "      <td>317</td>\n",
              "      <td>156</td>\n",
              "      <td>5</td>\n",
              "      <td>solving question</td>\n",
              "    </tr>\n",
              "  </tbody>\n",
              "</table>\n",
              "</div>"
            ],
            "text/plain": [
              "   lecture_id  tag  part           type_of\n",
              "0          89  159     5           concept\n",
              "1         100   70     1           concept\n",
              "2         185   45     6           concept\n",
              "3         192   79     5  solving question\n",
              "4         317  156     5  solving question"
            ]
          },
          "metadata": {
            "tags": []
          },
          "execution_count": 8
        }
      ]
    },
    {
      "cell_type": "code",
      "metadata": {
        "trusted": true,
        "id": "33-V3ekrV5BD"
      },
      "source": [
        "# removing lecture rows.\n",
        "train_df = train_df[train_df.answered_correctly != -1]"
      ],
      "execution_count": 9,
      "outputs": []
    },
    {
      "cell_type": "code",
      "metadata": {
        "trusted": true,
        "colab": {
          "base_uri": "https://localhost:8080/",
          "height": 317
        },
        "id": "eXZ6uVXmV5BD",
        "outputId": "ff6ec488-a778-4ed3-a4e3-3a9329a92d56"
      },
      "source": [
        "train_df = train_df.join(questions_df, on=\"content_id\")\n",
        "train_df.head()"
      ],
      "execution_count": 10,
      "outputs": [
        {
          "output_type": "execute_result",
          "data": {
            "text/html": [
              "<div>\n",
              "<style scoped>\n",
              "    .dataframe tbody tr th:only-of-type {\n",
              "        vertical-align: middle;\n",
              "    }\n",
              "\n",
              "    .dataframe tbody tr th {\n",
              "        vertical-align: top;\n",
              "    }\n",
              "\n",
              "    .dataframe thead th {\n",
              "        text-align: right;\n",
              "    }\n",
              "</style>\n",
              "<table border=\"1\" class=\"dataframe\">\n",
              "  <thead>\n",
              "    <tr style=\"text-align: right;\">\n",
              "      <th></th>\n",
              "      <th>row_id</th>\n",
              "      <th>timestamp</th>\n",
              "      <th>user_id</th>\n",
              "      <th>content_id</th>\n",
              "      <th>content_type_id</th>\n",
              "      <th>task_container_id</th>\n",
              "      <th>user_answer</th>\n",
              "      <th>answered_correctly</th>\n",
              "      <th>prior_question_elapsed_time</th>\n",
              "      <th>prior_question_had_explanation</th>\n",
              "      <th>question_id</th>\n",
              "      <th>bundle_id</th>\n",
              "      <th>correct_answer</th>\n",
              "      <th>part</th>\n",
              "      <th>tags</th>\n",
              "    </tr>\n",
              "  </thead>\n",
              "  <tbody>\n",
              "    <tr>\n",
              "      <th>0</th>\n",
              "      <td>0</td>\n",
              "      <td>0</td>\n",
              "      <td>115</td>\n",
              "      <td>5692</td>\n",
              "      <td>0</td>\n",
              "      <td>1</td>\n",
              "      <td>3</td>\n",
              "      <td>1</td>\n",
              "      <td>NaN</td>\n",
              "      <td>&lt;NA&gt;</td>\n",
              "      <td>5692</td>\n",
              "      <td>5692</td>\n",
              "      <td>3</td>\n",
              "      <td>5</td>\n",
              "      <td>151</td>\n",
              "    </tr>\n",
              "    <tr>\n",
              "      <th>1</th>\n",
              "      <td>1</td>\n",
              "      <td>56943</td>\n",
              "      <td>115</td>\n",
              "      <td>5716</td>\n",
              "      <td>0</td>\n",
              "      <td>2</td>\n",
              "      <td>2</td>\n",
              "      <td>1</td>\n",
              "      <td>37000.0</td>\n",
              "      <td>False</td>\n",
              "      <td>5716</td>\n",
              "      <td>5716</td>\n",
              "      <td>2</td>\n",
              "      <td>5</td>\n",
              "      <td>168</td>\n",
              "    </tr>\n",
              "    <tr>\n",
              "      <th>2</th>\n",
              "      <td>2</td>\n",
              "      <td>118363</td>\n",
              "      <td>115</td>\n",
              "      <td>128</td>\n",
              "      <td>0</td>\n",
              "      <td>0</td>\n",
              "      <td>0</td>\n",
              "      <td>1</td>\n",
              "      <td>55000.0</td>\n",
              "      <td>False</td>\n",
              "      <td>128</td>\n",
              "      <td>128</td>\n",
              "      <td>0</td>\n",
              "      <td>1</td>\n",
              "      <td>131 149 92</td>\n",
              "    </tr>\n",
              "    <tr>\n",
              "      <th>3</th>\n",
              "      <td>3</td>\n",
              "      <td>131167</td>\n",
              "      <td>115</td>\n",
              "      <td>7860</td>\n",
              "      <td>0</td>\n",
              "      <td>3</td>\n",
              "      <td>0</td>\n",
              "      <td>1</td>\n",
              "      <td>19000.0</td>\n",
              "      <td>False</td>\n",
              "      <td>7860</td>\n",
              "      <td>7860</td>\n",
              "      <td>0</td>\n",
              "      <td>1</td>\n",
              "      <td>131 104 81</td>\n",
              "    </tr>\n",
              "    <tr>\n",
              "      <th>4</th>\n",
              "      <td>4</td>\n",
              "      <td>137965</td>\n",
              "      <td>115</td>\n",
              "      <td>7922</td>\n",
              "      <td>0</td>\n",
              "      <td>4</td>\n",
              "      <td>1</td>\n",
              "      <td>1</td>\n",
              "      <td>11000.0</td>\n",
              "      <td>False</td>\n",
              "      <td>7922</td>\n",
              "      <td>7922</td>\n",
              "      <td>1</td>\n",
              "      <td>1</td>\n",
              "      <td>131 149 92</td>\n",
              "    </tr>\n",
              "  </tbody>\n",
              "</table>\n",
              "</div>"
            ],
            "text/plain": [
              "   row_id  timestamp  user_id  ...  correct_answer  part        tags\n",
              "0       0          0      115  ...               3     5         151\n",
              "1       1      56943      115  ...               2     5         168\n",
              "2       2     118363      115  ...               0     1  131 149 92\n",
              "3       3     131167      115  ...               0     1  131 104 81\n",
              "4       4     137965      115  ...               1     1  131 149 92\n",
              "\n",
              "[5 rows x 15 columns]"
            ]
          },
          "metadata": {
            "tags": []
          },
          "execution_count": 10
        }
      ]
    },
    {
      "cell_type": "code",
      "metadata": {
        "trusted": true,
        "colab": {
          "base_uri": "https://localhost:8080/",
          "height": 197
        },
        "id": "hBAI5pHMV5BD",
        "outputId": "6b9f84f1-3600-4a9d-b595-728d572e4507"
      },
      "source": [
        "drop_cols = [\n",
        "             \"row_id\", \n",
        "             \"timestamp\", \n",
        "             \"content_type_id\", \n",
        "             \"user_answer\", \n",
        "             \"prior_question_had_explanation\", \n",
        "             \"question_id\", \n",
        "             \"bundle_id\", \n",
        "             \"correct_answer\", \n",
        "             \"tags\"\n",
        "             ]\n",
        "train_df = train_df.drop(drop_cols, axis=1)\n",
        "train_df.head()"
      ],
      "execution_count": 11,
      "outputs": [
        {
          "output_type": "execute_result",
          "data": {
            "text/html": [
              "<div>\n",
              "<style scoped>\n",
              "    .dataframe tbody tr th:only-of-type {\n",
              "        vertical-align: middle;\n",
              "    }\n",
              "\n",
              "    .dataframe tbody tr th {\n",
              "        vertical-align: top;\n",
              "    }\n",
              "\n",
              "    .dataframe thead th {\n",
              "        text-align: right;\n",
              "    }\n",
              "</style>\n",
              "<table border=\"1\" class=\"dataframe\">\n",
              "  <thead>\n",
              "    <tr style=\"text-align: right;\">\n",
              "      <th></th>\n",
              "      <th>user_id</th>\n",
              "      <th>content_id</th>\n",
              "      <th>task_container_id</th>\n",
              "      <th>answered_correctly</th>\n",
              "      <th>prior_question_elapsed_time</th>\n",
              "      <th>part</th>\n",
              "    </tr>\n",
              "  </thead>\n",
              "  <tbody>\n",
              "    <tr>\n",
              "      <th>0</th>\n",
              "      <td>115</td>\n",
              "      <td>5692</td>\n",
              "      <td>1</td>\n",
              "      <td>1</td>\n",
              "      <td>NaN</td>\n",
              "      <td>5</td>\n",
              "    </tr>\n",
              "    <tr>\n",
              "      <th>1</th>\n",
              "      <td>115</td>\n",
              "      <td>5716</td>\n",
              "      <td>2</td>\n",
              "      <td>1</td>\n",
              "      <td>37000.0</td>\n",
              "      <td>5</td>\n",
              "    </tr>\n",
              "    <tr>\n",
              "      <th>2</th>\n",
              "      <td>115</td>\n",
              "      <td>128</td>\n",
              "      <td>0</td>\n",
              "      <td>1</td>\n",
              "      <td>55000.0</td>\n",
              "      <td>1</td>\n",
              "    </tr>\n",
              "    <tr>\n",
              "      <th>3</th>\n",
              "      <td>115</td>\n",
              "      <td>7860</td>\n",
              "      <td>3</td>\n",
              "      <td>1</td>\n",
              "      <td>19000.0</td>\n",
              "      <td>1</td>\n",
              "    </tr>\n",
              "    <tr>\n",
              "      <th>4</th>\n",
              "      <td>115</td>\n",
              "      <td>7922</td>\n",
              "      <td>4</td>\n",
              "      <td>1</td>\n",
              "      <td>11000.0</td>\n",
              "      <td>1</td>\n",
              "    </tr>\n",
              "  </tbody>\n",
              "</table>\n",
              "</div>"
            ],
            "text/plain": [
              "   user_id  content_id  ...  prior_question_elapsed_time  part\n",
              "0      115        5692  ...                          NaN     5\n",
              "1      115        5716  ...                      37000.0     5\n",
              "2      115         128  ...                      55000.0     1\n",
              "3      115        7860  ...                      19000.0     1\n",
              "4      115        7922  ...                      11000.0     1\n",
              "\n",
              "[5 rows x 6 columns]"
            ]
          },
          "metadata": {
            "tags": []
          },
          "execution_count": 11
        }
      ]
    },
    {
      "cell_type": "code",
      "metadata": {
        "trusted": true,
        "colab": {
          "base_uri": "https://localhost:8080/",
          "height": 197
        },
        "id": "4-DBlD76V5BD",
        "outputId": "64be2f30-0b54-4e9a-cc62-e974d63dfd9e"
      },
      "source": [
        "# 0 is used for padding, so increment 1\n",
        "indicator_cols = [\"content_id\", \"task_container_id\", \"part\"]\n",
        "for c in indicator_cols:\n",
        "  train_df[c] = train_df[c] + 1\n",
        "train_df.head()"
      ],
      "execution_count": 12,
      "outputs": [
        {
          "output_type": "execute_result",
          "data": {
            "text/html": [
              "<div>\n",
              "<style scoped>\n",
              "    .dataframe tbody tr th:only-of-type {\n",
              "        vertical-align: middle;\n",
              "    }\n",
              "\n",
              "    .dataframe tbody tr th {\n",
              "        vertical-align: top;\n",
              "    }\n",
              "\n",
              "    .dataframe thead th {\n",
              "        text-align: right;\n",
              "    }\n",
              "</style>\n",
              "<table border=\"1\" class=\"dataframe\">\n",
              "  <thead>\n",
              "    <tr style=\"text-align: right;\">\n",
              "      <th></th>\n",
              "      <th>user_id</th>\n",
              "      <th>content_id</th>\n",
              "      <th>task_container_id</th>\n",
              "      <th>answered_correctly</th>\n",
              "      <th>prior_question_elapsed_time</th>\n",
              "      <th>part</th>\n",
              "    </tr>\n",
              "  </thead>\n",
              "  <tbody>\n",
              "    <tr>\n",
              "      <th>0</th>\n",
              "      <td>115</td>\n",
              "      <td>5693</td>\n",
              "      <td>2</td>\n",
              "      <td>1</td>\n",
              "      <td>NaN</td>\n",
              "      <td>6</td>\n",
              "    </tr>\n",
              "    <tr>\n",
              "      <th>1</th>\n",
              "      <td>115</td>\n",
              "      <td>5717</td>\n",
              "      <td>3</td>\n",
              "      <td>1</td>\n",
              "      <td>37000.0</td>\n",
              "      <td>6</td>\n",
              "    </tr>\n",
              "    <tr>\n",
              "      <th>2</th>\n",
              "      <td>115</td>\n",
              "      <td>129</td>\n",
              "      <td>1</td>\n",
              "      <td>1</td>\n",
              "      <td>55000.0</td>\n",
              "      <td>2</td>\n",
              "    </tr>\n",
              "    <tr>\n",
              "      <th>3</th>\n",
              "      <td>115</td>\n",
              "      <td>7861</td>\n",
              "      <td>4</td>\n",
              "      <td>1</td>\n",
              "      <td>19000.0</td>\n",
              "      <td>2</td>\n",
              "    </tr>\n",
              "    <tr>\n",
              "      <th>4</th>\n",
              "      <td>115</td>\n",
              "      <td>7923</td>\n",
              "      <td>5</td>\n",
              "      <td>1</td>\n",
              "      <td>11000.0</td>\n",
              "      <td>2</td>\n",
              "    </tr>\n",
              "  </tbody>\n",
              "</table>\n",
              "</div>"
            ],
            "text/plain": [
              "   user_id  content_id  ...  prior_question_elapsed_time  part\n",
              "0      115        5693  ...                          NaN     6\n",
              "1      115        5717  ...                      37000.0     6\n",
              "2      115         129  ...                      55000.0     2\n",
              "3      115        7861  ...                      19000.0     2\n",
              "4      115        7923  ...                      11000.0     2\n",
              "\n",
              "[5 rows x 6 columns]"
            ]
          },
          "metadata": {
            "tags": []
          },
          "execution_count": 12
        }
      ]
    },
    {
      "cell_type": "code",
      "metadata": {
        "trusted": true,
        "colab": {
          "base_uri": "https://localhost:8080/",
          "height": 197
        },
        "id": "j2nEsBzAV5BD",
        "outputId": "2cefc5c9-f5a7-4f45-f97c-6008f4ef294f"
      },
      "source": [
        "# convert milliseconds to minutes.\n",
        "train_df['prior_question_elapsed_time'] = train_df[\"prior_question_elapsed_time\"].fillna(0).astype(np.float32) / 60000\n",
        "train_df.head()"
      ],
      "execution_count": 13,
      "outputs": [
        {
          "output_type": "execute_result",
          "data": {
            "text/html": [
              "<div>\n",
              "<style scoped>\n",
              "    .dataframe tbody tr th:only-of-type {\n",
              "        vertical-align: middle;\n",
              "    }\n",
              "\n",
              "    .dataframe tbody tr th {\n",
              "        vertical-align: top;\n",
              "    }\n",
              "\n",
              "    .dataframe thead th {\n",
              "        text-align: right;\n",
              "    }\n",
              "</style>\n",
              "<table border=\"1\" class=\"dataframe\">\n",
              "  <thead>\n",
              "    <tr style=\"text-align: right;\">\n",
              "      <th></th>\n",
              "      <th>user_id</th>\n",
              "      <th>content_id</th>\n",
              "      <th>task_container_id</th>\n",
              "      <th>answered_correctly</th>\n",
              "      <th>prior_question_elapsed_time</th>\n",
              "      <th>part</th>\n",
              "    </tr>\n",
              "  </thead>\n",
              "  <tbody>\n",
              "    <tr>\n",
              "      <th>0</th>\n",
              "      <td>115</td>\n",
              "      <td>5693</td>\n",
              "      <td>2</td>\n",
              "      <td>1</td>\n",
              "      <td>0.000000</td>\n",
              "      <td>6</td>\n",
              "    </tr>\n",
              "    <tr>\n",
              "      <th>1</th>\n",
              "      <td>115</td>\n",
              "      <td>5717</td>\n",
              "      <td>3</td>\n",
              "      <td>1</td>\n",
              "      <td>0.616667</td>\n",
              "      <td>6</td>\n",
              "    </tr>\n",
              "    <tr>\n",
              "      <th>2</th>\n",
              "      <td>115</td>\n",
              "      <td>129</td>\n",
              "      <td>1</td>\n",
              "      <td>1</td>\n",
              "      <td>0.916667</td>\n",
              "      <td>2</td>\n",
              "    </tr>\n",
              "    <tr>\n",
              "      <th>3</th>\n",
              "      <td>115</td>\n",
              "      <td>7861</td>\n",
              "      <td>4</td>\n",
              "      <td>1</td>\n",
              "      <td>0.316667</td>\n",
              "      <td>2</td>\n",
              "    </tr>\n",
              "    <tr>\n",
              "      <th>4</th>\n",
              "      <td>115</td>\n",
              "      <td>7923</td>\n",
              "      <td>5</td>\n",
              "      <td>1</td>\n",
              "      <td>0.183333</td>\n",
              "      <td>2</td>\n",
              "    </tr>\n",
              "  </tbody>\n",
              "</table>\n",
              "</div>"
            ],
            "text/plain": [
              "   user_id  content_id  ...  prior_question_elapsed_time  part\n",
              "0      115        5693  ...                     0.000000     6\n",
              "1      115        5717  ...                     0.616667     6\n",
              "2      115         129  ...                     0.916667     2\n",
              "3      115        7861  ...                     0.316667     2\n",
              "4      115        7923  ...                     0.183333     2\n",
              "\n",
              "[5 rows x 6 columns]"
            ]
          },
          "metadata": {
            "tags": []
          },
          "execution_count": 13
        }
      ]
    },
    {
      "cell_type": "code",
      "metadata": {
        "trusted": true,
        "colab": {
          "base_uri": "https://localhost:8080/"
        },
        "id": "gAu_YF9mV5BD",
        "outputId": "d1c4b0e2-7380-418e-85b6-3c889228631b"
      },
      "source": [
        "user_groups = train_df.groupby(\"user_id\")\n",
        "user_groups_dict = {uid: udf for uid, udf in user_groups}\n",
        "len(user_groups_dict)"
      ],
      "execution_count": 14,
      "outputs": [
        {
          "output_type": "execute_result",
          "data": {
            "text/plain": [
              "3824"
            ]
          },
          "metadata": {
            "tags": []
          },
          "execution_count": 14
        }
      ]
    },
    {
      "cell_type": "code",
      "metadata": {
        "id": "TA5sgy_Y8BOy",
        "outputId": "decd779a-232d-4cae-fc87-6bd054959fe0",
        "colab": {
          "base_uri": "https://localhost:8080/",
          "height": 227
        }
      },
      "source": [
        "# sort based on the # of interactions for a user\n",
        "sorted_user_groups = user_groups.count().sort_values(\"content_id\")\n",
        "sorted_user_groups.head()"
      ],
      "execution_count": 15,
      "outputs": [
        {
          "output_type": "execute_result",
          "data": {
            "text/html": [
              "<div>\n",
              "<style scoped>\n",
              "    .dataframe tbody tr th:only-of-type {\n",
              "        vertical-align: middle;\n",
              "    }\n",
              "\n",
              "    .dataframe tbody tr th {\n",
              "        vertical-align: top;\n",
              "    }\n",
              "\n",
              "    .dataframe thead th {\n",
              "        text-align: right;\n",
              "    }\n",
              "</style>\n",
              "<table border=\"1\" class=\"dataframe\">\n",
              "  <thead>\n",
              "    <tr style=\"text-align: right;\">\n",
              "      <th></th>\n",
              "      <th>content_id</th>\n",
              "      <th>task_container_id</th>\n",
              "      <th>answered_correctly</th>\n",
              "      <th>prior_question_elapsed_time</th>\n",
              "      <th>part</th>\n",
              "    </tr>\n",
              "    <tr>\n",
              "      <th>user_id</th>\n",
              "      <th></th>\n",
              "      <th></th>\n",
              "      <th></th>\n",
              "      <th></th>\n",
              "      <th></th>\n",
              "    </tr>\n",
              "  </thead>\n",
              "  <tbody>\n",
              "    <tr>\n",
              "      <th>19887248</th>\n",
              "      <td>1</td>\n",
              "      <td>1</td>\n",
              "      <td>1</td>\n",
              "      <td>1</td>\n",
              "      <td>1</td>\n",
              "    </tr>\n",
              "    <tr>\n",
              "      <th>1880240</th>\n",
              "      <td>1</td>\n",
              "      <td>1</td>\n",
              "      <td>1</td>\n",
              "      <td>1</td>\n",
              "      <td>1</td>\n",
              "    </tr>\n",
              "    <tr>\n",
              "      <th>15960740</th>\n",
              "      <td>2</td>\n",
              "      <td>2</td>\n",
              "      <td>2</td>\n",
              "      <td>2</td>\n",
              "      <td>2</td>\n",
              "    </tr>\n",
              "    <tr>\n",
              "      <th>2148001</th>\n",
              "      <td>2</td>\n",
              "      <td>2</td>\n",
              "      <td>2</td>\n",
              "      <td>2</td>\n",
              "      <td>2</td>\n",
              "    </tr>\n",
              "    <tr>\n",
              "      <th>1946295</th>\n",
              "      <td>3</td>\n",
              "      <td>3</td>\n",
              "      <td>3</td>\n",
              "      <td>3</td>\n",
              "      <td>3</td>\n",
              "    </tr>\n",
              "  </tbody>\n",
              "</table>\n",
              "</div>"
            ],
            "text/plain": [
              "          content_id  task_container_id  ...  prior_question_elapsed_time  part\n",
              "user_id                                  ...                                   \n",
              "19887248           1                  1  ...                            1     1\n",
              "1880240            1                  1  ...                            1     1\n",
              "15960740           2                  2  ...                            2     2\n",
              "2148001            2                  2  ...                            2     2\n",
              "1946295            3                  3  ...                            3     3\n",
              "\n",
              "[5 rows x 5 columns]"
            ]
          },
          "metadata": {
            "tags": []
          },
          "execution_count": 15
        }
      ]
    },
    {
      "cell_type": "code",
      "metadata": {
        "id": "9c28be4Y9JXv",
        "outputId": "79dfcb49-a2c7-4e31-c2b0-e9aa6d30f77c",
        "colab": {
          "base_uri": "https://localhost:8080/"
        }
      },
      "source": [
        "sorted_uids = sorted_user_groups.index\n",
        "sorted_uids"
      ],
      "execution_count": 16,
      "outputs": [
        {
          "output_type": "execute_result",
          "data": {
            "text/plain": [
              "Int64Index([19887248,  1880240, 15960740,  2148001,  1946295, 11050314,\n",
              "            12908124, 18249255, 15786147,  4280793,\n",
              "            ...\n",
              "            19489973,    24418, 15441391, 11610328,  3838215,  4421282,\n",
              "             9418512, 18122922,  1283420,  7171715],\n",
              "           dtype='int64', name='user_id', length=3824)"
            ]
          },
          "metadata": {
            "tags": []
          },
          "execution_count": 16
        }
      ]
    },
    {
      "cell_type": "markdown",
      "metadata": {
        "id": "7tMw6HjyV5BE"
      },
      "source": [
        "### Pytorch Iterable Dataset"
      ]
    },
    {
      "cell_type": "code",
      "metadata": {
        "trusted": true,
        "id": "7iklS-skV5BE"
      },
      "source": [
        "# just some stuff I ctrl C ctrl V from StackOverflow (with little changes)\n",
        "# [1,2,3,4] --- w = 2 --[[1,2], [2,3], [3,4]] but 2D to 3D\n",
        "def rolling_window(a, w):\n",
        "    s0, s1 = a.strides\n",
        "    m, n = a.shape\n",
        "    return np.lib.stride_tricks.as_strided(\n",
        "        a, \n",
        "        shape=(m-w+1, w, n), \n",
        "        strides=(s0, s0, s1)\n",
        "    )\n",
        "\n",
        "def make_timeseries(x, window_length):\n",
        "  \"\"\"\n",
        "  x - shape (seq_len, features)\n",
        "  \"\"\"\n",
        "  # pad a lot of 0s before so when we create windows, we will have appropriate padding.\n",
        "  x = np.pad(x, ((window_length-1, 0), (0, 0)), constant_values=0) # add padding to the first dimension\n",
        "  \n",
        "  # roll windows \n",
        "  x = rolling_window(x, window_length) # shape will become - (seq_len, window_length, features)\n",
        "\n",
        "  return x\n",
        "\n",
        "def add_features_to_user_df(user_df):\n",
        "\n",
        "  # shifted answered_correctly, SOS 3\n",
        "  user_df[\"answered_correctly\"] = user_df[\"answered_correctly\"].shift(fill_value=2) + 1\n",
        "\n",
        "  return user_df"
      ],
      "execution_count": 17,
      "outputs": []
    },
    {
      "cell_type": "markdown",
      "metadata": {
        "id": "y7RaQ1H9ozpY"
      },
      "source": [
        "#### Sequence to Sequence Dataset"
      ]
    },
    {
      "cell_type": "code",
      "metadata": {
        "id": "HttmylKTo5-Z"
      },
      "source": [
        "class RiidS2SDataset(IterableDataset):\n",
        "  def __init__(self, user_groups_dict, uids, seq_len=128, batch_size=32, n_batches=None):\n",
        "    super().__init__()\n",
        "    self.user_groups_dict = user_groups_dict\n",
        "    self.uids = uids\n",
        "    self.batch_size = batch_size\n",
        "    self.seq_len = seq_len\n",
        "    self.__len = None\n",
        "    self.n_batches = n_batches\n",
        "    if n_batches:\n",
        "      self.__len = n_batches\n",
        "\n",
        "  def __len__(self):\n",
        "    if not self.__len:\n",
        "      b = 0\n",
        "      for xb, yb in self:\n",
        "        b += 1\n",
        "      self.__len = b\n",
        "    return self.__len\n",
        "\n",
        "  def create_batch(self, xs, ys):\n",
        "    padded_xs, padded_ys = [], []\n",
        "    maxlen = max(len(x) for x in xs)\n",
        "    for i in range(len(xs)):\n",
        "      padded_xs.append(np.pad(xs[i], ((maxlen-len(xs[i]), 0), (0, 0)), constant_values=0))\n",
        "      padded_ys.append(np.pad(ys[i], (maxlen-len(ys[i]), 0), constant_values=0))\n",
        "    return padded_xs, padded_ys\n",
        "\n",
        "  def __iter__(self):\n",
        "    b = 0\n",
        "    xs, ys = [], []\n",
        "    for user_id in self.uids:\n",
        "      user_df = self.user_groups_dict[user_id].drop(columns=\"user_id\")\n",
        "      y = user_df[\"answered_correctly\"].to_numpy().copy()\n",
        "      x = add_features_to_user_df(user_df).values\n",
        "      if y.shape[0] < self.seq_len:\n",
        "        xs.append(x)\n",
        "        ys.append(y)\n",
        "        b += 1\n",
        "        if b == self.batch_size:\n",
        "            padded_xs, padded_ys = self.create_batch(xs, ys)\n",
        "            yield np.transpose(np.stack(padded_xs), (1, 0, 2)), np.stack(padded_ys) # reshape x to [seq_len, bs, n_features]\n",
        "            b = 0\n",
        "            xs, ys = [], []\n",
        "      else:\n",
        "        for i in range(0, y.shape[0], self.seq_len):\n",
        "          start, end = i, i + self.seq_len\n",
        "          if end > y.shape[0]:\n",
        "            xs.append(x[start:])\n",
        "            ys.append(y[start:])\n",
        "          else:\n",
        "            xs.append(x[start:end])\n",
        "            ys.append(y[start:end])\n",
        "          b += 1\n",
        "          if b == self.batch_size:\n",
        "            padded_xs, padded_ys = self.create_batch(xs, ys)\n",
        "            yield np.transpose(np.stack(padded_xs), (1, 0, 2)), np.stack(padded_ys) # reshape x to [seq_len, bs, n_features]\n",
        "            b = 0\n",
        "            xs, ys = [], []"
      ],
      "execution_count": 18,
      "outputs": []
    },
    {
      "cell_type": "code",
      "metadata": {
        "id": "iK8zJ_efpcaZ"
      },
      "source": [
        "riid_ds = RiidS2SDataset(user_groups_dict, sorted_uids, seq_len=128, batch_size=4)"
      ],
      "execution_count": 19,
      "outputs": []
    },
    {
      "cell_type": "code",
      "metadata": {
        "colab": {
          "base_uri": "https://localhost:8080/"
        },
        "id": "jBdAwQtnpjCZ",
        "outputId": "bd524532-4b23-4c85-815c-87a3b767cb6d"
      },
      "source": [
        "riid_ds_iter = iter(riid_ds)\n",
        "xb, yb = next(riid_ds_iter)\n",
        "xb.shape, yb.shape"
      ],
      "execution_count": 20,
      "outputs": [
        {
          "output_type": "execute_result",
          "data": {
            "text/plain": [
              "((2, 4, 5), (4, 2))"
            ]
          },
          "metadata": {
            "tags": []
          },
          "execution_count": 20
        }
      ]
    },
    {
      "cell_type": "markdown",
      "metadata": {
        "id": "u_PFczUc83ue"
      },
      "source": [
        "Check the first sample in the batch"
      ]
    },
    {
      "cell_type": "code",
      "metadata": {
        "colab": {
          "base_uri": "https://localhost:8080/"
        },
        "id": "jrZfcR-fp9hZ",
        "outputId": "05e79921-b641-4b09-c65a-b8beb2660c1d"
      },
      "source": [
        "xb[:, 0, :]"
      ],
      "execution_count": 21,
      "outputs": [
        {
          "output_type": "execute_result",
          "data": {
            "text/plain": [
              "array([[0.000e+00, 0.000e+00, 0.000e+00, 0.000e+00, 0.000e+00],\n",
              "       [6.369e+03, 1.000e+00, 3.000e+00, 0.000e+00, 6.000e+00]])"
            ]
          },
          "metadata": {
            "tags": []
          },
          "execution_count": 21
        }
      ]
    },
    {
      "cell_type": "code",
      "metadata": {
        "colab": {
          "base_uri": "https://localhost:8080/"
        },
        "id": "-uMdAEB3qLh9",
        "outputId": "7a6905b0-2767-436c-f6da-68b851f69447"
      },
      "source": [
        "yb[0, :]"
      ],
      "execution_count": 22,
      "outputs": [
        {
          "output_type": "execute_result",
          "data": {
            "text/plain": [
              "array([0, 0], dtype=int8)"
            ]
          },
          "metadata": {
            "tags": []
          },
          "execution_count": 22
        }
      ]
    },
    {
      "cell_type": "code",
      "metadata": {
        "id": "f0GeD6gK8UkM",
        "outputId": "77fb94c6-e6cc-4a3e-9779-ae28f6807e34",
        "colab": {
          "base_uri": "https://localhost:8080/"
        }
      },
      "source": [
        "sorted_uids[0]"
      ],
      "execution_count": 23,
      "outputs": [
        {
          "output_type": "execute_result",
          "data": {
            "text/plain": [
              "19887248"
            ]
          },
          "metadata": {
            "tags": []
          },
          "execution_count": 23
        }
      ]
    },
    {
      "cell_type": "code",
      "metadata": {
        "colab": {
          "base_uri": "https://localhost:8080/",
          "height": 77
        },
        "id": "fGiufHEUqONl",
        "outputId": "98dc24d2-3d86-424d-fb90-46964b066a34"
      },
      "source": [
        "train_df[train_df[\"user_id\"] == 19887248]"
      ],
      "execution_count": 24,
      "outputs": [
        {
          "output_type": "execute_result",
          "data": {
            "text/html": [
              "<div>\n",
              "<style scoped>\n",
              "    .dataframe tbody tr th:only-of-type {\n",
              "        vertical-align: middle;\n",
              "    }\n",
              "\n",
              "    .dataframe tbody tr th {\n",
              "        vertical-align: top;\n",
              "    }\n",
              "\n",
              "    .dataframe thead th {\n",
              "        text-align: right;\n",
              "    }\n",
              "</style>\n",
              "<table border=\"1\" class=\"dataframe\">\n",
              "  <thead>\n",
              "    <tr style=\"text-align: right;\">\n",
              "      <th></th>\n",
              "      <th>user_id</th>\n",
              "      <th>content_id</th>\n",
              "      <th>task_container_id</th>\n",
              "      <th>answered_correctly</th>\n",
              "      <th>prior_question_elapsed_time</th>\n",
              "      <th>part</th>\n",
              "    </tr>\n",
              "  </thead>\n",
              "  <tbody>\n",
              "    <tr>\n",
              "      <th>965193</th>\n",
              "      <td>19887248</td>\n",
              "      <td>6369</td>\n",
              "      <td>1</td>\n",
              "      <td>0</td>\n",
              "      <td>0.0</td>\n",
              "      <td>6</td>\n",
              "    </tr>\n",
              "  </tbody>\n",
              "</table>\n",
              "</div>"
            ],
            "text/plain": [
              "         user_id  content_id  ...  prior_question_elapsed_time  part\n",
              "965193  19887248        6369  ...                          0.0     6\n",
              "\n",
              "[1 rows x 6 columns]"
            ]
          },
          "metadata": {
            "tags": []
          },
          "execution_count": 24
        }
      ]
    },
    {
      "cell_type": "markdown",
      "metadata": {
        "id": "fLgbW9CR866K"
      },
      "source": [
        "Check the last sample in the batch"
      ]
    },
    {
      "cell_type": "code",
      "metadata": {
        "id": "hciNBd6r89xs",
        "outputId": "1bab45d7-2577-4fe1-d97e-c1b0287c7b3c",
        "colab": {
          "base_uri": "https://localhost:8080/"
        }
      },
      "source": [
        "xb[:, -1, :]"
      ],
      "execution_count": 25,
      "outputs": [
        {
          "output_type": "execute_result",
          "data": {
            "text/plain": [
              "array([[5.21400000e+03, 1.00000000e+00, 3.00000000e+00, 0.00000000e+00,\n",
              "        6.00000000e+00],\n",
              "       [9.32100000e+03, 2.00000000e+00, 2.00000000e+00, 3.49999994e-01,\n",
              "        6.00000000e+00]])"
            ]
          },
          "metadata": {
            "tags": []
          },
          "execution_count": 25
        }
      ]
    },
    {
      "cell_type": "code",
      "metadata": {
        "id": "62FatEG99EVT",
        "outputId": "e6e02512-64b7-4bec-e278-07416618524c",
        "colab": {
          "base_uri": "https://localhost:8080/"
        }
      },
      "source": [
        "yb[-1, :]"
      ],
      "execution_count": 26,
      "outputs": [
        {
          "output_type": "execute_result",
          "data": {
            "text/plain": [
              "array([1, 0], dtype=int8)"
            ]
          },
          "metadata": {
            "tags": []
          },
          "execution_count": 26
        }
      ]
    },
    {
      "cell_type": "code",
      "metadata": {
        "id": "MtYN_-6d9G8_",
        "outputId": "1afd6cd2-23fe-423f-c325-fc7ef3448076",
        "colab": {
          "base_uri": "https://localhost:8080/"
        }
      },
      "source": [
        "sorted_uids[3] # batch size - 4"
      ],
      "execution_count": 27,
      "outputs": [
        {
          "output_type": "execute_result",
          "data": {
            "text/plain": [
              "2148001"
            ]
          },
          "metadata": {
            "tags": []
          },
          "execution_count": 27
        }
      ]
    },
    {
      "cell_type": "code",
      "metadata": {
        "id": "t2Mlei5g9RIc",
        "outputId": "0e64c240-012d-4429-d2f5-4bebfd59e130",
        "colab": {
          "base_uri": "https://localhost:8080/",
          "height": 107
        }
      },
      "source": [
        "train_df[train_df[\"user_id\"] == 2148001]"
      ],
      "execution_count": 28,
      "outputs": [
        {
          "output_type": "execute_result",
          "data": {
            "text/html": [
              "<div>\n",
              "<style scoped>\n",
              "    .dataframe tbody tr th:only-of-type {\n",
              "        vertical-align: middle;\n",
              "    }\n",
              "\n",
              "    .dataframe tbody tr th {\n",
              "        vertical-align: top;\n",
              "    }\n",
              "\n",
              "    .dataframe thead th {\n",
              "        text-align: right;\n",
              "    }\n",
              "</style>\n",
              "<table border=\"1\" class=\"dataframe\">\n",
              "  <thead>\n",
              "    <tr style=\"text-align: right;\">\n",
              "      <th></th>\n",
              "      <th>user_id</th>\n",
              "      <th>content_id</th>\n",
              "      <th>task_container_id</th>\n",
              "      <th>answered_correctly</th>\n",
              "      <th>prior_question_elapsed_time</th>\n",
              "      <th>part</th>\n",
              "    </tr>\n",
              "  </thead>\n",
              "  <tbody>\n",
              "    <tr>\n",
              "      <th>103083</th>\n",
              "      <td>2148001</td>\n",
              "      <td>5214</td>\n",
              "      <td>1</td>\n",
              "      <td>1</td>\n",
              "      <td>0.00</td>\n",
              "      <td>6</td>\n",
              "    </tr>\n",
              "    <tr>\n",
              "      <th>103084</th>\n",
              "      <td>2148001</td>\n",
              "      <td>9321</td>\n",
              "      <td>2</td>\n",
              "      <td>0</td>\n",
              "      <td>0.35</td>\n",
              "      <td>6</td>\n",
              "    </tr>\n",
              "  </tbody>\n",
              "</table>\n",
              "</div>"
            ],
            "text/plain": [
              "        user_id  content_id  ...  prior_question_elapsed_time  part\n",
              "103083  2148001        5214  ...                         0.00     6\n",
              "103084  2148001        9321  ...                         0.35     6\n",
              "\n",
              "[2 rows x 6 columns]"
            ]
          },
          "metadata": {
            "tags": []
          },
          "execution_count": 28
        }
      ]
    },
    {
      "cell_type": "markdown",
      "metadata": {
        "id": "Q5rOrLotowdI"
      },
      "source": [
        "#### Dataloader"
      ]
    },
    {
      "cell_type": "code",
      "metadata": {
        "colab": {
          "base_uri": "https://localhost:8080/"
        },
        "id": "tdkKk3y8WtXf",
        "outputId": "0255c13f-c853-4fa4-cbbe-4dc56b2bdd3d"
      },
      "source": [
        "train_dl = DataLoader(riid_ds, batch_size=None)\n",
        "x, y = next(iter(train_dl))\n",
        "x.shape, y.shape, x.dtype, y.dtype"
      ],
      "execution_count": 29,
      "outputs": [
        {
          "output_type": "execute_result",
          "data": {
            "text/plain": [
              "(torch.Size([2, 4, 5]), torch.Size([4, 2]), torch.float64, torch.int8)"
            ]
          },
          "metadata": {
            "tags": []
          },
          "execution_count": 29
        }
      ]
    },
    {
      "cell_type": "code",
      "metadata": {
        "colab": {
          "base_uri": "https://localhost:8080/"
        },
        "id": "iMf4uEkLa5_D",
        "outputId": "b9f528ef-0b62-4e62-9741-bb2ed178cae9"
      },
      "source": [
        "len(train_dl)"
      ],
      "execution_count": 30,
      "outputs": [
        {
          "output_type": "execute_result",
          "data": {
            "text/plain": [
              "2530"
            ]
          },
          "metadata": {
            "tags": []
          },
          "execution_count": 30
        }
      ]
    },
    {
      "cell_type": "code",
      "metadata": {
        "trusted": true,
        "colab": {
          "base_uri": "https://localhost:8080/"
        },
        "id": "O0jBSXrKV5BE",
        "outputId": "29bc64c5-13ad-4800-e096-48bf12c0f0f9"
      },
      "source": [
        "batches = 0\n",
        "max_batch_size = 0\n",
        "max_seq_len = 0\n",
        "for xb, yb in train_dl:\n",
        "    max_batch_size = max(max_batch_size, xb.size(1))\n",
        "    max_seq_len = max(max_seq_len, xb.size(0))\n",
        "    batches += 1\n",
        "    \n",
        "max_batch_size, max_seq_len, batches"
      ],
      "execution_count": 31,
      "outputs": [
        {
          "output_type": "execute_result",
          "data": {
            "text/plain": [
              "(4, 128, 2530)"
            ]
          },
          "metadata": {
            "tags": []
          },
          "execution_count": 31
        }
      ]
    },
    {
      "cell_type": "markdown",
      "metadata": {
        "id": "eoN04M3zxpyW"
      },
      "source": [
        "##### Padding mask"
      ]
    },
    {
      "cell_type": "code",
      "metadata": {
        "colab": {
          "base_uri": "https://localhost:8080/"
        },
        "id": "kmjVawe-xtDp",
        "outputId": "ac99be96-4ada-4efc-e89f-4c3f90c4a9a0"
      },
      "source": [
        "pad_mask = torch.all(torch.eq(x, 0), dim=-1).T\n",
        "pad_mask"
      ],
      "execution_count": 33,
      "outputs": [
        {
          "output_type": "execute_result",
          "data": {
            "text/plain": [
              "tensor([[ True, False],\n",
              "        [ True, False],\n",
              "        [False, False],\n",
              "        [False, False]])"
            ]
          },
          "metadata": {
            "tags": []
          },
          "execution_count": 33
        }
      ]
    },
    {
      "cell_type": "markdown",
      "metadata": {
        "id": "8uGjjmawrRkY"
      },
      "source": [
        "Look ahead mask"
      ]
    },
    {
      "cell_type": "code",
      "metadata": {
        "id": "Yw0ByBVWuNqT"
      },
      "source": [
        "  def generate_square_subsequent_mask(sz):\n",
        "        r\"\"\"Generate a square mask for the sequence. The masked positions are filled with float('-inf').\n",
        "            Unmasked positions are filled with float(0.0).\n",
        "        \"\"\"\n",
        "        mask = (torch.triu(torch.ones(sz, sz)) == 1).transpose(0, 1)\n",
        "        mask = mask.float().masked_fill(mask == 0, True).masked_fill(mask == 1, False)\n",
        "        return mask.bool()"
      ],
      "execution_count": 34,
      "outputs": []
    },
    {
      "cell_type": "code",
      "metadata": {
        "colab": {
          "base_uri": "https://localhost:8080/"
        },
        "id": "zVPqkO8ruVpf",
        "outputId": "581f92af-227f-4b7f-bbf7-8adb30351c31"
      },
      "source": [
        "look_ahead_mask = generate_square_subsequent_mask(x.size(0))\n",
        "look_ahead_mask"
      ],
      "execution_count": 35,
      "outputs": [
        {
          "output_type": "execute_result",
          "data": {
            "text/plain": [
              "tensor([[False,  True],\n",
              "        [False, False]])"
            ]
          },
          "metadata": {
            "tags": []
          },
          "execution_count": 35
        }
      ]
    },
    {
      "cell_type": "markdown",
      "metadata": {
        "id": "FwO4ImIPO_37"
      },
      "source": [
        "#### Combining Padding mask and Lookahead mask"
      ]
    },
    {
      "cell_type": "markdown",
      "metadata": {
        "id": "YGs0qfhJPFqU"
      },
      "source": [
        "Combining look ahead mask and padding mask is difficult.\n",
        "\n",
        "Imagine you have a sequence"
      ]
    },
    {
      "cell_type": "code",
      "metadata": {
        "id": "QTXZQc6gPR0L"
      },
      "source": [
        "a = [0, 0, 2, 3]"
      ],
      "execution_count": 174,
      "outputs": []
    },
    {
      "cell_type": "markdown",
      "metadata": {
        "id": "nJcmY3LKPVG3"
      },
      "source": [
        "The first 4 fields are pad values. So if we use the `src_key_padding_mask` argument of pytorch attention. We are telling the attention module. for all the items in the sequence do not attend to the first 2 values."
      ]
    },
    {
      "cell_type": "code",
      "metadata": {
        "id": "Ha00H1YAPu2-",
        "outputId": "f572f10e-38f6-4606-9c85-65b770e315a4",
        "colab": {
          "base_uri": "https://localhost:8080/"
        }
      },
      "source": [
        "x = torch.as_tensor(a).float()\n",
        "x"
      ],
      "execution_count": 175,
      "outputs": [
        {
          "output_type": "execute_result",
          "data": {
            "text/plain": [
              "tensor([0., 0., 2., 3.])"
            ]
          },
          "metadata": {
            "tags": []
          },
          "execution_count": 175
        }
      ]
    },
    {
      "cell_type": "code",
      "metadata": {
        "id": "nBope5LNPy6l",
        "outputId": "32099e4a-3ffe-4add-bb27-83f46b80b2e4",
        "colab": {
          "base_uri": "https://localhost:8080/"
        }
      },
      "source": [
        "pad_mask = torch.tensor([[True, True, False, False]])\n",
        "pad_mask.shape"
      ],
      "execution_count": 176,
      "outputs": [
        {
          "output_type": "execute_result",
          "data": {
            "text/plain": [
              "torch.Size([1, 4])"
            ]
          },
          "metadata": {
            "tags": []
          },
          "execution_count": 176
        }
      ]
    },
    {
      "cell_type": "code",
      "metadata": {
        "id": "y8FZUKqqP9xl"
      },
      "source": [
        "attn = torch.nn.MultiheadAttention(embed_dim=1, num_heads=1)"
      ],
      "execution_count": 177,
      "outputs": []
    },
    {
      "cell_type": "code",
      "metadata": {
        "id": "_hzluTcDQGWs",
        "outputId": "85d7e58f-6877-4432-f100-a1df3f71e1c3",
        "colab": {
          "base_uri": "https://localhost:8080/"
        }
      },
      "source": [
        "x = x.T.unsqueeze(1).unsqueeze(1) # matching attention shape - [seq_len, bs, n_features]\n",
        "x.shape"
      ],
      "execution_count": 178,
      "outputs": [
        {
          "output_type": "execute_result",
          "data": {
            "text/plain": [
              "torch.Size([4, 1, 1])"
            ]
          },
          "metadata": {
            "tags": []
          },
          "execution_count": 178
        }
      ]
    },
    {
      "cell_type": "code",
      "metadata": {
        "id": "1rKFzf7CQCeB"
      },
      "source": [
        "output, score = attn(x, x, x, key_padding_mask=pad_mask) #, attn_mask=attn_mask)"
      ],
      "execution_count": 179,
      "outputs": []
    },
    {
      "cell_type": "code",
      "metadata": {
        "id": "8IOGuP0DQs56",
        "outputId": "aeb7be6e-b277-47ee-a2eb-05e606d73830",
        "colab": {
          "base_uri": "https://localhost:8080/"
        }
      },
      "source": [
        "score"
      ],
      "execution_count": 180,
      "outputs": [
        {
          "output_type": "execute_result",
          "data": {
            "text/plain": [
              "tensor([[[0.0000, 0.0000, 0.5000, 0.5000],\n",
              "         [0.0000, 0.0000, 0.5000, 0.5000],\n",
              "         [0.0000, 0.0000, 0.8819, 0.1181],\n",
              "         [0.0000, 0.0000, 0.9533, 0.0467]]], grad_fn=<DivBackward0>)"
            ]
          },
          "metadata": {
            "tags": []
          },
          "execution_count": 180
        }
      ]
    },
    {
      "cell_type": "markdown",
      "metadata": {
        "id": "46A4UaNgQ0df"
      },
      "source": [
        "As expected it gives 0 weightage to the first 2 items in te sequence while creating the output vector.  \n",
        "\n",
        "But still pay attention that first item in the sequence still get to attend to the last 2 values in the sequence.  \n",
        "\n",
        "This cannot be permitted when look ahead limitation.  \n",
        "\n",
        "\n",
        "So the natural thing to do is add a look ahead mask"
      ]
    },
    {
      "cell_type": "code",
      "metadata": {
        "id": "j5HbYQE_Rb9R"
      },
      "source": [
        "look_ahead_mask = torch.as_tensor([[0., float('-inf'), float('-inf'), float('-inf')],\n",
        "                             [0., 0., float('-inf'), float('-inf')],\n",
        "                             [float('-inf'), 0., 0., float('-inf')],\n",
        "                             [float('-inf'), float('-inf'), 0., 0.]])"
      ],
      "execution_count": 181,
      "outputs": []
    },
    {
      "cell_type": "code",
      "metadata": {
        "id": "-Jft930iRgTq",
        "outputId": "c523ab23-e6bd-4fe9-fba3-d463cb462b69",
        "colab": {
          "base_uri": "https://localhost:8080/"
        }
      },
      "source": [
        "output, score = attn(x, x, x, key_padding_mask=pad_mask, attn_mask=attn_mask)\n",
        "score"
      ],
      "execution_count": 182,
      "outputs": [
        {
          "output_type": "execute_result",
          "data": {
            "text/plain": [
              "tensor([[[   nan,    nan,    nan,    nan],\n",
              "         [   nan,    nan,    nan,    nan],\n",
              "         [0.0000, 0.0000, 1.0000, 0.0000],\n",
              "         [0.0000, 0.0000, 0.9533, 0.0467]]], grad_fn=<DivBackward0>)"
            ]
          },
          "metadata": {
            "tags": []
          },
          "execution_count": 182
        }
      ]
    },
    {
      "cell_type": "markdown",
      "metadata": {
        "id": "myX4SEedRj9A"
      },
      "source": [
        "If we use both look ahead and attn mask. we are saying to the first item in the sequence.\n",
        "\n",
        "* look ahead mask saying - DO NOT LOOK AHEAD TO THE REST OF SEQUENCE ONLY LOOK AT YOURSELF.\n",
        "* Padding mask saying - YOU ARE PAD VALUE SO DONT LOOK AT YOUR SELF.\n",
        "\n",
        "Resulting in all `-inf` values, and the softmax giving `nan`"
      ]
    },
    {
      "cell_type": "markdown",
      "metadata": {
        "id": "p5WuGZa2R9OI"
      },
      "source": [
        "SO THE BEST THING TO DO IS, USE ONLY LOOK AHEAD MASK, AND USE THE PAD_MASK IN THE LOSS FUNCTION TO MASK OUT LABELS RELATED TO THE PAD TOKENS"
      ]
    },
    {
      "cell_type": "markdown",
      "metadata": {
        "id": "P2AU37Y8V5BE"
      },
      "source": [
        "### Transformer Sequence Classifier."
      ]
    },
    {
      "cell_type": "markdown",
      "metadata": {
        "id": "KExRqzLASL7Z"
      },
      "source": [
        "Positional Encoding"
      ]
    },
    {
      "cell_type": "code",
      "metadata": {
        "id": "p5x0-pN4SPab"
      },
      "source": [
        "class PositionalEncoding(nn.Module):\n",
        "\n",
        "    def __init__(self, d_model, dropout=0.1, max_len=5000):\n",
        "        super(PositionalEncoding, self).__init__()\n",
        "        self.dropout = nn.Dropout(p=dropout)\n",
        "\n",
        "        pe = torch.zeros(max_len, d_model)\n",
        "        position = torch.arange(0, max_len, dtype=torch.float).unsqueeze(1)\n",
        "        div_term = torch.exp(torch.arange(0, d_model, 2).float() * (-math.log(10000.0) / d_model))\n",
        "        pe[:, 0::2] = torch.sin(position * div_term)\n",
        "        pe[:, 1::2] = torch.cos(position * div_term)\n",
        "        pe = pe.unsqueeze(0).transpose(0, 1)\n",
        "        self.register_buffer('pe', pe)\n",
        "\n",
        "    def forward(self, x):\n",
        "        x = x + self.pe[:x.size(0), :]\n",
        "        return self.dropout(x)"
      ],
      "execution_count": 36,
      "outputs": []
    },
    {
      "cell_type": "code",
      "metadata": {
        "trusted": true,
        "id": "6fMdaxtaV5BE"
      },
      "source": [
        "class TransformerClassifier(nn.Module):\n",
        "    \n",
        "    def __init__(self, n_tokens_dict, d_model=512, n_heads=8, hidden_dim=1024, n_layers=1, dropout=0):\n",
        "        \n",
        "        super().__init__()\n",
        "        self.d_model = d_model\n",
        "        \n",
        "        # Transformer encoder blocks\n",
        "        encoder_layer = nn.TransformerEncoderLayer(d_model, n_heads, hidden_dim, dropout)\n",
        "        self.transformer_encoder = nn.TransformerEncoder(encoder_layer, n_layers)\n",
        "        \n",
        "        # Input embeddings for content_id, task_container_id, answered_correctly, prior_question_elapsed_time, part\n",
        "        self.content_id_emb = nn.Embedding(n_tokens_dict[\"content_id\"], d_model)\n",
        "        self.task_container_id_emb = nn.Embedding(n_tokens_dict[\"task_container_id\"], d_model)\n",
        "        self.answered_correctly_emb = nn.Embedding(n_tokens_dict[\"answered_correctly\"], d_model)\n",
        "        self.part_emb = nn.Embedding(n_tokens_dict[\"part\"], d_model)\n",
        "        self.prior_question_elapsed_time_emb = nn.Linear(1, d_model, bias=False)\n",
        "        # Positional Encoding\n",
        "        self.pos_enc = PositionalEncoding(d_model=d_model, dropout=dropout)\n",
        "\n",
        "        self.out = nn.Linear(d_model, 1)\n",
        "        \n",
        "    def forward(self, x):\n",
        "\n",
        "        seq_len, bs, n_features = x.size()\n",
        "        device = x.device\n",
        "\n",
        "        # padding mask\n",
        "        src_key_padding_mask = torch.all(torch.eq(x, 0), dim=-1).T # shape [bs, seq_len]\n",
        "        print(f\"padding mask : {src_key_padding_mask}\")\n",
        "\n",
        "        # look ahead mask\n",
        "        look_ahead_mask = generate_square_subsequent_mask(seq_len).to(device)\n",
        "        print(f\"look ahead mask: {look_ahead_mask}\")\n",
        "\n",
        "        # input embedding\n",
        "        content_id_emb = self.content_id_emb(x[..., 0].long())\n",
        "        task_container_id_emb = self.task_container_id_emb(x[..., 1].long())\n",
        "        answered_correctly_emb = self.answered_correctly_emb(x[..., 2].long())\n",
        "        part_emb = self.part_emb(x[..., 4].long())\n",
        "        # prior_question_elapsed_time_emb = self.prior_question_elapsed_time_emb(x[..., 3].unsqueeze(-1).float())\n",
        "        \n",
        "        # shape [seq_len, bs, d_model]\n",
        "        input_emb = (content_id_emb \n",
        "                     + task_container_id_emb\n",
        "                     + answered_correctly_emb\n",
        "                     + part_emb\n",
        "                     # + prior_question_elapsed_time_emb\n",
        "                     )\n",
        "        input_emb = input_emb * math.sqrt(self.d_model) # needed?\n",
        "\n",
        "        input_emb = self.pos_enc(input_emb) # position encoding\n",
        "        \n",
        "        # transformer blocks\n",
        "        z = self.transformer_encoder(input_emb, mask=look_ahead_mask, src_key_padding_mask=src_key_padding_mask) # shape [seq_len, bs, d_model]\n",
        "        \n",
        "        # output layer\n",
        "        out = self.out(z) # shape [seq_len, bs, 1]\n",
        "        \n",
        "        return torch.sigmoid(out) # shape [seq_len, bs, 1]\n",
        "        \n"
      ],
      "execution_count": 37,
      "outputs": []
    },
    {
      "cell_type": "code",
      "metadata": {
        "trusted": true,
        "colab": {
          "base_uri": "https://localhost:8080/"
        },
        "id": "r9JDMerWV5BE",
        "outputId": "4e24d40a-0c3f-46d0-dfb9-9605742681a3"
      },
      "source": [
        "n_tokens_dict = {\n",
        "    \"content_id\": max(train_df[\"content_id\"]) + 1,\n",
        "    \"task_container_id\": max(train_df[\"task_container_id\"]) + 1,\n",
        "    \"answered_correctly\": 4, # 0-padding, 1-incorrect, 2-correct, 3-fill value\n",
        "    \"part\": max(train_df[\"part\"]) + 1\n",
        "}\n",
        "\n",
        "n_tokens_dict"
      ],
      "execution_count": 38,
      "outputs": [
        {
          "output_type": "execute_result",
          "data": {
            "text/plain": [
              "{'answered_correctly': 4,\n",
              " 'content_id': 13524,\n",
              " 'part': 9,\n",
              " 'task_container_id': 7741}"
            ]
          },
          "metadata": {
            "tags": []
          },
          "execution_count": 38
        }
      ]
    },
    {
      "cell_type": "code",
      "metadata": {
        "trusted": true,
        "colab": {
          "base_uri": "https://localhost:8080/"
        },
        "id": "OHTIue_qV5BE",
        "outputId": "ccd84144-4baa-4641-b5c1-449e728486a5"
      },
      "source": [
        "device = torch.device(\"cuda\") if torch.cuda.is_available() else torch.device(\"cpu\")\n",
        "device"
      ],
      "execution_count": 39,
      "outputs": [
        {
          "output_type": "execute_result",
          "data": {
            "text/plain": [
              "device(type='cpu')"
            ]
          },
          "metadata": {
            "tags": []
          },
          "execution_count": 39
        }
      ]
    },
    {
      "cell_type": "code",
      "metadata": {
        "trusted": true,
        "colab": {
          "base_uri": "https://localhost:8080/"
        },
        "id": "v1PAb6vVV5BE",
        "outputId": "945ae054-4bfb-4af2-caf7-b5e4a5b22953"
      },
      "source": [
        "model = TransformerClassifier(n_tokens_dict).to(device)\n",
        "model"
      ],
      "execution_count": 40,
      "outputs": [
        {
          "output_type": "execute_result",
          "data": {
            "text/plain": [
              "TransformerClassifier(\n",
              "  (transformer_encoder): TransformerEncoder(\n",
              "    (layers): ModuleList(\n",
              "      (0): TransformerEncoderLayer(\n",
              "        (self_attn): MultiheadAttention(\n",
              "          (out_proj): _LinearWithBias(in_features=512, out_features=512, bias=True)\n",
              "        )\n",
              "        (linear1): Linear(in_features=512, out_features=1024, bias=True)\n",
              "        (dropout): Dropout(p=0, inplace=False)\n",
              "        (linear2): Linear(in_features=1024, out_features=512, bias=True)\n",
              "        (norm1): LayerNorm((512,), eps=1e-05, elementwise_affine=True)\n",
              "        (norm2): LayerNorm((512,), eps=1e-05, elementwise_affine=True)\n",
              "        (dropout1): Dropout(p=0, inplace=False)\n",
              "        (dropout2): Dropout(p=0, inplace=False)\n",
              "      )\n",
              "    )\n",
              "  )\n",
              "  (content_id_emb): Embedding(13524, 512)\n",
              "  (task_container_id_emb): Embedding(7741, 512)\n",
              "  (answered_correctly_emb): Embedding(4, 512)\n",
              "  (part_emb): Embedding(9, 512)\n",
              "  (prior_question_elapsed_time_emb): Linear(in_features=1, out_features=512, bias=False)\n",
              "  (pos_enc): PositionalEncoding(\n",
              "    (dropout): Dropout(p=0, inplace=False)\n",
              "  )\n",
              "  (out): Linear(in_features=512, out_features=1, bias=True)\n",
              ")"
            ]
          },
          "metadata": {
            "tags": []
          },
          "execution_count": 40
        }
      ]
    },
    {
      "cell_type": "code",
      "metadata": {
        "colab": {
          "base_uri": "https://localhost:8080/"
        },
        "id": "VemXXKP0wUrO",
        "outputId": "3df8fcd5-6ecc-4401-c276-d719a5fcecba"
      },
      "source": [
        "xb = x.to(device)\n",
        "print(f\"Input : {xb.shape}\")\n",
        "preds = model(xb)\n",
        "print(f\"Output: {preds.shape}\")"
      ],
      "execution_count": 41,
      "outputs": [
        {
          "output_type": "stream",
          "text": [
            "Input : torch.Size([2, 4, 5])\n",
            "padding mask : tensor([[ True, False],\n",
            "        [ True, False],\n",
            "        [False, False],\n",
            "        [False, False]])\n",
            "look ahead mask: tensor([[False,  True],\n",
            "        [False, False]])\n",
            "Output: torch.Size([2, 4, 1])\n"
          ],
          "name": "stdout"
        }
      ]
    },
    {
      "cell_type": "code",
      "metadata": {
        "id": "wtp0OERVGsSh",
        "outputId": "d8ec9acb-2a0e-4989-f5f3-b2ead4b9f365",
        "colab": {
          "base_uri": "https://localhost:8080/"
        }
      },
      "source": [
        "preds[:, 0, :]"
      ],
      "execution_count": 231,
      "outputs": [
        {
          "output_type": "execute_result",
          "data": {
            "text/plain": [
              "tensor([[   nan],\n",
              "        [0.3995]], grad_fn=<SliceBackward>)"
            ]
          },
          "metadata": {
            "tags": []
          },
          "execution_count": 231
        }
      ]
    },
    {
      "cell_type": "code",
      "metadata": {
        "colab": {
          "base_uri": "https://localhost:8080/",
          "height": 195
        },
        "id": "d642pzmUxDrj",
        "outputId": "1b0f7980-bd4f-47db-e2d1-63a9fa72394f"
      },
      "source": [
        "yb = y.T.float().to(device)\n",
        "print(yb)\n",
        "loss_func(preds, yb.unsqueeze(dim=-1))"
      ],
      "execution_count": 1,
      "outputs": [
        {
          "output_type": "error",
          "ename": "NameError",
          "evalue": "ignored",
          "traceback": [
            "\u001b[0;31m---------------------------------------------------------------------------\u001b[0m",
            "\u001b[0;31mNameError\u001b[0m                                 Traceback (most recent call last)",
            "\u001b[0;32m<ipython-input-1-85e07d8fc952>\u001b[0m in \u001b[0;36m<module>\u001b[0;34m()\u001b[0m\n\u001b[0;32m----> 1\u001b[0;31m \u001b[0myb\u001b[0m \u001b[0;34m=\u001b[0m \u001b[0my\u001b[0m\u001b[0;34m.\u001b[0m\u001b[0mT\u001b[0m\u001b[0;34m.\u001b[0m\u001b[0mfloat\u001b[0m\u001b[0;34m(\u001b[0m\u001b[0;34m)\u001b[0m\u001b[0;34m.\u001b[0m\u001b[0mto\u001b[0m\u001b[0;34m(\u001b[0m\u001b[0mdevice\u001b[0m\u001b[0;34m)\u001b[0m\u001b[0;34m\u001b[0m\u001b[0;34m\u001b[0m\u001b[0m\n\u001b[0m\u001b[1;32m      2\u001b[0m \u001b[0mprint\u001b[0m\u001b[0;34m(\u001b[0m\u001b[0myb\u001b[0m\u001b[0;34m)\u001b[0m\u001b[0;34m\u001b[0m\u001b[0;34m\u001b[0m\u001b[0m\n\u001b[1;32m      3\u001b[0m \u001b[0mloss_func\u001b[0m\u001b[0;34m(\u001b[0m\u001b[0mpreds\u001b[0m\u001b[0;34m,\u001b[0m \u001b[0myb\u001b[0m\u001b[0;34m.\u001b[0m\u001b[0munsqueeze\u001b[0m\u001b[0;34m(\u001b[0m\u001b[0mdim\u001b[0m\u001b[0;34m=\u001b[0m\u001b[0;34m-\u001b[0m\u001b[0;36m1\u001b[0m\u001b[0;34m)\u001b[0m\u001b[0;34m)\u001b[0m\u001b[0;34m\u001b[0m\u001b[0;34m\u001b[0m\u001b[0m\n",
            "\u001b[0;31mNameError\u001b[0m: name 'y' is not defined"
          ]
        }
      ]
    },
    {
      "cell_type": "markdown",
      "metadata": {
        "id": "kKdmvTV5V5BE"
      },
      "source": [
        "### Training"
      ]
    },
    {
      "cell_type": "code",
      "metadata": {
        "trusted": true,
        "id": "1K_ro8KcV5BE"
      },
      "source": [
        "epochs = 100\n",
        "opt = torch.optim.Adam(params=model.parameters(), lr=0.001)\n",
        "sched = torch.optim.lr_scheduler.OneCycleLR(opt, max_lr=0.001, steps_per_epoch=len(train_dl), epochs=epochs)\n",
        "loss_func = nn.BCELoss()"
      ],
      "execution_count": 135,
      "outputs": []
    },
    {
      "cell_type": "markdown",
      "metadata": {
        "id": "fmWcoCpfO7W4"
      },
      "source": [
        "https://pytorch.org/tutorials/beginner/nn_tutorial.html#create-fit-and-get-data"
      ]
    },
    {
      "cell_type": "code",
      "metadata": {
        "id": "lcA8qWtWOQc1"
      },
      "source": [
        "def loss_batch(model, loss_func, X_batch, y_batch, opt=None):\n",
        "\n",
        "  preds = model(X_batch)\n",
        "  loss = loss_func(preds, y_batch.unsqueeze(dim=-1))\n",
        "\n",
        "  if opt is not None:\n",
        "    loss.backward()\n",
        "    # nn.utils.clip_grad_norm_(model.parameters(), 0.25)\n",
        "    opt.step()\n",
        "    opt.zero_grad()\n",
        "\n",
        "  return loss.item(), X_batch.shape[2]"
      ],
      "execution_count": 231,
      "outputs": []
    },
    {
      "cell_type": "code",
      "metadata": {
        "trusted": true,
        "id": "7KKDMSb-V5BF"
      },
      "source": [
        "def fit(epochs, model, loss_func, opt, train_dl, valid_dl=None, sched=None):\n",
        "  epoch_losses = []\n",
        "  epoch_lrs = []\n",
        "  for e in range(epochs):\n",
        "    # train\n",
        "    lrs = []\n",
        "    train_losses = []\n",
        "    val_losses = []\n",
        "\n",
        "    model.train()\n",
        "    train_dl = tqdm(train_dl, position=0, leave=True)\n",
        "    for X_batch, y_batch in train_dl:\n",
        "      X_batch, y_batch = X_batch.to(device), y_batch.T.type(torch.FloatTensor).to(device)\n",
        "      train_loss, train_bs = loss_batch(model, loss_func, X_batch, y_batch, opt)\n",
        "      train_losses.append(train_loss)\n",
        "      train_loss_mean = sum(train_losses) / len(train_losses)\n",
        "      lr = opt.param_groups[0][\"lr\"]\n",
        "      lrs.append(lr)\n",
        "      train_dl.set_description(f\"Epoch: {e}, RunningLoss: {train_loss_mean:.3f}, InstantLoss: {train_loss:.3f}, LR: {lr:.6f}\")\n",
        "      if sched:\n",
        "        sched.step()\n",
        "    epoch_losses.append(train_loss_mean)\n",
        "    epoch_lrs.append(lr)\n",
        "    # eval\n",
        "    # model.eval()\n",
        "    # with torch.no_grad():\n",
        "    #   val_losses, val_bss = zip(*[loss_batch(model, loss_func, X_batch, y_batch) for X_batch, y_batch in valid_dl])\n",
        "\n",
        "    # val_loss = np.sum(np.multiply(val_losses, val_bss)) / np.sum(val_bss)\n",
        "    # train_dl.set_description(f\"Epoch: {e}, Loss: {train_loss}, Val Loss: {val_loss}\")\n",
        "\n",
        "  return epoch_losses, epoch_lrs#, val_losses"
      ],
      "execution_count": 232,
      "outputs": []
    },
    {
      "cell_type": "code",
      "metadata": {
        "colab": {
          "base_uri": "https://localhost:8080/"
        },
        "id": "0olyMi8vG0XM",
        "outputId": "72517ad1-fdd8-4084-9c2a-48e3f657002e"
      },
      "source": [
        "train_losses, lrs = fit(epochs, model, loss_func, opt, train_dl, sched=sched)"
      ],
      "execution_count": 233,
      "outputs": [
        {
          "output_type": "stream",
          "text": [
            "Epoch: 0, RunningLoss: 0.636, InstantLoss: 0.764, LR: 0.000043: 100%|██████████| 98/98 [00:07<00:00, 12.80it/s]\n",
            "Epoch: 1, RunningLoss: 0.627, InstantLoss: 0.744, LR: 0.000050: 100%|██████████| 98/98 [00:07<00:00, 12.53it/s]\n",
            "Epoch: 2, RunningLoss: 0.623, InstantLoss: 0.759, LR: 0.000063: 100%|██████████| 98/98 [00:07<00:00, 12.61it/s]\n",
            "Epoch: 3, RunningLoss: 0.621, InstantLoss: 0.756, LR: 0.000081: 100%|██████████| 98/98 [00:07<00:00, 12.52it/s]\n",
            "Epoch: 4, RunningLoss: 0.619, InstantLoss: 0.745, LR: 0.000104: 100%|██████████| 98/98 [00:07<00:00, 12.66it/s]\n",
            "Epoch: 5, RunningLoss: 0.619, InstantLoss: 0.727, LR: 0.000131: 100%|██████████| 98/98 [00:07<00:00, 12.82it/s]\n",
            "Epoch: 6, RunningLoss: 0.617, InstantLoss: 0.723, LR: 0.000163: 100%|██████████| 98/98 [00:07<00:00, 12.83it/s]\n",
            "Epoch: 7, RunningLoss: 0.615, InstantLoss: 0.762, LR: 0.000199: 100%|██████████| 98/98 [00:07<00:00, 12.85it/s]\n",
            "Epoch: 8, RunningLoss: 0.612, InstantLoss: 0.748, LR: 0.000238: 100%|██████████| 98/98 [00:07<00:00, 12.66it/s]\n",
            "Epoch: 9, RunningLoss: 0.609, InstantLoss: 0.753, LR: 0.000280: 100%|██████████| 98/98 [00:07<00:00, 12.83it/s]\n",
            "Epoch: 10, RunningLoss: 0.604, InstantLoss: 0.765, LR: 0.000324: 100%|██████████| 98/98 [00:07<00:00, 12.78it/s]\n",
            "Epoch: 11, RunningLoss: 0.600, InstantLoss: 0.795, LR: 0.000371: 100%|██████████| 98/98 [00:07<00:00, 12.73it/s]\n",
            "Epoch: 12, RunningLoss: 0.597, InstantLoss: 0.811, LR: 0.000420: 100%|██████████| 98/98 [00:07<00:00, 12.76it/s]\n",
            "Epoch: 13, RunningLoss: 0.593, InstantLoss: 0.808, LR: 0.000470: 100%|██████████| 98/98 [00:07<00:00, 12.78it/s]\n",
            "Epoch: 14, RunningLoss: 0.597, InstantLoss: 0.736, LR: 0.000520: 100%|██████████| 98/98 [00:07<00:00, 12.97it/s]\n",
            "Epoch: 15, RunningLoss: 0.590, InstantLoss: 0.862, LR: 0.000570: 100%|██████████| 98/98 [00:07<00:00, 12.73it/s]\n",
            "Epoch: 16, RunningLoss: 0.587, InstantLoss: 0.807, LR: 0.000620: 100%|██████████| 98/98 [00:07<00:00, 12.77it/s]\n",
            "Epoch: 17, RunningLoss: 0.586, InstantLoss: 0.760, LR: 0.000668: 100%|██████████| 98/98 [00:07<00:00, 12.82it/s]\n",
            "Epoch: 18, RunningLoss: 0.580, InstantLoss: 0.775, LR: 0.000715: 100%|██████████| 98/98 [00:07<00:00, 12.66it/s]\n",
            "Epoch: 19, RunningLoss: 0.572, InstantLoss: 0.753, LR: 0.000760: 100%|██████████| 98/98 [00:07<00:00, 12.72it/s]\n",
            "Epoch: 20, RunningLoss: 0.565, InstantLoss: 0.898, LR: 0.000802: 100%|██████████| 98/98 [00:07<00:00, 12.82it/s]\n",
            "Epoch: 21, RunningLoss: 0.565, InstantLoss: 0.879, LR: 0.000841: 100%|██████████| 98/98 [00:07<00:00, 12.82it/s]\n",
            "Epoch: 22, RunningLoss: 0.562, InstantLoss: 0.967, LR: 0.000877: 100%|██████████| 98/98 [00:07<00:00, 12.95it/s]\n",
            "Epoch: 23, RunningLoss: 0.634, InstantLoss: 0.807, LR: 0.000908: 100%|██████████| 98/98 [00:07<00:00, 12.89it/s]\n",
            "Epoch: 24, RunningLoss: 0.623, InstantLoss: 0.792, LR: 0.000936: 100%|██████████| 98/98 [00:07<00:00, 12.79it/s]\n",
            "Epoch: 25, RunningLoss: 0.574, InstantLoss: 0.840, LR: 0.000958: 100%|██████████| 98/98 [00:07<00:00, 12.76it/s]\n",
            "Epoch: 26, RunningLoss: 0.561, InstantLoss: 0.789, LR: 0.000976: 100%|██████████| 98/98 [00:07<00:00, 12.84it/s]\n",
            "Epoch: 27, RunningLoss: 0.555, InstantLoss: 0.744, LR: 0.000990: 100%|██████████| 98/98 [00:07<00:00, 12.89it/s]\n",
            "Epoch: 28, RunningLoss: 0.547, InstantLoss: 0.768, LR: 0.000997: 100%|██████████| 98/98 [00:07<00:00, 12.89it/s]\n",
            "Epoch: 29, RunningLoss: 0.537, InstantLoss: 0.769, LR: 0.001000: 100%|██████████| 98/98 [00:07<00:00, 12.86it/s]\n",
            "Epoch: 30, RunningLoss: 0.535, InstantLoss: 0.903, LR: 0.000999: 100%|██████████| 98/98 [00:07<00:00, 12.64it/s]\n",
            "Epoch: 31, RunningLoss: 0.578, InstantLoss: 0.767, LR: 0.000998: 100%|██████████| 98/98 [00:07<00:00, 12.92it/s]\n",
            "Epoch: 32, RunningLoss: 0.629, InstantLoss: 0.798, LR: 0.000995: 100%|██████████| 98/98 [00:07<00:00, 12.75it/s]\n",
            "Epoch: 33, RunningLoss: 0.614, InstantLoss: 0.757, LR: 0.000992: 100%|██████████| 98/98 [00:07<00:00, 12.84it/s]\n",
            "Epoch: 34, RunningLoss: 0.554, InstantLoss: 0.768, LR: 0.000987: 100%|██████████| 98/98 [00:07<00:00, 12.79it/s]\n",
            "Epoch: 35, RunningLoss: 0.525, InstantLoss: 0.665, LR: 0.000982: 100%|██████████| 98/98 [00:07<00:00, 12.82it/s]\n",
            "Epoch: 36, RunningLoss: 0.507, InstantLoss: 0.667, LR: 0.000976: 100%|██████████| 98/98 [00:07<00:00, 12.82it/s]\n",
            "Epoch: 37, RunningLoss: 0.511, InstantLoss: 0.777, LR: 0.000968: 100%|██████████| 98/98 [00:07<00:00, 12.84it/s]\n",
            "Epoch: 38, RunningLoss: 0.507, InstantLoss: 0.904, LR: 0.000960: 100%|██████████| 98/98 [00:07<00:00, 12.85it/s]\n",
            "Epoch: 39, RunningLoss: 0.500, InstantLoss: 0.722, LR: 0.000950: 100%|██████████| 98/98 [00:07<00:00, 12.97it/s]\n",
            "Epoch: 40, RunningLoss: 0.482, InstantLoss: 0.689, LR: 0.000940: 100%|██████████| 98/98 [00:07<00:00, 12.82it/s]\n",
            "Epoch: 41, RunningLoss: 0.470, InstantLoss: 0.679, LR: 0.000929: 100%|██████████| 98/98 [00:07<00:00, 12.76it/s]\n",
            "Epoch: 42, RunningLoss: 0.460, InstantLoss: 0.613, LR: 0.000917: 100%|██████████| 98/98 [00:07<00:00, 12.85it/s]\n",
            "Epoch: 43, RunningLoss: 0.453, InstantLoss: 0.599, LR: 0.000905: 100%|██████████| 98/98 [00:07<00:00, 12.73it/s]\n",
            "Epoch: 44, RunningLoss: 0.447, InstantLoss: 0.618, LR: 0.000891: 100%|██████████| 98/98 [00:07<00:00, 12.82it/s]\n",
            "Epoch: 45, RunningLoss: 0.441, InstantLoss: 0.635, LR: 0.000877: 100%|██████████| 98/98 [00:07<00:00, 12.79it/s]\n",
            "Epoch: 46, RunningLoss: 0.420, InstantLoss: 0.683, LR: 0.000861: 100%|██████████| 98/98 [00:07<00:00, 12.82it/s]\n",
            "Epoch: 47, RunningLoss: 0.405, InstantLoss: 0.553, LR: 0.000846: 100%|██████████| 98/98 [00:07<00:00, 12.90it/s]\n",
            "Epoch: 48, RunningLoss: 0.396, InstantLoss: 0.521, LR: 0.000829: 100%|██████████| 98/98 [00:07<00:00, 12.90it/s]\n",
            "Epoch: 49, RunningLoss: 0.396, InstantLoss: 0.668, LR: 0.000812: 100%|██████████| 98/98 [00:07<00:00, 12.93it/s]\n",
            "Epoch: 50, RunningLoss: 0.402, InstantLoss: 0.447, LR: 0.000794: 100%|██████████| 98/98 [00:07<00:00, 12.74it/s]\n",
            "Epoch: 51, RunningLoss: 0.393, InstantLoss: 0.453, LR: 0.000775: 100%|██████████| 98/98 [00:07<00:00, 12.92it/s]\n",
            "Epoch: 52, RunningLoss: 0.362, InstantLoss: 0.442, LR: 0.000756: 100%|██████████| 98/98 [00:07<00:00, 12.83it/s]\n",
            "Epoch: 53, RunningLoss: 0.341, InstantLoss: 0.470, LR: 0.000737: 100%|██████████| 98/98 [00:07<00:00, 12.77it/s]\n",
            "Epoch: 54, RunningLoss: 0.318, InstantLoss: 0.442, LR: 0.000717: 100%|██████████| 98/98 [00:07<00:00, 12.79it/s]\n",
            "Epoch: 55, RunningLoss: 0.309, InstantLoss: 0.385, LR: 0.000697: 100%|██████████| 98/98 [00:07<00:00, 12.98it/s]\n",
            "Epoch: 56, RunningLoss: 0.310, InstantLoss: 0.374, LR: 0.000676: 100%|██████████| 98/98 [00:07<00:00, 12.84it/s]\n",
            "Epoch: 57, RunningLoss: 0.302, InstantLoss: 0.367, LR: 0.000655: 100%|██████████| 98/98 [00:07<00:00, 12.95it/s]\n",
            "Epoch: 58, RunningLoss: 0.310, InstantLoss: 0.336, LR: 0.000633: 100%|██████████| 98/98 [00:07<00:00, 12.83it/s]\n",
            "Epoch: 59, RunningLoss: 0.296, InstantLoss: 0.395, LR: 0.000611: 100%|██████████| 98/98 [00:07<00:00, 12.94it/s]\n",
            "Epoch: 60, RunningLoss: 0.267, InstantLoss: 0.236, LR: 0.000589: 100%|██████████| 98/98 [00:07<00:00, 12.85it/s]\n",
            "Epoch: 61, RunningLoss: 0.242, InstantLoss: 0.200, LR: 0.000567: 100%|██████████| 98/98 [00:07<00:00, 12.82it/s]\n",
            "Epoch: 62, RunningLoss: 0.228, InstantLoss: 0.208, LR: 0.000545: 100%|██████████| 98/98 [00:07<00:00, 13.02it/s]\n",
            "Epoch: 63, RunningLoss: 0.224, InstantLoss: 0.236, LR: 0.000522: 100%|██████████| 98/98 [00:07<00:00, 12.86it/s]\n",
            "Epoch: 64, RunningLoss: 0.216, InstantLoss: 0.262, LR: 0.000500: 100%|██████████| 98/98 [00:07<00:00, 12.92it/s]\n",
            "Epoch: 65, RunningLoss: 0.191, InstantLoss: 0.159, LR: 0.000478: 100%|██████████| 98/98 [00:07<00:00, 12.77it/s]\n",
            "Epoch: 66, RunningLoss: 0.183, InstantLoss: 0.140, LR: 0.000455: 100%|██████████| 98/98 [00:07<00:00, 12.72it/s]\n",
            "Epoch: 67, RunningLoss: 0.174, InstantLoss: 0.151, LR: 0.000433: 100%|██████████| 98/98 [00:07<00:00, 12.83it/s]\n",
            "Epoch: 68, RunningLoss: 0.175, InstantLoss: 0.146, LR: 0.000411: 100%|██████████| 98/98 [00:07<00:00, 12.90it/s]\n",
            "Epoch: 69, RunningLoss: 0.169, InstantLoss: 0.154, LR: 0.000389: 100%|██████████| 98/98 [00:07<00:00, 13.00it/s]\n",
            "Epoch: 70, RunningLoss: 0.159, InstantLoss: 0.115, LR: 0.000367: 100%|██████████| 98/98 [00:07<00:00, 13.01it/s]\n",
            "Epoch: 71, RunningLoss: 0.158, InstantLoss: 0.086, LR: 0.000345: 100%|██████████| 98/98 [00:07<00:00, 12.71it/s]\n",
            "Epoch: 72, RunningLoss: 0.163, InstantLoss: 0.105, LR: 0.000324: 100%|██████████| 98/98 [00:07<00:00, 12.61it/s]\n",
            "Epoch: 73, RunningLoss: 0.147, InstantLoss: 0.198, LR: 0.000303: 100%|██████████| 98/98 [00:07<00:00, 12.82it/s]\n",
            "Epoch: 74, RunningLoss: 0.135, InstantLoss: 0.081, LR: 0.000283: 100%|██████████| 98/98 [00:07<00:00, 12.85it/s]\n",
            "Epoch: 75, RunningLoss: 0.129, InstantLoss: 0.074, LR: 0.000263: 100%|██████████| 98/98 [00:07<00:00, 12.94it/s]\n",
            "Epoch: 76, RunningLoss: 0.129, InstantLoss: 0.069, LR: 0.000244: 100%|██████████| 98/98 [00:07<00:00, 12.77it/s]\n",
            "Epoch: 77, RunningLoss: 0.125, InstantLoss: 0.059, LR: 0.000225: 100%|██████████| 98/98 [00:07<00:00, 12.95it/s]\n",
            "Epoch: 78, RunningLoss: 0.103, InstantLoss: 0.056, LR: 0.000206: 100%|██████████| 98/98 [00:07<00:00, 12.91it/s]\n",
            "Epoch: 79, RunningLoss: 0.084, InstantLoss: 0.043, LR: 0.000188: 100%|██████████| 98/98 [00:07<00:00, 12.81it/s]\n",
            "Epoch: 80, RunningLoss: 0.072, InstantLoss: 0.036, LR: 0.000171: 100%|██████████| 98/98 [00:07<00:00, 12.80it/s]\n",
            "Epoch: 81, RunningLoss: 0.064, InstantLoss: 0.035, LR: 0.000154: 100%|██████████| 98/98 [00:07<00:00, 12.76it/s]\n",
            "Epoch: 82, RunningLoss: 0.059, InstantLoss: 0.044, LR: 0.000139: 100%|██████████| 98/98 [00:07<00:00, 12.61it/s]\n",
            "Epoch: 83, RunningLoss: 0.054, InstantLoss: 0.102, LR: 0.000123: 100%|██████████| 98/98 [00:07<00:00, 12.80it/s]\n",
            "Epoch: 84, RunningLoss: 0.049, InstantLoss: 0.021, LR: 0.000109: 100%|██████████| 98/98 [00:07<00:00, 12.87it/s]\n",
            "Epoch: 85, RunningLoss: 0.046, InstantLoss: 0.019, LR: 0.000095: 100%|██████████| 98/98 [00:07<00:00, 12.84it/s]\n",
            "Epoch: 86, RunningLoss: 0.042, InstantLoss: 0.014, LR: 0.000083: 100%|██████████| 98/98 [00:07<00:00, 12.94it/s]\n",
            "Epoch: 87, RunningLoss: 0.036, InstantLoss: 0.013, LR: 0.000071: 100%|██████████| 98/98 [00:07<00:00, 12.84it/s]\n",
            "Epoch: 88, RunningLoss: 0.029, InstantLoss: 0.009, LR: 0.000060: 100%|██████████| 98/98 [00:07<00:00, 12.83it/s]\n",
            "Epoch: 89, RunningLoss: 0.026, InstantLoss: 0.010, LR: 0.000050: 100%|██████████| 98/98 [00:07<00:00, 12.95it/s]\n",
            "Epoch: 90, RunningLoss: 0.022, InstantLoss: 0.006, LR: 0.000040: 100%|██████████| 98/98 [00:07<00:00, 12.86it/s]\n",
            "Epoch: 91, RunningLoss: 0.019, InstantLoss: 0.006, LR: 0.000032: 100%|██████████| 98/98 [00:07<00:00, 12.74it/s]\n",
            "Epoch: 92, RunningLoss: 0.017, InstantLoss: 0.005, LR: 0.000024: 100%|██████████| 98/98 [00:07<00:00, 12.71it/s]\n",
            "Epoch: 93, RunningLoss: 0.017, InstantLoss: 0.005, LR: 0.000018: 100%|██████████| 98/98 [00:07<00:00, 12.77it/s]\n",
            "Epoch: 94, RunningLoss: 0.016, InstantLoss: 0.005, LR: 0.000013: 100%|██████████| 98/98 [00:07<00:00, 12.87it/s]\n",
            "Epoch: 95, RunningLoss: 0.016, InstantLoss: 0.005, LR: 0.000008: 100%|██████████| 98/98 [00:07<00:00, 12.60it/s]\n",
            "Epoch: 96, RunningLoss: 0.015, InstantLoss: 0.004, LR: 0.000005: 100%|██████████| 98/98 [00:07<00:00, 13.01it/s]\n",
            "Epoch: 97, RunningLoss: 0.015, InstantLoss: 0.004, LR: 0.000002: 100%|██████████| 98/98 [00:07<00:00, 12.73it/s]\n",
            "Epoch: 98, RunningLoss: 0.015, InstantLoss: 0.004, LR: 0.000001: 100%|██████████| 98/98 [00:07<00:00, 12.82it/s]\n",
            "Epoch: 99, RunningLoss: 0.015, InstantLoss: 0.004, LR: 0.000000: 100%|██████████| 98/98 [00:07<00:00, 12.86it/s]\n"
          ],
          "name": "stderr"
        }
      ]
    },
    {
      "cell_type": "code",
      "metadata": {
        "id": "FUG3qDSMCQHF"
      },
      "source": [
        "import matplotlib.pyplot as plt"
      ],
      "execution_count": 234,
      "outputs": []
    },
    {
      "cell_type": "code",
      "metadata": {
        "id": "Lb8ZxOtfFIYr",
        "colab": {
          "base_uri": "https://localhost:8080/",
          "height": 286
        },
        "outputId": "d0772e3b-3144-47ef-f1b7-01921ad4fb19"
      },
      "source": [
        "plt.ylim(top=1)\n",
        "plt.plot(train_losses)"
      ],
      "execution_count": 235,
      "outputs": [
        {
          "output_type": "execute_result",
          "data": {
            "text/plain": [
              "[<matplotlib.lines.Line2D at 0x7f3fd1588588>]"
            ]
          },
          "metadata": {
            "tags": []
          },
          "execution_count": 235
        },
        {
          "output_type": "display_data",
          "data": {
            "image/png": "[encoded data removed]",
            "text/plain": [
              "<Figure size 432x288 with 1 Axes>"
            ]
          },
          "metadata": {
            "tags": [],
            "needs_background": "light"
          }
        }
      ]
    },
    {
      "cell_type": "code",
      "metadata": {
        "id": "gVJXQ30QKFRr",
        "colab": {
          "base_uri": "https://localhost:8080/",
          "height": 282
        },
        "outputId": "e6ca1ea6-ad56-4ad4-c799-9cfa238066cf"
      },
      "source": [
        "plt.plot(lrs)"
      ],
      "execution_count": 236,
      "outputs": [
        {
          "output_type": "execute_result",
          "data": {
            "text/plain": [
              "[<matplotlib.lines.Line2D at 0x7f3fd10540b8>]"
            ]
          },
          "metadata": {
            "tags": []
          },
          "execution_count": 236
        },
        {
          "output_type": "display_data",
          "data": {
            "image/png": "[encoded data removed]",
            "text/plain": [
              "<Figure size 432x288 with 1 Axes>"
            ]
          },
          "metadata": {
            "tags": [],
            "needs_background": "light"
          }
        }
      ]
    },
    {
      "cell_type": "code",
      "metadata": {
        "id": "KCP4UnYdGB3_"
      },
      "source": [
        "xb = xb.to(device)\n",
        "preds = model(xb)"
      ],
      "execution_count": 237,
      "outputs": []
    },
    {
      "cell_type": "code",
      "metadata": {
        "id": "vmKaBcxE1XdV"
      },
      "source": [
        "from sklearn.metrics import accuracy_score, precision_score, recall_score, roc_auc_score"
      ],
      "execution_count": 238,
      "outputs": []
    },
    {
      "cell_type": "code",
      "metadata": {
        "id": "CyC80r-NUrjV",
        "colab": {
          "base_uri": "https://localhost:8080/"
        },
        "outputId": "a37b0edc-231c-482c-9357-748c76ee6402"
      },
      "source": [
        "y_hat = preds.to(\"cpu\").detach().numpy() > 0.5\n",
        "y_hat = y_hat.astype(np.int8).flatten()\n",
        "y_hat.shape"
      ],
      "execution_count": 239,
      "outputs": [
        {
          "output_type": "execute_result",
          "data": {
            "text/plain": [
              "(8192,)"
            ]
          },
          "metadata": {
            "tags": []
          },
          "execution_count": 239
        }
      ]
    },
    {
      "cell_type": "code",
      "metadata": {
        "id": "xBYitHZhU3DK",
        "colab": {
          "base_uri": "https://localhost:8080/"
        },
        "outputId": "f25b3b9a-9135-4221-e43e-c3298325455e"
      },
      "source": [
        "y_true = yb.to(\"cpu\").detach().numpy().T.flatten()\n",
        "y_true.shape"
      ],
      "execution_count": 240,
      "outputs": [
        {
          "output_type": "execute_result",
          "data": {
            "text/plain": [
              "(8192,)"
            ]
          },
          "metadata": {
            "tags": []
          },
          "execution_count": 240
        }
      ]
    },
    {
      "cell_type": "code",
      "metadata": {
        "id": "o8in5UADV50R",
        "colab": {
          "base_uri": "https://localhost:8080/"
        },
        "outputId": "ebf62c55-dcdb-4a0b-e05d-2a68ccdefce6"
      },
      "source": [
        "accuracy_score(y_true, y_hat)"
      ],
      "execution_count": 241,
      "outputs": [
        {
          "output_type": "execute_result",
          "data": {
            "text/plain": [
              "1.0"
            ]
          },
          "metadata": {
            "tags": []
          },
          "execution_count": 241
        }
      ]
    },
    {
      "cell_type": "code",
      "metadata": {
        "id": "SDYPPqqzWOmK",
        "colab": {
          "base_uri": "https://localhost:8080/"
        },
        "outputId": "5df89a2f-635e-4335-ae3f-db1f018539ac"
      },
      "source": [
        "precision_score(y_true, y_hat)"
      ],
      "execution_count": 242,
      "outputs": [
        {
          "output_type": "execute_result",
          "data": {
            "text/plain": [
              "1.0"
            ]
          },
          "metadata": {
            "tags": []
          },
          "execution_count": 242
        }
      ]
    },
    {
      "cell_type": "code",
      "metadata": {
        "id": "eLgz51aEYUiy",
        "colab": {
          "base_uri": "https://localhost:8080/"
        },
        "outputId": "78a4fe29-85ff-44e6-a408-54304ca41cdb"
      },
      "source": [
        "recall_score(y_true, y_hat)"
      ],
      "execution_count": 243,
      "outputs": [
        {
          "output_type": "execute_result",
          "data": {
            "text/plain": [
              "1.0"
            ]
          },
          "metadata": {
            "tags": []
          },
          "execution_count": 243
        }
      ]
    },
    {
      "cell_type": "code",
      "metadata": {
        "id": "BjZreOaXYW6k",
        "colab": {
          "base_uri": "https://localhost:8080/"
        },
        "outputId": "aa9b754a-05eb-4c94-c086-d29fafa35481"
      },
      "source": [
        "y_true.T"
      ],
      "execution_count": 244,
      "outputs": [
        {
          "output_type": "execute_result",
          "data": {
            "text/plain": [
              "array([1, 1, 1, ..., 0, 0, 0], dtype=int8)"
            ]
          },
          "metadata": {
            "tags": []
          },
          "execution_count": 244
        }
      ]
    },
    {
      "cell_type": "code",
      "metadata": {
        "id": "Zz3BA7xpWaMo",
        "colab": {
          "base_uri": "https://localhost:8080/"
        },
        "outputId": "2af5c772-a25a-4ae7-b9ba-4bdbef5dd8d0"
      },
      "source": [
        "y_hat.T"
      ],
      "execution_count": 245,
      "outputs": [
        {
          "output_type": "execute_result",
          "data": {
            "text/plain": [
              "array([1, 1, 1, ..., 0, 0, 0], dtype=int8)"
            ]
          },
          "metadata": {
            "tags": []
          },
          "execution_count": 245
        }
      ]
    },
    {
      "cell_type": "code",
      "metadata": {
        "id": "3fLoQpxcWeP2",
        "colab": {
          "base_uri": "https://localhost:8080/"
        },
        "outputId": "009c42d2-9b29-4959-9704-02eb0efbb1d4"
      },
      "source": [
        "roc_auc_score(y_true, preds.to(\"cpu\").detach().numpy().flatten())"
      ],
      "execution_count": 246,
      "outputs": [
        {
          "output_type": "execute_result",
          "data": {
            "text/plain": [
              "1.0"
            ]
          },
          "metadata": {
            "tags": []
          },
          "execution_count": 246
        }
      ]
    },
    {
      "cell_type": "code",
      "metadata": {
        "id": "qnh4h1xCn9mR"
      },
      "source": [
        ""
      ],
      "execution_count": 246,
      "outputs": []
    }
  ]
}