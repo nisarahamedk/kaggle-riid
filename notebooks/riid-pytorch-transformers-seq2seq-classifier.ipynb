{
  "nbformat": 4,
  "nbformat_minor": 0,
  "metadata": {
    "kernelspec": {
      "name": "python3",
      "display_name": "Python 3",
      "language": "python"
    },
    "language_info": {
      "name": "python",
      "version": "3.7.6",
      "mimetype": "text/x-python",
      "codemirror_mode": {
        "name": "ipython",
        "version": 3
      },
      "pygments_lexer": "ipython3",
      "nbconvert_exporter": "python",
      "file_extension": ".py"
    },
    "colab": {
      "name": "riid-pytorch-transformers.ipynb",
      "provenance": [],
      "include_colab_link": true
    },
    "accelerator": "GPU"
  },
  "cells": [
    {
      "cell_type": "markdown",
      "metadata": {
        "id": "view-in-github",
        "colab_type": "text"
      },
      "source": [
        "<a href=\"https://colab.research.google.com/github/nisarahamedk/kaggle-riid/blob/master/notebooks/riid-pytorch-transformers-seq2seq-classifier.ipynb\" target=\"_parent\"><img src=\"https://colab.research.google.com/assets/colab-badge.svg\" alt=\"Open In Colab\"/></a>"
      ]
    },
    {
      "cell_type": "code",
      "metadata": {
        "id": "666nJ1-WWJLh"
      },
      "source": [
        "%%capture\n",
        "!pip install gcsfs"
      ],
      "execution_count": 1,
      "outputs": []
    },
    {
      "cell_type": "code",
      "metadata": {
        "trusted": true,
        "id": "18rL3yRXV5BA"
      },
      "source": [
        "import math\n",
        "\n",
        "import gcsfs\n",
        "import pandas as pd\n",
        "import numpy as np\n",
        "import torch\n",
        "import torch.nn as nn\n",
        "import torch.nn.functional as F\n",
        "from torch.utils.data import IterableDataset, DataLoader, ChainDataset\n",
        "from tqdm import tqdm, trange"
      ],
      "execution_count": 2,
      "outputs": []
    },
    {
      "cell_type": "markdown",
      "metadata": {
        "id": "epiDJGV6V5BA"
      },
      "source": [
        "### Read the dataset"
      ]
    },
    {
      "cell_type": "code",
      "metadata": {
        "trusted": true,
        "id": "LunXwcomV5BB"
      },
      "source": [
        "# DATA_PATH = \"/kaggle/input/riiid-test-answer-prediction/\"\n",
        "DATA_PATH = \"gs://kds-e80dfc3d272252bbf34c627d756f891826dab0c19f30ec0fc3ac1979\""
      ],
      "execution_count": 3,
      "outputs": []
    },
    {
      "cell_type": "code",
      "metadata": {
        "_uuid": "d629ff2d2480ee46fbb7e2d37f6b5fab8052498a",
        "_cell_guid": "79c7e3d0-c299-4dcb-8224-4455121ee9b0",
        "trusted": true,
        "id": "bI0E1uWRV5BB"
      },
      "source": [
        "dtypes_train = {\n",
        "    'row_id': 'int64',\n",
        "    'timestamp': 'int64',\n",
        "    'user_id': 'int32',\n",
        "    'content_id': 'int16',\n",
        "    'content_type_id': 'int8',\n",
        "    'task_container_id': 'int16',\n",
        "    'user_answer': 'int8',\n",
        "    'answered_correctly': 'int8',\n",
        "    'prior_question_elapsed_time': 'float32',\n",
        "    'prior_question_had_explanation': 'boolean'\n",
        "    }\n",
        "\n",
        "dtypes_questions = {\n",
        "    \"question_id\": \"\",\n",
        "    \"bundle_id\": \"\",\n",
        "    \"correct_answer\": \"\",\n",
        "    \"part\": \"\",\n",
        "    \"tags\": \"\",\n",
        "}\n",
        "\n",
        "dtypes_lectures = {\n",
        "    \"lecture_id\": \"\",\n",
        "    \"part\": \"\",\n",
        "    \"tag\": \"\",\n",
        "    \"type_of\": \"\",\n",
        "}"
      ],
      "execution_count": 4,
      "outputs": []
    },
    {
      "cell_type": "code",
      "metadata": {
        "trusted": true,
        "colab": {
          "base_uri": "https://localhost:8080/",
          "height": 197
        },
        "id": "EEOz3k6DV5BB",
        "outputId": "9b5b41fc-3e92-446b-d8d1-6e47f3c8d63e"
      },
      "source": [
        "train_df = pd.read_csv(DATA_PATH + \"/train.csv\", dtype=dtypes_train, nrows=1e6)\n",
        "train_df.head()"
      ],
      "execution_count": 5,
      "outputs": [
        {
          "output_type": "execute_result",
          "data": {
            "text/html": [
              "<div>\n",
              "<style scoped>\n",
              "    .dataframe tbody tr th:only-of-type {\n",
              "        vertical-align: middle;\n",
              "    }\n",
              "\n",
              "    .dataframe tbody tr th {\n",
              "        vertical-align: top;\n",
              "    }\n",
              "\n",
              "    .dataframe thead th {\n",
              "        text-align: right;\n",
              "    }\n",
              "</style>\n",
              "<table border=\"1\" class=\"dataframe\">\n",
              "  <thead>\n",
              "    <tr style=\"text-align: right;\">\n",
              "      <th></th>\n",
              "      <th>row_id</th>\n",
              "      <th>timestamp</th>\n",
              "      <th>user_id</th>\n",
              "      <th>content_id</th>\n",
              "      <th>content_type_id</th>\n",
              "      <th>task_container_id</th>\n",
              "      <th>user_answer</th>\n",
              "      <th>answered_correctly</th>\n",
              "      <th>prior_question_elapsed_time</th>\n",
              "      <th>prior_question_had_explanation</th>\n",
              "    </tr>\n",
              "  </thead>\n",
              "  <tbody>\n",
              "    <tr>\n",
              "      <th>0</th>\n",
              "      <td>0</td>\n",
              "      <td>0</td>\n",
              "      <td>115</td>\n",
              "      <td>5692</td>\n",
              "      <td>0</td>\n",
              "      <td>1</td>\n",
              "      <td>3</td>\n",
              "      <td>1</td>\n",
              "      <td>NaN</td>\n",
              "      <td>&lt;NA&gt;</td>\n",
              "    </tr>\n",
              "    <tr>\n",
              "      <th>1</th>\n",
              "      <td>1</td>\n",
              "      <td>56943</td>\n",
              "      <td>115</td>\n",
              "      <td>5716</td>\n",
              "      <td>0</td>\n",
              "      <td>2</td>\n",
              "      <td>2</td>\n",
              "      <td>1</td>\n",
              "      <td>37000.0</td>\n",
              "      <td>False</td>\n",
              "    </tr>\n",
              "    <tr>\n",
              "      <th>2</th>\n",
              "      <td>2</td>\n",
              "      <td>118363</td>\n",
              "      <td>115</td>\n",
              "      <td>128</td>\n",
              "      <td>0</td>\n",
              "      <td>0</td>\n",
              "      <td>0</td>\n",
              "      <td>1</td>\n",
              "      <td>55000.0</td>\n",
              "      <td>False</td>\n",
              "    </tr>\n",
              "    <tr>\n",
              "      <th>3</th>\n",
              "      <td>3</td>\n",
              "      <td>131167</td>\n",
              "      <td>115</td>\n",
              "      <td>7860</td>\n",
              "      <td>0</td>\n",
              "      <td>3</td>\n",
              "      <td>0</td>\n",
              "      <td>1</td>\n",
              "      <td>19000.0</td>\n",
              "      <td>False</td>\n",
              "    </tr>\n",
              "    <tr>\n",
              "      <th>4</th>\n",
              "      <td>4</td>\n",
              "      <td>137965</td>\n",
              "      <td>115</td>\n",
              "      <td>7922</td>\n",
              "      <td>0</td>\n",
              "      <td>4</td>\n",
              "      <td>1</td>\n",
              "      <td>1</td>\n",
              "      <td>11000.0</td>\n",
              "      <td>False</td>\n",
              "    </tr>\n",
              "  </tbody>\n",
              "</table>\n",
              "</div>"
            ],
            "text/plain": [
              "   row_id  ...  prior_question_had_explanation\n",
              "0       0  ...                            <NA>\n",
              "1       1  ...                           False\n",
              "2       2  ...                           False\n",
              "3       3  ...                           False\n",
              "4       4  ...                           False\n",
              "\n",
              "[5 rows x 10 columns]"
            ]
          },
          "metadata": {
            "tags": []
          },
          "execution_count": 5
        }
      ]
    },
    {
      "cell_type": "code",
      "metadata": {
        "trusted": true,
        "colab": {
          "base_uri": "https://localhost:8080/",
          "height": 197
        },
        "id": "DyfGayw_V5BC",
        "outputId": "35d5286b-6fd5-4988-8aa2-116a6e294405"
      },
      "source": [
        "questions_df = pd.read_csv(DATA_PATH + \"/questions.csv\")\n",
        "questions_df.head()"
      ],
      "execution_count": 6,
      "outputs": [
        {
          "output_type": "execute_result",
          "data": {
            "text/html": [
              "<div>\n",
              "<style scoped>\n",
              "    .dataframe tbody tr th:only-of-type {\n",
              "        vertical-align: middle;\n",
              "    }\n",
              "\n",
              "    .dataframe tbody tr th {\n",
              "        vertical-align: top;\n",
              "    }\n",
              "\n",
              "    .dataframe thead th {\n",
              "        text-align: right;\n",
              "    }\n",
              "</style>\n",
              "<table border=\"1\" class=\"dataframe\">\n",
              "  <thead>\n",
              "    <tr style=\"text-align: right;\">\n",
              "      <th></th>\n",
              "      <th>question_id</th>\n",
              "      <th>bundle_id</th>\n",
              "      <th>correct_answer</th>\n",
              "      <th>part</th>\n",
              "      <th>tags</th>\n",
              "    </tr>\n",
              "  </thead>\n",
              "  <tbody>\n",
              "    <tr>\n",
              "      <th>0</th>\n",
              "      <td>0</td>\n",
              "      <td>0</td>\n",
              "      <td>0</td>\n",
              "      <td>1</td>\n",
              "      <td>51 131 162 38</td>\n",
              "    </tr>\n",
              "    <tr>\n",
              "      <th>1</th>\n",
              "      <td>1</td>\n",
              "      <td>1</td>\n",
              "      <td>1</td>\n",
              "      <td>1</td>\n",
              "      <td>131 36 81</td>\n",
              "    </tr>\n",
              "    <tr>\n",
              "      <th>2</th>\n",
              "      <td>2</td>\n",
              "      <td>2</td>\n",
              "      <td>0</td>\n",
              "      <td>1</td>\n",
              "      <td>131 101 162 92</td>\n",
              "    </tr>\n",
              "    <tr>\n",
              "      <th>3</th>\n",
              "      <td>3</td>\n",
              "      <td>3</td>\n",
              "      <td>0</td>\n",
              "      <td>1</td>\n",
              "      <td>131 149 162 29</td>\n",
              "    </tr>\n",
              "    <tr>\n",
              "      <th>4</th>\n",
              "      <td>4</td>\n",
              "      <td>4</td>\n",
              "      <td>3</td>\n",
              "      <td>1</td>\n",
              "      <td>131 5 162 38</td>\n",
              "    </tr>\n",
              "  </tbody>\n",
              "</table>\n",
              "</div>"
            ],
            "text/plain": [
              "   question_id  bundle_id  correct_answer  part            tags\n",
              "0            0          0               0     1   51 131 162 38\n",
              "1            1          1               1     1       131 36 81\n",
              "2            2          2               0     1  131 101 162 92\n",
              "3            3          3               0     1  131 149 162 29\n",
              "4            4          4               3     1    131 5 162 38"
            ]
          },
          "metadata": {
            "tags": []
          },
          "execution_count": 6
        }
      ]
    },
    {
      "cell_type": "code",
      "metadata": {
        "trusted": true,
        "colab": {
          "base_uri": "https://localhost:8080/",
          "height": 197
        },
        "id": "oRPol9iZV5BD",
        "outputId": "8028f6c5-2b34-429d-c71b-49f37980ce2e"
      },
      "source": [
        "lectures_df = pd.read_csv(DATA_PATH + \"/lectures.csv\")\n",
        "lectures_df.head()"
      ],
      "execution_count": 7,
      "outputs": [
        {
          "output_type": "execute_result",
          "data": {
            "text/html": [
              "<div>\n",
              "<style scoped>\n",
              "    .dataframe tbody tr th:only-of-type {\n",
              "        vertical-align: middle;\n",
              "    }\n",
              "\n",
              "    .dataframe tbody tr th {\n",
              "        vertical-align: top;\n",
              "    }\n",
              "\n",
              "    .dataframe thead th {\n",
              "        text-align: right;\n",
              "    }\n",
              "</style>\n",
              "<table border=\"1\" class=\"dataframe\">\n",
              "  <thead>\n",
              "    <tr style=\"text-align: right;\">\n",
              "      <th></th>\n",
              "      <th>lecture_id</th>\n",
              "      <th>tag</th>\n",
              "      <th>part</th>\n",
              "      <th>type_of</th>\n",
              "    </tr>\n",
              "  </thead>\n",
              "  <tbody>\n",
              "    <tr>\n",
              "      <th>0</th>\n",
              "      <td>89</td>\n",
              "      <td>159</td>\n",
              "      <td>5</td>\n",
              "      <td>concept</td>\n",
              "    </tr>\n",
              "    <tr>\n",
              "      <th>1</th>\n",
              "      <td>100</td>\n",
              "      <td>70</td>\n",
              "      <td>1</td>\n",
              "      <td>concept</td>\n",
              "    </tr>\n",
              "    <tr>\n",
              "      <th>2</th>\n",
              "      <td>185</td>\n",
              "      <td>45</td>\n",
              "      <td>6</td>\n",
              "      <td>concept</td>\n",
              "    </tr>\n",
              "    <tr>\n",
              "      <th>3</th>\n",
              "      <td>192</td>\n",
              "      <td>79</td>\n",
              "      <td>5</td>\n",
              "      <td>solving question</td>\n",
              "    </tr>\n",
              "    <tr>\n",
              "      <th>4</th>\n",
              "      <td>317</td>\n",
              "      <td>156</td>\n",
              "      <td>5</td>\n",
              "      <td>solving question</td>\n",
              "    </tr>\n",
              "  </tbody>\n",
              "</table>\n",
              "</div>"
            ],
            "text/plain": [
              "   lecture_id  tag  part           type_of\n",
              "0          89  159     5           concept\n",
              "1         100   70     1           concept\n",
              "2         185   45     6           concept\n",
              "3         192   79     5  solving question\n",
              "4         317  156     5  solving question"
            ]
          },
          "metadata": {
            "tags": []
          },
          "execution_count": 7
        }
      ]
    },
    {
      "cell_type": "code",
      "metadata": {
        "trusted": true,
        "id": "33-V3ekrV5BD"
      },
      "source": [
        "# removing lecture rows.\n",
        "train_df = train_df[train_df.answered_correctly != -1]"
      ],
      "execution_count": 8,
      "outputs": []
    },
    {
      "cell_type": "code",
      "metadata": {
        "trusted": true,
        "colab": {
          "base_uri": "https://localhost:8080/",
          "height": 317
        },
        "id": "eXZ6uVXmV5BD",
        "outputId": "ede55c55-0713-4926-e0ba-a5f1d8c3b096"
      },
      "source": [
        "train_df = train_df.join(questions_df, on=\"content_id\")\n",
        "train_df.head()"
      ],
      "execution_count": 9,
      "outputs": [
        {
          "output_type": "execute_result",
          "data": {
            "text/html": [
              "<div>\n",
              "<style scoped>\n",
              "    .dataframe tbody tr th:only-of-type {\n",
              "        vertical-align: middle;\n",
              "    }\n",
              "\n",
              "    .dataframe tbody tr th {\n",
              "        vertical-align: top;\n",
              "    }\n",
              "\n",
              "    .dataframe thead th {\n",
              "        text-align: right;\n",
              "    }\n",
              "</style>\n",
              "<table border=\"1\" class=\"dataframe\">\n",
              "  <thead>\n",
              "    <tr style=\"text-align: right;\">\n",
              "      <th></th>\n",
              "      <th>row_id</th>\n",
              "      <th>timestamp</th>\n",
              "      <th>user_id</th>\n",
              "      <th>content_id</th>\n",
              "      <th>content_type_id</th>\n",
              "      <th>task_container_id</th>\n",
              "      <th>user_answer</th>\n",
              "      <th>answered_correctly</th>\n",
              "      <th>prior_question_elapsed_time</th>\n",
              "      <th>prior_question_had_explanation</th>\n",
              "      <th>question_id</th>\n",
              "      <th>bundle_id</th>\n",
              "      <th>correct_answer</th>\n",
              "      <th>part</th>\n",
              "      <th>tags</th>\n",
              "    </tr>\n",
              "  </thead>\n",
              "  <tbody>\n",
              "    <tr>\n",
              "      <th>0</th>\n",
              "      <td>0</td>\n",
              "      <td>0</td>\n",
              "      <td>115</td>\n",
              "      <td>5692</td>\n",
              "      <td>0</td>\n",
              "      <td>1</td>\n",
              "      <td>3</td>\n",
              "      <td>1</td>\n",
              "      <td>NaN</td>\n",
              "      <td>&lt;NA&gt;</td>\n",
              "      <td>5692</td>\n",
              "      <td>5692</td>\n",
              "      <td>3</td>\n",
              "      <td>5</td>\n",
              "      <td>151</td>\n",
              "    </tr>\n",
              "    <tr>\n",
              "      <th>1</th>\n",
              "      <td>1</td>\n",
              "      <td>56943</td>\n",
              "      <td>115</td>\n",
              "      <td>5716</td>\n",
              "      <td>0</td>\n",
              "      <td>2</td>\n",
              "      <td>2</td>\n",
              "      <td>1</td>\n",
              "      <td>37000.0</td>\n",
              "      <td>False</td>\n",
              "      <td>5716</td>\n",
              "      <td>5716</td>\n",
              "      <td>2</td>\n",
              "      <td>5</td>\n",
              "      <td>168</td>\n",
              "    </tr>\n",
              "    <tr>\n",
              "      <th>2</th>\n",
              "      <td>2</td>\n",
              "      <td>118363</td>\n",
              "      <td>115</td>\n",
              "      <td>128</td>\n",
              "      <td>0</td>\n",
              "      <td>0</td>\n",
              "      <td>0</td>\n",
              "      <td>1</td>\n",
              "      <td>55000.0</td>\n",
              "      <td>False</td>\n",
              "      <td>128</td>\n",
              "      <td>128</td>\n",
              "      <td>0</td>\n",
              "      <td>1</td>\n",
              "      <td>131 149 92</td>\n",
              "    </tr>\n",
              "    <tr>\n",
              "      <th>3</th>\n",
              "      <td>3</td>\n",
              "      <td>131167</td>\n",
              "      <td>115</td>\n",
              "      <td>7860</td>\n",
              "      <td>0</td>\n",
              "      <td>3</td>\n",
              "      <td>0</td>\n",
              "      <td>1</td>\n",
              "      <td>19000.0</td>\n",
              "      <td>False</td>\n",
              "      <td>7860</td>\n",
              "      <td>7860</td>\n",
              "      <td>0</td>\n",
              "      <td>1</td>\n",
              "      <td>131 104 81</td>\n",
              "    </tr>\n",
              "    <tr>\n",
              "      <th>4</th>\n",
              "      <td>4</td>\n",
              "      <td>137965</td>\n",
              "      <td>115</td>\n",
              "      <td>7922</td>\n",
              "      <td>0</td>\n",
              "      <td>4</td>\n",
              "      <td>1</td>\n",
              "      <td>1</td>\n",
              "      <td>11000.0</td>\n",
              "      <td>False</td>\n",
              "      <td>7922</td>\n",
              "      <td>7922</td>\n",
              "      <td>1</td>\n",
              "      <td>1</td>\n",
              "      <td>131 149 92</td>\n",
              "    </tr>\n",
              "  </tbody>\n",
              "</table>\n",
              "</div>"
            ],
            "text/plain": [
              "   row_id  timestamp  user_id  ...  correct_answer  part        tags\n",
              "0       0          0      115  ...               3     5         151\n",
              "1       1      56943      115  ...               2     5         168\n",
              "2       2     118363      115  ...               0     1  131 149 92\n",
              "3       3     131167      115  ...               0     1  131 104 81\n",
              "4       4     137965      115  ...               1     1  131 149 92\n",
              "\n",
              "[5 rows x 15 columns]"
            ]
          },
          "metadata": {
            "tags": []
          },
          "execution_count": 9
        }
      ]
    },
    {
      "cell_type": "code",
      "metadata": {
        "trusted": true,
        "colab": {
          "base_uri": "https://localhost:8080/",
          "height": 197
        },
        "id": "hBAI5pHMV5BD",
        "outputId": "6a0ae43f-bd74-4ef7-d377-606fc5703ac6"
      },
      "source": [
        "drop_cols = [\n",
        "             \"row_id\", \n",
        "             \"timestamp\", \n",
        "             \"content_type_id\", \n",
        "             \"user_answer\", \n",
        "             \"prior_question_had_explanation\", \n",
        "             \"question_id\", \n",
        "             \"bundle_id\", \n",
        "             \"correct_answer\", \n",
        "             \"tags\"\n",
        "             ]\n",
        "train_df = train_df.drop(drop_cols, axis=1)\n",
        "train_df.head()"
      ],
      "execution_count": 10,
      "outputs": [
        {
          "output_type": "execute_result",
          "data": {
            "text/html": [
              "<div>\n",
              "<style scoped>\n",
              "    .dataframe tbody tr th:only-of-type {\n",
              "        vertical-align: middle;\n",
              "    }\n",
              "\n",
              "    .dataframe tbody tr th {\n",
              "        vertical-align: top;\n",
              "    }\n",
              "\n",
              "    .dataframe thead th {\n",
              "        text-align: right;\n",
              "    }\n",
              "</style>\n",
              "<table border=\"1\" class=\"dataframe\">\n",
              "  <thead>\n",
              "    <tr style=\"text-align: right;\">\n",
              "      <th></th>\n",
              "      <th>user_id</th>\n",
              "      <th>content_id</th>\n",
              "      <th>task_container_id</th>\n",
              "      <th>answered_correctly</th>\n",
              "      <th>prior_question_elapsed_time</th>\n",
              "      <th>part</th>\n",
              "    </tr>\n",
              "  </thead>\n",
              "  <tbody>\n",
              "    <tr>\n",
              "      <th>0</th>\n",
              "      <td>115</td>\n",
              "      <td>5692</td>\n",
              "      <td>1</td>\n",
              "      <td>1</td>\n",
              "      <td>NaN</td>\n",
              "      <td>5</td>\n",
              "    </tr>\n",
              "    <tr>\n",
              "      <th>1</th>\n",
              "      <td>115</td>\n",
              "      <td>5716</td>\n",
              "      <td>2</td>\n",
              "      <td>1</td>\n",
              "      <td>37000.0</td>\n",
              "      <td>5</td>\n",
              "    </tr>\n",
              "    <tr>\n",
              "      <th>2</th>\n",
              "      <td>115</td>\n",
              "      <td>128</td>\n",
              "      <td>0</td>\n",
              "      <td>1</td>\n",
              "      <td>55000.0</td>\n",
              "      <td>1</td>\n",
              "    </tr>\n",
              "    <tr>\n",
              "      <th>3</th>\n",
              "      <td>115</td>\n",
              "      <td>7860</td>\n",
              "      <td>3</td>\n",
              "      <td>1</td>\n",
              "      <td>19000.0</td>\n",
              "      <td>1</td>\n",
              "    </tr>\n",
              "    <tr>\n",
              "      <th>4</th>\n",
              "      <td>115</td>\n",
              "      <td>7922</td>\n",
              "      <td>4</td>\n",
              "      <td>1</td>\n",
              "      <td>11000.0</td>\n",
              "      <td>1</td>\n",
              "    </tr>\n",
              "  </tbody>\n",
              "</table>\n",
              "</div>"
            ],
            "text/plain": [
              "   user_id  content_id  ...  prior_question_elapsed_time  part\n",
              "0      115        5692  ...                          NaN     5\n",
              "1      115        5716  ...                      37000.0     5\n",
              "2      115         128  ...                      55000.0     1\n",
              "3      115        7860  ...                      19000.0     1\n",
              "4      115        7922  ...                      11000.0     1\n",
              "\n",
              "[5 rows x 6 columns]"
            ]
          },
          "metadata": {
            "tags": []
          },
          "execution_count": 10
        }
      ]
    },
    {
      "cell_type": "code",
      "metadata": {
        "trusted": true,
        "colab": {
          "base_uri": "https://localhost:8080/",
          "height": 197
        },
        "id": "4-DBlD76V5BD",
        "outputId": "42c51ef5-aa35-4c2a-ef2e-2c1085c08724"
      },
      "source": [
        "# 0 is used for padding, so increment 1\n",
        "indicator_cols = [\"content_id\", \"task_container_id\", \"part\"]\n",
        "for c in indicator_cols:\n",
        "  train_df[c] = train_df[c] + 1\n",
        "train_df.head()"
      ],
      "execution_count": 11,
      "outputs": [
        {
          "output_type": "execute_result",
          "data": {
            "text/html": [
              "<div>\n",
              "<style scoped>\n",
              "    .dataframe tbody tr th:only-of-type {\n",
              "        vertical-align: middle;\n",
              "    }\n",
              "\n",
              "    .dataframe tbody tr th {\n",
              "        vertical-align: top;\n",
              "    }\n",
              "\n",
              "    .dataframe thead th {\n",
              "        text-align: right;\n",
              "    }\n",
              "</style>\n",
              "<table border=\"1\" class=\"dataframe\">\n",
              "  <thead>\n",
              "    <tr style=\"text-align: right;\">\n",
              "      <th></th>\n",
              "      <th>user_id</th>\n",
              "      <th>content_id</th>\n",
              "      <th>task_container_id</th>\n",
              "      <th>answered_correctly</th>\n",
              "      <th>prior_question_elapsed_time</th>\n",
              "      <th>part</th>\n",
              "    </tr>\n",
              "  </thead>\n",
              "  <tbody>\n",
              "    <tr>\n",
              "      <th>0</th>\n",
              "      <td>115</td>\n",
              "      <td>5693</td>\n",
              "      <td>2</td>\n",
              "      <td>1</td>\n",
              "      <td>NaN</td>\n",
              "      <td>6</td>\n",
              "    </tr>\n",
              "    <tr>\n",
              "      <th>1</th>\n",
              "      <td>115</td>\n",
              "      <td>5717</td>\n",
              "      <td>3</td>\n",
              "      <td>1</td>\n",
              "      <td>37000.0</td>\n",
              "      <td>6</td>\n",
              "    </tr>\n",
              "    <tr>\n",
              "      <th>2</th>\n",
              "      <td>115</td>\n",
              "      <td>129</td>\n",
              "      <td>1</td>\n",
              "      <td>1</td>\n",
              "      <td>55000.0</td>\n",
              "      <td>2</td>\n",
              "    </tr>\n",
              "    <tr>\n",
              "      <th>3</th>\n",
              "      <td>115</td>\n",
              "      <td>7861</td>\n",
              "      <td>4</td>\n",
              "      <td>1</td>\n",
              "      <td>19000.0</td>\n",
              "      <td>2</td>\n",
              "    </tr>\n",
              "    <tr>\n",
              "      <th>4</th>\n",
              "      <td>115</td>\n",
              "      <td>7923</td>\n",
              "      <td>5</td>\n",
              "      <td>1</td>\n",
              "      <td>11000.0</td>\n",
              "      <td>2</td>\n",
              "    </tr>\n",
              "  </tbody>\n",
              "</table>\n",
              "</div>"
            ],
            "text/plain": [
              "   user_id  content_id  ...  prior_question_elapsed_time  part\n",
              "0      115        5693  ...                          NaN     6\n",
              "1      115        5717  ...                      37000.0     6\n",
              "2      115         129  ...                      55000.0     2\n",
              "3      115        7861  ...                      19000.0     2\n",
              "4      115        7923  ...                      11000.0     2\n",
              "\n",
              "[5 rows x 6 columns]"
            ]
          },
          "metadata": {
            "tags": []
          },
          "execution_count": 11
        }
      ]
    },
    {
      "cell_type": "code",
      "metadata": {
        "trusted": true,
        "colab": {
          "base_uri": "https://localhost:8080/",
          "height": 197
        },
        "id": "j2nEsBzAV5BD",
        "outputId": "549fe852-758b-4ad2-b015-15a51d7c50b8"
      },
      "source": [
        "# convert milliseconds to minutes.\n",
        "train_df['prior_question_elapsed_time'] = train_df[\"prior_question_elapsed_time\"].fillna(0).astype(np.float32) / 60000\n",
        "train_df.head()"
      ],
      "execution_count": 12,
      "outputs": [
        {
          "output_type": "execute_result",
          "data": {
            "text/html": [
              "<div>\n",
              "<style scoped>\n",
              "    .dataframe tbody tr th:only-of-type {\n",
              "        vertical-align: middle;\n",
              "    }\n",
              "\n",
              "    .dataframe tbody tr th {\n",
              "        vertical-align: top;\n",
              "    }\n",
              "\n",
              "    .dataframe thead th {\n",
              "        text-align: right;\n",
              "    }\n",
              "</style>\n",
              "<table border=\"1\" class=\"dataframe\">\n",
              "  <thead>\n",
              "    <tr style=\"text-align: right;\">\n",
              "      <th></th>\n",
              "      <th>user_id</th>\n",
              "      <th>content_id</th>\n",
              "      <th>task_container_id</th>\n",
              "      <th>answered_correctly</th>\n",
              "      <th>prior_question_elapsed_time</th>\n",
              "      <th>part</th>\n",
              "    </tr>\n",
              "  </thead>\n",
              "  <tbody>\n",
              "    <tr>\n",
              "      <th>0</th>\n",
              "      <td>115</td>\n",
              "      <td>5693</td>\n",
              "      <td>2</td>\n",
              "      <td>1</td>\n",
              "      <td>0.000000</td>\n",
              "      <td>6</td>\n",
              "    </tr>\n",
              "    <tr>\n",
              "      <th>1</th>\n",
              "      <td>115</td>\n",
              "      <td>5717</td>\n",
              "      <td>3</td>\n",
              "      <td>1</td>\n",
              "      <td>0.616667</td>\n",
              "      <td>6</td>\n",
              "    </tr>\n",
              "    <tr>\n",
              "      <th>2</th>\n",
              "      <td>115</td>\n",
              "      <td>129</td>\n",
              "      <td>1</td>\n",
              "      <td>1</td>\n",
              "      <td>0.916667</td>\n",
              "      <td>2</td>\n",
              "    </tr>\n",
              "    <tr>\n",
              "      <th>3</th>\n",
              "      <td>115</td>\n",
              "      <td>7861</td>\n",
              "      <td>4</td>\n",
              "      <td>1</td>\n",
              "      <td>0.316667</td>\n",
              "      <td>2</td>\n",
              "    </tr>\n",
              "    <tr>\n",
              "      <th>4</th>\n",
              "      <td>115</td>\n",
              "      <td>7923</td>\n",
              "      <td>5</td>\n",
              "      <td>1</td>\n",
              "      <td>0.183333</td>\n",
              "      <td>2</td>\n",
              "    </tr>\n",
              "  </tbody>\n",
              "</table>\n",
              "</div>"
            ],
            "text/plain": [
              "   user_id  content_id  ...  prior_question_elapsed_time  part\n",
              "0      115        5693  ...                     0.000000     6\n",
              "1      115        5717  ...                     0.616667     6\n",
              "2      115         129  ...                     0.916667     2\n",
              "3      115        7861  ...                     0.316667     2\n",
              "4      115        7923  ...                     0.183333     2\n",
              "\n",
              "[5 rows x 6 columns]"
            ]
          },
          "metadata": {
            "tags": []
          },
          "execution_count": 12
        }
      ]
    },
    {
      "cell_type": "code",
      "metadata": {
        "trusted": true,
        "colab": {
          "base_uri": "https://localhost:8080/"
        },
        "id": "gAu_YF9mV5BD",
        "outputId": "da88708e-309c-4b63-dc2c-945c3a8be3c5"
      },
      "source": [
        "user_groups = train_df.groupby(\"user_id\")\n",
        "user_groups_dict = {uid: udf for uid, udf in user_groups}\n",
        "len(user_groups_dict)"
      ],
      "execution_count": 13,
      "outputs": [
        {
          "output_type": "execute_result",
          "data": {
            "text/plain": [
              "3824"
            ]
          },
          "metadata": {
            "tags": []
          },
          "execution_count": 13
        }
      ]
    },
    {
      "cell_type": "code",
      "metadata": {
        "colab": {
          "base_uri": "https://localhost:8080/",
          "height": 227
        },
        "id": "TA5sgy_Y8BOy",
        "outputId": "caeaf540-3c34-420b-86a8-8ef2ba654f90"
      },
      "source": [
        "# sort based on the # of interactions for a user\n",
        "sorted_user_groups = user_groups.count().sort_values(\"content_id\")\n",
        "sorted_user_groups.head()"
      ],
      "execution_count": 14,
      "outputs": [
        {
          "output_type": "execute_result",
          "data": {
            "text/html": [
              "<div>\n",
              "<style scoped>\n",
              "    .dataframe tbody tr th:only-of-type {\n",
              "        vertical-align: middle;\n",
              "    }\n",
              "\n",
              "    .dataframe tbody tr th {\n",
              "        vertical-align: top;\n",
              "    }\n",
              "\n",
              "    .dataframe thead th {\n",
              "        text-align: right;\n",
              "    }\n",
              "</style>\n",
              "<table border=\"1\" class=\"dataframe\">\n",
              "  <thead>\n",
              "    <tr style=\"text-align: right;\">\n",
              "      <th></th>\n",
              "      <th>content_id</th>\n",
              "      <th>task_container_id</th>\n",
              "      <th>answered_correctly</th>\n",
              "      <th>prior_question_elapsed_time</th>\n",
              "      <th>part</th>\n",
              "    </tr>\n",
              "    <tr>\n",
              "      <th>user_id</th>\n",
              "      <th></th>\n",
              "      <th></th>\n",
              "      <th></th>\n",
              "      <th></th>\n",
              "      <th></th>\n",
              "    </tr>\n",
              "  </thead>\n",
              "  <tbody>\n",
              "    <tr>\n",
              "      <th>19887248</th>\n",
              "      <td>1</td>\n",
              "      <td>1</td>\n",
              "      <td>1</td>\n",
              "      <td>1</td>\n",
              "      <td>1</td>\n",
              "    </tr>\n",
              "    <tr>\n",
              "      <th>1880240</th>\n",
              "      <td>1</td>\n",
              "      <td>1</td>\n",
              "      <td>1</td>\n",
              "      <td>1</td>\n",
              "      <td>1</td>\n",
              "    </tr>\n",
              "    <tr>\n",
              "      <th>15960740</th>\n",
              "      <td>2</td>\n",
              "      <td>2</td>\n",
              "      <td>2</td>\n",
              "      <td>2</td>\n",
              "      <td>2</td>\n",
              "    </tr>\n",
              "    <tr>\n",
              "      <th>2148001</th>\n",
              "      <td>2</td>\n",
              "      <td>2</td>\n",
              "      <td>2</td>\n",
              "      <td>2</td>\n",
              "      <td>2</td>\n",
              "    </tr>\n",
              "    <tr>\n",
              "      <th>1946295</th>\n",
              "      <td>3</td>\n",
              "      <td>3</td>\n",
              "      <td>3</td>\n",
              "      <td>3</td>\n",
              "      <td>3</td>\n",
              "    </tr>\n",
              "  </tbody>\n",
              "</table>\n",
              "</div>"
            ],
            "text/plain": [
              "          content_id  task_container_id  ...  prior_question_elapsed_time  part\n",
              "user_id                                  ...                                   \n",
              "19887248           1                  1  ...                            1     1\n",
              "1880240            1                  1  ...                            1     1\n",
              "15960740           2                  2  ...                            2     2\n",
              "2148001            2                  2  ...                            2     2\n",
              "1946295            3                  3  ...                            3     3\n",
              "\n",
              "[5 rows x 5 columns]"
            ]
          },
          "metadata": {
            "tags": []
          },
          "execution_count": 14
        }
      ]
    },
    {
      "cell_type": "code",
      "metadata": {
        "colab": {
          "base_uri": "https://localhost:8080/"
        },
        "id": "9c28be4Y9JXv",
        "outputId": "f2e7a529-ebcc-49d0-ddc9-0a02b210cc78"
      },
      "source": [
        "sorted_uids = sorted_user_groups.index\n",
        "sorted_uids"
      ],
      "execution_count": 15,
      "outputs": [
        {
          "output_type": "execute_result",
          "data": {
            "text/plain": [
              "Int64Index([19887248,  1880240, 15960740,  2148001,  1946295, 11050314,\n",
              "            12908124, 18249255, 15786147,  4280793,\n",
              "            ...\n",
              "            19489973,    24418, 15441391, 11610328,  3838215,  4421282,\n",
              "             9418512, 18122922,  1283420,  7171715],\n",
              "           dtype='int64', name='user_id', length=3824)"
            ]
          },
          "metadata": {
            "tags": []
          },
          "execution_count": 15
        }
      ]
    },
    {
      "cell_type": "markdown",
      "metadata": {
        "id": "7tMw6HjyV5BE"
      },
      "source": [
        "### Pytorch Iterable Dataset"
      ]
    },
    {
      "cell_type": "code",
      "metadata": {
        "trusted": true,
        "id": "7iklS-skV5BE"
      },
      "source": [
        "# just some stuff I ctrl C ctrl V from StackOverflow (with little changes)\n",
        "# [1,2,3,4] --- w = 2 --[[1,2], [2,3], [3,4]] but 2D to 3D\n",
        "def rolling_window(a, w):\n",
        "    s0, s1 = a.strides\n",
        "    m, n = a.shape\n",
        "    return np.lib.stride_tricks.as_strided(\n",
        "        a, \n",
        "        shape=(m-w+1, w, n), \n",
        "        strides=(s0, s0, s1)\n",
        "    )\n",
        "\n",
        "def make_timeseries(x, window_length):\n",
        "  \"\"\"\n",
        "  x - shape (seq_len, features)\n",
        "  \"\"\"\n",
        "  # pad a lot of 0s before so when we create windows, we will have appropriate padding.\n",
        "  x = np.pad(x, ((window_length-1, 0), (0, 0)), constant_values=0) # add padding to the first dimension\n",
        "  \n",
        "  # roll windows \n",
        "  x = rolling_window(x, window_length) # shape will become - (seq_len, window_length, features)\n",
        "\n",
        "  return x\n",
        "\n",
        "def add_features_to_user_df(user_df):\n",
        "\n",
        "  # shifted answered_correctly, SOS 3\n",
        "  user_df[\"answered_correctly\"] = user_df[\"answered_correctly\"].shift(fill_value=2) + 1\n",
        "\n",
        "  return user_df"
      ],
      "execution_count": 16,
      "outputs": []
    },
    {
      "cell_type": "markdown",
      "metadata": {
        "id": "y7RaQ1H9ozpY"
      },
      "source": [
        "#### Sequence to Sequence Dataset"
      ]
    },
    {
      "cell_type": "code",
      "metadata": {
        "id": "HttmylKTo5-Z"
      },
      "source": [
        "class RiidS2SDataset(IterableDataset):\n",
        "  def __init__(self, user_groups_dict, uids, seq_len=128, batch_size=32, n_batches=None):\n",
        "    super().__init__()\n",
        "    self.user_groups_dict = user_groups_dict\n",
        "    self.uids = uids\n",
        "    self.batch_size = batch_size\n",
        "    self.seq_len = seq_len\n",
        "    self.__len = None\n",
        "    self.n_batches = n_batches\n",
        "    if n_batches:\n",
        "      self.__len = n_batches\n",
        "\n",
        "  def __len__(self):\n",
        "    if not self.__len:\n",
        "      b = 0\n",
        "      for xb, yb in self:\n",
        "        b += 1\n",
        "      self.__len = b\n",
        "    return self.__len\n",
        "\n",
        "  def create_batch(self, xs, ys):\n",
        "    padded_xs, padded_ys = [], []\n",
        "    maxlen = max(len(x) for x in xs)\n",
        "    for i in range(len(xs)):\n",
        "      padded_xs.append(np.pad(xs[i], ((maxlen-len(xs[i]), 0), (0, 0)), constant_values=0))\n",
        "      padded_ys.append(np.pad(ys[i], (maxlen-len(ys[i]), 0), constant_values=0))\n",
        "    return padded_xs, padded_ys\n",
        "\n",
        "  def __iter__(self):\n",
        "    b = 0\n",
        "    xs, ys = [], []\n",
        "    for user_id in self.uids:\n",
        "      user_df = self.user_groups_dict[user_id].drop(columns=\"user_id\")\n",
        "      y = user_df[\"answered_correctly\"].to_numpy().copy()\n",
        "      x = add_features_to_user_df(user_df).values\n",
        "      if y.shape[0] < self.seq_len:\n",
        "        xs.append(x)\n",
        "        ys.append(y)\n",
        "        b += 1\n",
        "        if b == self.batch_size:\n",
        "            padded_xs, padded_ys = self.create_batch(xs, ys)\n",
        "            yield np.transpose(np.stack(padded_xs), (1, 0, 2)), np.stack(padded_ys) # reshape x to [seq_len, bs, n_features]\n",
        "            b = 0\n",
        "            xs, ys = [], []\n",
        "      else:\n",
        "        for i in range(0, y.shape[0], self.seq_len):\n",
        "          start, end = i, i + self.seq_len\n",
        "          if end > y.shape[0]:\n",
        "            xs.append(x[start:])\n",
        "            ys.append(y[start:])\n",
        "          else:\n",
        "            xs.append(x[start:end])\n",
        "            ys.append(y[start:end])\n",
        "          b += 1\n",
        "          if b == self.batch_size:\n",
        "            padded_xs, padded_ys = self.create_batch(xs, ys)\n",
        "            yield np.transpose(np.stack(padded_xs), (1, 0, 2)), np.stack(padded_ys) # reshape x to [seq_len, bs, n_features]\n",
        "            b = 0\n",
        "            xs, ys = [], []"
      ],
      "execution_count": 17,
      "outputs": []
    },
    {
      "cell_type": "code",
      "metadata": {
        "id": "iK8zJ_efpcaZ"
      },
      "source": [
        "riid_ds = RiidS2SDataset(user_groups_dict, sorted_uids, seq_len=128, batch_size=64)"
      ],
      "execution_count": 18,
      "outputs": []
    },
    {
      "cell_type": "code",
      "metadata": {
        "colab": {
          "base_uri": "https://localhost:8080/"
        },
        "id": "jBdAwQtnpjCZ",
        "outputId": "7c10f716-6d46-4970-e3b9-c7bd9cdd61d2"
      },
      "source": [
        "riid_ds_iter = iter(riid_ds)\n",
        "xb, yb = next(riid_ds_iter)\n",
        "xb.shape, yb.shape"
      ],
      "execution_count": 19,
      "outputs": [
        {
          "output_type": "execute_result",
          "data": {
            "text/plain": [
              "((12, 64, 5), (64, 12))"
            ]
          },
          "metadata": {
            "tags": []
          },
          "execution_count": 19
        }
      ]
    },
    {
      "cell_type": "markdown",
      "metadata": {
        "id": "u_PFczUc83ue"
      },
      "source": [
        "Check the first sample in the batch"
      ]
    },
    {
      "cell_type": "code",
      "metadata": {
        "colab": {
          "base_uri": "https://localhost:8080/"
        },
        "id": "jrZfcR-fp9hZ",
        "outputId": "f738c1fc-204d-47eb-f155-eefb5b1ff9d8"
      },
      "source": [
        "xb[:, 0, :]"
      ],
      "execution_count": 20,
      "outputs": [
        {
          "output_type": "execute_result",
          "data": {
            "text/plain": [
              "array([[0.000e+00, 0.000e+00, 0.000e+00, 0.000e+00, 0.000e+00],\n",
              "       [0.000e+00, 0.000e+00, 0.000e+00, 0.000e+00, 0.000e+00],\n",
              "       [0.000e+00, 0.000e+00, 0.000e+00, 0.000e+00, 0.000e+00],\n",
              "       [0.000e+00, 0.000e+00, 0.000e+00, 0.000e+00, 0.000e+00],\n",
              "       [0.000e+00, 0.000e+00, 0.000e+00, 0.000e+00, 0.000e+00],\n",
              "       [0.000e+00, 0.000e+00, 0.000e+00, 0.000e+00, 0.000e+00],\n",
              "       [0.000e+00, 0.000e+00, 0.000e+00, 0.000e+00, 0.000e+00],\n",
              "       [0.000e+00, 0.000e+00, 0.000e+00, 0.000e+00, 0.000e+00],\n",
              "       [0.000e+00, 0.000e+00, 0.000e+00, 0.000e+00, 0.000e+00],\n",
              "       [0.000e+00, 0.000e+00, 0.000e+00, 0.000e+00, 0.000e+00],\n",
              "       [0.000e+00, 0.000e+00, 0.000e+00, 0.000e+00, 0.000e+00],\n",
              "       [6.369e+03, 1.000e+00, 3.000e+00, 0.000e+00, 6.000e+00]])"
            ]
          },
          "metadata": {
            "tags": []
          },
          "execution_count": 20
        }
      ]
    },
    {
      "cell_type": "code",
      "metadata": {
        "colab": {
          "base_uri": "https://localhost:8080/"
        },
        "id": "-uMdAEB3qLh9",
        "outputId": "41f86a9e-da67-4c97-ae57-a45e65ef6dd6"
      },
      "source": [
        "yb[0, :]"
      ],
      "execution_count": 21,
      "outputs": [
        {
          "output_type": "execute_result",
          "data": {
            "text/plain": [
              "array([0, 0, 0, 0, 0, 0, 0, 0, 0, 0, 0, 0], dtype=int8)"
            ]
          },
          "metadata": {
            "tags": []
          },
          "execution_count": 21
        }
      ]
    },
    {
      "cell_type": "code",
      "metadata": {
        "colab": {
          "base_uri": "https://localhost:8080/"
        },
        "id": "f0GeD6gK8UkM",
        "outputId": "f64bab63-a0bf-47df-f0b7-c2fc9e003ff7"
      },
      "source": [
        "sorted_uids[0]"
      ],
      "execution_count": 22,
      "outputs": [
        {
          "output_type": "execute_result",
          "data": {
            "text/plain": [
              "19887248"
            ]
          },
          "metadata": {
            "tags": []
          },
          "execution_count": 22
        }
      ]
    },
    {
      "cell_type": "code",
      "metadata": {
        "colab": {
          "base_uri": "https://localhost:8080/",
          "height": 77
        },
        "id": "fGiufHEUqONl",
        "outputId": "2e6982e7-8c5d-48cb-c230-f08273f894d6"
      },
      "source": [
        "train_df[train_df[\"user_id\"] == 19887248]"
      ],
      "execution_count": 23,
      "outputs": [
        {
          "output_type": "execute_result",
          "data": {
            "text/html": [
              "<div>\n",
              "<style scoped>\n",
              "    .dataframe tbody tr th:only-of-type {\n",
              "        vertical-align: middle;\n",
              "    }\n",
              "\n",
              "    .dataframe tbody tr th {\n",
              "        vertical-align: top;\n",
              "    }\n",
              "\n",
              "    .dataframe thead th {\n",
              "        text-align: right;\n",
              "    }\n",
              "</style>\n",
              "<table border=\"1\" class=\"dataframe\">\n",
              "  <thead>\n",
              "    <tr style=\"text-align: right;\">\n",
              "      <th></th>\n",
              "      <th>user_id</th>\n",
              "      <th>content_id</th>\n",
              "      <th>task_container_id</th>\n",
              "      <th>answered_correctly</th>\n",
              "      <th>prior_question_elapsed_time</th>\n",
              "      <th>part</th>\n",
              "    </tr>\n",
              "  </thead>\n",
              "  <tbody>\n",
              "    <tr>\n",
              "      <th>965193</th>\n",
              "      <td>19887248</td>\n",
              "      <td>6369</td>\n",
              "      <td>1</td>\n",
              "      <td>0</td>\n",
              "      <td>0.0</td>\n",
              "      <td>6</td>\n",
              "    </tr>\n",
              "  </tbody>\n",
              "</table>\n",
              "</div>"
            ],
            "text/plain": [
              "         user_id  content_id  ...  prior_question_elapsed_time  part\n",
              "965193  19887248        6369  ...                          0.0     6\n",
              "\n",
              "[1 rows x 6 columns]"
            ]
          },
          "metadata": {
            "tags": []
          },
          "execution_count": 23
        }
      ]
    },
    {
      "cell_type": "markdown",
      "metadata": {
        "id": "fLgbW9CR866K"
      },
      "source": [
        "Check the last sample in the batch"
      ]
    },
    {
      "cell_type": "code",
      "metadata": {
        "colab": {
          "base_uri": "https://localhost:8080/"
        },
        "id": "hciNBd6r89xs",
        "outputId": "78bd4766-bbd5-41d4-890d-70687486c375"
      },
      "source": [
        "xb[:, -1, :]"
      ],
      "execution_count": 24,
      "outputs": [
        {
          "output_type": "execute_result",
          "data": {
            "text/plain": [
              "array([[4.80500000e+03, 1.00000000e+00, 3.00000000e+00, 0.00000000e+00,\n",
              "        6.00000000e+00],\n",
              "       [4.62400000e+03, 2.00000000e+00, 1.00000000e+00, 1.66666672e-01,\n",
              "        6.00000000e+00],\n",
              "       [6.38700000e+03, 3.00000000e+00, 1.00000000e+00, 1.83333337e-01,\n",
              "        6.00000000e+00],\n",
              "       [5.97700000e+03, 4.00000000e+00, 1.00000000e+00, 2.16666669e-01,\n",
              "        6.00000000e+00],\n",
              "       [6.41800000e+03, 5.00000000e+00, 1.00000000e+00, 1.83333337e-01,\n",
              "        6.00000000e+00],\n",
              "       [3.64400000e+03, 6.00000000e+00, 1.00000000e+00, 2.00000003e-01,\n",
              "        6.00000000e+00],\n",
              "       [3.84000000e+02, 7.00000000e+00, 1.00000000e+00, 1.66666672e-01,\n",
              "        3.00000000e+00],\n",
              "       [6.28000000e+03, 8.00000000e+00, 2.00000000e+00, 4.00000006e-01,\n",
              "        6.00000000e+00],\n",
              "       [5.31200000e+03, 9.00000000e+00, 2.00000000e+00, 1.66666672e-01,\n",
              "        6.00000000e+00],\n",
              "       [4.81900000e+03, 1.00000000e+01, 1.00000000e+00, 3.33333351e-02,\n",
              "        6.00000000e+00],\n",
              "       [8.68800000e+03, 1.10000000e+01, 1.00000000e+00, 1.33333340e-01,\n",
              "        6.00000000e+00],\n",
              "       [4.52000000e+03, 1.20000000e+01, 1.00000000e+00, 1.83333337e-01,\n",
              "        6.00000000e+00]])"
            ]
          },
          "metadata": {
            "tags": []
          },
          "execution_count": 24
        }
      ]
    },
    {
      "cell_type": "code",
      "metadata": {
        "colab": {
          "base_uri": "https://localhost:8080/"
        },
        "id": "62FatEG99EVT",
        "outputId": "bc8672b8-75d8-46c8-9598-6fa5776ede89"
      },
      "source": [
        "yb[-1, :]"
      ],
      "execution_count": 25,
      "outputs": [
        {
          "output_type": "execute_result",
          "data": {
            "text/plain": [
              "array([0, 0, 0, 0, 0, 0, 1, 1, 0, 0, 0, 0], dtype=int8)"
            ]
          },
          "metadata": {
            "tags": []
          },
          "execution_count": 25
        }
      ]
    },
    {
      "cell_type": "code",
      "metadata": {
        "colab": {
          "base_uri": "https://localhost:8080/"
        },
        "id": "MtYN_-6d9G8_",
        "outputId": "bcd5d841-0251-4afd-cc14-5936e890d367"
      },
      "source": [
        "sorted_uids[3] # batch size - 4"
      ],
      "execution_count": 26,
      "outputs": [
        {
          "output_type": "execute_result",
          "data": {
            "text/plain": [
              "2148001"
            ]
          },
          "metadata": {
            "tags": []
          },
          "execution_count": 26
        }
      ]
    },
    {
      "cell_type": "code",
      "metadata": {
        "colab": {
          "base_uri": "https://localhost:8080/",
          "height": 107
        },
        "id": "t2Mlei5g9RIc",
        "outputId": "b9aedede-395c-4143-b884-13a22910ba7d"
      },
      "source": [
        "train_df[train_df[\"user_id\"] == 2148001]"
      ],
      "execution_count": 27,
      "outputs": [
        {
          "output_type": "execute_result",
          "data": {
            "text/html": [
              "<div>\n",
              "<style scoped>\n",
              "    .dataframe tbody tr th:only-of-type {\n",
              "        vertical-align: middle;\n",
              "    }\n",
              "\n",
              "    .dataframe tbody tr th {\n",
              "        vertical-align: top;\n",
              "    }\n",
              "\n",
              "    .dataframe thead th {\n",
              "        text-align: right;\n",
              "    }\n",
              "</style>\n",
              "<table border=\"1\" class=\"dataframe\">\n",
              "  <thead>\n",
              "    <tr style=\"text-align: right;\">\n",
              "      <th></th>\n",
              "      <th>user_id</th>\n",
              "      <th>content_id</th>\n",
              "      <th>task_container_id</th>\n",
              "      <th>answered_correctly</th>\n",
              "      <th>prior_question_elapsed_time</th>\n",
              "      <th>part</th>\n",
              "    </tr>\n",
              "  </thead>\n",
              "  <tbody>\n",
              "    <tr>\n",
              "      <th>103083</th>\n",
              "      <td>2148001</td>\n",
              "      <td>5214</td>\n",
              "      <td>1</td>\n",
              "      <td>1</td>\n",
              "      <td>0.00</td>\n",
              "      <td>6</td>\n",
              "    </tr>\n",
              "    <tr>\n",
              "      <th>103084</th>\n",
              "      <td>2148001</td>\n",
              "      <td>9321</td>\n",
              "      <td>2</td>\n",
              "      <td>0</td>\n",
              "      <td>0.35</td>\n",
              "      <td>6</td>\n",
              "    </tr>\n",
              "  </tbody>\n",
              "</table>\n",
              "</div>"
            ],
            "text/plain": [
              "        user_id  content_id  ...  prior_question_elapsed_time  part\n",
              "103083  2148001        5214  ...                         0.00     6\n",
              "103084  2148001        9321  ...                         0.35     6\n",
              "\n",
              "[2 rows x 6 columns]"
            ]
          },
          "metadata": {
            "tags": []
          },
          "execution_count": 27
        }
      ]
    },
    {
      "cell_type": "markdown",
      "metadata": {
        "id": "Q5rOrLotowdI"
      },
      "source": [
        "#### Dataloader"
      ]
    },
    {
      "cell_type": "code",
      "metadata": {
        "colab": {
          "base_uri": "https://localhost:8080/"
        },
        "id": "tdkKk3y8WtXf",
        "outputId": "4cbfb473-ef52-476c-8c40-0b12be90365b"
      },
      "source": [
        "train_dl = DataLoader(riid_ds, batch_size=None)\n",
        "x, y = next(iter(train_dl))\n",
        "x.shape, y.shape, x.dtype, y.dtype"
      ],
      "execution_count": 28,
      "outputs": [
        {
          "output_type": "execute_result",
          "data": {
            "text/plain": [
              "(torch.Size([12, 64, 5]), torch.Size([64, 12]), torch.float64, torch.int8)"
            ]
          },
          "metadata": {
            "tags": []
          },
          "execution_count": 28
        }
      ]
    },
    {
      "cell_type": "code",
      "metadata": {
        "colab": {
          "base_uri": "https://localhost:8080/"
        },
        "id": "iMf4uEkLa5_D",
        "outputId": "3e44d88d-7762-4732-d307-fc6e570acd7b"
      },
      "source": [
        "len(train_dl)"
      ],
      "execution_count": 29,
      "outputs": [
        {
          "output_type": "execute_result",
          "data": {
            "text/plain": [
              "158"
            ]
          },
          "metadata": {
            "tags": []
          },
          "execution_count": 29
        }
      ]
    },
    {
      "cell_type": "code",
      "metadata": {
        "trusted": true,
        "colab": {
          "base_uri": "https://localhost:8080/"
        },
        "id": "O0jBSXrKV5BE",
        "outputId": "cf6daae4-1b1e-4061-efa8-78554cc07ea7"
      },
      "source": [
        "batches = 0\n",
        "max_batch_size = 0\n",
        "max_seq_len = 0\n",
        "for xb, yb in train_dl:\n",
        "    max_batch_size = max(max_batch_size, xb.size(1))\n",
        "    max_seq_len = max(max_seq_len, xb.size(0))\n",
        "    batches += 1\n",
        "    \n",
        "max_batch_size, max_seq_len, batches"
      ],
      "execution_count": 30,
      "outputs": [
        {
          "output_type": "execute_result",
          "data": {
            "text/plain": [
              "(64, 128, 158)"
            ]
          },
          "metadata": {
            "tags": []
          },
          "execution_count": 30
        }
      ]
    },
    {
      "cell_type": "markdown",
      "metadata": {
        "id": "eoN04M3zxpyW"
      },
      "source": [
        "##### Padding mask"
      ]
    },
    {
      "cell_type": "code",
      "metadata": {
        "id": "kmjVawe-xtDp"
      },
      "source": [
        "pad_mask = torch.all(torch.eq(x, 0), dim=-1).T\n",
        "# pad_mask"
      ],
      "execution_count": 31,
      "outputs": []
    },
    {
      "cell_type": "markdown",
      "metadata": {
        "id": "8uGjjmawrRkY"
      },
      "source": [
        "Look ahead mask"
      ]
    },
    {
      "cell_type": "code",
      "metadata": {
        "id": "Yw0ByBVWuNqT"
      },
      "source": [
        "  def generate_square_subsequent_mask(sz):\n",
        "        r\"\"\"Generate a square mask for the sequence. The masked positions are filled with float('-inf').\n",
        "            Unmasked positions are filled with float(0.0).\n",
        "        \"\"\"\n",
        "        mask = (torch.triu(torch.ones(sz, sz)) == 1).transpose(0, 1)\n",
        "        mask = mask.float().masked_fill(mask == 0, True).masked_fill(mask == 1, False)\n",
        "        return mask.bool()"
      ],
      "execution_count": 32,
      "outputs": []
    },
    {
      "cell_type": "code",
      "metadata": {
        "id": "zVPqkO8ruVpf"
      },
      "source": [
        "look_ahead_mask = generate_square_subsequent_mask(x.size(0))\n",
        "# look_ahead_mask"
      ],
      "execution_count": 33,
      "outputs": []
    },
    {
      "cell_type": "markdown",
      "metadata": {
        "id": "FwO4ImIPO_37"
      },
      "source": [
        "#### Combining Padding mask and Lookahead mask"
      ]
    },
    {
      "cell_type": "markdown",
      "metadata": {
        "id": "YGs0qfhJPFqU"
      },
      "source": [
        "Combining look ahead mask and padding mask is difficult.\n",
        "\n",
        "Imagine you have a sequence"
      ]
    },
    {
      "cell_type": "code",
      "metadata": {
        "id": "QTXZQc6gPR0L"
      },
      "source": [
        "a = [0, 0, 2, 3]"
      ],
      "execution_count": 34,
      "outputs": []
    },
    {
      "cell_type": "markdown",
      "metadata": {
        "id": "nJcmY3LKPVG3"
      },
      "source": [
        "The first 4 fields are pad values. So if we use the `src_key_padding_mask` argument of pytorch attention. We are telling the attention module. for all the items in the sequence do not attend to the first 2 values."
      ]
    },
    {
      "cell_type": "code",
      "metadata": {
        "colab": {
          "base_uri": "https://localhost:8080/"
        },
        "id": "Ha00H1YAPu2-",
        "outputId": "50e92e6a-376c-4711-d7e8-6e0874c85b83"
      },
      "source": [
        "a = torch.as_tensor(a).float()\n",
        "a"
      ],
      "execution_count": 35,
      "outputs": [
        {
          "output_type": "execute_result",
          "data": {
            "text/plain": [
              "tensor([0., 0., 2., 3.])"
            ]
          },
          "metadata": {
            "tags": []
          },
          "execution_count": 35
        }
      ]
    },
    {
      "cell_type": "code",
      "metadata": {
        "colab": {
          "base_uri": "https://localhost:8080/"
        },
        "id": "nBope5LNPy6l",
        "outputId": "85f07d81-d339-48f3-da57-354fc966131f"
      },
      "source": [
        "pad_mask = torch.tensor([[True, True, False, False]])\n",
        "pad_mask.shape"
      ],
      "execution_count": 36,
      "outputs": [
        {
          "output_type": "execute_result",
          "data": {
            "text/plain": [
              "torch.Size([1, 4])"
            ]
          },
          "metadata": {
            "tags": []
          },
          "execution_count": 36
        }
      ]
    },
    {
      "cell_type": "code",
      "metadata": {
        "id": "y8FZUKqqP9xl"
      },
      "source": [
        "attn = torch.nn.MultiheadAttention(embed_dim=1, num_heads=1)"
      ],
      "execution_count": 37,
      "outputs": []
    },
    {
      "cell_type": "code",
      "metadata": {
        "colab": {
          "base_uri": "https://localhost:8080/"
        },
        "id": "_hzluTcDQGWs",
        "outputId": "175b82c3-485f-4729-898d-941155318372"
      },
      "source": [
        "a = a.T.unsqueeze(1).unsqueeze(1) # matching attention shape - [seq_len, bs, n_features]\n",
        "a.shape"
      ],
      "execution_count": 38,
      "outputs": [
        {
          "output_type": "execute_result",
          "data": {
            "text/plain": [
              "torch.Size([4, 1, 1])"
            ]
          },
          "metadata": {
            "tags": []
          },
          "execution_count": 38
        }
      ]
    },
    {
      "cell_type": "code",
      "metadata": {
        "id": "1rKFzf7CQCeB"
      },
      "source": [
        "output, score = attn(a, a, a, key_padding_mask=pad_mask) #, attn_mask=attn_mask)"
      ],
      "execution_count": 39,
      "outputs": []
    },
    {
      "cell_type": "code",
      "metadata": {
        "colab": {
          "base_uri": "https://localhost:8080/"
        },
        "id": "8IOGuP0DQs56",
        "outputId": "bad447dd-8e26-4765-9ae9-22d258f8691b"
      },
      "source": [
        "score"
      ],
      "execution_count": 40,
      "outputs": [
        {
          "output_type": "execute_result",
          "data": {
            "text/plain": [
              "tensor([[[0.0000, 0.0000, 0.5000, 0.5000],\n",
              "         [0.0000, 0.0000, 0.5000, 0.5000],\n",
              "         [0.0000, 0.0000, 0.2371, 0.7629],\n",
              "         [0.0000, 0.0000, 0.1477, 0.8523]]], grad_fn=<DivBackward0>)"
            ]
          },
          "metadata": {
            "tags": []
          },
          "execution_count": 40
        }
      ]
    },
    {
      "cell_type": "markdown",
      "metadata": {
        "id": "46A4UaNgQ0df"
      },
      "source": [
        "As expected it gives 0 weightage to the first 2 items in te sequence while creating the output vector.  \n",
        "\n",
        "But still pay attention that first item in the sequence still get to attend to the last 2 values in the sequence.  \n",
        "\n",
        "This cannot be permitted when look ahead limitation.  \n",
        "\n",
        "\n",
        "So the natural thing to do is add a look ahead mask"
      ]
    },
    {
      "cell_type": "code",
      "metadata": {
        "id": "j5HbYQE_Rb9R"
      },
      "source": [
        "look_ahead_mask = torch.as_tensor([[0., float('-inf'), float('-inf'), float('-inf')],\n",
        "                             [0., 0., float('-inf'), float('-inf')],\n",
        "                             [float('-inf'), 0., 0., float('-inf')],\n",
        "                             [float('-inf'), float('-inf'), 0., 0.]])"
      ],
      "execution_count": 41,
      "outputs": []
    },
    {
      "cell_type": "code",
      "metadata": {
        "colab": {
          "base_uri": "https://localhost:8080/"
        },
        "id": "-Jft930iRgTq",
        "outputId": "a81414de-3983-4359-f35f-e6b6675b8e67"
      },
      "source": [
        "output, score = attn(a, a, a, key_padding_mask=pad_mask, attn_mask=look_ahead_mask)\n",
        "score"
      ],
      "execution_count": 42,
      "outputs": [
        {
          "output_type": "execute_result",
          "data": {
            "text/plain": [
              "tensor([[[   nan,    nan,    nan,    nan],\n",
              "         [   nan,    nan,    nan,    nan],\n",
              "         [0.0000, 0.0000, 1.0000, 0.0000],\n",
              "         [0.0000, 0.0000, 0.1477, 0.8523]]], grad_fn=<DivBackward0>)"
            ]
          },
          "metadata": {
            "tags": []
          },
          "execution_count": 42
        }
      ]
    },
    {
      "cell_type": "markdown",
      "metadata": {
        "id": "myX4SEedRj9A"
      },
      "source": [
        "If we use both look ahead and attn mask. we are saying to the first item in the sequence.\n",
        "\n",
        "* look ahead mask saying - DO NOT LOOK AHEAD TO THE REST OF SEQUENCE ONLY LOOK AT YOURSELF.\n",
        "* Padding mask saying - YOU ARE PAD VALUE SO DONT LOOK AT YOUR SELF.\n",
        "\n",
        "Resulting in all `-inf` values, and the softmax giving `nan`"
      ]
    },
    {
      "cell_type": "markdown",
      "metadata": {
        "id": "4bRZQI3jfhQq"
      },
      "source": [
        "a github issue https://github.com/pytorch/pytorch/issues/41508#issuecomment-659695894"
      ]
    },
    {
      "cell_type": "markdown",
      "metadata": {
        "id": "p5WuGZa2R9OI"
      },
      "source": [
        "SO THE BEST THING TO DO IS, USE ONLY LOOK AHEAD MASK, AND USE THE PAD_MASK IN THE LOSS FUNCTION TO MASK OUT LABELS RELATED TO THE PAD TOKENS"
      ]
    },
    {
      "cell_type": "markdown",
      "metadata": {
        "id": "P2AU37Y8V5BE"
      },
      "source": [
        "### Transformer Sequence Classifier."
      ]
    },
    {
      "cell_type": "markdown",
      "metadata": {
        "id": "KExRqzLASL7Z"
      },
      "source": [
        "Positional Encoding"
      ]
    },
    {
      "cell_type": "code",
      "metadata": {
        "id": "p5x0-pN4SPab"
      },
      "source": [
        "class PositionalEncoding(nn.Module):\n",
        "\n",
        "    def __init__(self, d_model, dropout=0.1, max_len=5000):\n",
        "        super(PositionalEncoding, self).__init__()\n",
        "        self.dropout = nn.Dropout(p=dropout)\n",
        "\n",
        "        pe = torch.zeros(max_len, d_model)\n",
        "        position = torch.arange(0, max_len, dtype=torch.float).unsqueeze(1)\n",
        "        div_term = torch.exp(torch.arange(0, d_model, 2).float() * (-math.log(10000.0) / d_model))\n",
        "        pe[:, 0::2] = torch.sin(position * div_term)\n",
        "        pe[:, 1::2] = torch.cos(position * div_term)\n",
        "        pe = pe.unsqueeze(0).transpose(0, 1)\n",
        "        self.register_buffer('pe', pe)\n",
        "\n",
        "    def forward(self, x):\n",
        "        x = x + self.pe[:x.size(0), :]\n",
        "        return self.dropout(x)"
      ],
      "execution_count": 43,
      "outputs": []
    },
    {
      "cell_type": "code",
      "metadata": {
        "trusted": true,
        "id": "6fMdaxtaV5BE"
      },
      "source": [
        "class TransformerClassifier(nn.Module):\n",
        "    \n",
        "    def __init__(self, n_tokens_dict, d_model=512, n_heads=8, hidden_dim=1024, n_layers=1, dropout=0):\n",
        "        \n",
        "        super().__init__()\n",
        "        self.d_model = d_model\n",
        "        \n",
        "        # Transformer encoder blocks\n",
        "        encoder_layer = nn.TransformerEncoderLayer(d_model, n_heads, hidden_dim, dropout)\n",
        "        self.transformer_encoder = nn.TransformerEncoder(encoder_layer, n_layers)\n",
        "        \n",
        "        # Input embeddings for content_id, task_container_id, answered_correctly, prior_question_elapsed_time, part\n",
        "        self.content_id_emb = nn.Embedding(n_tokens_dict[\"content_id\"], d_model)\n",
        "        self.task_container_id_emb = nn.Embedding(n_tokens_dict[\"task_container_id\"], d_model)\n",
        "        self.answered_correctly_emb = nn.Embedding(n_tokens_dict[\"answered_correctly\"], d_model)\n",
        "        self.part_emb = nn.Embedding(n_tokens_dict[\"part\"], d_model)\n",
        "        self.prior_question_elapsed_time_emb = nn.Linear(1, d_model, bias=False)\n",
        "        # Positional Encoding\n",
        "        self.pos_enc = PositionalEncoding(d_model=d_model, dropout=dropout)\n",
        "\n",
        "        self.out = nn.Linear(d_model, 1)\n",
        "        \n",
        "    def forward(self, x):\n",
        "\n",
        "        seq_len, bs, n_features = x.size()\n",
        "        device = x.device\n",
        "\n",
        "        # padding mask\n",
        "        src_key_padding_mask = torch.all(torch.eq(x, 0), dim=-1).T # shape [bs, seq_len]\n",
        "\n",
        "        # look ahead mask\n",
        "        look_ahead_mask = generate_square_subsequent_mask(seq_len).to(device)\n",
        "\n",
        "        # input embedding\n",
        "        content_id_emb = self.content_id_emb(x[..., 0].long())\n",
        "        task_container_id_emb = self.task_container_id_emb(x[..., 1].long())\n",
        "        answered_correctly_emb = self.answered_correctly_emb(x[..., 2].long())\n",
        "        part_emb = self.part_emb(x[..., 4].long())\n",
        "        # prior_question_elapsed_time_emb = self.prior_question_elapsed_time_emb(x[..., 3].unsqueeze(-1).float())\n",
        "        \n",
        "        # shape [seq_len, bs, d_model]\n",
        "        input_emb = (content_id_emb \n",
        "                     + task_container_id_emb\n",
        "                     + answered_correctly_emb\n",
        "                     + part_emb\n",
        "                     # + prior_question_elapsed_time_emb\n",
        "                     )\n",
        "        input_emb = input_emb * math.sqrt(self.d_model) # needed?\n",
        "\n",
        "        input_emb = self.pos_enc(input_emb) # position encoding\n",
        "        \n",
        "        # transformer blocks\n",
        "        z = self.transformer_encoder(input_emb, mask=look_ahead_mask) #, src_key_padding_mask=src_key_padding_mask) # shape [seq_len, bs, d_model]\n",
        "        \n",
        "        # output layer\n",
        "        out = self.out(z) # shape [seq_len, bs, 1]\n",
        "        \n",
        "        return torch.sigmoid(out), src_key_padding_mask # out - shape [seq_len, bs, 1], mask - shape[bs, seq_len]\n",
        "        \n"
      ],
      "execution_count": 44,
      "outputs": []
    },
    {
      "cell_type": "code",
      "metadata": {
        "trusted": true,
        "colab": {
          "base_uri": "https://localhost:8080/"
        },
        "id": "r9JDMerWV5BE",
        "outputId": "fd10c3a6-ac2e-4447-9563-c9c71a745088"
      },
      "source": [
        "n_tokens_dict = {\n",
        "    \"content_id\": max(train_df[\"content_id\"]) + 1,\n",
        "    \"task_container_id\": max(train_df[\"task_container_id\"]) + 1,\n",
        "    \"answered_correctly\": 4, # 0-padding, 1-incorrect, 2-correct, 3-fill value\n",
        "    \"part\": max(train_df[\"part\"]) + 1\n",
        "}\n",
        "\n",
        "n_tokens_dict"
      ],
      "execution_count": 45,
      "outputs": [
        {
          "output_type": "execute_result",
          "data": {
            "text/plain": [
              "{'answered_correctly': 4,\n",
              " 'content_id': 13524,\n",
              " 'part': 9,\n",
              " 'task_container_id': 7741}"
            ]
          },
          "metadata": {
            "tags": []
          },
          "execution_count": 45
        }
      ]
    },
    {
      "cell_type": "code",
      "metadata": {
        "trusted": true,
        "colab": {
          "base_uri": "https://localhost:8080/"
        },
        "id": "OHTIue_qV5BE",
        "outputId": "aed4b434-a447-4ef1-fb8b-e2b43ef96ea5"
      },
      "source": [
        "device = torch.device(\"cuda\") if torch.cuda.is_available() else torch.device(\"cpu\")\n",
        "device"
      ],
      "execution_count": 46,
      "outputs": [
        {
          "output_type": "execute_result",
          "data": {
            "text/plain": [
              "device(type='cuda')"
            ]
          },
          "metadata": {
            "tags": []
          },
          "execution_count": 46
        }
      ]
    },
    {
      "cell_type": "code",
      "metadata": {
        "trusted": true,
        "colab": {
          "base_uri": "https://localhost:8080/"
        },
        "id": "v1PAb6vVV5BE",
        "outputId": "e0516813-e58b-47af-8f1c-3867c7215b39"
      },
      "source": [
        "model = TransformerClassifier(n_tokens_dict).to(device)\n",
        "model"
      ],
      "execution_count": 47,
      "outputs": [
        {
          "output_type": "execute_result",
          "data": {
            "text/plain": [
              "TransformerClassifier(\n",
              "  (transformer_encoder): TransformerEncoder(\n",
              "    (layers): ModuleList(\n",
              "      (0): TransformerEncoderLayer(\n",
              "        (self_attn): MultiheadAttention(\n",
              "          (out_proj): _LinearWithBias(in_features=512, out_features=512, bias=True)\n",
              "        )\n",
              "        (linear1): Linear(in_features=512, out_features=1024, bias=True)\n",
              "        (dropout): Dropout(p=0, inplace=False)\n",
              "        (linear2): Linear(in_features=1024, out_features=512, bias=True)\n",
              "        (norm1): LayerNorm((512,), eps=1e-05, elementwise_affine=True)\n",
              "        (norm2): LayerNorm((512,), eps=1e-05, elementwise_affine=True)\n",
              "        (dropout1): Dropout(p=0, inplace=False)\n",
              "        (dropout2): Dropout(p=0, inplace=False)\n",
              "      )\n",
              "    )\n",
              "  )\n",
              "  (content_id_emb): Embedding(13524, 512)\n",
              "  (task_container_id_emb): Embedding(7741, 512)\n",
              "  (answered_correctly_emb): Embedding(4, 512)\n",
              "  (part_emb): Embedding(9, 512)\n",
              "  (prior_question_elapsed_time_emb): Linear(in_features=1, out_features=512, bias=False)\n",
              "  (pos_enc): PositionalEncoding(\n",
              "    (dropout): Dropout(p=0, inplace=False)\n",
              "  )\n",
              "  (out): Linear(in_features=512, out_features=1, bias=True)\n",
              ")"
            ]
          },
          "metadata": {
            "tags": []
          },
          "execution_count": 47
        }
      ]
    },
    {
      "cell_type": "code",
      "metadata": {
        "colab": {
          "base_uri": "https://localhost:8080/"
        },
        "id": "VemXXKP0wUrO",
        "outputId": "bccf12a9-f52e-4181-ec4f-e181e25a75bc"
      },
      "source": [
        "xb = x.to(device)\n",
        "print(f\"Input : {xb.shape}\")\n",
        "preds, pad_mask = model(xb)\n",
        "print(f\"Output: {preds.shape}\")"
      ],
      "execution_count": 48,
      "outputs": [
        {
          "output_type": "stream",
          "text": [
            "Input : torch.Size([12, 64, 5])\n",
            "Output: torch.Size([12, 64, 1])\n"
          ],
          "name": "stdout"
        }
      ]
    },
    {
      "cell_type": "markdown",
      "metadata": {
        "id": "8T-_XZIyyCYN"
      },
      "source": [
        "##### Custom BCE Loss that ignores the masked token's predictions"
      ]
    },
    {
      "cell_type": "markdown",
      "metadata": {
        "id": "2ZKC_kJAyIzl"
      },
      "source": [
        "F.binary_cross entropy expacts shape.  \n",
        "\n",
        "- preds - $[bs, numclass=1, seqlen]$\n",
        "- y_true - $[bs, numclass=1, seqlen]$"
      ]
    },
    {
      "cell_type": "code",
      "metadata": {
        "id": "wtp0OERVGsSh"
      },
      "source": [
        "preds = preds.permute(1, 2, 0) # [bs, num_class, seq_len]\n",
        "# preds"
      ],
      "execution_count": 49,
      "outputs": []
    },
    {
      "cell_type": "code",
      "metadata": {
        "id": "d642pzmUxDrj"
      },
      "source": [
        "yb = y.unsqueeze(-1).permute(0, 2, 1).float().to(device) # [bs, num_class, seq_len]\n",
        "# yb"
      ],
      "execution_count": 50,
      "outputs": []
    },
    {
      "cell_type": "code",
      "metadata": {
        "id": "opk5loqfhrSm"
      },
      "source": [
        "loss = F.binary_cross_entropy(preds, yb, reduction=\"none\") # get individual loss\n",
        "# loss"
      ],
      "execution_count": 51,
      "outputs": []
    },
    {
      "cell_type": "code",
      "metadata": {
        "id": "Jk3I75WdyyQb"
      },
      "source": [
        "# pad_mask"
      ],
      "execution_count": 52,
      "outputs": []
    },
    {
      "cell_type": "code",
      "metadata": {
        "id": "S-TwSqJyy2vY"
      },
      "source": [
        "# we want to negate the mask, True above means to mask\n",
        "# ~pad_mask"
      ],
      "execution_count": 53,
      "outputs": []
    },
    {
      "cell_type": "code",
      "metadata": {
        "id": "XagPfbrrrMMC",
        "outputId": "80cb6436-6a73-404e-e1f1-41506e763c99",
        "colab": {
          "base_uri": "https://localhost:8080/"
        }
      },
      "source": [
        "(~pad_mask.unsqueeze(1) * loss).mean() # notice the negation of mask "
      ],
      "execution_count": 54,
      "outputs": [
        {
          "output_type": "execute_result",
          "data": {
            "text/plain": [
              "tensor(0.5866, device='cuda:0', grad_fn=<MeanBackward0>)"
            ]
          },
          "metadata": {
            "tags": []
          },
          "execution_count": 54
        }
      ]
    },
    {
      "cell_type": "markdown",
      "metadata": {
        "id": "kKdmvTV5V5BE"
      },
      "source": [
        "### Training"
      ]
    },
    {
      "cell_type": "code",
      "metadata": {
        "id": "a0MGIeXQzAGQ"
      },
      "source": [
        "def masked_bce_loss(y_pred, y_true, pad_mask):\n",
        "  # print(y_pred.shape, y_true.shape)\n",
        "  y_pred = y_pred.permute(1, 2, 0) # [bs, 1, seq_len]\n",
        "  y_true = y_true.unsqueeze(-1).permute(0, 2, 1).float() # [bs, 1, seq_len]\n",
        "  loss = F.binary_cross_entropy(y_pred, y_true, reduction=\"none\") # get individual loss\n",
        "  pad_mask_flipped = ~pad_mask.unsqueeze(1) # notice the negation of mask # [bs, 1, seq_len]\n",
        "  masked_loss = (pad_mask_flipped * loss).mean() # notice the negation of mask \n",
        "\n",
        "  return masked_loss"
      ],
      "execution_count": 55,
      "outputs": []
    },
    {
      "cell_type": "code",
      "metadata": {
        "trusted": true,
        "id": "1K_ro8KcV5BE"
      },
      "source": [
        "epochs = 100\n",
        "opt = torch.optim.Adam(params=model.parameters(), lr=0.001)\n",
        "sched = torch.optim.lr_scheduler.OneCycleLR(opt, max_lr=0.001, steps_per_epoch=len(train_dl), epochs=epochs)\n",
        "loss_func = masked_bce_loss"
      ],
      "execution_count": 56,
      "outputs": []
    },
    {
      "cell_type": "markdown",
      "metadata": {
        "id": "fmWcoCpfO7W4"
      },
      "source": [
        "https://pytorch.org/tutorials/beginner/nn_tutorial.html#create-fit-and-get-data"
      ]
    },
    {
      "cell_type": "code",
      "metadata": {
        "id": "lcA8qWtWOQc1"
      },
      "source": [
        "def loss_batch(model, loss_func, X_batch, y_batch, opt=None):\n",
        "\n",
        "  preds, pad_mask = model(X_batch)\n",
        "  loss = loss_func(preds, y_batch, pad_mask)\n",
        "\n",
        "  if opt is not None:\n",
        "    loss.backward()\n",
        "    # nn.utils.clip_grad_norm_(model.parameters(), 0.25)\n",
        "    opt.step()\n",
        "    opt.zero_grad()\n",
        "\n",
        "  return loss.item(), X_batch.shape[2]"
      ],
      "execution_count": 57,
      "outputs": []
    },
    {
      "cell_type": "code",
      "metadata": {
        "trusted": true,
        "id": "7KKDMSb-V5BF"
      },
      "source": [
        "def fit(epochs, model, loss_func, opt, train_dl, valid_dl=None, sched=None):\n",
        "  epoch_losses = []\n",
        "  epoch_lrs = []\n",
        "  for e in range(epochs):\n",
        "    # train\n",
        "    lrs = []\n",
        "    train_losses = []\n",
        "    val_losses = []\n",
        "\n",
        "    model.train()\n",
        "    train_dl = tqdm(train_dl, position=0, leave=True)\n",
        "    for X_batch, y_batch in train_dl:\n",
        "      X_batch, y_batch = X_batch.to(device), y_batch.to(device)\n",
        "      train_loss, train_bs = loss_batch(model, loss_func, X_batch, y_batch, opt)\n",
        "      train_losses.append(train_loss)\n",
        "      train_loss_mean = sum(train_losses) / len(train_losses)\n",
        "      lr = opt.param_groups[0][\"lr\"]\n",
        "      lrs.append(lr)\n",
        "      train_dl.set_description(f\"Epoch: {e}, RunningLoss: {train_loss_mean:.3f}, InstantLoss: {train_loss:.3f}, LR: {lr:.6f}\")\n",
        "      if sched:\n",
        "        sched.step()\n",
        "    epoch_losses.append(train_loss_mean)\n",
        "    epoch_lrs.append(lr)\n",
        "    # eval\n",
        "    # model.eval()\n",
        "    # with torch.no_grad():\n",
        "    #   val_losses, val_bss = zip(*[loss_batch(model, loss_func, X_batch, y_batch) for X_batch, y_batch in valid_dl])\n",
        "\n",
        "    # val_loss = np.sum(np.multiply(val_losses, val_bss)) / np.sum(val_bss)\n",
        "    # train_dl.set_description(f\"Epoch: {e}, Loss: {train_loss}, Val Loss: {val_loss}\")\n",
        "\n",
        "  return epoch_losses, epoch_lrs#, val_losses"
      ],
      "execution_count": 58,
      "outputs": []
    },
    {
      "cell_type": "code",
      "metadata": {
        "colab": {
          "base_uri": "https://localhost:8080/"
        },
        "id": "0olyMi8vG0XM",
        "outputId": "edb05641-66e5-4cb9-fbc3-8f38c7475c00"
      },
      "source": [
        "train_losses, lrs = fit(epochs, model, loss_func, opt, train_dl, sched=sched)"
      ],
      "execution_count": null,
      "outputs": [
        {
          "output_type": "stream",
          "text": [
            "Epoch: 0, RunningLoss: 0.609, InstantLoss: 0.836, LR: 0.000043: 100%|██████████| 158/158 [00:14<00:00, 11.05it/s]\n",
            "Epoch: 1, RunningLoss: 0.596, InstantLoss: 0.833, LR: 0.000050: 100%|██████████| 158/158 [00:14<00:00, 11.15it/s]\n",
            "Epoch: 2, RunningLoss: 0.591, InstantLoss: 0.864, LR: 0.000063: 100%|██████████| 158/158 [00:14<00:00, 11.23it/s]\n",
            "Epoch: 3, RunningLoss: 0.590, InstantLoss: 0.867, LR: 0.000081: 100%|██████████| 158/158 [00:14<00:00, 11.24it/s]\n",
            "Epoch: 4, RunningLoss: 0.589, InstantLoss: 0.873, LR: 0.000104: 100%|██████████| 158/158 [00:14<00:00, 11.23it/s]\n",
            "Epoch: 5, RunningLoss: 0.589, InstantLoss: 0.877, LR: 0.000132: 100%|██████████| 158/158 [00:13<00:00, 11.34it/s]\n",
            "Epoch: 6, RunningLoss: 0.587, InstantLoss: 0.872, LR: 0.000163: 100%|██████████| 158/158 [00:14<00:00, 11.19it/s]\n",
            "Epoch: 7, RunningLoss: 0.585, InstantLoss: 0.890, LR: 0.000199: 100%|██████████| 158/158 [00:13<00:00, 11.37it/s]\n",
            "Epoch: 8, RunningLoss: 0.581, InstantLoss: 0.931, LR: 0.000238: 100%|██████████| 158/158 [00:14<00:00, 11.26it/s]\n",
            "Epoch: 9, RunningLoss: 0.578, InstantLoss: 0.924, LR: 0.000280: 100%|██████████| 158/158 [00:14<00:00, 11.18it/s]\n",
            "Epoch: 10, RunningLoss: 0.574, InstantLoss: 0.925, LR: 0.000325: 100%|██████████| 158/158 [00:14<00:00, 11.18it/s]\n",
            "Epoch: 11, RunningLoss: 0.570, InstantLoss: 0.933, LR: 0.000371: 100%|██████████| 158/158 [00:13<00:00, 11.31it/s]\n",
            "Epoch: 12, RunningLoss: 0.566, InstantLoss: 0.928, LR: 0.000420: 100%|██████████| 158/158 [00:13<00:00, 11.34it/s]\n",
            "Epoch: 13, RunningLoss: 0.562, InstantLoss: 0.934, LR: 0.000470: 100%|██████████| 158/158 [00:14<00:00, 11.26it/s]\n",
            "Epoch: 14, RunningLoss: 0.559, InstantLoss: 0.930, LR: 0.000520: 100%|██████████| 158/158 [00:14<00:00, 11.28it/s]\n",
            "Epoch: 15, RunningLoss: 0.562, InstantLoss: 0.462, LR: 0.000538:  35%|███▍      | 55/158 [00:06<00:10,  9.49it/s]"
          ],
          "name": "stderr"
        }
      ]
    },
    {
      "cell_type": "code",
      "metadata": {
        "id": "FUG3qDSMCQHF"
      },
      "source": [
        "import matplotlib.pyplot as plt"
      ],
      "execution_count": null,
      "outputs": []
    },
    {
      "cell_type": "code",
      "metadata": {
        "id": "Lb8ZxOtfFIYr"
      },
      "source": [
        "plt.ylim(top=1)\n",
        "plt.plot(train_losses)"
      ],
      "execution_count": null,
      "outputs": []
    },
    {
      "cell_type": "code",
      "metadata": {
        "id": "gVJXQ30QKFRr"
      },
      "source": [
        "plt.plot(lrs)"
      ],
      "execution_count": null,
      "outputs": []
    },
    {
      "cell_type": "code",
      "metadata": {
        "id": "KCP4UnYdGB3_"
      },
      "source": [
        "xb = xb.to(device)\n",
        "preds = model(xb)"
      ],
      "execution_count": null,
      "outputs": []
    },
    {
      "cell_type": "code",
      "metadata": {
        "id": "vmKaBcxE1XdV"
      },
      "source": [
        "from sklearn.metrics import accuracy_score, precision_score, recall_score, roc_auc_score"
      ],
      "execution_count": null,
      "outputs": []
    },
    {
      "cell_type": "code",
      "metadata": {
        "id": "CyC80r-NUrjV"
      },
      "source": [
        "y_hat = preds.to(\"cpu\").detach().numpy() > 0.5\n",
        "y_hat = y_hat.astype(np.int8).flatten()\n",
        "y_hat.shape"
      ],
      "execution_count": null,
      "outputs": []
    },
    {
      "cell_type": "code",
      "metadata": {
        "id": "xBYitHZhU3DK"
      },
      "source": [
        "y_true = yb.to(\"cpu\").detach().numpy().T.flatten()\n",
        "y_true.shape"
      ],
      "execution_count": null,
      "outputs": []
    },
    {
      "cell_type": "code",
      "metadata": {
        "id": "o8in5UADV50R"
      },
      "source": [
        "accuracy_score(y_true, y_hat)"
      ],
      "execution_count": null,
      "outputs": []
    },
    {
      "cell_type": "code",
      "metadata": {
        "id": "SDYPPqqzWOmK"
      },
      "source": [
        "precision_score(y_true, y_hat)"
      ],
      "execution_count": null,
      "outputs": []
    },
    {
      "cell_type": "code",
      "metadata": {
        "id": "eLgz51aEYUiy"
      },
      "source": [
        "recall_score(y_true, y_hat)"
      ],
      "execution_count": null,
      "outputs": []
    },
    {
      "cell_type": "code",
      "metadata": {
        "id": "BjZreOaXYW6k"
      },
      "source": [
        "y_true.T"
      ],
      "execution_count": null,
      "outputs": []
    },
    {
      "cell_type": "code",
      "metadata": {
        "id": "Zz3BA7xpWaMo"
      },
      "source": [
        "y_hat.T"
      ],
      "execution_count": null,
      "outputs": []
    },
    {
      "cell_type": "code",
      "metadata": {
        "id": "3fLoQpxcWeP2"
      },
      "source": [
        "roc_auc_score(y_true, preds.to(\"cpu\").detach().numpy().flatten())"
      ],
      "execution_count": null,
      "outputs": []
    },
    {
      "cell_type": "code",
      "metadata": {
        "id": "qnh4h1xCn9mR"
      },
      "source": [
        ""
      ],
      "execution_count": null,
      "outputs": []
    }
  ]
}