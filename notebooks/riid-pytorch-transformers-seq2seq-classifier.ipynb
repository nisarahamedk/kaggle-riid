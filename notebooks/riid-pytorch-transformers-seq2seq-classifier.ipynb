{
  "nbformat": 4,
  "nbformat_minor": 0,
  "metadata": {
    "kernelspec": {
      "name": "python3",
      "display_name": "Python 3",
      "language": "python"
    },
    "language_info": {
      "name": "python",
      "version": "3.7.6",
      "mimetype": "text/x-python",
      "codemirror_mode": {
        "name": "ipython",
        "version": 3
      },
      "pygments_lexer": "ipython3",
      "nbconvert_exporter": "python",
      "file_extension": ".py"
    },
    "colab": {
      "name": "riid-pytorch-transformers.ipynb",
      "provenance": []
    },
    "accelerator": "GPU"
  },
  "cells": [
    {
      "cell_type": "code",
      "metadata": {
        "id": "666nJ1-WWJLh"
      },
      "source": [
        "%%capture\n",
        "!pip install gcsfs"
      ],
      "execution_count": 106,
      "outputs": []
    },
    {
      "cell_type": "code",
      "metadata": {
        "trusted": true,
        "id": "18rL3yRXV5BA"
      },
      "source": [
        "import math\n",
        "\n",
        "import gcsfs\n",
        "import pandas as pd\n",
        "import numpy as np\n",
        "import torch\n",
        "import torch.nn as nn\n",
        "import torch.nn.functional as F\n",
        "from torch.utils.data import IterableDataset, DataLoader, ChainDataset\n",
        "from tqdm import tqdm, trange"
      ],
      "execution_count": 107,
      "outputs": []
    },
    {
      "cell_type": "markdown",
      "metadata": {
        "id": "epiDJGV6V5BA"
      },
      "source": [
        "### Read the dataset"
      ]
    },
    {
      "cell_type": "code",
      "metadata": {
        "trusted": true,
        "id": "LunXwcomV5BB"
      },
      "source": [
        "# DATA_PATH = \"/kaggle/input/riiid-test-answer-prediction/\"\n",
        "DATA_PATH = \"gs://kds-e80dfc3d272252bbf34c627d756f891826dab0c19f30ec0fc3ac1979\""
      ],
      "execution_count": 108,
      "outputs": []
    },
    {
      "cell_type": "code",
      "metadata": {
        "_uuid": "d629ff2d2480ee46fbb7e2d37f6b5fab8052498a",
        "_cell_guid": "79c7e3d0-c299-4dcb-8224-4455121ee9b0",
        "trusted": true,
        "id": "bI0E1uWRV5BB"
      },
      "source": [
        "dtypes_train = {\n",
        "    'row_id': 'int64',\n",
        "    'timestamp': 'int64',\n",
        "    'user_id': 'int32',\n",
        "    'content_id': 'int16',\n",
        "    'content_type_id': 'int8',\n",
        "    'task_container_id': 'int16',\n",
        "    'user_answer': 'int8',\n",
        "    'answered_correctly': 'int8',\n",
        "    'prior_question_elapsed_time': 'float32',\n",
        "    'prior_question_had_explanation': 'boolean'\n",
        "    }\n",
        "\n",
        "dtypes_questions = {\n",
        "    \"question_id\": \"\",\n",
        "    \"bundle_id\": \"\",\n",
        "    \"correct_answer\": \"\",\n",
        "    \"part\": \"\",\n",
        "    \"tags\": \"\",\n",
        "}\n",
        "\n",
        "dtypes_lectures = {\n",
        "    \"lecture_id\": \"\",\n",
        "    \"part\": \"\",\n",
        "    \"tag\": \"\",\n",
        "    \"type_of\": \"\",\n",
        "}"
      ],
      "execution_count": 109,
      "outputs": []
    },
    {
      "cell_type": "code",
      "metadata": {
        "trusted": true,
        "colab": {
          "base_uri": "https://localhost:8080/",
          "height": 197
        },
        "id": "EEOz3k6DV5BB",
        "outputId": "4f66da65-989f-4e38-b727-939c3b462486"
      },
      "source": [
        "train_df = pd.read_csv(DATA_PATH + \"/train.csv\", dtype=dtypes_train, nrows=1e6)\n",
        "train_df.head()"
      ],
      "execution_count": 110,
      "outputs": [
        {
          "output_type": "execute_result",
          "data": {
            "text/html": [
              "<div>\n",
              "<style scoped>\n",
              "    .dataframe tbody tr th:only-of-type {\n",
              "        vertical-align: middle;\n",
              "    }\n",
              "\n",
              "    .dataframe tbody tr th {\n",
              "        vertical-align: top;\n",
              "    }\n",
              "\n",
              "    .dataframe thead th {\n",
              "        text-align: right;\n",
              "    }\n",
              "</style>\n",
              "<table border=\"1\" class=\"dataframe\">\n",
              "  <thead>\n",
              "    <tr style=\"text-align: right;\">\n",
              "      <th></th>\n",
              "      <th>row_id</th>\n",
              "      <th>timestamp</th>\n",
              "      <th>user_id</th>\n",
              "      <th>content_id</th>\n",
              "      <th>content_type_id</th>\n",
              "      <th>task_container_id</th>\n",
              "      <th>user_answer</th>\n",
              "      <th>answered_correctly</th>\n",
              "      <th>prior_question_elapsed_time</th>\n",
              "      <th>prior_question_had_explanation</th>\n",
              "    </tr>\n",
              "  </thead>\n",
              "  <tbody>\n",
              "    <tr>\n",
              "      <th>0</th>\n",
              "      <td>0</td>\n",
              "      <td>0</td>\n",
              "      <td>115</td>\n",
              "      <td>5692</td>\n",
              "      <td>0</td>\n",
              "      <td>1</td>\n",
              "      <td>3</td>\n",
              "      <td>1</td>\n",
              "      <td>NaN</td>\n",
              "      <td>&lt;NA&gt;</td>\n",
              "    </tr>\n",
              "    <tr>\n",
              "      <th>1</th>\n",
              "      <td>1</td>\n",
              "      <td>56943</td>\n",
              "      <td>115</td>\n",
              "      <td>5716</td>\n",
              "      <td>0</td>\n",
              "      <td>2</td>\n",
              "      <td>2</td>\n",
              "      <td>1</td>\n",
              "      <td>37000.0</td>\n",
              "      <td>False</td>\n",
              "    </tr>\n",
              "    <tr>\n",
              "      <th>2</th>\n",
              "      <td>2</td>\n",
              "      <td>118363</td>\n",
              "      <td>115</td>\n",
              "      <td>128</td>\n",
              "      <td>0</td>\n",
              "      <td>0</td>\n",
              "      <td>0</td>\n",
              "      <td>1</td>\n",
              "      <td>55000.0</td>\n",
              "      <td>False</td>\n",
              "    </tr>\n",
              "    <tr>\n",
              "      <th>3</th>\n",
              "      <td>3</td>\n",
              "      <td>131167</td>\n",
              "      <td>115</td>\n",
              "      <td>7860</td>\n",
              "      <td>0</td>\n",
              "      <td>3</td>\n",
              "      <td>0</td>\n",
              "      <td>1</td>\n",
              "      <td>19000.0</td>\n",
              "      <td>False</td>\n",
              "    </tr>\n",
              "    <tr>\n",
              "      <th>4</th>\n",
              "      <td>4</td>\n",
              "      <td>137965</td>\n",
              "      <td>115</td>\n",
              "      <td>7922</td>\n",
              "      <td>0</td>\n",
              "      <td>4</td>\n",
              "      <td>1</td>\n",
              "      <td>1</td>\n",
              "      <td>11000.0</td>\n",
              "      <td>False</td>\n",
              "    </tr>\n",
              "  </tbody>\n",
              "</table>\n",
              "</div>"
            ],
            "text/plain": [
              "   row_id  ...  prior_question_had_explanation\n",
              "0       0  ...                            <NA>\n",
              "1       1  ...                           False\n",
              "2       2  ...                           False\n",
              "3       3  ...                           False\n",
              "4       4  ...                           False\n",
              "\n",
              "[5 rows x 10 columns]"
            ]
          },
          "metadata": {
            "tags": []
          },
          "execution_count": 110
        }
      ]
    },
    {
      "cell_type": "code",
      "metadata": {
        "trusted": true,
        "colab": {
          "base_uri": "https://localhost:8080/",
          "height": 197
        },
        "id": "DyfGayw_V5BC",
        "outputId": "c11bcfbd-2dd9-4cb1-a357-78ba16fef2c2"
      },
      "source": [
        "questions_df = pd.read_csv(DATA_PATH + \"/questions.csv\")\n",
        "questions_df.head()"
      ],
      "execution_count": 111,
      "outputs": [
        {
          "output_type": "execute_result",
          "data": {
            "text/html": [
              "<div>\n",
              "<style scoped>\n",
              "    .dataframe tbody tr th:only-of-type {\n",
              "        vertical-align: middle;\n",
              "    }\n",
              "\n",
              "    .dataframe tbody tr th {\n",
              "        vertical-align: top;\n",
              "    }\n",
              "\n",
              "    .dataframe thead th {\n",
              "        text-align: right;\n",
              "    }\n",
              "</style>\n",
              "<table border=\"1\" class=\"dataframe\">\n",
              "  <thead>\n",
              "    <tr style=\"text-align: right;\">\n",
              "      <th></th>\n",
              "      <th>question_id</th>\n",
              "      <th>bundle_id</th>\n",
              "      <th>correct_answer</th>\n",
              "      <th>part</th>\n",
              "      <th>tags</th>\n",
              "    </tr>\n",
              "  </thead>\n",
              "  <tbody>\n",
              "    <tr>\n",
              "      <th>0</th>\n",
              "      <td>0</td>\n",
              "      <td>0</td>\n",
              "      <td>0</td>\n",
              "      <td>1</td>\n",
              "      <td>51 131 162 38</td>\n",
              "    </tr>\n",
              "    <tr>\n",
              "      <th>1</th>\n",
              "      <td>1</td>\n",
              "      <td>1</td>\n",
              "      <td>1</td>\n",
              "      <td>1</td>\n",
              "      <td>131 36 81</td>\n",
              "    </tr>\n",
              "    <tr>\n",
              "      <th>2</th>\n",
              "      <td>2</td>\n",
              "      <td>2</td>\n",
              "      <td>0</td>\n",
              "      <td>1</td>\n",
              "      <td>131 101 162 92</td>\n",
              "    </tr>\n",
              "    <tr>\n",
              "      <th>3</th>\n",
              "      <td>3</td>\n",
              "      <td>3</td>\n",
              "      <td>0</td>\n",
              "      <td>1</td>\n",
              "      <td>131 149 162 29</td>\n",
              "    </tr>\n",
              "    <tr>\n",
              "      <th>4</th>\n",
              "      <td>4</td>\n",
              "      <td>4</td>\n",
              "      <td>3</td>\n",
              "      <td>1</td>\n",
              "      <td>131 5 162 38</td>\n",
              "    </tr>\n",
              "  </tbody>\n",
              "</table>\n",
              "</div>"
            ],
            "text/plain": [
              "   question_id  bundle_id  correct_answer  part            tags\n",
              "0            0          0               0     1   51 131 162 38\n",
              "1            1          1               1     1       131 36 81\n",
              "2            2          2               0     1  131 101 162 92\n",
              "3            3          3               0     1  131 149 162 29\n",
              "4            4          4               3     1    131 5 162 38"
            ]
          },
          "metadata": {
            "tags": []
          },
          "execution_count": 111
        }
      ]
    },
    {
      "cell_type": "code",
      "metadata": {
        "trusted": true,
        "colab": {
          "base_uri": "https://localhost:8080/",
          "height": 197
        },
        "id": "oRPol9iZV5BD",
        "outputId": "3dd0d96e-45a7-4dd4-a2b9-4f1e24eee801"
      },
      "source": [
        "lectures_df = pd.read_csv(DATA_PATH + \"/lectures.csv\")\n",
        "lectures_df.head()"
      ],
      "execution_count": 112,
      "outputs": [
        {
          "output_type": "execute_result",
          "data": {
            "text/html": [
              "<div>\n",
              "<style scoped>\n",
              "    .dataframe tbody tr th:only-of-type {\n",
              "        vertical-align: middle;\n",
              "    }\n",
              "\n",
              "    .dataframe tbody tr th {\n",
              "        vertical-align: top;\n",
              "    }\n",
              "\n",
              "    .dataframe thead th {\n",
              "        text-align: right;\n",
              "    }\n",
              "</style>\n",
              "<table border=\"1\" class=\"dataframe\">\n",
              "  <thead>\n",
              "    <tr style=\"text-align: right;\">\n",
              "      <th></th>\n",
              "      <th>lecture_id</th>\n",
              "      <th>tag</th>\n",
              "      <th>part</th>\n",
              "      <th>type_of</th>\n",
              "    </tr>\n",
              "  </thead>\n",
              "  <tbody>\n",
              "    <tr>\n",
              "      <th>0</th>\n",
              "      <td>89</td>\n",
              "      <td>159</td>\n",
              "      <td>5</td>\n",
              "      <td>concept</td>\n",
              "    </tr>\n",
              "    <tr>\n",
              "      <th>1</th>\n",
              "      <td>100</td>\n",
              "      <td>70</td>\n",
              "      <td>1</td>\n",
              "      <td>concept</td>\n",
              "    </tr>\n",
              "    <tr>\n",
              "      <th>2</th>\n",
              "      <td>185</td>\n",
              "      <td>45</td>\n",
              "      <td>6</td>\n",
              "      <td>concept</td>\n",
              "    </tr>\n",
              "    <tr>\n",
              "      <th>3</th>\n",
              "      <td>192</td>\n",
              "      <td>79</td>\n",
              "      <td>5</td>\n",
              "      <td>solving question</td>\n",
              "    </tr>\n",
              "    <tr>\n",
              "      <th>4</th>\n",
              "      <td>317</td>\n",
              "      <td>156</td>\n",
              "      <td>5</td>\n",
              "      <td>solving question</td>\n",
              "    </tr>\n",
              "  </tbody>\n",
              "</table>\n",
              "</div>"
            ],
            "text/plain": [
              "   lecture_id  tag  part           type_of\n",
              "0          89  159     5           concept\n",
              "1         100   70     1           concept\n",
              "2         185   45     6           concept\n",
              "3         192   79     5  solving question\n",
              "4         317  156     5  solving question"
            ]
          },
          "metadata": {
            "tags": []
          },
          "execution_count": 112
        }
      ]
    },
    {
      "cell_type": "code",
      "metadata": {
        "trusted": true,
        "id": "33-V3ekrV5BD"
      },
      "source": [
        "# removing lecture rows.\n",
        "train_df = train_df[train_df.answered_correctly != -1]"
      ],
      "execution_count": 113,
      "outputs": []
    },
    {
      "cell_type": "code",
      "metadata": {
        "trusted": true,
        "colab": {
          "base_uri": "https://localhost:8080/",
          "height": 317
        },
        "id": "eXZ6uVXmV5BD",
        "outputId": "0631d55d-d7e9-4c76-cf8b-834cb9fa6930"
      },
      "source": [
        "train_df = train_df.join(questions_df, on=\"content_id\")\n",
        "train_df.head()"
      ],
      "execution_count": 114,
      "outputs": [
        {
          "output_type": "execute_result",
          "data": {
            "text/html": [
              "<div>\n",
              "<style scoped>\n",
              "    .dataframe tbody tr th:only-of-type {\n",
              "        vertical-align: middle;\n",
              "    }\n",
              "\n",
              "    .dataframe tbody tr th {\n",
              "        vertical-align: top;\n",
              "    }\n",
              "\n",
              "    .dataframe thead th {\n",
              "        text-align: right;\n",
              "    }\n",
              "</style>\n",
              "<table border=\"1\" class=\"dataframe\">\n",
              "  <thead>\n",
              "    <tr style=\"text-align: right;\">\n",
              "      <th></th>\n",
              "      <th>row_id</th>\n",
              "      <th>timestamp</th>\n",
              "      <th>user_id</th>\n",
              "      <th>content_id</th>\n",
              "      <th>content_type_id</th>\n",
              "      <th>task_container_id</th>\n",
              "      <th>user_answer</th>\n",
              "      <th>answered_correctly</th>\n",
              "      <th>prior_question_elapsed_time</th>\n",
              "      <th>prior_question_had_explanation</th>\n",
              "      <th>question_id</th>\n",
              "      <th>bundle_id</th>\n",
              "      <th>correct_answer</th>\n",
              "      <th>part</th>\n",
              "      <th>tags</th>\n",
              "    </tr>\n",
              "  </thead>\n",
              "  <tbody>\n",
              "    <tr>\n",
              "      <th>0</th>\n",
              "      <td>0</td>\n",
              "      <td>0</td>\n",
              "      <td>115</td>\n",
              "      <td>5692</td>\n",
              "      <td>0</td>\n",
              "      <td>1</td>\n",
              "      <td>3</td>\n",
              "      <td>1</td>\n",
              "      <td>NaN</td>\n",
              "      <td>&lt;NA&gt;</td>\n",
              "      <td>5692</td>\n",
              "      <td>5692</td>\n",
              "      <td>3</td>\n",
              "      <td>5</td>\n",
              "      <td>151</td>\n",
              "    </tr>\n",
              "    <tr>\n",
              "      <th>1</th>\n",
              "      <td>1</td>\n",
              "      <td>56943</td>\n",
              "      <td>115</td>\n",
              "      <td>5716</td>\n",
              "      <td>0</td>\n",
              "      <td>2</td>\n",
              "      <td>2</td>\n",
              "      <td>1</td>\n",
              "      <td>37000.0</td>\n",
              "      <td>False</td>\n",
              "      <td>5716</td>\n",
              "      <td>5716</td>\n",
              "      <td>2</td>\n",
              "      <td>5</td>\n",
              "      <td>168</td>\n",
              "    </tr>\n",
              "    <tr>\n",
              "      <th>2</th>\n",
              "      <td>2</td>\n",
              "      <td>118363</td>\n",
              "      <td>115</td>\n",
              "      <td>128</td>\n",
              "      <td>0</td>\n",
              "      <td>0</td>\n",
              "      <td>0</td>\n",
              "      <td>1</td>\n",
              "      <td>55000.0</td>\n",
              "      <td>False</td>\n",
              "      <td>128</td>\n",
              "      <td>128</td>\n",
              "      <td>0</td>\n",
              "      <td>1</td>\n",
              "      <td>131 149 92</td>\n",
              "    </tr>\n",
              "    <tr>\n",
              "      <th>3</th>\n",
              "      <td>3</td>\n",
              "      <td>131167</td>\n",
              "      <td>115</td>\n",
              "      <td>7860</td>\n",
              "      <td>0</td>\n",
              "      <td>3</td>\n",
              "      <td>0</td>\n",
              "      <td>1</td>\n",
              "      <td>19000.0</td>\n",
              "      <td>False</td>\n",
              "      <td>7860</td>\n",
              "      <td>7860</td>\n",
              "      <td>0</td>\n",
              "      <td>1</td>\n",
              "      <td>131 104 81</td>\n",
              "    </tr>\n",
              "    <tr>\n",
              "      <th>4</th>\n",
              "      <td>4</td>\n",
              "      <td>137965</td>\n",
              "      <td>115</td>\n",
              "      <td>7922</td>\n",
              "      <td>0</td>\n",
              "      <td>4</td>\n",
              "      <td>1</td>\n",
              "      <td>1</td>\n",
              "      <td>11000.0</td>\n",
              "      <td>False</td>\n",
              "      <td>7922</td>\n",
              "      <td>7922</td>\n",
              "      <td>1</td>\n",
              "      <td>1</td>\n",
              "      <td>131 149 92</td>\n",
              "    </tr>\n",
              "  </tbody>\n",
              "</table>\n",
              "</div>"
            ],
            "text/plain": [
              "   row_id  timestamp  user_id  ...  correct_answer  part        tags\n",
              "0       0          0      115  ...               3     5         151\n",
              "1       1      56943      115  ...               2     5         168\n",
              "2       2     118363      115  ...               0     1  131 149 92\n",
              "3       3     131167      115  ...               0     1  131 104 81\n",
              "4       4     137965      115  ...               1     1  131 149 92\n",
              "\n",
              "[5 rows x 15 columns]"
            ]
          },
          "metadata": {
            "tags": []
          },
          "execution_count": 114
        }
      ]
    },
    {
      "cell_type": "code",
      "metadata": {
        "trusted": true,
        "colab": {
          "base_uri": "https://localhost:8080/",
          "height": 197
        },
        "id": "hBAI5pHMV5BD",
        "outputId": "963e095f-ada4-4542-f345-ee86510249a1"
      },
      "source": [
        "drop_cols = [\n",
        "             \"row_id\", \n",
        "             \"timestamp\", \n",
        "             \"content_type_id\", \n",
        "             \"user_answer\", \n",
        "             \"prior_question_had_explanation\", \n",
        "             \"question_id\", \n",
        "             \"bundle_id\", \n",
        "             \"correct_answer\", \n",
        "             \"tags\"\n",
        "             ]\n",
        "train_df = train_df.drop(drop_cols, axis=1)\n",
        "train_df.head()"
      ],
      "execution_count": 115,
      "outputs": [
        {
          "output_type": "execute_result",
          "data": {
            "text/html": [
              "<div>\n",
              "<style scoped>\n",
              "    .dataframe tbody tr th:only-of-type {\n",
              "        vertical-align: middle;\n",
              "    }\n",
              "\n",
              "    .dataframe tbody tr th {\n",
              "        vertical-align: top;\n",
              "    }\n",
              "\n",
              "    .dataframe thead th {\n",
              "        text-align: right;\n",
              "    }\n",
              "</style>\n",
              "<table border=\"1\" class=\"dataframe\">\n",
              "  <thead>\n",
              "    <tr style=\"text-align: right;\">\n",
              "      <th></th>\n",
              "      <th>user_id</th>\n",
              "      <th>content_id</th>\n",
              "      <th>task_container_id</th>\n",
              "      <th>answered_correctly</th>\n",
              "      <th>prior_question_elapsed_time</th>\n",
              "      <th>part</th>\n",
              "    </tr>\n",
              "  </thead>\n",
              "  <tbody>\n",
              "    <tr>\n",
              "      <th>0</th>\n",
              "      <td>115</td>\n",
              "      <td>5692</td>\n",
              "      <td>1</td>\n",
              "      <td>1</td>\n",
              "      <td>NaN</td>\n",
              "      <td>5</td>\n",
              "    </tr>\n",
              "    <tr>\n",
              "      <th>1</th>\n",
              "      <td>115</td>\n",
              "      <td>5716</td>\n",
              "      <td>2</td>\n",
              "      <td>1</td>\n",
              "      <td>37000.0</td>\n",
              "      <td>5</td>\n",
              "    </tr>\n",
              "    <tr>\n",
              "      <th>2</th>\n",
              "      <td>115</td>\n",
              "      <td>128</td>\n",
              "      <td>0</td>\n",
              "      <td>1</td>\n",
              "      <td>55000.0</td>\n",
              "      <td>1</td>\n",
              "    </tr>\n",
              "    <tr>\n",
              "      <th>3</th>\n",
              "      <td>115</td>\n",
              "      <td>7860</td>\n",
              "      <td>3</td>\n",
              "      <td>1</td>\n",
              "      <td>19000.0</td>\n",
              "      <td>1</td>\n",
              "    </tr>\n",
              "    <tr>\n",
              "      <th>4</th>\n",
              "      <td>115</td>\n",
              "      <td>7922</td>\n",
              "      <td>4</td>\n",
              "      <td>1</td>\n",
              "      <td>11000.0</td>\n",
              "      <td>1</td>\n",
              "    </tr>\n",
              "  </tbody>\n",
              "</table>\n",
              "</div>"
            ],
            "text/plain": [
              "   user_id  content_id  ...  prior_question_elapsed_time  part\n",
              "0      115        5692  ...                          NaN     5\n",
              "1      115        5716  ...                      37000.0     5\n",
              "2      115         128  ...                      55000.0     1\n",
              "3      115        7860  ...                      19000.0     1\n",
              "4      115        7922  ...                      11000.0     1\n",
              "\n",
              "[5 rows x 6 columns]"
            ]
          },
          "metadata": {
            "tags": []
          },
          "execution_count": 115
        }
      ]
    },
    {
      "cell_type": "code",
      "metadata": {
        "trusted": true,
        "colab": {
          "base_uri": "https://localhost:8080/",
          "height": 197
        },
        "id": "4-DBlD76V5BD",
        "outputId": "b3e62d95-e32e-4221-9aaa-a2b695953c84"
      },
      "source": [
        "# 0 is used for padding, so increment 1\n",
        "indicator_cols = [\"content_id\", \"task_container_id\", \"part\"]\n",
        "for c in indicator_cols:\n",
        "  train_df[c] = train_df[c] + 1\n",
        "train_df.head()"
      ],
      "execution_count": 116,
      "outputs": [
        {
          "output_type": "execute_result",
          "data": {
            "text/html": [
              "<div>\n",
              "<style scoped>\n",
              "    .dataframe tbody tr th:only-of-type {\n",
              "        vertical-align: middle;\n",
              "    }\n",
              "\n",
              "    .dataframe tbody tr th {\n",
              "        vertical-align: top;\n",
              "    }\n",
              "\n",
              "    .dataframe thead th {\n",
              "        text-align: right;\n",
              "    }\n",
              "</style>\n",
              "<table border=\"1\" class=\"dataframe\">\n",
              "  <thead>\n",
              "    <tr style=\"text-align: right;\">\n",
              "      <th></th>\n",
              "      <th>user_id</th>\n",
              "      <th>content_id</th>\n",
              "      <th>task_container_id</th>\n",
              "      <th>answered_correctly</th>\n",
              "      <th>prior_question_elapsed_time</th>\n",
              "      <th>part</th>\n",
              "    </tr>\n",
              "  </thead>\n",
              "  <tbody>\n",
              "    <tr>\n",
              "      <th>0</th>\n",
              "      <td>115</td>\n",
              "      <td>5693</td>\n",
              "      <td>2</td>\n",
              "      <td>1</td>\n",
              "      <td>NaN</td>\n",
              "      <td>6</td>\n",
              "    </tr>\n",
              "    <tr>\n",
              "      <th>1</th>\n",
              "      <td>115</td>\n",
              "      <td>5717</td>\n",
              "      <td>3</td>\n",
              "      <td>1</td>\n",
              "      <td>37000.0</td>\n",
              "      <td>6</td>\n",
              "    </tr>\n",
              "    <tr>\n",
              "      <th>2</th>\n",
              "      <td>115</td>\n",
              "      <td>129</td>\n",
              "      <td>1</td>\n",
              "      <td>1</td>\n",
              "      <td>55000.0</td>\n",
              "      <td>2</td>\n",
              "    </tr>\n",
              "    <tr>\n",
              "      <th>3</th>\n",
              "      <td>115</td>\n",
              "      <td>7861</td>\n",
              "      <td>4</td>\n",
              "      <td>1</td>\n",
              "      <td>19000.0</td>\n",
              "      <td>2</td>\n",
              "    </tr>\n",
              "    <tr>\n",
              "      <th>4</th>\n",
              "      <td>115</td>\n",
              "      <td>7923</td>\n",
              "      <td>5</td>\n",
              "      <td>1</td>\n",
              "      <td>11000.0</td>\n",
              "      <td>2</td>\n",
              "    </tr>\n",
              "  </tbody>\n",
              "</table>\n",
              "</div>"
            ],
            "text/plain": [
              "   user_id  content_id  ...  prior_question_elapsed_time  part\n",
              "0      115        5693  ...                          NaN     6\n",
              "1      115        5717  ...                      37000.0     6\n",
              "2      115         129  ...                      55000.0     2\n",
              "3      115        7861  ...                      19000.0     2\n",
              "4      115        7923  ...                      11000.0     2\n",
              "\n",
              "[5 rows x 6 columns]"
            ]
          },
          "metadata": {
            "tags": []
          },
          "execution_count": 116
        }
      ]
    },
    {
      "cell_type": "code",
      "metadata": {
        "trusted": true,
        "colab": {
          "base_uri": "https://localhost:8080/",
          "height": 197
        },
        "id": "j2nEsBzAV5BD",
        "outputId": "fff4b75e-e20b-43d2-90ee-842ee16cfd89"
      },
      "source": [
        "# convert milliseconds to minutes.\n",
        "train_df['prior_question_elapsed_time'] = train_df[\"prior_question_elapsed_time\"].fillna(0).astype(np.float32) / 60000\n",
        "train_df.head()"
      ],
      "execution_count": 117,
      "outputs": [
        {
          "output_type": "execute_result",
          "data": {
            "text/html": [
              "<div>\n",
              "<style scoped>\n",
              "    .dataframe tbody tr th:only-of-type {\n",
              "        vertical-align: middle;\n",
              "    }\n",
              "\n",
              "    .dataframe tbody tr th {\n",
              "        vertical-align: top;\n",
              "    }\n",
              "\n",
              "    .dataframe thead th {\n",
              "        text-align: right;\n",
              "    }\n",
              "</style>\n",
              "<table border=\"1\" class=\"dataframe\">\n",
              "  <thead>\n",
              "    <tr style=\"text-align: right;\">\n",
              "      <th></th>\n",
              "      <th>user_id</th>\n",
              "      <th>content_id</th>\n",
              "      <th>task_container_id</th>\n",
              "      <th>answered_correctly</th>\n",
              "      <th>prior_question_elapsed_time</th>\n",
              "      <th>part</th>\n",
              "    </tr>\n",
              "  </thead>\n",
              "  <tbody>\n",
              "    <tr>\n",
              "      <th>0</th>\n",
              "      <td>115</td>\n",
              "      <td>5693</td>\n",
              "      <td>2</td>\n",
              "      <td>1</td>\n",
              "      <td>0.000000</td>\n",
              "      <td>6</td>\n",
              "    </tr>\n",
              "    <tr>\n",
              "      <th>1</th>\n",
              "      <td>115</td>\n",
              "      <td>5717</td>\n",
              "      <td>3</td>\n",
              "      <td>1</td>\n",
              "      <td>0.616667</td>\n",
              "      <td>6</td>\n",
              "    </tr>\n",
              "    <tr>\n",
              "      <th>2</th>\n",
              "      <td>115</td>\n",
              "      <td>129</td>\n",
              "      <td>1</td>\n",
              "      <td>1</td>\n",
              "      <td>0.916667</td>\n",
              "      <td>2</td>\n",
              "    </tr>\n",
              "    <tr>\n",
              "      <th>3</th>\n",
              "      <td>115</td>\n",
              "      <td>7861</td>\n",
              "      <td>4</td>\n",
              "      <td>1</td>\n",
              "      <td>0.316667</td>\n",
              "      <td>2</td>\n",
              "    </tr>\n",
              "    <tr>\n",
              "      <th>4</th>\n",
              "      <td>115</td>\n",
              "      <td>7923</td>\n",
              "      <td>5</td>\n",
              "      <td>1</td>\n",
              "      <td>0.183333</td>\n",
              "      <td>2</td>\n",
              "    </tr>\n",
              "  </tbody>\n",
              "</table>\n",
              "</div>"
            ],
            "text/plain": [
              "   user_id  content_id  ...  prior_question_elapsed_time  part\n",
              "0      115        5693  ...                     0.000000     6\n",
              "1      115        5717  ...                     0.616667     6\n",
              "2      115         129  ...                     0.916667     2\n",
              "3      115        7861  ...                     0.316667     2\n",
              "4      115        7923  ...                     0.183333     2\n",
              "\n",
              "[5 rows x 6 columns]"
            ]
          },
          "metadata": {
            "tags": []
          },
          "execution_count": 117
        }
      ]
    },
    {
      "cell_type": "code",
      "metadata": {
        "trusted": true,
        "colab": {
          "base_uri": "https://localhost:8080/"
        },
        "id": "gAu_YF9mV5BD",
        "outputId": "b2482e11-04e8-4d03-817c-d66267f493f3"
      },
      "source": [
        "user_groups = train_df.groupby(\"user_id\")\n",
        "len(user_groups)"
      ],
      "execution_count": 118,
      "outputs": [
        {
          "output_type": "execute_result",
          "data": {
            "text/plain": [
              "3824"
            ]
          },
          "metadata": {
            "tags": []
          },
          "execution_count": 118
        }
      ]
    },
    {
      "cell_type": "markdown",
      "metadata": {
        "id": "7tMw6HjyV5BE"
      },
      "source": [
        "### Pytorch Iterable Dataset"
      ]
    },
    {
      "cell_type": "code",
      "metadata": {
        "trusted": true,
        "id": "7iklS-skV5BE"
      },
      "source": [
        "# just some stuff I ctrl C ctrl V from StackOverflow (with little changes)\n",
        "# [1,2,3,4] --- w = 2 --[[1,2], [2,3], [3,4]] but 2D to 3D\n",
        "def rolling_window(a, w):\n",
        "    s0, s1 = a.strides\n",
        "    m, n = a.shape\n",
        "    return np.lib.stride_tricks.as_strided(\n",
        "        a, \n",
        "        shape=(m-w+1, w, n), \n",
        "        strides=(s0, s0, s1)\n",
        "    )\n",
        "\n",
        "def make_timeseries(x, window_length):\n",
        "  \"\"\"\n",
        "  x - shape (seq_len, features)\n",
        "  \"\"\"\n",
        "  # pad a lot of 0s before so when we create windows, we will have appropriate padding.\n",
        "  x = np.pad(x, ((window_length-1, 0), (0, 0)), constant_values=0) # add padding to the first dimension\n",
        "  \n",
        "  # roll windows \n",
        "  x = rolling_window(x, window_length) # shape will become - (seq_len, window_length, features)\n",
        "\n",
        "  return x\n",
        "\n",
        "def add_features_to_user_df(user_df):\n",
        "\n",
        "  # shifted answered_correctly, SOS 3\n",
        "  user_df[\"answered_correctly\"] = user_df[\"answered_correctly\"].shift(fill_value=2) + 1\n",
        "\n",
        "  return user_df\n",
        "\n",
        "class RiidDataset(IterableDataset):\n",
        "  def __init__(self, user_groups, window_length=128, batch_size=32, n_batches=None):\n",
        "    super().__init__()\n",
        "    self.user_groups = user_groups\n",
        "    self.window_length = window_length\n",
        "    self.batch_size = batch_size\n",
        "    self.__len = None\n",
        "    self.n_batches = n_batches\n",
        "    if n_batches:\n",
        "      self.__len = n_batches\n",
        "\n",
        "  def __len__(self):\n",
        "    if not self.__len:\n",
        "      b = 0\n",
        "      for xb, yb in self:\n",
        "        b += 1\n",
        "      self.__len = b\n",
        "    return self.__len \n",
        "\n",
        "  def __iter__(self):\n",
        "    b = 0\n",
        "    for user_id, user_df in self.user_groups:\n",
        "      user_df = user_df.drop(columns=\"user_id\")\n",
        "      y = user_df[\"answered_correctly\"].to_numpy().copy()\n",
        "      x = add_features_to_user_df(user_df)\n",
        "\n",
        "      x = make_timeseries(x, self.window_length)\n",
        "      x = np.transpose(x, (1, 0, 2)) # reshape to [seq_length, bs, features]\n",
        "      # y = make_timeseries(np.expand_dims(y, axis=1), self.window_length)\n",
        "      for i in range(0, x.shape[1], self.batch_size):\n",
        "          start, end = i, i+self.batch_size\n",
        "          if end > x.shape[1]: # ignoring last incomplete batches, this ignores users with interaction < batchsize, FIX THIS\n",
        "                continue\n",
        "          if self.n_batches and b == self.n_batches:\n",
        "            raise StopIteration\n",
        "          yield x[:, start:end, :], y[start:end]\n",
        "          b += 1"
      ],
      "execution_count": 119,
      "outputs": []
    },
    {
      "cell_type": "code",
      "metadata": {
        "trusted": true,
        "id": "obfjDLOvV5BE"
      },
      "source": [
        "riid_ds = RiidDataset(user_groups, window_length=2, batch_size=128, n_batches=None)"
      ],
      "execution_count": 120,
      "outputs": []
    },
    {
      "cell_type": "code",
      "metadata": {
        "trusted": true,
        "colab": {
          "base_uri": "https://localhost:8080/"
        },
        "id": "4HGtRYSpV5BE",
        "outputId": "6e1e9af6-3561-4792-e783-463f024b97d7"
      },
      "source": [
        "train_dl = DataLoader(riid_ds, batch_size=None)\n",
        "x, y = next(iter(train_dl))\n",
        "x.shape, y.shape, x.dtype, y.dtype"
      ],
      "execution_count": 121,
      "outputs": [
        {
          "output_type": "execute_result",
          "data": {
            "text/plain": [
              "(torch.Size([2, 128, 5]), torch.Size([128]), torch.float64, torch.int8)"
            ]
          },
          "metadata": {
            "tags": []
          },
          "execution_count": 121
        }
      ]
    },
    {
      "cell_type": "markdown",
      "metadata": {
        "id": "e5pZfU2jTLv6"
      },
      "source": [
        "#### Variable Sequence Length Dataset"
      ]
    },
    {
      "cell_type": "code",
      "metadata": {
        "id": "tmC_Z02aTPsg"
      },
      "source": [
        "class RiidVlenDataset(IterableDataset):\n",
        "  def __init__(self, user_groups, seq_len=1, batch_size=32, n_batches=None):\n",
        "    super().__init__()\n",
        "    self.user_groups = user_groups\n",
        "    self.batch_size = batch_size\n",
        "    self.seq_len = seq_len\n",
        "    self.__len = None\n",
        "    self.n_batches = n_batches\n",
        "    if n_batches:\n",
        "      self.__len = n_batches\n",
        "\n",
        "  def __len__(self):\n",
        "    if not self.__len:\n",
        "      b = 0\n",
        "      for xb, yb in self:\n",
        "        b += 1\n",
        "      self.__len = b\n",
        "    return self.__len \n",
        "\n",
        "  def __iter__(self):\n",
        "    b = 0\n",
        "    xs, ys = [], []\n",
        "    for user_id, user_df in self.user_groups:\n",
        "      user_df = user_df.drop(columns=\"user_id\")\n",
        "      y = user_df[\"answered_correctly\"].to_numpy().copy()\n",
        "      if y.shape[0] < self.seq_len:\n",
        "        continue\n",
        "      x = add_features_to_user_df(user_df).values\n",
        "      \n",
        "      for i in range(0, y.shape[0], self.seq_len):\n",
        "        start, end = i, i + self.seq_len\n",
        "        if end > y.shape[0]:\n",
        "          continue\n",
        "\n",
        "        xs.append(x[start:end])\n",
        "        ys.append(y[end-1])\n",
        "        b += 1\n",
        "        if b == self.batch_size:\n",
        "          yield np.transpose(np.stack(xs), (1, 0, 2)), np.stack(ys) # reshape x to [seq_len, bs, n_features]\n",
        "          b = 0\n",
        "          xs, ys = [], []\n"
      ],
      "execution_count": 122,
      "outputs": []
    },
    {
      "cell_type": "code",
      "metadata": {
        "colab": {
          "base_uri": "https://localhost:8080/"
        },
        "id": "9tn1x2cIWnLN",
        "outputId": "bac1ad97-1fa2-4cfd-f0a7-71fba1d3ee66"
      },
      "source": [
        "riid_ds = ChainDataset([RiidVlenDataset(user_groups, batch_size=128, seq_len=s, n_batches=None) for s in [1, 8, 16]])\n",
        "\n",
        "riid_ds_iter = iter(riid_ds)\n",
        "xb, yb = next(riid_ds_iter)\n",
        "xb.shape, yb.shape\n",
        "xb[:, 0, :], y[0]"
      ],
      "execution_count": 123,
      "outputs": [
        {
          "output_type": "execute_result",
          "data": {
            "text/plain": [
              "(array([[5.693e+03, 2.000e+00, 3.000e+00, 0.000e+00, 6.000e+00]]),\n",
              " tensor(0, dtype=torch.int8))"
            ]
          },
          "metadata": {
            "tags": []
          },
          "execution_count": 123
        }
      ]
    },
    {
      "cell_type": "code",
      "metadata": {
        "colab": {
          "base_uri": "https://localhost:8080/"
        },
        "id": "md40lKSDtDeR",
        "outputId": "4620c95d-7b8b-45ac-d4c0-447f5e460776"
      },
      "source": [
        "xb[:, 1, :], y[1]"
      ],
      "execution_count": 124,
      "outputs": [
        {
          "output_type": "execute_result",
          "data": {
            "text/plain": [
              "(array([[5.71700000e+03, 3.00000000e+00, 2.00000000e+00, 6.16666675e-01,\n",
              "         6.00000000e+00]]), tensor(1, dtype=torch.int8))"
            ]
          },
          "metadata": {
            "tags": []
          },
          "execution_count": 124
        }
      ]
    },
    {
      "cell_type": "code",
      "metadata": {
        "colab": {
          "base_uri": "https://localhost:8080/",
          "height": 0
        },
        "id": "3ZSJrVHDsiOw",
        "outputId": "7d344ad4-84d7-4e9f-8464-c8b612262978"
      },
      "source": [
        "_, udf = next(iter(user_groups))\n",
        "udf.head(16)"
      ],
      "execution_count": 125,
      "outputs": [
        {
          "output_type": "execute_result",
          "data": {
            "text/html": [
              "<div>\n",
              "<style scoped>\n",
              "    .dataframe tbody tr th:only-of-type {\n",
              "        vertical-align: middle;\n",
              "    }\n",
              "\n",
              "    .dataframe tbody tr th {\n",
              "        vertical-align: top;\n",
              "    }\n",
              "\n",
              "    .dataframe thead th {\n",
              "        text-align: right;\n",
              "    }\n",
              "</style>\n",
              "<table border=\"1\" class=\"dataframe\">\n",
              "  <thead>\n",
              "    <tr style=\"text-align: right;\">\n",
              "      <th></th>\n",
              "      <th>user_id</th>\n",
              "      <th>content_id</th>\n",
              "      <th>task_container_id</th>\n",
              "      <th>answered_correctly</th>\n",
              "      <th>prior_question_elapsed_time</th>\n",
              "      <th>part</th>\n",
              "    </tr>\n",
              "  </thead>\n",
              "  <tbody>\n",
              "    <tr>\n",
              "      <th>0</th>\n",
              "      <td>115</td>\n",
              "      <td>5693</td>\n",
              "      <td>2</td>\n",
              "      <td>1</td>\n",
              "      <td>0.000000</td>\n",
              "      <td>6</td>\n",
              "    </tr>\n",
              "    <tr>\n",
              "      <th>1</th>\n",
              "      <td>115</td>\n",
              "      <td>5717</td>\n",
              "      <td>3</td>\n",
              "      <td>1</td>\n",
              "      <td>0.616667</td>\n",
              "      <td>6</td>\n",
              "    </tr>\n",
              "    <tr>\n",
              "      <th>2</th>\n",
              "      <td>115</td>\n",
              "      <td>129</td>\n",
              "      <td>1</td>\n",
              "      <td>1</td>\n",
              "      <td>0.916667</td>\n",
              "      <td>2</td>\n",
              "    </tr>\n",
              "    <tr>\n",
              "      <th>3</th>\n",
              "      <td>115</td>\n",
              "      <td>7861</td>\n",
              "      <td>4</td>\n",
              "      <td>1</td>\n",
              "      <td>0.316667</td>\n",
              "      <td>2</td>\n",
              "    </tr>\n",
              "    <tr>\n",
              "      <th>4</th>\n",
              "      <td>115</td>\n",
              "      <td>7923</td>\n",
              "      <td>5</td>\n",
              "      <td>1</td>\n",
              "      <td>0.183333</td>\n",
              "      <td>2</td>\n",
              "    </tr>\n",
              "    <tr>\n",
              "      <th>5</th>\n",
              "      <td>115</td>\n",
              "      <td>157</td>\n",
              "      <td>6</td>\n",
              "      <td>1</td>\n",
              "      <td>0.083333</td>\n",
              "      <td>2</td>\n",
              "    </tr>\n",
              "    <tr>\n",
              "      <th>6</th>\n",
              "      <td>115</td>\n",
              "      <td>52</td>\n",
              "      <td>7</td>\n",
              "      <td>1</td>\n",
              "      <td>0.283333</td>\n",
              "      <td>2</td>\n",
              "    </tr>\n",
              "    <tr>\n",
              "      <th>7</th>\n",
              "      <td>115</td>\n",
              "      <td>51</td>\n",
              "      <td>8</td>\n",
              "      <td>1</td>\n",
              "      <td>0.283333</td>\n",
              "      <td>2</td>\n",
              "    </tr>\n",
              "    <tr>\n",
              "      <th>8</th>\n",
              "      <td>115</td>\n",
              "      <td>7897</td>\n",
              "      <td>9</td>\n",
              "      <td>1</td>\n",
              "      <td>0.266667</td>\n",
              "      <td>2</td>\n",
              "    </tr>\n",
              "    <tr>\n",
              "      <th>9</th>\n",
              "      <td>115</td>\n",
              "      <td>7864</td>\n",
              "      <td>10</td>\n",
              "      <td>1</td>\n",
              "      <td>0.266667</td>\n",
              "      <td>2</td>\n",
              "    </tr>\n",
              "    <tr>\n",
              "      <th>10</th>\n",
              "      <td>115</td>\n",
              "      <td>153</td>\n",
              "      <td>11</td>\n",
              "      <td>0</td>\n",
              "      <td>0.283333</td>\n",
              "      <td>2</td>\n",
              "    </tr>\n",
              "    <tr>\n",
              "      <th>11</th>\n",
              "      <td>115</td>\n",
              "      <td>105</td>\n",
              "      <td>12</td>\n",
              "      <td>0</td>\n",
              "      <td>0.366667</td>\n",
              "      <td>2</td>\n",
              "    </tr>\n",
              "    <tr>\n",
              "      <th>12</th>\n",
              "      <td>115</td>\n",
              "      <td>109</td>\n",
              "      <td>13</td>\n",
              "      <td>0</td>\n",
              "      <td>0.383333</td>\n",
              "      <td>2</td>\n",
              "    </tr>\n",
              "    <tr>\n",
              "      <th>13</th>\n",
              "      <td>115</td>\n",
              "      <td>7901</td>\n",
              "      <td>14</td>\n",
              "      <td>1</td>\n",
              "      <td>0.350000</td>\n",
              "      <td>2</td>\n",
              "    </tr>\n",
              "    <tr>\n",
              "      <th>14</th>\n",
              "      <td>115</td>\n",
              "      <td>7902</td>\n",
              "      <td>15</td>\n",
              "      <td>1</td>\n",
              "      <td>0.400000</td>\n",
              "      <td>2</td>\n",
              "    </tr>\n",
              "    <tr>\n",
              "      <th>15</th>\n",
              "      <td>115</td>\n",
              "      <td>7972</td>\n",
              "      <td>16</td>\n",
              "      <td>1</td>\n",
              "      <td>0.366667</td>\n",
              "      <td>2</td>\n",
              "    </tr>\n",
              "  </tbody>\n",
              "</table>\n",
              "</div>"
            ],
            "text/plain": [
              "    user_id  content_id  ...  prior_question_elapsed_time  part\n",
              "0       115        5693  ...                     0.000000     6\n",
              "1       115        5717  ...                     0.616667     6\n",
              "2       115         129  ...                     0.916667     2\n",
              "3       115        7861  ...                     0.316667     2\n",
              "4       115        7923  ...                     0.183333     2\n",
              "5       115         157  ...                     0.083333     2\n",
              "6       115          52  ...                     0.283333     2\n",
              "7       115          51  ...                     0.283333     2\n",
              "8       115        7897  ...                     0.266667     2\n",
              "9       115        7864  ...                     0.266667     2\n",
              "10      115         153  ...                     0.283333     2\n",
              "11      115         105  ...                     0.366667     2\n",
              "12      115         109  ...                     0.383333     2\n",
              "13      115        7901  ...                     0.350000     2\n",
              "14      115        7902  ...                     0.400000     2\n",
              "15      115        7972  ...                     0.366667     2\n",
              "\n",
              "[16 rows x 6 columns]"
            ]
          },
          "metadata": {
            "tags": []
          },
          "execution_count": 125
        }
      ]
    },
    {
      "cell_type": "markdown",
      "metadata": {
        "id": "y7RaQ1H9ozpY"
      },
      "source": [
        "#### Sequence to Sequence Dataset"
      ]
    },
    {
      "cell_type": "code",
      "metadata": {
        "id": "HttmylKTo5-Z"
      },
      "source": [
        "class RiidS2SDataset(IterableDataset):\n",
        "  def __init__(self, user_groups, seq_len=128, batch_size=32, n_batches=None):\n",
        "    super().__init__()\n",
        "    self.user_groups = user_groups\n",
        "    self.batch_size = batch_size\n",
        "    self.seq_len = seq_len\n",
        "    self.__len = None\n",
        "    self.n_batches = n_batches\n",
        "    if n_batches:\n",
        "      self.__len = n_batches\n",
        "\n",
        "  def __len__(self):\n",
        "    if not self.__len:\n",
        "      b = 0\n",
        "      for xb, yb in self:\n",
        "        b += 1\n",
        "      self.__len = b\n",
        "    return self.__len \n",
        "\n",
        "  def __iter__(self):\n",
        "    b = 0\n",
        "    xs, ys = [], []\n",
        "    for user_id, user_df in self.user_groups:\n",
        "      user_df = user_df.drop(columns=\"user_id\")\n",
        "      y = user_df[\"answered_correctly\"].to_numpy().copy()\n",
        "      if y.shape[0] < self.seq_len:\n",
        "        continue\n",
        "      x = add_features_to_user_df(user_df).values\n",
        "      \n",
        "      for i in range(0, y.shape[0], self.seq_len):\n",
        "        start, end = i, i + self.seq_len\n",
        "        if end > y.shape[0]:\n",
        "          continue\n",
        "\n",
        "        xs.append(x[start:end])\n",
        "        ys.append(y[start:end])\n",
        "        b += 1\n",
        "        if b == self.batch_size:\n",
        "          yield np.transpose(np.stack(xs), (1, 0, 2)), np.stack(ys) # reshape x to [seq_len, bs, n_features]\n",
        "          b = 0\n",
        "          xs, ys = [], []"
      ],
      "execution_count": 126,
      "outputs": []
    },
    {
      "cell_type": "code",
      "metadata": {
        "id": "iK8zJ_efpcaZ"
      },
      "source": [
        "riid_ds = RiidS2SDataset(user_groups, seq_len=128, batch_size=64)"
      ],
      "execution_count": 127,
      "outputs": []
    },
    {
      "cell_type": "code",
      "metadata": {
        "id": "jBdAwQtnpjCZ",
        "outputId": "7bdf8e19-7813-4dca-c74e-386b6240bf76",
        "colab": {
          "base_uri": "https://localhost:8080/"
        }
      },
      "source": [
        "xb, yb = next(iter(riid_ds))\n",
        "xb.shape, yb.shape"
      ],
      "execution_count": 128,
      "outputs": [
        {
          "output_type": "execute_result",
          "data": {
            "text/plain": [
              "((128, 64, 5), (64, 128))"
            ]
          },
          "metadata": {
            "tags": []
          },
          "execution_count": 128
        }
      ]
    },
    {
      "cell_type": "code",
      "metadata": {
        "id": "jrZfcR-fp9hZ",
        "outputId": "2fe23f08-cffe-446e-e2f1-2b2b501eb089",
        "colab": {
          "base_uri": "https://localhost:8080/"
        }
      },
      "source": [
        "xb[:10, 0, :]"
      ],
      "execution_count": 129,
      "outputs": [
        {
          "output_type": "execute_result",
          "data": {
            "text/plain": [
              "array([[5.14600000e+03, 1.00000000e+00, 3.00000000e+00, 0.00000000e+00,\n",
              "        6.00000000e+00],\n",
              "       [9.69200000e+03, 2.00000000e+00, 1.00000000e+00, 2.16666669e-01,\n",
              "        6.00000000e+00],\n",
              "       [9.69800000e+03, 3.00000000e+00, 2.00000000e+00, 3.00000012e-01,\n",
              "        6.00000000e+00],\n",
              "       [5.20300000e+03, 4.00000000e+00, 1.00000000e+00, 4.83333319e-01,\n",
              "        6.00000000e+00],\n",
              "       [4.78800000e+03, 5.00000000e+00, 2.00000000e+00, 5.83333313e-01,\n",
              "        6.00000000e+00],\n",
              "       [5.69600000e+03, 6.00000000e+00, 2.00000000e+00, 2.50000000e-01,\n",
              "        6.00000000e+00],\n",
              "       [7.85900000e+03, 7.00000000e+00, 1.00000000e+00, 3.49999994e-01,\n",
              "        2.00000000e+00],\n",
              "       [5.65400000e+03, 8.00000000e+00, 2.00000000e+00, 3.83333325e-01,\n",
              "        6.00000000e+00],\n",
              "       [5.89000000e+03, 9.00000000e+00, 1.00000000e+00, 3.83333325e-01,\n",
              "        6.00000000e+00],\n",
              "       [4.76500000e+03, 1.00000000e+01, 2.00000000e+00, 5.00000000e-01,\n",
              "        6.00000000e+00]])"
            ]
          },
          "metadata": {
            "tags": []
          },
          "execution_count": 129
        }
      ]
    },
    {
      "cell_type": "code",
      "metadata": {
        "id": "-uMdAEB3qLh9",
        "outputId": "3a141e0d-620f-4310-a7f6-dff54ab08a1c",
        "colab": {
          "base_uri": "https://localhost:8080/"
        }
      },
      "source": [
        "yb[0, :10]"
      ],
      "execution_count": 130,
      "outputs": [
        {
          "output_type": "execute_result",
          "data": {
            "text/plain": [
              "array([0, 1, 0, 1, 1, 0, 1, 0, 1, 0], dtype=int8)"
            ]
          },
          "metadata": {
            "tags": []
          },
          "execution_count": 130
        }
      ]
    },
    {
      "cell_type": "code",
      "metadata": {
        "id": "fGiufHEUqONl",
        "outputId": "584d34bc-51da-479f-eb4e-0de2ef78475c",
        "colab": {
          "base_uri": "https://localhost:8080/",
          "height": 347
        }
      },
      "source": [
        "train_df[train_df[\"user_id\"] == 12741].head(10)"
      ],
      "execution_count": 131,
      "outputs": [
        {
          "output_type": "execute_result",
          "data": {
            "text/html": [
              "<div>\n",
              "<style scoped>\n",
              "    .dataframe tbody tr th:only-of-type {\n",
              "        vertical-align: middle;\n",
              "    }\n",
              "\n",
              "    .dataframe tbody tr th {\n",
              "        vertical-align: top;\n",
              "    }\n",
              "\n",
              "    .dataframe thead th {\n",
              "        text-align: right;\n",
              "    }\n",
              "</style>\n",
              "<table border=\"1\" class=\"dataframe\">\n",
              "  <thead>\n",
              "    <tr style=\"text-align: right;\">\n",
              "      <th></th>\n",
              "      <th>user_id</th>\n",
              "      <th>content_id</th>\n",
              "      <th>task_container_id</th>\n",
              "      <th>answered_correctly</th>\n",
              "      <th>prior_question_elapsed_time</th>\n",
              "      <th>part</th>\n",
              "    </tr>\n",
              "  </thead>\n",
              "  <tbody>\n",
              "    <tr>\n",
              "      <th>353</th>\n",
              "      <td>12741</td>\n",
              "      <td>5146</td>\n",
              "      <td>1</td>\n",
              "      <td>0</td>\n",
              "      <td>0.000000</td>\n",
              "      <td>6</td>\n",
              "    </tr>\n",
              "    <tr>\n",
              "      <th>354</th>\n",
              "      <td>12741</td>\n",
              "      <td>9692</td>\n",
              "      <td>2</td>\n",
              "      <td>1</td>\n",
              "      <td>0.216667</td>\n",
              "      <td>6</td>\n",
              "    </tr>\n",
              "    <tr>\n",
              "      <th>355</th>\n",
              "      <td>12741</td>\n",
              "      <td>9698</td>\n",
              "      <td>3</td>\n",
              "      <td>0</td>\n",
              "      <td>0.300000</td>\n",
              "      <td>6</td>\n",
              "    </tr>\n",
              "    <tr>\n",
              "      <th>356</th>\n",
              "      <td>12741</td>\n",
              "      <td>5203</td>\n",
              "      <td>4</td>\n",
              "      <td>1</td>\n",
              "      <td>0.483333</td>\n",
              "      <td>6</td>\n",
              "    </tr>\n",
              "    <tr>\n",
              "      <th>357</th>\n",
              "      <td>12741</td>\n",
              "      <td>4788</td>\n",
              "      <td>5</td>\n",
              "      <td>1</td>\n",
              "      <td>0.583333</td>\n",
              "      <td>6</td>\n",
              "    </tr>\n",
              "    <tr>\n",
              "      <th>358</th>\n",
              "      <td>12741</td>\n",
              "      <td>5696</td>\n",
              "      <td>6</td>\n",
              "      <td>0</td>\n",
              "      <td>0.250000</td>\n",
              "      <td>6</td>\n",
              "    </tr>\n",
              "    <tr>\n",
              "      <th>359</th>\n",
              "      <td>12741</td>\n",
              "      <td>7859</td>\n",
              "      <td>7</td>\n",
              "      <td>1</td>\n",
              "      <td>0.350000</td>\n",
              "      <td>2</td>\n",
              "    </tr>\n",
              "    <tr>\n",
              "      <th>360</th>\n",
              "      <td>12741</td>\n",
              "      <td>5654</td>\n",
              "      <td>8</td>\n",
              "      <td>0</td>\n",
              "      <td>0.383333</td>\n",
              "      <td>6</td>\n",
              "    </tr>\n",
              "    <tr>\n",
              "      <th>361</th>\n",
              "      <td>12741</td>\n",
              "      <td>5890</td>\n",
              "      <td>9</td>\n",
              "      <td>1</td>\n",
              "      <td>0.383333</td>\n",
              "      <td>6</td>\n",
              "    </tr>\n",
              "    <tr>\n",
              "      <th>362</th>\n",
              "      <td>12741</td>\n",
              "      <td>4765</td>\n",
              "      <td>10</td>\n",
              "      <td>0</td>\n",
              "      <td>0.500000</td>\n",
              "      <td>6</td>\n",
              "    </tr>\n",
              "  </tbody>\n",
              "</table>\n",
              "</div>"
            ],
            "text/plain": [
              "     user_id  content_id  ...  prior_question_elapsed_time  part\n",
              "353    12741        5146  ...                     0.000000     6\n",
              "354    12741        9692  ...                     0.216667     6\n",
              "355    12741        9698  ...                     0.300000     6\n",
              "356    12741        5203  ...                     0.483333     6\n",
              "357    12741        4788  ...                     0.583333     6\n",
              "358    12741        5696  ...                     0.250000     6\n",
              "359    12741        7859  ...                     0.350000     2\n",
              "360    12741        5654  ...                     0.383333     6\n",
              "361    12741        5890  ...                     0.383333     6\n",
              "362    12741        4765  ...                     0.500000     6\n",
              "\n",
              "[10 rows x 6 columns]"
            ]
          },
          "metadata": {
            "tags": []
          },
          "execution_count": 131
        }
      ]
    },
    {
      "cell_type": "markdown",
      "metadata": {
        "id": "Q5rOrLotowdI"
      },
      "source": [
        "#### Dataloader"
      ]
    },
    {
      "cell_type": "code",
      "metadata": {
        "colab": {
          "base_uri": "https://localhost:8080/"
        },
        "id": "tdkKk3y8WtXf",
        "outputId": "71e28fb7-0336-437b-c669-932d950c906a"
      },
      "source": [
        "train_dl = DataLoader(riid_ds, batch_size=None)\n",
        "x, y = next(iter(train_dl))\n",
        "x.shape, y.shape, x.dtype, y.dtype"
      ],
      "execution_count": 132,
      "outputs": [
        {
          "output_type": "execute_result",
          "data": {
            "text/plain": [
              "(torch.Size([128, 64, 5]), torch.Size([64, 128]), torch.float64, torch.int8)"
            ]
          },
          "metadata": {
            "tags": []
          },
          "execution_count": 132
        }
      ]
    },
    {
      "cell_type": "code",
      "metadata": {
        "id": "StH8mmtZfw8j",
        "colab": {
          "base_uri": "https://localhost:8080/"
        },
        "outputId": "19810cb4-366b-4f64-e321-737d485d003a"
      },
      "source": [
        "y"
      ],
      "execution_count": 133,
      "outputs": [
        {
          "output_type": "execute_result",
          "data": {
            "text/plain": [
              "tensor([[0, 1, 0,  ..., 0, 0, 0],\n",
              "        [1, 0, 1,  ..., 1, 1, 1],\n",
              "        [1, 0, 0,  ..., 1, 1, 0],\n",
              "        ...,\n",
              "        [1, 1, 1,  ..., 1, 1, 1],\n",
              "        [1, 0, 0,  ..., 1, 1, 0],\n",
              "        [1, 0, 0,  ..., 1, 1, 1]], dtype=torch.int8)"
            ]
          },
          "metadata": {
            "tags": []
          },
          "execution_count": 133
        }
      ]
    },
    {
      "cell_type": "code",
      "metadata": {
        "colab": {
          "base_uri": "https://localhost:8080/"
        },
        "id": "iMf4uEkLa5_D",
        "outputId": "0b2ac01c-6817-41e6-9052-2043b1887cec"
      },
      "source": [
        "len(train_dl)"
      ],
      "execution_count": 134,
      "outputs": [
        {
          "output_type": "execute_result",
          "data": {
            "text/plain": [
              "98"
            ]
          },
          "metadata": {
            "tags": []
          },
          "execution_count": 134
        }
      ]
    },
    {
      "cell_type": "code",
      "metadata": {
        "trusted": true,
        "colab": {
          "base_uri": "https://localhost:8080/"
        },
        "id": "O0jBSXrKV5BE",
        "outputId": "71b791ca-9f8a-4669-87a3-30c466e3e7f1"
      },
      "source": [
        "batches = 0\n",
        "max_batch_size = 0\n",
        "max_seq_len = 0\n",
        "for xb, yb in train_dl:\n",
        "    max_batch_size = max(max_batch_size, xb.size(1))\n",
        "    max_seq_len = max(max_seq_len, xb.size(0))\n",
        "    batches += 1\n",
        "    \n",
        "max_batch_size, max_seq_len, batches"
      ],
      "execution_count": 135,
      "outputs": [
        {
          "output_type": "execute_result",
          "data": {
            "text/plain": [
              "(64, 128, 98)"
            ]
          },
          "metadata": {
            "tags": []
          },
          "execution_count": 135
        }
      ]
    },
    {
      "cell_type": "markdown",
      "metadata": {
        "id": "eoN04M3zxpyW"
      },
      "source": [
        "##### Padding mask"
      ]
    },
    {
      "cell_type": "code",
      "metadata": {
        "colab": {
          "base_uri": "https://localhost:8080/"
        },
        "id": "kmjVawe-xtDp",
        "outputId": "7d2e3db7-a616-46bd-956d-8849c9f48252"
      },
      "source": [
        "pad_mask = torch.all(torch.eq(x, 0), dim=-1).T\n",
        "pad_mask.shape"
      ],
      "execution_count": 136,
      "outputs": [
        {
          "output_type": "execute_result",
          "data": {
            "text/plain": [
              "torch.Size([64, 128])"
            ]
          },
          "metadata": {
            "tags": []
          },
          "execution_count": 136
        }
      ]
    },
    {
      "cell_type": "markdown",
      "metadata": {
        "id": "8uGjjmawrRkY"
      },
      "source": [
        "Look ahead mask"
      ]
    },
    {
      "cell_type": "code",
      "metadata": {
        "id": "Yw0ByBVWuNqT"
      },
      "source": [
        "  def generate_square_subsequent_mask(sz):\n",
        "        r\"\"\"Generate a square mask for the sequence. The masked positions are filled with float('-inf').\n",
        "            Unmasked positions are filled with float(0.0).\n",
        "        \"\"\"\n",
        "        mask = (torch.triu(torch.ones(sz, sz)) == 1).transpose(0, 1)\n",
        "        mask = mask.float().masked_fill(mask == 0, float('-inf')).masked_fill(mask == 1, float(0.0))\n",
        "        return mask"
      ],
      "execution_count": 137,
      "outputs": []
    },
    {
      "cell_type": "code",
      "metadata": {
        "id": "zVPqkO8ruVpf",
        "outputId": "6dcffc2d-c166-4fdd-926f-cf046ab11155",
        "colab": {
          "base_uri": "https://localhost:8080/"
        }
      },
      "source": [
        "look_ahead_mask = generate_square_subsequent_mask(128)\n",
        "look_ahead_mask"
      ],
      "execution_count": 138,
      "outputs": [
        {
          "output_type": "execute_result",
          "data": {
            "text/plain": [
              "tensor([[0., -inf, -inf,  ..., -inf, -inf, -inf],\n",
              "        [0., 0., -inf,  ..., -inf, -inf, -inf],\n",
              "        [0., 0., 0.,  ..., -inf, -inf, -inf],\n",
              "        ...,\n",
              "        [0., 0., 0.,  ..., 0., -inf, -inf],\n",
              "        [0., 0., 0.,  ..., 0., 0., -inf],\n",
              "        [0., 0., 0.,  ..., 0., 0., 0.]])"
            ]
          },
          "metadata": {
            "tags": []
          },
          "execution_count": 138
        }
      ]
    },
    {
      "cell_type": "markdown",
      "metadata": {
        "id": "P2AU37Y8V5BE"
      },
      "source": [
        "### Transformer Sequence Classifier."
      ]
    },
    {
      "cell_type": "markdown",
      "metadata": {
        "id": "KExRqzLASL7Z"
      },
      "source": [
        "Positional Encoding"
      ]
    },
    {
      "cell_type": "code",
      "metadata": {
        "id": "p5x0-pN4SPab"
      },
      "source": [
        "class PositionalEncoding(nn.Module):\n",
        "\n",
        "    def __init__(self, d_model, dropout=0.1, max_len=5000):\n",
        "        super(PositionalEncoding, self).__init__()\n",
        "        self.dropout = nn.Dropout(p=dropout)\n",
        "\n",
        "        pe = torch.zeros(max_len, d_model)\n",
        "        position = torch.arange(0, max_len, dtype=torch.float).unsqueeze(1)\n",
        "        div_term = torch.exp(torch.arange(0, d_model, 2).float() * (-math.log(10000.0) / d_model))\n",
        "        pe[:, 0::2] = torch.sin(position * div_term)\n",
        "        pe[:, 1::2] = torch.cos(position * div_term)\n",
        "        pe = pe.unsqueeze(0).transpose(0, 1)\n",
        "        self.register_buffer('pe', pe)\n",
        "\n",
        "    def forward(self, x):\n",
        "        x = x + self.pe[:x.size(0), :]\n",
        "        return self.dropout(x)"
      ],
      "execution_count": 139,
      "outputs": []
    },
    {
      "cell_type": "code",
      "metadata": {
        "trusted": true,
        "id": "6fMdaxtaV5BE"
      },
      "source": [
        "class TransformerClassifier(nn.Module):\n",
        "    \n",
        "    def __init__(self, n_tokens_dict, d_model=512, n_heads=8, hidden_dim=1024, n_layers=1, dropout=0):\n",
        "        \n",
        "        super().__init__()\n",
        "        self.d_model = d_model\n",
        "        \n",
        "        # Transformer encoder blocks\n",
        "        encoder_layer = nn.TransformerEncoderLayer(d_model, n_heads, hidden_dim, dropout)\n",
        "        self.transformer_encoder = nn.TransformerEncoder(encoder_layer, n_layers)\n",
        "        \n",
        "        # Input embeddings for content_id, task_container_id, answered_correctly, prior_question_elapsed_time, part\n",
        "        self.content_id_emb = nn.Embedding(n_tokens_dict[\"content_id\"], d_model)\n",
        "        self.task_container_id_emb = nn.Embedding(n_tokens_dict[\"task_container_id\"], d_model)\n",
        "        self.answered_correctly_emb = nn.Embedding(n_tokens_dict[\"answered_correctly\"], d_model)\n",
        "        self.part_emb = nn.Embedding(n_tokens_dict[\"part\"], d_model)\n",
        "        self.prior_question_elapsed_time_emb = nn.Linear(1, d_model, bias=False)\n",
        "        # Positional Encoding\n",
        "        self.pos_enc = PositionalEncoding(d_model=d_model, dropout=dropout)\n",
        "\n",
        "        self.out = nn.Linear(d_model, 1)\n",
        "        \n",
        "    def forward(self, x):\n",
        "\n",
        "        seq_len, bs, n_features = x.size()\n",
        "        device = x.device\n",
        "\n",
        "        # padding mask\n",
        "        # src_key_padding_mask =  torch.all(torch.eq(x.squeeze(0), 0), dim=-1).T # shape [bs, seq_len]\n",
        "\n",
        "        # look ahead mask\n",
        "        look_ahead_mask = generate_square_subsequent_mask(seq_len).to(device)\n",
        "        \n",
        "        # input embedding\n",
        "        content_id_emb = self.content_id_emb(x[..., 0].long())\n",
        "        task_container_id_emb = self.task_container_id_emb(x[..., 1].long())\n",
        "        answered_correctly_emb = self.answered_correctly_emb(x[..., 2].long())\n",
        "        part_emb = self.part_emb(x[..., 4].long())\n",
        "        # prior_question_elapsed_time_emb = self.prior_question_elapsed_time_emb(x[..., 3].unsqueeze(-1).float())\n",
        "        \n",
        "        # shape [seq_len, bs, d_model]\n",
        "        input_emb = (content_id_emb \n",
        "                     + task_container_id_emb\n",
        "                     + answered_correctly_emb\n",
        "                     + part_emb\n",
        "                     # + prior_question_elapsed_time_emb\n",
        "                     )\n",
        "        input_emb = input_emb * math.sqrt(self.d_model) # needed?\n",
        "\n",
        "        input_emb = self.pos_enc(input_emb) # position encoding\n",
        "        \n",
        "        # transformer blocks\n",
        "        z = self.transformer_encoder(input_emb, mask=look_ahead_mask) # , src_key_padding_mask=src_key_padding_mask) # shape [seq_len, bs, d_model]\n",
        "        \n",
        "        # output layer\n",
        "        out = self.out(z) # shape [seq_len, bs, 1]\n",
        "        \n",
        "        return torch.sigmoid(out) # shape [seq_len, bs, 1]\n",
        "        \n"
      ],
      "execution_count": 140,
      "outputs": []
    },
    {
      "cell_type": "code",
      "metadata": {
        "trusted": true,
        "colab": {
          "base_uri": "https://localhost:8080/"
        },
        "id": "r9JDMerWV5BE",
        "outputId": "5b39b9ca-3767-40af-ab8d-f02f0df0701a"
      },
      "source": [
        "n_tokens_dict = {\n",
        "    \"content_id\": max(train_df[\"content_id\"]) + 1,\n",
        "    \"task_container_id\": max(train_df[\"task_container_id\"]) + 1,\n",
        "    \"answered_correctly\": 4, # 0-padding, 1-incorrect, 2-correct, 3-fill value\n",
        "    \"part\": max(train_df[\"part\"]) + 1\n",
        "}\n",
        "\n",
        "n_tokens_dict"
      ],
      "execution_count": 141,
      "outputs": [
        {
          "output_type": "execute_result",
          "data": {
            "text/plain": [
              "{'answered_correctly': 4,\n",
              " 'content_id': 13524,\n",
              " 'part': 9,\n",
              " 'task_container_id': 7741}"
            ]
          },
          "metadata": {
            "tags": []
          },
          "execution_count": 141
        }
      ]
    },
    {
      "cell_type": "code",
      "metadata": {
        "trusted": true,
        "colab": {
          "base_uri": "https://localhost:8080/"
        },
        "id": "OHTIue_qV5BE",
        "outputId": "18df4cb3-5e2f-420f-b6a4-785765c9d473"
      },
      "source": [
        "device = torch.device(\"cuda\") if torch.cuda.is_available() else torch.device(\"cpu\")\n",
        "device"
      ],
      "execution_count": 142,
      "outputs": [
        {
          "output_type": "execute_result",
          "data": {
            "text/plain": [
              "device(type='cuda')"
            ]
          },
          "metadata": {
            "tags": []
          },
          "execution_count": 142
        }
      ]
    },
    {
      "cell_type": "code",
      "metadata": {
        "trusted": true,
        "colab": {
          "base_uri": "https://localhost:8080/"
        },
        "id": "v1PAb6vVV5BE",
        "outputId": "8bee5165-be1f-4072-bf09-f81172ee9237"
      },
      "source": [
        "model = TransformerClassifier(n_tokens_dict).to(device)\n",
        "model"
      ],
      "execution_count": 143,
      "outputs": [
        {
          "output_type": "execute_result",
          "data": {
            "text/plain": [
              "TransformerClassifier(\n",
              "  (transformer_encoder): TransformerEncoder(\n",
              "    (layers): ModuleList(\n",
              "      (0): TransformerEncoderLayer(\n",
              "        (self_attn): MultiheadAttention(\n",
              "          (out_proj): _LinearWithBias(in_features=512, out_features=512, bias=True)\n",
              "        )\n",
              "        (linear1): Linear(in_features=512, out_features=1024, bias=True)\n",
              "        (dropout): Dropout(p=0, inplace=False)\n",
              "        (linear2): Linear(in_features=1024, out_features=512, bias=True)\n",
              "        (norm1): LayerNorm((512,), eps=1e-05, elementwise_affine=True)\n",
              "        (norm2): LayerNorm((512,), eps=1e-05, elementwise_affine=True)\n",
              "        (dropout1): Dropout(p=0, inplace=False)\n",
              "        (dropout2): Dropout(p=0, inplace=False)\n",
              "      )\n",
              "    )\n",
              "  )\n",
              "  (content_id_emb): Embedding(13524, 512)\n",
              "  (task_container_id_emb): Embedding(7741, 512)\n",
              "  (answered_correctly_emb): Embedding(4, 512)\n",
              "  (part_emb): Embedding(9, 512)\n",
              "  (prior_question_elapsed_time_emb): Linear(in_features=1, out_features=512, bias=False)\n",
              "  (pos_enc): PositionalEncoding(\n",
              "    (dropout): Dropout(p=0, inplace=False)\n",
              "  )\n",
              "  (out): Linear(in_features=512, out_features=1, bias=True)\n",
              ")"
            ]
          },
          "metadata": {
            "tags": []
          },
          "execution_count": 143
        }
      ]
    },
    {
      "cell_type": "code",
      "metadata": {
        "id": "VemXXKP0wUrO",
        "outputId": "0d68535e-ae7b-4509-ea4d-bc895057809c",
        "colab": {
          "base_uri": "https://localhost:8080/"
        }
      },
      "source": [
        "preds = model(xb.to(device))\n",
        "preds.shape"
      ],
      "execution_count": 144,
      "outputs": [
        {
          "output_type": "execute_result",
          "data": {
            "text/plain": [
              "torch.Size([128, 64, 1])"
            ]
          },
          "metadata": {
            "tags": []
          },
          "execution_count": 144
        }
      ]
    },
    {
      "cell_type": "code",
      "metadata": {
        "id": "d642pzmUxDrj",
        "outputId": "0ef52f0d-7523-4c01-883c-cd9b65296aa5",
        "colab": {
          "base_uri": "https://localhost:8080/"
        }
      },
      "source": [
        "yb.shape"
      ],
      "execution_count": 145,
      "outputs": [
        {
          "output_type": "execute_result",
          "data": {
            "text/plain": [
              "torch.Size([64, 128])"
            ]
          },
          "metadata": {
            "tags": []
          },
          "execution_count": 145
        }
      ]
    },
    {
      "cell_type": "markdown",
      "metadata": {
        "id": "kKdmvTV5V5BE"
      },
      "source": [
        "### Training"
      ]
    },
    {
      "cell_type": "code",
      "metadata": {
        "trusted": true,
        "id": "1K_ro8KcV5BE"
      },
      "source": [
        "epochs = 100\n",
        "opt = torch.optim.Adam(params=model.parameters(), lr=0.001)\n",
        "sched = torch.optim.lr_scheduler.OneCycleLR(opt, max_lr=0.001, steps_per_epoch=len(train_dl), epochs=epochs)\n",
        "loss_func = nn.BCELoss()"
      ],
      "execution_count": 146,
      "outputs": []
    },
    {
      "cell_type": "markdown",
      "metadata": {
        "id": "fmWcoCpfO7W4"
      },
      "source": [
        "https://pytorch.org/tutorials/beginner/nn_tutorial.html#create-fit-and-get-data"
      ]
    },
    {
      "cell_type": "code",
      "metadata": {
        "id": "lcA8qWtWOQc1"
      },
      "source": [
        "def loss_batch(model, loss_func, X_batch, y_batch, opt=None):\n",
        "\n",
        "  preds = model(X_batch)\n",
        "  loss = loss_func(preds, y_batch.unsqueeze(dim=-1))\n",
        "\n",
        "  if opt is not None:\n",
        "    loss.backward()\n",
        "    # nn.utils.clip_grad_norm_(model.parameters(), 0.25)\n",
        "    opt.step()\n",
        "    opt.zero_grad()\n",
        "\n",
        "  return loss.item(), X_batch.shape[2]"
      ],
      "execution_count": 147,
      "outputs": []
    },
    {
      "cell_type": "code",
      "metadata": {
        "trusted": true,
        "id": "7KKDMSb-V5BF"
      },
      "source": [
        "def fit(epochs, model, loss_func, opt, train_dl, valid_dl=None, sched=None):\n",
        "  epoch_losses = []\n",
        "  epoch_lrs = []\n",
        "  for e in range(epochs):\n",
        "    # train\n",
        "    lrs = []\n",
        "    train_losses = []\n",
        "    val_losses = []\n",
        "\n",
        "    model.train()\n",
        "    train_dl = tqdm(train_dl, position=0, leave=True)\n",
        "    for X_batch, y_batch in train_dl:\n",
        "      X_batch, y_batch = X_batch.to(device), y_batch.T.type(torch.FloatTensor).to(device)\n",
        "      train_loss, train_bs = loss_batch(model, loss_func, X_batch, y_batch, opt)\n",
        "      train_losses.append(train_loss)\n",
        "      train_loss_mean = sum(train_losses) / len(train_losses)\n",
        "      lr = opt.param_groups[0][\"lr\"]\n",
        "      lrs.append(lr)\n",
        "      train_dl.set_description(f\"Epoch: {e}, RunningLoss: {train_loss_mean:.3f}, InstantLoss: {train_loss:.3f}, LR: {lr:.6f}\")\n",
        "      if sched:\n",
        "        sched.step()\n",
        "    epoch_losses.append(train_loss_mean)\n",
        "    epoch_lrs.append(lr)\n",
        "    # eval\n",
        "    # model.eval()\n",
        "    # with torch.no_grad():\n",
        "    #   val_losses, val_bss = zip(*[loss_batch(model, loss_func, X_batch, y_batch) for X_batch, y_batch in valid_dl])\n",
        "\n",
        "    # val_loss = np.sum(np.multiply(val_losses, val_bss)) / np.sum(val_bss)\n",
        "    # train_dl.set_description(f\"Epoch: {e}, Loss: {train_loss}, Val Loss: {val_loss}\")\n",
        "\n",
        "  return epoch_losses, epoch_lrs#, val_losses"
      ],
      "execution_count": 148,
      "outputs": []
    },
    {
      "cell_type": "code",
      "metadata": {
        "colab": {
          "base_uri": "https://localhost:8080/"
        },
        "id": "0olyMi8vG0XM",
        "outputId": "12ca1c2c-5095-400d-8577-07678a9de1d9"
      },
      "source": [
        "train_losses, lrs = fit(epochs, model, loss_func, opt, train_dl, sched=sched)"
      ],
      "execution_count": 149,
      "outputs": [
        {
          "output_type": "stream",
          "text": [
            "Epoch: 0, RunningLoss: 0.645, InstantLoss: 0.604, LR: 0.000043: 100%|██████████| 98/98 [00:07<00:00, 12.34it/s]\n",
            "Epoch: 1, RunningLoss: 0.632, InstantLoss: 0.599, LR: 0.000050: 100%|██████████| 98/98 [00:07<00:00, 12.63it/s]\n",
            "Epoch: 2, RunningLoss: 0.627, InstantLoss: 0.601, LR: 0.000063: 100%|██████████| 98/98 [00:07<00:00, 12.60it/s]\n",
            "Epoch: 3, RunningLoss: 0.626, InstantLoss: 0.600, LR: 0.000081: 100%|██████████| 98/98 [00:07<00:00, 12.37it/s]\n",
            "Epoch: 4, RunningLoss: 0.626, InstantLoss: 0.596, LR: 0.000104: 100%|██████████| 98/98 [00:07<00:00, 12.58it/s]\n",
            "Epoch: 5, RunningLoss: 0.624, InstantLoss: 0.591, LR: 0.000131: 100%|██████████| 98/98 [00:07<00:00, 12.56it/s]\n",
            "Epoch: 6, RunningLoss: 0.623, InstantLoss: 0.590, LR: 0.000163: 100%|██████████| 98/98 [00:07<00:00, 12.42it/s]\n",
            "Epoch: 7, RunningLoss: 0.623, InstantLoss: 0.594, LR: 0.000199: 100%|██████████| 98/98 [00:07<00:00, 12.45it/s]\n",
            "Epoch: 8, RunningLoss: 0.623, InstantLoss: 0.592, LR: 0.000238: 100%|██████████| 98/98 [00:07<00:00, 12.63it/s]\n",
            "Epoch: 9, RunningLoss: 0.621, InstantLoss: 0.594, LR: 0.000280: 100%|██████████| 98/98 [00:07<00:00, 12.70it/s]\n",
            "Epoch: 10, RunningLoss: 0.618, InstantLoss: 0.587, LR: 0.000324: 100%|██████████| 98/98 [00:07<00:00, 12.56it/s]\n",
            "Epoch: 11, RunningLoss: 0.616, InstantLoss: 0.584, LR: 0.000371: 100%|██████████| 98/98 [00:07<00:00, 12.53it/s]\n",
            "Epoch: 12, RunningLoss: 0.612, InstantLoss: 0.586, LR: 0.000420: 100%|██████████| 98/98 [00:07<00:00, 12.56it/s]\n",
            "Epoch: 13, RunningLoss: 0.609, InstantLoss: 0.582, LR: 0.000470: 100%|██████████| 98/98 [00:07<00:00, 12.67it/s]\n",
            "Epoch: 14, RunningLoss: 0.602, InstantLoss: 0.572, LR: 0.000520: 100%|██████████| 98/98 [00:07<00:00, 12.46it/s]\n",
            "Epoch: 15, RunningLoss: 0.598, InstantLoss: 0.564, LR: 0.000570: 100%|██████████| 98/98 [00:07<00:00, 12.67it/s]\n",
            "Epoch: 16, RunningLoss: 0.595, InstantLoss: 0.559, LR: 0.000620: 100%|██████████| 98/98 [00:07<00:00, 12.53it/s]\n",
            "Epoch: 17, RunningLoss: 0.588, InstantLoss: 0.555, LR: 0.000668: 100%|██████████| 98/98 [00:07<00:00, 12.46it/s]\n",
            "Epoch: 18, RunningLoss: 0.589, InstantLoss: 0.554, LR: 0.000715: 100%|██████████| 98/98 [00:07<00:00, 12.34it/s]\n",
            "Epoch: 19, RunningLoss: 0.590, InstantLoss: 0.558, LR: 0.000760: 100%|██████████| 98/98 [00:07<00:00, 12.59it/s]\n",
            "Epoch: 20, RunningLoss: 0.580, InstantLoss: 0.543, LR: 0.000802: 100%|██████████| 98/98 [00:07<00:00, 12.38it/s]\n",
            "Epoch: 21, RunningLoss: 0.572, InstantLoss: 0.539, LR: 0.000841: 100%|██████████| 98/98 [00:07<00:00, 12.52it/s]\n",
            "Epoch: 22, RunningLoss: 0.565, InstantLoss: 0.532, LR: 0.000877: 100%|██████████| 98/98 [00:07<00:00, 12.33it/s]\n",
            "Epoch: 23, RunningLoss: 0.564, InstantLoss: 0.530, LR: 0.000908: 100%|██████████| 98/98 [00:07<00:00, 12.32it/s]\n",
            "Epoch: 24, RunningLoss: 0.563, InstantLoss: 0.529, LR: 0.000936: 100%|██████████| 98/98 [00:07<00:00, 12.61it/s]\n",
            "Epoch: 25, RunningLoss: 0.550, InstantLoss: 0.521, LR: 0.000958: 100%|██████████| 98/98 [00:07<00:00, 12.42it/s]\n",
            "Epoch: 26, RunningLoss: 0.540, InstantLoss: 0.503, LR: 0.000976: 100%|██████████| 98/98 [00:07<00:00, 12.40it/s]\n",
            "Epoch: 27, RunningLoss: 0.536, InstantLoss: 0.508, LR: 0.000990: 100%|██████████| 98/98 [00:07<00:00, 12.54it/s]\n",
            "Epoch: 28, RunningLoss: 0.590, InstantLoss: 0.600, LR: 0.000997: 100%|██████████| 98/98 [00:07<00:00, 12.39it/s]\n",
            "Epoch: 29, RunningLoss: 0.632, InstantLoss: 0.592, LR: 0.001000: 100%|██████████| 98/98 [00:08<00:00, 12.24it/s]\n",
            "Epoch: 30, RunningLoss: 0.603, InstantLoss: 0.521, LR: 0.000999: 100%|██████████| 98/98 [00:07<00:00, 12.40it/s]\n",
            "Epoch: 31, RunningLoss: 0.543, InstantLoss: 0.497, LR: 0.000998: 100%|██████████| 98/98 [00:07<00:00, 12.33it/s]\n",
            "Epoch: 32, RunningLoss: 0.531, InstantLoss: 0.486, LR: 0.000995: 100%|██████████| 98/98 [00:07<00:00, 12.43it/s]\n",
            "Epoch: 33, RunningLoss: 0.519, InstantLoss: 0.474, LR: 0.000992: 100%|██████████| 98/98 [00:07<00:00, 12.46it/s]\n",
            "Epoch: 34, RunningLoss: 0.568, InstantLoss: 0.596, LR: 0.000987: 100%|██████████| 98/98 [00:07<00:00, 12.39it/s]\n",
            "Epoch: 35, RunningLoss: 0.629, InstantLoss: 0.606, LR: 0.000982: 100%|██████████| 98/98 [00:07<00:00, 12.32it/s]\n",
            "Epoch: 36, RunningLoss: 0.637, InstantLoss: 0.604, LR: 0.000976: 100%|██████████| 98/98 [00:07<00:00, 12.46it/s]\n",
            "Epoch: 37, RunningLoss: 0.633, InstantLoss: 0.599, LR: 0.000968: 100%|██████████| 98/98 [00:08<00:00, 12.13it/s]\n",
            "Epoch: 38, RunningLoss: 0.631, InstantLoss: 0.598, LR: 0.000960: 100%|██████████| 98/98 [00:07<00:00, 12.30it/s]\n",
            "Epoch: 39, RunningLoss: 0.627, InstantLoss: 0.595, LR: 0.000950: 100%|██████████| 98/98 [00:07<00:00, 12.43it/s]\n",
            "Epoch: 40, RunningLoss: 0.623, InstantLoss: 0.585, LR: 0.000940: 100%|██████████| 98/98 [00:07<00:00, 12.36it/s]\n",
            "Epoch: 41, RunningLoss: 0.576, InstantLoss: 0.491, LR: 0.000929: 100%|██████████| 98/98 [00:07<00:00, 12.42it/s]\n",
            "Epoch: 42, RunningLoss: 0.520, InstantLoss: 0.472, LR: 0.000917: 100%|██████████| 98/98 [00:07<00:00, 12.38it/s]\n",
            "Epoch: 43, RunningLoss: 0.509, InstantLoss: 0.459, LR: 0.000905: 100%|██████████| 98/98 [00:07<00:00, 12.33it/s]\n",
            "Epoch: 44, RunningLoss: 0.490, InstantLoss: 0.439, LR: 0.000891: 100%|██████████| 98/98 [00:07<00:00, 12.43it/s]\n",
            "Epoch: 45, RunningLoss: 0.478, InstantLoss: 0.424, LR: 0.000877: 100%|██████████| 98/98 [00:07<00:00, 12.32it/s]\n",
            "Epoch: 46, RunningLoss: 0.464, InstantLoss: 0.413, LR: 0.000861: 100%|██████████| 98/98 [00:07<00:00, 12.34it/s]\n",
            "Epoch: 47, RunningLoss: 0.477, InstantLoss: 0.416, LR: 0.000846: 100%|██████████| 98/98 [00:07<00:00, 12.41it/s]\n",
            "Epoch: 48, RunningLoss: 0.459, InstantLoss: 0.395, LR: 0.000829: 100%|██████████| 98/98 [00:08<00:00, 12.18it/s]\n",
            "Epoch: 49, RunningLoss: 0.451, InstantLoss: 0.384, LR: 0.000812: 100%|██████████| 98/98 [00:07<00:00, 12.42it/s]\n",
            "Epoch: 50, RunningLoss: 0.425, InstantLoss: 0.387, LR: 0.000794: 100%|██████████| 98/98 [00:07<00:00, 12.40it/s]\n",
            "Epoch: 51, RunningLoss: 0.420, InstantLoss: 0.378, LR: 0.000775: 100%|██████████| 98/98 [00:07<00:00, 12.53it/s]\n",
            "Epoch: 52, RunningLoss: 0.415, InstantLoss: 0.386, LR: 0.000756: 100%|██████████| 98/98 [00:07<00:00, 12.51it/s]\n",
            "Epoch: 53, RunningLoss: 0.389, InstantLoss: 0.335, LR: 0.000737: 100%|██████████| 98/98 [00:07<00:00, 12.46it/s]\n",
            "Epoch: 54, RunningLoss: 0.366, InstantLoss: 0.334, LR: 0.000717: 100%|██████████| 98/98 [00:07<00:00, 12.50it/s]\n",
            "Epoch: 55, RunningLoss: 0.359, InstantLoss: 0.325, LR: 0.000697: 100%|██████████| 98/98 [00:07<00:00, 12.46it/s]\n",
            "Epoch: 56, RunningLoss: 0.345, InstantLoss: 0.297, LR: 0.000676: 100%|██████████| 98/98 [00:07<00:00, 12.56it/s]\n",
            "Epoch: 57, RunningLoss: 0.335, InstantLoss: 0.276, LR: 0.000655: 100%|██████████| 98/98 [00:07<00:00, 12.47it/s]\n",
            "Epoch: 58, RunningLoss: 0.335, InstantLoss: 0.273, LR: 0.000633: 100%|██████████| 98/98 [00:07<00:00, 12.43it/s]\n",
            "Epoch: 59, RunningLoss: 0.314, InstantLoss: 0.247, LR: 0.000611: 100%|██████████| 98/98 [00:07<00:00, 12.44it/s]\n",
            "Epoch: 60, RunningLoss: 0.287, InstantLoss: 0.264, LR: 0.000589: 100%|██████████| 98/98 [00:07<00:00, 12.71it/s]\n",
            "Epoch: 61, RunningLoss: 0.287, InstantLoss: 0.258, LR: 0.000567: 100%|██████████| 98/98 [00:08<00:00, 12.22it/s]\n",
            "Epoch: 62, RunningLoss: 0.294, InstantLoss: 0.253, LR: 0.000545: 100%|██████████| 98/98 [00:07<00:00, 12.35it/s]\n",
            "Epoch: 63, RunningLoss: 0.274, InstantLoss: 0.316, LR: 0.000522: 100%|██████████| 98/98 [00:07<00:00, 12.45it/s]\n",
            "Epoch: 64, RunningLoss: 0.264, InstantLoss: 0.200, LR: 0.000500: 100%|██████████| 98/98 [00:07<00:00, 12.52it/s]\n",
            "Epoch: 65, RunningLoss: 0.254, InstantLoss: 0.179, LR: 0.000478: 100%|██████████| 98/98 [00:07<00:00, 12.48it/s]\n",
            "Epoch: 66, RunningLoss: 0.235, InstantLoss: 0.167, LR: 0.000455: 100%|██████████| 98/98 [00:07<00:00, 12.55it/s]\n",
            "Epoch: 67, RunningLoss: 0.224, InstantLoss: 0.165, LR: 0.000433: 100%|██████████| 98/98 [00:07<00:00, 12.39it/s]\n",
            "Epoch: 68, RunningLoss: 0.219, InstantLoss: 0.182, LR: 0.000411: 100%|██████████| 98/98 [00:07<00:00, 12.47it/s]\n",
            "Epoch: 69, RunningLoss: 0.213, InstantLoss: 0.163, LR: 0.000389: 100%|██████████| 98/98 [00:07<00:00, 12.53it/s]\n",
            "Epoch: 70, RunningLoss: 0.185, InstantLoss: 0.128, LR: 0.000367: 100%|██████████| 98/98 [00:07<00:00, 12.43it/s]\n",
            "Epoch: 71, RunningLoss: 0.169, InstantLoss: 0.142, LR: 0.000345: 100%|██████████| 98/98 [00:07<00:00, 12.32it/s]\n",
            "Epoch: 72, RunningLoss: 0.173, InstantLoss: 0.125, LR: 0.000324: 100%|██████████| 98/98 [00:07<00:00, 12.30it/s]\n",
            "Epoch: 73, RunningLoss: 0.168, InstantLoss: 0.129, LR: 0.000303: 100%|██████████| 98/98 [00:07<00:00, 12.33it/s]\n",
            "Epoch: 74, RunningLoss: 0.151, InstantLoss: 0.101, LR: 0.000283: 100%|██████████| 98/98 [00:07<00:00, 12.32it/s]\n",
            "Epoch: 75, RunningLoss: 0.137, InstantLoss: 0.102, LR: 0.000263: 100%|██████████| 98/98 [00:08<00:00, 12.04it/s]\n",
            "Epoch: 76, RunningLoss: 0.127, InstantLoss: 0.142, LR: 0.000244: 100%|██████████| 98/98 [00:07<00:00, 12.38it/s]\n",
            "Epoch: 77, RunningLoss: 0.124, InstantLoss: 0.113, LR: 0.000225: 100%|██████████| 98/98 [00:07<00:00, 12.29it/s]\n",
            "Epoch: 78, RunningLoss: 0.128, InstantLoss: 0.106, LR: 0.000206: 100%|██████████| 98/98 [00:07<00:00, 12.26it/s]\n",
            "Epoch: 79, RunningLoss: 0.129, InstantLoss: 0.105, LR: 0.000188: 100%|██████████| 98/98 [00:08<00:00, 12.21it/s]\n",
            "Epoch: 80, RunningLoss: 0.114, InstantLoss: 0.093, LR: 0.000171: 100%|██████████| 98/98 [00:08<00:00, 12.19it/s]\n",
            "Epoch: 81, RunningLoss: 0.098, InstantLoss: 0.068, LR: 0.000154: 100%|██████████| 98/98 [00:08<00:00, 12.14it/s]\n",
            "Epoch: 82, RunningLoss: 0.071, InstantLoss: 0.056, LR: 0.000139: 100%|██████████| 98/98 [00:08<00:00, 12.15it/s]\n",
            "Epoch: 83, RunningLoss: 0.056, InstantLoss: 0.045, LR: 0.000123: 100%|██████████| 98/98 [00:07<00:00, 12.26it/s]\n",
            "Epoch: 84, RunningLoss: 0.047, InstantLoss: 0.043, LR: 0.000109: 100%|██████████| 98/98 [00:08<00:00, 12.23it/s]\n",
            "Epoch: 85, RunningLoss: 0.041, InstantLoss: 0.042, LR: 0.000095: 100%|██████████| 98/98 [00:08<00:00, 12.22it/s]\n",
            "Epoch: 86, RunningLoss: 0.035, InstantLoss: 0.036, LR: 0.000083: 100%|██████████| 98/98 [00:08<00:00, 12.21it/s]\n",
            "Epoch: 87, RunningLoss: 0.030, InstantLoss: 0.030, LR: 0.000071: 100%|██████████| 98/98 [00:08<00:00, 12.13it/s]\n",
            "Epoch: 88, RunningLoss: 0.027, InstantLoss: 0.027, LR: 0.000060: 100%|██████████| 98/98 [00:08<00:00, 12.17it/s]\n",
            "Epoch: 89, RunningLoss: 0.024, InstantLoss: 0.026, LR: 0.000050: 100%|██████████| 98/98 [00:08<00:00, 12.21it/s]\n",
            "Epoch: 90, RunningLoss: 0.022, InstantLoss: 0.024, LR: 0.000040: 100%|██████████| 98/98 [00:07<00:00, 12.32it/s]\n",
            "Epoch: 91, RunningLoss: 0.020, InstantLoss: 0.023, LR: 0.000032: 100%|██████████| 98/98 [00:07<00:00, 12.26it/s]\n",
            "Epoch: 92, RunningLoss: 0.019, InstantLoss: 0.023, LR: 0.000024: 100%|██████████| 98/98 [00:07<00:00, 12.28it/s]\n",
            "Epoch: 93, RunningLoss: 0.019, InstantLoss: 0.023, LR: 0.000018: 100%|██████████| 98/98 [00:08<00:00, 12.19it/s]\n",
            "Epoch: 94, RunningLoss: 0.018, InstantLoss: 0.023, LR: 0.000013: 100%|██████████| 98/98 [00:07<00:00, 12.29it/s]\n",
            "Epoch: 95, RunningLoss: 0.018, InstantLoss: 0.021, LR: 0.000008: 100%|██████████| 98/98 [00:07<00:00, 12.30it/s]\n",
            "Epoch: 96, RunningLoss: 0.017, InstantLoss: 0.020, LR: 0.000005: 100%|██████████| 98/98 [00:07<00:00, 12.38it/s]\n",
            "Epoch: 97, RunningLoss: 0.017, InstantLoss: 0.020, LR: 0.000002: 100%|██████████| 98/98 [00:07<00:00, 12.32it/s]\n",
            "Epoch: 98, RunningLoss: 0.016, InstantLoss: 0.020, LR: 0.000001: 100%|██████████| 98/98 [00:07<00:00, 12.39it/s]\n",
            "Epoch: 99, RunningLoss: 0.016, InstantLoss: 0.020, LR: 0.000000: 100%|██████████| 98/98 [00:08<00:00, 12.19it/s]\n"
          ],
          "name": "stderr"
        }
      ]
    },
    {
      "cell_type": "code",
      "metadata": {
        "id": "FUG3qDSMCQHF"
      },
      "source": [
        "import matplotlib.pyplot as plt"
      ],
      "execution_count": 150,
      "outputs": []
    },
    {
      "cell_type": "code",
      "metadata": {
        "id": "Lb8ZxOtfFIYr",
        "colab": {
          "base_uri": "https://localhost:8080/",
          "height": 286
        },
        "outputId": "687657d4-0ebe-4556-b056-f192bd199e8c"
      },
      "source": [
        "plt.ylim(top=1)\n",
        "plt.plot(train_losses)"
      ],
      "execution_count": 151,
      "outputs": [
        {
          "output_type": "execute_result",
          "data": {
            "text/plain": [
              "[<matplotlib.lines.Line2D at 0x7f402a04f5f8>]"
            ]
          },
          "metadata": {
            "tags": []
          },
          "execution_count": 151
        },
        {
          "output_type": "display_data",
          "data": {
            "image/png": "[encoded data removed]",
            "text/plain": [
              "<Figure size 432x288 with 1 Axes>"
            ]
          },
          "metadata": {
            "tags": [],
            "needs_background": "light"
          }
        }
      ]
    },
    {
      "cell_type": "code",
      "metadata": {
        "id": "gVJXQ30QKFRr",
        "colab": {
          "base_uri": "https://localhost:8080/",
          "height": 282
        },
        "outputId": "8860105c-555b-4d64-84c9-18039fa1c32a"
      },
      "source": [
        "plt.plot(lrs)"
      ],
      "execution_count": 152,
      "outputs": [
        {
          "output_type": "execute_result",
          "data": {
            "text/plain": [
              "[<matplotlib.lines.Line2D at 0x7f3fd15fca20>]"
            ]
          },
          "metadata": {
            "tags": []
          },
          "execution_count": 152
        },
        {
          "output_type": "display_data",
          "data": {
            "image/png": "[encoded data removed]",
            "text/plain": [
              "<Figure size 432x288 with 1 Axes>"
            ]
          },
          "metadata": {
            "tags": [],
            "needs_background": "light"
          }
        }
      ]
    },
    {
      "cell_type": "code",
      "metadata": {
        "id": "KCP4UnYdGB3_"
      },
      "source": [
        "xb = xb.to(device)\n",
        "preds = model(xb)"
      ],
      "execution_count": 153,
      "outputs": []
    },
    {
      "cell_type": "code",
      "metadata": {
        "id": "vmKaBcxE1XdV"
      },
      "source": [
        "from sklearn.metrics import accuracy_score, precision_score, recall_score, roc_auc_score"
      ],
      "execution_count": 155,
      "outputs": []
    },
    {
      "cell_type": "code",
      "metadata": {
        "id": "CyC80r-NUrjV",
        "colab": {
          "base_uri": "https://localhost:8080/"
        },
        "outputId": "39bd007a-fd90-4fae-9ebf-048a318adcf5"
      },
      "source": [
        "y_hat = preds.to(\"cpu\").detach().numpy() > 0.5\n",
        "y_hat = y_hat.astype(np.int8).flatten()\n",
        "y_hat.shape"
      ],
      "execution_count": 167,
      "outputs": [
        {
          "output_type": "execute_result",
          "data": {
            "text/plain": [
              "(8192,)"
            ]
          },
          "metadata": {
            "tags": []
          },
          "execution_count": 167
        }
      ]
    },
    {
      "cell_type": "code",
      "metadata": {
        "id": "xBYitHZhU3DK",
        "colab": {
          "base_uri": "https://localhost:8080/"
        },
        "outputId": "8071bf77-3dc8-4132-c5f0-cb3d020bc77b"
      },
      "source": [
        "y_true = yb.to(\"cpu\").detach().numpy().T.flatten()\n",
        "y_true.shape"
      ],
      "execution_count": 168,
      "outputs": [
        {
          "output_type": "execute_result",
          "data": {
            "text/plain": [
              "(8192,)"
            ]
          },
          "metadata": {
            "tags": []
          },
          "execution_count": 168
        }
      ]
    },
    {
      "cell_type": "code",
      "metadata": {
        "id": "o8in5UADV50R",
        "colab": {
          "base_uri": "https://localhost:8080/"
        },
        "outputId": "115d65ad-bcec-4224-a2a2-c02a3c7d8457"
      },
      "source": [
        "accuracy_score(y_true, y_hat)"
      ],
      "execution_count": 170,
      "outputs": [
        {
          "output_type": "execute_result",
          "data": {
            "text/plain": [
              "0.993408203125"
            ]
          },
          "metadata": {
            "tags": []
          },
          "execution_count": 170
        }
      ]
    },
    {
      "cell_type": "code",
      "metadata": {
        "id": "SDYPPqqzWOmK",
        "colab": {
          "base_uri": "https://localhost:8080/"
        },
        "outputId": "1142aa64-6dcd-451f-c69c-db38ddb726b5"
      },
      "source": [
        "precision_score(y_true, y_hat)"
      ],
      "execution_count": 171,
      "outputs": [
        {
          "output_type": "execute_result",
          "data": {
            "text/plain": [
              "0.9963743093922652"
            ]
          },
          "metadata": {
            "tags": []
          },
          "execution_count": 171
        }
      ]
    },
    {
      "cell_type": "code",
      "metadata": {
        "id": "eLgz51aEYUiy",
        "colab": {
          "base_uri": "https://localhost:8080/"
        },
        "outputId": "e4049443-de6a-42f7-d007-2f2563c892e9"
      },
      "source": [
        "recall_score(y_true, y_hat)"
      ],
      "execution_count": 172,
      "outputs": [
        {
          "output_type": "execute_result",
          "data": {
            "text/plain": [
              "0.9943142660234321"
            ]
          },
          "metadata": {
            "tags": []
          },
          "execution_count": 172
        }
      ]
    },
    {
      "cell_type": "code",
      "metadata": {
        "id": "BjZreOaXYW6k",
        "colab": {
          "base_uri": "https://localhost:8080/"
        },
        "outputId": "6935040c-a611-489e-d002-03ba914a03a8"
      },
      "source": [
        "y_true.T"
      ],
      "execution_count": 173,
      "outputs": [
        {
          "output_type": "execute_result",
          "data": {
            "text/plain": [
              "array([1, 1, 1, ..., 1, 1, 0], dtype=int8)"
            ]
          },
          "metadata": {
            "tags": []
          },
          "execution_count": 173
        }
      ]
    },
    {
      "cell_type": "code",
      "metadata": {
        "id": "Zz3BA7xpWaMo",
        "colab": {
          "base_uri": "https://localhost:8080/"
        },
        "outputId": "8b3b0051-99c4-4696-f510-ca2f09a3c805"
      },
      "source": [
        "y_hat.T"
      ],
      "execution_count": 174,
      "outputs": [
        {
          "output_type": "execute_result",
          "data": {
            "text/plain": [
              "array([1, 1, 1, ..., 1, 1, 0], dtype=int8)"
            ]
          },
          "metadata": {
            "tags": []
          },
          "execution_count": 174
        }
      ]
    },
    {
      "cell_type": "code",
      "metadata": {
        "id": "3fLoQpxcWeP2",
        "colab": {
          "base_uri": "https://localhost:8080/"
        },
        "outputId": "a5b2db12-e3c4-4f9c-d75d-0a241023819f"
      },
      "source": [
        "roc_auc_score(y_true, preds.to(\"cpu\").detach().numpy().flatten())"
      ],
      "execution_count": 175,
      "outputs": [
        {
          "output_type": "execute_result",
          "data": {
            "text/plain": [
              "0.9997986284512386"
            ]
          },
          "metadata": {
            "tags": []
          },
          "execution_count": 175
        }
      ]
    },
    {
      "cell_type": "code",
      "metadata": {
        "id": "qnh4h1xCn9mR"
      },
      "source": [
        ""
      ],
      "execution_count": null,
      "outputs": []
    }
  ]
}