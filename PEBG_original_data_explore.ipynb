{
  "nbformat": 4,
  "nbformat_minor": 0,
  "metadata": {
    "colab": {
      "name": "PEBG original data explore.ipynb",
      "provenance": [],
      "authorship_tag": "ABX9TyOxuxcYCVzMGXt/XSgE3iHw",
      "include_colab_link": true
    },
    "kernelspec": {
      "name": "python3",
      "display_name": "Python 3"
    }
  },
  "cells": [
    {
      "cell_type": "markdown",
      "metadata": {
        "id": "view-in-github",
        "colab_type": "text"
      },
      "source": [
        "<a href=\"https://colab.research.google.com/github/nisarahamedk/kaggle-riid/blob/master/PEBG_original_data_explore.ipynb\" target=\"_parent\"><img src=\"https://colab.research.google.com/assets/colab-badge.svg\" alt=\"Open In Colab\"/></a>"
      ]
    },
    {
      "cell_type": "markdown",
      "metadata": {
        "id": "fYA-r3JmZima"
      },
      "source": [
        "## PEBG Paper Original Data Explore."
      ]
    },
    {
      "cell_type": "markdown",
      "metadata": {
        "id": "RNhDzpFtZoJY"
      },
      "source": [
        "Paper: https://arxiv.org/pdf/2012.05031v1.pdf  \r\n",
        "Github: https://github.com/lyf-1/PEBG"
      ]
    },
    {
      "cell_type": "code",
      "metadata": {
        "id": "dsTFOt6uyyxU"
      },
      "source": [
        "%%capture\r\n",
        "!pip install gcsfs\r\n",
        "!pip install kaggle\r\n",
        "!pip install datatable"
      ],
      "execution_count": 1,
      "outputs": []
    },
    {
      "cell_type": "code",
      "metadata": {
        "id": "K6QQuOoAy307"
      },
      "source": [
        "from google.colab import drive\r\n",
        "drive.mount(\"/content/drive\")"
      ],
      "execution_count": null,
      "outputs": []
    },
    {
      "cell_type": "code",
      "metadata": {
        "id": "v0DkJ89-y_VO"
      },
      "source": [
        "import os \r\n",
        "import pandas as pd\r\n",
        "import numpy as np\r\n",
        "from scipy import sparse"
      ],
      "execution_count": 2,
      "outputs": []
    },
    {
      "cell_type": "code",
      "metadata": {
        "id": "No5ZuFkaycej"
      },
      "source": [
        "DATA_PATH = 'gs://kds-7cd35ed419a621f754ec32f0c3616d2e9282a698c5eeaabc814bd7f6'"
      ],
      "execution_count": 3,
      "outputs": []
    },
    {
      "cell_type": "code",
      "metadata": {
        "colab": {
          "base_uri": "https://localhost:8080/",
          "height": 197
        },
        "id": "asXGP0_5zGQj",
        "outputId": "ded59a9d-30c2-470b-c08b-af1fd47758c8"
      },
      "source": [
        "questions_df = pd.read_csv(DATA_PATH + \"/questions.csv\")\r\n",
        "questions_df.head()"
      ],
      "execution_count": 4,
      "outputs": [
        {
          "output_type": "execute_result",
          "data": {
            "text/html": [
              "<div>\n",
              "<style scoped>\n",
              "    .dataframe tbody tr th:only-of-type {\n",
              "        vertical-align: middle;\n",
              "    }\n",
              "\n",
              "    .dataframe tbody tr th {\n",
              "        vertical-align: top;\n",
              "    }\n",
              "\n",
              "    .dataframe thead th {\n",
              "        text-align: right;\n",
              "    }\n",
              "</style>\n",
              "<table border=\"1\" class=\"dataframe\">\n",
              "  <thead>\n",
              "    <tr style=\"text-align: right;\">\n",
              "      <th></th>\n",
              "      <th>question_id</th>\n",
              "      <th>bundle_id</th>\n",
              "      <th>correct_answer</th>\n",
              "      <th>part</th>\n",
              "      <th>tags</th>\n",
              "    </tr>\n",
              "  </thead>\n",
              "  <tbody>\n",
              "    <tr>\n",
              "      <th>0</th>\n",
              "      <td>0</td>\n",
              "      <td>0</td>\n",
              "      <td>0</td>\n",
              "      <td>1</td>\n",
              "      <td>51 131 162 38</td>\n",
              "    </tr>\n",
              "    <tr>\n",
              "      <th>1</th>\n",
              "      <td>1</td>\n",
              "      <td>1</td>\n",
              "      <td>1</td>\n",
              "      <td>1</td>\n",
              "      <td>131 36 81</td>\n",
              "    </tr>\n",
              "    <tr>\n",
              "      <th>2</th>\n",
              "      <td>2</td>\n",
              "      <td>2</td>\n",
              "      <td>0</td>\n",
              "      <td>1</td>\n",
              "      <td>131 101 162 92</td>\n",
              "    </tr>\n",
              "    <tr>\n",
              "      <th>3</th>\n",
              "      <td>3</td>\n",
              "      <td>3</td>\n",
              "      <td>0</td>\n",
              "      <td>1</td>\n",
              "      <td>131 149 162 29</td>\n",
              "    </tr>\n",
              "    <tr>\n",
              "      <th>4</th>\n",
              "      <td>4</td>\n",
              "      <td>4</td>\n",
              "      <td>3</td>\n",
              "      <td>1</td>\n",
              "      <td>131 5 162 38</td>\n",
              "    </tr>\n",
              "  </tbody>\n",
              "</table>\n",
              "</div>"
            ],
            "text/plain": [
              "   question_id  bundle_id  correct_answer  part            tags\n",
              "0            0          0               0     1   51 131 162 38\n",
              "1            1          1               1     1       131 36 81\n",
              "2            2          2               0     1  131 101 162 92\n",
              "3            3          3               0     1  131 149 162 29\n",
              "4            4          4               3     1    131 5 162 38"
            ]
          },
          "metadata": {
            "tags": []
          },
          "execution_count": 4
        }
      ]
    },
    {
      "cell_type": "code",
      "metadata": {
        "colab": {
          "base_uri": "https://localhost:8080/"
        },
        "id": "ljhLGshAzF7i",
        "outputId": "977d50ce-e47e-4572-f8bb-57e6efa98597"
      },
      "source": [
        "len(questions_df)"
      ],
      "execution_count": 5,
      "outputs": [
        {
          "output_type": "execute_result",
          "data": {
            "text/plain": [
              "13523"
            ]
          },
          "metadata": {
            "tags": []
          },
          "execution_count": 5
        }
      ]
    },
    {
      "cell_type": "code",
      "metadata": {
        "id": "2vq52rkr0dUH"
      },
      "source": [
        "q_df = questions_df.dropna() # one nan"
      ],
      "execution_count": 6,
      "outputs": []
    },
    {
      "cell_type": "code",
      "metadata": {
        "id": "VahlzSipzaG4"
      },
      "source": [
        "pro_id_dict = {}\r\n",
        "pro_ans_dict = {}\r\n",
        "skill_id_dict = {}\r\n",
        "pro_skill_dict = {}\r\n",
        "pro_skill_adj = []\r\n",
        "skill_cnt = 0\r\n",
        "for i, row in q_df.iterrows():\r\n",
        "    # print(i, len(df), row['tags'])\r\n",
        "    pro_id_dict[row['question_id']] = i\r\n",
        "    pro_ans_dict[row['question_id']] = row['correct_answer']\r\n",
        "    tmp_skills = row['tags']\r\n",
        "    pro_skill_dict[row['question_id']] = tmp_skills\r\n",
        "    for s in tmp_skills.split(' '):\r\n",
        "        if s not in skill_id_dict:\r\n",
        "            skill_id_dict[s] = skill_cnt\r\n",
        "            skill_cnt += 1\r\n",
        "        pro_skill_adj.append([i, skill_id_dict[s], 1])"
      ],
      "execution_count": 7,
      "outputs": []
    },
    {
      "cell_type": "markdown",
      "metadata": {
        "id": "Efy0Pci8jI9U"
      },
      "source": [
        "question_id to an id we give"
      ]
    },
    {
      "cell_type": "code",
      "metadata": {
        "colab": {
          "base_uri": "https://localhost:8080/"
        },
        "id": "VofBL0Ani92G",
        "outputId": "507a7cfd-f42f-4734-9193-03bb77766cfd"
      },
      "source": [
        "len(pro_id_dict)"
      ],
      "execution_count": 9,
      "outputs": [
        {
          "output_type": "execute_result",
          "data": {
            "text/plain": [
              "13522"
            ]
          },
          "metadata": {
            "tags": []
          },
          "execution_count": 9
        }
      ]
    },
    {
      "cell_type": "markdown",
      "metadata": {
        "id": "HNsk50ZAjPzY"
      },
      "source": [
        "correct answers to all questions"
      ]
    },
    {
      "cell_type": "code",
      "metadata": {
        "colab": {
          "base_uri": "https://localhost:8080/"
        },
        "id": "bN8To0rXjT9L",
        "outputId": "a6f91f20-2c22-4f05-9b89-dc132017ec10"
      },
      "source": [
        "len(pro_ans_dict)"
      ],
      "execution_count": 10,
      "outputs": [
        {
          "output_type": "execute_result",
          "data": {
            "text/plain": [
              "13522"
            ]
          },
          "metadata": {
            "tags": []
          },
          "execution_count": 10
        }
      ]
    },
    {
      "cell_type": "markdown",
      "metadata": {
        "id": "mjWEK7wtjX7n"
      },
      "source": [
        "skill id (tags) to an id we give (here same as skill id)"
      ]
    },
    {
      "cell_type": "code",
      "metadata": {
        "colab": {
          "base_uri": "https://localhost:8080/"
        },
        "id": "409f7v1J0Ox3",
        "outputId": "6546feac-62a4-4546-f811-458b6278bc4e"
      },
      "source": [
        "len(skill_id_dict)"
      ],
      "execution_count": 11,
      "outputs": [
        {
          "output_type": "execute_result",
          "data": {
            "text/plain": [
              "188"
            ]
          },
          "metadata": {
            "tags": []
          },
          "execution_count": 11
        }
      ]
    },
    {
      "cell_type": "markdown",
      "metadata": {
        "id": "z8y2yG28jf3T"
      },
      "source": [
        "question_id to skills dict"
      ]
    },
    {
      "cell_type": "code",
      "metadata": {
        "colab": {
          "base_uri": "https://localhost:8080/"
        },
        "id": "47NQNqutjk53",
        "outputId": "8bba0464-b04f-4692-c1db-912415d789b5"
      },
      "source": [
        "print(pro_skill_dict[0])\r\n",
        "len(pro_skill_dict)"
      ],
      "execution_count": 19,
      "outputs": [
        {
          "output_type": "stream",
          "text": [
            "51 131 162 38\n"
          ],
          "name": "stdout"
        },
        {
          "output_type": "execute_result",
          "data": {
            "text/plain": [
              "13522"
            ]
          },
          "metadata": {
            "tags": []
          },
          "execution_count": 19
        }
      ]
    },
    {
      "cell_type": "markdown",
      "metadata": {
        "id": "wHJFYnh3jyi8"
      },
      "source": [
        "adjacency list of the bipartite graph - [q_id, s_id, is_edge]"
      ]
    },
    {
      "cell_type": "code",
      "metadata": {
        "colab": {
          "base_uri": "https://localhost:8080/"
        },
        "id": "m3CZUdEP0ZmJ",
        "outputId": "18b29550-bef3-4b8d-be7b-60348d1c7100"
      },
      "source": [
        "pro_skill_adj[:5] "
      ],
      "execution_count": 26,
      "outputs": [
        {
          "output_type": "execute_result",
          "data": {
            "text/plain": [
              "[[0, 0, 1], [0, 1, 1], [0, 2, 1], [0, 3, 1], [1, 1, 1]]"
            ]
          },
          "metadata": {
            "tags": []
          },
          "execution_count": 26
        }
      ]
    },
    {
      "cell_type": "code",
      "metadata": {
        "id": "ZXegRgav1mxc"
      },
      "source": [
        "pro_skill_adj = np.array(pro_skill_adj).astype(np.int32)"
      ],
      "execution_count": 16,
      "outputs": []
    },
    {
      "cell_type": "code",
      "metadata": {
        "colab": {
          "base_uri": "https://localhost:8080/"
        },
        "id": "wpaL1YKP2vVW",
        "outputId": "69237eed-7e5a-4b9d-9cbf-a7ad8b34fb82"
      },
      "source": [
        "pro_skill_adj"
      ],
      "execution_count": 17,
      "outputs": [
        {
          "output_type": "execute_result",
          "data": {
            "text/plain": [
              "array([[    0,     0,     1],\n",
              "       [    0,     1,     1],\n",
              "       [    0,     2,     1],\n",
              "       ...,\n",
              "       [13520,    83,     1],\n",
              "       [13521,    98,     1],\n",
              "       [13522,    95,     1]], dtype=int32)"
            ]
          },
          "metadata": {
            "tags": []
          },
          "execution_count": 17
        }
      ]
    },
    {
      "cell_type": "code",
      "metadata": {
        "colab": {
          "base_uri": "https://localhost:8080/"
        },
        "id": "TF592DdQmRHb",
        "outputId": "00142886-fd5a-4887-d8ba-fb18d7dd548a"
      },
      "source": [
        "pro_skill_adj.shape"
      ],
      "execution_count": 18,
      "outputs": [
        {
          "output_type": "execute_result",
          "data": {
            "text/plain": [
              "(30992, 3)"
            ]
          },
          "metadata": {
            "tags": []
          },
          "execution_count": 18
        }
      ]
    },
    {
      "cell_type": "code",
      "metadata": {
        "colab": {
          "base_uri": "https://localhost:8080/"
        },
        "id": "gOpOE7fB2wnl",
        "outputId": "a7200c0b-f784-4e31-d720-01160882a8a9"
      },
      "source": [
        "pro_num = np.max(pro_skill_adj[:, 0]) + 1\r\n",
        "skill_num = np.max(pro_skill_adj[:, 1]) + 1\r\n",
        "print('problem number %d, skill number %d' % (pro_num, skill_num), i)"
      ],
      "execution_count": 31,
      "outputs": [
        {
          "output_type": "stream",
          "text": [
            "problem number 13523, skill number 188 13522\n"
          ],
          "name": "stdout"
        }
      ]
    },
    {
      "cell_type": "code",
      "metadata": {
        "id": "lH7vwCq524pP"
      },
      "source": [
        " # take joint skill as a new skill, treating a uniqie set of skills appeared for a question in the data as a new skill.\r\n",
        "skills = q_df['tags'].unique()\r\n",
        "for s in skills:\r\n",
        "    if ' ' in s:\r\n",
        "        skill_id_dict[s] = skill_cnt\r\n",
        "        skill_cnt += 1 "
      ],
      "execution_count": 13,
      "outputs": []
    },
    {
      "cell_type": "code",
      "metadata": {
        "colab": {
          "base_uri": "https://localhost:8080/"
        },
        "id": "jPBIzLuN3YWK",
        "outputId": "4fab45d1-2948-4535-bcfd-6def792a6bcd"
      },
      "source": [
        "len(skill_id_dict)"
      ],
      "execution_count": 14,
      "outputs": [
        {
          "output_type": "execute_result",
          "data": {
            "text/plain": [
              "1631"
            ]
          },
          "metadata": {
            "tags": []
          },
          "execution_count": 14
        }
      ]
    },
    {
      "cell_type": "markdown",
      "metadata": {
        "id": "1Tglg_j-MqNO"
      },
      "source": [
        "#### Looking at the processed data in the PEBG repo"
      ]
    },
    {
      "cell_type": "code",
      "metadata": {
        "colab": {
          "base_uri": "https://localhost:8080/"
        },
        "id": "_T3kUB683nBX",
        "outputId": "21581778-3363-465f-e313-771277ca2187"
      },
      "source": [
        "!git clone https://github.com/lyf-1/PEBG.git"
      ],
      "execution_count": 20,
      "outputs": [
        {
          "output_type": "stream",
          "text": [
            "Cloning into 'PEBG'...\n",
            "remote: Enumerating objects: 3, done.\u001b[K\n",
            "remote: Counting objects: 100% (3/3), done.\u001b[K\n",
            "remote: Compressing objects: 100% (3/3), done.\u001b[K\n",
            "remote: Total 50 (delta 0), reused 1 (delta 0), pack-reused 47\u001b[K\n",
            "Unpacking objects: 100% (50/50), done.\n"
          ],
          "name": "stdout"
        }
      ]
    },
    {
      "cell_type": "code",
      "metadata": {
        "id": "Xxmpr5Y1Ltj-"
      },
      "source": [
        "from scipy import sparse"
      ],
      "execution_count": 21,
      "outputs": []
    },
    {
      "cell_type": "code",
      "metadata": {
        "id": "TicHdoIQL8WJ"
      },
      "source": [
        "data_folder = \"PEBG/ednet\""
      ],
      "execution_count": 22,
      "outputs": []
    },
    {
      "cell_type": "markdown",
      "metadata": {
        "id": "DiYtG8ytMvDd"
      },
      "source": [
        "##### Explicit relationship between questions and skills"
      ]
    },
    {
      "cell_type": "code",
      "metadata": {
        "id": "zHFl2lX8L4Pj"
      },
      "source": [
        "pro_skill_coo = sparse.load_npz(os.path.join(data_folder, 'pro_skill_sparse.npz'))"
      ],
      "execution_count": 23,
      "outputs": []
    },
    {
      "cell_type": "code",
      "metadata": {
        "colab": {
          "base_uri": "https://localhost:8080/"
        },
        "id": "LJx6HoxhMD_C",
        "outputId": "d8aeaf17-c065-471a-9664-ba2e49c1369f"
      },
      "source": [
        "pro_skill_coo"
      ],
      "execution_count": 24,
      "outputs": [
        {
          "output_type": "execute_result",
          "data": {
            "text/plain": [
              "<12372x188 sparse matrix of type '<class 'numpy.float32'>'\n",
              "\twith 28158 stored elements in COOrdinate format>"
            ]
          },
          "metadata": {
            "tags": []
          },
          "execution_count": 24
        }
      ]
    },
    {
      "cell_type": "code",
      "metadata": {
        "id": "k7qs0FDVMFZF"
      },
      "source": [
        "pro_skill_dense = pro_skill_coo.toarray()"
      ],
      "execution_count": 25,
      "outputs": []
    },
    {
      "cell_type": "code",
      "metadata": {
        "colab": {
          "base_uri": "https://localhost:8080/"
        },
        "id": "yy4mQ04oMTUS",
        "outputId": "6cfc7848-9676-4352-f1ee-86418e498ede"
      },
      "source": [
        "pro_skill_dense"
      ],
      "execution_count": 27,
      "outputs": [
        {
          "output_type": "execute_result",
          "data": {
            "text/plain": [
              "array([[1., 1., 1., ..., 0., 0., 0.],\n",
              "       [0., 1., 0., ..., 0., 0., 0.],\n",
              "       [0., 1., 1., ..., 0., 0., 0.],\n",
              "       ...,\n",
              "       [0., 0., 0., ..., 0., 0., 0.],\n",
              "       [0., 0., 0., ..., 0., 0., 0.],\n",
              "       [0., 0., 0., ..., 0., 0., 0.]], dtype=float32)"
            ]
          },
          "metadata": {
            "tags": []
          },
          "execution_count": 27
        }
      ]
    },
    {
      "cell_type": "markdown",
      "metadata": {
        "id": "zh5kMWvvMVCa"
      },
      "source": [
        "row index - question_ids, column index - skill ids, cell = 1 where there is a relationship"
      ]
    },
    {
      "cell_type": "markdown",
      "metadata": {
        "id": "0WmfN_IEMm9e"
      },
      "source": [
        "##### Implicit relationship between skills."
      ]
    },
    {
      "cell_type": "code",
      "metadata": {
        "id": "Yb_t9TB4Nv8S"
      },
      "source": [
        "skill_skill_coo = sparse.load_npz(os.path.join(data_folder, 'skill_skill_sparse.npz'))"
      ],
      "execution_count": 28,
      "outputs": []
    },
    {
      "cell_type": "code",
      "metadata": {
        "id": "8jNaQuYONy0i"
      },
      "source": [
        "skill_skill_dense = skill_skill_coo.toarray()"
      ],
      "execution_count": 29,
      "outputs": []
    },
    {
      "cell_type": "code",
      "metadata": {
        "colab": {
          "base_uri": "https://localhost:8080/"
        },
        "id": "5IXA0_RsN2mI",
        "outputId": "a504c74c-7690-45a4-e7ab-869f50efd744"
      },
      "source": [
        "skill_skill_dense"
      ],
      "execution_count": 30,
      "outputs": [
        {
          "output_type": "execute_result",
          "data": {
            "text/plain": [
              "array([[1., 1., 1., ..., 0., 0., 0.],\n",
              "       [1., 1., 1., ..., 0., 0., 0.],\n",
              "       [1., 1., 1., ..., 0., 0., 0.],\n",
              "       ...,\n",
              "       [0., 0., 0., ..., 1., 0., 0.],\n",
              "       [0., 0., 0., ..., 0., 1., 0.],\n",
              "       [0., 0., 0., ..., 0., 0., 1.]], dtype=float32)"
            ]
          },
          "metadata": {
            "tags": []
          },
          "execution_count": 30
        }
      ]
    },
    {
      "cell_type": "code",
      "metadata": {
        "colab": {
          "base_uri": "https://localhost:8080/"
        },
        "id": "KscKEGk1N3n9",
        "outputId": "82ebadfb-dd2c-4bcd-83c3-e30f436856c6"
      },
      "source": [
        "skill_skill_dense.shape"
      ],
      "execution_count": 31,
      "outputs": [
        {
          "output_type": "execute_result",
          "data": {
            "text/plain": [
              "(188, 188)"
            ]
          },
          "metadata": {
            "tags": []
          },
          "execution_count": 31
        }
      ]
    },
    {
      "cell_type": "markdown",
      "metadata": {
        "id": "-HUOmG1gN6J0"
      },
      "source": [
        "##### Implicit relationship between questions."
      ]
    },
    {
      "cell_type": "code",
      "metadata": {
        "id": "5bh1AWS0OCnD"
      },
      "source": [
        "pro_pro_coo = sparse.load_npz(os.path.join(data_folder, 'pro_pro_sparse.npz'))"
      ],
      "execution_count": 32,
      "outputs": []
    },
    {
      "cell_type": "code",
      "metadata": {
        "id": "CF7hX2dQOFfj"
      },
      "source": [
        "pro_pro_dense = pro_pro_coo.toarray()"
      ],
      "execution_count": 33,
      "outputs": []
    },
    {
      "cell_type": "code",
      "metadata": {
        "colab": {
          "base_uri": "https://localhost:8080/"
        },
        "id": "NNPADZ56OHL1",
        "outputId": "5512047b-5067-44bb-a901-a694c7d7bba4"
      },
      "source": [
        "pro_pro_dense.shape"
      ],
      "execution_count": 34,
      "outputs": [
        {
          "output_type": "execute_result",
          "data": {
            "text/plain": [
              "(12372, 12372)"
            ]
          },
          "metadata": {
            "tags": []
          },
          "execution_count": 34
        }
      ]
    },
    {
      "cell_type": "markdown",
      "metadata": {
        "id": "rYlFYCeAOJSk"
      },
      "source": [
        "##### Other extractable features from user interactions about the questions."
      ]
    },
    {
      "cell_type": "code",
      "metadata": {
        "colab": {
          "base_uri": "https://localhost:8080/"
        },
        "id": "iKYsnm53OXEC",
        "outputId": "f04d170a-7072-408e-c044-9777a7d8b3ad"
      },
      "source": [
        "pro_feat = np.load(os.path.join(data_folder, 'pro_feat.npz'))['pro_feat']    # [pro_diff_feat, auxiliary_target]\r\n",
        "print('problem feature shape', pro_feat.shape)"
      ],
      "execution_count": 35,
      "outputs": [
        {
          "output_type": "stream",
          "text": [
            "problem feature shape (12372, 2)\n"
          ],
          "name": "stdout"
        }
      ]
    },
    {
      "cell_type": "code",
      "metadata": {
        "colab": {
          "base_uri": "https://localhost:8080/"
        },
        "id": "waBShOxkOX0H",
        "outputId": "25d13a18-6d42-4dcf-8ee2-1508a93a1cd8"
      },
      "source": [
        "pro_feat"
      ],
      "execution_count": 36,
      "outputs": [
        {
          "output_type": "execute_result",
          "data": {
            "text/plain": [
              "array([[0.03353432, 0.9285648 ],\n",
              "       [0.03931295, 0.94117093],\n",
              "       [0.04576905, 0.5405403 ],\n",
              "       ...,\n",
              "       [0.        , 0.        ],\n",
              "       [0.02945486, 0.9999    ],\n",
              "       [0.        , 0.        ]], dtype=float32)"
            ]
          },
          "metadata": {
            "tags": []
          },
          "execution_count": 36
        }
      ]
    },
    {
      "cell_type": "code",
      "metadata": {
        "colab": {
          "base_uri": "https://localhost:8080/"
        },
        "id": "J77G01DgPFMh",
        "outputId": "6950db39-694a-4403-bf41-e812eb96398a"
      },
      "source": [
        "pro_feat.shape"
      ],
      "execution_count": 37,
      "outputs": [
        {
          "output_type": "execute_result",
          "data": {
            "text/plain": [
              "(12372, 2)"
            ]
          },
          "metadata": {
            "tags": []
          },
          "execution_count": 37
        }
      ]
    },
    {
      "cell_type": "markdown",
      "metadata": {
        "id": "oLCFT2QQOad5"
      },
      "source": [
        "features: \r\n",
        "\r\n",
        "- 0 - avg time it took to answer that question, \r\n",
        "- 1 - percentage of correct user interaction for that question"
      ]
    },
    {
      "cell_type": "markdown",
      "metadata": {
        "id": "UEx-3JPvZhB0"
      },
      "source": [
        ""
      ]
    },
    {
      "cell_type": "code",
      "metadata": {
        "id": "j8mg5p3rPEA4"
      },
      "source": [
        ""
      ],
      "execution_count": null,
      "outputs": []
    }
  ]
}